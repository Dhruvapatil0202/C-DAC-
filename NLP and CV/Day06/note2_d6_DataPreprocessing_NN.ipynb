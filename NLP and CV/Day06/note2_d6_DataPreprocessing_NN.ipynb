{
 "cells": [
  {
   "cell_type": "markdown",
   "id": "57b5b379-9e11-4ab1-a282-d69e3dd9f51c",
   "metadata": {},
   "source": [
    "Import Libraries"
   ]
  },
  {
   "cell_type": "code",
   "execution_count": 5,
   "id": "4142dde2-9851-433e-b82a-20daba5cdf56",
   "metadata": {},
   "outputs": [],
   "source": [
    "# pip install tensorflow"
   ]
  },
  {
   "cell_type": "code",
   "execution_count": 67,
   "id": "246c0f9a-aa91-4fbe-a94a-cb798c2fc8d8",
   "metadata": {},
   "outputs": [],
   "source": [
    "from tensorflow.keras.preprocessing.text import Tokenizer\n",
    "from tensorflow.keras.preprocessing.sequence import pad_sequences"
   ]
  },
  {
   "cell_type": "code",
   "execution_count": 69,
   "id": "8b23d3ba-4cbf-4f2c-ad22-8c57dd484051",
   "metadata": {},
   "outputs": [],
   "source": [
    "lines = ['It was a nice rainy day.', 'The things are so beautifull in his point.', 'When your focus is clear, you won.', 'Many many happy returns of the day.']"
   ]
  },
  {
   "cell_type": "code",
   "execution_count": 73,
   "id": "bc454f7c-f176-4e17-83c0-5b50dda144bb",
   "metadata": {},
   "outputs": [],
   "source": [
    "tokenizer = Tokenizer()\n",
    "tokenizer.fit_on_texts(lines)"
   ]
  },
  {
   "cell_type": "code",
   "execution_count": 71,
   "id": "dcf546bd-0531-4619-aada-f5a2a7dd6275",
   "metadata": {},
   "outputs": [
    {
     "data": {
      "text/plain": [
       "defaultdict(int,\n",
       "            {'a': 1,\n",
       "             'day': 2,\n",
       "             'rainy': 1,\n",
       "             'was': 1,\n",
       "             'nice': 1,\n",
       "             'it': 1,\n",
       "             'things': 1,\n",
       "             'in': 1,\n",
       "             'beautifull': 1,\n",
       "             'are': 1,\n",
       "             'the': 2,\n",
       "             'point': 1,\n",
       "             'his': 1,\n",
       "             'so': 1,\n",
       "             'won': 1,\n",
       "             'focus': 1,\n",
       "             'you': 1,\n",
       "             'your': 1,\n",
       "             'is': 1,\n",
       "             'when': 1,\n",
       "             'clear': 1,\n",
       "             'returns': 1,\n",
       "             'happy': 1,\n",
       "             'of': 1,\n",
       "             'many': 1})"
      ]
     },
     "execution_count": 71,
     "metadata": {},
     "output_type": "execute_result"
    }
   ],
   "source": [
    "tokenizer.word_docs"
   ]
  },
  {
   "cell_type": "code",
   "execution_count": 75,
   "id": "f180f6ea-6dc3-479d-9f74-08a62175b174",
   "metadata": {},
   "outputs": [
    {
     "data": {
      "text/plain": [
       "{1: 'day',\n",
       " 2: 'the',\n",
       " 3: 'many',\n",
       " 4: 'it',\n",
       " 5: 'was',\n",
       " 6: 'a',\n",
       " 7: 'nice',\n",
       " 8: 'rainy',\n",
       " 9: 'things',\n",
       " 10: 'are',\n",
       " 11: 'so',\n",
       " 12: 'beautifull',\n",
       " 13: 'in',\n",
       " 14: 'his',\n",
       " 15: 'point',\n",
       " 16: 'when',\n",
       " 17: 'your',\n",
       " 18: 'focus',\n",
       " 19: 'is',\n",
       " 20: 'clear',\n",
       " 21: 'you',\n",
       " 22: 'won',\n",
       " 23: 'happy',\n",
       " 24: 'returns',\n",
       " 25: 'of'}"
      ]
     },
     "execution_count": 75,
     "metadata": {},
     "output_type": "execute_result"
    }
   ],
   "source": [
    "tokenizer.index_word"
   ]
  },
  {
   "cell_type": "code",
   "execution_count": 77,
   "id": "efbdbbd7-15bc-4787-8e51-1651d35d4702",
   "metadata": {},
   "outputs": [
    {
     "data": {
      "text/plain": [
       "{'day': 1,\n",
       " 'the': 2,\n",
       " 'many': 3,\n",
       " 'it': 4,\n",
       " 'was': 5,\n",
       " 'a': 6,\n",
       " 'nice': 7,\n",
       " 'rainy': 8,\n",
       " 'things': 9,\n",
       " 'are': 10,\n",
       " 'so': 11,\n",
       " 'beautifull': 12,\n",
       " 'in': 13,\n",
       " 'his': 14,\n",
       " 'point': 15,\n",
       " 'when': 16,\n",
       " 'your': 17,\n",
       " 'focus': 18,\n",
       " 'is': 19,\n",
       " 'clear': 20,\n",
       " 'you': 21,\n",
       " 'won': 22,\n",
       " 'happy': 23,\n",
       " 'returns': 24,\n",
       " 'of': 25}"
      ]
     },
     "execution_count": 77,
     "metadata": {},
     "output_type": "execute_result"
    }
   ],
   "source": [
    "tokenizer.word_index"
   ]
  },
  {
   "cell_type": "code",
   "execution_count": 79,
   "id": "8d1251ba-edfd-4400-9595-bb100bcac3a9",
   "metadata": {},
   "outputs": [
    {
     "data": {
      "text/plain": [
       "array([[0., 1., 0., 0., 1., 1., 1., 1., 1., 0., 0., 0., 0., 0., 0., 0.,\n",
       "        0., 0., 0., 0., 0., 0., 0., 0., 0., 0.],\n",
       "       [0., 0., 1., 0., 0., 0., 0., 0., 0., 1., 1., 1., 1., 1., 1., 1.,\n",
       "        0., 0., 0., 0., 0., 0., 0., 0., 0., 0.],\n",
       "       [0., 0., 0., 0., 0., 0., 0., 0., 0., 0., 0., 0., 0., 0., 0., 0.,\n",
       "        1., 1., 1., 1., 1., 1., 1., 0., 0., 0.],\n",
       "       [0., 1., 1., 1., 0., 0., 0., 0., 0., 0., 0., 0., 0., 0., 0., 0.,\n",
       "        0., 0., 0., 0., 0., 0., 0., 1., 1., 1.]])"
      ]
     },
     "execution_count": 79,
     "metadata": {},
     "output_type": "execute_result"
    }
   ],
   "source": [
    "mat = tokenizer.texts_to_matrix(lines)\n",
    "mat"
   ]
  },
  {
   "cell_type": "code",
   "execution_count": 81,
   "id": "2e75ed2e-5c77-4be6-ac31-3e5065334459",
   "metadata": {},
   "outputs": [
    {
     "data": {
      "text/plain": [
       "(4, 26)"
      ]
     },
     "execution_count": 81,
     "metadata": {},
     "output_type": "execute_result"
    }
   ],
   "source": [
    "mat.shape"
   ]
  },
  {
   "cell_type": "code",
   "execution_count": 83,
   "id": "10e4c20b-9aa5-4486-a0bb-c572566491d5",
   "metadata": {},
   "outputs": [],
   "source": [
    "seq = tokenizer.texts_to_sequences(lines)"
   ]
  },
  {
   "cell_type": "code",
   "execution_count": 85,
   "id": "26c0a7b6-e5e6-4c8f-957b-041e712351a9",
   "metadata": {},
   "outputs": [
    {
     "data": {
      "text/plain": [
       "[[4, 5, 6, 7, 8, 1],\n",
       " [2, 9, 10, 11, 12, 13, 14, 15],\n",
       " [16, 17, 18, 19, 20, 21, 22],\n",
       " [3, 3, 23, 24, 25, 2, 1]]"
      ]
     },
     "execution_count": 85,
     "metadata": {},
     "output_type": "execute_result"
    }
   ],
   "source": [
    "seq"
   ]
  },
  {
   "cell_type": "code",
   "execution_count": 87,
   "id": "e68c8c96-5c66-4978-9570-a21aed081cb9",
   "metadata": {},
   "outputs": [],
   "source": [
    "padded = pad_sequences(seq, maxlen = 10, padding = 'post')"
   ]
  },
  {
   "cell_type": "code",
   "execution_count": 89,
   "id": "37412c02-5391-4575-96c9-77084a1d3f63",
   "metadata": {},
   "outputs": [
    {
     "data": {
      "text/plain": [
       "array([[ 4,  5,  6,  7,  8,  1,  0,  0,  0,  0],\n",
       "       [ 2,  9, 10, 11, 12, 13, 14, 15,  0,  0],\n",
       "       [16, 17, 18, 19, 20, 21, 22,  0,  0,  0],\n",
       "       [ 3,  3, 23, 24, 25,  2,  1,  0,  0,  0]])"
      ]
     },
     "execution_count": 89,
     "metadata": {},
     "output_type": "execute_result"
    }
   ],
   "source": [
    "padded"
   ]
  },
  {
   "cell_type": "code",
   "execution_count": null,
   "id": "ed0d2872-1281-4fd8-b000-cc09abbb0f84",
   "metadata": {},
   "outputs": [],
   "source": []
  }
 ],
 "metadata": {
  "kernelspec": {
   "display_name": "Python 3 (ipykernel)",
   "language": "python",
   "name": "python3"
  },
  "language_info": {
   "codemirror_mode": {
    "name": "ipython",
    "version": 3
   },
   "file_extension": ".py",
   "mimetype": "text/x-python",
   "name": "python",
   "nbconvert_exporter": "python",
   "pygments_lexer": "ipython3",
   "version": "3.12.4"
  }
 },
 "nbformat": 4,
 "nbformat_minor": 5
}
