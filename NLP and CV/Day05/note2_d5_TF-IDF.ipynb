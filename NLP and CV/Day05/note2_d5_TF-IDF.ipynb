{
 "cells": [
  {
   "cell_type": "code",
   "execution_count": 1,
   "id": "0ec85a54-bb06-4341-ba65-78092cc4f3ff",
   "metadata": {},
   "outputs": [],
   "source": [
    "sentence_1 = 'It is a good practice for us'\n",
    "sentence_2 = 'It was also good to know about it.' "
   ]
  },
  {
   "cell_type": "code",
   "execution_count": 5,
   "id": "4cbcab47-94d1-4929-bb56-a1359e887c52",
   "metadata": {},
   "outputs": [],
   "source": [
    "from nltk.tokenize import word_tokenize\n",
    "import pandas as pd"
   ]
  },
  {
   "cell_type": "code",
   "execution_count": 7,
   "id": "e087d17d-e89b-4731-b22e-266846943b9b",
   "metadata": {},
   "outputs": [],
   "source": [
    "from sklearn.feature_extraction.text import TfidfVectorizer"
   ]
  },
  {
   "cell_type": "code",
   "execution_count": 9,
   "id": "22056ec1-9890-40dc-b0ad-460a561901d8",
   "metadata": {},
   "outputs": [],
   "source": [
    "tfidf = TfidfVectorizer()"
   ]
  },
  {
   "cell_type": "code",
   "execution_count": 11,
   "id": "f471731c-5951-4e2e-97cd-12c92640428f",
   "metadata": {},
   "outputs": [],
   "source": [
    "x_new = tfidf.fit_transform([sentence_1, sentence_2])"
   ]
  },
  {
   "cell_type": "code",
   "execution_count": 13,
   "id": "5ef1d800-58bc-4a99-a343-844dac573b04",
   "metadata": {},
   "outputs": [
    {
     "data": {
      "text/plain": [
       "array([[0.        , 0.        , 0.44665616, 0.31779954, 0.44665616,\n",
       "        0.31779954, 0.        , 0.44665616, 0.        , 0.44665616,\n",
       "        0.        ],\n",
       "       [0.36439074, 0.36439074, 0.        , 0.25926702, 0.        ,\n",
       "        0.51853403, 0.36439074, 0.        , 0.36439074, 0.        ,\n",
       "        0.36439074]])"
      ]
     },
     "execution_count": 13,
     "metadata": {},
     "output_type": "execute_result"
    }
   ],
   "source": [
    "x_new.toarray()"
   ]
  },
  {
   "cell_type": "code",
   "execution_count": 15,
   "id": "035e1a3a-8f33-4dc3-941c-04ccc15d46bd",
   "metadata": {},
   "outputs": [],
   "source": [
    "df = pd.DataFrame(data = x_new.toarray(), columns = tfidf.get_feature_names_out())"
   ]
  },
  {
   "cell_type": "code",
   "execution_count": 17,
   "id": "57edbba2-40fa-41f2-84ce-c7ee77259f88",
   "metadata": {},
   "outputs": [
    {
     "data": {
      "text/html": [
       "<div>\n",
       "<style scoped>\n",
       "    .dataframe tbody tr th:only-of-type {\n",
       "        vertical-align: middle;\n",
       "    }\n",
       "\n",
       "    .dataframe tbody tr th {\n",
       "        vertical-align: top;\n",
       "    }\n",
       "\n",
       "    .dataframe thead th {\n",
       "        text-align: right;\n",
       "    }\n",
       "</style>\n",
       "<table border=\"1\" class=\"dataframe\">\n",
       "  <thead>\n",
       "    <tr style=\"text-align: right;\">\n",
       "      <th></th>\n",
       "      <th>about</th>\n",
       "      <th>also</th>\n",
       "      <th>for</th>\n",
       "      <th>good</th>\n",
       "      <th>is</th>\n",
       "      <th>it</th>\n",
       "      <th>know</th>\n",
       "      <th>practice</th>\n",
       "      <th>to</th>\n",
       "      <th>us</th>\n",
       "      <th>was</th>\n",
       "    </tr>\n",
       "  </thead>\n",
       "  <tbody>\n",
       "    <tr>\n",
       "      <th>0</th>\n",
       "      <td>0.000000</td>\n",
       "      <td>0.000000</td>\n",
       "      <td>0.446656</td>\n",
       "      <td>0.317800</td>\n",
       "      <td>0.446656</td>\n",
       "      <td>0.317800</td>\n",
       "      <td>0.000000</td>\n",
       "      <td>0.446656</td>\n",
       "      <td>0.000000</td>\n",
       "      <td>0.446656</td>\n",
       "      <td>0.000000</td>\n",
       "    </tr>\n",
       "    <tr>\n",
       "      <th>1</th>\n",
       "      <td>0.364391</td>\n",
       "      <td>0.364391</td>\n",
       "      <td>0.000000</td>\n",
       "      <td>0.259267</td>\n",
       "      <td>0.000000</td>\n",
       "      <td>0.518534</td>\n",
       "      <td>0.364391</td>\n",
       "      <td>0.000000</td>\n",
       "      <td>0.364391</td>\n",
       "      <td>0.000000</td>\n",
       "      <td>0.364391</td>\n",
       "    </tr>\n",
       "  </tbody>\n",
       "</table>\n",
       "</div>"
      ],
      "text/plain": [
       "      about      also       for      good        is        it      know  \\\n",
       "0  0.000000  0.000000  0.446656  0.317800  0.446656  0.317800  0.000000   \n",
       "1  0.364391  0.364391  0.000000  0.259267  0.000000  0.518534  0.364391   \n",
       "\n",
       "   practice        to        us       was  \n",
       "0  0.446656  0.000000  0.446656  0.000000  \n",
       "1  0.000000  0.364391  0.000000  0.364391  "
      ]
     },
     "execution_count": 17,
     "metadata": {},
     "output_type": "execute_result"
    }
   ],
   "source": [
    "df"
   ]
  },
  {
   "cell_type": "code",
   "execution_count": null,
   "id": "175fd42e-60d8-496e-8351-c8d67c4581c9",
   "metadata": {},
   "outputs": [],
   "source": []
  },
  {
   "cell_type": "code",
   "execution_count": 20,
   "id": "6fb39e63-1c63-4b8e-982c-c36eb0875831",
   "metadata": {},
   "outputs": [],
   "source": [
    "with open('sample_sentences.txt', 'r') as file:\n",
    "    sentences = file.read()"
   ]
  },
  {
   "cell_type": "code",
   "execution_count": 26,
   "id": "a4b6db59-00f5-43bd-8e08-49d6cd87c9b5",
   "metadata": {},
   "outputs": [
    {
     "name": "stdout",
     "output_type": "stream",
     "text": [
      "Can you please pass me the salt?\n",
      "I will meet you at the park in 30 minutes.\n",
      "I need to finish this word before the deadline.\n",
      "What tie does the movie start tonight?\n",
      "Please do not forget to lock the door when you leave.\n"
     ]
    }
   ],
   "source": [
    "print(sentences)"
   ]
  },
  {
   "cell_type": "code",
   "execution_count": 28,
   "id": "e36c6be3-74dc-47e0-a96f-2b298b3d8986",
   "metadata": {},
   "outputs": [],
   "source": [
    "tfidf = TfidfVectorizer()"
   ]
  },
  {
   "cell_type": "code",
   "execution_count": 32,
   "id": "799ff3ed-419c-4de5-abf5-ff304226f090",
   "metadata": {},
   "outputs": [],
   "source": [
    "x_new = tfidf.fit_transform(sentences.split(\"\\n\"))"
   ]
  },
  {
   "cell_type": "code",
   "execution_count": 34,
   "id": "c86bef85-6e20-4724-8341-d0a8bca69152",
   "metadata": {},
   "outputs": [
    {
     "data": {
      "text/plain": [
       "array([[0.        , 0.        , 0.        , 0.43329089, 0.        ,\n",
       "        0.        , 0.        , 0.        , 0.        , 0.        ,\n",
       "        0.        , 0.        , 0.        , 0.43329089, 0.        ,\n",
       "        0.        , 0.        , 0.        , 0.        , 0.        ,\n",
       "        0.43329089, 0.34957636, 0.43329089, 0.        , 0.20646543,\n",
       "        0.        , 0.        , 0.        , 0.        , 0.        ,\n",
       "        0.        , 0.        , 0.        , 0.29017996],\n",
       "       [0.36094801, 0.36094801, 0.        , 0.        , 0.        ,\n",
       "        0.        , 0.        , 0.        , 0.        , 0.        ,\n",
       "        0.36094801, 0.        , 0.        , 0.        , 0.36094801,\n",
       "        0.36094801, 0.        , 0.        , 0.        , 0.36094801,\n",
       "        0.        , 0.        , 0.        , 0.        , 0.17199366,\n",
       "        0.        , 0.        , 0.        , 0.        , 0.        ,\n",
       "        0.        , 0.36094801, 0.        , 0.24173109],\n",
       "       [0.        , 0.        , 0.38130259, 0.        , 0.38130259,\n",
       "        0.        , 0.        , 0.        , 0.38130259, 0.        ,\n",
       "        0.        , 0.        , 0.        , 0.        , 0.        ,\n",
       "        0.        , 0.        , 0.38130259, 0.        , 0.        ,\n",
       "        0.        , 0.        , 0.        , 0.        , 0.18169273,\n",
       "        0.38130259, 0.        , 0.30763253, 0.        , 0.        ,\n",
       "        0.        , 0.        , 0.38130259, 0.        ],\n",
       "       [0.        , 0.        , 0.        , 0.        , 0.        ,\n",
       "        0.        , 0.40073619, 0.        , 0.        , 0.        ,\n",
       "        0.        , 0.        , 0.        , 0.        , 0.        ,\n",
       "        0.        , 0.40073619, 0.        , 0.        , 0.        ,\n",
       "        0.        , 0.        , 0.        , 0.40073619, 0.19095294,\n",
       "        0.        , 0.40073619, 0.        , 0.40073619, 0.40073619,\n",
       "        0.        , 0.        , 0.        , 0.        ],\n",
       "       [0.        , 0.        , 0.        , 0.        , 0.        ,\n",
       "        0.33375258, 0.        , 0.33375258, 0.        , 0.33375258,\n",
       "        0.        , 0.33375258, 0.33375258, 0.        , 0.        ,\n",
       "        0.        , 0.        , 0.        , 0.33375258, 0.        ,\n",
       "        0.        , 0.26926948, 0.        , 0.        , 0.15903489,\n",
       "        0.        , 0.        , 0.26926948, 0.        , 0.        ,\n",
       "        0.33375258, 0.        , 0.        , 0.22351799]])"
      ]
     },
     "execution_count": 34,
     "metadata": {},
     "output_type": "execute_result"
    }
   ],
   "source": [
    "x_new.toarray()"
   ]
  },
  {
   "cell_type": "code",
   "execution_count": 36,
   "id": "90ec51b6-15eb-44f7-9cc3-3404e9dcae78",
   "metadata": {},
   "outputs": [],
   "source": [
    "df = pd.DataFrame(data = x_new.toarray(), columns = tfidf.get_feature_names_out())"
   ]
  },
  {
   "cell_type": "code",
   "execution_count": 38,
   "id": "8cb68fb3-0f88-47bf-a520-7d930bbaf659",
   "metadata": {},
   "outputs": [
    {
     "data": {
      "text/html": [
       "<div>\n",
       "<style scoped>\n",
       "    .dataframe tbody tr th:only-of-type {\n",
       "        vertical-align: middle;\n",
       "    }\n",
       "\n",
       "    .dataframe tbody tr th {\n",
       "        vertical-align: top;\n",
       "    }\n",
       "\n",
       "    .dataframe thead th {\n",
       "        text-align: right;\n",
       "    }\n",
       "</style>\n",
       "<table border=\"1\" class=\"dataframe\">\n",
       "  <thead>\n",
       "    <tr style=\"text-align: right;\">\n",
       "      <th></th>\n",
       "      <th>30</th>\n",
       "      <th>at</th>\n",
       "      <th>before</th>\n",
       "      <th>can</th>\n",
       "      <th>deadline</th>\n",
       "      <th>do</th>\n",
       "      <th>does</th>\n",
       "      <th>door</th>\n",
       "      <th>finish</th>\n",
       "      <th>forget</th>\n",
       "      <th>...</th>\n",
       "      <th>the</th>\n",
       "      <th>this</th>\n",
       "      <th>tie</th>\n",
       "      <th>to</th>\n",
       "      <th>tonight</th>\n",
       "      <th>what</th>\n",
       "      <th>when</th>\n",
       "      <th>will</th>\n",
       "      <th>word</th>\n",
       "      <th>you</th>\n",
       "    </tr>\n",
       "  </thead>\n",
       "  <tbody>\n",
       "    <tr>\n",
       "      <th>0</th>\n",
       "      <td>0.000000</td>\n",
       "      <td>0.000000</td>\n",
       "      <td>0.000000</td>\n",
       "      <td>0.433291</td>\n",
       "      <td>0.000000</td>\n",
       "      <td>0.000000</td>\n",
       "      <td>0.000000</td>\n",
       "      <td>0.000000</td>\n",
       "      <td>0.000000</td>\n",
       "      <td>0.000000</td>\n",
       "      <td>...</td>\n",
       "      <td>0.206465</td>\n",
       "      <td>0.000000</td>\n",
       "      <td>0.000000</td>\n",
       "      <td>0.000000</td>\n",
       "      <td>0.000000</td>\n",
       "      <td>0.000000</td>\n",
       "      <td>0.000000</td>\n",
       "      <td>0.000000</td>\n",
       "      <td>0.000000</td>\n",
       "      <td>0.290180</td>\n",
       "    </tr>\n",
       "    <tr>\n",
       "      <th>1</th>\n",
       "      <td>0.360948</td>\n",
       "      <td>0.360948</td>\n",
       "      <td>0.000000</td>\n",
       "      <td>0.000000</td>\n",
       "      <td>0.000000</td>\n",
       "      <td>0.000000</td>\n",
       "      <td>0.000000</td>\n",
       "      <td>0.000000</td>\n",
       "      <td>0.000000</td>\n",
       "      <td>0.000000</td>\n",
       "      <td>...</td>\n",
       "      <td>0.171994</td>\n",
       "      <td>0.000000</td>\n",
       "      <td>0.000000</td>\n",
       "      <td>0.000000</td>\n",
       "      <td>0.000000</td>\n",
       "      <td>0.000000</td>\n",
       "      <td>0.000000</td>\n",
       "      <td>0.360948</td>\n",
       "      <td>0.000000</td>\n",
       "      <td>0.241731</td>\n",
       "    </tr>\n",
       "    <tr>\n",
       "      <th>2</th>\n",
       "      <td>0.000000</td>\n",
       "      <td>0.000000</td>\n",
       "      <td>0.381303</td>\n",
       "      <td>0.000000</td>\n",
       "      <td>0.381303</td>\n",
       "      <td>0.000000</td>\n",
       "      <td>0.000000</td>\n",
       "      <td>0.000000</td>\n",
       "      <td>0.381303</td>\n",
       "      <td>0.000000</td>\n",
       "      <td>...</td>\n",
       "      <td>0.181693</td>\n",
       "      <td>0.381303</td>\n",
       "      <td>0.000000</td>\n",
       "      <td>0.307633</td>\n",
       "      <td>0.000000</td>\n",
       "      <td>0.000000</td>\n",
       "      <td>0.000000</td>\n",
       "      <td>0.000000</td>\n",
       "      <td>0.381303</td>\n",
       "      <td>0.000000</td>\n",
       "    </tr>\n",
       "    <tr>\n",
       "      <th>3</th>\n",
       "      <td>0.000000</td>\n",
       "      <td>0.000000</td>\n",
       "      <td>0.000000</td>\n",
       "      <td>0.000000</td>\n",
       "      <td>0.000000</td>\n",
       "      <td>0.000000</td>\n",
       "      <td>0.400736</td>\n",
       "      <td>0.000000</td>\n",
       "      <td>0.000000</td>\n",
       "      <td>0.000000</td>\n",
       "      <td>...</td>\n",
       "      <td>0.190953</td>\n",
       "      <td>0.000000</td>\n",
       "      <td>0.400736</td>\n",
       "      <td>0.000000</td>\n",
       "      <td>0.400736</td>\n",
       "      <td>0.400736</td>\n",
       "      <td>0.000000</td>\n",
       "      <td>0.000000</td>\n",
       "      <td>0.000000</td>\n",
       "      <td>0.000000</td>\n",
       "    </tr>\n",
       "    <tr>\n",
       "      <th>4</th>\n",
       "      <td>0.000000</td>\n",
       "      <td>0.000000</td>\n",
       "      <td>0.000000</td>\n",
       "      <td>0.000000</td>\n",
       "      <td>0.000000</td>\n",
       "      <td>0.333753</td>\n",
       "      <td>0.000000</td>\n",
       "      <td>0.333753</td>\n",
       "      <td>0.000000</td>\n",
       "      <td>0.333753</td>\n",
       "      <td>...</td>\n",
       "      <td>0.159035</td>\n",
       "      <td>0.000000</td>\n",
       "      <td>0.000000</td>\n",
       "      <td>0.269269</td>\n",
       "      <td>0.000000</td>\n",
       "      <td>0.000000</td>\n",
       "      <td>0.333753</td>\n",
       "      <td>0.000000</td>\n",
       "      <td>0.000000</td>\n",
       "      <td>0.223518</td>\n",
       "    </tr>\n",
       "  </tbody>\n",
       "</table>\n",
       "<p>5 rows × 34 columns</p>\n",
       "</div>"
      ],
      "text/plain": [
       "         30        at    before       can  deadline        do      does  \\\n",
       "0  0.000000  0.000000  0.000000  0.433291  0.000000  0.000000  0.000000   \n",
       "1  0.360948  0.360948  0.000000  0.000000  0.000000  0.000000  0.000000   \n",
       "2  0.000000  0.000000  0.381303  0.000000  0.381303  0.000000  0.000000   \n",
       "3  0.000000  0.000000  0.000000  0.000000  0.000000  0.000000  0.400736   \n",
       "4  0.000000  0.000000  0.000000  0.000000  0.000000  0.333753  0.000000   \n",
       "\n",
       "       door    finish    forget  ...       the      this       tie        to  \\\n",
       "0  0.000000  0.000000  0.000000  ...  0.206465  0.000000  0.000000  0.000000   \n",
       "1  0.000000  0.000000  0.000000  ...  0.171994  0.000000  0.000000  0.000000   \n",
       "2  0.000000  0.381303  0.000000  ...  0.181693  0.381303  0.000000  0.307633   \n",
       "3  0.000000  0.000000  0.000000  ...  0.190953  0.000000  0.400736  0.000000   \n",
       "4  0.333753  0.000000  0.333753  ...  0.159035  0.000000  0.000000  0.269269   \n",
       "\n",
       "    tonight      what      when      will      word       you  \n",
       "0  0.000000  0.000000  0.000000  0.000000  0.000000  0.290180  \n",
       "1  0.000000  0.000000  0.000000  0.360948  0.000000  0.241731  \n",
       "2  0.000000  0.000000  0.000000  0.000000  0.381303  0.000000  \n",
       "3  0.400736  0.400736  0.000000  0.000000  0.000000  0.000000  \n",
       "4  0.000000  0.000000  0.333753  0.000000  0.000000  0.223518  \n",
       "\n",
       "[5 rows x 34 columns]"
      ]
     },
     "execution_count": 38,
     "metadata": {},
     "output_type": "execute_result"
    }
   ],
   "source": [
    "df"
   ]
  },
  {
   "cell_type": "code",
   "execution_count": null,
   "id": "1e196c8d-28eb-46f8-a7a0-dee3b9a0f060",
   "metadata": {},
   "outputs": [],
   "source": []
  }
 ],
 "metadata": {
  "kernelspec": {
   "display_name": "Python (surprise)",
   "language": "python",
   "name": "surprise"
  },
  "language_info": {
   "codemirror_mode": {
    "name": "ipython",
    "version": 3
   },
   "file_extension": ".py",
   "mimetype": "text/x-python",
   "name": "python",
   "nbconvert_exporter": "python",
   "pygments_lexer": "ipython3",
   "version": "3.12.7"
  }
 },
 "nbformat": 4,
 "nbformat_minor": 5
}
