{
 "cells": [
  {
   "cell_type": "code",
   "execution_count": 11,
   "id": "b8b139a8-034b-44af-8a21-504030c74ce7",
   "metadata": {},
   "outputs": [],
   "source": [
    "sent = \"They told that their ages are 25 26 and 31 respectively.\""
   ]
  },
  {
   "cell_type": "code",
   "execution_count": 13,
   "id": "051c8df0-5320-4b21-8049-6d743fb15b23",
   "metadata": {},
   "outputs": [],
   "source": [
    "def get_avg(string):\n",
    "    words = string.split(\" \")\n",
    "    sum, count = 0, 0\n",
    "    for word in words:\n",
    "        if word.isdigit():\n",
    "            sum += int(word)\n",
    "            count += 1\n",
    "        # print(sum, count)\n",
    "    return sum / count"
   ]
  },
  {
   "cell_type": "code",
   "execution_count": 15,
   "id": "40b80e5c-9b6c-4faf-9866-db9326c01105",
   "metadata": {},
   "outputs": [
    {
     "name": "stdout",
     "output_type": "stream",
     "text": [
      "0 0\n",
      "0 0\n",
      "0 0\n",
      "0 0\n",
      "0 0\n",
      "0 0\n",
      "25 1\n",
      "51 2\n",
      "51 2\n",
      "82 3\n",
      "82 3\n"
     ]
    },
    {
     "data": {
      "text/plain": [
       "27.333333333333332"
      ]
     },
     "execution_count": 15,
     "metadata": {},
     "output_type": "execute_result"
    }
   ],
   "source": [
    "get_avg(sent)"
   ]
  }
 ],
 "metadata": {
  "kernelspec": {
   "display_name": "Python 3 (ipykernel)",
   "language": "python",
   "name": "python3"
  },
  "language_info": {
   "codemirror_mode": {
    "name": "ipython",
    "version": 3
   },
   "file_extension": ".py",
   "mimetype": "text/x-python",
   "name": "python",
   "nbconvert_exporter": "python",
   "pygments_lexer": "ipython3",
   "version": "3.12.4"
  }
 },
 "nbformat": 4,
 "nbformat_minor": 5
}
