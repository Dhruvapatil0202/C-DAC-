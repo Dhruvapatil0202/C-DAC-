{
 "cells": [
  {
   "cell_type": "code",
   "execution_count": 25,
   "id": "b8b139a8-034b-44af-8a21-504030c74ce7",
   "metadata": {},
   "outputs": [],
   "source": [
    "sent = \"They told that their ages are 25, 26, and 31 respectively.\""
   ]
  },
  {
   "cell_type": "code",
   "execution_count": 31,
   "id": "051c8df0-5320-4b21-8049-6d743fb15b23",
   "metadata": {},
   "outputs": [],
   "source": [
    "def get_avg(string):\n",
    "    words = string.split(\" \")\n",
    "    sum, count = 0, 0\n",
    "    for word in words:\n",
    "        word = word.strip(\"!?,.\\'\\\"\")\n",
    "        if word.isdigit():\n",
    "            sum += int(word)\n",
    "            count += 1\n",
    "        # print(sum, count)\n",
    "    return sum / count"
   ]
  },
  {
   "cell_type": "code",
   "execution_count": 29,
   "id": "40b80e5c-9b6c-4faf-9866-db9326c01105",
   "metadata": {},
   "outputs": [
    {
     "data": {
      "text/plain": [
       "27.333333333333332"
      ]
     },
     "execution_count": 29,
     "metadata": {},
     "output_type": "execute_result"
    }
   ],
   "source": [
    "get_avg(sent)"
   ]
  },
  {
   "cell_type": "code",
   "execution_count": 33,
   "id": "077c666d-a135-40eb-9a4b-7f4c17a3e1af",
   "metadata": {},
   "outputs": [
    {
     "name": "stdout",
     "output_type": "stream",
     "text": [
      "अजय\n",
      "विजय\n"
     ]
    }
   ],
   "source": [
    "names = ['अजय', 'विजय', \"प्रिया\", \"अतुल\"]\n",
    "for name in names:\n",
    "    if name.endswith(\"य\"):\n",
    "        print(name)"
   ]
  },
  {
   "cell_type": "code",
   "execution_count": 35,
   "id": "7dca9237-e9c4-40ac-8fe0-43fd73c46364",
   "metadata": {},
   "outputs": [
    {
     "data": {
      "text/plain": [
       "'अजय विजय प्रिया अतुल'"
      ]
     },
     "execution_count": 35,
     "metadata": {},
     "output_type": "execute_result"
    }
   ],
   "source": [
    "\" \".join(names)"
   ]
  },
  {
   "cell_type": "code",
   "execution_count": 41,
   "id": "0537bf35-3d6b-4592-ac9b-705f80df8472",
   "metadata": {},
   "outputs": [
    {
     "data": {
      "text/plain": [
       "(6, 'प्रिया')"
      ]
     },
     "execution_count": 41,
     "metadata": {},
     "output_type": "execute_result"
    }
   ],
   "source": [
    "len(names[2]), names[2]\n",
    "\n"
   ]
  },
  {
   "cell_type": "code",
   "execution_count": 49,
   "id": "c13cf96a-b2e0-46a7-b1b4-b5b06f2e7eca",
   "metadata": {},
   "outputs": [],
   "source": [
    "with open(\"names.txt\", 'w', encoding = \"utf8\") as f:\n",
    "    for i in range(100):\n",
    "        f.write(\"प्रिया\\n\")"
   ]
  },
  {
   "cell_type": "code",
   "execution_count": 51,
   "id": "6ed6a438-3506-4b9f-a3a4-7a07edbc1898",
   "metadata": {},
   "outputs": [
    {
     "name": "stdout",
     "output_type": "stream",
     "text": [
      "प 2346\n",
      "् 2381\n",
      "र 2352\n",
      "ि 2367\n",
      "य 2351\n",
      "ा 2366\n"
     ]
    }
   ],
   "source": [
    "for ch in \"प्रिया\":\n",
    "    print(ch, ord(ch))"
   ]
  },
  {
   "cell_type": "code",
   "execution_count": 53,
   "id": "04b360be-f32a-4497-9ee6-a86680894d6e",
   "metadata": {},
   "outputs": [
    {
     "data": {
      "text/plain": [
       "'हप'"
      ]
     },
     "execution_count": 53,
     "metadata": {},
     "output_type": "execute_result"
    }
   ],
   "source": [
    "x = \"\\u0939\\u092A\" # Hexadecimal numbers, # indian scripts start from \\u0900 onwards\n",
    "x"
   ]
  },
  {
   "cell_type": "code",
   "execution_count": 55,
   "id": "94ff7646-b78f-44eb-8e05-393c53b8c6d3",
   "metadata": {},
   "outputs": [],
   "source": [
    "emoji = \"😊😂🤣❤️\""
   ]
  },
  {
   "cell_type": "code",
   "execution_count": 60,
   "id": "1b0b9b95-f327-4881-af86-614515e822ad",
   "metadata": {},
   "outputs": [
    {
     "data": {
      "text/plain": [
       "('😊', 128522)"
      ]
     },
     "execution_count": 60,
     "metadata": {},
     "output_type": "execute_result"
    }
   ],
   "source": [
    "emoji[0], ord(emoji[0])"
   ]
  },
  {
   "cell_type": "code",
   "execution_count": null,
   "id": "384e9faa-6309-41a4-962b-c8284a52e726",
   "metadata": {},
   "outputs": [],
   "source": []
  }
 ],
 "metadata": {
  "kernelspec": {
   "display_name": "Python 3 (ipykernel)",
   "language": "python",
   "name": "python3"
  },
  "language_info": {
   "codemirror_mode": {
    "name": "ipython",
    "version": 3
   },
   "file_extension": ".py",
   "mimetype": "text/x-python",
   "name": "python",
   "nbconvert_exporter": "python",
   "pygments_lexer": "ipython3",
   "version": "3.12.4"
  }
 },
 "nbformat": 4,
 "nbformat_minor": 5
}
