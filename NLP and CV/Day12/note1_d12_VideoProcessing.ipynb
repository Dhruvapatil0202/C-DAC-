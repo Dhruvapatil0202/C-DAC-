{
 "cells": [
  {
   "cell_type": "code",
   "execution_count": 1,
   "id": "7821ef39-27d2-401a-9370-45223755cd36",
   "metadata": {},
   "outputs": [],
   "source": [
    "import cv2\n",
    "import matplotlib.pyplot as plt"
   ]
  },
  {
   "cell_type": "code",
   "execution_count": 29,
   "id": "f5e3bda0-5e4e-434e-9383-ee3d90426c5f",
   "metadata": {},
   "outputs": [],
   "source": [
    "# used to open the video file for processing using OpenCV\n",
    "vid = cv2.VideoCapture('nature.mp4')"
   ]
  },
  {
   "cell_type": "code",
   "execution_count": 28,
   "id": "9e0a7688-2a00-460c-a54a-ec8093fb861c",
   "metadata": {},
   "outputs": [],
   "source": [
    "ret, frame = vid.read()"
   ]
  },
  {
   "cell_type": "code",
   "execution_count": 4,
   "id": "c7dc7349-6fd1-40cb-bea7-99533a0a2fb9",
   "metadata": {},
   "outputs": [
    {
     "data": {
      "text/plain": [
       "True"
      ]
     },
     "execution_count": 4,
     "metadata": {},
     "output_type": "execute_result"
    }
   ],
   "source": [
    "ret"
   ]
  },
  {
   "cell_type": "code",
   "execution_count": 5,
   "id": "cd4e4adc-0dd9-4e78-bd2b-da15a9e22646",
   "metadata": {},
   "outputs": [],
   "source": [
    "cv2.imshow('Frame', frame)\n",
    "cv2.waitKey(0)\n",
    "cv2.destroyAllWindows()"
   ]
  },
  {
   "cell_type": "code",
   "execution_count": 8,
   "id": "6abead98-b736-48f1-8a98-bbd8a29dba33",
   "metadata": {},
   "outputs": [
    {
     "data": {
      "text/plain": [
       "(720, 1270, 3)"
      ]
     },
     "execution_count": 8,
     "metadata": {},
     "output_type": "execute_result"
    }
   ],
   "source": [
    "frame.shape"
   ]
  },
  {
   "cell_type": "code",
   "execution_count": 9,
   "id": "76039c73-f62b-4660-a19f-a60dae461b84",
   "metadata": {
    "scrolled": true
   },
   "outputs": [
    {
     "data": {
      "text/plain": [
       "array([[[ 48,  49,  44],\n",
       "        [ 41,  42,  37],\n",
       "        [ 38,  39,  34],\n",
       "        ...,\n",
       "        [255, 255, 255],\n",
       "        [255, 255, 255],\n",
       "        [255, 255, 255]],\n",
       "\n",
       "       [[ 43,  44,  39],\n",
       "        [ 37,  38,  33],\n",
       "        [ 32,  33,  28],\n",
       "        ...,\n",
       "        [255, 255, 255],\n",
       "        [255, 255, 255],\n",
       "        [255, 255, 255]],\n",
       "\n",
       "       [[ 40,  41,  36],\n",
       "        [ 36,  37,  32],\n",
       "        [ 30,  31,  26],\n",
       "        ...,\n",
       "        [255, 255, 255],\n",
       "        [255, 255, 255],\n",
       "        [255, 255, 255]],\n",
       "\n",
       "       ...,\n",
       "\n",
       "       [[ 32,  31,  25],\n",
       "        [ 26,  25,  19],\n",
       "        [ 26,  25,  19],\n",
       "        ...,\n",
       "        [ 27,  23,  19],\n",
       "        [ 27,  23,  19],\n",
       "        [ 28,  24,  20]],\n",
       "\n",
       "       [[ 32,  31,  25],\n",
       "        [ 26,  25,  19],\n",
       "        [ 26,  25,  19],\n",
       "        ...,\n",
       "        [ 27,  23,  19],\n",
       "        [ 27,  23,  19],\n",
       "        [ 28,  24,  20]],\n",
       "\n",
       "       [[ 32,  31,  25],\n",
       "        [ 26,  25,  19],\n",
       "        [ 26,  25,  19],\n",
       "        ...,\n",
       "        [ 27,  23,  19],\n",
       "        [ 27,  23,  19],\n",
       "        [ 28,  24,  20]]], dtype=uint8)"
      ]
     },
     "execution_count": 9,
     "metadata": {},
     "output_type": "execute_result"
    }
   ],
   "source": [
    "frame"
   ]
  },
  {
   "cell_type": "code",
   "execution_count": 12,
   "id": "6c527e15-4aff-4056-9d09-ee465b027bee",
   "metadata": {},
   "outputs": [],
   "source": [
    "width = int(vid.get(cv2.CAP_PROP_FRAME_WIDTH))\n",
    "height = int(vid.get(cv2.CAP_PROP_FRAME_HEIGHT))\n",
    "frames = int(vid.get(cv2.CAP_PROP_FRAME_COUNT))\n",
    "fps = int(vid.get(cv2.CAP_PROP_FPS))"
   ]
  },
  {
   "cell_type": "code",
   "execution_count": 13,
   "id": "9abe3ff5-72c3-4633-8801-b5cd7113fa55",
   "metadata": {},
   "outputs": [
    {
     "name": "stdout",
     "output_type": "stream",
     "text": [
      "Video Resolution: (720, 1270)\n",
      "Total Frames: 1409\n",
      "FPS: 26\n"
     ]
    }
   ],
   "source": [
    "print('Video Resolution:', (height, width))\n",
    "print('Total Frames:', frames)\n",
    "print('FPS:', fps)"
   ]
  },
  {
   "cell_type": "code",
   "execution_count": 14,
   "id": "a8688bc3-1f4c-4524-ae3b-6db32034f538",
   "metadata": {},
   "outputs": [
    {
     "data": {
      "text/plain": [
       "54.19230769230769"
      ]
     },
     "execution_count": 14,
     "metadata": {},
     "output_type": "execute_result"
    }
   ],
   "source": [
    "frames/fps"
   ]
  },
  {
   "cell_type": "code",
   "execution_count": 17,
   "id": "454fbbb5-b410-4e27-989d-066eafa33fe0",
   "metadata": {},
   "outputs": [],
   "source": [
    "# vid = cv2.VideoCapture('nature.mp4')\n",
    "# while True:\n",
    "#     ret, frame = vid.read()\n",
    "#     if not ret:\n",
    "#         break\n",
    "#     cv2.imshow('Nature Video', frame)\n",
    "#     if cv2.waitKey(5) == ord('q'):\n",
    "#         break\n",
    "\n",
    "# cv2.destroyAllWindows()"
   ]
  },
  {
   "cell_type": "code",
   "execution_count": 16,
   "id": "3c8752a9-39b8-4cff-8687-0682c2e8f9a8",
   "metadata": {},
   "outputs": [],
   "source": [
    "# Save the frames\n",
    "\n",
    "vid = cv2.VideoCapture('nature.mp4')\n",
    "count = 1\n",
    "while True:\n",
    "    ret, frame = vid.read()\n",
    "    if not ret:\n",
    "        break\n",
    "    cv2.imwrite('image_frames/%d.jpg' %count, frame)\n",
    "    count += 1\n",
    "\n",
    "cv2.destroyAllWindows()"
   ]
  },
  {
   "cell_type": "code",
   "execution_count": 19,
   "id": "878606da-e116-4c01-b2a2-26a7b1a12646",
   "metadata": {},
   "outputs": [],
   "source": [
    "times = '00:00:35.00'"
   ]
  },
  {
   "cell_type": "code",
   "execution_count": 20,
   "id": "7642ab34-9dbe-4675-8c74-aad4e15ccef1",
   "metadata": {},
   "outputs": [
    {
     "data": {
      "text/plain": [
       "['00', '00', '35.00']"
      ]
     },
     "execution_count": 20,
     "metadata": {},
     "output_type": "execute_result"
    }
   ],
   "source": [
    "times.split(':')"
   ]
  },
  {
   "cell_type": "code",
   "execution_count": 21,
   "id": "f5127b27-8814-48cb-b6ce-32d1e75217eb",
   "metadata": {},
   "outputs": [],
   "source": [
    "hrs, mins, secs = times.split(':')"
   ]
  },
  {
   "cell_type": "code",
   "execution_count": 22,
   "id": "58af9c83-ac36-44e3-827f-79db7b457459",
   "metadata": {},
   "outputs": [],
   "source": [
    "trigger_frame = int(hrs) * 3600 * fps + int(mins) * 60 * fps + float(secs) * fps"
   ]
  },
  {
   "cell_type": "code",
   "execution_count": 23,
   "id": "b52fd5d2-9821-4f86-809d-683d0df5d92f",
   "metadata": {},
   "outputs": [
    {
     "data": {
      "text/plain": [
       "910.0"
      ]
     },
     "execution_count": 23,
     "metadata": {},
     "output_type": "execute_result"
    }
   ],
   "source": [
    "trigger_frame"
   ]
  },
  {
   "cell_type": "code",
   "execution_count": 24,
   "id": "111e7936-34f6-482c-82b1-afa18a7968de",
   "metadata": {},
   "outputs": [
    {
     "name": "stdout",
     "output_type": "stream",
     "text": [
      "Help on built-in function set:\n",
      "\n",
      "set(...) method of cv2.VideoCapture instance\n",
      "    set(propId, value) -> retval\n",
      "    .   @brief Sets a property in the VideoCapture.\n",
      "    .\n",
      "    .       @param propId Property identifier from cv::VideoCaptureProperties (eg. cv::CAP_PROP_POS_MSEC, cv::CAP_PROP_POS_FRAMES, ...)\n",
      "    .       or one from @ref videoio_flags_others\n",
      "    .       @param value Value of the property.\n",
      "    .       @return `true` if the property is supported by backend used by the VideoCapture instance.\n",
      "    .       @note Even if it returns `true` this doesn't ensure that the property\n",
      "    .       value has been accepted by the capture device. See note in VideoCapture::get()\n",
      "\n"
     ]
    }
   ],
   "source": [
    "help(vid.set)"
   ]
  },
  {
   "cell_type": "code",
   "execution_count": 25,
   "id": "a0e68c2c-c0ba-4656-a5fe-59f6a2ff3127",
   "metadata": {},
   "outputs": [
    {
     "data": {
      "text/plain": [
       "True"
      ]
     },
     "execution_count": 25,
     "metadata": {},
     "output_type": "execute_result"
    }
   ],
   "source": [
    "vid.set(1, trigger_frame)"
   ]
  },
  {
   "cell_type": "code",
   "execution_count": 26,
   "id": "8ee327a9-5702-4fda-9da2-64ddd23121c2",
   "metadata": {},
   "outputs": [],
   "source": [
    "ret, frame = vid.read()\n",
    "cv2.imshow('Frame', frame)\n",
    "cv2.waitKey(0)\n",
    "cv2.destroyAllWindows()"
   ]
  },
  {
   "cell_type": "code",
   "execution_count": 30,
   "id": "6107f2b5-9561-418f-93d0-34fd0c69e5c4",
   "metadata": {},
   "outputs": [],
   "source": [
    "# Capture using Camera\n",
    "vid = cv2.VideoCapture(0)"
   ]
  },
  {
   "cell_type": "code",
   "execution_count": 31,
   "id": "3abf56b6-1808-402e-921d-c60aa8ec2889",
   "metadata": {},
   "outputs": [
    {
     "data": {
      "text/plain": [
       "False"
      ]
     },
     "execution_count": 31,
     "metadata": {},
     "output_type": "execute_result"
    }
   ],
   "source": [
    "vid.isOpened()"
   ]
  },
  {
   "cell_type": "code",
   "execution_count": 32,
   "id": "deed1622-40ec-4e09-b564-02cafb70e7f9",
   "metadata": {},
   "outputs": [],
   "source": [
    "vid.release()"
   ]
  },
  {
   "cell_type": "code",
   "execution_count": null,
   "id": "93fe014e-0534-4ff6-8a3c-3c1f09c2b255",
   "metadata": {},
   "outputs": [],
   "source": [
    "vid = cv2.VideoCapture('nature.mp4')\n",
    "while True:\n",
    "    ret, frame = vid.read()\n",
    "    if not ret:\n",
    "        break\n",
    "    cv2.imshow('Nature Video', frame)\n",
    "    if cv2.waitKey(5) == ord('q'):\n",
    "        break\n",
    "\n",
    "cv2.destroyAllWindows()"
   ]
  }
 ],
 "metadata": {
  "kernelspec": {
   "display_name": "Python 3 (ipykernel)",
   "language": "python",
   "name": "python3"
  },
  "language_info": {
   "codemirror_mode": {
    "name": "ipython",
    "version": 3
   },
   "file_extension": ".py",
   "mimetype": "text/x-python",
   "name": "python",
   "nbconvert_exporter": "python",
   "pygments_lexer": "ipython3",
   "version": "3.12.4"
  }
 },
 "nbformat": 4,
 "nbformat_minor": 5
}
