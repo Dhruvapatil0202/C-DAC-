{
 "cells": [
  {
   "cell_type": "code",
   "execution_count": 1,
   "id": "d9cca6b6-c6aa-4bc9-b131-edd92e6b25a0",
   "metadata": {},
   "outputs": [
    {
     "name": "stderr",
     "output_type": "stream",
     "text": [
      "[nltk_data] Downloading package wordnet to\n",
      "[nltk_data]     C:\\Users\\DAI.STUDENTSDC\\AppData\\Roaming\\nltk_data...\n",
      "[nltk_data]   Package wordnet is already up-to-date!\n"
     ]
    },
    {
     "data": {
      "text/plain": [
       "True"
      ]
     },
     "execution_count": 1,
     "metadata": {},
     "output_type": "execute_result"
    }
   ],
   "source": [
    "import nltk\n",
    "nltk.download(\"wordnet\")"
   ]
  },
  {
   "cell_type": "code",
   "execution_count": 2,
   "id": "2d613bf7-1dcf-4b50-a1bb-7f02dd8961b0",
   "metadata": {},
   "outputs": [],
   "source": [
    "from nltk.corpus import wordnet\n",
    "x = wordnet.synsets(\"create\")"
   ]
  },
  {
   "cell_type": "code",
   "execution_count": 3,
   "id": "80f82bf7-5e19-483d-9f25-811673d33752",
   "metadata": {},
   "outputs": [
    {
     "data": {
      "text/plain": [
       "[Synset('make.v.03'),\n",
       " Synset('create.v.02'),\n",
       " Synset('create.v.03'),\n",
       " Synset('create.v.04'),\n",
       " Synset('create.v.05'),\n",
       " Synset('produce.v.02')]"
      ]
     },
     "execution_count": 3,
     "metadata": {},
     "output_type": "execute_result"
    }
   ],
   "source": [
    "x\n",
    "\n"
   ]
  },
  {
   "cell_type": "code",
   "execution_count": 4,
   "id": "c29f7a47-769c-42b3-b973-5f87deb6cf39",
   "metadata": {},
   "outputs": [
    {
     "data": {
      "text/plain": [
       "{'create', 'make', 'produce'}"
      ]
     },
     "execution_count": 4,
     "metadata": {},
     "output_type": "execute_result"
    }
   ],
   "source": [
    "synonyms = set()\n",
    "for word in wordnet.synsets(\"create\"):\n",
    "    synonyms.add(word.lemmas()[0].name())\n",
    "synonyms"
   ]
  },
  {
   "cell_type": "code",
   "execution_count": 5,
   "id": "57697006-97e9-46e8-9d91-aa5d97a5977d",
   "metadata": {},
   "outputs": [
    {
     "data": {
      "text/plain": [
       "'create'"
      ]
     },
     "execution_count": 5,
     "metadata": {},
     "output_type": "execute_result"
    }
   ],
   "source": [
    "wordnet.synsets(\"create\")[2].lemmas()[0].name()\n"
   ]
  },
  {
   "cell_type": "code",
   "execution_count": 6,
   "id": "217ceca5-0973-4e59-861d-8ca97c069fb3",
   "metadata": {},
   "outputs": [
    {
     "name": "stdout",
     "output_type": "stream",
     "text": [
      "Word and Type :  post.n.01\n",
      "Synonym :  post\n",
      "The meaning of the word :  the position where someone (as a guard or sentry) stands or is assigned to stand\n",
      "Example:  ['a soldier manned the entrance post', 'a sentry station']\n"
     ]
    }
   ],
   "source": [
    "synset = wordnet.synsets(\"post\")\n",
    "print(\"Word and Type : \", synset[0].name())\n",
    "print(\"Synonym : \", synset[0].lemmas()[0].name())\n",
    "print(\"The meaning of the word : \", synset[0].definition())\n",
    "print(\"Example: \", str(synset[0].examples()))"
   ]
  },
  {
   "cell_type": "markdown",
   "id": "c91aa7a0-d4d7-4b82-9342-b35451f018ab",
   "metadata": {},
   "source": [
    "# Read a word from input and print all meanings of it\n",
    "# Read a word from input and print all noun meanings of it.\n"
   ]
  },
  {
   "cell_type": "code",
   "execution_count": 31,
   "id": "cd54078e-ba43-4ead-8932-bea3cc6d5ae1",
   "metadata": {},
   "outputs": [
    {
     "name": "stdin",
     "output_type": "stream",
     "text": [
      "Enter a word:  Hello\n"
     ]
    },
    {
     "name": "stdout",
     "output_type": "stream",
     "text": [
      "hello.n.01  ->  an expression of greeting\n"
     ]
    }
   ],
   "source": [
    "word = input(\"Enter a word: \")\n",
    "synst = wordnet.synsets(word)\n",
    "# vars(synst[0])\n",
    "for meaning in synst:\n",
    "    print(meaning.name(), \" -> \", meaning.definition())\n",
    "    "
   ]
  },
  {
   "cell_type": "code",
   "execution_count": 9,
   "id": "a6a3e27a-d6e9-493d-88c2-058ce7cf37c2",
   "metadata": {},
   "outputs": [
    {
     "name": "stdin",
     "output_type": "stream",
     "text": [
      "Enter a word:  Car\n"
     ]
    },
    {
     "name": "stdout",
     "output_type": "stream",
     "text": [
      "car.n.01  ->  a motor vehicle with four wheels; usually propelled by an internal combustion engine\n",
      "car.n.02  ->  a wheeled vehicle adapted to the rails of railroad\n",
      "car.n.03  ->  the compartment that is suspended from an airship and that carries personnel and the cargo and the power plant\n",
      "car.n.04  ->  where passengers ride up and down\n",
      "cable_car.n.01  ->  a conveyance for passengers or freight on a cable railway\n"
     ]
    }
   ],
   "source": [
    "word = input(\"Enter a word: \")\n",
    "synst = wordnet.synsets(word, pos = \"n\")\n",
    "# vars(synst[0])\n",
    "for meaning in synst:\n",
    "    print(meaning.name(), \" -> \", meaning.definition())"
   ]
  },
  {
   "cell_type": "markdown",
   "id": "3a961f6f-57da-407c-9722-1098903a3681",
   "metadata": {},
   "source": [
    "##### Different forms of the meanings\n"
   ]
  },
  {
   "cell_type": "code",
   "execution_count": 33,
   "id": "81359bbc-c7fc-4cd7-b34a-9f40a466caef",
   "metadata": {},
   "outputs": [],
   "source": [
    "verbs = set()\n",
    "nouns = set()\n",
    "adj = set()\n",
    "\n",
    "for word in wordnet.synsets(\"sound\", pos = \"n\"):\n",
    "    nouns.add(word.lemmas()[0].name())\n",
    "for word in wordnet.synsets(\"sound\", pos = \"v\"):\n",
    "    verbs.add(word.lemmas()[0].name())\n",
    "for word in wordnet.synsets(\"sound\", pos = \"a\"):\n",
    "    adj.add(word.lemmas()[0].name())"
   ]
  },
  {
   "cell_type": "code",
   "execution_count": 12,
   "id": "9c9afffb-528f-4834-9252-c59849ef0e87",
   "metadata": {},
   "outputs": [
    {
     "data": {
      "text/plain": [
       "{'fathom', 'sound', 'voice'}"
      ]
     },
     "execution_count": 12,
     "metadata": {},
     "output_type": "execute_result"
    }
   ],
   "source": [
    "verbs"
   ]
  },
  {
   "cell_type": "code",
   "execution_count": 14,
   "id": "b71473aa-f6b1-4a7b-bb48-b76471ee8a81",
   "metadata": {},
   "outputs": [
    {
     "data": {
      "text/plain": [
       "{'audio', 'phone', 'sound', 'strait'}"
      ]
     },
     "execution_count": 14,
     "metadata": {},
     "output_type": "execute_result"
    }
   ],
   "source": [
    "nouns"
   ]
  },
  {
   "cell_type": "code",
   "execution_count": 15,
   "id": "47540a01-db48-4bc3-bbd1-303e27689563",
   "metadata": {},
   "outputs": [
    {
     "data": {
      "text/plain": [
       "{'good', 'healthy', 'heavy', 'legal', 'reasoned', 'sound'}"
      ]
     },
     "execution_count": 15,
     "metadata": {},
     "output_type": "execute_result"
    }
   ],
   "source": [
    "adj"
   ]
  },
  {
   "cell_type": "code",
   "execution_count": 16,
   "id": "ce16e617-9514-4566-a08b-f39cc90c8f32",
   "metadata": {},
   "outputs": [],
   "source": [
    "# Finding Antonyms"
   ]
  },
  {
   "cell_type": "code",
   "execution_count": 17,
   "id": "67c2449c-0189-4fab-bc17-fa3bba0953c9",
   "metadata": {},
   "outputs": [
    {
     "name": "stdout",
     "output_type": "stream",
     "text": [
      "possible  ->  ['impossible']\n",
      "potential  ->  ['actual']\n"
     ]
    }
   ],
   "source": [
    "ant = {}\n",
    "for synset in wordnet.synsets(\"possible\"):\n",
    "    for lemma in synset.lemmas():\n",
    "        if lemma.antonyms():\n",
    "            ant[lemma.name()] = [ent.name() for ent in lemma.antonyms()]\n",
    "            # ant.add(lemma.antonyms()[0].name())\n",
    "for key, val in ant.items():\n",
    "    print(key, \" -> \", val)\n"
   ]
  },
  {
   "cell_type": "code",
   "execution_count": null,
   "id": "a3717ba0-e734-4947-8e2d-a1e5d11eeeeb",
   "metadata": {},
   "outputs": [],
   "source": [
    "# Finding Hypernyms"
   ]
  },
  {
   "cell_type": "code",
   "execution_count": 76,
   "id": "00cb3cd8-e75b-4c37-af19-114fdfd793e8",
   "metadata": {},
   "outputs": [],
   "source": [
    "hyp = {}\n",
    "for synset in wordnet.synsets(\"air\"):\n",
    "    for lemma in synset.lemmas():\n",
    "        if lemma.hypernyms():\n",
    "            hyp[lemma.name()] = [ent.name() for ent in lemma.hypernyms()]\n",
    "            # ant.add(lemma.antonyms()[0].name())\n",
    "for key, val in hyp.items():\n",
    "    print(key, \" -> \", val)"
   ]
  },
  {
   "cell_type": "code",
   "execution_count": 78,
   "id": "54aecf09-76c4-4546-99b4-f2fb8e4b2080",
   "metadata": {},
   "outputs": [
    {
     "name": "stdout",
     "output_type": "stream",
     "text": [
      "air is a hyponym of gas.n.02\n",
      "air is a hyponym of region.n.01\n",
      "air is a hyponym of quality.n.01\n",
      "air is a hyponym of wind.n.01\n",
      "air is a hyponym of region.n.01\n",
      "air is a hyponym of element.n.05\n",
      "air is a hyponym of music.n.01\n",
      "air is a hyponym of medium.n.03\n",
      "air is a hyponym of travel.n.01\n",
      "air is a hyponym of expose.v.01\n",
      "air is a hyponym of publicize.v.01\n",
      "air is a hyponym of tell.v.02\n",
      "air is a hyponym of dry.v.01\n",
      "air is a hyponym of refresh.v.02\n"
     ]
    }
   ],
   "source": [
    "word = \"air\"\n",
    "synsets = wordnet.synsets(word)\n",
    "\n",
    "for synset in synsets:\n",
    "    hypernyms = synset.hypernyms()\n",
    "    if hypernyms:\n",
    "        for hypernym in hypernyms:\n",
    "            print(f\"{word} is a hyponym of {hypernym.name()}\")"
   ]
  },
  {
   "cell_type": "markdown",
   "id": "d643fb42-bf09-40f2-95ab-3440329dd0ea",
   "metadata": {},
   "source": [
    "Find Meronyms"
   ]
  },
  {
   "cell_type": "code",
   "execution_count": 85,
   "id": "ca79eaf6-0b28-41cd-a183-fa0b760b0e47",
   "metadata": {},
   "outputs": [
    {
     "name": "stdout",
     "output_type": "stream",
     "text": [
      "car has a meronym automobile_horn.n.01\n",
      "car has a meronym rear_window.n.01\n",
      "car has a meronym buffer.n.06\n",
      "car has a meronym fender.n.01\n",
      "car has a meronym glove_compartment.n.01\n",
      "car has a meronym floorboard.n.02\n",
      "car has a meronym car_window.n.01\n",
      "car has a meronym grille.n.02\n",
      "car has a meronym accelerator.n.01\n",
      "car has a meronym car_mirror.n.01\n",
      "car has a meronym first_gear.n.01\n",
      "car has a meronym stabilizer_bar.n.01\n",
      "car has a meronym bumper.n.02\n",
      "car has a meronym car_door.n.01\n",
      "car has a meronym reverse.n.02\n",
      "car has a meronym car_seat.n.01\n",
      "car has a meronym high_gear.n.01\n",
      "car has a meronym window.n.02\n",
      "car has a meronym third_gear.n.01\n",
      "car has a meronym tail_fin.n.02\n",
      "car has a meronym running_board.n.01\n",
      "car has a meronym air_bag.n.01\n",
      "car has a meronym automobile_engine.n.01\n",
      "car has a meronym hood.n.09\n",
      "car has a meronym luggage_compartment.n.01\n",
      "car has a meronym roof.n.02\n",
      "car has a meronym gasoline_engine.n.01\n",
      "car has a meronym auto_accessory.n.01\n",
      "car has a meronym sunroof.n.01\n",
      "car has a meronym suspension.n.05\n"
     ]
    }
   ],
   "source": [
    "word = \"car\"\n",
    "synsets = wordnet.synsets(word)\n",
    "\n",
    "for synset in synsets:\n",
    "    # Get member meronyms (component parts)\n",
    "    meronyms = synset.part_meronyms()\n",
    "\n",
    "    # Check if there are any meronyms\n",
    "    if meronyms:\n",
    "        # Print meronyms (can access name property for text)\n",
    "        for meronym in meronyms:\n",
    "            print(f\"{word} has a meronym {meronym.name()}\")"
   ]
  },
  {
   "cell_type": "code",
   "execution_count": null,
   "id": "f32bf0f3-38a6-4d43-8a1a-b3ca1b4a61ca",
   "metadata": {},
   "outputs": [],
   "source": []
  }
 ],
 "metadata": {
  "kernelspec": {
   "display_name": "Python (surprise)",
   "language": "python",
   "name": "surprise"
  },
  "language_info": {
   "codemirror_mode": {
    "name": "ipython",
    "version": 3
   },
   "file_extension": ".py",
   "mimetype": "text/x-python",
   "name": "python",
   "nbconvert_exporter": "python",
   "pygments_lexer": "ipython3",
   "version": "3.12.7"
  }
 },
 "nbformat": 4,
 "nbformat_minor": 5
}
