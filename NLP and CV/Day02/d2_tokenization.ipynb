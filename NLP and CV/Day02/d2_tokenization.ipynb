{
 "cells": [
  {
   "cell_type": "code",
   "execution_count": null,
   "id": "5e4880bc-508b-4123-8bdb-7cfd288a827f",
   "metadata": {},
   "outputs": [],
   "source": []
  },
  {
   "cell_type": "markdown",
   "id": "cabb59fe-0b36-413c-a701-19792eedcded",
   "metadata": {},
   "source": [
    "### Word Tokenization"
   ]
  },
  {
   "cell_type": "code",
   "execution_count": 29,
   "id": "1e334720-cfda-47b4-909b-7cbfde9d8b01",
   "metadata": {},
   "outputs": [],
   "source": [
    "from nltk.tokenize import word_tokenize"
   ]
  },
  {
   "cell_type": "code",
   "execution_count": 23,
   "id": "ee3d95af-fc79-466a-8ca0-ce8ab1e75292",
   "metadata": {},
   "outputs": [],
   "source": [
    "sents = \"लंडन (इंग्लिश: En-uk-London.ogg London ) हे इंग्लंडचे व युनायटेड किंग्डमचे राजधानीचे व सर्वात मोठे शहर तसेच युरोपियन संघामधील सर्वात मोठे महानगर क्षेत्र आहे. थेम्स नदीच्या काठावर वसलेल्या ह्या शहराला २,००० पेक्षा जास्त वर्षांचा इतिहास आहे. लंडन हे अर्थ, कला आणि उद्योग या क्षेत्रांमध्ये जगातील एक प्रमुख शहर आहे. न्यू यॉर्क शहर व टोकियोसोबत लंडन हे जगातील सर्वात शक्तिशाली आर्थिक केंद्र मानले जाते.[१][२][३]. तसेच युरोपातील सर्वात मोठे अर्थव्यवस्था असलेले शहर हा मान देखील लंडनकडेच जातो.[४] जगातील सर्वाधिक आंतरराष्ट्रीय पर्यटक लंडनमध्ये येतात[५] तसेच लंडन हीथ्रो विमानतळ हा आंतरराष्ट्रीय प्रवासी वाहतूकीसाठी जगातील सर्वात मोठा विमानतळ आहे.[६]. २०१२ सालच्या ऑलिंपिक स्पर्धा लंडनमध्ये भरवल्या गेल्या. ह्या स्पर्धांचे तिसऱ्यांदा आयोजन करणारे लंडन हे जगातील एकमेव शहर आहे. जुलै २०१० मध्ये ७८,२५,२०० इतकी लोकसंख्या असलेले लंडन युरोपामधील सर्वाधिक लोकसंख्येचे शहर होते.[७] ग्रेटर लंडनची लोकसंख्या ८२,७८,२५१ तर लंडन महानगर क्षेत्राची लोकसंख्या अंदाजे १.२ ते १.४ कोटी आहे.[८] लंडन शहराच्या समाजरचनेत कमालीचे वैविध्य आढळते. लंडन परिसरात ३०० भाषा बोलल्या जातात. सध्या लंडन परिसरात राहणारे ६.६ टक्के लोक भारतीय वंशाचे आहेत.\""
   ]
  },
  {
   "cell_type": "code",
   "execution_count": 19,
   "id": "4e0179a3-cca1-44c9-9c8e-b2f6317c95ed",
   "metadata": {},
   "outputs": [
    {
     "data": {
      "text/plain": [
       "'लंडन (इंग्लिश: En-uk-London.ogg London ) हे इंग्लंडचे व युनायटेड किंग्डमचे राजधानीचे व सर्वात मोठे शहर तसेच युरोपियन संघामधील सर्वात मोठे महानगर क्षेत्र आहे. थेम्स नदीच्या काठावर वसलेल्या ह्या शहराला २,००० पेक्षा जास्त वर्षांचा इतिहास आहे. लंडन हे अर्थ, कला आणि उद्योग या क्षेत्रांमध्ये जगातील एक प्रमुख शहर आहे. न्यू यॉर्क शहर व टोकियोसोबत लंडन हे जगातील सर्वात शक्तिशाली आर्थिक केंद्र मानले जाते.[१][२][३]. तसेच युरोपातील सर्वात मोठे अर्थव्यवस्था असलेले शहर हा मान देखील लंडनकडेच जातो.[४] जगातील सर्वाधिक आंतरराष्ट्रीय पर्यटक लंडनमध्ये येतात[५] तसेच लंडन हीथ्रो विमानतळ हा आंतरराष्ट्रीय प्रवासी वाहतूकीसाठी जगातील सर्वात मोठा विमानतळ आहे.[६]. २०१२ सालच्या ऑलिंपिक स्पर्धा लंडनमध्ये भरवल्या गेल्या. ह्या स्पर्धांचे तिसऱ्यांदा आयोजन करणारे लंडन हे जगातील एकमेव शहर आहे. जुलै २०१० मध्ये ७८,२५,२०० इतकी लोकसंख्या असलेले लंडन युरोपामधील सर्वाधिक लोकसंख्येचे शहर होते.[७] ग्रेटर लंडनची लोकसंख्या ८२,७८,२५१ तर लंडन महानगर क्षेत्राची लोकसंख्या अंदाजे १.२ ते १.४ कोटी आहे.[८] लंडन शहराच्या समाजरचनेत कमालीचे वैविध्य आढळते. लंडन परिसरात ३०० भाषा बोलल्या जातात. सध्या लंडन परिसरात राहणारे ६.६ टक्के लोक भारतीय वंशाचे आहेत.'"
      ]
     },
     "execution_count": 19,
     "metadata": {},
     "output_type": "execute_result"
    }
   ],
   "source": [
    "sents"
   ]
  },
  {
   "cell_type": "code",
   "execution_count": 35,
   "id": "3827ec85-4382-4f07-84b6-2452380678a7",
   "metadata": {},
   "outputs": [],
   "source": [
    "tokens = word_tokenize(sents)"
   ]
  },
  {
   "cell_type": "code",
   "execution_count": 37,
   "id": "24890669-87d0-4e85-a164-6b99c80365e3",
   "metadata": {},
   "outputs": [
    {
     "data": {
      "text/plain": [
       "['लंडन',\n",
       " '(',\n",
       " 'इंग्लिश',\n",
       " ':',\n",
       " 'En-uk-London.ogg',\n",
       " ')',\n",
       " 'हे',\n",
       " 'इंग्लंडचे',\n",
       " 'युनायटेड',\n",
       " 'किंग्डमचे',\n",
       " 'राजधानीचे',\n",
       " 'सर्वात',\n",
       " 'मोठे',\n",
       " 'तसेच',\n",
       " 'युरोपियन',\n",
       " 'संघामधील',\n",
       " 'सर्वात',\n",
       " 'मोठे',\n",
       " 'महानगर',\n",
       " 'क्षेत्र',\n",
       " 'आहे',\n",
       " '.',\n",
       " 'थेम्स',\n",
       " 'नदीच्या',\n",
       " 'काठावर',\n",
       " 'वसलेल्या',\n",
       " 'ह्या',\n",
       " 'शहराला',\n",
       " '२,०००',\n",
       " 'पेक्षा',\n",
       " 'जास्त',\n",
       " 'वर्षांचा',\n",
       " 'इतिहास',\n",
       " 'आहे',\n",
       " '.',\n",
       " 'लंडन',\n",
       " 'हे',\n",
       " 'अर्थ',\n",
       " ',',\n",
       " 'कला',\n",
       " 'आणि',\n",
       " 'उद्योग',\n",
       " 'या',\n",
       " 'क्षेत्रांमध्ये',\n",
       " 'जगातील',\n",
       " 'प्रमुख',\n",
       " 'आहे',\n",
       " '.',\n",
       " 'न्यू',\n",
       " 'यॉर्क',\n",
       " 'टोकियोसोबत',\n",
       " 'लंडन',\n",
       " 'हे',\n",
       " 'जगातील',\n",
       " 'सर्वात',\n",
       " 'शक्तिशाली',\n",
       " 'आर्थिक',\n",
       " 'केंद्र',\n",
       " 'मानले',\n",
       " 'जाते.',\n",
       " '[',\n",
       " ']',\n",
       " '[',\n",
       " ']',\n",
       " '[',\n",
       " ']',\n",
       " '.',\n",
       " 'तसेच',\n",
       " 'युरोपातील',\n",
       " 'सर्वात',\n",
       " 'मोठे',\n",
       " 'अर्थव्यवस्था',\n",
       " 'असलेले',\n",
       " 'हा',\n",
       " 'मान',\n",
       " 'देखील',\n",
       " 'लंडनकडेच',\n",
       " 'जातो',\n",
       " '.',\n",
       " '[',\n",
       " ']',\n",
       " 'जगातील',\n",
       " 'सर्वाधिक',\n",
       " 'आंतरराष्ट्रीय',\n",
       " 'पर्यटक',\n",
       " 'लंडनमध्ये',\n",
       " 'येतात',\n",
       " '[',\n",
       " ']',\n",
       " 'तसेच',\n",
       " 'लंडन',\n",
       " 'हीथ्रो',\n",
       " 'विमानतळ',\n",
       " 'हा',\n",
       " 'आंतरराष्ट्रीय',\n",
       " 'प्रवासी',\n",
       " 'वाहतूकीसाठी',\n",
       " 'जगातील',\n",
       " 'सर्वात',\n",
       " 'मोठा',\n",
       " 'विमानतळ',\n",
       " 'आहे.',\n",
       " '[',\n",
       " ']',\n",
       " '.',\n",
       " 'सालच्या',\n",
       " 'ऑलिंपिक',\n",
       " 'स्पर्धा',\n",
       " 'लंडनमध्ये',\n",
       " 'भरवल्या',\n",
       " 'गेल्या',\n",
       " '.',\n",
       " 'ह्या',\n",
       " 'स्पर्धांचे',\n",
       " 'तिसऱ्यांदा',\n",
       " 'आयोजन',\n",
       " 'करणारे',\n",
       " 'लंडन',\n",
       " 'हे',\n",
       " 'जगातील',\n",
       " 'एकमेव',\n",
       " 'आहे',\n",
       " '.',\n",
       " 'जुलै',\n",
       " 'मध्ये',\n",
       " '७८,२५,२००',\n",
       " 'इतकी',\n",
       " 'लोकसंख्या',\n",
       " 'असलेले',\n",
       " 'लंडन',\n",
       " 'युरोपामधील',\n",
       " 'सर्वाधिक',\n",
       " 'लोकसंख्येचे',\n",
       " 'होते',\n",
       " '.',\n",
       " '[',\n",
       " ']',\n",
       " 'ग्रेटर',\n",
       " 'लंडनची',\n",
       " 'लोकसंख्या',\n",
       " '८२,७८,२५१',\n",
       " 'लंडन',\n",
       " 'महानगर',\n",
       " 'क्षेत्राची',\n",
       " 'लोकसंख्या',\n",
       " 'अंदाजे',\n",
       " '१.२',\n",
       " 'ते',\n",
       " '१.४',\n",
       " 'कोटी',\n",
       " 'आहे',\n",
       " '.',\n",
       " '[',\n",
       " ']',\n",
       " 'लंडन',\n",
       " 'शहराच्या',\n",
       " 'समाजरचनेत',\n",
       " 'कमालीचे',\n",
       " 'वैविध्य',\n",
       " 'आढळते',\n",
       " '.',\n",
       " 'लंडन',\n",
       " 'परिसरात',\n",
       " 'भाषा',\n",
       " 'बोलल्या',\n",
       " 'जातात',\n",
       " '.',\n",
       " 'सध्या',\n",
       " 'लंडन',\n",
       " 'परिसरात',\n",
       " 'राहणारे',\n",
       " '६.६',\n",
       " 'टक्के',\n",
       " 'लोक',\n",
       " 'भारतीय',\n",
       " 'वंशाचे',\n",
       " 'आहेत',\n",
       " '.']"
      ]
     },
     "execution_count": 37,
     "metadata": {},
     "output_type": "execute_result"
    }
   ],
   "source": [
    "count = [word for word in tokens if not word.isalpha() and not word.isdigit()]\n",
    "count"
   ]
  },
  {
   "cell_type": "markdown",
   "id": "a94b0704-8807-4485-a721-a2e550da421d",
   "metadata": {},
   "source": [
    "### Sentence tokenization"
   ]
  },
  {
   "cell_type": "code",
   "execution_count": 40,
   "id": "343d2148-6266-4e3d-a704-a680d8241eb1",
   "metadata": {},
   "outputs": [],
   "source": [
    "from nltk.tokenize import sent_tokenize"
   ]
  },
  {
   "cell_type": "code",
   "execution_count": 44,
   "id": "1ba3498d-0ab7-4a96-9b14-44588d944a90",
   "metadata": {},
   "outputs": [],
   "source": [
    "text  = '''Hello friends!\n",
    "How are you? Welcome to the world of Python Programming.'''"
   ]
  },
  {
   "cell_type": "code",
   "execution_count": 46,
   "id": "8d0166df-e022-4d1f-9592-3bbe2d686a9e",
   "metadata": {},
   "outputs": [
    {
     "data": {
      "text/plain": [
       "['Hello friends!',\n",
       " 'How are you?',\n",
       " 'Welcome to the world of Python Programming.']"
      ]
     },
     "execution_count": 46,
     "metadata": {},
     "output_type": "execute_result"
    }
   ],
   "source": [
    "sent_tokenize(text)"
   ]
  },
  {
   "cell_type": "code",
   "execution_count": 55,
   "id": "dbe093f8-1000-47b0-be16-f35256616d64",
   "metadata": {},
   "outputs": [
    {
     "data": {
      "text/plain": [
       "['लंडन (इंग्लिश: En-uk-London.ogg London ) हे इंग्लंडचे व युनायटेड किंग्डमचे राजधानीचे व सर्वात मोठे शहर तसेच युरोपियन संघामधील सर्वात मोठे महानगर क्षेत्र आहे.',\n",
       " 'थेम्स नदीच्या काठावर वसलेल्या ह्या शहराला २,००० पेक्षा जास्त वर्षांचा इतिहास आहे.',\n",
       " 'लंडन हे अर्थ, कला आणि उद्योग या क्षेत्रांमध्ये जगातील एक प्रमुख शहर आहे.',\n",
       " 'न्यू यॉर्क शहर व टोकियोसोबत लंडन हे जगातील सर्वात शक्तिशाली आर्थिक केंद्र मानले जाते.[१][२][३].',\n",
       " 'तसेच युरोपातील सर्वात मोठे अर्थव्यवस्था असलेले शहर हा मान देखील लंडनकडेच जातो.',\n",
       " '[४] जगातील सर्वाधिक आंतरराष्ट्रीय पर्यटक लंडनमध्ये येतात[५] तसेच लंडन हीथ्रो विमानतळ हा आंतरराष्ट्रीय प्रवासी वाहतूकीसाठी जगातील सर्वात मोठा विमानतळ आहे.[६].',\n",
       " '२०१२ सालच्या ऑलिंपिक स्पर्धा लंडनमध्ये भरवल्या गेल्या.',\n",
       " 'ह्या स्पर्धांचे तिसऱ्यांदा आयोजन करणारे लंडन हे जगातील एकमेव शहर आहे.',\n",
       " 'जुलै २०१० मध्ये ७८,२५,२०० इतकी लोकसंख्या असलेले लंडन युरोपामधील सर्वाधिक लोकसंख्येचे शहर होते.',\n",
       " '[७] ग्रेटर लंडनची लोकसंख्या ८२,७८,२५१ तर लंडन महानगर क्षेत्राची लोकसंख्या अंदाजे १.२ ते १.४ कोटी आहे.',\n",
       " '[८] लंडन शहराच्या समाजरचनेत कमालीचे वैविध्य आढळते.',\n",
       " 'लंडन परिसरात ३०० भाषा बोलल्या जातात.',\n",
       " 'सध्या लंडन परिसरात राहणारे ६.६ टक्के लोक भारतीय वंशाचे आहेत.']"
      ]
     },
     "execution_count": 55,
     "metadata": {},
     "output_type": "execute_result"
    }
   ],
   "source": [
    "sent_tokenize(sents)               # Only universal end of statement marks are recognized"
   ]
  },
  {
   "cell_type": "code",
   "execution_count": 57,
   "id": "51bda69e-7ce3-4e0d-ac6c-403863c4dfa0",
   "metadata": {},
   "outputs": [],
   "source": [
    "india = '''India, officially the Republic of India,[j][20] is a country in South Asia. It is the seventh-largest country in the world by area and the most populous country. Bounded by the Indian Ocean on the south, the Arabian Sea on the southwest, and the Bay of Bengal on the southeast, it shares land borders with Pakistan to the west;[k] China, Nepal, and Bhutan to the north; and Bangladesh and Myanmar to the east. In the Indian Ocean, India is in the vicinity of Sri Lanka and the Maldives; its Andaman and Nicobar Islands share a maritime border with Thailand, Myanmar, and Indonesia.\n",
    "\n",
    "Modern humans arrived on the Indian subcontinent from Africa no later than 55,000 years ago.[22][23][24] Their long occupation, initially in varying forms of isolation as hunter-gatherers, has made the region highly diverse, second only to Africa in human genetic diversity.[25] Settled life emerged on the subcontinent in the western margins of the Indus river basin 9,000 years ago, evolving gradually into the Indus Valley Civilisation of the third millennium BCE.[26] By at least 1200 BCE, an archaic form of Sanskrit, an Indo-European language, had diffused into India from the northwest.[27][28] Its evidence today is found in the hymns of the Rigveda. Preserved by an oral tradition that was resolutely vigilant, the Rigveda records the dawning of Hinduism in India.[29] The Dravidian languages of India were supplanted in the northern and western regions.[30] By 400 BCE, stratification and exclusion by caste had emerged within Hinduism,[31] and Buddhism and Jainism had arisen, proclaiming social orders unlinked to heredity.[32] Early political consolidations gave rise to the loose-knit Maurya and Gupta Empires based in the Ganges Basin.[33] Their collective era was suffused with wide-ranging creativity,[34] but also marked by the declining status of women,[35] and the incorporation of untouchability into an organised system of belief.[l][36] The Middle kingdoms exported Sanskrit language, south Indian scripts and religions of Hinduism and Buddhism to the Southeast Asia.['''"
   ]
  },
  {
   "cell_type": "code",
   "execution_count": 59,
   "id": "a2358933-4a66-4f47-ae20-c5396725f92c",
   "metadata": {},
   "outputs": [
    {
     "data": {
      "text/plain": [
       "'India, officially the Republic of India,[j][20] is a country in South Asia. It is the seventh-largest country in the world by area and the most populous country. Bounded by the Indian Ocean on the south, the Arabian Sea on the southwest, and the Bay of Bengal on the southeast, it shares land borders with Pakistan to the west;[k] China, Nepal, and Bhutan to the north; and Bangladesh and Myanmar to the east. In the Indian Ocean, India is in the vicinity of Sri Lanka and the Maldives; its Andaman and Nicobar Islands share a maritime border with Thailand, Myanmar, and Indonesia.\\n\\nModern humans arrived on the Indian subcontinent from Africa no later than 55,000 years ago.[22][23][24] Their long occupation, initially in varying forms of isolation as hunter-gatherers, has made the region highly diverse, second only to Africa in human genetic diversity.[25] Settled life emerged on the subcontinent in the western margins of the Indus river basin 9,000 years ago, evolving gradually into the Indus Valley Civilisation of the third millennium BCE.[26] By at least 1200 BCE, an archaic form of Sanskrit, an Indo-European language, had diffused into India from the northwest.[27][28] Its evidence today is found in the hymns of the Rigveda. Preserved by an oral tradition that was resolutely vigilant, the Rigveda records the dawning of Hinduism in India.[29] The Dravidian languages of India were supplanted in the northern and western regions.[30] By 400 BCE, stratification and exclusion by caste had emerged within Hinduism,[31] and Buddhism and Jainism had arisen, proclaiming social orders unlinked to heredity.[32] Early political consolidations gave rise to the loose-knit Maurya and Gupta Empires based in the Ganges Basin.[33] Their collective era was suffused with wide-ranging creativity,[34] but also marked by the declining status of women,[35] and the incorporation of untouchability into an organised system of belief.[l][36] The Middle kingdoms exported Sanskrit language, south Indian scripts and religions of Hinduism and Buddhism to the Southeast Asia.['"
      ]
     },
     "execution_count": 59,
     "metadata": {},
     "output_type": "execute_result"
    }
   ],
   "source": [
    "india"
   ]
  },
  {
   "cell_type": "code",
   "execution_count": 61,
   "id": "6f6a6372-87a9-43c2-81dc-6977d7b19c0a",
   "metadata": {},
   "outputs": [
    {
     "data": {
      "text/plain": [
       "['India, officially the Republic of India,[j][20] is a country in South Asia.',\n",
       " 'It is the seventh-largest country in the world by area and the most populous country.',\n",
       " 'Bounded by the Indian Ocean on the south, the Arabian Sea on the southwest, and the Bay of Bengal on the southeast, it shares land borders with Pakistan to the west;[k] China, Nepal, and Bhutan to the north; and Bangladesh and Myanmar to the east.',\n",
       " 'In the Indian Ocean, India is in the vicinity of Sri Lanka and the Maldives; its Andaman and Nicobar Islands share a maritime border with Thailand, Myanmar, and Indonesia.',\n",
       " 'Modern humans arrived on the Indian subcontinent from Africa no later than 55,000 years ago.',\n",
       " '[22][23][24] Their long occupation, initially in varying forms of isolation as hunter-gatherers, has made the region highly diverse, second only to Africa in human genetic diversity.',\n",
       " '[25] Settled life emerged on the subcontinent in the western margins of the Indus river basin 9,000 years ago, evolving gradually into the Indus Valley Civilisation of the third millennium BCE.',\n",
       " '[26] By at least 1200 BCE, an archaic form of Sanskrit, an Indo-European language, had diffused into India from the northwest.',\n",
       " '[27][28] Its evidence today is found in the hymns of the Rigveda.',\n",
       " 'Preserved by an oral tradition that was resolutely vigilant, the Rigveda records the dawning of Hinduism in India.',\n",
       " '[29] The Dravidian languages of India were supplanted in the northern and western regions.',\n",
       " '[30] By 400 BCE, stratification and exclusion by caste had emerged within Hinduism,[31] and Buddhism and Jainism had arisen, proclaiming social orders unlinked to heredity.',\n",
       " '[32] Early political consolidations gave rise to the loose-knit Maurya and Gupta Empires based in the Ganges Basin.',\n",
       " '[33] Their collective era was suffused with wide-ranging creativity,[34] but also marked by the declining status of women,[35] and the incorporation of untouchability into an organised system of belief.',\n",
       " '[l][36] The Middle kingdoms exported Sanskrit language, south Indian scripts and religions of Hinduism and Buddhism to the Southeast Asia.',\n",
       " '[']"
      ]
     },
     "execution_count": 61,
     "metadata": {},
     "output_type": "execute_result"
    }
   ],
   "source": [
    "india_sent_tokens = sent_tokenize(india)\n",
    "india_sent_tokens"
   ]
  },
  {
   "cell_type": "code",
   "execution_count": 67,
   "id": "7af29b15-297c-45fc-ab12-4d98547889e3",
   "metadata": {},
   "outputs": [
    {
     "name": "stdout",
     "output_type": "stream",
     "text": [
      "Bounded by the Indian Ocean on the south, the Arabian Sea on the southwest, and the Bay of Bengal on the southeast, it shares land borders with Pakistan to the west;[k] China, Nepal, and Bhutan to the north; and Bangladesh and Myanmar to the east. \n",
      "Total Number of the : 9\n"
     ]
    }
   ],
   "source": [
    "count = 0\n",
    "index = 0\n",
    "\n",
    "for ind in range(len(india_sent_tokens)):\n",
    "\n",
    "    split = india_sent_tokens[ind].split(\" \")\n",
    "    split = [i.strip(\".,\") for i in split]\n",
    "    curr_cnt = split.count(\"The\") + split.count(\"the\")\n",
    "    if curr_cnt > count:\n",
    "        count = curr_cnt\n",
    "        index = ind\n",
    "\n",
    "print(india_sent_tokens[index], f\"\\nTotal Number of the : {count}\")"
   ]
  },
  {
   "cell_type": "code",
   "execution_count": 79,
   "id": "3691affe-4fdb-4568-a19d-4b2f18e7b766",
   "metadata": {},
   "outputs": [
    {
     "data": {
      "text/plain": [
       "'Bounded by the Indian Ocean on the south, the Arabian Sea on the southwest, and the Bay of Bengal on the southeast, it shares land borders with Pakistan to the west;[k] China, Nepal, and Bhutan to the north; and Bangladesh and Myanmar to the east.'"
      ]
     },
     "execution_count": 79,
     "metadata": {},
     "output_type": "execute_result"
    }
   ],
   "source": [
    "# Sirs Logic\n",
    "\n",
    "max = 0\n",
    "for sent in sent_tokenize(india):\n",
    "    count = word_tokenize(sent.lower()).count('the')\n",
    "    if count > max:\n",
    "        max = count\n",
    "        final_sent = sent\n",
    "\n",
    "final_sent"
   ]
  },
  {
   "cell_type": "markdown",
   "id": "c4ea80df-de56-4118-a0df-b8e2903c30a8",
   "metadata": {},
   "source": [
    "### Whitespace Tokenizer"
   ]
  },
  {
   "cell_type": "code",
   "execution_count": 82,
   "id": "ef9b6fe2-bc2a-4557-9450-0a53029e061a",
   "metadata": {},
   "outputs": [],
   "source": [
    "# It will consider only space, tab space and newline to seperate the words\n",
    "\n",
    "from nltk.tokenize import WhitespaceTokenizer"
   ]
  },
  {
   "cell_type": "code",
   "execution_count": 84,
   "id": "4ecfb43f-707a-4c01-af9c-9d5bbd9a786c",
   "metadata": {},
   "outputs": [],
   "source": [
    "tk = WhitespaceTokenizer()"
   ]
  },
  {
   "cell_type": "code",
   "execution_count": 86,
   "id": "d057d532-544c-4801-9534-39e904cf455f",
   "metadata": {},
   "outputs": [
    {
     "data": {
      "text/plain": [
       "['Hello',\n",
       " 'friends!',\n",
       " 'How',\n",
       " 'are',\n",
       " 'you?',\n",
       " 'Welcome',\n",
       " 'to',\n",
       " 'the',\n",
       " 'world',\n",
       " 'of',\n",
       " 'Python',\n",
       " 'Programming.']"
      ]
     },
     "execution_count": 86,
     "metadata": {},
     "output_type": "execute_result"
    }
   ],
   "source": [
    "tk.tokenize(text)"
   ]
  },
  {
   "cell_type": "markdown",
   "id": "5db1fcee-60b4-4428-8413-21f115782d5d",
   "metadata": {},
   "source": [
    "Space Tokenizer"
   ]
  },
  {
   "cell_type": "code",
   "execution_count": 89,
   "id": "661b7bee-0a83-4ebd-b6ea-bd37efecf109",
   "metadata": {},
   "outputs": [],
   "source": [
    "from nltk.tokenize import SpaceTokenizer    "
   ]
  },
  {
   "cell_type": "code",
   "execution_count": 91,
   "id": "503f58f2-8d27-4a7b-837d-5923d83db65c",
   "metadata": {},
   "outputs": [],
   "source": [
    "tk = SpaceTokenizer()"
   ]
  },
  {
   "cell_type": "code",
   "execution_count": 93,
   "id": "f2992559-e5a3-4239-acc5-438cc1949a86",
   "metadata": {},
   "outputs": [
    {
     "data": {
      "text/plain": [
       "['Hello',\n",
       " 'friends!\\nHow',\n",
       " 'are',\n",
       " 'you?',\n",
       " 'Welcome',\n",
       " 'to',\n",
       " 'the',\n",
       " 'world',\n",
       " 'of',\n",
       " 'Python',\n",
       " 'Programming.']"
      ]
     },
     "execution_count": 93,
     "metadata": {},
     "output_type": "execute_result"
    }
   ],
   "source": [
    "tk.tokenize(text)"
   ]
  },
  {
   "cell_type": "markdown",
   "id": "707fb6c9-f9cb-4802-9e2d-e4459a8a9176",
   "metadata": {},
   "source": [
    "### Line Tokenizer"
   ]
  },
  {
   "cell_type": "code",
   "execution_count": 96,
   "id": "02a35a67-8703-4799-8ac9-d5a8562aa405",
   "metadata": {},
   "outputs": [],
   "source": [
    "from nltk.tokenize import LineTokenizer"
   ]
  },
  {
   "cell_type": "code",
   "execution_count": 98,
   "id": "96df1ddb-15f4-43ab-9d1f-0b37552aa80b",
   "metadata": {},
   "outputs": [],
   "source": [
    "tk = LineTokenizer()"
   ]
  },
  {
   "cell_type": "code",
   "execution_count": 100,
   "id": "7f127bfb-1465-46ab-be66-68b99f712e8b",
   "metadata": {},
   "outputs": [
    {
     "data": {
      "text/plain": [
       "['Hello friends!', 'How are you? Welcome to the world of Python Programming.']"
      ]
     },
     "execution_count": 100,
     "metadata": {},
     "output_type": "execute_result"
    }
   ],
   "source": [
    "tk.tokenize(text)"
   ]
  },
  {
   "cell_type": "markdown",
   "id": "91250808-ef1e-44ae-bcc1-f0fc4ffc02e3",
   "metadata": {},
   "source": [
    "### Tab tokenizer"
   ]
  },
  {
   "cell_type": "code",
   "execution_count": 103,
   "id": "f25967cb-c988-4d3b-8e81-453185d5caa1",
   "metadata": {},
   "outputs": [],
   "source": [
    "from nltk.tokenize import TabTokenizer"
   ]
  },
  {
   "cell_type": "code",
   "execution_count": 115,
   "id": "03b41aaa-0bca-4e20-b5c2-7c7f856b7ce3",
   "metadata": {},
   "outputs": [],
   "source": [
    "tk = TabTokenizer()"
   ]
  },
  {
   "cell_type": "code",
   "execution_count": 117,
   "id": "6f8800af-e812-48a3-b5a8-e7bf0b570eca",
   "metadata": {},
   "outputs": [],
   "source": [
    "text  = '''Hello friends!\n",
    "How are you? Welcome to the world of\\tPython\\tProgramming.'''"
   ]
  },
  {
   "cell_type": "code",
   "execution_count": 119,
   "id": "9bfbbdb5-ae28-4ee3-b1a1-43ffeb6f1629",
   "metadata": {},
   "outputs": [
    {
     "data": {
      "text/plain": [
       "'Hello friends!\\nHow are you? Welcome to the world of\\tPython\\tProgramming.'"
      ]
     },
     "execution_count": 119,
     "metadata": {},
     "output_type": "execute_result"
    }
   ],
   "source": [
    "text"
   ]
  },
  {
   "cell_type": "code",
   "execution_count": 121,
   "id": "850ce6ee-9149-4205-af18-712d9d336347",
   "metadata": {},
   "outputs": [
    {
     "data": {
      "text/plain": [
       "['Hello friends!\\nHow are you? Welcome to the world of',\n",
       " 'Python',\n",
       " 'Programming.']"
      ]
     },
     "execution_count": 121,
     "metadata": {},
     "output_type": "execute_result"
    }
   ],
   "source": [
    "tk.tokenize(text)"
   ]
  },
  {
   "cell_type": "markdown",
   "id": "896e029f-6656-472c-ba4a-71582db72053",
   "metadata": {},
   "source": [
    "### Tweet Tokenizer"
   ]
  },
  {
   "cell_type": "code",
   "execution_count": 132,
   "id": "2fdf10f1-c78b-45f5-9f61-8d6e6d13b8af",
   "metadata": {},
   "outputs": [],
   "source": [
    "data = '''Hello friends!:) How are you? Welcome :$ to the world of Python Programming <3.'''"
   ]
  },
  {
   "cell_type": "code",
   "execution_count": 134,
   "id": "02c55290-4444-475d-9650-f49b812f7166",
   "metadata": {},
   "outputs": [],
   "source": [
    "from nltk.tokenize import TweetTokenizer"
   ]
  },
  {
   "cell_type": "code",
   "execution_count": 136,
   "id": "bf38593c-7153-41cb-9ffc-2efd2a040321",
   "metadata": {},
   "outputs": [],
   "source": [
    "tk = TweetTokenizer()"
   ]
  },
  {
   "cell_type": "code",
   "execution_count": 138,
   "id": "f7d97ab2-a583-4914-b9cf-dfffaf6d1a93",
   "metadata": {},
   "outputs": [
    {
     "data": {
      "text/plain": [
       "['Hello',\n",
       " 'friends',\n",
       " '!',\n",
       " ':)',\n",
       " 'How',\n",
       " 'are',\n",
       " 'you',\n",
       " '?',\n",
       " 'Welcome',\n",
       " ':',\n",
       " '$',\n",
       " 'to',\n",
       " 'the',\n",
       " 'world',\n",
       " 'of',\n",
       " 'Python',\n",
       " 'Programming',\n",
       " '<3',\n",
       " '.']"
      ]
     },
     "execution_count": 138,
     "metadata": {},
     "output_type": "execute_result"
    }
   ],
   "source": [
    "tk.tokenize(data)"
   ]
  },
  {
   "cell_type": "code",
   "execution_count": 144,
   "id": "da41c50b-1dd7-45d9-9e09-0eee164f023b",
   "metadata": {},
   "outputs": [],
   "source": [
    "data = '''Hello friends!❤️ How are you? 🖥️Welcome :$ to the 🤑world of Python 💀Programming <3.'''"
   ]
  },
  {
   "cell_type": "code",
   "execution_count": 146,
   "id": "62f39b8e-1937-4848-89ae-396eba5bf605",
   "metadata": {},
   "outputs": [
    {
     "data": {
      "text/plain": [
       "['Hello',\n",
       " 'friends',\n",
       " '!',\n",
       " '❤',\n",
       " '️',\n",
       " 'How',\n",
       " 'are',\n",
       " 'you',\n",
       " '?',\n",
       " '🖥',\n",
       " '️Welcome',\n",
       " ':',\n",
       " '$',\n",
       " 'to',\n",
       " 'the',\n",
       " '🤑',\n",
       " 'world',\n",
       " 'of',\n",
       " 'Python',\n",
       " '💀',\n",
       " 'Programming',\n",
       " '<3',\n",
       " '.']"
      ]
     },
     "execution_count": 146,
     "metadata": {},
     "output_type": "execute_result"
    }
   ],
   "source": [
    "tk.tokenize(data)"
   ]
  },
  {
   "cell_type": "code",
   "execution_count": 148,
   "id": "c9f8be29-5555-49b2-b10e-5d7e64e69116",
   "metadata": {},
   "outputs": [],
   "source": [
    "### MWE Tokenizer"
   ]
  },
  {
   "cell_type": "code",
   "execution_count": 150,
   "id": "d657f446-4190-4092-95bc-c11a859e6425",
   "metadata": {},
   "outputs": [],
   "source": [
    "from nltk.tokenize import MWETokenizer"
   ]
  },
  {
   "cell_type": "code",
   "execution_count": 160,
   "id": "9d7e1990-9a7a-4084-86d2-de1b98cbf125",
   "metadata": {},
   "outputs": [],
   "source": [
    "tk = MWETokenizer(separator = ' ')"
   ]
  },
  {
   "cell_type": "code",
   "execution_count": 162,
   "id": "e9c15cd1-dc9c-4d2e-a5d3-e26c1256ab0c",
   "metadata": {},
   "outputs": [],
   "source": [
    "data = 'Van Rossom is in Pune today. We welcomed Van Rossom here.'\n",
    "tk.add_mwe(('Van', 'Rossom'))"
   ]
  },
  {
   "cell_type": "code",
   "execution_count": 164,
   "id": "8576a227-34ef-4b4e-bb82-3bb766f658f1",
   "metadata": {},
   "outputs": [
    {
     "data": {
      "text/plain": [
       "['Van Rossom',\n",
       " 'is',\n",
       " 'in',\n",
       " 'Pune',\n",
       " 'today',\n",
       " '.',\n",
       " 'We',\n",
       " 'welcomed',\n",
       " 'Van Rossom',\n",
       " 'here',\n",
       " '.']"
      ]
     },
     "execution_count": 164,
     "metadata": {},
     "output_type": "execute_result"
    }
   ],
   "source": [
    "tk.tokenize(word_tokenize(data))"
   ]
  },
  {
   "cell_type": "markdown",
   "id": "6195543f-45d7-4c19-8405-d4069d562a81",
   "metadata": {},
   "source": [
    "# Custom Tokenizer"
   ]
  },
  {
   "cell_type": "code",
   "execution_count": 169,
   "id": "75d03e9a-6f2b-4666-870d-7b69d7f2165c",
   "metadata": {},
   "outputs": [
    {
     "name": "stdout",
     "output_type": "stream",
     "text": [
      "Tokens:\n",
      "This\n",
      "is\n",
      "some\n",
      "text\n",
      "with\n",
      "punctuation\n",
      ">\n",
      "Let's\n",
      "tokenize\n",
      "it\n",
      "Is\n",
      "it\n",
      "ok\n",
      "\n"
     ]
    }
   ],
   "source": [
    "import re\n",
    "\n",
    "def custom_tokenizer(text):\n",
    "    return re.split(r\"[.,;?!\\s]+\", text)\n",
    "\n",
    "text = \"This is some text with punctuation > Let's tokenize it. Is it ok?\"\n",
    "\n",
    "tokens = custom_tokenizer(text)\n",
    "\n",
    "print(\"Tokens:\")\n",
    "for token in tokens:\n",
    "    print(token)"
   ]
  },
  {
   "cell_type": "code",
   "execution_count": null,
   "id": "8bcd7a64-0940-4850-bae4-2eba4a21953f",
   "metadata": {},
   "outputs": [],
   "source": []
  }
 ],
 "metadata": {
  "kernelspec": {
   "display_name": "Python (surprise)",
   "language": "python",
   "name": "surprise"
  },
  "language_info": {
   "codemirror_mode": {
    "name": "ipython",
    "version": 3
   },
   "file_extension": ".py",
   "mimetype": "text/x-python",
   "name": "python",
   "nbconvert_exporter": "python",
   "pygments_lexer": "ipython3",
   "version": "3.12.7"
  }
 },
 "nbformat": 4,
 "nbformat_minor": 5
}
