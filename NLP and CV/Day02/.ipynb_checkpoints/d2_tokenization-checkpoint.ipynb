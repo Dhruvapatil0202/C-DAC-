{
 "cells": [
  {
   "cell_type": "code",
   "execution_count": null,
   "id": "63b35f6d-e6d1-4e5f-aa88-8be46992bddc",
   "metadata": {},
   "outputs": [],
   "source": [
    "import numpy as np\n",
    "import pandas as pd"
   ]
  },
  {
   "cell_type": "code",
   "execution_count": null,
   "id": "0b3aad04-05e0-460f-a1a0-0716f163f9a8",
   "metadata": {},
   "outputs": [],
   "source": [
    "count = [word for word in tokens if not word.isalpha() and not word.isdigit()]"
   ]
  },
  {
   "cell_type": "code",
   "execution_count": 3,
   "id": "ee3d95af-fc79-466a-8ca0-ce8ab1e75292",
   "metadata": {},
   "outputs": [
    {
     "ename": "SyntaxError",
     "evalue": "unterminated string literal (detected at line 1) (148100437.py, line 1)",
     "output_type": "error",
     "traceback": [
      "\u001b[1;36m  Cell \u001b[1;32mIn[3], line 1\u001b[1;36m\u001b[0m\n\u001b[1;33m    sents = \"लंडन (इंग्लिश: En-uk-London.ogg London ) हे इंग्लंडचे व युनायटेड किंग्डमचे राजधानीचे व सर्वात मोठे शहर तसेच युरोपियन संघामधील सर्वात मोठे महानगर क्षेत्र आहे. थेम्स नदीच्या काठावर वसलेल्या ह्या शहराला २,००० पेक्षा जास्त वर्षांचा इतिहास आहे.\u001b[0m\n\u001b[1;37m            ^\u001b[0m\n\u001b[1;31mSyntaxError\u001b[0m\u001b[1;31m:\u001b[0m unterminated string literal (detected at line 1)\n"
     ]
    }
   ],
   "source": [
    "sents = \"लंडन (इंग्लिश: En-uk-London.ogg London ) हे इंग्लंडचे व युनायटेड किंग्डमचे राजधानीचे व सर्वात मोठे शहर तसेच युरोपियन संघामधील सर्वात मोठे महानगर क्षेत्र आहे. थेम्स नदीच्या काठावर वसलेल्या ह्या शहराला २,००० पेक्षा जास्त वर्षांचा इतिहास आहे.\n",
    "\n",
    "लंडन हे अर्थ, कला आणि उद्योग या क्षेत्रांमध्ये जगातील एक प्रमुख शहर आहे. न्यू यॉर्क शहर व टोकियोसोबत लंडन हे जगातील सर्वात शक्तिशाली आर्थिक केंद्र मानले जाते.[१][२][३]. तसेच युरोपातील सर्वात मोठे अर्थव्यवस्था असलेले शहर हा मान देखील लंडनकडेच जातो.[४] जगातील सर्वाधिक आंतरराष्ट्रीय पर्यटक लंडनमध्ये येतात[५] तसेच लंडन हीथ्रो विमानतळ हा आंतरराष्ट्रीय प्रवासी वाहतूकीसाठी जगातील सर्वात मोठा विमानतळ आहे.[६]. २०१२ सालच्या ऑलिंपिक स्पर्धा लंडनमध्ये भरवल्या गेल्या. ह्या स्पर्धांचे तिसऱ्यांदा आयोजन करणारे लंडन हे जगातील एकमेव शहर आहे.\n",
    "\n",
    "जुलै २०१० मध्ये ७८,२५,२०० इतकी लोकसंख्या असलेले लंडन युरोपामधील सर्वाधिक लोकसंख्येचे शहर होते.[७] ग्रेटर लंडनची लोकसंख्या ८२,७८,२५१ तर लंडन महानगर क्षेत्राची लोकसंख्या अंदाजे १.२ ते १.४ कोटी आहे.[८] लंडन शहराच्या समाजरचनेत कमालीचे वैविध्य आढळते. लंडन परिसरात ३०० भाषा बोलल्या जातात. सध्या लंडन परिसरात राहणारे ६.६ टक्के लोक भारतीय वंशाचे आहेत.\""
   ]
  },
  {
   "cell_type": "code",
   "execution_count": 5,
   "id": "4e0179a3-cca1-44c9-9c8e-b2f6317c95ed",
   "metadata": {},
   "outputs": [
    {
     "ename": "NameError",
     "evalue": "name 'sents' is not defined",
     "output_type": "error",
     "traceback": [
      "\u001b[1;31m---------------------------------------------------------------------------\u001b[0m",
      "\u001b[1;31mNameError\u001b[0m                                 Traceback (most recent call last)",
      "Cell \u001b[1;32mIn[5], line 1\u001b[0m\n\u001b[1;32m----> 1\u001b[0m sents\n",
      "\u001b[1;31mNameError\u001b[0m: name 'sents' is not defined"
     ]
    }
   ],
   "source": [
    "sents"
   ]
  },
  {
   "cell_type": "code",
   "execution_count": null,
   "id": "3827ec85-4382-4f07-84b6-2452380678a7",
   "metadata": {},
   "outputs": [],
   "source": [
    "word_tokenize(sents)"
   ]
  }
 ],
 "metadata": {
  "kernelspec": {
   "display_name": "Python (surprise)",
   "language": "python",
   "name": "surprise"
  },
  "language_info": {
   "codemirror_mode": {
    "name": "ipython",
    "version": 3
   },
   "file_extension": ".py",
   "mimetype": "text/x-python",
   "name": "python",
   "nbconvert_exporter": "python",
   "pygments_lexer": "ipython3",
   "version": "3.12.7"
  }
 },
 "nbformat": 4,
 "nbformat_minor": 5
}
