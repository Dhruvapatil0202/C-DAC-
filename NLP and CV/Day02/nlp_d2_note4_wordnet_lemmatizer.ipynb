{
  "nbformat": 4,
  "nbformat_minor": 0,
  "metadata": {
    "colab": {
      "provenance": []
    },
    "kernelspec": {
      "name": "python3",
      "display_name": "Python 3"
    },
    "language_info": {
      "name": "python"
    }
  },
  "cells": [
    {
      "cell_type": "code",
      "source": [
        "import nltk\n",
        "nltk.download('wordnet')"
      ],
      "metadata": {
        "colab": {
          "base_uri": "https://localhost:8080/"
        },
        "id": "5xHgS2CHzxz7",
        "outputId": "2043d16c-1025-443e-df5e-462e8e0d0b1d"
      },
      "execution_count": 5,
      "outputs": [
        {
          "output_type": "stream",
          "name": "stderr",
          "text": [
            "[nltk_data] Downloading package wordnet to /root/nltk_data...\n"
          ]
        },
        {
          "output_type": "execute_result",
          "data": {
            "text/plain": [
              "True"
            ]
          },
          "metadata": {},
          "execution_count": 5
        }
      ]
    },
    {
      "cell_type": "code",
      "execution_count": 1,
      "metadata": {
        "id": "Kt5tqNiwzT8e"
      },
      "outputs": [],
      "source": [
        "words1 = 'managing', 'manage', 'management', 'managerial', 'managed'\n",
        "words2 = 'worked', 'workable', 'working', 'worked'\n",
        "words3 = 'big', 'biggest', 'bigger'\n",
        "words4 = 'go', 'gone', 'went', 'going'\n",
        "words5 = 'association', 'associated', 'associated', 'associate'"
      ]
    },
    {
      "cell_type": "code",
      "source": [
        "from nltk.stem import WordNetLemmatizer"
      ],
      "metadata": {
        "id": "wPKpF0Zmze06"
      },
      "execution_count": 2,
      "outputs": []
    },
    {
      "cell_type": "code",
      "source": [
        "wnl = WordNetLemmatizer()"
      ],
      "metadata": {
        "id": "7CYVuKslzlCp"
      },
      "execution_count": 3,
      "outputs": []
    },
    {
      "cell_type": "code",
      "source": [
        "print(wnl.lemmatize('players', pos = 'n'))             # Noun\n",
        "print(wnl.lemmatize('players', pos = 'v'))             # Verb\n",
        "print(wnl.lemmatize('players', pos = 'a'))             # Adjective\n",
        "print(wnl.lemmatize('players', pos = 'r'))             # Adverb"
      ],
      "metadata": {
        "colab": {
          "base_uri": "https://localhost:8080/"
        },
        "id": "FPmEXrOgzo23",
        "outputId": "3318548e-6e1f-4d07-8b57-a4fc9f64ef59"
      },
      "execution_count": 10,
      "outputs": [
        {
          "output_type": "stream",
          "name": "stdout",
          "text": [
            "player\n",
            "players\n",
            "players\n",
            "players\n"
          ]
        }
      ]
    },
    {
      "cell_type": "code",
      "source": [
        "print(wnl.lemmatize('playing', pos = 'n'))             # Noun\n",
        "print(wnl.lemmatize('playing', pos = 'v'))             # Verb\n",
        "print(wnl.lemmatize('playing', pos = 'a'))             # Adjective\n",
        "print(wnl.lemmatize('playing', pos = 'r'))             # Adverb"
      ],
      "metadata": {
        "colab": {
          "base_uri": "https://localhost:8080/"
        },
        "id": "AxFcBe3rzuhD",
        "outputId": "30734bb2-b69a-476b-ef8c-428cd3c4cbc8"
      },
      "execution_count": 11,
      "outputs": [
        {
          "output_type": "stream",
          "name": "stdout",
          "text": [
            "playing\n",
            "play\n",
            "playing\n",
            "playing\n"
          ]
        }
      ]
    },
    {
      "cell_type": "code",
      "source": [
        "for word in words1:\n",
        "    print(wnl.lemmatize(word, pos = 'v'))"
      ],
      "metadata": {
        "colab": {
          "base_uri": "https://localhost:8080/"
        },
        "id": "xogwGIOd0Xro",
        "outputId": "11e829e7-9836-47b6-a28f-ae42f0585ab4"
      },
      "execution_count": 12,
      "outputs": [
        {
          "output_type": "stream",
          "name": "stdout",
          "text": [
            "manage\n",
            "manage\n",
            "management\n",
            "managerial\n",
            "manage\n"
          ]
        }
      ]
    },
    {
      "cell_type": "code",
      "source": [
        "for word in words2:\n",
        "    print(wnl.lemmatize(word, pos = 'v'))"
      ],
      "metadata": {
        "colab": {
          "base_uri": "https://localhost:8080/"
        },
        "id": "V8bSWk631Egr",
        "outputId": "e4781cb1-be22-4925-c605-c86a8c1319f4"
      },
      "execution_count": 13,
      "outputs": [
        {
          "output_type": "stream",
          "name": "stdout",
          "text": [
            "work\n",
            "workable\n",
            "work\n",
            "work\n"
          ]
        }
      ]
    },
    {
      "cell_type": "code",
      "source": [
        "for word in words3:\n",
        "    print(wnl.lemmatize(word, pos = 'a'))"
      ],
      "metadata": {
        "colab": {
          "base_uri": "https://localhost:8080/"
        },
        "id": "5lNyDvDQ1O4Z",
        "outputId": "fcc3b072-0964-47e3-8f61-58f4c76af7d0"
      },
      "execution_count": 15,
      "outputs": [
        {
          "output_type": "stream",
          "name": "stdout",
          "text": [
            "big\n",
            "big\n",
            "big\n"
          ]
        }
      ]
    },
    {
      "cell_type": "code",
      "source": [
        "for word in words4:\n",
        "    print(wnl.lemmatize(word, pos = 'v'))"
      ],
      "metadata": {
        "colab": {
          "base_uri": "https://localhost:8080/"
        },
        "id": "iT6-PaUV1YD0",
        "outputId": "fdcfcc05-d5a7-40d0-ce13-7fa0fa0453b5"
      },
      "execution_count": 18,
      "outputs": [
        {
          "output_type": "stream",
          "name": "stdout",
          "text": [
            "go\n",
            "go\n",
            "go\n",
            "go\n"
          ]
        }
      ]
    },
    {
      "cell_type": "code",
      "source": [
        "for word in words5:\n",
        "    print(wnl.lemmatize(word, pos = 'v'))"
      ],
      "metadata": {
        "colab": {
          "base_uri": "https://localhost:8080/"
        },
        "id": "89sQptUJ1nDv",
        "outputId": "9eff2af9-ce6d-4529-ca95-6c6ea3093cb0"
      },
      "execution_count": 19,
      "outputs": [
        {
          "output_type": "stream",
          "name": "stdout",
          "text": [
            "association\n",
            "associate\n",
            "associate\n",
            "associate\n"
          ]
        }
      ]
    },
    {
      "cell_type": "markdown",
      "source": [
        "Finding only root verbs from the text"
      ],
      "metadata": {
        "id": "OA9h6Nlb29h2"
      }
    },
    {
      "cell_type": "code",
      "source": [
        "text = '''India, officially the Republic of India,[j][20] is a country in South Asia. It is the seventh-largest country in the world by area and the most populous country. Bounded by the Indian Ocean on the south, the Arabian Sea on the southwest, and the Bay of Bengal on the southeast, it shares land borders with Pakistan to the west;[k] China, Nepal, and Bhutan to the north; and Bangladesh and Myanmar to the east. In the Indian Ocean, India is in the vicinity of Sri Lanka and the Maldives; its Andaman and Nicobar Islands share a maritime border with Thailand, Myanmar, and Indonesia.\n",
        "\n",
        "Modern humans arrived on the Indian subcontinent from Africa no later than 55,000 years ago.[22][23][24] Their long occupation, initially in varying forms of isolation as hunter-gatherers, has made the region highly diverse, second only to Africa in human genetic diversity.[25] Settled life emerged on the subcontinent in the western margins of the Indus river basin 9,000 years ago, evolving gradually into the Indus Valley Civilisation of the third millennium BCE.[26] By at least 1200 BCE, an archaic form of Sanskrit, an Indo-European language, had diffused into India from the northwest.[27][28] Its evidence today is found in the hymns of the Rigveda. Preserved by an oral tradition that was resolutely vigilant, the Rigveda records the dawning of Hinduism in India.[29] The Dravidian languages of India were supplanted in the northern and western regions.[30] By 400 BCE, stratification and exclusion by caste had emerged within Hinduism,[31] and Buddhism and Jainism had arisen, proclaiming social orders unlinked to heredity.[32] Early political consolidations gave rise to the loose-knit Maurya and Gupta Empires based in the Ganges Basin.[33] Their collective era was suffused with wide-ranging creativity,[34] but also marked by the declining status of women,[35] and the incorporation of untouchability into an organised system of belief.[l][36] The Middle kingdoms exported Sanskrit language, south Indian scripts and religions of Hinduism and Buddhism to the Southeast Asia.[37]\n",
        "\n",
        "In the early mediaeval era, Christianity, Islam, Judaism, and Zoroastrianism became established on India's southern and western coasts.[38] Muslim armies from Central Asia intermittently overran India's northern plains,[39] eventually founding the Delhi Sultanate and drawing northern India into the cosmopolitan networks of mediaeval Islam.[40] In the 15th century, the Vijayanagara Empire created a long-lasting composite Hindu culture in south India.[41] In the Punjab, Sikhism emerged, rejecting institutionalised religion.[42] The Mughal Empire, in 1526, ushered in two centuries of relative peace,[43] leaving a legacy of luminous architecture.[m][44] Gradually expanding rule of the British East India Company followed, turning India into a colonial economy but also consolidating its sovereignty.[45] British Crown rule began in 1858. The rights promised to Indians were granted slowly,[46][47] but technological changes were introduced, and modern ideas of education and public life took root.[48] A pioneering and influential nationalist movement emerged, which was noted for nonviolent resistance and became the major factor in ending British rule.[49][50] In 1947, the British Indian Empire was partitioned into two independent dominions,[51][52][53][54] a Hindu-majority dominion of India and a Muslim-majority dominion of Pakistan, amid large-scale loss of life and an unprecedented migration.'''"
      ],
      "metadata": {
        "id": "4vp8lELe1prj"
      },
      "execution_count": 20,
      "outputs": []
    },
    {
      "cell_type": "code",
      "source": [
        "import string"
      ],
      "metadata": {
        "id": "hKikoU1p4M4J"
      },
      "execution_count": 21,
      "outputs": []
    },
    {
      "cell_type": "code",
      "source": [
        "from nltk.tokenize import word_tokenize\n",
        "nltk.download('punkt_tab')\n",
        "from nltk import pos_tag\n",
        "nltk.download('averaged_perceptron_tagger_eng')"
      ],
      "metadata": {
        "colab": {
          "base_uri": "https://localhost:8080/"
        },
        "id": "_3B-w5vy44Ur",
        "outputId": "112ae26a-f899-41c3-af52-55670579237b"
      },
      "execution_count": 36,
      "outputs": [
        {
          "output_type": "stream",
          "name": "stderr",
          "text": [
            "[nltk_data] Downloading package punkt_tab to /root/nltk_data...\n",
            "[nltk_data]   Package punkt_tab is already up-to-date!\n",
            "[nltk_data] Downloading package averaged_perceptron_tagger_eng to\n",
            "[nltk_data]     /root/nltk_data...\n",
            "[nltk_data]   Unzipping taggers/averaged_perceptron_tagger_eng.zip.\n"
          ]
        },
        {
          "output_type": "execute_result",
          "data": {
            "text/plain": [
              "True"
            ]
          },
          "metadata": {},
          "execution_count": 36
        }
      ]
    },
    {
      "cell_type": "code",
      "source": [
        "wnl = WordNetLemmatizer()"
      ],
      "metadata": {
        "id": "qdXjX2P84poo"
      },
      "execution_count": 37,
      "outputs": []
    },
    {
      "cell_type": "code",
      "source": [
        "tags = pos_tag(word_tokenize(text))"
      ],
      "metadata": {
        "id": "_e6Xpt896nFm"
      },
      "execution_count": 38,
      "outputs": []
    },
    {
      "cell_type": "code",
      "source": [
        "verbs = set()\n",
        "for word, tag in tags:\n",
        "    if tag.startswith('V') and word.isalpha():\n",
        "        verbs.add(wnl.lemmatize(word, pos = 'v'))"
      ],
      "metadata": {
        "id": "clcz44BC3x55"
      },
      "execution_count": 39,
      "outputs": []
    },
    {
      "cell_type": "code",
      "source": [
        "verbs"
      ],
      "metadata": {
        "colab": {
          "base_uri": "https://localhost:8080/"
        },
        "id": "Bly02oIL4y7C",
        "outputId": "c4a5f036-49dd-465a-82a5-cee5d374440d"
      },
      "execution_count": 40,
      "outputs": [
        {
          "output_type": "execute_result",
          "data": {
            "text/plain": [
              "{'Bounded',\n",
              " 'Preserved',\n",
              " 'Settled',\n",
              " 'arise',\n",
              " 'arrive',\n",
              " 'base',\n",
              " 'be',\n",
              " 'become',\n",
              " 'begin',\n",
              " 'consolidate',\n",
              " 'create',\n",
              " 'decline',\n",
              " 'diffuse',\n",
              " 'draw',\n",
              " 'emerge',\n",
              " 'end',\n",
              " 'establish',\n",
              " 'evolve',\n",
              " 'expand',\n",
              " 'export',\n",
              " 'find',\n",
              " 'follow',\n",
              " 'found',\n",
              " 'give',\n",
              " 'grant',\n",
              " 'have',\n",
              " 'humans',\n",
              " 'institutionalise',\n",
              " 'introduce',\n",
              " 'k',\n",
              " 'land',\n",
              " 'leave',\n",
              " 'make',\n",
              " 'mark',\n",
              " 'note',\n",
              " 'overrun',\n",
              " 'partition',\n",
              " 'proclaim',\n",
              " 'promise',\n",
              " 'reject',\n",
              " 'suffuse',\n",
              " 'supplant',\n",
              " 'take',\n",
              " 'turn',\n",
              " 'unlinked',\n",
              " 'usher',\n",
              " 'vary'}"
            ]
          },
          "metadata": {},
          "execution_count": 40
        }
      ]
    },
    {
      "cell_type": "code",
      "source": [],
      "metadata": {
        "id": "MUbjd2VC6lTe"
      },
      "execution_count": null,
      "outputs": []
    }
  ]
}