{
  "nbformat": 4,
  "nbformat_minor": 0,
  "metadata": {
    "colab": {
      "provenance": []
    },
    "kernelspec": {
      "name": "python3",
      "display_name": "Python 3"
    },
    "language_info": {
      "name": "python"
    }
  },
  "cells": [
    {
      "cell_type": "code",
      "execution_count": 2,
      "metadata": {
        "colab": {
          "base_uri": "https://localhost:8080/"
        },
        "id": "xjLjJHGSnm43",
        "outputId": "83478d1a-d1ba-48fa-e8bb-43bc114b3083"
      },
      "outputs": [
        {
          "output_type": "stream",
          "name": "stdout",
          "text": [
            "Requirement already satisfied: morfessor in /usr/local/lib/python3.10/dist-packages (2.0.6)\n",
            "Requirement already satisfied: polyglot in /usr/local/lib/python3.10/dist-packages (16.7.4)\n",
            "Collecting PyICU\n",
            "  Downloading PyICU-2.14.tar.gz (263 kB)\n",
            "\u001b[2K     \u001b[90m━━━━━━━━━━━━━━━━━━━━━━━━━━━━━━━━━━━━━━━━\u001b[0m \u001b[32m263.9/263.9 kB\u001b[0m \u001b[31m4.3 MB/s\u001b[0m eta \u001b[36m0:00:00\u001b[0m\n",
            "\u001b[?25h  Installing build dependencies ... \u001b[?25l\u001b[?25hdone\n",
            "  Getting requirements to build wheel ... \u001b[?25l\u001b[?25hdone\n",
            "  Preparing metadata (pyproject.toml) ... \u001b[?25l\u001b[?25hdone\n",
            "Collecting pycld2\n",
            "  Downloading pycld2-0.41.tar.gz (41.4 MB)\n",
            "\u001b[2K     \u001b[90m━━━━━━━━━━━━━━━━━━━━━━━━━━━━━━━━━━━━━━━━\u001b[0m \u001b[32m41.4/41.4 MB\u001b[0m \u001b[31m18.6 MB/s\u001b[0m eta \u001b[36m0:00:00\u001b[0m\n",
            "\u001b[?25h  Preparing metadata (setup.py) ... \u001b[?25l\u001b[?25hdone\n",
            "Building wheels for collected packages: PyICU, pycld2\n",
            "  Building wheel for PyICU (pyproject.toml) ... \u001b[?25l\u001b[?25hdone\n",
            "  Created wheel for PyICU: filename=PyICU-2.14-cp310-cp310-linux_x86_64.whl size=1809839 sha256=e069f2fe28e129859fc7d0f921ebaff38d9ced5718fb88e17f6238238168d158\n",
            "  Stored in directory: /root/.cache/pip/wheels/78/6e/76/17c73021179c06c29d9b108896b9248da0de4f2af93f63d405\n",
            "  Building wheel for pycld2 (setup.py) ... \u001b[?25l\u001b[?25hdone\n",
            "  Created wheel for pycld2: filename=pycld2-0.41-cp310-cp310-linux_x86_64.whl size=9904069 sha256=bbc545e2a98a63a969b4ac0e6abe3fcb2e63764430240c36069ed939e9c4e6d3\n",
            "  Stored in directory: /root/.cache/pip/wheels/be/81/31/240c89c845e008a93d98542325270007de595bfd356eb0b06c\n",
            "Successfully built PyICU pycld2\n",
            "Installing collected packages: PyICU, pycld2\n",
            "Successfully installed PyICU-2.14 pycld2-0.41\n"
          ]
        }
      ],
      "source": [
        "pip install morfessor polyglot PyICU pycld2"
      ]
    },
    {
      "cell_type": "code",
      "source": [
        "%%bash\n",
        "polyglot download morph2.en morph2.mr"
      ],
      "metadata": {
        "colab": {
          "base_uri": "https://localhost:8080/",
          "height": 339
        },
        "id": "Wjxf1UYTnr8t",
        "outputId": "bf61026c-2031-4bf9-d478-4d458da8025f"
      },
      "execution_count": 3,
      "outputs": [
        {
          "output_type": "stream",
          "name": "stderr",
          "text": [
            "bash: line 1: polyglot: command not found\n"
          ]
        },
        {
          "output_type": "error",
          "ename": "CalledProcessError",
          "evalue": "Command 'b'polyglot download morph2.en morph2.mr\\n'' returned non-zero exit status 127.",
          "traceback": [
            "\u001b[0;31m---------------------------------------------------------------------------\u001b[0m",
            "\u001b[0;31mCalledProcessError\u001b[0m                        Traceback (most recent call last)",
            "\u001b[0;32m<ipython-input-3-21d3aae23458>\u001b[0m in \u001b[0;36m<cell line: 1>\u001b[0;34m()\u001b[0m\n\u001b[0;32m----> 1\u001b[0;31m \u001b[0mget_ipython\u001b[0m\u001b[0;34m(\u001b[0m\u001b[0;34m)\u001b[0m\u001b[0;34m.\u001b[0m\u001b[0mrun_cell_magic\u001b[0m\u001b[0;34m(\u001b[0m\u001b[0;34m'bash'\u001b[0m\u001b[0;34m,\u001b[0m \u001b[0;34m''\u001b[0m\u001b[0;34m,\u001b[0m \u001b[0;34m'polyglot download morph2.en morph2.mr\\n'\u001b[0m\u001b[0;34m)\u001b[0m\u001b[0;34m\u001b[0m\u001b[0;34m\u001b[0m\u001b[0m\n\u001b[0m",
            "\u001b[0;32m/usr/local/lib/python3.10/dist-packages/google/colab/_shell.py\u001b[0m in \u001b[0;36mrun_cell_magic\u001b[0;34m(self, magic_name, line, cell)\u001b[0m\n\u001b[1;32m    332\u001b[0m     \u001b[0;32mif\u001b[0m \u001b[0mline\u001b[0m \u001b[0;32mand\u001b[0m \u001b[0;32mnot\u001b[0m \u001b[0mcell\u001b[0m\u001b[0;34m:\u001b[0m\u001b[0;34m\u001b[0m\u001b[0;34m\u001b[0m\u001b[0m\n\u001b[1;32m    333\u001b[0m       \u001b[0mcell\u001b[0m \u001b[0;34m=\u001b[0m \u001b[0;34m' '\u001b[0m\u001b[0;34m\u001b[0m\u001b[0;34m\u001b[0m\u001b[0m\n\u001b[0;32m--> 334\u001b[0;31m     \u001b[0;32mreturn\u001b[0m \u001b[0msuper\u001b[0m\u001b[0;34m(\u001b[0m\u001b[0;34m)\u001b[0m\u001b[0;34m.\u001b[0m\u001b[0mrun_cell_magic\u001b[0m\u001b[0;34m(\u001b[0m\u001b[0mmagic_name\u001b[0m\u001b[0;34m,\u001b[0m \u001b[0mline\u001b[0m\u001b[0;34m,\u001b[0m \u001b[0mcell\u001b[0m\u001b[0;34m)\u001b[0m\u001b[0;34m\u001b[0m\u001b[0;34m\u001b[0m\u001b[0m\n\u001b[0m\u001b[1;32m    335\u001b[0m \u001b[0;34m\u001b[0m\u001b[0m\n\u001b[1;32m    336\u001b[0m \u001b[0;34m\u001b[0m\u001b[0m\n",
            "\u001b[0;32m/usr/local/lib/python3.10/dist-packages/IPython/core/interactiveshell.py\u001b[0m in \u001b[0;36mrun_cell_magic\u001b[0;34m(self, magic_name, line, cell)\u001b[0m\n\u001b[1;32m   2471\u001b[0m             \u001b[0;32mwith\u001b[0m \u001b[0mself\u001b[0m\u001b[0;34m.\u001b[0m\u001b[0mbuiltin_trap\u001b[0m\u001b[0;34m:\u001b[0m\u001b[0;34m\u001b[0m\u001b[0;34m\u001b[0m\u001b[0m\n\u001b[1;32m   2472\u001b[0m                 \u001b[0margs\u001b[0m \u001b[0;34m=\u001b[0m \u001b[0;34m(\u001b[0m\u001b[0mmagic_arg_s\u001b[0m\u001b[0;34m,\u001b[0m \u001b[0mcell\u001b[0m\u001b[0;34m)\u001b[0m\u001b[0;34m\u001b[0m\u001b[0;34m\u001b[0m\u001b[0m\n\u001b[0;32m-> 2473\u001b[0;31m                 \u001b[0mresult\u001b[0m \u001b[0;34m=\u001b[0m \u001b[0mfn\u001b[0m\u001b[0;34m(\u001b[0m\u001b[0;34m*\u001b[0m\u001b[0margs\u001b[0m\u001b[0;34m,\u001b[0m \u001b[0;34m**\u001b[0m\u001b[0mkwargs\u001b[0m\u001b[0;34m)\u001b[0m\u001b[0;34m\u001b[0m\u001b[0;34m\u001b[0m\u001b[0m\n\u001b[0m\u001b[1;32m   2474\u001b[0m             \u001b[0;32mreturn\u001b[0m \u001b[0mresult\u001b[0m\u001b[0;34m\u001b[0m\u001b[0;34m\u001b[0m\u001b[0m\n\u001b[1;32m   2475\u001b[0m \u001b[0;34m\u001b[0m\u001b[0m\n",
            "\u001b[0;32m/usr/local/lib/python3.10/dist-packages/IPython/core/magics/script.py\u001b[0m in \u001b[0;36mnamed_script_magic\u001b[0;34m(line, cell)\u001b[0m\n\u001b[1;32m    140\u001b[0m             \u001b[0;32melse\u001b[0m\u001b[0;34m:\u001b[0m\u001b[0;34m\u001b[0m\u001b[0;34m\u001b[0m\u001b[0m\n\u001b[1;32m    141\u001b[0m                 \u001b[0mline\u001b[0m \u001b[0;34m=\u001b[0m \u001b[0mscript\u001b[0m\u001b[0;34m\u001b[0m\u001b[0;34m\u001b[0m\u001b[0m\n\u001b[0;32m--> 142\u001b[0;31m             \u001b[0;32mreturn\u001b[0m \u001b[0mself\u001b[0m\u001b[0;34m.\u001b[0m\u001b[0mshebang\u001b[0m\u001b[0;34m(\u001b[0m\u001b[0mline\u001b[0m\u001b[0;34m,\u001b[0m \u001b[0mcell\u001b[0m\u001b[0;34m)\u001b[0m\u001b[0;34m\u001b[0m\u001b[0;34m\u001b[0m\u001b[0m\n\u001b[0m\u001b[1;32m    143\u001b[0m \u001b[0;34m\u001b[0m\u001b[0m\n\u001b[1;32m    144\u001b[0m         \u001b[0;31m# write a basic docstring:\u001b[0m\u001b[0;34m\u001b[0m\u001b[0;34m\u001b[0m\u001b[0m\n",
            "\u001b[0;32m<decorator-gen-103>\u001b[0m in \u001b[0;36mshebang\u001b[0;34m(self, line, cell)\u001b[0m\n",
            "\u001b[0;32m/usr/local/lib/python3.10/dist-packages/IPython/core/magic.py\u001b[0m in \u001b[0;36m<lambda>\u001b[0;34m(f, *a, **k)\u001b[0m\n\u001b[1;32m    185\u001b[0m     \u001b[0;31m# but it's overkill for just that one bit of state.\u001b[0m\u001b[0;34m\u001b[0m\u001b[0;34m\u001b[0m\u001b[0m\n\u001b[1;32m    186\u001b[0m     \u001b[0;32mdef\u001b[0m \u001b[0mmagic_deco\u001b[0m\u001b[0;34m(\u001b[0m\u001b[0marg\u001b[0m\u001b[0;34m)\u001b[0m\u001b[0;34m:\u001b[0m\u001b[0;34m\u001b[0m\u001b[0;34m\u001b[0m\u001b[0m\n\u001b[0;32m--> 187\u001b[0;31m         \u001b[0mcall\u001b[0m \u001b[0;34m=\u001b[0m \u001b[0;32mlambda\u001b[0m \u001b[0mf\u001b[0m\u001b[0;34m,\u001b[0m \u001b[0;34m*\u001b[0m\u001b[0ma\u001b[0m\u001b[0;34m,\u001b[0m \u001b[0;34m**\u001b[0m\u001b[0mk\u001b[0m\u001b[0;34m:\u001b[0m \u001b[0mf\u001b[0m\u001b[0;34m(\u001b[0m\u001b[0;34m*\u001b[0m\u001b[0ma\u001b[0m\u001b[0;34m,\u001b[0m \u001b[0;34m**\u001b[0m\u001b[0mk\u001b[0m\u001b[0;34m)\u001b[0m\u001b[0;34m\u001b[0m\u001b[0;34m\u001b[0m\u001b[0m\n\u001b[0m\u001b[1;32m    188\u001b[0m \u001b[0;34m\u001b[0m\u001b[0m\n\u001b[1;32m    189\u001b[0m         \u001b[0;32mif\u001b[0m \u001b[0mcallable\u001b[0m\u001b[0;34m(\u001b[0m\u001b[0marg\u001b[0m\u001b[0;34m)\u001b[0m\u001b[0;34m:\u001b[0m\u001b[0;34m\u001b[0m\u001b[0;34m\u001b[0m\u001b[0m\n",
            "\u001b[0;32m/usr/local/lib/python3.10/dist-packages/IPython/core/magics/script.py\u001b[0m in \u001b[0;36mshebang\u001b[0;34m(self, line, cell)\u001b[0m\n\u001b[1;32m    243\u001b[0m             \u001b[0msys\u001b[0m\u001b[0;34m.\u001b[0m\u001b[0mstderr\u001b[0m\u001b[0;34m.\u001b[0m\u001b[0mflush\u001b[0m\u001b[0;34m(\u001b[0m\u001b[0;34m)\u001b[0m\u001b[0;34m\u001b[0m\u001b[0;34m\u001b[0m\u001b[0m\n\u001b[1;32m    244\u001b[0m         \u001b[0;32mif\u001b[0m \u001b[0margs\u001b[0m\u001b[0;34m.\u001b[0m\u001b[0mraise_error\u001b[0m \u001b[0;32mand\u001b[0m \u001b[0mp\u001b[0m\u001b[0;34m.\u001b[0m\u001b[0mreturncode\u001b[0m\u001b[0;34m!=\u001b[0m\u001b[0;36m0\u001b[0m\u001b[0;34m:\u001b[0m\u001b[0;34m\u001b[0m\u001b[0;34m\u001b[0m\u001b[0m\n\u001b[0;32m--> 245\u001b[0;31m             \u001b[0;32mraise\u001b[0m \u001b[0mCalledProcessError\u001b[0m\u001b[0;34m(\u001b[0m\u001b[0mp\u001b[0m\u001b[0;34m.\u001b[0m\u001b[0mreturncode\u001b[0m\u001b[0;34m,\u001b[0m \u001b[0mcell\u001b[0m\u001b[0;34m,\u001b[0m \u001b[0moutput\u001b[0m\u001b[0;34m=\u001b[0m\u001b[0mout\u001b[0m\u001b[0;34m,\u001b[0m \u001b[0mstderr\u001b[0m\u001b[0;34m=\u001b[0m\u001b[0merr\u001b[0m\u001b[0;34m)\u001b[0m\u001b[0;34m\u001b[0m\u001b[0;34m\u001b[0m\u001b[0m\n\u001b[0m\u001b[1;32m    246\u001b[0m \u001b[0;34m\u001b[0m\u001b[0m\n\u001b[1;32m    247\u001b[0m     \u001b[0;32mdef\u001b[0m \u001b[0m_run_script\u001b[0m\u001b[0;34m(\u001b[0m\u001b[0mself\u001b[0m\u001b[0;34m,\u001b[0m \u001b[0mp\u001b[0m\u001b[0;34m,\u001b[0m \u001b[0mcell\u001b[0m\u001b[0;34m,\u001b[0m \u001b[0mto_close\u001b[0m\u001b[0;34m)\u001b[0m\u001b[0;34m:\u001b[0m\u001b[0;34m\u001b[0m\u001b[0;34m\u001b[0m\u001b[0m\n",
            "\u001b[0;31mCalledProcessError\u001b[0m: Command 'b'polyglot download morph2.en morph2.mr\\n'' returned non-zero exit status 127."
          ]
        }
      ]
    },
    {
      "cell_type": "code",
      "source": [
        "from polyglot.downloader import downloader\n",
        "print(downloader.supported_languages_table(\"morph2\"))"
      ],
      "metadata": {
        "colab": {
          "base_uri": "https://localhost:8080/",
          "height": 304
        },
        "id": "xCDCF6G34qx8",
        "outputId": "1be71fb7-351d-4721-a664-4f11ffb640bc"
      },
      "execution_count": 20,
      "outputs": [
        {
          "output_type": "error",
          "ename": "KeyboardInterrupt",
          "evalue": "",
          "traceback": [
            "\u001b[0;31m---------------------------------------------------------------------------\u001b[0m",
            "\u001b[0;31mKeyboardInterrupt\u001b[0m                         Traceback (most recent call last)",
            "\u001b[0;32m<ipython-input-20-6d6dfc32cadb>\u001b[0m in \u001b[0;36m<cell line: 2>\u001b[0;34m()\u001b[0m\n\u001b[1;32m      1\u001b[0m \u001b[0;32mfrom\u001b[0m \u001b[0mpolyglot\u001b[0m\u001b[0;34m.\u001b[0m\u001b[0mdownloader\u001b[0m \u001b[0;32mimport\u001b[0m \u001b[0mdownloader\u001b[0m\u001b[0;34m\u001b[0m\u001b[0;34m\u001b[0m\u001b[0m\n\u001b[0;32m----> 2\u001b[0;31m \u001b[0mprint\u001b[0m\u001b[0;34m(\u001b[0m\u001b[0mdownloader\u001b[0m\u001b[0;34m.\u001b[0m\u001b[0msupported_languages_table\u001b[0m\u001b[0;34m(\u001b[0m\u001b[0;34m\"morph2\"\u001b[0m\u001b[0;34m)\u001b[0m\u001b[0;34m)\u001b[0m\u001b[0;34m\u001b[0m\u001b[0;34m\u001b[0m\u001b[0m\n\u001b[0m",
            "\u001b[0;32m/usr/local/lib/python3.10/dist-packages/polyglot/downloader.py\u001b[0m in \u001b[0;36msupported_languages_table\u001b[0;34m(self, task, cols)\u001b[0m\n\u001b[1;32m    976\u001b[0m \u001b[0;34m\u001b[0m\u001b[0m\n\u001b[1;32m    977\u001b[0m   \u001b[0;32mdef\u001b[0m \u001b[0msupported_languages_table\u001b[0m\u001b[0;34m(\u001b[0m\u001b[0mself\u001b[0m\u001b[0;34m,\u001b[0m \u001b[0mtask\u001b[0m\u001b[0;34m,\u001b[0m \u001b[0mcols\u001b[0m\u001b[0;34m=\u001b[0m\u001b[0;36m3\u001b[0m\u001b[0;34m)\u001b[0m\u001b[0;34m:\u001b[0m\u001b[0;34m\u001b[0m\u001b[0;34m\u001b[0m\u001b[0m\n\u001b[0;32m--> 978\u001b[0;31m     \u001b[0mlanguages\u001b[0m \u001b[0;34m=\u001b[0m \u001b[0mself\u001b[0m\u001b[0;34m.\u001b[0m\u001b[0msupported_languages\u001b[0m\u001b[0;34m(\u001b[0m\u001b[0mtask\u001b[0m\u001b[0;34m)\u001b[0m\u001b[0;34m\u001b[0m\u001b[0;34m\u001b[0m\u001b[0m\n\u001b[0m\u001b[1;32m    979\u001b[0m     \u001b[0;32mreturn\u001b[0m \u001b[0mpretty_list\u001b[0m\u001b[0;34m(\u001b[0m\u001b[0mlanguages\u001b[0m\u001b[0;34m)\u001b[0m\u001b[0;34m\u001b[0m\u001b[0;34m\u001b[0m\u001b[0m\n\u001b[1;32m    980\u001b[0m \u001b[0;34m\u001b[0m\u001b[0m\n",
            "\u001b[0;32m/usr/local/lib/python3.10/dist-packages/polyglot/downloader.py\u001b[0m in \u001b[0;36msupported_languages\u001b[0;34m(self, task)\u001b[0m\n\u001b[1;32m    968\u001b[0m     \"\"\"\n\u001b[1;32m    969\u001b[0m     \u001b[0;32mif\u001b[0m \u001b[0mtask\u001b[0m\u001b[0;34m:\u001b[0m\u001b[0;34m\u001b[0m\u001b[0;34m\u001b[0m\u001b[0m\n\u001b[0;32m--> 970\u001b[0;31m       \u001b[0mcollection\u001b[0m \u001b[0;34m=\u001b[0m \u001b[0mself\u001b[0m\u001b[0;34m.\u001b[0m\u001b[0mget_collection\u001b[0m\u001b[0;34m(\u001b[0m\u001b[0mtask\u001b[0m\u001b[0;34m=\u001b[0m\u001b[0mtask\u001b[0m\u001b[0;34m)\u001b[0m\u001b[0;34m\u001b[0m\u001b[0;34m\u001b[0m\u001b[0m\n\u001b[0m\u001b[1;32m    971\u001b[0m       return [isoLangs[x.id.split('.')[1]][\"name\"]\n\u001b[1;32m    972\u001b[0m                                          for x in collection.packages]\n",
            "\u001b[0;32m/usr/local/lib/python3.10/dist-packages/polyglot/downloader.py\u001b[0m in \u001b[0;36mget_collection\u001b[0;34m(self, lang, task)\u001b[0m\n\u001b[1;32m    944\u001b[0m     \u001b[0;32melse\u001b[0m\u001b[0;34m:\u001b[0m \u001b[0;32mraise\u001b[0m \u001b[0mValueError\u001b[0m\u001b[0;34m(\u001b[0m\u001b[0;34m\"You should pass either the task or the lang\"\u001b[0m\u001b[0;34m)\u001b[0m\u001b[0;34m\u001b[0m\u001b[0;34m\u001b[0m\u001b[0m\n\u001b[1;32m    945\u001b[0m     \u001b[0;32mtry\u001b[0m\u001b[0;34m:\u001b[0m\u001b[0;34m\u001b[0m\u001b[0;34m\u001b[0m\u001b[0m\n\u001b[0;32m--> 946\u001b[0;31m       \u001b[0;32mreturn\u001b[0m \u001b[0mself\u001b[0m\u001b[0;34m.\u001b[0m\u001b[0minfo\u001b[0m\u001b[0;34m(\u001b[0m\u001b[0mid\u001b[0m\u001b[0;34m)\u001b[0m\u001b[0;34m\u001b[0m\u001b[0;34m\u001b[0m\u001b[0m\n\u001b[0m\u001b[1;32m    947\u001b[0m     \u001b[0;32mexcept\u001b[0m \u001b[0mValueError\u001b[0m \u001b[0;32mas\u001b[0m \u001b[0me\u001b[0m\u001b[0;34m:\u001b[0m\u001b[0;34m\u001b[0m\u001b[0;34m\u001b[0m\u001b[0m\n\u001b[1;32m    948\u001b[0m       \u001b[0;32mif\u001b[0m \u001b[0mlang\u001b[0m\u001b[0;34m:\u001b[0m \u001b[0;32mraise\u001b[0m \u001b[0mLanguageNotSupported\u001b[0m\u001b[0;34m(\u001b[0m\u001b[0;34m\"Language {} is not supported\"\u001b[0m\u001b[0;34m.\u001b[0m\u001b[0mformat\u001b[0m\u001b[0;34m(\u001b[0m\u001b[0mid\u001b[0m\u001b[0;34m)\u001b[0m\u001b[0;34m)\u001b[0m\u001b[0;34m\u001b[0m\u001b[0;34m\u001b[0m\u001b[0m\n",
            "\u001b[0;32m/usr/local/lib/python3.10/dist-packages/polyglot/downloader.py\u001b[0m in \u001b[0;36minfo\u001b[0;34m(self, id)\u001b[0m\n\u001b[1;32m    927\u001b[0m     \u001b[0;32mif\u001b[0m \u001b[0mid\u001b[0m \u001b[0;32min\u001b[0m \u001b[0mself\u001b[0m\u001b[0;34m.\u001b[0m\u001b[0m_packages\u001b[0m\u001b[0;34m:\u001b[0m \u001b[0;32mreturn\u001b[0m \u001b[0mself\u001b[0m\u001b[0;34m.\u001b[0m\u001b[0m_packages\u001b[0m\u001b[0;34m[\u001b[0m\u001b[0mid\u001b[0m\u001b[0;34m]\u001b[0m\u001b[0;34m\u001b[0m\u001b[0;34m\u001b[0m\u001b[0m\n\u001b[1;32m    928\u001b[0m     \u001b[0;32mif\u001b[0m \u001b[0mid\u001b[0m \u001b[0;32min\u001b[0m \u001b[0mself\u001b[0m\u001b[0;34m.\u001b[0m\u001b[0m_collections\u001b[0m\u001b[0;34m:\u001b[0m \u001b[0;32mreturn\u001b[0m \u001b[0mself\u001b[0m\u001b[0;34m.\u001b[0m\u001b[0m_collections\u001b[0m\u001b[0;34m[\u001b[0m\u001b[0mid\u001b[0m\u001b[0;34m]\u001b[0m\u001b[0;34m\u001b[0m\u001b[0;34m\u001b[0m\u001b[0m\n\u001b[0;32m--> 929\u001b[0;31m     \u001b[0mself\u001b[0m\u001b[0;34m.\u001b[0m\u001b[0m_update_index\u001b[0m\u001b[0;34m(\u001b[0m\u001b[0;34m)\u001b[0m \u001b[0;31m# If package is not found, most probably we did not\u001b[0m\u001b[0;34m\u001b[0m\u001b[0;34m\u001b[0m\u001b[0m\n\u001b[0m\u001b[1;32m    930\u001b[0m                          \u001b[0;31m# warm up the cache\u001b[0m\u001b[0;34m\u001b[0m\u001b[0;34m\u001b[0m\u001b[0m\n\u001b[1;32m    931\u001b[0m     \u001b[0;32mif\u001b[0m \u001b[0mid\u001b[0m \u001b[0;32min\u001b[0m \u001b[0mself\u001b[0m\u001b[0;34m.\u001b[0m\u001b[0m_packages\u001b[0m\u001b[0;34m:\u001b[0m \u001b[0;32mreturn\u001b[0m \u001b[0mself\u001b[0m\u001b[0;34m.\u001b[0m\u001b[0m_packages\u001b[0m\u001b[0;34m[\u001b[0m\u001b[0mid\u001b[0m\u001b[0;34m]\u001b[0m\u001b[0;34m\u001b[0m\u001b[0;34m\u001b[0m\u001b[0m\n",
            "\u001b[0;32m/usr/local/lib/python3.10/dist-packages/polyglot/downloader.py\u001b[0m in \u001b[0;36m_update_index\u001b[0;34m(self, url)\u001b[0m\n\u001b[1;32m    829\u001b[0m     \u001b[0;32melif\u001b[0m \u001b[0msource\u001b[0m \u001b[0;34m==\u001b[0m \u001b[0;34m'mirror'\u001b[0m\u001b[0;34m:\u001b[0m\u001b[0;34m\u001b[0m\u001b[0;34m\u001b[0m\u001b[0m\n\u001b[1;32m    830\u001b[0m         \u001b[0mindex_url\u001b[0m \u001b[0;34m=\u001b[0m \u001b[0mpath\u001b[0m\u001b[0;34m.\u001b[0m\u001b[0mjoin\u001b[0m\u001b[0;34m(\u001b[0m\u001b[0mself\u001b[0m\u001b[0;34m.\u001b[0m\u001b[0m_url\u001b[0m\u001b[0;34m,\u001b[0m \u001b[0;34m'index.json'\u001b[0m\u001b[0;34m)\u001b[0m\u001b[0;34m\u001b[0m\u001b[0;34m\u001b[0m\u001b[0m\n\u001b[0;32m--> 831\u001b[0;31m         \u001b[0mdata\u001b[0m \u001b[0;34m=\u001b[0m \u001b[0murlopen\u001b[0m\u001b[0;34m(\u001b[0m\u001b[0mindex_url\u001b[0m\u001b[0;34m)\u001b[0m\u001b[0;34m.\u001b[0m\u001b[0mread\u001b[0m\u001b[0;34m(\u001b[0m\u001b[0;34m)\u001b[0m\u001b[0;34m\u001b[0m\u001b[0;34m\u001b[0m\u001b[0m\n\u001b[0m\u001b[1;32m    832\u001b[0m \u001b[0;34m\u001b[0m\u001b[0m\n\u001b[1;32m    833\u001b[0m     \u001b[0;32mif\u001b[0m \u001b[0msix\u001b[0m\u001b[0;34m.\u001b[0m\u001b[0mPY3\u001b[0m\u001b[0;34m:\u001b[0m\u001b[0;34m\u001b[0m\u001b[0;34m\u001b[0m\u001b[0m\n",
            "\u001b[0;32m/usr/lib/python3.10/urllib/request.py\u001b[0m in \u001b[0;36murlopen\u001b[0;34m(url, data, timeout, cafile, capath, cadefault, context)\u001b[0m\n\u001b[1;32m    214\u001b[0m     \u001b[0;32melse\u001b[0m\u001b[0;34m:\u001b[0m\u001b[0;34m\u001b[0m\u001b[0;34m\u001b[0m\u001b[0m\n\u001b[1;32m    215\u001b[0m         \u001b[0mopener\u001b[0m \u001b[0;34m=\u001b[0m \u001b[0m_opener\u001b[0m\u001b[0;34m\u001b[0m\u001b[0;34m\u001b[0m\u001b[0m\n\u001b[0;32m--> 216\u001b[0;31m     \u001b[0;32mreturn\u001b[0m \u001b[0mopener\u001b[0m\u001b[0;34m.\u001b[0m\u001b[0mopen\u001b[0m\u001b[0;34m(\u001b[0m\u001b[0murl\u001b[0m\u001b[0;34m,\u001b[0m \u001b[0mdata\u001b[0m\u001b[0;34m,\u001b[0m \u001b[0mtimeout\u001b[0m\u001b[0;34m)\u001b[0m\u001b[0;34m\u001b[0m\u001b[0;34m\u001b[0m\u001b[0m\n\u001b[0m\u001b[1;32m    217\u001b[0m \u001b[0;34m\u001b[0m\u001b[0m\n\u001b[1;32m    218\u001b[0m \u001b[0;32mdef\u001b[0m \u001b[0minstall_opener\u001b[0m\u001b[0;34m(\u001b[0m\u001b[0mopener\u001b[0m\u001b[0;34m)\u001b[0m\u001b[0;34m:\u001b[0m\u001b[0;34m\u001b[0m\u001b[0;34m\u001b[0m\u001b[0m\n",
            "\u001b[0;32m/usr/lib/python3.10/urllib/request.py\u001b[0m in \u001b[0;36mopen\u001b[0;34m(self, fullurl, data, timeout)\u001b[0m\n\u001b[1;32m    517\u001b[0m \u001b[0;34m\u001b[0m\u001b[0m\n\u001b[1;32m    518\u001b[0m         \u001b[0msys\u001b[0m\u001b[0;34m.\u001b[0m\u001b[0maudit\u001b[0m\u001b[0;34m(\u001b[0m\u001b[0;34m'urllib.Request'\u001b[0m\u001b[0;34m,\u001b[0m \u001b[0mreq\u001b[0m\u001b[0;34m.\u001b[0m\u001b[0mfull_url\u001b[0m\u001b[0;34m,\u001b[0m \u001b[0mreq\u001b[0m\u001b[0;34m.\u001b[0m\u001b[0mdata\u001b[0m\u001b[0;34m,\u001b[0m \u001b[0mreq\u001b[0m\u001b[0;34m.\u001b[0m\u001b[0mheaders\u001b[0m\u001b[0;34m,\u001b[0m \u001b[0mreq\u001b[0m\u001b[0;34m.\u001b[0m\u001b[0mget_method\u001b[0m\u001b[0;34m(\u001b[0m\u001b[0;34m)\u001b[0m\u001b[0;34m)\u001b[0m\u001b[0;34m\u001b[0m\u001b[0;34m\u001b[0m\u001b[0m\n\u001b[0;32m--> 519\u001b[0;31m         \u001b[0mresponse\u001b[0m \u001b[0;34m=\u001b[0m \u001b[0mself\u001b[0m\u001b[0;34m.\u001b[0m\u001b[0m_open\u001b[0m\u001b[0;34m(\u001b[0m\u001b[0mreq\u001b[0m\u001b[0;34m,\u001b[0m \u001b[0mdata\u001b[0m\u001b[0;34m)\u001b[0m\u001b[0;34m\u001b[0m\u001b[0;34m\u001b[0m\u001b[0m\n\u001b[0m\u001b[1;32m    520\u001b[0m \u001b[0;34m\u001b[0m\u001b[0m\n\u001b[1;32m    521\u001b[0m         \u001b[0;31m# post-process response\u001b[0m\u001b[0;34m\u001b[0m\u001b[0;34m\u001b[0m\u001b[0m\n",
            "\u001b[0;32m/usr/lib/python3.10/urllib/request.py\u001b[0m in \u001b[0;36m_open\u001b[0;34m(self, req, data)\u001b[0m\n\u001b[1;32m    534\u001b[0m \u001b[0;34m\u001b[0m\u001b[0m\n\u001b[1;32m    535\u001b[0m         \u001b[0mprotocol\u001b[0m \u001b[0;34m=\u001b[0m \u001b[0mreq\u001b[0m\u001b[0;34m.\u001b[0m\u001b[0mtype\u001b[0m\u001b[0;34m\u001b[0m\u001b[0;34m\u001b[0m\u001b[0m\n\u001b[0;32m--> 536\u001b[0;31m         result = self._call_chain(self.handle_open, protocol, protocol +\n\u001b[0m\u001b[1;32m    537\u001b[0m                                   '_open', req)\n\u001b[1;32m    538\u001b[0m         \u001b[0;32mif\u001b[0m \u001b[0mresult\u001b[0m\u001b[0;34m:\u001b[0m\u001b[0;34m\u001b[0m\u001b[0;34m\u001b[0m\u001b[0m\n",
            "\u001b[0;32m/usr/lib/python3.10/urllib/request.py\u001b[0m in \u001b[0;36m_call_chain\u001b[0;34m(self, chain, kind, meth_name, *args)\u001b[0m\n\u001b[1;32m    494\u001b[0m         \u001b[0;32mfor\u001b[0m \u001b[0mhandler\u001b[0m \u001b[0;32min\u001b[0m \u001b[0mhandlers\u001b[0m\u001b[0;34m:\u001b[0m\u001b[0;34m\u001b[0m\u001b[0;34m\u001b[0m\u001b[0m\n\u001b[1;32m    495\u001b[0m             \u001b[0mfunc\u001b[0m \u001b[0;34m=\u001b[0m \u001b[0mgetattr\u001b[0m\u001b[0;34m(\u001b[0m\u001b[0mhandler\u001b[0m\u001b[0;34m,\u001b[0m \u001b[0mmeth_name\u001b[0m\u001b[0;34m)\u001b[0m\u001b[0;34m\u001b[0m\u001b[0;34m\u001b[0m\u001b[0m\n\u001b[0;32m--> 496\u001b[0;31m             \u001b[0mresult\u001b[0m \u001b[0;34m=\u001b[0m \u001b[0mfunc\u001b[0m\u001b[0;34m(\u001b[0m\u001b[0;34m*\u001b[0m\u001b[0margs\u001b[0m\u001b[0;34m)\u001b[0m\u001b[0;34m\u001b[0m\u001b[0;34m\u001b[0m\u001b[0m\n\u001b[0m\u001b[1;32m    497\u001b[0m             \u001b[0;32mif\u001b[0m \u001b[0mresult\u001b[0m \u001b[0;32mis\u001b[0m \u001b[0;32mnot\u001b[0m \u001b[0;32mNone\u001b[0m\u001b[0;34m:\u001b[0m\u001b[0;34m\u001b[0m\u001b[0;34m\u001b[0m\u001b[0m\n\u001b[1;32m    498\u001b[0m                 \u001b[0;32mreturn\u001b[0m \u001b[0mresult\u001b[0m\u001b[0;34m\u001b[0m\u001b[0;34m\u001b[0m\u001b[0m\n",
            "\u001b[0;32m/usr/lib/python3.10/urllib/request.py\u001b[0m in \u001b[0;36mhttp_open\u001b[0;34m(self, req)\u001b[0m\n\u001b[1;32m   1375\u001b[0m \u001b[0;34m\u001b[0m\u001b[0m\n\u001b[1;32m   1376\u001b[0m     \u001b[0;32mdef\u001b[0m \u001b[0mhttp_open\u001b[0m\u001b[0;34m(\u001b[0m\u001b[0mself\u001b[0m\u001b[0;34m,\u001b[0m \u001b[0mreq\u001b[0m\u001b[0;34m)\u001b[0m\u001b[0;34m:\u001b[0m\u001b[0;34m\u001b[0m\u001b[0;34m\u001b[0m\u001b[0m\n\u001b[0;32m-> 1377\u001b[0;31m         \u001b[0;32mreturn\u001b[0m \u001b[0mself\u001b[0m\u001b[0;34m.\u001b[0m\u001b[0mdo_open\u001b[0m\u001b[0;34m(\u001b[0m\u001b[0mhttp\u001b[0m\u001b[0;34m.\u001b[0m\u001b[0mclient\u001b[0m\u001b[0;34m.\u001b[0m\u001b[0mHTTPConnection\u001b[0m\u001b[0;34m,\u001b[0m \u001b[0mreq\u001b[0m\u001b[0;34m)\u001b[0m\u001b[0;34m\u001b[0m\u001b[0;34m\u001b[0m\u001b[0m\n\u001b[0m\u001b[1;32m   1378\u001b[0m \u001b[0;34m\u001b[0m\u001b[0m\n\u001b[1;32m   1379\u001b[0m     \u001b[0mhttp_request\u001b[0m \u001b[0;34m=\u001b[0m \u001b[0mAbstractHTTPHandler\u001b[0m\u001b[0;34m.\u001b[0m\u001b[0mdo_request_\u001b[0m\u001b[0;34m\u001b[0m\u001b[0;34m\u001b[0m\u001b[0m\n",
            "\u001b[0;32m/usr/lib/python3.10/urllib/request.py\u001b[0m in \u001b[0;36mdo_open\u001b[0;34m(self, http_class, req, **http_conn_args)\u001b[0m\n\u001b[1;32m   1350\u001b[0m             \u001b[0;32mexcept\u001b[0m \u001b[0mOSError\u001b[0m \u001b[0;32mas\u001b[0m \u001b[0merr\u001b[0m\u001b[0;34m:\u001b[0m \u001b[0;31m# timeout error\u001b[0m\u001b[0;34m\u001b[0m\u001b[0;34m\u001b[0m\u001b[0m\n\u001b[1;32m   1351\u001b[0m                 \u001b[0;32mraise\u001b[0m \u001b[0mURLError\u001b[0m\u001b[0;34m(\u001b[0m\u001b[0merr\u001b[0m\u001b[0;34m)\u001b[0m\u001b[0;34m\u001b[0m\u001b[0;34m\u001b[0m\u001b[0m\n\u001b[0;32m-> 1352\u001b[0;31m             \u001b[0mr\u001b[0m \u001b[0;34m=\u001b[0m \u001b[0mh\u001b[0m\u001b[0;34m.\u001b[0m\u001b[0mgetresponse\u001b[0m\u001b[0;34m(\u001b[0m\u001b[0;34m)\u001b[0m\u001b[0;34m\u001b[0m\u001b[0;34m\u001b[0m\u001b[0m\n\u001b[0m\u001b[1;32m   1353\u001b[0m         \u001b[0;32mexcept\u001b[0m\u001b[0;34m:\u001b[0m\u001b[0;34m\u001b[0m\u001b[0;34m\u001b[0m\u001b[0m\n\u001b[1;32m   1354\u001b[0m             \u001b[0mh\u001b[0m\u001b[0;34m.\u001b[0m\u001b[0mclose\u001b[0m\u001b[0;34m(\u001b[0m\u001b[0;34m)\u001b[0m\u001b[0;34m\u001b[0m\u001b[0;34m\u001b[0m\u001b[0m\n",
            "\u001b[0;32m/usr/lib/python3.10/http/client.py\u001b[0m in \u001b[0;36mgetresponse\u001b[0;34m(self)\u001b[0m\n\u001b[1;32m   1373\u001b[0m         \u001b[0;32mtry\u001b[0m\u001b[0;34m:\u001b[0m\u001b[0;34m\u001b[0m\u001b[0;34m\u001b[0m\u001b[0m\n\u001b[1;32m   1374\u001b[0m             \u001b[0;32mtry\u001b[0m\u001b[0;34m:\u001b[0m\u001b[0;34m\u001b[0m\u001b[0;34m\u001b[0m\u001b[0m\n\u001b[0;32m-> 1375\u001b[0;31m                 \u001b[0mresponse\u001b[0m\u001b[0;34m.\u001b[0m\u001b[0mbegin\u001b[0m\u001b[0;34m(\u001b[0m\u001b[0;34m)\u001b[0m\u001b[0;34m\u001b[0m\u001b[0;34m\u001b[0m\u001b[0m\n\u001b[0m\u001b[1;32m   1376\u001b[0m             \u001b[0;32mexcept\u001b[0m \u001b[0mConnectionError\u001b[0m\u001b[0;34m:\u001b[0m\u001b[0;34m\u001b[0m\u001b[0;34m\u001b[0m\u001b[0m\n\u001b[1;32m   1377\u001b[0m                 \u001b[0mself\u001b[0m\u001b[0;34m.\u001b[0m\u001b[0mclose\u001b[0m\u001b[0;34m(\u001b[0m\u001b[0;34m)\u001b[0m\u001b[0;34m\u001b[0m\u001b[0;34m\u001b[0m\u001b[0m\n",
            "\u001b[0;32m/usr/lib/python3.10/http/client.py\u001b[0m in \u001b[0;36mbegin\u001b[0;34m(self)\u001b[0m\n\u001b[1;32m    316\u001b[0m         \u001b[0;31m# read until we get a non-100 response\u001b[0m\u001b[0;34m\u001b[0m\u001b[0;34m\u001b[0m\u001b[0m\n\u001b[1;32m    317\u001b[0m         \u001b[0;32mwhile\u001b[0m \u001b[0;32mTrue\u001b[0m\u001b[0;34m:\u001b[0m\u001b[0;34m\u001b[0m\u001b[0;34m\u001b[0m\u001b[0m\n\u001b[0;32m--> 318\u001b[0;31m             \u001b[0mversion\u001b[0m\u001b[0;34m,\u001b[0m \u001b[0mstatus\u001b[0m\u001b[0;34m,\u001b[0m \u001b[0mreason\u001b[0m \u001b[0;34m=\u001b[0m \u001b[0mself\u001b[0m\u001b[0;34m.\u001b[0m\u001b[0m_read_status\u001b[0m\u001b[0;34m(\u001b[0m\u001b[0;34m)\u001b[0m\u001b[0;34m\u001b[0m\u001b[0;34m\u001b[0m\u001b[0m\n\u001b[0m\u001b[1;32m    319\u001b[0m             \u001b[0;32mif\u001b[0m \u001b[0mstatus\u001b[0m \u001b[0;34m!=\u001b[0m \u001b[0mCONTINUE\u001b[0m\u001b[0;34m:\u001b[0m\u001b[0;34m\u001b[0m\u001b[0;34m\u001b[0m\u001b[0m\n\u001b[1;32m    320\u001b[0m                 \u001b[0;32mbreak\u001b[0m\u001b[0;34m\u001b[0m\u001b[0;34m\u001b[0m\u001b[0m\n",
            "\u001b[0;32m/usr/lib/python3.10/http/client.py\u001b[0m in \u001b[0;36m_read_status\u001b[0;34m(self)\u001b[0m\n\u001b[1;32m    277\u001b[0m \u001b[0;34m\u001b[0m\u001b[0m\n\u001b[1;32m    278\u001b[0m     \u001b[0;32mdef\u001b[0m \u001b[0m_read_status\u001b[0m\u001b[0;34m(\u001b[0m\u001b[0mself\u001b[0m\u001b[0;34m)\u001b[0m\u001b[0;34m:\u001b[0m\u001b[0;34m\u001b[0m\u001b[0;34m\u001b[0m\u001b[0m\n\u001b[0;32m--> 279\u001b[0;31m         \u001b[0mline\u001b[0m \u001b[0;34m=\u001b[0m \u001b[0mstr\u001b[0m\u001b[0;34m(\u001b[0m\u001b[0mself\u001b[0m\u001b[0;34m.\u001b[0m\u001b[0mfp\u001b[0m\u001b[0;34m.\u001b[0m\u001b[0mreadline\u001b[0m\u001b[0;34m(\u001b[0m\u001b[0m_MAXLINE\u001b[0m \u001b[0;34m+\u001b[0m \u001b[0;36m1\u001b[0m\u001b[0;34m)\u001b[0m\u001b[0;34m,\u001b[0m \u001b[0;34m\"iso-8859-1\"\u001b[0m\u001b[0;34m)\u001b[0m\u001b[0;34m\u001b[0m\u001b[0;34m\u001b[0m\u001b[0m\n\u001b[0m\u001b[1;32m    280\u001b[0m         \u001b[0;32mif\u001b[0m \u001b[0mlen\u001b[0m\u001b[0;34m(\u001b[0m\u001b[0mline\u001b[0m\u001b[0;34m)\u001b[0m \u001b[0;34m>\u001b[0m \u001b[0m_MAXLINE\u001b[0m\u001b[0;34m:\u001b[0m\u001b[0;34m\u001b[0m\u001b[0;34m\u001b[0m\u001b[0m\n\u001b[1;32m    281\u001b[0m             \u001b[0;32mraise\u001b[0m \u001b[0mLineTooLong\u001b[0m\u001b[0;34m(\u001b[0m\u001b[0;34m\"status line\"\u001b[0m\u001b[0;34m)\u001b[0m\u001b[0;34m\u001b[0m\u001b[0;34m\u001b[0m\u001b[0m\n",
            "\u001b[0;32m/usr/lib/python3.10/socket.py\u001b[0m in \u001b[0;36mreadinto\u001b[0;34m(self, b)\u001b[0m\n\u001b[1;32m    703\u001b[0m         \u001b[0;32mwhile\u001b[0m \u001b[0;32mTrue\u001b[0m\u001b[0;34m:\u001b[0m\u001b[0;34m\u001b[0m\u001b[0;34m\u001b[0m\u001b[0m\n\u001b[1;32m    704\u001b[0m             \u001b[0;32mtry\u001b[0m\u001b[0;34m:\u001b[0m\u001b[0;34m\u001b[0m\u001b[0;34m\u001b[0m\u001b[0m\n\u001b[0;32m--> 705\u001b[0;31m                 \u001b[0;32mreturn\u001b[0m \u001b[0mself\u001b[0m\u001b[0;34m.\u001b[0m\u001b[0m_sock\u001b[0m\u001b[0;34m.\u001b[0m\u001b[0mrecv_into\u001b[0m\u001b[0;34m(\u001b[0m\u001b[0mb\u001b[0m\u001b[0;34m)\u001b[0m\u001b[0;34m\u001b[0m\u001b[0;34m\u001b[0m\u001b[0m\n\u001b[0m\u001b[1;32m    706\u001b[0m             \u001b[0;32mexcept\u001b[0m \u001b[0mtimeout\u001b[0m\u001b[0;34m:\u001b[0m\u001b[0;34m\u001b[0m\u001b[0;34m\u001b[0m\u001b[0m\n\u001b[1;32m    707\u001b[0m                 \u001b[0mself\u001b[0m\u001b[0;34m.\u001b[0m\u001b[0m_timeout_occurred\u001b[0m \u001b[0;34m=\u001b[0m \u001b[0;32mTrue\u001b[0m\u001b[0;34m\u001b[0m\u001b[0;34m\u001b[0m\u001b[0m\n",
            "\u001b[0;31mKeyboardInterrupt\u001b[0m: "
          ]
        }
      ]
    },
    {
      "cell_type": "code",
      "source": [
        "from polyglot.text import Text, Word"
      ],
      "metadata": {
        "id": "Bj1NK9V26gf5"
      },
      "execution_count": null,
      "outputs": []
    },
    {
      "cell_type": "code",
      "source": [
        "words = ['cats', 'computing', 'association', 'programming', 'leadership', 'miscommunication', 'identifiable',\n",
        "         'psychologically', 'engineering', 'tabular', 'realistic', 'colorfulness']\n",
        "\n",
        "for w in words:\n",
        "    w = Word(w, language = 'en')\n",
        "    print(w, '\\t\\t', w.morphemes)"
      ],
      "metadata": {
        "id": "sfguy91w6wWn"
      },
      "execution_count": null,
      "outputs": []
    },
    {
      "cell_type": "code",
      "source": [
        "words = [ 'हे', 'इंग्लंडचे', 'व', 'युनायटेड', 'किंग्डमचे', 'राजधानीचे', 'व', 'सर्वात', 'मोठे', 'शहर', 'तसेच', 'युरोपियन', 'संघामधील', 'सर्वात', 'मोठे', 'महानगर', 'क्षेत्र']\n",
        "\n",
        "for w in words:\n",
        "    w = Word(w, language = 'mr')\n",
        "    print(w, '\\t\\t', w.morphemes)"
      ],
      "metadata": {
        "id": "Oo35ZDNC9CGP"
      },
      "execution_count": null,
      "outputs": []
    },
    {
      "cell_type": "code",
      "source": [],
      "metadata": {
        "id": "RgyS1Aib9_VR"
      },
      "execution_count": null,
      "outputs": []
    },
    {
      "cell_type": "markdown",
      "source": [
        "### POS Tagging"
      ],
      "metadata": {
        "id": "eVASL9YxC-9D"
      }
    },
    {
      "cell_type": "code",
      "source": [
        "from nltk.tokenize import word_tokenize\n",
        "from nltk import pos_tag"
      ],
      "metadata": {
        "id": "2STpu7JsC69y"
      },
      "execution_count": 13,
      "outputs": []
    },
    {
      "cell_type": "code",
      "source": [
        "# Corpus\n",
        "text = '''Saturn is the sixth planet from the Sun and the second largest in the Solar System, after Jupiter. It is a gas giant, with an average radius of about nine times that of Earth.[27][28] It has an eighth the average density of Earth, but is over 95 times more massive.[29][30][31] Even though Saturn is almost as big as Jupiter, Saturn has less than a third the mass of Jupiter. Saturn orbits the Sun at a distance of 9.59 AU (1,434 million km), with an orbital period of 29.45 years.\n",
        "\n",
        "Saturn's interior is thought to be composed of a rocky core, surrounded by a deep layer of metallic hydrogen, an intermediate layer of liquid hydrogen and liquid helium, and an outer layer of gas. Saturn has a pale yellow hue, due to ammonia crystals in its upper atmosphere. An electrical current in the metallic hydrogen layer is thought to give rise to Saturn's planetary magnetic field, which is weaker than Earth's, but has a magnetic moment 580 times that of Earth because of Saturn's greater size. Saturn's magnetic field strength is about a twentieth that of Jupiter.[32] The outer atmosphere is generally bland and lacking in contrast, although long-lived features can appear. Wind speeds on Saturn can reach 1,800 kilometres per hour (1,100 miles per hour).\n",
        "\n",
        "The planet has a bright and extensive system of rings, composed mainly of ice particles, with a smaller amount of rocky debris and dust. At least 146 moons[33] orbit the planet, of which 63 are officially named; these do not include the hundreds of moonlets in the rings. Titan, Saturn's largest moon and the second largest in the Solar System, is larger (and less massive) than the planet Mercury and is the only moon in the Solar System that has a substantial atmosphere.'''"
      ],
      "metadata": {
        "id": "g_tY9mwIDcJ3"
      },
      "execution_count": 14,
      "outputs": []
    },
    {
      "cell_type": "code",
      "source": [
        "text"
      ],
      "metadata": {
        "colab": {
          "base_uri": "https://localhost:8080/",
          "height": 123
        },
        "id": "ALxi62VYDujt",
        "outputId": "0ac2da35-40d6-4223-a8ae-d89fa8da0b88"
      },
      "execution_count": 15,
      "outputs": [
        {
          "output_type": "execute_result",
          "data": {
            "text/plain": [
              "\"Saturn is the sixth planet from the Sun and the second largest in the Solar System, after Jupiter. It is a gas giant, with an average radius of about nine times that of Earth.[27][28] It has an eighth the average density of Earth, but is over 95 times more massive.[29][30][31] Even though Saturn is almost as big as Jupiter, Saturn has less than a third the mass of Jupiter. Saturn orbits the Sun at a distance of 9.59 AU (1,434 million km), with an orbital period of 29.45 years.\\n\\nSaturn's interior is thought to be composed of a rocky core, surrounded by a deep layer of metallic hydrogen, an intermediate layer of liquid hydrogen and liquid helium, and an outer layer of gas. Saturn has a pale yellow hue, due to ammonia crystals in its upper atmosphere. An electrical current in the metallic hydrogen layer is thought to give rise to Saturn's planetary magnetic field, which is weaker than Earth's, but has a magnetic moment 580 times that of Earth because of Saturn's greater size. Saturn's magnetic field strength is about a twentieth that of Jupiter.[32] The outer atmosphere is generally bland and lacking in contrast, although long-lived features can appear. Wind speeds on Saturn can reach 1,800 kilometres per hour (1,100 miles per hour).\\n\\nThe planet has a bright and extensive system of rings, composed mainly of ice particles, with a smaller amount of rocky debris and dust. At least 146 moons[33] orbit the planet, of which 63 are officially named; these do not include the hundreds of moonlets in the rings. Titan, Saturn's largest moon and the second largest in the Solar System, is larger (and less massive) than the planet Mercury and is the only moon in the Solar System that has a substantial atmosphere.\""
            ],
            "application/vnd.google.colaboratory.intrinsic+json": {
              "type": "string"
            }
          },
          "metadata": {},
          "execution_count": 15
        }
      ]
    },
    {
      "cell_type": "code",
      "source": [
        "import nltk\n",
        "nltk.download('averaged_perceptron_tagger_eng')"
      ],
      "metadata": {
        "colab": {
          "base_uri": "https://localhost:8080/"
        },
        "id": "1CoW3rriEKBQ",
        "outputId": "1f6fc131-5a93-4c24-c01c-191bfc448aed"
      },
      "execution_count": 16,
      "outputs": [
        {
          "output_type": "stream",
          "name": "stderr",
          "text": [
            "[nltk_data] Downloading package averaged_perceptron_tagger_eng to\n",
            "[nltk_data]     /root/nltk_data...\n",
            "[nltk_data]   Package averaged_perceptron_tagger_eng is already up-to-\n",
            "[nltk_data]       date!\n"
          ]
        },
        {
          "output_type": "execute_result",
          "data": {
            "text/plain": [
              "True"
            ]
          },
          "metadata": {},
          "execution_count": 16
        }
      ]
    },
    {
      "cell_type": "code",
      "source": [
        "nltk.download('punkt_tab')"
      ],
      "metadata": {
        "colab": {
          "base_uri": "https://localhost:8080/"
        },
        "id": "TlfX0TS3EjXr",
        "outputId": "c66a1be0-bbe7-4f73-934a-5ee716a025f7"
      },
      "execution_count": 18,
      "outputs": [
        {
          "output_type": "stream",
          "name": "stderr",
          "text": [
            "[nltk_data] Downloading package punkt_tab to /root/nltk_data...\n",
            "[nltk_data]   Unzipping tokenizers/punkt_tab.zip.\n"
          ]
        },
        {
          "output_type": "execute_result",
          "data": {
            "text/plain": [
              "True"
            ]
          },
          "metadata": {},
          "execution_count": 18
        }
      ]
    },
    {
      "cell_type": "code",
      "source": [
        "pos = pos_tag(word_tokenize(text))"
      ],
      "metadata": {
        "id": "b5zlzTTUDyqK"
      },
      "execution_count": 19,
      "outputs": []
    },
    {
      "cell_type": "code",
      "source": [
        "pos"
      ],
      "metadata": {
        "colab": {
          "base_uri": "https://localhost:8080/"
        },
        "collapsed": true,
        "id": "OgS-TwN1EU75",
        "outputId": "f3abea42-6dfb-45e9-ca12-ea6d3b5f84b0"
      },
      "execution_count": 36,
      "outputs": [
        {
          "output_type": "execute_result",
          "data": {
            "text/plain": [
              "[('Saturn', 'NNP'),\n",
              " ('is', 'VBZ'),\n",
              " ('the', 'DT'),\n",
              " ('sixth', 'JJ'),\n",
              " ('planet', 'NN'),\n",
              " ('from', 'IN'),\n",
              " ('the', 'DT'),\n",
              " ('Sun', 'NNP'),\n",
              " ('and', 'CC'),\n",
              " ('the', 'DT'),\n",
              " ('second', 'JJ'),\n",
              " ('largest', 'JJS'),\n",
              " ('in', 'IN'),\n",
              " ('the', 'DT'),\n",
              " ('Solar', 'NNP'),\n",
              " ('System', 'NNP'),\n",
              " (',', ','),\n",
              " ('after', 'IN'),\n",
              " ('Jupiter', 'NNP'),\n",
              " ('.', '.'),\n",
              " ('It', 'PRP'),\n",
              " ('is', 'VBZ'),\n",
              " ('a', 'DT'),\n",
              " ('gas', 'NN'),\n",
              " ('giant', 'NN'),\n",
              " (',', ','),\n",
              " ('with', 'IN'),\n",
              " ('an', 'DT'),\n",
              " ('average', 'JJ'),\n",
              " ('radius', 'NN'),\n",
              " ('of', 'IN'),\n",
              " ('about', 'RB'),\n",
              " ('nine', 'CD'),\n",
              " ('times', 'NNS'),\n",
              " ('that', 'IN'),\n",
              " ('of', 'IN'),\n",
              " ('Earth', 'NNP'),\n",
              " ('.', '.'),\n",
              " ('[', 'CC'),\n",
              " ('27', 'CD'),\n",
              " (']', 'JJ'),\n",
              " ('[', '$'),\n",
              " ('28', 'CD'),\n",
              " (']', 'NN'),\n",
              " ('It', 'PRP'),\n",
              " ('has', 'VBZ'),\n",
              " ('an', 'DT'),\n",
              " ('eighth', 'JJ'),\n",
              " ('the', 'DT'),\n",
              " ('average', 'JJ'),\n",
              " ('density', 'NN'),\n",
              " ('of', 'IN'),\n",
              " ('Earth', 'NNP'),\n",
              " (',', ','),\n",
              " ('but', 'CC'),\n",
              " ('is', 'VBZ'),\n",
              " ('over', 'RB'),\n",
              " ('95', 'CD'),\n",
              " ('times', 'NNS'),\n",
              " ('more', 'RBR'),\n",
              " ('massive', 'JJ'),\n",
              " ('.', '.'),\n",
              " ('[', '$'),\n",
              " ('29', 'CD'),\n",
              " (']', 'NNP'),\n",
              " ('[', 'VBD'),\n",
              " ('30', 'CD'),\n",
              " (']', 'NNP'),\n",
              " ('[', 'VBD'),\n",
              " ('31', 'CD'),\n",
              " (']', 'NNP'),\n",
              " ('Even', 'RB'),\n",
              " ('though', 'IN'),\n",
              " ('Saturn', 'NNP'),\n",
              " ('is', 'VBZ'),\n",
              " ('almost', 'RB'),\n",
              " ('as', 'RB'),\n",
              " ('big', 'JJ'),\n",
              " ('as', 'IN'),\n",
              " ('Jupiter', 'NNP'),\n",
              " (',', ','),\n",
              " ('Saturn', 'NNP'),\n",
              " ('has', 'VBZ'),\n",
              " ('less', 'JJR'),\n",
              " ('than', 'IN'),\n",
              " ('a', 'DT'),\n",
              " ('third', 'JJ'),\n",
              " ('the', 'DT'),\n",
              " ('mass', 'NN'),\n",
              " ('of', 'IN'),\n",
              " ('Jupiter', 'NNP'),\n",
              " ('.', '.'),\n",
              " ('Saturn', 'NNP'),\n",
              " ('orbits', 'VBZ'),\n",
              " ('the', 'DT'),\n",
              " ('Sun', 'NNP'),\n",
              " ('at', 'IN'),\n",
              " ('a', 'DT'),\n",
              " ('distance', 'NN'),\n",
              " ('of', 'IN'),\n",
              " ('9.59', 'CD'),\n",
              " ('AU', 'NNP'),\n",
              " ('(', '('),\n",
              " ('1,434', 'CD'),\n",
              " ('million', 'CD'),\n",
              " ('km', 'NN'),\n",
              " (')', ')'),\n",
              " (',', ','),\n",
              " ('with', 'IN'),\n",
              " ('an', 'DT'),\n",
              " ('orbital', 'JJ'),\n",
              " ('period', 'NN'),\n",
              " ('of', 'IN'),\n",
              " ('29.45', 'CD'),\n",
              " ('years', 'NNS'),\n",
              " ('.', '.'),\n",
              " ('Saturn', 'NNP'),\n",
              " (\"'s\", 'POS'),\n",
              " ('interior', 'NN'),\n",
              " ('is', 'VBZ'),\n",
              " ('thought', 'VBN'),\n",
              " ('to', 'TO'),\n",
              " ('be', 'VB'),\n",
              " ('composed', 'VBN'),\n",
              " ('of', 'IN'),\n",
              " ('a', 'DT'),\n",
              " ('rocky', 'JJ'),\n",
              " ('core', 'NN'),\n",
              " (',', ','),\n",
              " ('surrounded', 'VBN'),\n",
              " ('by', 'IN'),\n",
              " ('a', 'DT'),\n",
              " ('deep', 'JJ'),\n",
              " ('layer', 'NN'),\n",
              " ('of', 'IN'),\n",
              " ('metallic', 'JJ'),\n",
              " ('hydrogen', 'NN'),\n",
              " (',', ','),\n",
              " ('an', 'DT'),\n",
              " ('intermediate', 'JJ'),\n",
              " ('layer', 'NN'),\n",
              " ('of', 'IN'),\n",
              " ('liquid', 'NN'),\n",
              " ('hydrogen', 'NN'),\n",
              " ('and', 'CC'),\n",
              " ('liquid', 'JJ'),\n",
              " ('helium', 'NN'),\n",
              " (',', ','),\n",
              " ('and', 'CC'),\n",
              " ('an', 'DT'),\n",
              " ('outer', 'JJ'),\n",
              " ('layer', 'NN'),\n",
              " ('of', 'IN'),\n",
              " ('gas', 'NN'),\n",
              " ('.', '.'),\n",
              " ('Saturn', 'NNP'),\n",
              " ('has', 'VBZ'),\n",
              " ('a', 'DT'),\n",
              " ('pale', 'JJ'),\n",
              " ('yellow', 'JJ'),\n",
              " ('hue', 'NN'),\n",
              " (',', ','),\n",
              " ('due', 'JJ'),\n",
              " ('to', 'TO'),\n",
              " ('ammonia', 'VB'),\n",
              " ('crystals', 'NNS'),\n",
              " ('in', 'IN'),\n",
              " ('its', 'PRP$'),\n",
              " ('upper', 'JJ'),\n",
              " ('atmosphere', 'NN'),\n",
              " ('.', '.'),\n",
              " ('An', 'DT'),\n",
              " ('electrical', 'JJ'),\n",
              " ('current', 'JJ'),\n",
              " ('in', 'IN'),\n",
              " ('the', 'DT'),\n",
              " ('metallic', 'JJ'),\n",
              " ('hydrogen', 'NN'),\n",
              " ('layer', 'NN'),\n",
              " ('is', 'VBZ'),\n",
              " ('thought', 'VBN'),\n",
              " ('to', 'TO'),\n",
              " ('give', 'VB'),\n",
              " ('rise', 'NN'),\n",
              " ('to', 'TO'),\n",
              " ('Saturn', 'NNP'),\n",
              " (\"'s\", 'POS'),\n",
              " ('planetary', 'JJ'),\n",
              " ('magnetic', 'JJ'),\n",
              " ('field', 'NN'),\n",
              " (',', ','),\n",
              " ('which', 'WDT'),\n",
              " ('is', 'VBZ'),\n",
              " ('weaker', 'JJR'),\n",
              " ('than', 'IN'),\n",
              " ('Earth', 'NNP'),\n",
              " (\"'s\", 'POS'),\n",
              " (',', ','),\n",
              " ('but', 'CC'),\n",
              " ('has', 'VBZ'),\n",
              " ('a', 'DT'),\n",
              " ('magnetic', 'JJ'),\n",
              " ('moment', 'NN'),\n",
              " ('580', 'CD'),\n",
              " ('times', 'NNS'),\n",
              " ('that', 'IN'),\n",
              " ('of', 'IN'),\n",
              " ('Earth', 'NNP'),\n",
              " ('because', 'IN'),\n",
              " ('of', 'IN'),\n",
              " ('Saturn', 'NNP'),\n",
              " (\"'s\", 'POS'),\n",
              " ('greater', 'JJR'),\n",
              " ('size', 'NN'),\n",
              " ('.', '.'),\n",
              " ('Saturn', 'NNP'),\n",
              " (\"'s\", 'POS'),\n",
              " ('magnetic', 'JJ'),\n",
              " ('field', 'NN'),\n",
              " ('strength', 'NN'),\n",
              " ('is', 'VBZ'),\n",
              " ('about', 'IN'),\n",
              " ('a', 'DT'),\n",
              " ('twentieth', 'NN'),\n",
              " ('that', 'IN'),\n",
              " ('of', 'IN'),\n",
              " ('Jupiter', 'NNP'),\n",
              " ('.', '.'),\n",
              " ('[', 'CC'),\n",
              " ('32', 'CD'),\n",
              " (']', 'IN'),\n",
              " ('The', 'DT'),\n",
              " ('outer', 'NN'),\n",
              " ('atmosphere', 'NN'),\n",
              " ('is', 'VBZ'),\n",
              " ('generally', 'RB'),\n",
              " ('bland', 'JJ'),\n",
              " ('and', 'CC'),\n",
              " ('lacking', 'VBG'),\n",
              " ('in', 'IN'),\n",
              " ('contrast', 'NN'),\n",
              " (',', ','),\n",
              " ('although', 'IN'),\n",
              " ('long-lived', 'JJ'),\n",
              " ('features', 'NNS'),\n",
              " ('can', 'MD'),\n",
              " ('appear', 'VB'),\n",
              " ('.', '.'),\n",
              " ('Wind', 'NNP'),\n",
              " ('speeds', 'NNS'),\n",
              " ('on', 'IN'),\n",
              " ('Saturn', 'NNP'),\n",
              " ('can', 'MD'),\n",
              " ('reach', 'VB'),\n",
              " ('1,800', 'CD'),\n",
              " ('kilometres', 'NNS'),\n",
              " ('per', 'IN'),\n",
              " ('hour', 'NN'),\n",
              " ('(', '('),\n",
              " ('1,100', 'CD'),\n",
              " ('miles', 'NNS'),\n",
              " ('per', 'IN'),\n",
              " ('hour', 'NN'),\n",
              " (')', ')'),\n",
              " ('.', '.'),\n",
              " ('The', 'DT'),\n",
              " ('planet', 'NN'),\n",
              " ('has', 'VBZ'),\n",
              " ('a', 'DT'),\n",
              " ('bright', 'JJ'),\n",
              " ('and', 'CC'),\n",
              " ('extensive', 'JJ'),\n",
              " ('system', 'NN'),\n",
              " ('of', 'IN'),\n",
              " ('rings', 'NNS'),\n",
              " (',', ','),\n",
              " ('composed', 'VBD'),\n",
              " ('mainly', 'RB'),\n",
              " ('of', 'IN'),\n",
              " ('ice', 'NN'),\n",
              " ('particles', 'NNS'),\n",
              " (',', ','),\n",
              " ('with', 'IN'),\n",
              " ('a', 'DT'),\n",
              " ('smaller', 'JJR'),\n",
              " ('amount', 'NN'),\n",
              " ('of', 'IN'),\n",
              " ('rocky', 'JJ'),\n",
              " ('debris', 'NN'),\n",
              " ('and', 'CC'),\n",
              " ('dust', 'NN'),\n",
              " ('.', '.'),\n",
              " ('At', 'IN'),\n",
              " ('least', 'JJS'),\n",
              " ('146', 'CD'),\n",
              " ('moons', 'NNS'),\n",
              " ('[', 'VBP'),\n",
              " ('33', 'CD'),\n",
              " (']', 'JJ'),\n",
              " ('orbit', 'NN'),\n",
              " ('the', 'DT'),\n",
              " ('planet', 'NN'),\n",
              " (',', ','),\n",
              " ('of', 'IN'),\n",
              " ('which', 'WDT'),\n",
              " ('63', 'CD'),\n",
              " ('are', 'VBP'),\n",
              " ('officially', 'RB'),\n",
              " ('named', 'VBN'),\n",
              " (';', ':'),\n",
              " ('these', 'DT'),\n",
              " ('do', 'VBP'),\n",
              " ('not', 'RB'),\n",
              " ('include', 'VB'),\n",
              " ('the', 'DT'),\n",
              " ('hundreds', 'NNS'),\n",
              " ('of', 'IN'),\n",
              " ('moonlets', 'NNS'),\n",
              " ('in', 'IN'),\n",
              " ('the', 'DT'),\n",
              " ('rings', 'NNS'),\n",
              " ('.', '.'),\n",
              " ('Titan', 'NNP'),\n",
              " (',', ','),\n",
              " ('Saturn', 'NNP'),\n",
              " (\"'s\", 'POS'),\n",
              " ('largest', 'JJS'),\n",
              " ('moon', 'NN'),\n",
              " ('and', 'CC'),\n",
              " ('the', 'DT'),\n",
              " ('second', 'JJ'),\n",
              " ('largest', 'JJS'),\n",
              " ('in', 'IN'),\n",
              " ('the', 'DT'),\n",
              " ('Solar', 'NNP'),\n",
              " ('System', 'NNP'),\n",
              " (',', ','),\n",
              " ('is', 'VBZ'),\n",
              " ('larger', 'JJR'),\n",
              " ('(', '('),\n",
              " ('and', 'CC'),\n",
              " ('less', 'RBR'),\n",
              " ('massive', 'JJ'),\n",
              " (')', ')'),\n",
              " ('than', 'IN'),\n",
              " ('the', 'DT'),\n",
              " ('planet', 'JJ'),\n",
              " ('Mercury', 'NNP'),\n",
              " ('and', 'CC'),\n",
              " ('is', 'VBZ'),\n",
              " ('the', 'DT'),\n",
              " ('only', 'JJ'),\n",
              " ('moon', 'NN'),\n",
              " ('in', 'IN'),\n",
              " ('the', 'DT'),\n",
              " ('Solar', 'NNP'),\n",
              " ('System', 'NNP'),\n",
              " ('that', 'WDT'),\n",
              " ('has', 'VBZ'),\n",
              " ('a', 'DT'),\n",
              " ('substantial', 'JJ'),\n",
              " ('atmosphere', 'NN'),\n",
              " ('.', '.')]"
            ]
          },
          "metadata": {},
          "execution_count": 36
        }
      ]
    },
    {
      "cell_type": "markdown",
      "source": [
        "1. Count how many verbs are there\n",
        "2. Print all the nouns from this"
      ],
      "metadata": {
        "id": "VPlOCy6zFEY6"
      }
    },
    {
      "cell_type": "code",
      "source": [
        "nouns = set()\n",
        "nouns_count = 0\n",
        "verbs = set()\n",
        "verbs_count = 0\n",
        "\n",
        "for word, tag in pos:\n",
        "    if not word.isalpha(): continue\n",
        "    if tag[0] == 'V':\n",
        "        verbs.add((word, tag))\n",
        "        verbs_count += 1\n",
        "    if tag[0] == \"N\":\n",
        "        nouns.add((word, tag))\n",
        "        nouns_count += 1\n",
        "len(verbs), verbs\n"
      ],
      "metadata": {
        "colab": {
          "base_uri": "https://localhost:8080/"
        },
        "id": "kl2A-pyXEvt7",
        "outputId": "2a505e60-3e4a-43b4-ce8d-b9e8bb5ab98a"
      },
      "execution_count": 33,
      "outputs": [
        {
          "output_type": "execute_result",
          "data": {
            "text/plain": [
              "(17,\n",
              " {('ammonia', 'VB'),\n",
              "  ('appear', 'VB'),\n",
              "  ('are', 'VBP'),\n",
              "  ('be', 'VB'),\n",
              "  ('composed', 'VBD'),\n",
              "  ('composed', 'VBN'),\n",
              "  ('do', 'VBP'),\n",
              "  ('give', 'VB'),\n",
              "  ('has', 'VBZ'),\n",
              "  ('include', 'VB'),\n",
              "  ('is', 'VBZ'),\n",
              "  ('lacking', 'VBG'),\n",
              "  ('named', 'VBN'),\n",
              "  ('orbits', 'VBZ'),\n",
              "  ('reach', 'VB'),\n",
              "  ('surrounded', 'VBN'),\n",
              "  ('thought', 'VBN')})"
            ]
          },
          "metadata": {},
          "execution_count": 33
        }
      ]
    },
    {
      "cell_type": "code",
      "source": [
        "nouns_count, len(nouns), nouns"
      ],
      "metadata": {
        "colab": {
          "base_uri": "https://localhost:8080/"
        },
        "id": "HmJDvgfVGHoy",
        "outputId": "8e09956d-76f7-45cf-b7b0-c42dd42355d8"
      },
      "execution_count": 35,
      "outputs": [
        {
          "output_type": "execute_result",
          "data": {
            "text/plain": [
              "(92,\n",
              " 55,\n",
              " {('AU', 'NNP'),\n",
              "  ('Earth', 'NNP'),\n",
              "  ('Jupiter', 'NNP'),\n",
              "  ('Mercury', 'NNP'),\n",
              "  ('Saturn', 'NNP'),\n",
              "  ('Solar', 'NNP'),\n",
              "  ('Sun', 'NNP'),\n",
              "  ('System', 'NNP'),\n",
              "  ('Titan', 'NNP'),\n",
              "  ('Wind', 'NNP'),\n",
              "  ('amount', 'NN'),\n",
              "  ('atmosphere', 'NN'),\n",
              "  ('contrast', 'NN'),\n",
              "  ('core', 'NN'),\n",
              "  ('crystals', 'NNS'),\n",
              "  ('debris', 'NN'),\n",
              "  ('density', 'NN'),\n",
              "  ('distance', 'NN'),\n",
              "  ('dust', 'NN'),\n",
              "  ('features', 'NNS'),\n",
              "  ('field', 'NN'),\n",
              "  ('gas', 'NN'),\n",
              "  ('giant', 'NN'),\n",
              "  ('helium', 'NN'),\n",
              "  ('hour', 'NN'),\n",
              "  ('hue', 'NN'),\n",
              "  ('hundreds', 'NNS'),\n",
              "  ('hydrogen', 'NN'),\n",
              "  ('ice', 'NN'),\n",
              "  ('interior', 'NN'),\n",
              "  ('kilometres', 'NNS'),\n",
              "  ('km', 'NN'),\n",
              "  ('layer', 'NN'),\n",
              "  ('liquid', 'NN'),\n",
              "  ('mass', 'NN'),\n",
              "  ('miles', 'NNS'),\n",
              "  ('moment', 'NN'),\n",
              "  ('moon', 'NN'),\n",
              "  ('moonlets', 'NNS'),\n",
              "  ('moons', 'NNS'),\n",
              "  ('orbit', 'NN'),\n",
              "  ('outer', 'NN'),\n",
              "  ('particles', 'NNS'),\n",
              "  ('period', 'NN'),\n",
              "  ('planet', 'NN'),\n",
              "  ('radius', 'NN'),\n",
              "  ('rings', 'NNS'),\n",
              "  ('rise', 'NN'),\n",
              "  ('size', 'NN'),\n",
              "  ('speeds', 'NNS'),\n",
              "  ('strength', 'NN'),\n",
              "  ('system', 'NN'),\n",
              "  ('times', 'NNS'),\n",
              "  ('twentieth', 'NN'),\n",
              "  ('years', 'NNS')})"
            ]
          },
          "metadata": {},
          "execution_count": 35
        }
      ]
    },
    {
      "cell_type": "code",
      "source": [
        "pairs = set()\n",
        "for i in range(len(pos) - 1):\n",
        "    curr_word, curr_tag = pos[i]\n",
        "    next_word, next_tag = pos[i + 1]\n",
        "    if not curr_word.isalpha() or not next_word.isalpha(): continue\n",
        "    if curr_tag.startswith(\"J\") and next_tag.startswith(\"N\"):\n",
        "        pairs.add((curr_word, next_word))\n",
        "\n",
        "len(pairs), pairs"
      ],
      "metadata": {
        "colab": {
          "base_uri": "https://localhost:8080/"
        },
        "id": "-xq1nAXjJA5u",
        "outputId": "fb74dd7a-698f-4a34-8a09-d0349003f2be"
      },
      "execution_count": 41,
      "outputs": [
        {
          "output_type": "execute_result",
          "data": {
            "text/plain": [
              "(22,\n",
              " {('average', 'density'),\n",
              "  ('average', 'radius'),\n",
              "  ('deep', 'layer'),\n",
              "  ('extensive', 'system'),\n",
              "  ('greater', 'size'),\n",
              "  ('intermediate', 'layer'),\n",
              "  ('largest', 'moon'),\n",
              "  ('liquid', 'helium'),\n",
              "  ('magnetic', 'field'),\n",
              "  ('magnetic', 'moment'),\n",
              "  ('metallic', 'hydrogen'),\n",
              "  ('only', 'moon'),\n",
              "  ('orbital', 'period'),\n",
              "  ('outer', 'layer'),\n",
              "  ('planet', 'Mercury'),\n",
              "  ('rocky', 'core'),\n",
              "  ('rocky', 'debris'),\n",
              "  ('sixth', 'planet'),\n",
              "  ('smaller', 'amount'),\n",
              "  ('substantial', 'atmosphere'),\n",
              "  ('upper', 'atmosphere'),\n",
              "  ('yellow', 'hue')})"
            ]
          },
          "metadata": {},
          "execution_count": 41
        }
      ]
    },
    {
      "cell_type": "code",
      "source": [
        "pairs = []\n",
        "for count in range(len(pos)):\n",
        "    if pos[count][1].startswith('JJ') and pos[count + 1][1].startswith('NN'):\n",
        "        pairs.append((pos[count][0], pos[count + 1][0]))"
      ],
      "metadata": {
        "id": "1tdCgNCuKtfV"
      },
      "execution_count": 42,
      "outputs": []
    },
    {
      "cell_type": "code",
      "source": [
        "pairs"
      ],
      "metadata": {
        "colab": {
          "base_uri": "https://localhost:8080/"
        },
        "id": "LBje8uFpLFc7",
        "outputId": "8f5cc4ce-e512-4dfc-e960-8fa71046a74e"
      },
      "execution_count": 45,
      "outputs": [
        {
          "output_type": "execute_result",
          "data": {
            "text/plain": [
              "[('sixth', 'planet'),\n",
              " ('average', 'radius'),\n",
              " ('average', 'density'),\n",
              " ('orbital', 'period'),\n",
              " ('rocky', 'core'),\n",
              " ('deep', 'layer'),\n",
              " ('metallic', 'hydrogen'),\n",
              " ('intermediate', 'layer'),\n",
              " ('liquid', 'helium'),\n",
              " ('outer', 'layer'),\n",
              " ('yellow', 'hue'),\n",
              " ('upper', 'atmosphere'),\n",
              " ('metallic', 'hydrogen'),\n",
              " ('magnetic', 'field'),\n",
              " ('magnetic', 'moment'),\n",
              " ('greater', 'size'),\n",
              " ('magnetic', 'field'),\n",
              " ('long-lived', 'features'),\n",
              " ('extensive', 'system'),\n",
              " ('smaller', 'amount'),\n",
              " ('rocky', 'debris'),\n",
              " (']', 'orbit'),\n",
              " ('largest', 'moon'),\n",
              " ('planet', 'Mercury'),\n",
              " ('only', 'moon'),\n",
              " ('substantial', 'atmosphere')]"
            ]
          },
          "metadata": {},
          "execution_count": 45
        }
      ]
    },
    {
      "cell_type": "markdown",
      "source": [
        "# Extract and pront all adjective-nouns pairs"
      ],
      "metadata": {
        "id": "wqtl4A1ZIndn"
      }
    }
  ]
}