{
 "cells": [
  {
   "cell_type": "code",
   "execution_count": null,
   "id": "64097cf7-7435-4e5d-aeb6-8f43cb044920",
   "metadata": {},
   "outputs": [
    {
     "name": "stdout",
     "output_type": "stream",
     "text": [
      " * Serving Flask app '__main__'\n",
      " * Debug mode: off\n"
     ]
    },
    {
     "name": "stderr",
     "output_type": "stream",
     "text": [
      "C:\\Users\\DAI.STUDENTSDC\\AppData\\Local\\anaconda3\\Lib\\site-packages\\sklearn\\base.py:376: InconsistentVersionWarning: Trying to unpickle estimator SVC from version 1.6.0 when using version 1.5.2. This might lead to breaking code or invalid results. Use at your own risk. For more info please refer to:\n",
      "https://scikit-learn.org/stable/model_persistence.html#security-maintainability-limitations\n",
      "  warnings.warn(\n",
      "C:\\Users\\DAI.STUDENTSDC\\AppData\\Local\\anaconda3\\Lib\\site-packages\\sklearn\\base.py:376: InconsistentVersionWarning: Trying to unpickle estimator TfidfTransformer from version 1.6.0 when using version 1.5.2. This might lead to breaking code or invalid results. Use at your own risk. For more info please refer to:\n",
      "https://scikit-learn.org/stable/model_persistence.html#security-maintainability-limitations\n",
      "  warnings.warn(\n",
      "C:\\Users\\DAI.STUDENTSDC\\AppData\\Local\\anaconda3\\Lib\\site-packages\\sklearn\\base.py:376: InconsistentVersionWarning: Trying to unpickle estimator TfidfVectorizer from version 1.6.0 when using version 1.5.2. This might lead to breaking code or invalid results. Use at your own risk. For more info please refer to:\n",
      "https://scikit-learn.org/stable/model_persistence.html#security-maintainability-limitations\n",
      "  warnings.warn(\n",
      "WARNING: This is a development server. Do not use it in a production deployment. Use a production WSGI server instead.\n",
      " * Running on http://127.0.0.1:5000\n",
      "Press CTRL+C to quit\n",
      "127.0.0.1 - - [17/Dec/2024 15:19:23] \"GET / HTTP/1.1\" 200 -\n",
      "127.0.0.1 - - [17/Dec/2024 15:19:25] \"POST /spamfinder HTTP/1.1\" 200 -\n",
      "127.0.0.1 - - [17/Dec/2024 15:19:36] \"POST /spamfinder HTTP/1.1\" 200 -\n",
      "127.0.0.1 - - [17/Dec/2024 15:23:18] \"POST /spamfinder HTTP/1.1\" 200 -\n",
      "127.0.0.1 - - [17/Dec/2024 15:23:26] \"POST /spamfinder HTTP/1.1\" 200 -\n",
      "127.0.0.1 - - [17/Dec/2024 15:23:38] \"POST /spamfinder HTTP/1.1\" 200 -\n",
      "127.0.0.1 - - [17/Dec/2024 15:23:50] \"POST /spamfinder HTTP/1.1\" 200 -\n",
      "127.0.0.1 - - [17/Dec/2024 15:24:00] \"POST /spamfinder HTTP/1.1\" 200 -\n",
      "127.0.0.1 - - [17/Dec/2024 15:24:14] \"POST /spamfinder HTTP/1.1\" 200 -\n"
     ]
    }
   ],
   "source": [
    "from flask import Flask, request, render_template\n",
    "from nltk.tokenize import word_tokenize\n",
    "from nltk.corpus import stopwords\n",
    "from nltk.stem import PorterStemmer\n",
    "import joblib\n",
    "\n",
    "app = Flask(__name__)\n",
    "\n",
    "swords = stopwords.words('english')\n",
    "ps = PorterStemmer()\n",
    "# define analyzer function\n",
    "def clean_text(sent):\n",
    "    tokens1 = word_tokenize(sent)\n",
    "    tokens2 = [token for token in tokens1 if token.isalnum()]\n",
    "    tokens3 = [token for token in tokens2 if token.lower() not in swords]\n",
    "    tokens4 = [ps.stem(token) for token in tokens3]\n",
    "    return tokens4\n",
    "\n",
    "classifier = joblib.load('classifier.model')\n",
    "tfidf = joblib.load('tfidf.model')\n",
    "\n",
    "\n",
    "@app.route('/')\n",
    "def spamdetector():\n",
    "    return render_template('spamdetector.html')\n",
    "\n",
    "@app.route('/spamfinder', methods = ['GET', 'POST'])\n",
    "def result():\n",
    "    if request.method == 'POST':\n",
    "        data = dict(request.form)\n",
    "        message = tfidf.transform([data['message']])\n",
    "        data['result'] = classifier.predict(message)[0]\n",
    "        return render_template('spamoutput.html', data = data)\n",
    "\n",
    "if __name__ == '__main__':\n",
    "    app.run()"
   ]
  },
  {
   "cell_type": "code",
   "execution_count": null,
   "id": "417eb59b-29ff-4915-98e6-a18290821d73",
   "metadata": {},
   "outputs": [],
   "source": []
  }
 ],
 "metadata": {
  "kernelspec": {
   "display_name": "Python 3 (ipykernel)",
   "language": "python",
   "name": "python3"
  },
  "language_info": {
   "codemirror_mode": {
    "name": "ipython",
    "version": 3
   },
   "file_extension": ".py",
   "mimetype": "text/x-python",
   "name": "python",
   "nbconvert_exporter": "python",
   "pygments_lexer": "ipython3",
   "version": "3.12.4"
  }
 },
 "nbformat": 4,
 "nbformat_minor": 5
}
