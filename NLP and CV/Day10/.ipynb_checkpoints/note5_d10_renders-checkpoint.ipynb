{
 "cells": [
  {
   "cell_type": "code",
   "execution_count": null,
   "id": "770562bc-0b55-49c1-9108-a932e3815185",
   "metadata": {},
   "outputs": [
    {
     "name": "stdout",
     "output_type": "stream",
     "text": [
      " * Serving Flask app '__main__'\n",
      " * Debug mode: off\n"
     ]
    },
    {
     "name": "stderr",
     "output_type": "stream",
     "text": [
      "WARNING: This is a development server. Do not use it in a production deployment. Use a production WSGI server instead.\n",
      " * Running on http://127.0.0.1:5000\n",
      "Press CTRL+C to quit\n",
      "127.0.0.1 - - [17/Dec/2024 13:11:09] \"GET / HTTP/1.1\" 200 -\n",
      "[2024-12-17 13:11:39,691] ERROR in app: Exception on /result [POST]\n",
      "Traceback (most recent call last):\n",
      "  File \"C:\\Users\\DAI.STUDENTSDC\\AppData\\Local\\anaconda3\\Lib\\site-packages\\flask\\app.py\", line 1473, in wsgi_app\n",
      "    response = self.full_dispatch_request()\n",
      "               ^^^^^^^^^^^^^^^^^^^^^^^^^^^^\n",
      "  File \"C:\\Users\\DAI.STUDENTSDC\\AppData\\Local\\anaconda3\\Lib\\site-packages\\flask\\app.py\", line 882, in full_dispatch_request\n",
      "    rv = self.handle_user_exception(e)\n",
      "         ^^^^^^^^^^^^^^^^^^^^^^^^^^^^^\n",
      "  File \"C:\\Users\\DAI.STUDENTSDC\\AppData\\Local\\anaconda3\\Lib\\site-packages\\flask\\app.py\", line 880, in full_dispatch_request\n",
      "    rv = self.dispatch_request()\n",
      "         ^^^^^^^^^^^^^^^^^^^^^^^\n",
      "  File \"C:\\Users\\DAI.STUDENTSDC\\AppData\\Local\\anaconda3\\Lib\\site-packages\\flask\\app.py\", line 865, in dispatch_request\n",
      "    return self.ensure_sync(self.view_functions[rule.endpoint])(**view_args)  # type: ignore[no-any-return]\n",
      "           ^^^^^^^^^^^^^^^^^^^^^^^^^^^^^^^^^^^^^^^^^^^^^^^^^^^^^^^^^^^^^^^^^\n",
      "  File \"C:\\Users\\DAI.STUDENTSDC\\AppData\\Local\\Temp\\ipykernel_45004\\269443103.py\", line 19, in result\n",
      "    return render_template('result.html', result=temp)\n",
      "           ^^^^^^^^^^^^^^^^^^^^^^^^^^^^^^^^^^^^^^^^^^^\n",
      "  File \"C:\\Users\\DAI.STUDENTSDC\\AppData\\Local\\anaconda3\\Lib\\site-packages\\flask\\templating.py\", line 149, in render_template\n",
      "    template = app.jinja_env.get_or_select_template(template_name_or_list)\n",
      "               ^^^^^^^^^^^^^^^^^^^^^^^^^^^^^^^^^^^^^^^^^^^^^^^^^^^^^^^^^^^\n",
      "  File \"C:\\Users\\DAI.STUDENTSDC\\AppData\\Local\\anaconda3\\Lib\\site-packages\\jinja2\\environment.py\", line 1084, in get_or_select_template\n",
      "    return self.get_template(template_name_or_list, parent, globals)\n",
      "           ^^^^^^^^^^^^^^^^^^^^^^^^^^^^^^^^^^^^^^^^^^^^^^^^^^^^^^^^^\n",
      "  File \"C:\\Users\\DAI.STUDENTSDC\\AppData\\Local\\anaconda3\\Lib\\site-packages\\jinja2\\environment.py\", line 1013, in get_template\n",
      "    return self._load_template(name, globals)\n",
      "           ^^^^^^^^^^^^^^^^^^^^^^^^^^^^^^^^^^\n",
      "  File \"C:\\Users\\DAI.STUDENTSDC\\AppData\\Local\\anaconda3\\Lib\\site-packages\\jinja2\\environment.py\", line 972, in _load_template\n",
      "    template = self.loader.load(self, name, self.make_globals(globals))\n",
      "               ^^^^^^^^^^^^^^^^^^^^^^^^^^^^^^^^^^^^^^^^^^^^^^^^^^^^^^^^\n",
      "  File \"C:\\Users\\DAI.STUDENTSDC\\AppData\\Local\\anaconda3\\Lib\\site-packages\\jinja2\\loaders.py\", line 126, in load\n",
      "    source, filename, uptodate = self.get_source(environment, name)\n",
      "                                 ^^^^^^^^^^^^^^^^^^^^^^^^^^^^^^^^^^\n",
      "  File \"C:\\Users\\DAI.STUDENTSDC\\AppData\\Local\\anaconda3\\Lib\\site-packages\\flask\\templating.py\", line 65, in get_source\n",
      "    return self._get_source_fast(environment, template)\n",
      "           ^^^^^^^^^^^^^^^^^^^^^^^^^^^^^^^^^^^^^^^^^^^^\n",
      "  File \"C:\\Users\\DAI.STUDENTSDC\\AppData\\Local\\anaconda3\\Lib\\site-packages\\flask\\templating.py\", line 99, in _get_source_fast\n",
      "    raise TemplateNotFound(template)\n",
      "jinja2.exceptions.TemplateNotFound: result.html\n",
      "127.0.0.1 - - [17/Dec/2024 13:11:39] \"POST /result HTTP/1.1\" 500 -\n"
     ]
    }
   ],
   "source": [
    "from flask import Flask, render_template, request\n",
    "app = Flask(__name__)\n",
    "\n",
    "@app.route('/')\n",
    "def student():\n",
    "    return render_template('homepage.html')\n",
    "\n",
    "@app.route('/result', methods=['GET', 'POST'])\n",
    "def result():\n",
    "    if request.method == 'POST':\n",
    "        data = request.form\n",
    "        m1 = int(request.form['phy'])\n",
    "        m2 = int(request.form['chem'])\n",
    "        m3 = int(request.form['maths'])\n",
    "        avg = (m1 + m2 + m3) / 3\n",
    "        temp = {}\n",
    "        temp['name'] = request.form['name']\n",
    "        temp['avarage'] = avg\n",
    "        return render_template('result.html', result=temp)\n",
    "\n",
    "if __name__ == '__main__':\n",
    "    app.run()"
   ]
  },
  {
   "cell_type": "code",
   "execution_count": null,
   "id": "1deddcf6-d7c2-46da-9923-deccb8dd9ac7",
   "metadata": {},
   "outputs": [],
   "source": []
  }
 ],
 "metadata": {
  "kernelspec": {
   "display_name": "Python 3 (ipykernel)",
   "language": "python",
   "name": "python3"
  },
  "language_info": {
   "codemirror_mode": {
    "name": "ipython",
    "version": 3
   },
   "file_extension": ".py",
   "mimetype": "text/x-python",
   "name": "python",
   "nbconvert_exporter": "python",
   "pygments_lexer": "ipython3",
   "version": "3.12.4"
  }
 },
 "nbformat": 4,
 "nbformat_minor": 5
}
