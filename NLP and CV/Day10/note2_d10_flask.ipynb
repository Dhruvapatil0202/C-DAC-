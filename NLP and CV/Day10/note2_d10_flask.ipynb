{
 "cells": [
  {
   "cell_type": "markdown",
   "id": "88df368c-a84d-4e5a-8dbd-13bd743939a6",
   "metadata": {},
   "source": [
    "Install Flask"
   ]
  },
  {
   "cell_type": "code",
   "execution_count": 2,
   "id": "556d1c75-d9de-48c5-aa67-79c7a8b9dd89",
   "metadata": {},
   "outputs": [
    {
     "name": "stdout",
     "output_type": "stream",
     "text": [
      "Requirement already satisfied: flask in c:\\users\\dai.studentsdc\\appdata\\local\\anaconda3\\lib\\site-packages (3.0.3)Note: you may need to restart the kernel to use updated packages.\n",
      "\n",
      "Requirement already satisfied: Werkzeug>=3.0.0 in c:\\users\\dai.studentsdc\\appdata\\local\\anaconda3\\lib\\site-packages (from flask) (3.0.3)\n",
      "Requirement already satisfied: Jinja2>=3.1.2 in c:\\users\\dai.studentsdc\\appdata\\local\\anaconda3\\lib\\site-packages (from flask) (3.1.4)\n",
      "Requirement already satisfied: itsdangerous>=2.1.2 in c:\\users\\dai.studentsdc\\appdata\\local\\anaconda3\\lib\\site-packages (from flask) (2.2.0)\n",
      "Requirement already satisfied: click>=8.1.3 in c:\\users\\dai.studentsdc\\appdata\\local\\anaconda3\\lib\\site-packages (from flask) (8.1.7)\n",
      "Requirement already satisfied: blinker>=1.6.2 in c:\\users\\dai.studentsdc\\appdata\\local\\anaconda3\\lib\\site-packages (from flask) (1.6.2)\n",
      "Requirement already satisfied: colorama in c:\\users\\dai.studentsdc\\appdata\\local\\anaconda3\\lib\\site-packages (from click>=8.1.3->flask) (0.4.6)\n",
      "Requirement already satisfied: MarkupSafe>=2.0 in c:\\users\\dai.studentsdc\\appdata\\local\\anaconda3\\lib\\site-packages (from Jinja2>=3.1.2->flask) (2.1.3)\n"
     ]
    }
   ],
   "source": [
    "# pip install flask"
   ]
  },
  {
   "cell_type": "code",
   "execution_count": 15,
   "id": "85c8fb60-e04d-4ae8-af7d-79deb5f938e8",
   "metadata": {},
   "outputs": [],
   "source": [
    "from flask import Flask, url_for, redirect"
   ]
  },
  {
   "cell_type": "code",
   "execution_count": 17,
   "id": "2bdae73b-680c-4839-9e48-7defe4091932",
   "metadata": {},
   "outputs": [
    {
     "name": "stdout",
     "output_type": "stream",
     "text": [
      " * Serving Flask app '__main__'\n",
      " * Debug mode: off\n"
     ]
    },
    {
     "name": "stderr",
     "output_type": "stream",
     "text": [
      "WARNING: This is a development server. Do not use it in a production deployment. Use a production WSGI server instead.\n",
      " * Running on http://127.0.0.1:5000\n",
      "Press CTRL+C to quit\n",
      "127.0.0.1 - - [17/Dec/2024 10:57:24] \"GET / HTTP/1.1\" 404 -\n",
      "127.0.0.1 - - [17/Dec/2024 10:57:39] \"GET /user/admin HTTP/1.1\" 302 -\n",
      "127.0.0.1 - - [17/Dec/2024 10:57:39] \"GET /admin HTTP/1.1\" 200 -\n",
      "127.0.0.1 - - [17/Dec/2024 10:58:01] \"GET /guest/yash HTTP/1.1\" 200 -\n"
     ]
    }
   ],
   "source": [
    "app = Flask(__name__)\n",
    "\n",
    "@ app.route('/admin')\n",
    "def hello_admin():\n",
    "    return ('Welcome Admin!!!')\n",
    "\n",
    "@ app.route('/guest/<guest>')\n",
    "def hello_guest(guest):\n",
    "    return ('Hello %s' %guest)\n",
    "\n",
    "@ app.route('/user/<name>')\n",
    "def hello(name):\n",
    "    if name=='admin':\n",
    "        return redirect(url_for('hello_admin'))\n",
    "    else:\n",
    "        return redirect(url_for('hello_guest', guest=name))\n",
    "\n",
    "if __name__ == '__main__':\n",
    "    app.run()"
   ]
  },
  {
   "cell_type": "code",
   "execution_count": null,
   "id": "aa32576a-56e0-49fc-8e97-bd9fa3b3882f",
   "metadata": {},
   "outputs": [],
   "source": []
  }
 ],
 "metadata": {
  "kernelspec": {
   "display_name": "Python 3 (ipykernel)",
   "language": "python",
   "name": "python3"
  },
  "language_info": {
   "codemirror_mode": {
    "name": "ipython",
    "version": 3
   },
   "file_extension": ".py",
   "mimetype": "text/x-python",
   "name": "python",
   "nbconvert_exporter": "python",
   "pygments_lexer": "ipython3",
   "version": "3.12.4"
  }
 },
 "nbformat": 4,
 "nbformat_minor": 5
}
