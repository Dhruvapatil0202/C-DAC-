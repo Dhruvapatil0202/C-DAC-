{
 "cells": [
  {
   "cell_type": "code",
   "execution_count": 1,
   "id": "d978382f-9f20-4c3e-abf1-5b5bded4dd3e",
   "metadata": {},
   "outputs": [],
   "source": [
    "from tkinter import *"
   ]
  },
  {
   "cell_type": "code",
   "execution_count": 3,
   "id": "c80772e0-5469-48e1-a3d8-ad7e4f82b7fd",
   "metadata": {},
   "outputs": [],
   "source": [
    "top = Tk()\n",
    "\n",
    "top.mainloop()"
   ]
  },
  {
   "cell_type": "code",
   "execution_count": 16,
   "id": "67fbd49b-f1f3-4dda-a726-7b19fc5f62c3",
   "metadata": {},
   "outputs": [],
   "source": [
    "top = Tk()\n",
    "top.title('My Application')\n",
    "top.geometry('500x400')\n",
    "l = Label(top, text = 'Enter the number: ')\n",
    "e = Entry(top)\n",
    "b = Button(top, text = 'Click Here')\n",
    "\n",
    "l.pack()\n",
    "e.pack()\n",
    "b.pack()\n",
    "\n",
    "\n",
    "top.mainloop()"
   ]
  },
  {
   "cell_type": "code",
   "execution_count": 27,
   "id": "21016a53-4f1e-470c-b09d-116c642d4ce2",
   "metadata": {},
   "outputs": [],
   "source": [
    "top = Tk()\n",
    "top.title('My Application')\n",
    "top.geometry('500x400')\n",
    "\n",
    "def show():\n",
    "    square = num.get() ** 2\n",
    "    result.config(text='Square is: %d' %square)\n",
    "    \n",
    "num = IntVar()\n",
    "\n",
    "Label(top, text = 'Enter the number: ').pack()\n",
    "Entry(top, textvariable=num).pack()\n",
    "Button(top, text = 'Click Here', command = show).pack()\n",
    "result = Label(top, text='Square is: ')\n",
    "result.pack()\n",
    "\n",
    "\n",
    "top.mainloop()"
   ]
  },
  {
   "cell_type": "code",
   "execution_count": 33,
   "id": "4bfc3d33-dce7-47c1-a864-345d3f13ed7c",
   "metadata": {},
   "outputs": [],
   "source": [
    "top = Tk()\n",
    "top.title('My Application')\n",
    "top.geometry('500x400')\n",
    "\n",
    "def show():\n",
    "    square = num.get() ** 2\n",
    "    result.config(text='Square is: %d' %square)\n",
    "    \n",
    "num = IntVar()\n",
    "\n",
    "Label(top, text = 'Enter the number: ').place(x = 200, y = 50)\n",
    "Entry(top, textvariable=num).place(x = 200, y = 120)\n",
    "Button(top, text = 'Click Here', command = show).place(x = 200, y = 190)\n",
    "result = Label(top, text='Square is: ')\n",
    "result.place(x = 200, y = 260)\n",
    "\n",
    "\n",
    "top.mainloop()"
   ]
  },
  {
   "cell_type": "code",
   "execution_count": null,
   "id": "910aaafe-1a73-41c1-b870-920ddd0d6bf8",
   "metadata": {},
   "outputs": [],
   "source": [
    "top = Tk()\n",
    "top.title('My Application')\n",
    "top.geometry('500x400')\n",
    "\n",
    "def add():\n",
    "    sum = num1.get() + num2.get()\n",
    "    result.config(text='Sum is: %d' %sum)\n",
    "\n",
    "def sub():\n",
    "    sub = num1.get() - num2.get()\n",
    "    result.config(text='Subtraction is: %d' %sub)\n",
    "\n",
    "def div():\n",
    "    div = num1.get() / num2.get()\n",
    "    result.config(text='Division is: %d' %div)\n",
    "\n",
    "def mul():\n",
    "    mul = num1.get() * num2.get()\n",
    "    result.config(text='Product is: %d' %mul)\n",
    "    \n",
    "num1 = IntVar()\n",
    "num2 = IntVar()\n",
    "\n",
    "l1 = Label(top, text = 'Enter the first number: ')\n",
    "e1 = Entry(top, textvariable=num1)\n",
    "\n",
    "l2 = Label(top, text = 'Enter the second number: ')\n",
    "e2 = Entry(top, textvariable=num2)\n",
    "\n",
    "b1 = Button(top, text = '+', command = add)\n",
    "b2 = Button(top, text = '-', command = sub)\n",
    "b3 = Button(top, text = '/', command = div)\n",
    "b4 = Button(top, text = '*', command = mul)\n",
    "\n",
    "result = Label(top, text='Ans is: ')\n",
    "\n",
    "l1.pack()\n",
    "e1.pack()\n",
    "\n",
    "l2.pack()\n",
    "e2.pack()\n",
    "\n",
    "b1.pack()\n",
    "b2.pack()\n",
    "b3.pack()\n",
    "b4.pack()\n",
    "\n",
    "result.pack()\n",
    "\n",
    "top.mainloop()"
   ]
  },
  {
   "cell_type": "code",
   "execution_count": null,
   "id": "492ae940-8117-4a2b-92bc-a9e4efa9a96f",
   "metadata": {},
   "outputs": [],
   "source": []
  }
 ],
 "metadata": {
  "kernelspec": {
   "display_name": "Python (surprise)",
   "language": "python",
   "name": "surprise"
  },
  "language_info": {
   "codemirror_mode": {
    "name": "ipython",
    "version": 3
   },
   "file_extension": ".py",
   "mimetype": "text/x-python",
   "name": "python",
   "nbconvert_exporter": "python",
   "pygments_lexer": "ipython3",
   "version": "3.12.7"
  }
 },
 "nbformat": 4,
 "nbformat_minor": 5
}
