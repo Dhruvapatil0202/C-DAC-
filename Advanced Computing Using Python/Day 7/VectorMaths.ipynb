{
 "cells": [
  {
   "cell_type": "code",
   "execution_count": 1,
   "id": "2124d7a8-ceb8-4f6d-b060-b44cfa9bcce0",
   "metadata": {},
   "outputs": [
    {
     "data": {
      "text/plain": [
       "numpy.ndarray"
      ]
     },
     "execution_count": 1,
     "metadata": {},
     "output_type": "execute_result"
    }
   ],
   "source": [
    "import numpy as np\n",
    "x = np.array([4,5,6], np.int32)\n",
    "type(x)\n"
   ]
  },
  {
   "cell_type": "code",
   "execution_count": 3,
   "id": "9dce7383-75ef-4a80-b7cb-91ce1a00183a",
   "metadata": {},
   "outputs": [
    {
     "data": {
      "text/plain": [
       "dtype('int32')"
      ]
     },
     "execution_count": 3,
     "metadata": {},
     "output_type": "execute_result"
    }
   ],
   "source": [
    "x.dtype"
   ]
  },
  {
   "cell_type": "code",
   "execution_count": 7,
   "id": "9da5e289-f0e4-4896-a0ab-7dae0143010b",
   "metadata": {},
   "outputs": [
    {
     "data": {
      "text/plain": [
       "(2, 3)"
      ]
     },
     "execution_count": 7,
     "metadata": {},
     "output_type": "execute_result"
    }
   ],
   "source": [
    "x.shape\n"
   ]
  },
  {
   "cell_type": "markdown",
   "id": "092aee96-21a7-4aca-b2b2-bb406cbd4c30",
   "metadata": {
    "jp-MarkdownHeadingCollapsed": true
   },
   "source": [
    "x[1,2]"
   ]
  },
  {
   "cell_type": "code",
   "execution_count": 10,
   "id": "52cce9d0-9fae-469e-80f7-475c3b42ab94",
   "metadata": {},
   "outputs": [
    {
     "data": {
      "text/plain": [
       "6"
      ]
     },
     "execution_count": 10,
     "metadata": {},
     "output_type": "execute_result"
    }
   ],
   "source": [
    "x[1,2]"
   ]
  },
  {
   "cell_type": "code",
   "execution_count": 16,
   "id": "f650c170-442e-4494-ad4c-a7bc71f343f3",
   "metadata": {},
   "outputs": [
    {
     "data": {
      "text/plain": [
       "array([14, 32])"
      ]
     },
     "execution_count": 16,
     "metadata": {},
     "output_type": "execute_result"
    }
   ],
   "source": [
    "y = np.array([1,2,3], np.int32)\n",
    "x.dot(y)"
   ]
  },
  {
   "cell_type": "code",
   "execution_count": 18,
   "id": "5c4213e8-78f1-4aff-9c06-ca0b0da11059",
   "metadata": {},
   "outputs": [
    {
     "data": {
      "text/plain": [
       "array([[1, 2, 3],\n",
       "       [4, 5, 6]])"
      ]
     },
     "execution_count": 18,
     "metadata": {},
     "output_type": "execute_result"
    }
   ],
   "source": [
    "x"
   ]
  },
  {
   "cell_type": "code",
   "execution_count": 54,
   "id": "f2b365c2-fc1b-4fd1-a40b-9e04f17e5618",
   "metadata": {},
   "outputs": [],
   "source": [
    "a = np.array([4,5,0], np.int32)\n",
    "b = np.array([8,6,6], np.int32)"
   ]
  },
  {
   "cell_type": "code",
   "execution_count": 56,
   "id": "b4339f23-ecda-4c0b-857a-9f6dd8a8c195",
   "metadata": {},
   "outputs": [
    {
     "data": {
      "text/plain": [
       "[30, -24, -16]"
      ]
     },
     "execution_count": 56,
     "metadata": {},
     "output_type": "execute_result"
    }
   ],
   "source": [
    "temp = []\n",
    "temp.append(a[1]*b[2] - b[1] * a[2])\n",
    "temp.append(b[0] * a[2] - b[2] * a[0])\n",
    "temp.append(a[0] * b[1] - b[0] * a[1])\n",
    "temp"
   ]
  },
  {
   "cell_type": "code",
   "execution_count": 58,
   "id": "2eaab0f1-6965-4d3c-859d-fd8da5fb8724",
   "metadata": {},
   "outputs": [
    {
     "data": {
      "text/plain": [
       "array([ 30, -24, -16])"
      ]
     },
     "execution_count": 58,
     "metadata": {},
     "output_type": "execute_result"
    }
   ],
   "source": [
    "np.cross(a,b)"
   ]
  },
  {
   "cell_type": "code",
   "execution_count": 38,
   "id": "eedbcfe8-da79-446c-b76e-a78896e1434b",
   "metadata": {},
   "outputs": [
    {
     "data": {
      "text/plain": [
       "2.0"
      ]
     },
     "execution_count": 38,
     "metadata": {},
     "output_type": "execute_result"
    }
   ],
   "source": [
    "np.trace(np.eye(2))"
   ]
  },
  {
   "cell_type": "code",
   "execution_count": 46,
   "id": "0302a87e-1851-48d3-a1a7-bd99599906f3",
   "metadata": {},
   "outputs": [
    {
     "data": {
      "text/plain": [
       "array([ 2,  5,  8, 11])"
      ]
     },
     "execution_count": 46,
     "metadata": {},
     "output_type": "execute_result"
    }
   ],
   "source": [
    "p=np.arange(2,12,3)\n",
    "p"
   ]
  },
  {
   "cell_type": "code",
   "execution_count": 50,
   "id": "89df6f23-484f-42ee-a0e6-cbe0907b154e",
   "metadata": {},
   "outputs": [
    {
     "data": {
      "text/plain": [
       "(2.368, 1.5388307249337076)"
      ]
     },
     "execution_count": 50,
     "metadata": {},
     "output_type": "execute_result"
    }
   ],
   "source": [
    "import math\n",
    "import sklearn.metrics\n",
    "\n",
    "actual = [0, 1, 2, 0, 3]\n",
    "predicted = [0.2, 2.3, 4.5, 0.5, 1.1]\n",
    "mse = sklearn.metrics.mean_squared_error(actual, predicted)\n",
    "\n",
    "rmse = math.sqrt(mse)\n",
    "\n",
    "mse, rmse"
   ]
  },
  {
   "cell_type": "code",
   "execution_count": 66,
   "id": "350cf788-a548-49dd-95aa-33ff13da4941",
   "metadata": {},
   "outputs": [
    {
     "data": {
      "text/plain": [
       "array(198)"
      ]
     },
     "execution_count": 66,
     "metadata": {},
     "output_type": "execute_result"
    }
   ],
   "source": [
    "v1 = np.array([10,-7])\n",
    "v2 = np.array([-7,-6])\n",
    "v3 = np.array([4,5])\n",
    "\n",
    "ab = v2-v1\n",
    "bc = v1 - v3\n",
    "# new_vec = math.sqrt(sum([i * i for i in np.cross(ab, bc).tolist()]))\n",
    "# area = 1/2 * new_vec\n",
    "# area\n",
    "np.cross(ab, bc)"
   ]
  },
  {
   "cell_type": "code",
   "execution_count": 68,
   "id": "ae110a63-0eec-4190-8edf-5460d6dccbbe",
   "metadata": {},
   "outputs": [
    {
     "data": {
      "text/plain": [
       "{'w': 3,\n",
       " 'v': 1,\n",
       " 'e': 4,\n",
       " 'h': 6,\n",
       " 'g': 4,\n",
       " 'a': 1,\n",
       " 'n': 2,\n",
       " 'o': 8,\n",
       " 'i': 4,\n",
       " 'r': 1}"
      ]
     },
     "execution_count": 68,
     "metadata": {},
     "output_type": "execute_result"
    }
   ],
   "source": [
    "strx = \"aenvoinroighwoiehgoiwheoghowheogho\"\n",
    "{i: strx.count(i) for i in set(strx)}"
   ]
  },
  {
   "cell_type": "code",
   "execution_count": null,
   "id": "4b7f848f-3321-4841-9388-f8ea3c6b30ac",
   "metadata": {},
   "outputs": [],
   "source": []
  }
 ],
 "metadata": {
  "kernelspec": {
   "display_name": "Python 3 (ipykernel)",
   "language": "python",
   "name": "python3"
  },
  "language_info": {
   "codemirror_mode": {
    "name": "ipython",
    "version": 3
   },
   "file_extension": ".py",
   "mimetype": "text/x-python",
   "name": "python",
   "nbconvert_exporter": "python",
   "pygments_lexer": "ipython3",
   "version": "3.12.4"
  }
 },
 "nbformat": 4,
 "nbformat_minor": 5
}
