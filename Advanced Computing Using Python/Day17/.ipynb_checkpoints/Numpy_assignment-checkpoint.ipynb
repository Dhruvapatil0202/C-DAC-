{
 "cells": [
  {
   "cell_type": "code",
   "execution_count": 1,
   "id": "fdb2ef21-bf78-4d3f-9865-4b2427894350",
   "metadata": {},
   "outputs": [],
   "source": [
    "import numpy as np\n",
    "import random"
   ]
  },
  {
   "cell_type": "code",
   "execution_count": 2,
   "id": "25fc0f8d-3d23-4396-aa20-d8f04df9c4ff",
   "metadata": {},
   "outputs": [
    {
     "data": {
      "text/plain": [
       "array([47, 76, 30, 30, 50, 58, 72, 30, 59, 70])"
      ]
     },
     "execution_count": 2,
     "metadata": {},
     "output_type": "execute_result"
    }
   ],
   "source": [
    "sales = np.array([random.randint(20, 100) for _ in range(10)])\n",
    "sales"
   ]
  },
  {
   "cell_type": "code",
   "execution_count": 3,
   "id": "55a275f4-36a6-4291-bd83-6492577e7048",
   "metadata": {},
   "outputs": [
    {
     "data": {
      "text/plain": [
       "50"
      ]
     },
     "execution_count": 3,
     "metadata": {},
     "output_type": "execute_result"
    }
   ],
   "source": [
    "fifth_day_sales = sales[4]\n",
    "fifth_day_sales"
   ]
  },
  {
   "cell_type": "code",
   "execution_count": 4,
   "id": "b30a6de8-30be-4595-be1a-ef5e9318f4fd",
   "metadata": {},
   "outputs": [
    {
     "data": {
      "text/plain": [
       "array([47, 76, 30, 30, 50])"
      ]
     },
     "execution_count": 4,
     "metadata": {},
     "output_type": "execute_result"
    }
   ],
   "source": [
    "first_five_days = sales[:5]\n",
    "first_five_days"
   ]
  },
  {
   "cell_type": "code",
   "execution_count": 5,
   "id": "dbccd6f2-8eab-417f-872b-a6ffead47c93",
   "metadata": {},
   "outputs": [
    {
     "data": {
      "text/plain": [
       "array([30, 59, 70])"
      ]
     },
     "execution_count": 5,
     "metadata": {},
     "output_type": "execute_result"
    }
   ],
   "source": [
    "last_three_days = sales[-3:]\n",
    "last_three_days"
   ]
  },
  {
   "cell_type": "code",
   "execution_count": 6,
   "id": "7ac5a49c-23bb-4343-bae0-cb7d5fe562d2",
   "metadata": {},
   "outputs": [
    {
     "data": {
      "text/plain": [
       "array([57, 86, 40, 40, 60, 68, 82, 40, 69, 80])"
      ]
     },
     "execution_count": 6,
     "metadata": {},
     "output_type": "execute_result"
    }
   ],
   "source": [
    "increased_sales = sales + np.array([10 for _ in range(10)])\n",
    "increased_sales"
   ]
  },
  {
   "cell_type": "code",
   "execution_count": 7,
   "id": "55db9754-f13d-4afb-8455-0a005d3dfd66",
   "metadata": {},
   "outputs": [
    {
     "data": {
      "text/plain": [
       "array([42.3, 68.4, 27. , 27. , 45. , 52.2, 64.8, 27. , 53.1, 63. ])"
      ]
     },
     "execution_count": 7,
     "metadata": {},
     "output_type": "execute_result"
    }
   ],
   "source": [
    "after_discount_application = sales - (sales / 10)\n",
    "after_discount_application"
   ]
  },
  {
   "cell_type": "code",
   "execution_count": 8,
   "id": "5e026f54-37eb-45a6-a421-fe4f91e02e85",
   "metadata": {},
   "outputs": [
    {
     "data": {
      "text/plain": [
       "522"
      ]
     },
     "execution_count": 8,
     "metadata": {},
     "output_type": "execute_result"
    }
   ],
   "source": [
    "total_sales = sales.sum()\n",
    "total_sales"
   ]
  },
  {
   "cell_type": "code",
   "execution_count": 9,
   "id": "47a9f2db-78b6-4c12-959c-59e97ca96e1b",
   "metadata": {},
   "outputs": [
    {
     "data": {
      "text/plain": [
       "52.2"
      ]
     },
     "execution_count": 9,
     "metadata": {},
     "output_type": "execute_result"
    }
   ],
   "source": [
    "avg_sales = sales.sum()/ len(sales)\n",
    "avg_sales"
   ]
  },
  {
   "cell_type": "code",
   "execution_count": 10,
   "id": "898d35aa-0d30-413f-8d4d-0186c1278f0f",
   "metadata": {},
   "outputs": [
    {
     "data": {
      "text/plain": [
       "(76, 30)"
      ]
     },
     "execution_count": 10,
     "metadata": {},
     "output_type": "execute_result"
    }
   ],
   "source": [
    "max, min = sales.max(), sales.min()\n",
    "max, min"
   ]
  },
  {
   "cell_type": "code",
   "execution_count": 11,
   "id": "e8695f06-33d8-4731-9e80-91d90bbbed42",
   "metadata": {},
   "outputs": [
    {
     "data": {
      "text/plain": [
       "array([[47, 76, 30, 30, 50],\n",
       "       [58, 72, 30, 59, 70]])"
      ]
     },
     "execution_count": 11,
     "metadata": {},
     "output_type": "execute_result"
    }
   ],
   "source": [
    "new_array = sales.reshape((2, 5))\n",
    "new_array\n"
   ]
  },
  {
   "cell_type": "code",
   "execution_count": 12,
   "id": "5031cbb5-9ea3-4cbc-a62c-bf826da847a4",
   "metadata": {},
   "outputs": [
    {
     "data": {
      "text/plain": [
       "array([233, 289])"
      ]
     },
     "execution_count": 12,
     "metadata": {},
     "output_type": "execute_result"
    }
   ],
   "source": [
    "named_row_sum = np.sum(new_array, axis = 1)\n",
    "named_row_sum"
   ]
  },
  {
   "cell_type": "code",
   "execution_count": 13,
   "id": "b579a9e1-1732-4c0f-b5e7-06d76b1bb228",
   "metadata": {},
   "outputs": [
    {
     "data": {
      "text/plain": [
       "array([47, 76, 30, 30, 50, 58, 72, 30, 59, 70])"
      ]
     },
     "execution_count": 13,
     "metadata": {},
     "output_type": "execute_result"
    }
   ],
   "source": [
    "sales_more_than_20 = sales[sales > 20]\n",
    "sales_more_than_20"
   ]
  },
  {
   "cell_type": "code",
   "execution_count": 14,
   "id": "3ad3994f-cba1-4b87-bdae-dc314d67f4c0",
   "metadata": {},
   "outputs": [
    {
     "data": {
      "text/plain": [
       "array([ True,  True, False, False,  True,  True,  True, False,  True,\n",
       "        True])"
      ]
     },
     "execution_count": 14,
     "metadata": {},
     "output_type": "execute_result"
    }
   ],
   "source": [
    "boolean_array = sales > 40\n",
    "boolean_array"
   ]
  },
  {
   "cell_type": "code",
   "execution_count": 15,
   "id": "e7d87024-6282-4578-b17a-b3cb3b2d0396",
   "metadata": {},
   "outputs": [
    {
     "data": {
      "text/plain": [
       "array([36, 23, 15, 30, 10, 38, 27, 25, 14, 27])"
      ]
     },
     "execution_count": 15,
     "metadata": {},
     "output_type": "execute_result"
    }
   ],
   "source": [
    "returns = np.random.randint(10, 40, 10)\n",
    "returns"
   ]
  },
  {
   "cell_type": "code",
   "execution_count": 16,
   "id": "b0bf5297-46f8-44e5-9656-aaed75fb36ed",
   "metadata": {},
   "outputs": [
    {
     "data": {
      "text/plain": [
       "array([11, 53, 15,  0, 40, 20, 45,  5, 45, 43])"
      ]
     },
     "execution_count": 16,
     "metadata": {},
     "output_type": "execute_result"
    }
   ],
   "source": [
    "net_sales = sales - returns\n",
    "net_sales"
   ]
  }
 ],
 "metadata": {
  "kernelspec": {
   "display_name": "Python 3 (ipykernel)",
   "language": "python",
   "name": "python3"
  },
  "language_info": {
   "codemirror_mode": {
    "name": "ipython",
    "version": 3
   },
   "file_extension": ".py",
   "mimetype": "text/x-python",
   "name": "python",
   "nbconvert_exporter": "python",
   "pygments_lexer": "ipython3",
   "version": "3.12.4"
  }
 },
 "nbformat": 4,
 "nbformat_minor": 5
}
