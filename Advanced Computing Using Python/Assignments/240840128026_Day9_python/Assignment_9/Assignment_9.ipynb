{
 "cells": [
  {
   "cell_type": "code",
   "execution_count": 1,
   "id": "069b8458-d6f8-49ec-a76e-d599ad642cd2",
   "metadata": {},
   "outputs": [],
   "source": [
    "import pandas as pd\n",
    "import numpy as np"
   ]
  },
  {
   "cell_type": "markdown",
   "id": "5d603f62-4a2a-43e5-ab91-ec9c6b12da7e",
   "metadata": {},
   "source": [
    "# Importing the dataframe and getting its overview by printing first 10 rows."
   ]
  },
  {
   "cell_type": "code",
   "execution_count": 2,
   "id": "8726fb1b-4d19-4ca4-8c27-fb95303fbab9",
   "metadata": {},
   "outputs": [
    {
     "data": {
      "text/html": [
       "<div>\n",
       "<style scoped>\n",
       "    .dataframe tbody tr th:only-of-type {\n",
       "        vertical-align: middle;\n",
       "    }\n",
       "\n",
       "    .dataframe tbody tr th {\n",
       "        vertical-align: top;\n",
       "    }\n",
       "\n",
       "    .dataframe thead th {\n",
       "        text-align: right;\n",
       "    }\n",
       "</style>\n",
       "<table border=\"1\" class=\"dataframe\">\n",
       "  <thead>\n",
       "    <tr style=\"text-align: right;\">\n",
       "      <th></th>\n",
       "      <th>Date</th>\n",
       "      <th>Store</th>\n",
       "      <th>Product</th>\n",
       "      <th>Category</th>\n",
       "      <th>Sales</th>\n",
       "      <th>Quantity</th>\n",
       "    </tr>\n",
       "  </thead>\n",
       "  <tbody>\n",
       "    <tr>\n",
       "      <th>0</th>\n",
       "      <td>29-01-2023</td>\n",
       "      <td>Store_D</td>\n",
       "      <td>Product_3</td>\n",
       "      <td>Category_2</td>\n",
       "      <td>430.24</td>\n",
       "      <td>11</td>\n",
       "    </tr>\n",
       "    <tr>\n",
       "      <th>1</th>\n",
       "      <td>09-10-2023</td>\n",
       "      <td>Store_B</td>\n",
       "      <td>Product_1</td>\n",
       "      <td>Category_2</td>\n",
       "      <td>212.26</td>\n",
       "      <td>18</td>\n",
       "    </tr>\n",
       "    <tr>\n",
       "      <th>2</th>\n",
       "      <td>09-08-2023</td>\n",
       "      <td>Store_C</td>\n",
       "      <td>Product_1</td>\n",
       "      <td>Category_1</td>\n",
       "      <td>538.42</td>\n",
       "      <td>8</td>\n",
       "    </tr>\n",
       "    <tr>\n",
       "      <th>3</th>\n",
       "      <td>03-05-2023</td>\n",
       "      <td>Store_B</td>\n",
       "      <td>Product_2</td>\n",
       "      <td>Category_2</td>\n",
       "      <td>670.34</td>\n",
       "      <td>9</td>\n",
       "    </tr>\n",
       "    <tr>\n",
       "      <th>4</th>\n",
       "      <td>08-11-2023</td>\n",
       "      <td>Store_A</td>\n",
       "      <td>Product_3</td>\n",
       "      <td>Category_3</td>\n",
       "      <td>562.97</td>\n",
       "      <td>17</td>\n",
       "    </tr>\n",
       "    <tr>\n",
       "      <th>5</th>\n",
       "      <td>27-05-2023</td>\n",
       "      <td>Store_E</td>\n",
       "      <td>Product_3</td>\n",
       "      <td>Category_1</td>\n",
       "      <td>251.85</td>\n",
       "      <td>12</td>\n",
       "    </tr>\n",
       "    <tr>\n",
       "      <th>6</th>\n",
       "      <td>09-04-2023</td>\n",
       "      <td>Store_C</td>\n",
       "      <td>Product_4</td>\n",
       "      <td>Category_3</td>\n",
       "      <td>660.08</td>\n",
       "      <td>8</td>\n",
       "    </tr>\n",
       "    <tr>\n",
       "      <th>7</th>\n",
       "      <td>09-02-2023</td>\n",
       "      <td>Store_D</td>\n",
       "      <td>Product_4</td>\n",
       "      <td>Category_2</td>\n",
       "      <td>388.39</td>\n",
       "      <td>7</td>\n",
       "    </tr>\n",
       "    <tr>\n",
       "      <th>8</th>\n",
       "      <td>17-05-2023</td>\n",
       "      <td>Store_D</td>\n",
       "      <td>Product_2</td>\n",
       "      <td>Category_1</td>\n",
       "      <td>164.68</td>\n",
       "      <td>9</td>\n",
       "    </tr>\n",
       "    <tr>\n",
       "      <th>9</th>\n",
       "      <td>03-10-2023</td>\n",
       "      <td>Store_E</td>\n",
       "      <td>Product_5</td>\n",
       "      <td>Category_2</td>\n",
       "      <td>424.08</td>\n",
       "      <td>1</td>\n",
       "    </tr>\n",
       "  </tbody>\n",
       "</table>\n",
       "</div>"
      ],
      "text/plain": [
       "         Date    Store    Product    Category   Sales  Quantity\n",
       "0  29-01-2023  Store_D  Product_3  Category_2  430.24        11\n",
       "1  09-10-2023  Store_B  Product_1  Category_2  212.26        18\n",
       "2  09-08-2023  Store_C  Product_1  Category_1  538.42         8\n",
       "3  03-05-2023  Store_B  Product_2  Category_2  670.34         9\n",
       "4  08-11-2023  Store_A  Product_3  Category_3  562.97        17\n",
       "5  27-05-2023  Store_E  Product_3  Category_1  251.85        12\n",
       "6  09-04-2023  Store_C  Product_4  Category_3  660.08         8\n",
       "7  09-02-2023  Store_D  Product_4  Category_2  388.39         7\n",
       "8  17-05-2023  Store_D  Product_2  Category_1  164.68         9\n",
       "9  03-10-2023  Store_E  Product_5  Category_2  424.08         1"
      ]
     },
     "execution_count": 2,
     "metadata": {},
     "output_type": "execute_result"
    }
   ],
   "source": [
    "df = pd.read_csv(\"retail_sales.csv\")\n",
    "df.head(10)"
   ]
  },
  {
   "cell_type": "markdown",
   "id": "3d18f25e-d1f9-4600-8407-d6bb6e83eae8",
   "metadata": {},
   "source": [
    "# Checking if the dataframe has any NaN values"
   ]
  },
  {
   "cell_type": "code",
   "execution_count": 3,
   "id": "34748a1c-383f-4c77-a256-75dadb328725",
   "metadata": {},
   "outputs": [
    {
     "data": {
      "text/html": [
       "<div>\n",
       "<style scoped>\n",
       "    .dataframe tbody tr th:only-of-type {\n",
       "        vertical-align: middle;\n",
       "    }\n",
       "\n",
       "    .dataframe tbody tr th {\n",
       "        vertical-align: top;\n",
       "    }\n",
       "\n",
       "    .dataframe thead th {\n",
       "        text-align: right;\n",
       "    }\n",
       "</style>\n",
       "<table border=\"1\" class=\"dataframe\">\n",
       "  <thead>\n",
       "    <tr style=\"text-align: right;\">\n",
       "      <th></th>\n",
       "      <th>Date</th>\n",
       "      <th>Store</th>\n",
       "      <th>Product</th>\n",
       "      <th>Category</th>\n",
       "      <th>Sales</th>\n",
       "      <th>Quantity</th>\n",
       "    </tr>\n",
       "  </thead>\n",
       "  <tbody>\n",
       "    <tr>\n",
       "      <th>0</th>\n",
       "      <td>29-01-2023</td>\n",
       "      <td>Store_D</td>\n",
       "      <td>Product_3</td>\n",
       "      <td>Category_2</td>\n",
       "      <td>430.24</td>\n",
       "      <td>11.0</td>\n",
       "    </tr>\n",
       "    <tr>\n",
       "      <th>1</th>\n",
       "      <td>09-10-2023</td>\n",
       "      <td>Store_B</td>\n",
       "      <td>Product_1</td>\n",
       "      <td>Category_2</td>\n",
       "      <td>212.26</td>\n",
       "      <td>18.0</td>\n",
       "    </tr>\n",
       "    <tr>\n",
       "      <th>2</th>\n",
       "      <td>09-08-2023</td>\n",
       "      <td>Store_C</td>\n",
       "      <td>Product_1</td>\n",
       "      <td>Category_1</td>\n",
       "      <td>538.42</td>\n",
       "      <td>8.0</td>\n",
       "    </tr>\n",
       "    <tr>\n",
       "      <th>3</th>\n",
       "      <td>03-05-2023</td>\n",
       "      <td>Store_B</td>\n",
       "      <td>Product_2</td>\n",
       "      <td>Category_2</td>\n",
       "      <td>670.34</td>\n",
       "      <td>NaN</td>\n",
       "    </tr>\n",
       "    <tr>\n",
       "      <th>4</th>\n",
       "      <td>08-11-2023</td>\n",
       "      <td>Store_A</td>\n",
       "      <td>Product_3</td>\n",
       "      <td>Category_3</td>\n",
       "      <td>562.97</td>\n",
       "      <td>NaN</td>\n",
       "    </tr>\n",
       "    <tr>\n",
       "      <th>...</th>\n",
       "      <td>...</td>\n",
       "      <td>...</td>\n",
       "      <td>...</td>\n",
       "      <td>...</td>\n",
       "      <td>...</td>\n",
       "      <td>...</td>\n",
       "    </tr>\n",
       "    <tr>\n",
       "      <th>495</th>\n",
       "      <td>29-09-2023</td>\n",
       "      <td>Store_E</td>\n",
       "      <td>Product_1</td>\n",
       "      <td>Category_1</td>\n",
       "      <td>698.10</td>\n",
       "      <td>19.0</td>\n",
       "    </tr>\n",
       "    <tr>\n",
       "      <th>496</th>\n",
       "      <td>28-11-2023</td>\n",
       "      <td>Store_C</td>\n",
       "      <td>Product_1</td>\n",
       "      <td>Category_2</td>\n",
       "      <td>551.81</td>\n",
       "      <td>3.0</td>\n",
       "    </tr>\n",
       "    <tr>\n",
       "      <th>497</th>\n",
       "      <td>28-11-2023</td>\n",
       "      <td>Store_B</td>\n",
       "      <td>Product_5</td>\n",
       "      <td>Category_1</td>\n",
       "      <td>553.18</td>\n",
       "      <td>11.0</td>\n",
       "    </tr>\n",
       "    <tr>\n",
       "      <th>498</th>\n",
       "      <td>23-07-2023</td>\n",
       "      <td>Store_D</td>\n",
       "      <td>Product_5</td>\n",
       "      <td>Category_2</td>\n",
       "      <td>748.95</td>\n",
       "      <td>18.0</td>\n",
       "    </tr>\n",
       "    <tr>\n",
       "      <th>499</th>\n",
       "      <td>04-01-2023</td>\n",
       "      <td>Store_C</td>\n",
       "      <td>Product_5</td>\n",
       "      <td>Category_3</td>\n",
       "      <td>708.42</td>\n",
       "      <td>12.0</td>\n",
       "    </tr>\n",
       "  </tbody>\n",
       "</table>\n",
       "<p>500 rows × 6 columns</p>\n",
       "</div>"
      ],
      "text/plain": [
       "           Date    Store    Product    Category   Sales  Quantity\n",
       "0    29-01-2023  Store_D  Product_3  Category_2  430.24      11.0\n",
       "1    09-10-2023  Store_B  Product_1  Category_2  212.26      18.0\n",
       "2    09-08-2023  Store_C  Product_1  Category_1  538.42       8.0\n",
       "3    03-05-2023  Store_B  Product_2  Category_2  670.34       NaN\n",
       "4    08-11-2023  Store_A  Product_3  Category_3  562.97       NaN\n",
       "..          ...      ...        ...         ...     ...       ...\n",
       "495  29-09-2023  Store_E  Product_1  Category_1  698.10      19.0\n",
       "496  28-11-2023  Store_C  Product_1  Category_2  551.81       3.0\n",
       "497  28-11-2023  Store_B  Product_5  Category_1  553.18      11.0\n",
       "498  23-07-2023  Store_D  Product_5  Category_2  748.95      18.0\n",
       "499  04-01-2023  Store_C  Product_5  Category_3  708.42      12.0\n",
       "\n",
       "[500 rows x 6 columns]"
      ]
     },
     "execution_count": 3,
     "metadata": {},
     "output_type": "execute_result"
    }
   ],
   "source": [
    "df.loc[3:7, 'Quantity'] = np.nan\n",
    "df"
   ]
  },
  {
   "cell_type": "code",
   "execution_count": 4,
   "id": "633a58b9-c738-4f6e-964c-5827a62ec43e",
   "metadata": {},
   "outputs": [
    {
     "data": {
      "text/plain": [
       "Date        0\n",
       "Store       0\n",
       "Product     0\n",
       "Category    0\n",
       "Sales       0\n",
       "Quantity    5\n",
       "dtype: int64"
      ]
     },
     "execution_count": 4,
     "metadata": {},
     "output_type": "execute_result"
    }
   ],
   "source": [
    "df.isna().sum()"
   ]
  },
  {
   "cell_type": "code",
   "execution_count": 5,
   "id": "f8f4d0cc-ffb4-4334-b36b-7ffb0cdc18a0",
   "metadata": {},
   "outputs": [
    {
     "data": {
      "text/html": [
       "<div>\n",
       "<style scoped>\n",
       "    .dataframe tbody tr th:only-of-type {\n",
       "        vertical-align: middle;\n",
       "    }\n",
       "\n",
       "    .dataframe tbody tr th {\n",
       "        vertical-align: top;\n",
       "    }\n",
       "\n",
       "    .dataframe thead th {\n",
       "        text-align: right;\n",
       "    }\n",
       "</style>\n",
       "<table border=\"1\" class=\"dataframe\">\n",
       "  <thead>\n",
       "    <tr style=\"text-align: right;\">\n",
       "      <th></th>\n",
       "      <th>Date</th>\n",
       "      <th>Store</th>\n",
       "      <th>Product</th>\n",
       "      <th>Category</th>\n",
       "      <th>Sales</th>\n",
       "      <th>Quantity</th>\n",
       "    </tr>\n",
       "  </thead>\n",
       "  <tbody>\n",
       "    <tr>\n",
       "      <th>0</th>\n",
       "      <td>29-01-2023</td>\n",
       "      <td>Store_D</td>\n",
       "      <td>Product_3</td>\n",
       "      <td>Category_2</td>\n",
       "      <td>430.24</td>\n",
       "      <td>11.000000</td>\n",
       "    </tr>\n",
       "    <tr>\n",
       "      <th>1</th>\n",
       "      <td>09-10-2023</td>\n",
       "      <td>Store_B</td>\n",
       "      <td>Product_1</td>\n",
       "      <td>Category_2</td>\n",
       "      <td>212.26</td>\n",
       "      <td>18.000000</td>\n",
       "    </tr>\n",
       "    <tr>\n",
       "      <th>2</th>\n",
       "      <td>09-08-2023</td>\n",
       "      <td>Store_C</td>\n",
       "      <td>Product_1</td>\n",
       "      <td>Category_1</td>\n",
       "      <td>538.42</td>\n",
       "      <td>8.000000</td>\n",
       "    </tr>\n",
       "    <tr>\n",
       "      <th>3</th>\n",
       "      <td>03-05-2023</td>\n",
       "      <td>Store_B</td>\n",
       "      <td>Product_2</td>\n",
       "      <td>Category_2</td>\n",
       "      <td>670.34</td>\n",
       "      <td>10.458586</td>\n",
       "    </tr>\n",
       "    <tr>\n",
       "      <th>4</th>\n",
       "      <td>08-11-2023</td>\n",
       "      <td>Store_A</td>\n",
       "      <td>Product_3</td>\n",
       "      <td>Category_3</td>\n",
       "      <td>562.97</td>\n",
       "      <td>10.458586</td>\n",
       "    </tr>\n",
       "    <tr>\n",
       "      <th>...</th>\n",
       "      <td>...</td>\n",
       "      <td>...</td>\n",
       "      <td>...</td>\n",
       "      <td>...</td>\n",
       "      <td>...</td>\n",
       "      <td>...</td>\n",
       "    </tr>\n",
       "    <tr>\n",
       "      <th>495</th>\n",
       "      <td>29-09-2023</td>\n",
       "      <td>Store_E</td>\n",
       "      <td>Product_1</td>\n",
       "      <td>Category_1</td>\n",
       "      <td>698.10</td>\n",
       "      <td>19.000000</td>\n",
       "    </tr>\n",
       "    <tr>\n",
       "      <th>496</th>\n",
       "      <td>28-11-2023</td>\n",
       "      <td>Store_C</td>\n",
       "      <td>Product_1</td>\n",
       "      <td>Category_2</td>\n",
       "      <td>551.81</td>\n",
       "      <td>3.000000</td>\n",
       "    </tr>\n",
       "    <tr>\n",
       "      <th>497</th>\n",
       "      <td>28-11-2023</td>\n",
       "      <td>Store_B</td>\n",
       "      <td>Product_5</td>\n",
       "      <td>Category_1</td>\n",
       "      <td>553.18</td>\n",
       "      <td>11.000000</td>\n",
       "    </tr>\n",
       "    <tr>\n",
       "      <th>498</th>\n",
       "      <td>23-07-2023</td>\n",
       "      <td>Store_D</td>\n",
       "      <td>Product_5</td>\n",
       "      <td>Category_2</td>\n",
       "      <td>748.95</td>\n",
       "      <td>18.000000</td>\n",
       "    </tr>\n",
       "    <tr>\n",
       "      <th>499</th>\n",
       "      <td>04-01-2023</td>\n",
       "      <td>Store_C</td>\n",
       "      <td>Product_5</td>\n",
       "      <td>Category_3</td>\n",
       "      <td>708.42</td>\n",
       "      <td>12.000000</td>\n",
       "    </tr>\n",
       "  </tbody>\n",
       "</table>\n",
       "<p>500 rows × 6 columns</p>\n",
       "</div>"
      ],
      "text/plain": [
       "           Date    Store    Product    Category   Sales   Quantity\n",
       "0    29-01-2023  Store_D  Product_3  Category_2  430.24  11.000000\n",
       "1    09-10-2023  Store_B  Product_1  Category_2  212.26  18.000000\n",
       "2    09-08-2023  Store_C  Product_1  Category_1  538.42   8.000000\n",
       "3    03-05-2023  Store_B  Product_2  Category_2  670.34  10.458586\n",
       "4    08-11-2023  Store_A  Product_3  Category_3  562.97  10.458586\n",
       "..          ...      ...        ...         ...     ...        ...\n",
       "495  29-09-2023  Store_E  Product_1  Category_1  698.10  19.000000\n",
       "496  28-11-2023  Store_C  Product_1  Category_2  551.81   3.000000\n",
       "497  28-11-2023  Store_B  Product_5  Category_1  553.18  11.000000\n",
       "498  23-07-2023  Store_D  Product_5  Category_2  748.95  18.000000\n",
       "499  04-01-2023  Store_C  Product_5  Category_3  708.42  12.000000\n",
       "\n",
       "[500 rows x 6 columns]"
      ]
     },
     "execution_count": 5,
     "metadata": {},
     "output_type": "execute_result"
    }
   ],
   "source": [
    "df = df.fillna(df['Quantity'].mean())\n",
    "df"
   ]
  },
  {
   "cell_type": "markdown",
   "id": "aa1015d1-4fbd-46a2-aa10-698d336c4ceb",
   "metadata": {},
   "source": [
    "# Data Cleaning and Preparetion"
   ]
  },
  {
   "cell_type": "markdown",
   "id": "43a1a8b9-0745-4eed-8e5e-08ee6090e7c7",
   "metadata": {},
   "source": [
    "#### Converting the date column to datetime format."
   ]
  },
  {
   "cell_type": "code",
   "execution_count": 6,
   "id": "6901f551-6808-4bc6-b173-3641e712d511",
   "metadata": {},
   "outputs": [
    {
     "name": "stdout",
     "output_type": "stream",
     "text": [
      "<class 'pandas.core.frame.DataFrame'>\n",
      "RangeIndex: 500 entries, 0 to 499\n",
      "Data columns (total 6 columns):\n",
      " #   Column    Non-Null Count  Dtype         \n",
      "---  ------    --------------  -----         \n",
      " 0   Date      500 non-null    datetime64[ns]\n",
      " 1   Store     500 non-null    object        \n",
      " 2   Product   500 non-null    object        \n",
      " 3   Category  500 non-null    object        \n",
      " 4   Sales     500 non-null    float64       \n",
      " 5   Quantity  500 non-null    float64       \n",
      "dtypes: datetime64[ns](1), float64(2), object(3)\n",
      "memory usage: 23.6+ KB\n"
     ]
    }
   ],
   "source": [
    "df['Date'] = pd.to_datetime(df[\"Date\"], dayfirst = True)\n",
    "df.info()"
   ]
  },
  {
   "cell_type": "markdown",
   "id": "52ccad07-aa7f-4e13-ab59-f73392c53860",
   "metadata": {},
   "source": [
    "Removing any duplicates if possible"
   ]
  },
  {
   "cell_type": "code",
   "execution_count": 7,
   "id": "5deebd61-1469-4ff7-b26c-f82a13add04a",
   "metadata": {},
   "outputs": [
    {
     "name": "stdout",
     "output_type": "stream",
     "text": [
      "<class 'pandas.core.frame.DataFrame'>\n",
      "RangeIndex: 500 entries, 0 to 499\n",
      "Data columns (total 6 columns):\n",
      " #   Column    Non-Null Count  Dtype         \n",
      "---  ------    --------------  -----         \n",
      " 0   Date      500 non-null    datetime64[ns]\n",
      " 1   Store     500 non-null    object        \n",
      " 2   Product   500 non-null    object        \n",
      " 3   Category  500 non-null    object        \n",
      " 4   Sales     500 non-null    float64       \n",
      " 5   Quantity  500 non-null    float64       \n",
      "dtypes: datetime64[ns](1), float64(2), object(3)\n",
      "memory usage: 23.6+ KB\n"
     ]
    }
   ],
   "source": [
    "df= df.drop_duplicates()\n",
    "df.info() # There were no Duplicates as the number of columns have not decreased."
   ]
  },
  {
   "cell_type": "markdown",
   "id": "81760735-aa79-4253-87c1-529d923d6828",
   "metadata": {},
   "source": [
    "#### Handleing Outliars in the Sales column using the IQR method by replacing them with the median sales value."
   ]
  },
  {
   "cell_type": "code",
   "execution_count": 8,
   "id": "3d4f8ca0-70d6-4b93-bc71-615a137d0cf4",
   "metadata": {},
   "outputs": [
    {
     "data": {
      "text/plain": [
       "(-473.19875, 1401.11125)"
      ]
     },
     "execution_count": 8,
     "metadata": {},
     "output_type": "execute_result"
    }
   ],
   "source": [
    "# Calculating Quantiles and Bounds\n",
    "Q1 = df[\"Sales\"].quantile(0.25)\n",
    "Q3 = df[\"Sales\"].quantile(0.75)\n",
    "\n",
    "IQR = Q3 - Q1\n",
    "\n",
    "lower_bound = Q1 - (1.5 * IQR)\n",
    "upper_bound = Q3 + (1.5 * IQR)\n",
    "lower_bound, upper_bound "
   ]
  },
  {
   "cell_type": "code",
   "execution_count": 13,
   "id": "a9e082c8-51d8-440b-9b90-1e7e0b08c0d5",
   "metadata": {},
   "outputs": [
    {
     "name": "stdout",
     "output_type": "stream",
     "text": [
      "<class 'pandas.core.frame.DataFrame'>\n",
      "RangeIndex: 500 entries, 0 to 499\n",
      "Data columns (total 6 columns):\n",
      " #   Column    Non-Null Count  Dtype         \n",
      "---  ------    --------------  -----         \n",
      " 0   Date      500 non-null    datetime64[ns]\n",
      " 1   Store     500 non-null    object        \n",
      " 2   Product   500 non-null    object        \n",
      " 3   Category  500 non-null    object        \n",
      " 4   Sales     500 non-null    float64       \n",
      " 5   Quantity  500 non-null    float64       \n",
      "dtypes: datetime64[ns](1), float64(2), object(3)\n",
      "memory usage: 23.6+ KB\n"
     ]
    }
   ],
   "source": [
    "lower_criterian = (df[\"Sales\"] > lower_bound)\n",
    "upper_criterian = (df[\"Sales\"] < upper_bound)\n",
    "df = df[lower_criterian & upper_criterian]\n",
    "df.info() # No rows were dropped."
   ]
  },
  {
   "cell_type": "markdown",
   "id": "2d10ae96-ac03-45da-b2c7-0cc60ada1f01",
   "metadata": {},
   "source": [
    "# Sales Analysis"
   ]
  },
  {
   "cell_type": "markdown",
   "id": "25b8b914-ec84-49fe-a1c6-7856744205ad",
   "metadata": {},
   "source": [
    "#### Calculate total sale of each store and display top 5 stores by sales"
   ]
  },
  {
   "cell_type": "code",
   "execution_count": 26,
   "id": "26b2ea0a-a842-4bd8-a5cb-ef1c49928f00",
   "metadata": {},
   "outputs": [
    {
     "data": {
      "text/html": [
       "<div>\n",
       "<style scoped>\n",
       "    .dataframe tbody tr th:only-of-type {\n",
       "        vertical-align: middle;\n",
       "    }\n",
       "\n",
       "    .dataframe tbody tr th {\n",
       "        vertical-align: top;\n",
       "    }\n",
       "\n",
       "    .dataframe thead th {\n",
       "        text-align: right;\n",
       "    }\n",
       "</style>\n",
       "<table border=\"1\" class=\"dataframe\">\n",
       "  <thead>\n",
       "    <tr style=\"text-align: right;\">\n",
       "      <th></th>\n",
       "      <th>Store</th>\n",
       "      <th>Sales</th>\n",
       "    </tr>\n",
       "  </thead>\n",
       "  <tbody>\n",
       "    <tr>\n",
       "      <th>2</th>\n",
       "      <td>Store_C</td>\n",
       "      <td>44523.58</td>\n",
       "    </tr>\n",
       "    <tr>\n",
       "      <th>4</th>\n",
       "      <td>Store_E</td>\n",
       "      <td>45513.99</td>\n",
       "    </tr>\n",
       "    <tr>\n",
       "      <th>0</th>\n",
       "      <td>Store_D</td>\n",
       "      <td>45760.31999999999</td>\n",
       "    </tr>\n",
       "    <tr>\n",
       "      <th>1</th>\n",
       "      <td>Store_B</td>\n",
       "      <td>50726.71000000001</td>\n",
       "    </tr>\n",
       "    <tr>\n",
       "      <th>3</th>\n",
       "      <td>Store_A</td>\n",
       "      <td>52090.36</td>\n",
       "    </tr>\n",
       "  </tbody>\n",
       "</table>\n",
       "</div>"
      ],
      "text/plain": [
       "     Store              Sales\n",
       "2  Store_C           44523.58\n",
       "4  Store_E           45513.99\n",
       "0  Store_D  45760.31999999999\n",
       "1  Store_B  50726.71000000001\n",
       "3  Store_A           52090.36"
      ]
     },
     "execution_count": 26,
     "metadata": {},
     "output_type": "execute_result"
    }
   ],
   "source": [
    "# Finding unique values in stores column\n",
    "stores = df[\"Store\"].unique()\n",
    "sales = []\n",
    "for store in stores:\n",
    "    sales.append(df[df[\"Store\"] == store][\"Sales\"].sum())\n",
    "temp_li = np.array([[i,j] for i, j in zip(stores, sales)])\n",
    "pd.DataFrame(temp_li, columns = [\"Store\", \"Sales\"]).sort_values(by = [\"Sales\"]).head()\n",
    "\n"
   ]
  },
  {
   "cell_type": "markdown",
   "id": "fa9423f9-3536-46dc-a3c1-644f3bd7c4a3",
   "metadata": {},
   "source": [
    "#### Which product Category had highest average sales"
   ]
  },
  {
   "cell_type": "code",
   "execution_count": 49,
   "id": "651464b1-b41a-481c-95f0-60d5c088953f",
   "metadata": {},
   "outputs": [
    {
     "ename": "KeyError",
     "evalue": "'Category'",
     "output_type": "error",
     "traceback": [
      "\u001b[1;31m---------------------------------------------------------------------------\u001b[0m",
      "\u001b[1;31mKeyError\u001b[0m                                  Traceback (most recent call last)",
      "Cell \u001b[1;32mIn[49], line 1\u001b[0m\n\u001b[1;32m----> 1\u001b[0m temp \u001b[38;5;241m=\u001b[39m df\u001b[38;5;241m.\u001b[39mgroupby(\u001b[38;5;124m'\u001b[39m\u001b[38;5;124mCategory\u001b[39m\u001b[38;5;124m'\u001b[39m)[\u001b[38;5;124m'\u001b[39m\u001b[38;5;124mSales\u001b[39m\u001b[38;5;124m'\u001b[39m]\u001b[38;5;241m.\u001b[39mmean()\u001b[38;5;241m.\u001b[39mreset_index()\n\u001b[0;32m      2\u001b[0m temp \u001b[38;5;241m=\u001b[39m temp\u001b[38;5;241m.\u001b[39msort_values(by \u001b[38;5;241m=\u001b[39m \u001b[38;5;124m'\u001b[39m\u001b[38;5;124mSales\u001b[39m\u001b[38;5;124m'\u001b[39m, ascending \u001b[38;5;241m=\u001b[39m \u001b[38;5;28;01mFalse\u001b[39;00m)\u001b[38;5;241m.\u001b[39mreset_index()\n\u001b[0;32m      3\u001b[0m temp\u001b[38;5;241m.\u001b[39mloc[\u001b[38;5;241m0\u001b[39m, [\u001b[38;5;124m\"\u001b[39m\u001b[38;5;124mCategory\u001b[39m\u001b[38;5;124m\"\u001b[39m,\u001b[38;5;124m\"\u001b[39m\u001b[38;5;124mSales\u001b[39m\u001b[38;5;124m\"\u001b[39m]]\n",
      "File \u001b[1;32m~\\anaconda3\\Lib\\site-packages\\pandas\\core\\frame.py:9183\u001b[0m, in \u001b[0;36mDataFrame.groupby\u001b[1;34m(self, by, axis, level, as_index, sort, group_keys, observed, dropna)\u001b[0m\n\u001b[0;32m   9180\u001b[0m \u001b[38;5;28;01mif\u001b[39;00m level \u001b[38;5;129;01mis\u001b[39;00m \u001b[38;5;28;01mNone\u001b[39;00m \u001b[38;5;129;01mand\u001b[39;00m by \u001b[38;5;129;01mis\u001b[39;00m \u001b[38;5;28;01mNone\u001b[39;00m:\n\u001b[0;32m   9181\u001b[0m     \u001b[38;5;28;01mraise\u001b[39;00m \u001b[38;5;167;01mTypeError\u001b[39;00m(\u001b[38;5;124m\"\u001b[39m\u001b[38;5;124mYou have to supply one of \u001b[39m\u001b[38;5;124m'\u001b[39m\u001b[38;5;124mby\u001b[39m\u001b[38;5;124m'\u001b[39m\u001b[38;5;124m and \u001b[39m\u001b[38;5;124m'\u001b[39m\u001b[38;5;124mlevel\u001b[39m\u001b[38;5;124m'\u001b[39m\u001b[38;5;124m\"\u001b[39m)\n\u001b[1;32m-> 9183\u001b[0m \u001b[38;5;28;01mreturn\u001b[39;00m DataFrameGroupBy(\n\u001b[0;32m   9184\u001b[0m     obj\u001b[38;5;241m=\u001b[39m\u001b[38;5;28mself\u001b[39m,\n\u001b[0;32m   9185\u001b[0m     keys\u001b[38;5;241m=\u001b[39mby,\n\u001b[0;32m   9186\u001b[0m     axis\u001b[38;5;241m=\u001b[39maxis,\n\u001b[0;32m   9187\u001b[0m     level\u001b[38;5;241m=\u001b[39mlevel,\n\u001b[0;32m   9188\u001b[0m     as_index\u001b[38;5;241m=\u001b[39mas_index,\n\u001b[0;32m   9189\u001b[0m     sort\u001b[38;5;241m=\u001b[39msort,\n\u001b[0;32m   9190\u001b[0m     group_keys\u001b[38;5;241m=\u001b[39mgroup_keys,\n\u001b[0;32m   9191\u001b[0m     observed\u001b[38;5;241m=\u001b[39mobserved,\n\u001b[0;32m   9192\u001b[0m     dropna\u001b[38;5;241m=\u001b[39mdropna,\n\u001b[0;32m   9193\u001b[0m )\n",
      "File \u001b[1;32m~\\anaconda3\\Lib\\site-packages\\pandas\\core\\groupby\\groupby.py:1329\u001b[0m, in \u001b[0;36mGroupBy.__init__\u001b[1;34m(self, obj, keys, axis, level, grouper, exclusions, selection, as_index, sort, group_keys, observed, dropna)\u001b[0m\n\u001b[0;32m   1326\u001b[0m \u001b[38;5;28mself\u001b[39m\u001b[38;5;241m.\u001b[39mdropna \u001b[38;5;241m=\u001b[39m dropna\n\u001b[0;32m   1328\u001b[0m \u001b[38;5;28;01mif\u001b[39;00m grouper \u001b[38;5;129;01mis\u001b[39;00m \u001b[38;5;28;01mNone\u001b[39;00m:\n\u001b[1;32m-> 1329\u001b[0m     grouper, exclusions, obj \u001b[38;5;241m=\u001b[39m get_grouper(\n\u001b[0;32m   1330\u001b[0m         obj,\n\u001b[0;32m   1331\u001b[0m         keys,\n\u001b[0;32m   1332\u001b[0m         axis\u001b[38;5;241m=\u001b[39maxis,\n\u001b[0;32m   1333\u001b[0m         level\u001b[38;5;241m=\u001b[39mlevel,\n\u001b[0;32m   1334\u001b[0m         sort\u001b[38;5;241m=\u001b[39msort,\n\u001b[0;32m   1335\u001b[0m         observed\u001b[38;5;241m=\u001b[39m\u001b[38;5;28;01mFalse\u001b[39;00m \u001b[38;5;28;01mif\u001b[39;00m observed \u001b[38;5;129;01mis\u001b[39;00m lib\u001b[38;5;241m.\u001b[39mno_default \u001b[38;5;28;01melse\u001b[39;00m observed,\n\u001b[0;32m   1336\u001b[0m         dropna\u001b[38;5;241m=\u001b[39m\u001b[38;5;28mself\u001b[39m\u001b[38;5;241m.\u001b[39mdropna,\n\u001b[0;32m   1337\u001b[0m     )\n\u001b[0;32m   1339\u001b[0m \u001b[38;5;28;01mif\u001b[39;00m observed \u001b[38;5;129;01mis\u001b[39;00m lib\u001b[38;5;241m.\u001b[39mno_default:\n\u001b[0;32m   1340\u001b[0m     \u001b[38;5;28;01mif\u001b[39;00m \u001b[38;5;28many\u001b[39m(ping\u001b[38;5;241m.\u001b[39m_passed_categorical \u001b[38;5;28;01mfor\u001b[39;00m ping \u001b[38;5;129;01min\u001b[39;00m grouper\u001b[38;5;241m.\u001b[39mgroupings):\n",
      "File \u001b[1;32m~\\anaconda3\\Lib\\site-packages\\pandas\\core\\groupby\\grouper.py:1043\u001b[0m, in \u001b[0;36mget_grouper\u001b[1;34m(obj, key, axis, level, sort, observed, validate, dropna)\u001b[0m\n\u001b[0;32m   1041\u001b[0m         in_axis, level, gpr \u001b[38;5;241m=\u001b[39m \u001b[38;5;28;01mFalse\u001b[39;00m, gpr, \u001b[38;5;28;01mNone\u001b[39;00m\n\u001b[0;32m   1042\u001b[0m     \u001b[38;5;28;01melse\u001b[39;00m:\n\u001b[1;32m-> 1043\u001b[0m         \u001b[38;5;28;01mraise\u001b[39;00m \u001b[38;5;167;01mKeyError\u001b[39;00m(gpr)\n\u001b[0;32m   1044\u001b[0m \u001b[38;5;28;01melif\u001b[39;00m \u001b[38;5;28misinstance\u001b[39m(gpr, Grouper) \u001b[38;5;129;01mand\u001b[39;00m gpr\u001b[38;5;241m.\u001b[39mkey \u001b[38;5;129;01mis\u001b[39;00m \u001b[38;5;129;01mnot\u001b[39;00m \u001b[38;5;28;01mNone\u001b[39;00m:\n\u001b[0;32m   1045\u001b[0m     \u001b[38;5;66;03m# Add key to exclusions\u001b[39;00m\n\u001b[0;32m   1046\u001b[0m     exclusions\u001b[38;5;241m.\u001b[39madd(gpr\u001b[38;5;241m.\u001b[39mkey)\n",
      "\u001b[1;31mKeyError\u001b[0m: 'Category'"
     ]
    }
   ],
   "source": [
    "temp = df.groupby('Category')['Sales'].mean().reset_index()\n",
    "temp = temp.sort_values(by = 'Sales', ascending = False).reset_index()\n",
    "temp.loc[0, [\"Category\",\"Sales\"]]\n"
   ]
  },
  {
   "cell_type": "markdown",
   "id": "838a7aa6-938b-4f5a-bd6d-e7ec1d3a608c",
   "metadata": {},
   "source": [
    "#### The best product in terms of quantity sold"
   ]
  },
  {
   "cell_type": "code",
   "execution_count": 48,
   "id": "445ab7d4-f8e2-43cc-b67c-f9d8797d5c66",
   "metadata": {},
   "outputs": [
    {
     "data": {
      "text/html": [
       "<div>\n",
       "<style scoped>\n",
       "    .dataframe tbody tr th:only-of-type {\n",
       "        vertical-align: middle;\n",
       "    }\n",
       "\n",
       "    .dataframe tbody tr th {\n",
       "        vertical-align: top;\n",
       "    }\n",
       "\n",
       "    .dataframe thead th {\n",
       "        text-align: right;\n",
       "    }\n",
       "</style>\n",
       "<table border=\"1\" class=\"dataframe\">\n",
       "  <thead>\n",
       "    <tr style=\"text-align: right;\">\n",
       "      <th></th>\n",
       "      <th>Product</th>\n",
       "      <th>Quantity</th>\n",
       "    </tr>\n",
       "  </thead>\n",
       "  <tbody>\n",
       "    <tr>\n",
       "      <th>0</th>\n",
       "      <td>Product_1</td>\n",
       "      <td>1222.000000</td>\n",
       "    </tr>\n",
       "    <tr>\n",
       "      <th>3</th>\n",
       "      <td>Product_4</td>\n",
       "      <td>1023.917172</td>\n",
       "    </tr>\n",
       "    <tr>\n",
       "      <th>2</th>\n",
       "      <td>Product_3</td>\n",
       "      <td>1008.917172</td>\n",
       "    </tr>\n",
       "    <tr>\n",
       "      <th>1</th>\n",
       "      <td>Product_2</td>\n",
       "      <td>992.458586</td>\n",
       "    </tr>\n",
       "    <tr>\n",
       "      <th>4</th>\n",
       "      <td>Product_5</td>\n",
       "      <td>982.000000</td>\n",
       "    </tr>\n",
       "  </tbody>\n",
       "</table>\n",
       "</div>"
      ],
      "text/plain": [
       "     Product     Quantity\n",
       "0  Product_1  1222.000000\n",
       "3  Product_4  1023.917172\n",
       "2  Product_3  1008.917172\n",
       "1  Product_2   992.458586\n",
       "4  Product_5   982.000000"
      ]
     },
     "execution_count": 48,
     "metadata": {},
     "output_type": "execute_result"
    }
   ],
   "source": [
    "df = df.groupby(\"Product\")[\"Quantity\"].sum().reset_index()\n",
    "df.sort_values(by = 'Quantity', ascending = False)"
   ]
  },
  {
   "cell_type": "markdown",
   "id": "ddae9f8c-85a8-4cdb-b758-7a36ce9e7946",
   "metadata": {},
   "source": [
    "# Ranking Analysis"
   ]
  },
  {
   "cell_type": "code",
   "execution_count": null,
   "id": "32f924d6-43d2-422d-ac12-9052a502644c",
   "metadata": {},
   "outputs": [],
   "source": []
  },
  {
   "cell_type": "code",
   "execution_count": null,
   "id": "7f912513-480e-48cd-aae1-2b076a30794d",
   "metadata": {},
   "outputs": [],
   "source": []
  }
 ],
 "metadata": {
  "kernelspec": {
   "display_name": "Python 3 (ipykernel)",
   "language": "python",
   "name": "python3"
  },
  "language_info": {
   "codemirror_mode": {
    "name": "ipython",
    "version": 3
   },
   "file_extension": ".py",
   "mimetype": "text/x-python",
   "name": "python",
   "nbconvert_exporter": "python",
   "pygments_lexer": "ipython3",
   "version": "3.12.4"
  }
 },
 "nbformat": 4,
 "nbformat_minor": 5
}
