{
 "cells": [
  {
   "cell_type": "code",
   "execution_count": 1,
   "id": "6b428d90-1cac-42d6-a270-a0a01f54907a",
   "metadata": {},
   "outputs": [],
   "source": [
    "import re"
   ]
  },
  {
   "cell_type": "markdown",
   "id": "4d4ef47b-6a61-4f13-9461-9b7aac37bb6a",
   "metadata": {},
   "source": [
    "# Finding and Replacing pattern"
   ]
  },
  {
   "cell_type": "markdown",
   "id": "1e981713-06e5-4d4e-8cd3-83c931d8e11d",
   "metadata": {},
   "source": [
    "### Write a python script to find and replace all occurrences of dates in the format yyyy-mm-dd with dd/mm/yyyy."
   ]
  },
  {
   "cell_type": "code",
   "execution_count": 2,
   "id": "920cb062-c722-439e-a4ec-95a78aacbaee",
   "metadata": {},
   "outputs": [],
   "source": [
    "text = \"\"\"\n",
    "On 2023-05-17, Emily embarked on a journey to Europe, marking the start of an unforgettable adventure. \n",
    "She landed in Paris on 2023-05-18, eager to explore the City of Lights. By 2023-05-20, she had visited the \n",
    "Eiffel Tower, the Louvre, and strolled along the Seine River. Her next destination was Rome, where she \n",
    "arrived on 2023-05-22. The ancient ruins of the Colosseum and the Roman Forum left her in awe on 2023-05-23. \n",
    "Emily then traveled to Athens on 2023-05-25, where the Acropolis and Parthenon took her breath away. She \n",
    "spent several days immersing herself in Greek culture, before heading to her final destination, Barcelona, \n",
    "on 2023-05-30. Here, she marveled at Gaudí's masterpieces and enjoyed the vibrant atmosphere of La Rambla. \n",
    "Her journey concluded on 2023-06-02 when she returned home, filled with memories of an extraordinary trip. \n",
    "Looking back, Emily realized that each city had left an indelible mark on her, and she was already planning \n",
    "her next adventure for 2024-07-15.\n",
    "\"\"\""
   ]
  },
  {
   "cell_type": "code",
   "execution_count": 10,
   "id": "3a19bc93-c6cb-434a-9e5f-19e22fc91f35",
   "metadata": {},
   "outputs": [
    {
     "name": "stdout",
     "output_type": "stream",
     "text": [
      "\n",
      "On 17/05/2023, Emily embarked on a journey to Europe, marking the start of an unforgettable adventure. \n",
      "She landed in Paris on 18/05/2023, eager to explore the City of Lights. By 20/05/2023, she had visited the \n",
      "Eiffel Tower, the Louvre, and strolled along the Seine River. Her next destination was Rome, where she \n",
      "arrived on 22/05/2023. The ancient ruins of the Colosseum and the Roman Forum left her in awe on 23/05/2023. \n",
      "Emily then traveled to Athens on 25/05/2023, where the Acropolis and Parthenon took her breath away. She \n",
      "spent several days immersing herself in Greek culture, before heading to her final destination, Barcelona, \n",
      "on 30/05/2023. Here, she marveled at Gaudí's masterpieces and enjoyed the vibrant atmosphere of La Rambla. \n",
      "Her journey concluded on 02/06/2023 when she returned home, filled with memories of an extraordinary trip. \n",
      "Looking back, Emily realized that each city had left an indelible mark on her, and she was already planning \n",
      "her next adventure for 15/07/2024.\n",
      "\n"
     ]
    }
   ],
   "source": [
    "find_type = r\"(\\d{4})\\-(1[0-2]|0[1-9])\\-(3[0-1]|[1-2][0-9]|0[1-9])\"\n",
    "def replace(match):\n",
    "    year = match.group(1)\n",
    "    month = match.group(2)\n",
    "    day = match.group(3)\n",
    "    return f\"{day}/{month}/{year}\"\n",
    "    \n",
    "out = re.sub(find_type, replace_type, text)\n",
    "print(out)\n"
   ]
  }
 ],
 "metadata": {
  "kernelspec": {
   "display_name": "Python 3 (ipykernel)",
   "language": "python",
   "name": "python3"
  },
  "language_info": {
   "codemirror_mode": {
    "name": "ipython",
    "version": 3
   },
   "file_extension": ".py",
   "mimetype": "text/x-python",
   "name": "python",
   "nbconvert_exporter": "python",
   "pygments_lexer": "ipython3",
   "version": "3.12.4"
  }
 },
 "nbformat": 4,
 "nbformat_minor": 5
}
