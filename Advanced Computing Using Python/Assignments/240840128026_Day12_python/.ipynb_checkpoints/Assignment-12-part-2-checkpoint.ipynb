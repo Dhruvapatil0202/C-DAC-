{
 "cells": [
  {
   "cell_type": "code",
   "execution_count": 1,
   "id": "50981d07-1411-4135-a7a3-8f7a8dbbaeb5",
   "metadata": {},
   "outputs": [],
   "source": [
    "from sqlalchemy import create_engine, Column, Integer, String, Float\n",
    "from sqlalchemy.orm import declarative_base\n",
    "from sqlalchemy.orm import sessionmaker\n",
    "import pandas as pd"
   ]
  },
  {
   "cell_type": "code",
   "execution_count": 2,
   "id": "97ce900a-c7db-463e-b850-871ee9af27f8",
   "metadata": {},
   "outputs": [
    {
     "name": "stdout",
     "output_type": "stream",
     "text": [
      "File was not there\n",
      "C:\\Users\\Dhruva\\Desktop\\temp-assignment_12\\student_database_part2.db\n"
     ]
    }
   ],
   "source": [
    "import os \n",
    "filename = \"student_database_part2.db\"\n",
    "current_directory = os.getcwd()\n",
    "file_path = os.path.join(current_directory, filename)\n",
    "\n",
    "if os.path.exists(file_path):\n",
    "    try: \n",
    "        os.remove(file_path)\n",
    "        print(f\"file got deleted\")\n",
    "    except Exception as error:\n",
    "        print(f\"An error {error} occured while deleting the file\")\n",
    "else: \n",
    "    print(\"File was not there\")\n",
    "print(f\"{file_path}\")"
   ]
  },
  {
   "cell_type": "code",
   "execution_count": 4,
   "id": "266f1c62-137a-47dc-ac5b-60b98e803edd",
   "metadata": {},
   "outputs": [],
   "source": [
    "engine = create_engine('sqlite:///student_database_part2.db', echo = True)\n",
    "Base = declarative_base()"
   ]
  },
  {
   "cell_type": "code",
   "execution_count": 5,
   "id": "967d9af2-c1b5-4123-849e-e44be77024b2",
   "metadata": {},
   "outputs": [],
   "source": [
    "class Student(Base):\n",
    "    __tablename__ = \"student_marks\"\n",
    "    stud_id = Column(Integer, primary_key = True)\n",
    "    stud_name = Column(String, nullable = False)\n",
    "    sub_name = Column(String, nullable = False)\n",
    "    marks = Column(Integer, nullable = False)\n"
   ]
  },
  {
   "cell_type": "code",
   "execution_count": 28,
   "id": "1060fb20-00c7-4dc8-a221-e50d36e30fbe",
   "metadata": {},
   "outputs": [],
   "source": [
    "def create_table():\n",
    "    Base.metadata.create_all(engine)\n",
    "    print(\"Table has been created successfully. \")\n",
    "\n",
    "def insert_data(data):\n",
    "    Session = sessionmaker(bind = engine)\n",
    "    session = Session()\n",
    "\n",
    "    session.add_all(data)\n",
    "    session.commit()\n",
    "    session.close()\n",
    "    print(\"Sample Data Inserted successfully.\")\n",
    "\n",
    "def read_data():\n",
    "    df = pd.read_sql('student_marks', con = engine)\n",
    "    return df\n",
    "\n",
    "def update_marks(df, stud_id, new_marks):\n",
    "    df.loc[df['stud_id'] == stud_id, 'marks'] = new_marks\n",
    "    return df\n",
    "    \n",
    "def write_data(df):\n",
    "    df.to_sql('student_marks', con = engine, if_exists = 'replace', index = False)\n",
    "    print('Updated data has been written back to the database')"
   ]
  },
  {
   "cell_type": "code",
   "execution_count": 9,
   "id": "0231b51b-eb30-4c80-a65b-d8a9e027fe56",
   "metadata": {},
   "outputs": [
    {
     "name": "stdout",
     "output_type": "stream",
     "text": [
      "2024-09-15 11:23:31,731 INFO sqlalchemy.engine.Engine BEGIN (implicit)\n",
      "2024-09-15 11:23:31,733 INFO sqlalchemy.engine.Engine PRAGMA main.table_info(\"student_marks\")\n",
      "2024-09-15 11:23:31,734 INFO sqlalchemy.engine.Engine [raw sql] ()\n",
      "2024-09-15 11:23:31,745 INFO sqlalchemy.engine.Engine COMMIT\n",
      "Table has been created successfully. \n"
     ]
    }
   ],
   "source": [
    "\n",
    "create_table()\n"
   ]
  },
  {
   "cell_type": "code",
   "execution_count": 10,
   "id": "d1238830-239c-46cf-98d1-d8a484214781",
   "metadata": {},
   "outputs": [
    {
     "name": "stdout",
     "output_type": "stream",
     "text": [
      "2024-09-15 11:23:38,108 INFO sqlalchemy.engine.Engine BEGIN (implicit)\n",
      "2024-09-15 11:23:38,116 INFO sqlalchemy.engine.Engine INSERT INTO student_marks (stud_id, stud_name, sub_name, marks) VALUES (?, ?, ?, ?)\n",
      "2024-09-15 11:23:38,119 INFO sqlalchemy.engine.Engine [generated in 0.00361s] [(1, 'Jhin', 'Maths', 44), (2, 'Viego', 'Poetry', 43), (3, 'Jayce', 'Electronics', 48), (4, 'Son-Uzal', 'Politics', 50)]\n",
      "2024-09-15 11:23:38,127 INFO sqlalchemy.engine.Engine COMMIT\n",
      "Sample Data Inserted successfully.\n"
     ]
    }
   ],
   "source": [
    "data = [\n",
    "    Student(stud_id = 1, stud_name = 'Jhin', sub_name = \"Maths\", marks = 44),\n",
    "    Student(stud_id = 2, stud_name = 'Viego', sub_name = 'Poetry', marks = 43),\n",
    "    Student(stud_id = 3, stud_name = 'Jayce', sub_name = 'Electronics', marks = 48),\n",
    "    Student(stud_id = 4, stud_name = 'Son-Uzal', sub_name = 'Politics', marks = 50),\n",
    "]\n",
    "\n",
    "insert_data(data)"
   ]
  },
  {
   "cell_type": "code",
   "execution_count": 29,
   "id": "1a71079f-a6bf-487a-aa96-827d4fe6c0d2",
   "metadata": {},
   "outputs": [
    {
     "name": "stdout",
     "output_type": "stream",
     "text": [
      "2024-09-15 11:54:47,485 INFO sqlalchemy.engine.Engine BEGIN (implicit)\n",
      "2024-09-15 11:54:47,487 INFO sqlalchemy.engine.Engine PRAGMA main.table_info(\"student_marks\")\n",
      "2024-09-15 11:54:47,489 INFO sqlalchemy.engine.Engine [raw sql] ()\n",
      "2024-09-15 11:54:47,490 INFO sqlalchemy.engine.Engine SELECT name FROM sqlite_master WHERE type='table' AND name NOT LIKE 'sqlite~_%' ESCAPE '~' ORDER BY name\n",
      "2024-09-15 11:54:47,490 INFO sqlalchemy.engine.Engine [raw sql] ()\n",
      "2024-09-15 11:54:47,497 INFO sqlalchemy.engine.Engine SELECT name FROM sqlite_master WHERE type='view' AND name NOT LIKE 'sqlite~_%' ESCAPE '~' ORDER BY name\n",
      "2024-09-15 11:54:47,499 INFO sqlalchemy.engine.Engine [raw sql] ()\n",
      "2024-09-15 11:54:47,502 INFO sqlalchemy.engine.Engine PRAGMA main.table_xinfo(\"student_marks\")\n",
      "2024-09-15 11:54:47,506 INFO sqlalchemy.engine.Engine [raw sql] ()\n",
      "2024-09-15 11:54:47,509 INFO sqlalchemy.engine.Engine SELECT sql FROM  (SELECT * FROM sqlite_master UNION ALL   SELECT * FROM sqlite_temp_master) WHERE name = ? AND type in ('table', 'view')\n",
      "2024-09-15 11:54:47,511 INFO sqlalchemy.engine.Engine [raw sql] ('student_marks',)\n",
      "2024-09-15 11:54:47,515 INFO sqlalchemy.engine.Engine PRAGMA main.foreign_key_list(\"student_marks\")\n",
      "2024-09-15 11:54:47,517 INFO sqlalchemy.engine.Engine [raw sql] ()\n",
      "2024-09-15 11:54:47,520 INFO sqlalchemy.engine.Engine PRAGMA temp.foreign_key_list(\"student_marks\")\n",
      "2024-09-15 11:54:47,523 INFO sqlalchemy.engine.Engine [raw sql] ()\n",
      "2024-09-15 11:54:47,526 INFO sqlalchemy.engine.Engine SELECT sql FROM  (SELECT * FROM sqlite_master UNION ALL   SELECT * FROM sqlite_temp_master) WHERE name = ? AND type in ('table', 'view')\n",
      "2024-09-15 11:54:47,528 INFO sqlalchemy.engine.Engine [raw sql] ('student_marks',)\n",
      "2024-09-15 11:54:47,531 INFO sqlalchemy.engine.Engine PRAGMA main.index_list(\"student_marks\")\n",
      "2024-09-15 11:54:47,533 INFO sqlalchemy.engine.Engine [raw sql] ()\n",
      "2024-09-15 11:54:47,535 INFO sqlalchemy.engine.Engine PRAGMA temp.index_list(\"student_marks\")\n",
      "2024-09-15 11:54:47,536 INFO sqlalchemy.engine.Engine [raw sql] ()\n",
      "2024-09-15 11:54:47,539 INFO sqlalchemy.engine.Engine PRAGMA main.table_info(\"student_marks\")\n",
      "2024-09-15 11:54:47,540 INFO sqlalchemy.engine.Engine [raw sql] ()\n",
      "2024-09-15 11:54:47,544 INFO sqlalchemy.engine.Engine PRAGMA main.index_list(\"student_marks\")\n",
      "2024-09-15 11:54:47,545 INFO sqlalchemy.engine.Engine [raw sql] ()\n",
      "2024-09-15 11:54:47,548 INFO sqlalchemy.engine.Engine PRAGMA temp.index_list(\"student_marks\")\n",
      "2024-09-15 11:54:47,549 INFO sqlalchemy.engine.Engine [raw sql] ()\n",
      "2024-09-15 11:54:47,554 INFO sqlalchemy.engine.Engine PRAGMA main.table_info(\"student_marks\")\n",
      "2024-09-15 11:54:47,556 INFO sqlalchemy.engine.Engine [raw sql] ()\n",
      "2024-09-15 11:54:47,559 INFO sqlalchemy.engine.Engine SELECT sql FROM  (SELECT * FROM sqlite_master UNION ALL   SELECT * FROM sqlite_temp_master) WHERE name = ? AND type in ('table', 'view')\n",
      "2024-09-15 11:54:47,562 INFO sqlalchemy.engine.Engine [raw sql] ('student_marks',)\n",
      "2024-09-15 11:54:47,567 INFO sqlalchemy.engine.Engine SELECT student_marks.stud_id, student_marks.stud_name, student_marks.sub_name, student_marks.marks \n",
      "FROM student_marks\n",
      "2024-09-15 11:54:47,569 INFO sqlalchemy.engine.Engine [generated in 0.00218s] ()\n",
      "2024-09-15 11:54:47,578 INFO sqlalchemy.engine.Engine ROLLBACK\n"
     ]
    },
    {
     "data": {
      "text/html": [
       "<div>\n",
       "<style scoped>\n",
       "    .dataframe tbody tr th:only-of-type {\n",
       "        vertical-align: middle;\n",
       "    }\n",
       "\n",
       "    .dataframe tbody tr th {\n",
       "        vertical-align: top;\n",
       "    }\n",
       "\n",
       "    .dataframe thead th {\n",
       "        text-align: right;\n",
       "    }\n",
       "</style>\n",
       "<table border=\"1\" class=\"dataframe\">\n",
       "  <thead>\n",
       "    <tr style=\"text-align: right;\">\n",
       "      <th></th>\n",
       "      <th>stud_id</th>\n",
       "      <th>stud_name</th>\n",
       "      <th>sub_name</th>\n",
       "      <th>marks</th>\n",
       "    </tr>\n",
       "  </thead>\n",
       "  <tbody>\n",
       "    <tr>\n",
       "      <th>0</th>\n",
       "      <td>1</td>\n",
       "      <td>Jhin</td>\n",
       "      <td>Maths</td>\n",
       "      <td>44</td>\n",
       "    </tr>\n",
       "    <tr>\n",
       "      <th>1</th>\n",
       "      <td>2</td>\n",
       "      <td>Viego</td>\n",
       "      <td>Poetry</td>\n",
       "      <td>43</td>\n",
       "    </tr>\n",
       "    <tr>\n",
       "      <th>2</th>\n",
       "      <td>3</td>\n",
       "      <td>Jayce</td>\n",
       "      <td>Electronics</td>\n",
       "      <td>48</td>\n",
       "    </tr>\n",
       "    <tr>\n",
       "      <th>3</th>\n",
       "      <td>4</td>\n",
       "      <td>Son-Uzal</td>\n",
       "      <td>Politics</td>\n",
       "      <td>50</td>\n",
       "    </tr>\n",
       "  </tbody>\n",
       "</table>\n",
       "</div>"
      ],
      "text/plain": [
       "   stud_id stud_name     sub_name  marks\n",
       "0        1      Jhin        Maths     44\n",
       "1        2     Viego       Poetry     43\n",
       "2        3     Jayce  Electronics     48\n",
       "3        4  Son-Uzal     Politics     50"
      ]
     },
     "execution_count": 29,
     "metadata": {},
     "output_type": "execute_result"
    }
   ],
   "source": [
    "df = read_data()\n",
    "df"
   ]
  },
  {
   "cell_type": "code",
   "execution_count": 30,
   "id": "de8fe3fe-8404-42cc-8ebc-830e286e8102",
   "metadata": {},
   "outputs": [
    {
     "data": {
      "text/html": [
       "<div>\n",
       "<style scoped>\n",
       "    .dataframe tbody tr th:only-of-type {\n",
       "        vertical-align: middle;\n",
       "    }\n",
       "\n",
       "    .dataframe tbody tr th {\n",
       "        vertical-align: top;\n",
       "    }\n",
       "\n",
       "    .dataframe thead th {\n",
       "        text-align: right;\n",
       "    }\n",
       "</style>\n",
       "<table border=\"1\" class=\"dataframe\">\n",
       "  <thead>\n",
       "    <tr style=\"text-align: right;\">\n",
       "      <th></th>\n",
       "      <th>stud_id</th>\n",
       "      <th>stud_name</th>\n",
       "      <th>sub_name</th>\n",
       "      <th>marks</th>\n",
       "    </tr>\n",
       "  </thead>\n",
       "  <tbody>\n",
       "    <tr>\n",
       "      <th>0</th>\n",
       "      <td>1</td>\n",
       "      <td>Jhin</td>\n",
       "      <td>Maths</td>\n",
       "      <td>44</td>\n",
       "    </tr>\n",
       "    <tr>\n",
       "      <th>1</th>\n",
       "      <td>2</td>\n",
       "      <td>Viego</td>\n",
       "      <td>Poetry</td>\n",
       "      <td>47</td>\n",
       "    </tr>\n",
       "    <tr>\n",
       "      <th>2</th>\n",
       "      <td>3</td>\n",
       "      <td>Jayce</td>\n",
       "      <td>Electronics</td>\n",
       "      <td>48</td>\n",
       "    </tr>\n",
       "    <tr>\n",
       "      <th>3</th>\n",
       "      <td>4</td>\n",
       "      <td>Son-Uzal</td>\n",
       "      <td>Politics</td>\n",
       "      <td>50</td>\n",
       "    </tr>\n",
       "  </tbody>\n",
       "</table>\n",
       "</div>"
      ],
      "text/plain": [
       "   stud_id stud_name     sub_name  marks\n",
       "0        1      Jhin        Maths     44\n",
       "1        2     Viego       Poetry     47\n",
       "2        3     Jayce  Electronics     48\n",
       "3        4  Son-Uzal     Politics     50"
      ]
     },
     "execution_count": 30,
     "metadata": {},
     "output_type": "execute_result"
    }
   ],
   "source": [
    "new_df = update_marks(df, stud_id = 2, new_marks = 47)\n",
    "new_df"
   ]
  },
  {
   "cell_type": "code",
   "execution_count": 31,
   "id": "59af4ac1-ff26-423d-b2d0-8f0fdc6f722e",
   "metadata": {},
   "outputs": [
    {
     "name": "stdout",
     "output_type": "stream",
     "text": [
      "2024-09-15 11:55:12,637 INFO sqlalchemy.engine.Engine BEGIN (implicit)\n",
      "2024-09-15 11:55:12,649 INFO sqlalchemy.engine.Engine PRAGMA main.table_info(\"student_marks\")\n",
      "2024-09-15 11:55:12,654 INFO sqlalchemy.engine.Engine [raw sql] ()\n",
      "2024-09-15 11:55:12,657 INFO sqlalchemy.engine.Engine PRAGMA main.table_info(\"student_marks\")\n",
      "2024-09-15 11:55:12,659 INFO sqlalchemy.engine.Engine [raw sql] ()\n",
      "2024-09-15 11:55:12,662 INFO sqlalchemy.engine.Engine SELECT name FROM sqlite_master WHERE type='table' AND name NOT LIKE 'sqlite~_%' ESCAPE '~' ORDER BY name\n",
      "2024-09-15 11:55:12,664 INFO sqlalchemy.engine.Engine [raw sql] ()\n",
      "2024-09-15 11:55:12,668 INFO sqlalchemy.engine.Engine SELECT name FROM sqlite_master WHERE type='view' AND name NOT LIKE 'sqlite~_%' ESCAPE '~' ORDER BY name\n",
      "2024-09-15 11:55:12,670 INFO sqlalchemy.engine.Engine [raw sql] ()\n",
      "2024-09-15 11:55:12,673 INFO sqlalchemy.engine.Engine PRAGMA main.table_xinfo(\"student_marks\")\n",
      "2024-09-15 11:55:12,675 INFO sqlalchemy.engine.Engine [raw sql] ()\n",
      "2024-09-15 11:55:12,678 INFO sqlalchemy.engine.Engine SELECT sql FROM  (SELECT * FROM sqlite_master UNION ALL   SELECT * FROM sqlite_temp_master) WHERE name = ? AND type in ('table', 'view')\n",
      "2024-09-15 11:55:12,680 INFO sqlalchemy.engine.Engine [raw sql] ('student_marks',)\n",
      "2024-09-15 11:55:12,684 INFO sqlalchemy.engine.Engine PRAGMA main.foreign_key_list(\"student_marks\")\n",
      "2024-09-15 11:55:12,686 INFO sqlalchemy.engine.Engine [raw sql] ()\n",
      "2024-09-15 11:55:12,690 INFO sqlalchemy.engine.Engine PRAGMA temp.foreign_key_list(\"student_marks\")\n",
      "2024-09-15 11:55:12,692 INFO sqlalchemy.engine.Engine [raw sql] ()\n",
      "2024-09-15 11:55:12,694 INFO sqlalchemy.engine.Engine SELECT sql FROM  (SELECT * FROM sqlite_master UNION ALL   SELECT * FROM sqlite_temp_master) WHERE name = ? AND type in ('table', 'view')\n",
      "2024-09-15 11:55:12,697 INFO sqlalchemy.engine.Engine [raw sql] ('student_marks',)\n",
      "2024-09-15 11:55:12,701 INFO sqlalchemy.engine.Engine PRAGMA main.index_list(\"student_marks\")\n",
      "2024-09-15 11:55:12,703 INFO sqlalchemy.engine.Engine [raw sql] ()\n",
      "2024-09-15 11:55:12,708 INFO sqlalchemy.engine.Engine PRAGMA temp.index_list(\"student_marks\")\n",
      "2024-09-15 11:55:12,711 INFO sqlalchemy.engine.Engine [raw sql] ()\n",
      "2024-09-15 11:55:12,717 INFO sqlalchemy.engine.Engine PRAGMA main.table_info(\"student_marks\")\n",
      "2024-09-15 11:55:12,719 INFO sqlalchemy.engine.Engine [raw sql] ()\n",
      "2024-09-15 11:55:12,724 INFO sqlalchemy.engine.Engine PRAGMA main.index_list(\"student_marks\")\n",
      "2024-09-15 11:55:12,732 INFO sqlalchemy.engine.Engine [raw sql] ()\n",
      "2024-09-15 11:55:12,736 INFO sqlalchemy.engine.Engine PRAGMA temp.index_list(\"student_marks\")\n",
      "2024-09-15 11:55:12,737 INFO sqlalchemy.engine.Engine [raw sql] ()\n",
      "2024-09-15 11:55:12,739 INFO sqlalchemy.engine.Engine PRAGMA main.table_info(\"student_marks\")\n",
      "2024-09-15 11:55:12,741 INFO sqlalchemy.engine.Engine [raw sql] ()\n",
      "2024-09-15 11:55:12,744 INFO sqlalchemy.engine.Engine SELECT sql FROM  (SELECT * FROM sqlite_master UNION ALL   SELECT * FROM sqlite_temp_master) WHERE name = ? AND type in ('table', 'view')\n",
      "2024-09-15 11:55:12,746 INFO sqlalchemy.engine.Engine [raw sql] ('student_marks',)\n",
      "2024-09-15 11:55:12,753 INFO sqlalchemy.engine.Engine \n",
      "DROP TABLE student_marks\n",
      "2024-09-15 11:55:12,755 INFO sqlalchemy.engine.Engine [no key 0.00170s] ()\n",
      "2024-09-15 11:55:12,770 INFO sqlalchemy.engine.Engine \n",
      "CREATE TABLE student_marks (\n",
      "\tstud_id BIGINT, \n",
      "\tstud_name TEXT, \n",
      "\tsub_name TEXT, \n",
      "\tmarks BIGINT\n",
      ")\n",
      "\n",
      "\n",
      "2024-09-15 11:55:12,772 INFO sqlalchemy.engine.Engine [no key 0.00159s] ()\n",
      "2024-09-15 11:55:12,788 INFO sqlalchemy.engine.Engine INSERT INTO student_marks (stud_id, stud_name, sub_name, marks) VALUES (?, ?, ?, ?)\n",
      "2024-09-15 11:55:12,789 INFO sqlalchemy.engine.Engine [generated in 0.00169s] [(1, 'Jhin', 'Maths', 44), (2, 'Viego', 'Poetry', 47), (3, 'Jayce', 'Electronics', 48), (4, 'Son-Uzal', 'Politics', 50)]\n",
      "2024-09-15 11:55:12,794 INFO sqlalchemy.engine.Engine COMMIT\n",
      "Updated data has been written back to the database\n"
     ]
    }
   ],
   "source": [
    "write_data(new_df)"
   ]
  },
  {
   "cell_type": "code",
   "execution_count": 32,
   "id": "9be0e80b-d566-4f0a-b10d-0e8efb7b8d27",
   "metadata": {},
   "outputs": [
    {
     "name": "stdout",
     "output_type": "stream",
     "text": [
      "2024-09-15 11:55:26,953 INFO sqlalchemy.engine.Engine BEGIN (implicit)\n",
      "2024-09-15 11:55:26,955 INFO sqlalchemy.engine.Engine PRAGMA main.table_info(\"student_marks\")\n",
      "2024-09-15 11:55:26,960 INFO sqlalchemy.engine.Engine [raw sql] ()\n",
      "2024-09-15 11:55:26,965 INFO sqlalchemy.engine.Engine SELECT name FROM sqlite_master WHERE type='table' AND name NOT LIKE 'sqlite~_%' ESCAPE '~' ORDER BY name\n",
      "2024-09-15 11:55:26,967 INFO sqlalchemy.engine.Engine [raw sql] ()\n",
      "2024-09-15 11:55:26,970 INFO sqlalchemy.engine.Engine SELECT name FROM sqlite_master WHERE type='view' AND name NOT LIKE 'sqlite~_%' ESCAPE '~' ORDER BY name\n",
      "2024-09-15 11:55:26,972 INFO sqlalchemy.engine.Engine [raw sql] ()\n",
      "2024-09-15 11:55:26,975 INFO sqlalchemy.engine.Engine PRAGMA main.table_xinfo(\"student_marks\")\n",
      "2024-09-15 11:55:26,977 INFO sqlalchemy.engine.Engine [raw sql] ()\n",
      "2024-09-15 11:55:26,980 INFO sqlalchemy.engine.Engine SELECT sql FROM  (SELECT * FROM sqlite_master UNION ALL   SELECT * FROM sqlite_temp_master) WHERE name = ? AND type in ('table', 'view')\n",
      "2024-09-15 11:55:26,981 INFO sqlalchemy.engine.Engine [raw sql] ('student_marks',)\n",
      "2024-09-15 11:55:26,985 INFO sqlalchemy.engine.Engine PRAGMA main.foreign_key_list(\"student_marks\")\n",
      "2024-09-15 11:55:26,987 INFO sqlalchemy.engine.Engine [raw sql] ()\n",
      "2024-09-15 11:55:26,989 INFO sqlalchemy.engine.Engine PRAGMA temp.foreign_key_list(\"student_marks\")\n",
      "2024-09-15 11:55:26,991 INFO sqlalchemy.engine.Engine [raw sql] ()\n",
      "2024-09-15 11:55:26,994 INFO sqlalchemy.engine.Engine SELECT sql FROM  (SELECT * FROM sqlite_master UNION ALL   SELECT * FROM sqlite_temp_master) WHERE name = ? AND type in ('table', 'view')\n",
      "2024-09-15 11:55:26,996 INFO sqlalchemy.engine.Engine [raw sql] ('student_marks',)\n",
      "2024-09-15 11:55:26,998 INFO sqlalchemy.engine.Engine PRAGMA main.index_list(\"student_marks\")\n",
      "2024-09-15 11:55:27,000 INFO sqlalchemy.engine.Engine [raw sql] ()\n",
      "2024-09-15 11:55:27,003 INFO sqlalchemy.engine.Engine PRAGMA temp.index_list(\"student_marks\")\n",
      "2024-09-15 11:55:27,004 INFO sqlalchemy.engine.Engine [raw sql] ()\n",
      "2024-09-15 11:55:27,007 INFO sqlalchemy.engine.Engine PRAGMA main.table_info(\"student_marks\")\n",
      "2024-09-15 11:55:27,009 INFO sqlalchemy.engine.Engine [raw sql] ()\n",
      "2024-09-15 11:55:27,011 INFO sqlalchemy.engine.Engine PRAGMA main.index_list(\"student_marks\")\n",
      "2024-09-15 11:55:27,013 INFO sqlalchemy.engine.Engine [raw sql] ()\n",
      "2024-09-15 11:55:27,018 INFO sqlalchemy.engine.Engine PRAGMA temp.index_list(\"student_marks\")\n",
      "2024-09-15 11:55:27,019 INFO sqlalchemy.engine.Engine [raw sql] ()\n",
      "2024-09-15 11:55:27,022 INFO sqlalchemy.engine.Engine PRAGMA main.table_info(\"student_marks\")\n",
      "2024-09-15 11:55:27,025 INFO sqlalchemy.engine.Engine [raw sql] ()\n",
      "2024-09-15 11:55:27,028 INFO sqlalchemy.engine.Engine SELECT sql FROM  (SELECT * FROM sqlite_master UNION ALL   SELECT * FROM sqlite_temp_master) WHERE name = ? AND type in ('table', 'view')\n",
      "2024-09-15 11:55:27,029 INFO sqlalchemy.engine.Engine [raw sql] ('student_marks',)\n",
      "2024-09-15 11:55:27,035 INFO sqlalchemy.engine.Engine SELECT student_marks.stud_id, student_marks.stud_name, student_marks.sub_name, student_marks.marks \n",
      "FROM student_marks\n",
      "2024-09-15 11:55:27,036 INFO sqlalchemy.engine.Engine [generated in 0.00141s] ()\n",
      "2024-09-15 11:55:27,043 INFO sqlalchemy.engine.Engine ROLLBACK\n"
     ]
    },
    {
     "data": {
      "text/html": [
       "<div>\n",
       "<style scoped>\n",
       "    .dataframe tbody tr th:only-of-type {\n",
       "        vertical-align: middle;\n",
       "    }\n",
       "\n",
       "    .dataframe tbody tr th {\n",
       "        vertical-align: top;\n",
       "    }\n",
       "\n",
       "    .dataframe thead th {\n",
       "        text-align: right;\n",
       "    }\n",
       "</style>\n",
       "<table border=\"1\" class=\"dataframe\">\n",
       "  <thead>\n",
       "    <tr style=\"text-align: right;\">\n",
       "      <th></th>\n",
       "      <th>stud_id</th>\n",
       "      <th>stud_name</th>\n",
       "      <th>sub_name</th>\n",
       "      <th>marks</th>\n",
       "    </tr>\n",
       "  </thead>\n",
       "  <tbody>\n",
       "    <tr>\n",
       "      <th>0</th>\n",
       "      <td>1</td>\n",
       "      <td>Jhin</td>\n",
       "      <td>Maths</td>\n",
       "      <td>44</td>\n",
       "    </tr>\n",
       "    <tr>\n",
       "      <th>1</th>\n",
       "      <td>2</td>\n",
       "      <td>Viego</td>\n",
       "      <td>Poetry</td>\n",
       "      <td>47</td>\n",
       "    </tr>\n",
       "    <tr>\n",
       "      <th>2</th>\n",
       "      <td>3</td>\n",
       "      <td>Jayce</td>\n",
       "      <td>Electronics</td>\n",
       "      <td>48</td>\n",
       "    </tr>\n",
       "    <tr>\n",
       "      <th>3</th>\n",
       "      <td>4</td>\n",
       "      <td>Son-Uzal</td>\n",
       "      <td>Politics</td>\n",
       "      <td>50</td>\n",
       "    </tr>\n",
       "  </tbody>\n",
       "</table>\n",
       "</div>"
      ],
      "text/plain": [
       "   stud_id stud_name     sub_name  marks\n",
       "0        1      Jhin        Maths     44\n",
       "1        2     Viego       Poetry     47\n",
       "2        3     Jayce  Electronics     48\n",
       "3        4  Son-Uzal     Politics     50"
      ]
     },
     "execution_count": 32,
     "metadata": {},
     "output_type": "execute_result"
    }
   ],
   "source": [
    "read_data()"
   ]
  },
  {
   "cell_type": "code",
   "execution_count": null,
   "id": "238a31b7-dd27-4dde-985d-1d89e3fc4653",
   "metadata": {},
   "outputs": [],
   "source": []
  }
 ],
 "metadata": {
  "kernelspec": {
   "display_name": "Python 3 (ipykernel)",
   "language": "python",
   "name": "python3"
  },
  "language_info": {
   "codemirror_mode": {
    "name": "ipython",
    "version": 3
   },
   "file_extension": ".py",
   "mimetype": "text/x-python",
   "name": "python",
   "nbconvert_exporter": "python",
   "pygments_lexer": "ipython3",
   "version": "3.12.4"
  }
 },
 "nbformat": 4,
 "nbformat_minor": 5
}
