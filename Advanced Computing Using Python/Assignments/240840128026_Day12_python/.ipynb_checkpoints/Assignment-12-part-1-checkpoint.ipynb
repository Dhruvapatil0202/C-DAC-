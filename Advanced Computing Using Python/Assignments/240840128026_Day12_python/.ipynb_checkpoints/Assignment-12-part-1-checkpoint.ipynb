{
 "cells": [
  {
   "cell_type": "code",
   "execution_count": 19,
   "id": "31c7ab14-abd0-4d91-99f2-73bb3145ce0f",
   "metadata": {},
   "outputs": [
    {
     "name": "stdout",
     "output_type": "stream",
     "text": [
      "file got deleted\n",
      "C:\\Users\\Dhruva\\Desktop\\temp-assignment_12\\temp_student_database.db\n"
     ]
    }
   ],
   "source": [
    "import os \n",
    "filename = \"temp_student_database.db\"\n",
    "current_directory = os.getcwd()\n",
    "file_path = os.path.join(current_directory, filename)\n",
    "\n",
    "if os.path.exists(file_path):\n",
    "    try: \n",
    "        os.remove(file_path)\n",
    "        print(f\"file got deleted\")\n",
    "    except Exception as error:\n",
    "        print(f\"An error {error} occured while deleting the file\")\n",
    "else: \n",
    "    print(\"File was not there\")\n",
    "print(f\"{file_path}\")"
   ]
  },
  {
   "cell_type": "code",
   "execution_count": 9,
   "id": "05f62440-e2ef-46aa-805f-fba650671794",
   "metadata": {},
   "outputs": [],
   "source": [
    "import sqlite3"
   ]
  },
  {
   "cell_type": "code",
   "execution_count": 20,
   "id": "b872a85e-9f62-4ead-8d60-ccc0b3656688",
   "metadata": {},
   "outputs": [],
   "source": [
    "conn = sqlite3.connect(\"temp_student_database.db\")\n",
    "cursor = conn.cursor()\n"
   ]
  },
  {
   "cell_type": "code",
   "execution_count": 21,
   "id": "294e724d-abab-41cb-a2f8-a58cada66ed3",
   "metadata": {},
   "outputs": [
    {
     "data": {
      "text/plain": [
       "<sqlite3.Cursor at 0x215d44911c0>"
      ]
     },
     "execution_count": 21,
     "metadata": {},
     "output_type": "execute_result"
    }
   ],
   "source": [
    "cursor.execute(\"\"\"\n",
    "CREATE TABLE IF NOT EXISTS student_names(\n",
    "stud_id INTEGER PRIMARY KEY,\n",
    "stud_name TEXT NOT NULL\n",
    ")\n",
    "\"\"\")\n"
   ]
  },
  {
   "cell_type": "code",
   "execution_count": 22,
   "id": "f132fcae-4f01-4314-bc06-c73886efc26b",
   "metadata": {},
   "outputs": [
    {
     "data": {
      "text/plain": [
       "<sqlite3.Cursor at 0x215d44911c0>"
      ]
     },
     "execution_count": 22,
     "metadata": {},
     "output_type": "execute_result"
    }
   ],
   "source": [
    "cursor.execute(\"\"\"\n",
    "CREATE TABLE IF NOT EXISTS subjects(\n",
    "sub_id INTEGER PRIMARY KEY,\n",
    "sub_name TEXT NOT NULL\n",
    ")\n",
    "\"\"\")"
   ]
  },
  {
   "cell_type": "code",
   "execution_count": 23,
   "id": "7905b843-638b-495d-bf66-d5c0003b22d4",
   "metadata": {},
   "outputs": [
    {
     "data": {
      "text/plain": [
       "<sqlite3.Cursor at 0x215d44911c0>"
      ]
     },
     "execution_count": 23,
     "metadata": {},
     "output_type": "execute_result"
    }
   ],
   "source": [
    "cursor.execute(\"\"\"\n",
    "CREATE TABLE IF NOT EXISTS student_marks(\n",
    "stud_id INTEGER,\n",
    "sub_id INTEGER,\n",
    "marks INTEGER NOT NULL,\n",
    "PRIMARY KEY (stud_id, sub_id),\n",
    "FOREIGN KEY (stud_id) REFERENCES student_names(stud_id),\n",
    "FOREIGN KEY (sub_id) REFERENCES subjects(sub_id)\n",
    ")\n",
    "\"\"\")"
   ]
  },
  {
   "cell_type": "code",
   "execution_count": 24,
   "id": "c9810963-fe1f-4a04-b8dd-afbc7135db0d",
   "metadata": {},
   "outputs": [
    {
     "data": {
      "text/plain": [
       "<sqlite3.Cursor at 0x215d44911c0>"
      ]
     },
     "execution_count": 24,
     "metadata": {},
     "output_type": "execute_result"
    }
   ],
   "source": [
    "student_data = [\n",
    "    (1, 'Ashe'),\n",
    "    (2, 'Aphelious'),\n",
    "    (3, 'Hwey'),\n",
    "    (4, 'Zed'),\n",
    "    (5, 'Yasuo')\n",
    "]\n",
    "cursor.executemany(\"\"\"\n",
    "INSERT INTO student_names(stud_id, stud_name) VALUES (?, ?)\n",
    "\"\"\", student_data)"
   ]
  },
  {
   "cell_type": "code",
   "execution_count": 25,
   "id": "53fa52d9-8704-40fd-9fa6-e16b56a5a056",
   "metadata": {},
   "outputs": [
    {
     "data": {
      "text/plain": [
       "<sqlite3.Cursor at 0x215d44911c0>"
      ]
     },
     "execution_count": 25,
     "metadata": {},
     "output_type": "execute_result"
    }
   ],
   "source": [
    "subjects_data = [\n",
    "    (1, 'Wizardry'),\n",
    "    (2, \"Assassination\"),\n",
    "    (3, \"Scouting\")\n",
    "]\n",
    "cursor.executemany(\"\"\"\n",
    "INSERT INTO subjects(sub_id, sub_name) VALUES (?, ?)\n",
    "\"\"\", subjects_data)"
   ]
  },
  {
   "cell_type": "code",
   "execution_count": 26,
   "id": "d29c4db5-be63-43f7-8eba-02b1d63fca1d",
   "metadata": {},
   "outputs": [
    {
     "data": {
      "text/plain": [
       "<sqlite3.Cursor at 0x215d44911c0>"
      ]
     },
     "execution_count": 26,
     "metadata": {},
     "output_type": "execute_result"
    }
   ],
   "source": [
    "marks_data = [\n",
    "    (1, 1, 68), (1, 2, 85), (1, 3, 98), \n",
    "    (2, 1, 56), (2, 2, 95), (2, 3, 71),\n",
    "    (3, 1, 100), (3, 2, 58), (3, 3, 82), \n",
    "    (4, 1, 80), (4, 2, 99), (4, 3, 95),\n",
    "    (5, 1, 85), (5, 2, 93), (5, 3, 90)\n",
    "]\n",
    "cursor.executemany(\"\"\"\n",
    "INSERT INTO student_marks(stud_id, sub_id, marks) VALUES (?, ?, ?)\n",
    "\"\"\", marks_data)"
   ]
  },
  {
   "cell_type": "code",
   "execution_count": 29,
   "id": "ae4842e5-469d-41ff-8293-a282643c8110",
   "metadata": {},
   "outputs": [
    {
     "data": {
      "text/plain": [
       "[(1, 'Ashe'), (2, 'Aphelious'), (3, 'Hwey'), (4, 'Zed'), (5, 'Yasuo')]"
      ]
     },
     "execution_count": 29,
     "metadata": {},
     "output_type": "execute_result"
    }
   ],
   "source": [
    "cursor.execute(\"\"\"\n",
    "SELECT * FROM student_names;\n",
    "\"\"\")\n",
    "cursor.fetchall()"
   ]
  },
  {
   "cell_type": "code",
   "execution_count": 30,
   "id": "f3425267-12e9-4992-87b0-cec1675498fc",
   "metadata": {},
   "outputs": [
    {
     "data": {
      "text/plain": [
       "[(1, 1, 68),\n",
       " (1, 2, 85),\n",
       " (1, 3, 98),\n",
       " (2, 1, 56),\n",
       " (2, 2, 95),\n",
       " (2, 3, 71),\n",
       " (3, 1, 100),\n",
       " (3, 2, 58),\n",
       " (3, 3, 82),\n",
       " (4, 1, 80),\n",
       " (4, 2, 99),\n",
       " (4, 3, 95),\n",
       " (5, 1, 85),\n",
       " (5, 2, 93),\n",
       " (5, 3, 90)]"
      ]
     },
     "execution_count": 30,
     "metadata": {},
     "output_type": "execute_result"
    }
   ],
   "source": [
    "cursor.execute(\"\"\"\n",
    "SELECT * FROM student_marks;\n",
    "\"\"\")\n",
    "cursor.fetchall()"
   ]
  },
  {
   "cell_type": "code",
   "execution_count": 31,
   "id": "6b2b8565-d821-4cb8-a4b1-8a94397dba73",
   "metadata": {},
   "outputs": [
    {
     "data": {
      "text/plain": [
       "[(1, 'Wizardry'), (2, 'Assassination'), (3, 'Scouting')]"
      ]
     },
     "execution_count": 31,
     "metadata": {},
     "output_type": "execute_result"
    }
   ],
   "source": [
    "cursor.execute(\"\"\"\n",
    "SELECT * FROM subjects;\n",
    "\"\"\")\n",
    "cursor.fetchall()"
   ]
  },
  {
   "cell_type": "code",
   "execution_count": 32,
   "id": "6aac7ce7-2974-43f1-89b1-1b495b6a4084",
   "metadata": {},
   "outputs": [
    {
     "data": {
      "text/plain": [
       "[('Ashe', 'Wizardry', 68),\n",
       " ('Ashe', 'Assassination', 85),\n",
       " ('Ashe', 'Scouting', 98),\n",
       " ('Aphelious', 'Wizardry', 56),\n",
       " ('Aphelious', 'Assassination', 95),\n",
       " ('Aphelious', 'Scouting', 71),\n",
       " ('Hwey', 'Wizardry', 100),\n",
       " ('Hwey', 'Assassination', 58),\n",
       " ('Hwey', 'Scouting', 82),\n",
       " ('Zed', 'Wizardry', 80),\n",
       " ('Zed', 'Assassination', 99),\n",
       " ('Zed', 'Scouting', 95),\n",
       " ('Yasuo', 'Wizardry', 85),\n",
       " ('Yasuo', 'Assassination', 93),\n",
       " ('Yasuo', 'Scouting', 90)]"
      ]
     },
     "execution_count": 32,
     "metadata": {},
     "output_type": "execute_result"
    }
   ],
   "source": [
    "cursor.execute(\"\"\"\n",
    "SELECT student_names.stud_name, subjects.sub_name, marks \n",
    "FROM student_marks\n",
    "JOIN student_names ON student_marks.stud_id = student_names.stud_id\n",
    "JOIN subjects ON student_marks.sub_id = subjects.sub_id\n",
    "\"\"\")\n",
    "cursor.fetchall()"
   ]
  },
  {
   "cell_type": "code",
   "execution_count": 33,
   "id": "64bd7dea-1db9-4ee0-a45b-ca8b3b5ae94f",
   "metadata": {},
   "outputs": [],
   "source": [
    "cursor.close()\n",
    "conn.close()"
   ]
  }
 ],
 "metadata": {
  "kernelspec": {
   "display_name": "Python 3 (ipykernel)",
   "language": "python",
   "name": "python3"
  },
  "language_info": {
   "codemirror_mode": {
    "name": "ipython",
    "version": 3
   },
   "file_extension": ".py",
   "mimetype": "text/x-python",
   "name": "python",
   "nbconvert_exporter": "python",
   "pygments_lexer": "ipython3",
   "version": "3.12.4"
  }
 },
 "nbformat": 4,
 "nbformat_minor": 5
}
