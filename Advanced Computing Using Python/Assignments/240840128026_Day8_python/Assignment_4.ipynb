{
  "nbformat": 4,
  "nbformat_minor": 0,
  "metadata": {
    "colab": {
      "provenance": []
    },
    "kernelspec": {
      "name": "python3",
      "display_name": "Python 3"
    },
    "language_info": {
      "name": "python"
    }
  },
  "cells": [
    {
      "cell_type": "code",
      "execution_count": 1,
      "metadata": {
        "id": "tgUAnKFaylrt"
      },
      "outputs": [],
      "source": [
        "import numpy as np"
      ]
    },
    {
      "cell_type": "code",
      "source": [
        "arr = np.random.randint(1, 10, size = (3, 3))\n",
        "arr"
      ],
      "metadata": {
        "colab": {
          "base_uri": "https://localhost:8080/"
        },
        "id": "iqPGvfYIyzf_",
        "outputId": "4d41dd02-61f7-4a84-8997-9cfa507dfa19"
      },
      "execution_count": 2,
      "outputs": [
        {
          "output_type": "execute_result",
          "data": {
            "text/plain": [
              "array([[2, 4, 2],\n",
              "       [7, 6, 9],\n",
              "       [2, 9, 7]])"
            ]
          },
          "metadata": {},
          "execution_count": 2
        }
      ]
    },
    {
      "cell_type": "code",
      "source": [
        "eig_val, eig_vec = np.linalg.eig(arr)\n",
        "eig_val, eig_vec"
      ],
      "metadata": {
        "colab": {
          "base_uri": "https://localhost:8080/"
        },
        "id": "5-O1b29sy7WJ",
        "outputId": "a40c05b3-61dd-4b19-90a9-5e3ccf2a8a0e"
      },
      "execution_count": 3,
      "outputs": [
        {
          "output_type": "execute_result",
          "data": {
            "text/plain": [
              "(array([17.27034949,  1.52544407, -3.79579356]),\n",
              " array([[-0.26967132, -0.69938384,  0.32470898],\n",
              "        [-0.69758608, -0.25153714, -0.75519738],\n",
              "        [-0.66381552,  0.66902265,  0.56942164]]))"
            ]
          },
          "metadata": {},
          "execution_count": 3
        }
      ]
    },
    {
      "cell_type": "code",
      "source": [
        "arr3 = np.concatenate((eig_vec, np.array([eig_val]).transpose()), axis = 1)\n",
        "arr3"
      ],
      "metadata": {
        "colab": {
          "base_uri": "https://localhost:8080/"
        },
        "id": "I7Ydy0Kby6vk",
        "outputId": "a32fe4b1-38be-421c-b3da-3401070def35"
      },
      "execution_count": 11,
      "outputs": [
        {
          "output_type": "execute_result",
          "data": {
            "text/plain": [
              "array([[-0.26967132, -0.69938384,  0.32470898, 17.27034949],\n",
              "       [-0.69758608, -0.25153714, -0.75519738,  1.52544407],\n",
              "       [-0.66381552,  0.66902265,  0.56942164, -3.79579356]])"
            ]
          },
          "metadata": {},
          "execution_count": 11
        }
      ]
    },
    {
      "cell_type": "code",
      "source": [
        "np.savetxt('myfile_eigenvector.txt', arr3)"
      ],
      "metadata": {
        "id": "NAgPBbMnzthh"
      },
      "execution_count": 12,
      "outputs": []
    }
  ]
}