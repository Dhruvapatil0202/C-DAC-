{
 "cells": [
  {
   "cell_type": "markdown",
   "id": "39d992bd-df27-4755-9784-b6d77536aa35",
   "metadata": {},
   "source": [
    "# Imports\n"
   ]
  },
  {
   "cell_type": "code",
   "execution_count": null,
   "id": "76d5cd5d-c8a8-49d6-8781-5f6ac520a1fd",
   "metadata": {},
   "outputs": [],
   "source": [
    "import numpy as np\n",
    "import matplotlib.pyplot as plt\n",
    "import pandas as pd\n",
    "from pandas import DataFrame, Series"
   ]
  },
  {
   "cell_type": "markdown",
   "id": "3c6f175a-280b-4a13-bbd6-139629ad9411",
   "metadata": {},
   "source": [
    "## DataFrame: \n",
    "1. two dimensional table of data with row indexes. The columns are made up of Series objects.\n",
    "2. columns index (df.columns) is a list of strings.\n",
    "3. row index (df.index) might be\n",
    "   \n",
    "   a. integers\n",
    "   b. strings\n",
    "   c. DatetimeIndex or PeriodIndex\n",
    "\n"
   ]
  },
  {
   "cell_type": "markdown",
   "id": "4a9f9097-c625-4ff4-87b3-abd307531514",
   "metadata": {},
   "source": [
    "## Series:\n",
    "\n",
    "An ordered one dimensional array of data with an index. \n",
    "All data in series is of same type (just like np.array)\n",
    "series arithmetic is vectorised after first aligning series index for each of operands"
   ]
  },
  {
   "cell_type": "markdown",
   "id": "7c874488-1cd5-4e6c-b5af-ffa1ba5e92b5",
   "metadata": {},
   "source": [
    "## Loading data in dataframe."
   ]
  },
  {
   "cell_type": "code",
   "execution_count": null,
   "id": "bcfe8312-222d-4e46-a27a-e4a7cdf3564c",
   "metadata": {},
   "outputs": [],
   "source": [
    "\n",
    "df = pd.read_csv('filename.csv')\n",
    "\n",
    "df = pd.DataFrame(data) # -> data can be dictionary with column names as keys and \n",
    "# columns as values\n"
   ]
  },
  {
   "cell_type": "markdown",
   "id": "5f52acec-3f8a-4d5f-ba8a-4cc2eddf0760",
   "metadata": {},
   "source": [
    "## Saving a DataFrame\n"
   ]
  },
  {
   "cell_type": "code",
   "execution_count": null,
   "id": "c68d2355-3cbf-4c23-8db9-c259eabeea03",
   "metadata": {},
   "outputs": [],
   "source": [
    "\n",
    "df.to_csv('filename.csv', encoding = 'utf-8')\n",
    "\n",
    "dict = df.to_dict()  # -> to dictionary\n",
    "str = df.to_string() # -> to string\n",
    "mat = df.as_matrix() # -> to numpy matrix\n"
   ]
  },
  {
   "cell_type": "markdown",
   "id": "7dfe6eba-738d-4d63-ba76-ba1f49ddf47c",
   "metadata": {},
   "source": [
    "## Working with dataframe"
   ]
  },
  {
   "cell_type": "code",
   "execution_count": null,
   "id": "2b0db7b4-05ce-40d7-bae6-79b29b9c0e39",
   "metadata": {},
   "outputs": [],
   "source": [
    "# General Info\n",
    "df.info() # -> index and datatype\n",
    "df.head(i) # -> first i no. of rows\n",
    "df.tail(i) # -> get last i no. of rows\n",
    "df.describe() # -> summary stats of columns\n",
    "\n",
    "# Non Indexing attributes\n",
    "df.T # -> Transpose rows and cols\n",
    "df.axes # -> list row and col indexes \n",
    "        # row_index, col_index = df.axes\n",
    "df.dtypes #-> Column data types\n",
    "df.empty # -> True for empty dataframe\n",
    "df.ndim # -> number of axes (most likely 2)\n",
    "df.shape # -> (row_count, column count)\n",
    "df.size # -> row count * column count\n",
    "df.values # -> numpy array for df\n",
    "\n",
    "# Utility Methods\n",
    "df.copy() # copy a dataframe\n",
    "df.rank() # rank each col\n",
    "df.sort_values(by = column_name) # sorts the dataframe with respect to values of specified columns\n",
    "df.sort_values(by = [col1, col2]) # sorts by multiple levels and tie breakers\n",
    "df.sort_index() # Sorts by the index\n",
    "df.astype(dtype) # type conversion\n",
    "\n",
    "# Dataframe Iteration\n",
    "df.iteritems() # (col_index, Series) pairs\n",
    "df.iterrows() # (row_index, Series) pairs\n",
    "\n",
    "# Statistical functions\n",
    "df.abs() # absolute values\n",
    "df.add(0) # add df, Series or value\n",
    "df.count() # non NA/null values\n",
    "df.cummax() # cumulative max\n",
    "df.cummin() # cumulative min\n",
    "df.cumsum() # cumulative sum\n",
    "df.diff() # difference of dataframe element with respect to another element\n",
    "df.div() # Element wise division by a number or other dataframe\n",
    "df.dot() # dot product\n",
    "df.max() # max of axis\n",
    "df.mean() # mean \n",
    "df.median() # median \n",
    "df.min() # min of axis \n",
    "df.mul() # multiply by series value\n",
    "df.sum() # sum of axis \n",
    "\n",
    "# Select rows, cols based on index label values\n",
    "df.filter(items = ['a', 'b']) # by col\n",
    "df.filter(items = [4], axis = 0) # by row\n",
    "df.filter(like = 'x') # keep x in col\n",
    "df.filter(regex = 'x') # regex in col\n",
    "df.select(lambda x: not x % 5) # Select rows with index divisible by 5\n",
    "\n"
   ]
  },
  {
   "cell_type": "markdown",
   "id": "6d4cfadf-e959-42ef-b1e6-f73acfc20679",
   "metadata": {},
   "source": [
    "## Working with columns"
   ]
  },
  {
   "cell_type": "code",
   "execution_count": null,
   "id": "1ad7bf20-101f-436a-9fdf-59db534bf77f",
   "metadata": {},
   "outputs": [],
   "source": [
    "# Get column index and labels\n",
    "idx = df.columns # -> get column index\n",
    "label = df.columns[0]     #-> first col label\n",
    "l = df.columns.tolit()     #-> List of column latels\n",
    "a = df.column.values     #-> array of col labels\n",
    "\n",
    "# Change column namges:\n",
    "df = df.rename(columns = {'oldname': 'newname', 'oldname1': 'newname2'})\n",
    "df.columns = ['newname1', 'newname1', 'newname3']\n",
    "\n",
    "# Setting up columns:\n",
    "df['colname']     #-> select column to series\n",
    "df[['colname']]     #-> select column to df\n",
    "df[['a', 'b']]     #-> select 2+ columns \n",
    "df = df[['c', 'b', 'a']]     #-> change the order of columns\n",
    "df[df.columns[0]]     #-> select by column number\n",
    "df[df.columns[[1, 2, 3]]]     #-> multiple columns by number\n",
    "df = [df.columns[:-1]]     #-> all but last col\n",
    "df.pop('column')     #-> drop column\n",
    "\n",
    "# adding new columns\n",
    "df['new_col'] = pd.Series([1, 2, 3, 4])   \n",
    "df3 = df1.append(other = df2)     #-> combining two dataframes by vertical axis\n",
    "\n",
    "# Removing columns\n",
    "df = df.drop(['col1', 'col2'], axis = 1)\n",
    "del df['colname']\n",
    "df.drop(df.columns[0], axis = 1)     #-> removes first column\n",
    "df.drop(df.columns[-1:], axis = 1)     #-> removes last column\n",
    "\n",
    "# Vectorized arithmatic\n",
    "df['newColumn'] = df['col1'] / df['col2']\n",
    "df['newColumn'] = df['col3'] * 100 \n",
    "\n",
    "# Column values manipulation\n",
    "df['a'] = df['b'].where(df['a'] > 0, other = 0)\n",
    "df['b'] = df['a'].where(df.b != 0, other = df.c)\n",
    "\n",
    "# Column datatype conversion\n",
    "df['col'].astype(str)     #-> string conversion\n",
    "df['col'].values     #-> numpy array\n",
    "df['col'].tolist()     #-> python list\n",
    "\n",
    "# Column wide methods\n",
    "df['col'].dtype     #-> The datatype \n",
    "df['col'].size     #-> Column dimensions\n",
    "df['col'].count()     #-> non-NA count\n",
    "df['col'].sum()     #-> sum of all values\n",
    "df['col'].prod()     #-> product of all vals\n",
    "df['col'].min()     #-> minimum of column\n",
    "df['col'].max()     #-> maximum of column\n",
    "df['col'].mean()     \n",
    "df['col'].median()\n",
    "df['col'].value_counts()\n",
    "\n",
    "# finding index of column\n",
    "label = df['col1'].idx\n",
    "\n",
    "# Column element wise methods:\n",
    "df['col'].isnull() # True if cell is empty else false\n",
    "df['col'].notnull() # not isnull()\n",
    "df['col'].astype(float) # Conversion into float\n",
    "df['col'].abs() # Absolute value\n",
    "df['col'].round(decimals = 0)\n",
    "df['col'].diff(periods = 1)\n",
    "df['col'].shift(periods = 1)\n",
    "df['col'].to_datetime()\n",
    "df['col'].fillna(0) # replaceing N/A values with 0\n",
    "df['col'].cumsum() \n",
    "df['col'].cumprod()\n",
    "df['col'].pct_change(periods = 4)\n",
    "df['col'].rolling(window = 4, min_periods = 4, center = False).sum()\n",
    "\n",
    "\n",
    "# Selecting multiple columns:\n",
    "df.loc[:, 'col1':'col2'] # Inclusive\n",
    "df.iloc[:, 3:6] # Exculsive\n",
    "\n",
    "# Text if column index values are unique/monotonic\n",
    "df.columns.is_monotonic_increasing\n",
    "df.columns.is_monotonic_decreasing\n"
   ]
  },
  {
   "cell_type": "markdown",
   "id": "518b0b14-2d21-4cf7-a92e-62db0dba455f",
   "metadata": {},
   "source": [
    "## Working with rows"
   ]
  },
  {
   "cell_type": "code",
   "execution_count": null,
   "id": "bba73e73-f7ef-4b62-b05f-8a9fd4cdb0a6",
   "metadata": {},
   "outputs": [],
   "source": [
    "# Get row index and labels\n",
    "idx = df.index  # get row index\n",
    "label = df.index[0]  # first row label\n",
    "label = df.index[-1] # Last row label\n",
    "df.index.tolist() # get as list\n",
    "df.index.values # get as an array\n",
    "\n",
    "# Change the row index\n",
    "df.index = idx\n",
    "df = df.set_index('A') # Col A new index\n",
    "df.reset_index() # reset the indices\n",
    "df.index = range(len(df))\n",
    "df.set_index(keys = ['r1', 'r2', 'r3'])\n",
    "df.rename(index = {\"old\" : \"new\"}) \n",
    "\n",
    "# Boolean row selection\n",
    "df[df['col'] >= 0.0] # -> selects all rows with values >= 0.0 in column col\n",
    "df[(df['col1'] >= 1.0) | (df['col2'] < 3.0)] # -> double criterian\n",
    "\"\"\" Each compareson should be encapsulated in round braces \"\"\"\n",
    "\"\"\" The boolean operators (&^~) has to be used instead of pythonic ones (and, or, not)\"\"\"\n",
    "df[(df['col3'].isin([1, 2, 3, 7, 11]))] # -> targetting sepcific values\n",
    "df[~(df['col3'].isin([1, 2, 3, 7, 11]))] # -> targetting values other than specified\n",
    "df[(df['col4'].str.contains(\"hello\"))] # -> targetting values with specific characterstics\n",
    "\n",
    "# Selecting slice of rows by integer position\n",
    "df = df[:] # => copy entire dataframe\n",
    "df = df[0:2] # => select rows with index 0 and 1 (inclusive start and exclusive end)\n",
    "df = df[2:3] # => select row with index 2\n",
    "df = df[-1:] # => select the last row\n",
    "df = df[:-1] # => select all but last row\n",
    "df = df[::2] # => every second row\n",
    "\n",
    "# Iterating over dataframe rows\n",
    "for index, row in df.iterrows()\n",
    "\n",
    "# Sorting \n",
    "df.sort(df.columns[0], ascending = False)\n",
    "df.sort(['col1', 'col2'])\n",
    "df.sort_index(ascending = False) # Sorting by the index values\n",
    "\n",
    "\n",
    "\"\"\" Dropping duplicate rows \"\"\"\n",
    "df.drop_duplicates(cols = ['col1', 'col2'], take_last = True)\n",
    "\n"
   ]
  },
  {
   "cell_type": "markdown",
   "id": "5e592590-2427-426c-8fcd-ec7946a9bb7b",
   "metadata": {},
   "source": [
    "## Working with cells"
   ]
  },
  {
   "cell_type": "code",
   "execution_count": null,
   "id": "ae27f6c6-223d-46d5-bd76-0d8e3076ddd5",
   "metadata": {},
   "outputs": [],
   "source": [
    "# Selecting cell by row and column label\n",
    "values = df.at['row', 'col']\n",
    "values = df.loc['row', 'col']\n",
    "values = df['col'].at['row'] # -> at[] is fastest label based scaler lookup and it's tricky to use\n",
    "\n",
    "# Setting value of cell using row and column label\n",
    "df.at['row', 'col'] = value\n",
    "df.loc['row', 'col'] = value\n",
    "df['col'].at['row'] = value # Tricky to use\n",
    "\n",
    "# Selecting the slice of dataframe\n",
    "df = df.loc[3:10 , 'col1':'col5']\n",
    "\n",
    "# selecting by the integer position\n",
    "df = df.iloc[23: 56, 1: 5]\n",
    "df = df.iloc[: , 1: 5]\n",
    "df = df.iloc[10 : 20, :]\n",
    "\n",
    "\"\"\" The setting of new values can be done using assignment operators\"\"\"\n"
   ]
  },
  {
   "cell_type": "markdown",
   "id": "4e2d0489-67cb-47ac-8915-8967bdda10b5",
   "metadata": {},
   "source": [
    "## Selecting using dataframe index"
   ]
  },
  {
   "cell_type": "code",
   "execution_count": null,
   "id": "3f669609-6965-4b1d-8438-7a1c0f8072b1",
   "metadata": {},
   "outputs": [],
   "source": [
    "# Selection of column\n",
    "df['column_name'] # -> returns a series\n",
    "df[['column_name']] # -> returns a dataframe\n",
    "df[[col1, col2]] \n",
    "df[index] # -> selects cols with index\n",
    "\n",
    "# Using dataframe index to select rows\n",
    "df[from : to] # -> label slice\n",
    "df[3 : 7] # -> integer slice\n",
    "df[df['col'] > 5.0] # -> boolean series\n",
    "df.loc[label] # -> single label\n"
   ]
  },
  {
   "cell_type": "markdown",
   "id": "3e8ede9d-4521-4b8c-a5d0-b96a0c3351e0",
   "metadata": {},
   "source": [
    "## Joining / Combineing files\n",
    "\n",
    "Three ways to join / Combine dataframe\n",
    "1. merge(database/SQL type operation)\n",
    "2. concat(stack side by side or on top of each other)\n",
    "3. combine_first(splice two together, selecting values from one over the other)"
   ]
  },
  {
   "cell_type": "code",
   "execution_count": null,
   "id": "4b6d421b-b3a3-48dd-91f7-8df37655dfc4",
   "metadata": {},
   "outputs": [],
   "source": [
    "# merge \n",
    "new_df = pd.merge(left = df1,\n",
    "                  right = df2,\n",
    "                  how = 'outer',\n",
    "                  left_index = True,\n",
    "                  right_index = True)\n",
    "\n",
    "new_df = pd.merge(left = df1,\n",
    "                  right = df2,\n",
    "                  how = 'left',\n",
    "                  left_on = 'col1',\n",
    "                  right_on = 'col2',)\n"
   ]
  },
  {
   "cell_type": "code",
   "execution_count": null,
   "id": "e7273b68-7af3-4bc5-bb49-a2ec5b5ad03e",
   "metadata": {},
   "outputs": [],
   "source": [
    "# concat \n",
    "new_df = pd.concat([df1, df2], axis = 0) # stock on top of each other\n",
    "new_df = pd.concat([df1, df2], axis = 1) # join side by side"
   ]
  },
  {
   "cell_type": "code",
   "execution_count": null,
   "id": "fa58ae8d-1a06-40c5-898b-8524521db2bc",
   "metadata": {},
   "outputs": [],
   "source": [
    "# combine first \n",
    "df = df.combine_first(other = df2)"
   ]
  }
 ],
 "metadata": {
  "kernelspec": {
   "display_name": "Python 3 (ipykernel)",
   "language": "python",
   "name": "python3"
  },
  "language_info": {
   "codemirror_mode": {
    "name": "ipython",
    "version": 3
   },
   "file_extension": ".py",
   "mimetype": "text/x-python",
   "name": "python",
   "nbconvert_exporter": "python",
   "pygments_lexer": "ipython3",
   "version": "3.12.4"
  }
 },
 "nbformat": 4,
 "nbformat_minor": 5
}
