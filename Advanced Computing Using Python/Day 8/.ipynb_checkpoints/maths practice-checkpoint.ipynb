{
 "cells": [
  {
   "cell_type": "code",
   "execution_count": 11,
   "id": "7e404c9f-f38e-4982-8ea2-ead232ca9392",
   "metadata": {},
   "outputs": [
    {
     "data": {
      "text/plain": [
       "9.486832980505138"
      ]
     },
     "execution_count": 11,
     "metadata": {},
     "output_type": "execute_result"
    }
   ],
   "source": [
    "import numpy as np\n",
    "x = np.array([2, 3, 4, 5, 6])\n",
    "np.sqrt(sum(i * i for i in x))"
   ]
  },
  {
   "cell_type": "code",
   "execution_count": 61,
   "id": "e6506584-8d92-477b-a25f-3f2db608e59a",
   "metadata": {},
   "outputs": [
    {
     "data": {
      "text/plain": [
       "array([[-4, -5,  8],\n",
       "       [ 4,  9, -9],\n",
       "       [-1,  6, -9]])"
      ]
     },
     "execution_count": 61,
     "metadata": {},
     "output_type": "execute_result"
    }
   ],
   "source": [
    "# Creating a 3x3 array with random values \n",
    "id = np.random.randint(-10, 10, size = (3, 3))\n",
    "id"
   ]
  },
  {
   "cell_type": "code",
   "execution_count": 19,
   "id": "c1596fc5-2dda-44b5-add2-b628e2f27a8c",
   "metadata": {},
   "outputs": [
    {
     "data": {
      "text/plain": [
       "array([1, 2, 3, 4])"
      ]
     },
     "execution_count": 19,
     "metadata": {},
     "output_type": "execute_result"
    }
   ],
   "source": [
    "# Creating a 1D array\n",
    "one_d_array = np.array([1, 2, 3, 4])\n",
    "one_d_array"
   ]
  },
  {
   "cell_type": "code",
   "execution_count": 21,
   "id": "2dc057d4-bed2-4bb8-a10d-bfb494d95597",
   "metadata": {},
   "outputs": [
    {
     "data": {
      "text/plain": [
       "array([[2, 3],\n",
       "       [5, 6]])"
      ]
     },
     "execution_count": 21,
     "metadata": {},
     "output_type": "execute_result"
    }
   ],
   "source": [
    "np.array([[2, 3],[5, 6]])\n"
   ]
  },
  {
   "cell_type": "code",
   "execution_count": 25,
   "id": "2f241b84-ce05-45e8-9d02-320266c0579d",
   "metadata": {},
   "outputs": [
    {
     "data": {
      "text/plain": [
       "array([[[1, 2],\n",
       "        [2, 3]],\n",
       "\n",
       "       [[2, 3],\n",
       "        [3, 5]]])"
      ]
     },
     "execution_count": 25,
     "metadata": {},
     "output_type": "execute_result"
    }
   ],
   "source": [
    "np.array([[[1, 2],[2, 3]],[[2, 3],[3,5]]])"
   ]
  },
  {
   "cell_type": "code",
   "execution_count": 27,
   "id": "2ea84d08-6c6b-4406-b408-c016cf138953",
   "metadata": {},
   "outputs": [
    {
     "data": {
      "text/plain": [
       "array([[0., 0., 0.],\n",
       "       [0., 0., 0.]])"
      ]
     },
     "execution_count": 27,
     "metadata": {},
     "output_type": "execute_result"
    }
   ],
   "source": [
    "np.zeros((2, 3))\n"
   ]
  },
  {
   "cell_type": "code",
   "execution_count": 29,
   "id": "06015837-7c47-47eb-86b4-e1fea9c27251",
   "metadata": {},
   "outputs": [
    {
     "data": {
      "text/plain": [
       "array([1, 2, 3, 4])"
      ]
     },
     "execution_count": 29,
     "metadata": {},
     "output_type": "execute_result"
    }
   ],
   "source": [
    "np.array([1,2,3,4])"
   ]
  },
  {
   "cell_type": "code",
   "execution_count": 31,
   "id": "8306fea3-60a7-47ad-9445-4ec2b7cfd443",
   "metadata": {},
   "outputs": [],
   "source": [
    "x = np.array([[1,2,3],[4,5,6]])"
   ]
  },
  {
   "cell_type": "code",
   "execution_count": 33,
   "id": "21a6a441-6824-4844-8a30-9e114232b42a",
   "metadata": {},
   "outputs": [],
   "source": [
    "y = np.array([[[1],[5],[8]], [[7],[9],[8]]])"
   ]
  },
  {
   "cell_type": "code",
   "execution_count": 35,
   "id": "5cb31720-5c2c-405f-b625-3b28bea3a22d",
   "metadata": {},
   "outputs": [
    {
     "data": {
      "text/plain": [
       "array([[[1],\n",
       "        [5],\n",
       "        [8]],\n",
       "\n",
       "       [[7],\n",
       "        [9],\n",
       "        [8]]])"
      ]
     },
     "execution_count": 35,
     "metadata": {},
     "output_type": "execute_result"
    }
   ],
   "source": [
    "y"
   ]
  },
  {
   "cell_type": "code",
   "execution_count": 41,
   "id": "5cdce9ca-d136-42eb-b18a-ba7e0bced126",
   "metadata": {},
   "outputs": [
    {
     "data": {
      "text/plain": [
       "array([[1., 1., 1., 1., 1.]])"
      ]
     },
     "execution_count": 41,
     "metadata": {},
     "output_type": "execute_result"
    }
   ],
   "source": [
    "p = np.ones((1,5))\n",
    "p"
   ]
  },
  {
   "cell_type": "code",
   "execution_count": 43,
   "id": "3ced257c-13d0-4e01-b812-dc343309b076",
   "metadata": {},
   "outputs": [
    {
     "data": {
      "text/plain": [
       "array([0, 1, 2, 3, 4, 5, 6, 7, 8, 9])"
      ]
     },
     "execution_count": 43,
     "metadata": {},
     "output_type": "execute_result"
    }
   ],
   "source": [
    "np.arange(0, 10)"
   ]
  },
  {
   "cell_type": "code",
   "execution_count": 91,
   "id": "cef3732a-36f1-4baf-811a-c49eab0a2b04",
   "metadata": {},
   "outputs": [
    {
     "name": "stdout",
     "output_type": "stream",
     "text": [
      "[0 2 4 6 8]\n"
     ]
    }
   ],
   "source": [
    "print(np.arange(0, 10, 2))"
   ]
  },
  {
   "cell_type": "code",
   "execution_count": 93,
   "id": "42c9f63f-0ecb-42c9-8a3c-f45318d8ef32",
   "metadata": {},
   "outputs": [
    {
     "data": {
      "text/plain": [
       "array([ 0.,  1.,  2.,  3.,  4.,  5.,  6.,  7.,  8.,  9., 10.])"
      ]
     },
     "execution_count": 93,
     "metadata": {},
     "output_type": "execute_result"
    }
   ],
   "source": [
    "np.linspace(0, 10, 11)\n"
   ]
  },
  {
   "cell_type": "code",
   "execution_count": 51,
   "id": "145536dc-1991-4827-b378-11050defbf1b",
   "metadata": {},
   "outputs": [
    {
     "data": {
      "text/plain": [
       "array([[0.65618876, 0.2431129 , 0.5431598 ],\n",
       "       [0.89241527, 0.47061648, 0.55124055],\n",
       "       [0.10337488, 0.65954244, 0.8926695 ]])"
      ]
     },
     "execution_count": 51,
     "metadata": {},
     "output_type": "execute_result"
    }
   ],
   "source": [
    "np.random.rand(3, 3)"
   ]
  },
  {
   "cell_type": "code",
   "execution_count": 63,
   "id": "34508d4f-2fc1-417b-a531-3d1dd471b6aa",
   "metadata": {},
   "outputs": [
    {
     "data": {
      "text/plain": [
       "array([[6, 2],\n",
       "       [1, 8]])"
      ]
     },
     "execution_count": 63,
     "metadata": {},
     "output_type": "execute_result"
    }
   ],
   "source": [
    "np.random.randint(1, 10, size = (2, 2))"
   ]
  },
  {
   "cell_type": "code",
   "execution_count": 65,
   "id": "aebf74db-ce8a-425c-88ac-cba46c333013",
   "metadata": {},
   "outputs": [
    {
     "data": {
      "text/plain": [
       "array([[1., 0., 0.],\n",
       "       [0., 1., 0.],\n",
       "       [0., 0., 1.]])"
      ]
     },
     "execution_count": 65,
     "metadata": {},
     "output_type": "execute_result"
    }
   ],
   "source": [
    "np.eye(3)"
   ]
  },
  {
   "cell_type": "code",
   "execution_count": 67,
   "id": "fe772e96-319b-4f35-81e9-23ac2befb038",
   "metadata": {},
   "outputs": [
    {
     "data": {
      "text/plain": [
       "array([[1, 0, 0],\n",
       "       [0, 2, 0],\n",
       "       [0, 0, 3]])"
      ]
     },
     "execution_count": 67,
     "metadata": {},
     "output_type": "execute_result"
    }
   ],
   "source": [
    "np.diag([1, 2, 3,])"
   ]
  },
  {
   "cell_type": "code",
   "execution_count": 71,
   "id": "cb852728-4568-494a-bbaf-b877215a576c",
   "metadata": {},
   "outputs": [
    {
     "data": {
      "text/plain": [
       "array([1, 2, 3, 4, 5])"
      ]
     },
     "execution_count": 71,
     "metadata": {},
     "output_type": "execute_result"
    }
   ],
   "source": [
    "np.array([1, 2, 3, 4 ,5])"
   ]
  },
  {
   "cell_type": "code",
   "execution_count": 75,
   "id": "338653b5-ef8d-4ded-ba9d-ad57d5e93dee",
   "metadata": {},
   "outputs": [
    {
     "data": {
      "text/plain": [
       "array([[[1, 2],\n",
       "        [3, 4],\n",
       "        [5, 6]],\n",
       "\n",
       "       [[3, 3],\n",
       "        [6, 3],\n",
       "        [7, 5]]])"
      ]
     },
     "execution_count": 75,
     "metadata": {},
     "output_type": "execute_result"
    }
   ],
   "source": [
    "x = np.array([1, 2, 3, 4 ,5, 6, 3, 3, 6, 3, 7, 5])\n",
    "x.reshape((2, 3, 2))"
   ]
  },
  {
   "cell_type": "code",
   "execution_count": 77,
   "id": "afd65f90-7d57-4293-95b8-a1da9139d111",
   "metadata": {},
   "outputs": [
    {
     "data": {
      "text/plain": [
       "array([2.12199579e-314, 4.67296746e-307, 8.61650486e-321, 6.95250701e-310])"
      ]
     },
     "execution_count": 77,
     "metadata": {},
     "output_type": "execute_result"
    }
   ],
   "source": [
    "np.empty(4)"
   ]
  },
  {
   "cell_type": "code",
   "execution_count": 81,
   "id": "7b0e4438-bd34-487c-ad6a-caab6ccafcf1",
   "metadata": {},
   "outputs": [
    {
     "data": {
      "text/plain": [
       "array([[6.23042070e-307, 4.67296746e-307, 1.69121096e-306,\n",
       "        2.78145267e-307, 4.67294030e-307],\n",
       "       [4.45041255e-307, 6.23043429e-307, 2.22526399e-307,\n",
       "        6.23053614e-307, 7.56592338e-307],\n",
       "       [1.33511018e-306, 1.33511969e-306, 6.23037996e-307,\n",
       "        6.23053954e-307, 9.34609790e-307],\n",
       "       [8.45593934e-307, 9.34600963e-307, 1.37961234e-306,\n",
       "        9.34604358e-307, 1.20160711e-306]])"
      ]
     },
     "execution_count": 81,
     "metadata": {},
     "output_type": "execute_result"
    }
   ],
   "source": [
    "np.empty((4,5))"
   ]
  },
  {
   "cell_type": "code",
   "execution_count": 89,
   "id": "f705f426-36be-4c69-b903-99a6f62d59ee",
   "metadata": {},
   "outputs": [
    {
     "data": {
      "text/plain": [
       "array([[4, 0, 0, 0],\n",
       "       [0, 7, 0, 0],\n",
       "       [0, 0, 0, 0],\n",
       "       [0, 0, 0, 3]])"
      ]
     },
     "execution_count": 89,
     "metadata": {},
     "output_type": "execute_result"
    }
   ],
   "source": [
    "diag = np.diag([4,7,0,3])\n",
    "diag"
   ]
  },
  {
   "cell_type": "code",
   "execution_count": null,
   "id": "adf8297c-6725-4443-b358-f2528dba6a21",
   "metadata": {},
   "outputs": [],
   "source": []
  }
 ],
 "metadata": {
  "kernelspec": {
   "display_name": "Python 3 (ipykernel)",
   "language": "python",
   "name": "python3"
  },
  "language_info": {
   "codemirror_mode": {
    "name": "ipython",
    "version": 3
   },
   "file_extension": ".py",
   "mimetype": "text/x-python",
   "name": "python",
   "nbconvert_exporter": "python",
   "pygments_lexer": "ipython3",
   "version": "3.12.4"
  }
 },
 "nbformat": 4,
 "nbformat_minor": 5
}
