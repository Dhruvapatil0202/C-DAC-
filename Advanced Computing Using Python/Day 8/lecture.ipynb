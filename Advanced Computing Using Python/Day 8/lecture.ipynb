{
 "cells": [
  {
   "cell_type": "markdown",
   "id": "18e54aee-20cf-441a-b60e-c36266771f11",
   "metadata": {},
   "source": [
    "Properties of Dataset:\n",
    "1. Dimensions( number of dimensions, numpy property - ndim)\n",
    "2. shape(size of each dimension, numpy property - shape)\n",
    "3. size()\n",
    "4. datatype()"
   ]
  },
  {
   "cell_type": "code",
   "execution_count": 5,
   "id": "8d234cbc-49f6-4f48-9470-8e2db9895050",
   "metadata": {},
   "outputs": [
    {
     "name": "stdout",
     "output_type": "stream",
     "text": [
      "1 (3,) 3 int32\n"
     ]
    }
   ],
   "source": [
    "import numpy as np\n",
    "array_1d = np.array([2, 3 ,4])\n",
    "print (array_1d.ndim,\n",
    "array_1d.shape,\n",
    "array_1d.size,\n",
    "array_1d.dtype)"
   ]
  },
  {
   "cell_type": "code",
   "execution_count": 9,
   "id": "03807dee-ae1e-471c-ae48-5255a595c952",
   "metadata": {},
   "outputs": [
    {
     "name": "stdout",
     "output_type": "stream",
     "text": [
      "ndim: 2\n",
      "shape: (2, 3)\n",
      "size: 6\n",
      "dtype: int32\n"
     ]
    }
   ],
   "source": [
    "arr = np.array([[2, 3, 5], [2, 3, 3]])\n",
    "print(f\"ndim: {arr.ndim}\\nshape: {arr.shape}\\nsize: {arr.size}\\ndtype: {arr.dtype}\")"
   ]
  },
  {
   "cell_type": "code",
   "execution_count": 27,
   "id": "d2d0c4e8-323c-40ab-ad2a-42c0542b340b",
   "metadata": {},
   "outputs": [
    {
     "name": "stdout",
     "output_type": "stream",
     "text": [
      "8\n",
      "4\n",
      "1\n"
     ]
    }
   ],
   "source": [
    "float_array = np.linspace(0, 7, 6)\n",
    "int_array = np.arange(2, 8)\n",
    "bool_array = np.array([True, False, False, True, False, True])\n",
    "\n",
    "print(float_array.itemsize)\n",
    "print(int_array.itemsize)\n",
    "print(bool_array.itemsize)"
   ]
  },
  {
   "cell_type": "code",
   "execution_count": 29,
   "id": "c6d09a9a-659e-47e8-9c46-28a6e0a8953c",
   "metadata": {},
   "outputs": [
    {
     "name": "stdout",
     "output_type": "stream",
     "text": [
      "48\n",
      "24\n",
      "6\n"
     ]
    }
   ],
   "source": [
    "print(float_array.nbytes)\n",
    "print(int_array.nbytes)\n",
    "print(bool_array.nbytes)"
   ]
  },
  {
   "cell_type": "markdown",
   "id": "9c64bc60-f5cf-4564-a4ec-44e5f0c9b138",
   "metadata": {},
   "source": [
    "# *Data Transformation*"
   ]
  },
  {
   "cell_type": "code",
   "execution_count": 40,
   "id": "4d5a207f-0d9d-41bc-8c73-f63f20e9f72c",
   "metadata": {},
   "outputs": [
    {
     "name": "stdout",
     "output_type": "stream",
     "text": [
      "1d array: [0 1 2 3 4 5 6 7 8 9]\n"
     ]
    }
   ],
   "source": [
    "array1d = np.arange(10)\n",
    "print(\"1d array:\", array1d)\n"
   ]
  },
  {
   "cell_type": "code",
   "execution_count": 44,
   "id": "bfcf363f-ce69-4447-8078-053f810d36d0",
   "metadata": {},
   "outputs": [
    {
     "name": "stdout",
     "output_type": "stream",
     "text": [
      "First five elements:  [0 1 2 3 4]\n"
     ]
    }
   ],
   "source": [
    "print(\"First five elements: \", array1d[:5])"
   ]
  },
  {
   "cell_type": "code",
   "execution_count": 46,
   "id": "3525ccfc-6382-489f-9608-4158d28ee62d",
   "metadata": {},
   "outputs": [
    {
     "name": "stdout",
     "output_type": "stream",
     "text": [
      "Every other element [0 2 4 6 8]\n"
     ]
    }
   ],
   "source": [
    "print(\"Every other element\", array1d[::2])"
   ]
  },
  {
   "cell_type": "code",
   "execution_count": 48,
   "id": "2089aaa9-f309-4011-81b3-2f981ff71f93",
   "metadata": {},
   "outputs": [
    {
     "name": "stdout",
     "output_type": "stream",
     "text": [
      "Array reversed: [9 8 7 6 5 4 3 2 1 0]\n"
     ]
    }
   ],
   "source": [
    "print(\"Array reversed:\", array1d[::-1])"
   ]
  },
  {
   "cell_type": "code",
   "execution_count": 50,
   "id": "f27b9a2c-335e-43e8-9d2a-23b0a46669fa",
   "metadata": {},
   "outputs": [
    {
     "name": "stdout",
     "output_type": "stream",
     "text": [
      "[[10 11 12 13]\n",
      " [14 15 16 17]\n",
      " [18 19 20 21]]\n"
     ]
    }
   ],
   "source": [
    "array2d = np.arange(10,22).reshape(3,4)\n",
    "print(array2d)"
   ]
  },
  {
   "cell_type": "code",
   "execution_count": 52,
   "id": "fb0883a4-afa6-43c7-b65a-cb85334ce499",
   "metadata": {},
   "outputs": [
    {
     "name": "stdout",
     "output_type": "stream",
     "text": [
      "Element in 2nd row and 3rd 21\n"
     ]
    }
   ],
   "source": [
    "print(\"Element in 2nd row and 3rd\", array2d[2,3])"
   ]
  },
  {
   "cell_type": "code",
   "execution_count": 56,
   "id": "ffaae87d-2f7c-4a70-9b41-586eabbfa652",
   "metadata": {},
   "outputs": [
    {
     "name": "stdout",
     "output_type": "stream",
     "text": [
      "[10 11 12 13]\n"
     ]
    }
   ],
   "source": [
    "print(array2d[0,:])"
   ]
  },
  {
   "cell_type": "code",
   "execution_count": 58,
   "id": "ebfd2ec0-e026-4dec-84d7-617ced8cfbdf",
   "metadata": {},
   "outputs": [
    {
     "name": "stdout",
     "output_type": "stream",
     "text": [
      "[12 16 20]\n"
     ]
    }
   ],
   "source": [
    "print(array2d[:,2])"
   ]
  },
  {
   "cell_type": "code",
   "execution_count": 60,
   "id": "8751902e-d3d3-4358-9fc9-034f76b00b80",
   "metadata": {},
   "outputs": [
    {
     "name": "stdout",
     "output_type": "stream",
     "text": [
      "[[12 13]\n",
      " [16 17]]\n"
     ]
    }
   ],
   "source": [
    "print(array2d[:2,-2:])"
   ]
  },
  {
   "cell_type": "code",
   "execution_count": 62,
   "id": "a288bc40-10aa-49c5-87b3-6ac0bb0b70bd",
   "metadata": {},
   "outputs": [
    {
     "name": "stdout",
     "output_type": "stream",
     "text": [
      "[[10 12]\n",
      " [18 20]]\n"
     ]
    }
   ],
   "source": [
    "print(array2d[::2,::2])"
   ]
  },
  {
   "cell_type": "code",
   "execution_count": 66,
   "id": "37591e01-7b44-441f-8013-0ea50e1ec3f4",
   "metadata": {},
   "outputs": [
    {
     "data": {
      "text/plain": [
       "array([[[ 4, 12, 13, 19],\n",
       "        [ 7, 20,  4, 19],\n",
       "        [19, 20,  8, 13]],\n",
       "\n",
       "       [[10, 14, 13, 12],\n",
       "        [14, 11,  4,  1],\n",
       "        [19, 18,  9, 12]]])"
      ]
     },
     "execution_count": 66,
     "metadata": {},
     "output_type": "execute_result"
    }
   ],
   "source": [
    "array3d = np.random.randint(1,21, (2,3,4))\n",
    "array3d"
   ]
  },
  {
   "cell_type": "code",
   "execution_count": 68,
   "id": "f5ba822d-23f2-4c50-96b9-b12ec6417f9e",
   "metadata": {},
   "outputs": [
    {
     "data": {
      "text/plain": [
       "4"
      ]
     },
     "execution_count": 68,
     "metadata": {},
     "output_type": "execute_result"
    }
   ],
   "source": [
    "array3d[0, 1, 2]"
   ]
  },
  {
   "cell_type": "code",
   "execution_count": 70,
   "id": "d2691b42-75f1-410a-8904-83a54c1d0707",
   "metadata": {},
   "outputs": [
    {
     "data": {
      "text/plain": [
       "array([[10, 14, 13, 12],\n",
       "       [14, 11,  4,  1],\n",
       "       [19, 18,  9, 12]])"
      ]
     },
     "execution_count": 70,
     "metadata": {},
     "output_type": "execute_result"
    }
   ],
   "source": [
    "array3d[1, :, :]"
   ]
  },
  {
   "cell_type": "code",
   "execution_count": 72,
   "id": "7ab50f25-eba3-4cb5-ade0-7b5a49982eb4",
   "metadata": {},
   "outputs": [
    {
     "data": {
      "text/plain": [
       "array([[[ 4, 12, 13],\n",
       "        [ 7, 20,  4]],\n",
       "\n",
       "       [[10, 14, 13],\n",
       "        [14, 11,  4]]])"
      ]
     },
     "execution_count": 72,
     "metadata": {},
     "output_type": "execute_result"
    }
   ],
   "source": [
    "array3d[:, :2, :3]"
   ]
  }
 ],
 "metadata": {
  "kernelspec": {
   "display_name": "Python 3 (ipykernel)",
   "language": "python",
   "name": "python3"
  },
  "language_info": {
   "codemirror_mode": {
    "name": "ipython",
    "version": 3
   },
   "file_extension": ".py",
   "mimetype": "text/x-python",
   "name": "python",
   "nbconvert_exporter": "python",
   "pygments_lexer": "ipython3",
   "version": "3.12.4"
  }
 },
 "nbformat": 4,
 "nbformat_minor": 5
}
