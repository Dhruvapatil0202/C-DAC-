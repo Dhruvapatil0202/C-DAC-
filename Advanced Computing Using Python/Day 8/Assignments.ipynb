{
 "cells": [
  {
   "cell_type": "markdown",
   "id": "0cdfad29-3ff5-4cd7-8142-59652474b6d0",
   "metadata": {},
   "source": [
    "# Assignment 6"
   ]
  },
  {
   "cell_type": "code",
   "execution_count": 1,
   "id": "83962fa5-9619-4540-aed6-bc99c8585c23",
   "metadata": {},
   "outputs": [],
   "source": [
    "import numpy as np\n"
   ]
  },
  {
   "cell_type": "code",
   "execution_count": 5,
   "id": "0fd0277e-bc7a-4966-8aa3-6edeb9ce0348",
   "metadata": {},
   "outputs": [
    {
     "data": {
      "text/plain": [
       "array([[93, 54, 89, 53, 85],\n",
       "       [64, 97, 73, 73, 75],\n",
       "       [75, 90, 55, 73, 51],\n",
       "       [72, 50, 55, 70, 69],\n",
       "       [53, 79, 68, 52, 51]])"
      ]
     },
     "execution_count": 5,
     "metadata": {},
     "output_type": "execute_result"
    }
   ],
   "source": [
    "arr = np.random.randint(50, 100, (5, 5))\n",
    "arr"
   ]
  },
  {
   "cell_type": "code",
   "execution_count": 9,
   "id": "af164af7-2e2b-4007-96a5-f5c990609693",
   "metadata": {},
   "outputs": [
    {
     "data": {
      "text/plain": [
       "array([[93, 54, 89, 53, 85],\n",
       "       [64,  0,  0,  0, 75],\n",
       "       [75,  0,  0,  0, 51],\n",
       "       [72,  0,  0,  0, 69],\n",
       "       [53, 79, 68, 52, 51]])"
      ]
     },
     "execution_count": 9,
     "metadata": {},
     "output_type": "execute_result"
    }
   ],
   "source": [
    "arr[1:4, 1:4] = np.zeros((3, 3))\n",
    "arr"
   ]
  },
  {
   "cell_type": "code",
   "execution_count": 11,
   "id": "c47e18f7-0727-4839-9aa8-88e25da5fd74",
   "metadata": {},
   "outputs": [
    {
     "data": {
      "text/plain": [
       "array([[ 93,  89,  90,  88,  77],\n",
       "       [ 93, 100,  51,  68,  82],\n",
       "       [ 54,  51,  87,  78,  81],\n",
       "       [ 84,  78,  63,  78,  63],\n",
       "       [ 74,  65,  81,  96,  72]])"
      ]
     },
     "execution_count": 11,
     "metadata": {},
     "output_type": "execute_result"
    }
   ],
   "source": [
    "matrix = np.random.randint(50,101,(5,5))\n",
    "matrix"
   ]
  },
  {
   "cell_type": "markdown",
   "id": "eeb6542d-33c4-4e2b-bd28-e135468f7a7f",
   "metadata": {},
   "source": [
    "matrix[1:4, 1:4] = np.zeros((3,3))\n",
    "print(matrix)"
   ]
  },
  {
   "cell_type": "markdown",
   "id": "8e49ddc3-5a45-4c49-afe8-3255f3e03b2b",
   "metadata": {},
   "source": [
    "# Assignment 7\n"
   ]
  },
  {
   "cell_type": "code",
   "execution_count": 27,
   "id": "34f272b4-858f-4390-89ac-d4777d9b18df",
   "metadata": {},
   "outputs": [
    {
     "data": {
      "text/plain": [
       "array([[96, 85, 79],\n",
       "       [23, 33, 48],\n",
       "       [43, 58, 85],\n",
       "       [59, 53, 34],\n",
       "       [86, 40, 50]])"
      ]
     },
     "execution_count": 27,
     "metadata": {},
     "output_type": "execute_result"
    }
   ],
   "source": [
    "arr = np.random.randint(10, 100, (5, 3))\n",
    "arr"
   ]
  },
  {
   "cell_type": "code",
   "execution_count": 43,
   "id": "8eb23854-562c-41ce-b131-9969bed75c9c",
   "metadata": {},
   "outputs": [
    {
     "data": {
      "text/plain": [
       "array([[96, 23, 43, 59, 86],\n",
       "       [85, 33, 58, 53, 40],\n",
       "       [79, 48, 85, 34, 50]])"
      ]
     },
     "execution_count": 43,
     "metadata": {},
     "output_type": "execute_result"
    }
   ],
   "source": [
    "arr2 = arr.transpose()\n",
    "#arr2 = arr.T\n",
    "arr2"
   ]
  },
  {
   "cell_type": "code",
   "execution_count": 37,
   "id": "fc902728-e671-4e6b-a3bc-314bda1f65ec",
   "metadata": {},
   "outputs": [
    {
     "data": {
      "text/plain": [
       "(58.13333333333333, 58.13333333333333)"
      ]
     },
     "execution_count": 37,
     "metadata": {},
     "output_type": "execute_result"
    }
   ],
   "source": [
    "arr.mean(), arr2.mean()"
   ]
  },
  {
   "cell_type": "markdown",
   "id": "54043f77-cf1d-47e4-bcfe-3c5ec7fd991b",
   "metadata": {},
   "source": [
    "# Assignment 8"
   ]
  },
  {
   "cell_type": "code",
   "execution_count": 55,
   "id": "deaf1e30-bc54-4717-adc5-2342d9cef3ac",
   "metadata": {},
   "outputs": [
    {
     "data": {
      "text/plain": [
       "array([[1. , 2. , 3.5],\n",
       "       [3.2, 4.7, 3.1],\n",
       "       [6.2, 6.6, 7.2]])"
      ]
     },
     "execution_count": 55,
     "metadata": {},
     "output_type": "execute_result"
    }
   ],
   "source": [
    "arr_data = np.loadtxt('numpCSV.txt', delimiter = ',')\n",
    "arr_data"
   ]
  },
  {
   "cell_type": "code",
   "execution_count": 57,
   "id": "1053836d-a612-4f2b-a691-5cebc0c61103",
   "metadata": {},
   "outputs": [
    {
     "data": {
      "text/plain": [
       "array([[1. , 2. , 3.5],\n",
       "       [3.2, 4.7, 3.1],\n",
       "       [6.2, 6.6, 7.2]])"
      ]
     },
     "execution_count": 57,
     "metadata": {},
     "output_type": "execute_result"
    }
   ],
   "source": [
    "temp = np.genfromtxt('numpCSV.txt', delimiter = ',', comments = '#')\n",
    "temp"
   ]
  },
  {
   "cell_type": "markdown",
   "id": "dec97224-d9f5-4b14-8508-738fee567351",
   "metadata": {},
   "source": [
    "# Assignment 9"
   ]
  },
  {
   "cell_type": "code",
   "execution_count": 60,
   "id": "789018da-4997-4042-bd66-e90e654e5bfc",
   "metadata": {},
   "outputs": [
    {
     "data": {
      "text/plain": [
       "array([ 1,  2,  3,  4,  5,  6,  7,  8,  9, 10, 11, 12, 13, 14, 15, 16])"
      ]
     },
     "execution_count": 60,
     "metadata": {},
     "output_type": "execute_result"
    }
   ],
   "source": [
    "arr = np.arange(1,17)\n",
    "arr"
   ]
  },
  {
   "cell_type": "code",
   "execution_count": 62,
   "id": "716a252d-c4cd-492d-a3b5-e5301f39eb76",
   "metadata": {},
   "outputs": [
    {
     "data": {
      "text/plain": [
       "array([1.        , 1.41421356, 1.73205081, 2.        , 2.23606798,\n",
       "       2.44948974, 2.64575131, 2.82842712, 3.        , 3.16227766,\n",
       "       3.31662479, 3.46410162, 3.60555128, 3.74165739, 3.87298335,\n",
       "       4.        ])"
      ]
     },
     "execution_count": 62,
     "metadata": {},
     "output_type": "execute_result"
    }
   ],
   "source": [
    "arr2 = np.sqrt(arr)\n",
    "arr2"
   ]
  },
  {
   "cell_type": "code",
   "execution_count": 72,
   "id": "d3b43856-20a3-4706-ab6e-865e2f4ea7c8",
   "metadata": {},
   "outputs": [],
   "source": [
    "arr3 = np.array([arr, arr2])\n",
    "np.savetxt('square_root_result.csv', arr3, delimiter = ',' )"
   ]
  },
  {
   "cell_type": "code",
   "execution_count": 74,
   "id": "485a1a74-85e0-440c-93aa-8e5760aef011",
   "metadata": {},
   "outputs": [
    {
     "data": {
      "text/plain": [
       "array([ 1,  2,  3,  4,  5,  6,  7,  8,  9, 10, 11, 12, 13, 14, 15, 16])"
      ]
     },
     "execution_count": 74,
     "metadata": {},
     "output_type": "execute_result"
    }
   ],
   "source": [
    "matrix = np.arange(1,17)\n",
    "matrix"
   ]
  },
  {
   "cell_type": "code",
   "execution_count": 90,
   "id": "96f54319-a20b-43cc-9d65-d1af331689ca",
   "metadata": {},
   "outputs": [],
   "source": [
    "matrix2 = np.array([matrix, (np.sqrt(matrix))])"
   ]
  },
  {
   "cell_type": "code",
   "execution_count": 96,
   "id": "d98ebb7a-4e8f-42c1-ad8b-057f0b14b21b",
   "metadata": {},
   "outputs": [
    {
     "ename": "AttributeError",
     "evalue": "module 'numpy' has no attribute 'coloumn_stack'",
     "output_type": "error",
     "traceback": [
      "\u001b[1;31m---------------------------------------------------------------------------\u001b[0m",
      "\u001b[1;31mAttributeError\u001b[0m                            Traceback (most recent call last)",
      "Cell \u001b[1;32mIn[96], line 1\u001b[0m\n\u001b[1;32m----> 1\u001b[0m np\u001b[38;5;241m.\u001b[39msavetxt(\u001b[38;5;124m\"\u001b[39m\u001b[38;5;124msqrtMatrix.txt\u001b[39m\u001b[38;5;124m\"\u001b[39m,np\u001b[38;5;241m.\u001b[39mcoloumn_stack((matrix,matrix2)), delimiter \u001b[38;5;241m=\u001b[39m \u001b[38;5;124m\"\u001b[39m\u001b[38;5;124m;\u001b[39m\u001b[38;5;124m\"\u001b[39m)\n",
      "File \u001b[1;32m~\\AppData\\Local\\anaconda3\\Lib\\site-packages\\numpy\\__init__.py:333\u001b[0m, in \u001b[0;36m__getattr__\u001b[1;34m(attr)\u001b[0m\n\u001b[0;32m    330\u001b[0m     \u001b[38;5;124m\"\u001b[39m\u001b[38;5;124mRemoved in NumPy 1.25.0\u001b[39m\u001b[38;5;124m\"\u001b[39m\n\u001b[0;32m    331\u001b[0m     \u001b[38;5;28;01mraise\u001b[39;00m \u001b[38;5;167;01mRuntimeError\u001b[39;00m(\u001b[38;5;124m\"\u001b[39m\u001b[38;5;124mTester was removed in NumPy 1.25.\u001b[39m\u001b[38;5;124m\"\u001b[39m)\n\u001b[1;32m--> 333\u001b[0m \u001b[38;5;28;01mraise\u001b[39;00m \u001b[38;5;167;01mAttributeError\u001b[39;00m(\u001b[38;5;124m\"\u001b[39m\u001b[38;5;124mmodule \u001b[39m\u001b[38;5;132;01m{!r}\u001b[39;00m\u001b[38;5;124m has no attribute \u001b[39m\u001b[38;5;124m\"\u001b[39m\n\u001b[0;32m    334\u001b[0m                      \u001b[38;5;124m\"\u001b[39m\u001b[38;5;132;01m{!r}\u001b[39;00m\u001b[38;5;124m\"\u001b[39m\u001b[38;5;241m.\u001b[39mformat(\u001b[38;5;18m__name__\u001b[39m, attr))\n",
      "\u001b[1;31mAttributeError\u001b[0m: module 'numpy' has no attribute 'coloumn_stack'"
     ]
    }
   ],
   "source": [
    "# np.savetxt(\"sqrtMatrix.txt\",np.coloumn_stack((matrix,matrix2)), delimiter = \";\")"
   ]
  },
  {
   "cell_type": "markdown",
   "id": "6fab5e36-acf8-4a61-b84c-1eb7fab51c59",
   "metadata": {},
   "source": [
    "# Assignment 10"
   ]
  },
  {
   "cell_type": "code",
   "execution_count": 99,
   "id": "a015ccc0-3e95-454c-b073-36d7a924bf82",
   "metadata": {},
   "outputs": [],
   "source": [
    "matrix1 = np.random.randint(1,100,(4,2))"
   ]
  },
  {
   "cell_type": "code",
   "execution_count": 101,
   "id": "2e0b95f6-825a-4c8e-af2b-e729477f76cd",
   "metadata": {},
   "outputs": [],
   "source": [
    "matrix2 = np.random.randint(1,200,(2,3))"
   ]
  },
  {
   "cell_type": "code",
   "execution_count": 103,
   "id": "1184a87e-527b-4b29-b8a1-ba5e408f7271",
   "metadata": {},
   "outputs": [],
   "source": [
    "matrixR = np.matmul(matrix1,matrix2)"
   ]
  },
  {
   "cell_type": "code",
   "execution_count": 105,
   "id": "745a7cdf-d57a-427e-9800-ea2ea946d099",
   "metadata": {},
   "outputs": [
    {
     "name": "stdout",
     "output_type": "stream",
     "text": [
      "[[18 62]\n",
      " [95 47]\n",
      " [15 24]\n",
      " [23 22]]\n"
     ]
    }
   ],
   "source": [
    "print(matrix1)"
   ]
  },
  {
   "cell_type": "code",
   "execution_count": 107,
   "id": "90b20e57-acb6-44fb-937a-3bc70cd76507",
   "metadata": {},
   "outputs": [
    {
     "name": "stdout",
     "output_type": "stream",
     "text": [
      "[[  3 160  84]\n",
      " [107  99 127]]\n"
     ]
    }
   ],
   "source": [
    "print(matrix2)"
   ]
  },
  {
   "cell_type": "code",
   "execution_count": 111,
   "id": "7c1a4de8-2b5f-49e6-95c3-3ddd89086322",
   "metadata": {},
   "outputs": [
    {
     "name": "stdout",
     "output_type": "stream",
     "text": [
      "[[ 6688  9018  9386]\n",
      " [ 5314 19853 13949]\n",
      " [ 2613  4776  4308]\n",
      " [ 2423  5858  4726]]\n"
     ]
    }
   ],
   "source": [
    "print(matrixR)"
   ]
  },
  {
   "cell_type": "code",
   "execution_count": 113,
   "id": "d1d6a717-66c6-440f-9491-9779984e6b02",
   "metadata": {},
   "outputs": [
    {
     "name": "stdout",
     "output_type": "stream",
     "text": [
      "[[ 6688  5314  2613  2423]\n",
      " [ 9018 19853  4776  5858]\n",
      " [ 9386 13949  4308  4726]]\n"
     ]
    }
   ],
   "source": [
    "print(matrixR.T)"
   ]
  },
  {
   "cell_type": "code",
   "execution_count": 115,
   "id": "61247ac0-9a77-4007-b70e-4f2f58247f55",
   "metadata": {},
   "outputs": [
    {
     "data": {
      "text/plain": [
       "array([[ 39, 287,  72,  75],\n",
       "       [145, 387, 176, 233],\n",
       "       [ 83, 305, 112, 139]])"
      ]
     },
     "execution_count": 115,
     "metadata": {},
     "output_type": "execute_result"
    }
   ],
   "source": [
    "np.matmul(np.random.randint(1, 20, (4, 2)) , np.random.randint(1, 20, (2, 3))).T"
   ]
  },
  {
   "cell_type": "code",
   "execution_count": null,
   "id": "51279edc-e7e2-4206-a4e0-0944b0a62ff4",
   "metadata": {},
   "outputs": [],
   "source": []
  },
  {
   "cell_type": "markdown",
   "id": "d81f2f0b-21b8-42ed-bf79-6ffff79e884d",
   "metadata": {},
   "source": [
    "# Assignment HW"
   ]
  },
  {
   "cell_type": "code",
   "execution_count": 120,
   "id": "a8e61956-ee18-46a0-99b1-128d852b586d",
   "metadata": {},
   "outputs": [
    {
     "data": {
      "text/plain": [
       "array([[29, 23, 29],\n",
       "       [27, 94, 59],\n",
       "       [60, 58, 19]])"
      ]
     },
     "execution_count": 120,
     "metadata": {},
     "output_type": "execute_result"
    }
   ],
   "source": [
    "matrix = np.random.randint(0,100,(3,3))\n",
    "matrix"
   ]
  },
  {
   "cell_type": "code",
   "execution_count": 126,
   "id": "d166fa36-45db-42d1-b857-a2d11f5382d3",
   "metadata": {},
   "outputs": [
    {
     "data": {
      "text/plain": [
       "EigResult(eigenvalues=array([142.32100913,  25.80754152, -26.12855066]), eigenvectors=array([[-0.29578594, -0.65365159, -0.31141016],\n",
       "       [-0.80092806,  0.62633312, -0.36161358],\n",
       "       [-0.52060054, -0.42478987,  0.87878287]]))"
      ]
     },
     "execution_count": 126,
     "metadata": {},
     "output_type": "execute_result"
    }
   ],
   "source": [
    "eigen = np.linalg.eig(matrix)\n",
    "eigen"
   ]
  },
  {
   "cell_type": "code",
   "execution_count": 154,
   "id": "ad87a3d3-7a20-4d19-bac2-2fb94ea20d7a",
   "metadata": {},
   "outputs": [
    {
     "data": {
      "text/plain": [
       "array([142.32100913,  25.80754152, -26.12855066])"
      ]
     },
     "execution_count": 154,
     "metadata": {},
     "output_type": "execute_result"
    }
   ],
   "source": [
    "eigenValues = eigen[0]\n",
    "eigenValues"
   ]
  },
  {
   "cell_type": "code",
   "execution_count": 156,
   "id": "6fdf2df5-b814-484a-be01-2aa4d40f51ef",
   "metadata": {},
   "outputs": [
    {
     "data": {
      "text/plain": [
       "array([[-0.29578594, -0.65365159, -0.31141016],\n",
       "       [-0.80092806,  0.62633312, -0.36161358],\n",
       "       [-0.52060054, -0.42478987,  0.87878287]])"
      ]
     },
     "execution_count": 156,
     "metadata": {},
     "output_type": "execute_result"
    }
   ],
   "source": [
    "eigenVectors = eigen[1]\n",
    "eigenVectors"
   ]
  },
  {
   "cell_type": "code",
   "execution_count": 168,
   "id": "846f3a03-eda9-4b9e-b31a-bad06e771cc4",
   "metadata": {},
   "outputs": [
    {
     "data": {
      "text/plain": [
       "array([[0., 0., 0., 0.],\n",
       "       [0., 0., 0., 0.],\n",
       "       [0., 0., 0., 0.]])"
      ]
     },
     "execution_count": 168,
     "metadata": {},
     "output_type": "execute_result"
    }
   ],
   "source": [
    "newMatrix= np.zeros((3,4))\n",
    "newMatrix"
   ]
  },
  {
   "cell_type": "code",
   "execution_count": 182,
   "id": "9649bb17-0a5b-4ad3-8c34-c1e5b003ceea",
   "metadata": {},
   "outputs": [
    {
     "data": {
      "text/plain": [
       "array([[ -0.29578594,  -0.65365159,  -0.31141016, 142.32100913],\n",
       "       [ -0.80092806,   0.62633312,  -0.36161358,  25.80754152],\n",
       "       [ -0.52060054,  -0.42478987,   0.87878287, -26.12855066]])"
      ]
     },
     "execution_count": 182,
     "metadata": {},
     "output_type": "execute_result"
    }
   ],
   "source": [
    "newMatrix[:: , :3:] = eigenVectors\n",
    "newMatrix[::, 3::] = eigenValues.reshape((3, 1))\n",
    "newMatrix"
   ]
  },
  {
   "cell_type": "code",
   "execution_count": 210,
   "id": "d15d3552-6528-4aab-b7e5-7f5479049366",
   "metadata": {},
   "outputs": [],
   "source": [
    "# np.savetxt('eigenVectorsAndValues.csv', np.array([np.array([eigenValues]), eigenVectors]), delimiter = ';')\n",
    "np.savetxt('eigenVectorsAndValues.csv', newMatrix, fmt='%30.18e', delimiter=' ', newline='\\n', header=f'Eigen Vector, {\"\\t\"*22} Eigen Value', footer='', comments='# ', encoding=None)"
   ]
  },
  {
   "cell_type": "code",
   "execution_count": null,
   "id": "c533f1ee-2aa2-4a1d-a1bc-a1a4b83aea3d",
   "metadata": {},
   "outputs": [],
   "source": [
    "newMatrix= np.array([eigenVectors, eigenValues[i]] for i in range(0-3))\n",
    "newMatrix"
   ]
  }
 ],
 "metadata": {
  "kernelspec": {
   "display_name": "Python 3 (ipykernel)",
   "language": "python",
   "name": "python3"
  },
  "language_info": {
   "codemirror_mode": {
    "name": "ipython",
    "version": 3
   },
   "file_extension": ".py",
   "mimetype": "text/x-python",
   "name": "python",
   "nbconvert_exporter": "python",
   "pygments_lexer": "ipython3",
   "version": "3.12.4"
  }
 },
 "nbformat": 4,
 "nbformat_minor": 5
}
