{
 "cells": [
  {
   "cell_type": "code",
   "execution_count": 1,
   "id": "11772764-8ce1-49b8-a2c8-1672b2da0405",
   "metadata": {},
   "outputs": [],
   "source": [
    "from sqlalchemy import create_engine, MetaData, Column, Integer, String, Float, Sequence\n",
    "from sqlalchemy.orm import declarative_base\n",
    "from sqlalchemy.orm import sessionmaker\n",
    "from sqlalchemy import inspect\n",
    "\n"
   ]
  },
  {
   "cell_type": "code",
   "execution_count": null,
   "id": "49f0e905-5ec9-4c4a-8a44-642b574e1384",
   "metadata": {},
   "outputs": [],
   "source": []
  },
  {
   "cell_type": "code",
   "execution_count": 3,
   "id": "f41215f0-ca04-4a32-9e15-3d71c30c4353",
   "metadata": {},
   "outputs": [],
   "source": [
    "engine = create_engine('sqlite:///company_rom1.db')\n",
    "Base = declarative_base()\n"
   ]
  },
  {
   "cell_type": "code",
   "execution_count": 5,
   "id": "2bff53ac-2bf2-439c-9e6f-8368e2dc1810",
   "metadata": {},
   "outputs": [],
   "source": [
    "class Employee(Base):\n",
    "    __tablename__ = 'employees'\n",
    "    id = Column(Integer, Sequence('employee_id_seq'), primary_key = True)\n",
    "    name = Column(String(50))\n",
    "    age = Column(Integer)\n",
    "    department = Column(String(50))\n",
    "    salary = Column(Float)\n",
    "\n",
    "\n"
   ]
  },
  {
   "cell_type": "code",
   "execution_count": 11,
   "id": "16300375-4ef9-45c7-8065-b46506909fb0",
   "metadata": {},
   "outputs": [],
   "source": [
    "metadata = MetaData()\n",
    "metadata.reflect(bind = engine)\n",
    "Base.metadata.create_all(engine)\n",
    "employees = metadata.tables['employees']\n",
    "inspector = inspect(engine)\n",
    "columns = inspector.get_columns('employees')"
   ]
  },
  {
   "cell_type": "code",
   "execution_count": 13,
   "id": "0f47c739-3122-4748-b255-ab005e64ce08",
   "metadata": {},
   "outputs": [
    {
     "name": "stdout",
     "output_type": "stream",
     "text": [
      "Table employee details\n",
      "Column: id - Type: INTEGER\n",
      "Column: name - Type: VARCHAR(50)\n",
      "Column: age - Type: INTEGER\n",
      "Column: department - Type: VARCHAR(50)\n",
      "Column: salary - Type: FLOAT\n"
     ]
    }
   ],
   "source": [
    "# print table details\n",
    "print(\"Table employee details\")\n",
    "for column in columns:\n",
    "    print(f\"Column: {column['name']} - Type: {column['type']}\")\n",
    "\n"
   ]
  },
  {
   "cell_type": "code",
   "execution_count": 15,
   "id": "8dd7ab1d-1ee7-4054-8c2c-8e3c2bcb2007",
   "metadata": {},
   "outputs": [],
   "source": [
    "# Create a session\n",
    "Session = sessionmaker(bind = engine)\n",
    "session = Session()\n",
    "\n"
   ]
  },
  {
   "cell_type": "code",
   "execution_count": 17,
   "id": "c2f784af-1cab-435c-82ae-59c16a38b024",
   "metadata": {},
   "outputs": [],
   "source": [
    "# Add employee records\n",
    "employees = [\n",
    "    Employee(name = 'Arun', age = 30, department = 'HR', salary = 70000),\n",
    "    Employee(name = 'Radhika', age = 25, department = 'IT', salary = 80000),\n",
    "    Employee(name = 'Chetan', age = 35, department = 'Finiance', salary = 120000)\n",
    "]\n",
    "\n",
    "session.add_all(employees)\n",
    "session.commit()\n"
   ]
  },
  {
   "cell_type": "code",
   "execution_count": 19,
   "id": "5f0970bc-5828-4faf-be3b-55d1b3519b77",
   "metadata": {},
   "outputs": [
    {
     "name": "stdout",
     "output_type": "stream",
     "text": [
      "1: Arun - HR - $70000.0\n",
      "2: Radhika - IT - $80000.0\n",
      "3: Chetan - Finiance - $120000.0\n"
     ]
    }
   ],
   "source": [
    "# Query the database\n",
    "all_employees = session.query(Employee).all()\n",
    "for emp in all_employees:\n",
    "    print(f\"{emp.id}: {emp.name} - {emp.department} - ${emp.salary}\")stud"
   ]
  },
  {
   "cell_type": "code",
   "execution_count": 21,
   "id": "6356bc2a-5ab3-4828-8968-a23c1dc01649",
   "metadata": {},
   "outputs": [],
   "source": [
    "# Update on employees salary\n",
    "employee_to_update = session.query(Employee).filter_by(name = 'Arun').first()\n",
    "employee_to_update.salary = 75000\n",
    "session.commit()"
   ]
  },
  {
   "cell_type": "code",
   "execution_count": 23,
   "id": "3d6f47a4-9d4d-40e0-ac4d-0e752659183b",
   "metadata": {},
   "outputs": [],
   "source": [
    "# Deleting records\n",
    "employee_to_delete = session.query(Employee).filter_by(name = \"Radhika\").first()\n",
    "session.delete(employee_to_delete)\n",
    "session.commit()"
   ]
  },
  {
   "cell_type": "code",
   "execution_count": 27,
   "id": "4b53e5ca-c924-44fe-af8e-e3c354bf6ca7",
   "metadata": {},
   "outputs": [
    {
     "name": "stdout",
     "output_type": "stream",
     "text": [
      "Final records\n",
      "1: Arun - HR = $75000.0\n",
      "3: Chetan - Finiance = $120000.0\n"
     ]
    }
   ],
   "source": [
    "# Query the database\n",
    "print(\"Final records\")\n",
    "all_employees = session.query(Employee).all()\n",
    "for emp in all_employees:\n",
    "    print(f\"{emp.id}: {emp.name} - {emp.department} = ${emp.salary}\")"
   ]
  },
  {
   "cell_type": "code",
   "execution_count": null,
   "id": "b0e5febb-47d5-4971-8ad5-9d9449085a7d",
   "metadata": {},
   "outputs": [],
   "source": []
  },
  {
   "cell_type": "markdown",
   "id": "c5ee4253-241d-48f1-b64e-58230cec2fbe",
   "metadata": {},
   "source": [
    "# Student database"
   ]
  }
 ],
 "metadata": {
  "kernelspec": {
   "display_name": "Python 3 (ipykernel)",
   "language": "python",
   "name": "python3"
  },
  "language_info": {
   "codemirror_mode": {
    "name": "ipython",
    "version": 3
   },
   "file_extension": ".py",
   "mimetype": "text/x-python",
   "name": "python",
   "nbconvert_exporter": "python",
   "pygments_lexer": "ipython3",
   "version": "3.12.4"
  }
 },
 "nbformat": 4,
 "nbformat_minor": 5
}
