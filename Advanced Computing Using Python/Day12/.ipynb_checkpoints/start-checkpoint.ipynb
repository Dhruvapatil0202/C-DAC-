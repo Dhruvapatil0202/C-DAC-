{
 "cells": [
  {
   "cell_type": "code",
   "execution_count": 11,
   "id": "3cf1dceb-834e-499e-9b11-b5e070651f2e",
   "metadata": {},
   "outputs": [],
   "source": [
    "import sqlite3\n"
   ]
  },
  {
   "cell_type": "code",
   "execution_count": 13,
   "id": "e6611ef9-f9b7-4e04-b53a-ccfceec3a097",
   "metadata": {},
   "outputs": [],
   "source": [
    "conn = sqlite3.connect(\"Hands_on_1_student_data.db\")\n",
    "cursor = conn.cursor()\n"
   ]
  },
  {
   "cell_type": "code",
   "execution_count": 45,
   "id": "2088a9ca-da84-4d9e-8abd-5ef93a90bea1",
   "metadata": {},
   "outputs": [
    {
     "name": "stdout",
     "output_type": "stream",
     "text": [
      "tables created\n"
     ]
    }
   ],
   "source": [
    "cursor.execute(\"DROP TABLE IF EXISTS courses\")\n",
    "cursor.execute(\"DROP TABLE IF EXISTS students\")\n",
    "cursor.execute(\"\"\"\n",
    "CREATE TABLE IF NOT EXISTS students(\n",
    "id INTEGER PRIMARY KEY,\n",
    "name TEXT,\n",
    "age INTEGER,\n",
    "grade TEXT\n",
    ")\n",
    "\"\"\")\n",
    "\n",
    "cursor.execute(\"\"\"\n",
    "CREATE TABLE IF NOT EXISTS courses(\n",
    "c_id INTEGER PRIMARY KEY,\n",
    "c_name TEXT,\n",
    "instructor TEXT\n",
    ")\n",
    "\"\"\")\n",
    "\n",
    "print(\"tables created\")\n",
    "\n",
    "cursor.execute(\"INSERT INTO students (id, name, age, grade) VALUES (?, ?, ?, ?)\", (1, 'name1', 23, 'A'))\n",
    "cursor.execute(\"INSERT INTO students (id, name, age, grade) VALUES (?, ?, ?, ?)\", (2, 'name2', 24, 'B'))\n",
    "cursor.execute(\"INSERT INTO students (id, name, age, grade) VALUES (?, ?, ?, ?)\", (3, 'name3', 25, 'C'))\n",
    "cursor.execute(\"INSERT INTO students (id, name, age, grade) VALUES (?, ?, ?, ?)\", (4, 'name4', 26, 'B'))\n",
    "cursor.execute(\"INSERT INTO students (id, name, age, grade) VALUES (?, ?, ?, ?)\", (5, 'name5', 27, 'A'))\n",
    "\n",
    "cursor.execute(\"INSERT INTO courses (c_id, c_name, instructor) VALUES (?, ?, ?)\", (1, 'course1', 'abc'))\n",
    "cursor.execute(\"INSERT INTO courses (c_id, c_name, instructor) VALUES (?, ?, ?)\", (2, 'course2', 'xyz'))\n",
    "cursor.execute(\"INSERT INTO courses (c_id, c_name, instructor) VALUES (?, ?, ?)\", (3, 'course3', 'pqr'))\n",
    "conn.commit()"
   ]
  },
  {
   "cell_type": "code",
   "execution_count": 55,
   "id": "db861339-b918-454a-a76a-ae6acc7806ea",
   "metadata": {},
   "outputs": [
    {
     "data": {
      "text/plain": [
       "[(1, 'name1', 23, 'A'), (5, 'name5', 27, 'A')]"
      ]
     },
     "execution_count": 55,
     "metadata": {},
     "output_type": "execute_result"
    }
   ],
   "source": [
    "cursor.execute(\"SELECT * FROM students WHERE grade = 'A'\")\n",
    "rows = cursor.fetchall()\n",
    "rows"
   ]
  },
  {
   "cell_type": "code",
   "execution_count": 57,
   "id": "da349d94-ddf4-4ffe-8992-e82d82efd57a",
   "metadata": {},
   "outputs": [
    {
     "data": {
      "text/plain": [
       "[('course1', 'abc'), ('course2', 'xyz'), ('course3', 'pqr')]"
      ]
     },
     "execution_count": 57,
     "metadata": {},
     "output_type": "execute_result"
    }
   ],
   "source": [
    "cursor.execute(\"SELECT c_name, instructor FROM courses ORDER BY c_name\")\n",
    "rows = cursor.fetchall()\n",
    "rows\n"
   ]
  },
  {
   "cell_type": "code",
   "execution_count": 61,
   "id": "2df32fd5-6bf8-4295-a231-c8051c51dad3",
   "metadata": {},
   "outputs": [
    {
     "data": {
      "text/plain": [
       "[(1, 'Mayur', 24, 'A')]"
      ]
     },
     "execution_count": 61,
     "metadata": {},
     "output_type": "execute_result"
    }
   ],
   "source": [
    "cursor.execute(\"UPDATE students SET name = 'Mayur', age = 24 WHERE id = 1\")\n",
    "cursor.execute(\"SELECT * FROM students WHERE id = 1\")\n",
    "row = cursor.fetchall()\n",
    "row"
   ]
  },
  {
   "cell_type": "code",
   "execution_count": 67,
   "id": "f723623c-ce87-43f9-8556-e8c3e0368d81",
   "metadata": {},
   "outputs": [
    {
     "data": {
      "text/plain": [
       "[(1, 'course1', 'abc'), (2, 'course2', 'Sam'), (3, 'course3', 'pqr')]"
      ]
     },
     "execution_count": 67,
     "metadata": {},
     "output_type": "execute_result"
    }
   ],
   "source": [
    "cursor.execute(\"UPDATE courses SET instructor='Sam' WHERE c_id=2\")\n",
    "cursor.execute(\"SELECT * FROM courses\")\n",
    "row = cursor.fetchall()\n",
    "row"
   ]
  },
  {
   "cell_type": "code",
   "execution_count": 69,
   "id": "2e3656eb-1a17-44fa-ade3-88cc34d3a742",
   "metadata": {},
   "outputs": [
    {
     "data": {
      "text/plain": [
       "[(1, 'Mayur', 24, 'A'),\n",
       " (2, 'name2', 24, 'B'),\n",
       " (4, 'name4', 26, 'B'),\n",
       " (5, 'name5', 27, 'A')]"
      ]
     },
     "execution_count": 69,
     "metadata": {},
     "output_type": "execute_result"
    }
   ],
   "source": [
    "cursor.execute(\"DELETE FROM students WHERE id = 3\")\n",
    "cursor.execute(\"SELECT * FROM students\")\n",
    "cursor.fetchall()"
   ]
  },
  {
   "cell_type": "code",
   "execution_count": 71,
   "id": "34680d7a-93fc-4b3f-9b6e-59cca3d3cffe",
   "metadata": {},
   "outputs": [
    {
     "data": {
      "text/plain": [
       "<sqlite3.Cursor at 0x1e50a35a2c0>"
      ]
     },
     "execution_count": 71,
     "metadata": {},
     "output_type": "execute_result"
    }
   ],
   "source": [
    "cursor.execute(\"DROP TABLE IF EXISTS courses\")\n",
    "cursor.execute(\"DROP TABLE IF EXISTS students\")"
   ]
  },
  {
   "cell_type": "code",
   "execution_count": null,
   "id": "168dcea7-2469-44cb-9e1a-ea905f4162eb",
   "metadata": {},
   "outputs": [],
   "source": []
  },
  {
   "cell_type": "markdown",
   "id": "86ffa3c6-c560-4e6d-bee8-f69350c8bb47",
   "metadata": {},
   "source": [
    "# SESSION MAKER"
   ]
  },
  {
   "cell_type": "code",
   "execution_count": 14,
   "id": "b08375e7-7bda-4f13-973b-e778558819bf",
   "metadata": {},
   "outputs": [
    {
     "name": "stdout",
     "output_type": "stream",
     "text": [
      "File was not there\n",
      "C:\\Users\\DAI.STUDENTSDC\\Desktop\\DAC 2024\\Day12\\employees.db\n"
     ]
    }
   ],
   "source": [
    "import os \n",
    "filename = \"employees.db\"\n",
    "current_directory = os.getcwd()\n",
    "file_path = os.path.join(current_directory, filename)\n",
    "\n",
    "if os.path.exists(file_path):\n",
    "    try: \n",
    "        os.remove(file_path)\n",
    "        print(f\"file got deleted\")\n",
    "    except Exception as error:\n",
    "        print(f\"An error {error} occured while deleting the file\")\n",
    "else: \n",
    "    print(\"File was not there\")\n",
    "print(f\"{file_path}\")"
   ]
  },
  {
   "cell_type": "code",
   "execution_count": 30,
   "id": "62220c03-edce-4af9-b4d0-072f9ef8e081",
   "metadata": {},
   "outputs": [],
   "source": [
    "from sqlalchemy import create_engine, Column, Integer, String, Float\n",
    "# from sqlalchemy.ext.declarative import declarative_base\n",
    "from sqlalchemy.orm import declarative_base\n",
    "from sqlalchemy.orm import sessionmaker\n",
    "import pandas as pd\n"
   ]
  },
  {
   "cell_type": "code",
   "execution_count": 32,
   "id": "b24ba8e3-6541-4af7-b67e-7407eb45f96a",
   "metadata": {},
   "outputs": [],
   "source": [
    "engine = create_engine('sqlite:///employees.db', echo = True)\n",
    "Base = declarative_base()\n",
    "\n"
   ]
  },
  {
   "cell_type": "code",
   "execution_count": 36,
   "id": "9ca3b75a-d84d-4ebc-ad2a-120c66694253",
   "metadata": {},
   "outputs": [
    {
     "name": "stderr",
     "output_type": "stream",
     "text": [
      "C:\\Users\\DAI.STUDENTSDC\\AppData\\Local\\Temp\\ipykernel_16156\\2419380684.py:1: SAWarning: This declarative base already contains a class with the same class name and module name as __main__.Employee, and will be replaced in the string-lookup table.\n",
      "  class Employee(Base):\n"
     ]
    },
    {
     "ename": "InvalidRequestError",
     "evalue": "Table 'employees' is already defined for this MetaData instance.  Specify 'extend_existing=True' to redefine options and columns on an existing Table object.",
     "output_type": "error",
     "traceback": [
      "\u001b[1;31m---------------------------------------------------------------------------\u001b[0m",
      "\u001b[1;31mInvalidRequestError\u001b[0m                       Traceback (most recent call last)",
      "Cell \u001b[1;32mIn[36], line 1\u001b[0m\n\u001b[1;32m----> 1\u001b[0m \u001b[38;5;28;01mclass\u001b[39;00m \u001b[38;5;21;01mEmployee\u001b[39;00m(Base):\n\u001b[0;32m      2\u001b[0m     __tablename__ \u001b[38;5;241m=\u001b[39m \u001b[38;5;124m'\u001b[39m\u001b[38;5;124memployees\u001b[39m\u001b[38;5;124m'\u001b[39m\n\u001b[0;32m      3\u001b[0m     employee_id \u001b[38;5;241m=\u001b[39m Column(Integer, primary_key \u001b[38;5;241m=\u001b[39m \u001b[38;5;28;01mTrue\u001b[39;00m)\n",
      "File \u001b[1;32m~\\AppData\\Local\\anaconda3\\Lib\\site-packages\\sqlalchemy\\orm\\decl_api.py:196\u001b[0m, in \u001b[0;36mDeclarativeMeta.__init__\u001b[1;34m(cls, classname, bases, dict_, **kw)\u001b[0m\n\u001b[0;32m    193\u001b[0m         \u001b[38;5;28mcls\u001b[39m\u001b[38;5;241m.\u001b[39m_sa_registry \u001b[38;5;241m=\u001b[39m reg\n\u001b[0;32m    195\u001b[0m \u001b[38;5;28;01mif\u001b[39;00m \u001b[38;5;129;01mnot\u001b[39;00m \u001b[38;5;28mcls\u001b[39m\u001b[38;5;241m.\u001b[39m\u001b[38;5;18m__dict__\u001b[39m\u001b[38;5;241m.\u001b[39mget(\u001b[38;5;124m\"\u001b[39m\u001b[38;5;124m__abstract__\u001b[39m\u001b[38;5;124m\"\u001b[39m, \u001b[38;5;28;01mFalse\u001b[39;00m):\n\u001b[1;32m--> 196\u001b[0m     _as_declarative(reg, \u001b[38;5;28mcls\u001b[39m, dict_)\n\u001b[0;32m    197\u001b[0m \u001b[38;5;28mtype\u001b[39m\u001b[38;5;241m.\u001b[39m\u001b[38;5;21m__init__\u001b[39m(\u001b[38;5;28mcls\u001b[39m, classname, bases, dict_)\n",
      "File \u001b[1;32m~\\AppData\\Local\\anaconda3\\Lib\\site-packages\\sqlalchemy\\orm\\decl_base.py:244\u001b[0m, in \u001b[0;36m_as_declarative\u001b[1;34m(registry, cls, dict_)\u001b[0m\n\u001b[0;32m    239\u001b[0m \u001b[38;5;28;01mdef\u001b[39;00m \u001b[38;5;21m_as_declarative\u001b[39m(\n\u001b[0;32m    240\u001b[0m     registry: _RegistryType, \u001b[38;5;28mcls\u001b[39m: Type[Any], dict_: _ClassDict\n\u001b[0;32m    241\u001b[0m ) \u001b[38;5;241m-\u001b[39m\u001b[38;5;241m>\u001b[39m Optional[_MapperConfig]:\n\u001b[0;32m    242\u001b[0m     \u001b[38;5;66;03m# declarative scans the class for attributes.  no table or mapper\u001b[39;00m\n\u001b[0;32m    243\u001b[0m     \u001b[38;5;66;03m# args passed separately.\u001b[39;00m\n\u001b[1;32m--> 244\u001b[0m     \u001b[38;5;28;01mreturn\u001b[39;00m _MapperConfig\u001b[38;5;241m.\u001b[39msetup_mapping(registry, \u001b[38;5;28mcls\u001b[39m, dict_, \u001b[38;5;28;01mNone\u001b[39;00m, {})\n",
      "File \u001b[1;32m~\\AppData\\Local\\anaconda3\\Lib\\site-packages\\sqlalchemy\\orm\\decl_base.py:325\u001b[0m, in \u001b[0;36m_MapperConfig.setup_mapping\u001b[1;34m(cls, registry, cls_, dict_, table, mapper_kw)\u001b[0m\n\u001b[0;32m    321\u001b[0m     \u001b[38;5;28;01mreturn\u001b[39;00m _DeferredMapperConfig(\n\u001b[0;32m    322\u001b[0m         registry, cls_, dict_, table, mapper_kw\n\u001b[0;32m    323\u001b[0m     )\n\u001b[0;32m    324\u001b[0m \u001b[38;5;28;01melse\u001b[39;00m:\n\u001b[1;32m--> 325\u001b[0m     \u001b[38;5;28;01mreturn\u001b[39;00m _ClassScanMapperConfig(\n\u001b[0;32m    326\u001b[0m         registry, cls_, dict_, table, mapper_kw\n\u001b[0;32m    327\u001b[0m     )\n",
      "File \u001b[1;32m~\\AppData\\Local\\anaconda3\\Lib\\site-packages\\sqlalchemy\\orm\\decl_base.py:575\u001b[0m, in \u001b[0;36m_ClassScanMapperConfig.__init__\u001b[1;34m(self, registry, cls_, dict_, table, mapper_kw)\u001b[0m\n\u001b[0;32m    571\u001b[0m \u001b[38;5;28mself\u001b[39m\u001b[38;5;241m.\u001b[39m_extract_mappable_attributes()\n\u001b[0;32m    573\u001b[0m \u001b[38;5;28mself\u001b[39m\u001b[38;5;241m.\u001b[39m_extract_declared_columns()\n\u001b[1;32m--> 575\u001b[0m \u001b[38;5;28mself\u001b[39m\u001b[38;5;241m.\u001b[39m_setup_table(table)\n\u001b[0;32m    577\u001b[0m \u001b[38;5;28mself\u001b[39m\u001b[38;5;241m.\u001b[39m_setup_inheriting_columns(mapper_kw)\n\u001b[0;32m    579\u001b[0m \u001b[38;5;28mself\u001b[39m\u001b[38;5;241m.\u001b[39m_early_mapping(mapper_kw)\n",
      "File \u001b[1;32m~\\AppData\\Local\\anaconda3\\Lib\\site-packages\\sqlalchemy\\orm\\decl_base.py:1726\u001b[0m, in \u001b[0;36m_ClassScanMapperConfig._setup_table\u001b[1;34m(self, table)\u001b[0m\n\u001b[0;32m   1718\u001b[0m             table_kw[\u001b[38;5;124m\"\u001b[39m\u001b[38;5;124mautoload\u001b[39m\u001b[38;5;124m\"\u001b[39m] \u001b[38;5;241m=\u001b[39m \u001b[38;5;28;01mTrue\u001b[39;00m\n\u001b[0;32m   1720\u001b[0m         sorted_columns \u001b[38;5;241m=\u001b[39m \u001b[38;5;28msorted\u001b[39m(\n\u001b[0;32m   1721\u001b[0m             declared_columns,\n\u001b[0;32m   1722\u001b[0m             key\u001b[38;5;241m=\u001b[39m\u001b[38;5;28;01mlambda\u001b[39;00m c: column_ordering\u001b[38;5;241m.\u001b[39mget(c, \u001b[38;5;241m0\u001b[39m),\n\u001b[0;32m   1723\u001b[0m         )\n\u001b[0;32m   1724\u001b[0m         table \u001b[38;5;241m=\u001b[39m \u001b[38;5;28mself\u001b[39m\u001b[38;5;241m.\u001b[39mset_cls_attribute(\n\u001b[0;32m   1725\u001b[0m             \u001b[38;5;124m\"\u001b[39m\u001b[38;5;124m__table__\u001b[39m\u001b[38;5;124m\"\u001b[39m,\n\u001b[1;32m-> 1726\u001b[0m             table_cls(\n\u001b[0;32m   1727\u001b[0m                 tablename,\n\u001b[0;32m   1728\u001b[0m                 \u001b[38;5;28mself\u001b[39m\u001b[38;5;241m.\u001b[39m_metadata_for_cls(manager),\n\u001b[0;32m   1729\u001b[0m                 \u001b[38;5;241m*\u001b[39msorted_columns,\n\u001b[0;32m   1730\u001b[0m                 \u001b[38;5;241m*\u001b[39margs,\n\u001b[0;32m   1731\u001b[0m                 \u001b[38;5;241m*\u001b[39m\u001b[38;5;241m*\u001b[39mtable_kw,\n\u001b[0;32m   1732\u001b[0m             ),\n\u001b[0;32m   1733\u001b[0m         )\n\u001b[0;32m   1734\u001b[0m \u001b[38;5;28;01melse\u001b[39;00m:\n\u001b[0;32m   1735\u001b[0m     \u001b[38;5;28;01mif\u001b[39;00m table \u001b[38;5;129;01mis\u001b[39;00m \u001b[38;5;28;01mNone\u001b[39;00m:\n",
      "File \u001b[1;32m<string>:2\u001b[0m, in \u001b[0;36m__new__\u001b[1;34m(cls, *args, **kw)\u001b[0m\n",
      "File \u001b[1;32m~\\AppData\\Local\\anaconda3\\Lib\\site-packages\\sqlalchemy\\util\\deprecations.py:281\u001b[0m, in \u001b[0;36mdeprecated_params.<locals>.decorate.<locals>.warned\u001b[1;34m(fn, *args, **kwargs)\u001b[0m\n\u001b[0;32m    274\u001b[0m     \u001b[38;5;28;01mif\u001b[39;00m m \u001b[38;5;129;01min\u001b[39;00m kwargs:\n\u001b[0;32m    275\u001b[0m         _warn_with_version(\n\u001b[0;32m    276\u001b[0m             messages[m],\n\u001b[0;32m    277\u001b[0m             versions[m],\n\u001b[0;32m    278\u001b[0m             version_warnings[m],\n\u001b[0;32m    279\u001b[0m             stacklevel\u001b[38;5;241m=\u001b[39m\u001b[38;5;241m3\u001b[39m,\n\u001b[0;32m    280\u001b[0m         )\n\u001b[1;32m--> 281\u001b[0m \u001b[38;5;28;01mreturn\u001b[39;00m fn(\u001b[38;5;241m*\u001b[39margs, \u001b[38;5;241m*\u001b[39m\u001b[38;5;241m*\u001b[39mkwargs)\n",
      "File \u001b[1;32m~\\AppData\\Local\\anaconda3\\Lib\\site-packages\\sqlalchemy\\sql\\schema.py:431\u001b[0m, in \u001b[0;36mTable.__new__\u001b[1;34m(cls, *args, **kw)\u001b[0m\n\u001b[0;32m    424\u001b[0m \u001b[38;5;129m@util\u001b[39m\u001b[38;5;241m.\u001b[39mdeprecated_params(\n\u001b[0;32m    425\u001b[0m     mustexist\u001b[38;5;241m=\u001b[39m(\n\u001b[0;32m    426\u001b[0m         \u001b[38;5;124m\"\u001b[39m\u001b[38;5;124m1.4\u001b[39m\u001b[38;5;124m\"\u001b[39m,\n\u001b[1;32m   (...)\u001b[0m\n\u001b[0;32m    429\u001b[0m )\n\u001b[0;32m    430\u001b[0m \u001b[38;5;28;01mdef\u001b[39;00m \u001b[38;5;21m__new__\u001b[39m(\u001b[38;5;28mcls\u001b[39m, \u001b[38;5;241m*\u001b[39margs: Any, \u001b[38;5;241m*\u001b[39m\u001b[38;5;241m*\u001b[39mkw: Any) \u001b[38;5;241m-\u001b[39m\u001b[38;5;241m>\u001b[39m Any:\n\u001b[1;32m--> 431\u001b[0m     \u001b[38;5;28;01mreturn\u001b[39;00m \u001b[38;5;28mcls\u001b[39m\u001b[38;5;241m.\u001b[39m_new(\u001b[38;5;241m*\u001b[39margs, \u001b[38;5;241m*\u001b[39m\u001b[38;5;241m*\u001b[39mkw)\n",
      "File \u001b[1;32m~\\AppData\\Local\\anaconda3\\Lib\\site-packages\\sqlalchemy\\sql\\schema.py:463\u001b[0m, in \u001b[0;36mTable._new\u001b[1;34m(cls, *args, **kw)\u001b[0m\n\u001b[0;32m    461\u001b[0m \u001b[38;5;28;01mif\u001b[39;00m key \u001b[38;5;129;01min\u001b[39;00m metadata\u001b[38;5;241m.\u001b[39mtables:\n\u001b[0;32m    462\u001b[0m     \u001b[38;5;28;01mif\u001b[39;00m \u001b[38;5;129;01mnot\u001b[39;00m keep_existing \u001b[38;5;129;01mand\u001b[39;00m \u001b[38;5;129;01mnot\u001b[39;00m extend_existing \u001b[38;5;129;01mand\u001b[39;00m \u001b[38;5;28mbool\u001b[39m(args):\n\u001b[1;32m--> 463\u001b[0m         \u001b[38;5;28;01mraise\u001b[39;00m exc\u001b[38;5;241m.\u001b[39mInvalidRequestError(\n\u001b[0;32m    464\u001b[0m             \u001b[38;5;124mf\u001b[39m\u001b[38;5;124m\"\u001b[39m\u001b[38;5;124mTable \u001b[39m\u001b[38;5;124m'\u001b[39m\u001b[38;5;132;01m{\u001b[39;00mkey\u001b[38;5;132;01m}\u001b[39;00m\u001b[38;5;124m'\u001b[39m\u001b[38;5;124m is already defined for this MetaData \u001b[39m\u001b[38;5;124m\"\u001b[39m\n\u001b[0;32m    465\u001b[0m             \u001b[38;5;124m\"\u001b[39m\u001b[38;5;124minstance.  Specify \u001b[39m\u001b[38;5;124m'\u001b[39m\u001b[38;5;124mextend_existing=True\u001b[39m\u001b[38;5;124m'\u001b[39m\u001b[38;5;124m \u001b[39m\u001b[38;5;124m\"\u001b[39m\n\u001b[0;32m    466\u001b[0m             \u001b[38;5;124m\"\u001b[39m\u001b[38;5;124mto redefine \u001b[39m\u001b[38;5;124m\"\u001b[39m\n\u001b[0;32m    467\u001b[0m             \u001b[38;5;124m\"\u001b[39m\u001b[38;5;124moptions and columns on an \u001b[39m\u001b[38;5;124m\"\u001b[39m\n\u001b[0;32m    468\u001b[0m             \u001b[38;5;124m\"\u001b[39m\u001b[38;5;124mexisting Table object.\u001b[39m\u001b[38;5;124m\"\u001b[39m\n\u001b[0;32m    469\u001b[0m         )\n\u001b[0;32m    470\u001b[0m     table \u001b[38;5;241m=\u001b[39m metadata\u001b[38;5;241m.\u001b[39mtables[key]\n\u001b[0;32m    471\u001b[0m     \u001b[38;5;28;01mif\u001b[39;00m extend_existing:\n",
      "\u001b[1;31mInvalidRequestError\u001b[0m: Table 'employees' is already defined for this MetaData instance.  Specify 'extend_existing=True' to redefine options and columns on an existing Table object."
     ]
    }
   ],
   "source": [
    "class Employee(Base):\n",
    "    __tablename__ = 'employees'\n",
    "    employee_id = Column(Integer, primary_key = True)\n",
    "    name = Column(String, nullable= False)\n",
    "    position = Column(String, nullable = False)\n",
    "    salary = Column(Float, nullable = False)"
   ]
  },
  {
   "cell_type": "code",
   "execution_count": 38,
   "id": "986dd33d-fa0b-4a4b-96eb-5910363147a3",
   "metadata": {},
   "outputs": [],
   "source": [
    "def create_table():\n",
    "    Base.metadata.create_all(engine)\n",
    "    print(\"Table 'employees' created successfully.\")\n",
    "\n",
    "def insert_sample_data():\n",
    "    Session = sessionmaker(bind = engine)\n",
    "    session = Session()\n",
    "\n",
    "    employees = [\n",
    "        Employee(name = \"Mayura\", position = 'Engineer', salary = 70000),\n",
    "        Employee(name = \"Mayuresh\", position = 'Manager', salary = 85000),\n",
    "        Employee(name = \"Sughandha\", position = 'Tech', salary = 50000),\n",
    "        Employee(name = \"Srujan\", position = 'Analyst', salary = 65000),            \n",
    "    ]\n",
    "\n",
    "    session.add_all(employees)\n",
    "    session.commit()\n",
    "    session.close()\n",
    "    print(\"Sample data inserted successfully.\")\n",
    "def read_data():\n",
    "    df = pd.read_sql('employees', con = engine)\n",
    "    return df\n",
    "\n",
    "def update_salary(df, employee_id, new_salary):\n",
    "    df.loc[df['employee_id'] == employee_id, 'salary'] = new_salary\n",
    "    return df\n",
    "def write_data(df):\n",
    "    df.to_sql('employees', con = engine, if_exists = 'replace', index = False)\n",
    "    print(\"Updated data written back to the database.\")\n",
    "\n",
    "def main():\n",
    "    create_table()\n",
    "    insert_sample_data()\n",
    "\n",
    "    df = read_data()\n",
    "    print(\"Original DataFrame: \")\n",
    "    print(df)\n",
    "\n",
    "    df= update_salary(df, employee_id = 2, new_salary = 50000)\n",
    "    print(\"\\n Updated DataFrame: \")\n",
    "    print(df)\n",
    "\n",
    "    write_data(df)\n",
    "\n",
    "    print(\"\\nData updated in the database\")\n",
    "    df = read_data()\n",
    "    print(\"Updated DataFrame\")\n",
    "    print(df)\n",
    "    \n",
    "    "
   ]
  },
  {
   "cell_type": "code",
   "execution_count": 40,
   "id": "fd27de67-9614-42b1-ba8a-77e0248ea367",
   "metadata": {},
   "outputs": [
    {
     "name": "stdout",
     "output_type": "stream",
     "text": [
      "2024-09-14 15:50:05,556 INFO sqlalchemy.engine.Engine BEGIN (implicit)\n",
      "2024-09-14 15:50:05,557 INFO sqlalchemy.engine.Engine PRAGMA main.table_info(\"employees\")\n",
      "2024-09-14 15:50:05,559 INFO sqlalchemy.engine.Engine [raw sql] ()\n",
      "2024-09-14 15:50:05,561 INFO sqlalchemy.engine.Engine PRAGMA temp.table_info(\"employees\")\n",
      "2024-09-14 15:50:05,562 INFO sqlalchemy.engine.Engine [raw sql] ()\n",
      "2024-09-14 15:50:05,564 INFO sqlalchemy.engine.Engine \n",
      "CREATE TABLE employees (\n",
      "\temployee_id INTEGER NOT NULL, \n",
      "\tname VARCHAR NOT NULL, \n",
      "\tposition VARCHAR NOT NULL, \n",
      "\tsalary FLOAT NOT NULL, \n",
      "\tPRIMARY KEY (employee_id)\n",
      ")\n",
      "\n",
      "\n",
      "2024-09-14 15:50:05,566 INFO sqlalchemy.engine.Engine [no key 0.00151s] ()\n",
      "2024-09-14 15:50:05,570 INFO sqlalchemy.engine.Engine COMMIT\n",
      "Table 'employees' created successfully.\n",
      "2024-09-14 15:50:05,574 INFO sqlalchemy.engine.Engine BEGIN (implicit)\n",
      "2024-09-14 15:50:05,578 INFO sqlalchemy.engine.Engine INSERT INTO employees (name, position, salary) VALUES (?, ?, ?) RETURNING employee_id\n",
      "2024-09-14 15:50:05,579 INFO sqlalchemy.engine.Engine [generated in 0.00022s (insertmanyvalues) 1/4 (ordered; batch not supported)] ('Mayura', 'Engineer', 70000.0)\n",
      "2024-09-14 15:50:05,581 INFO sqlalchemy.engine.Engine INSERT INTO employees (name, position, salary) VALUES (?, ?, ?) RETURNING employee_id\n",
      "2024-09-14 15:50:05,582 INFO sqlalchemy.engine.Engine [insertmanyvalues 2/4 (ordered; batch not supported)] ('Mayuresh', 'Manager', 85000.0)\n",
      "2024-09-14 15:50:05,584 INFO sqlalchemy.engine.Engine INSERT INTO employees (name, position, salary) VALUES (?, ?, ?) RETURNING employee_id\n",
      "2024-09-14 15:50:05,585 INFO sqlalchemy.engine.Engine [insertmanyvalues 3/4 (ordered; batch not supported)] ('Sughandha', 'Tech', 50000.0)\n",
      "2024-09-14 15:50:05,586 INFO sqlalchemy.engine.Engine INSERT INTO employees (name, position, salary) VALUES (?, ?, ?) RETURNING employee_id\n",
      "2024-09-14 15:50:05,587 INFO sqlalchemy.engine.Engine [insertmanyvalues 4/4 (ordered; batch not supported)] ('Srujan', 'Analyst', 65000.0)\n",
      "2024-09-14 15:50:05,590 INFO sqlalchemy.engine.Engine COMMIT\n",
      "Sample data inserted successfully.\n",
      "2024-09-14 15:50:05,593 INFO sqlalchemy.engine.Engine BEGIN (implicit)\n",
      "2024-09-14 15:50:05,594 INFO sqlalchemy.engine.Engine PRAGMA main.table_info(\"employees\")\n",
      "2024-09-14 15:50:05,595 INFO sqlalchemy.engine.Engine [raw sql] ()\n",
      "2024-09-14 15:50:05,597 INFO sqlalchemy.engine.Engine SELECT name FROM sqlite_master WHERE type='table' AND name NOT LIKE 'sqlite~_%' ESCAPE '~' ORDER BY name\n",
      "2024-09-14 15:50:05,598 INFO sqlalchemy.engine.Engine [raw sql] ()\n",
      "2024-09-14 15:50:05,599 INFO sqlalchemy.engine.Engine SELECT name FROM sqlite_master WHERE type='view' AND name NOT LIKE 'sqlite~_%' ESCAPE '~' ORDER BY name\n",
      "2024-09-14 15:50:05,600 INFO sqlalchemy.engine.Engine [raw sql] ()\n",
      "2024-09-14 15:50:05,602 INFO sqlalchemy.engine.Engine PRAGMA main.table_xinfo(\"employees\")\n",
      "2024-09-14 15:50:05,603 INFO sqlalchemy.engine.Engine [raw sql] ()\n",
      "2024-09-14 15:50:05,605 INFO sqlalchemy.engine.Engine SELECT sql FROM  (SELECT * FROM sqlite_master UNION ALL   SELECT * FROM sqlite_temp_master) WHERE name = ? AND type in ('table', 'view')\n",
      "2024-09-14 15:50:05,606 INFO sqlalchemy.engine.Engine [raw sql] ('employees',)\n",
      "2024-09-14 15:50:05,610 INFO sqlalchemy.engine.Engine PRAGMA main.foreign_key_list(\"employees\")\n",
      "2024-09-14 15:50:05,611 INFO sqlalchemy.engine.Engine [raw sql] ()\n",
      "2024-09-14 15:50:05,612 INFO sqlalchemy.engine.Engine PRAGMA temp.foreign_key_list(\"employees\")\n",
      "2024-09-14 15:50:05,613 INFO sqlalchemy.engine.Engine [raw sql] ()\n",
      "2024-09-14 15:50:05,614 INFO sqlalchemy.engine.Engine SELECT sql FROM  (SELECT * FROM sqlite_master UNION ALL   SELECT * FROM sqlite_temp_master) WHERE name = ? AND type in ('table', 'view')\n",
      "2024-09-14 15:50:05,615 INFO sqlalchemy.engine.Engine [raw sql] ('employees',)\n",
      "2024-09-14 15:50:05,621 INFO sqlalchemy.engine.Engine PRAGMA main.index_list(\"employees\")\n",
      "2024-09-14 15:50:05,623 INFO sqlalchemy.engine.Engine [raw sql] ()\n",
      "2024-09-14 15:50:05,626 INFO sqlalchemy.engine.Engine PRAGMA temp.index_list(\"employees\")\n",
      "2024-09-14 15:50:05,627 INFO sqlalchemy.engine.Engine [raw sql] ()\n",
      "2024-09-14 15:50:05,629 INFO sqlalchemy.engine.Engine PRAGMA main.table_info(\"employees\")\n",
      "2024-09-14 15:50:05,630 INFO sqlalchemy.engine.Engine [raw sql] ()\n",
      "2024-09-14 15:50:05,632 INFO sqlalchemy.engine.Engine PRAGMA main.index_list(\"employees\")\n",
      "2024-09-14 15:50:05,633 INFO sqlalchemy.engine.Engine [raw sql] ()\n",
      "2024-09-14 15:50:05,635 INFO sqlalchemy.engine.Engine PRAGMA temp.index_list(\"employees\")\n",
      "2024-09-14 15:50:05,636 INFO sqlalchemy.engine.Engine [raw sql] ()\n",
      "2024-09-14 15:50:05,637 INFO sqlalchemy.engine.Engine PRAGMA main.table_info(\"employees\")\n",
      "2024-09-14 15:50:05,638 INFO sqlalchemy.engine.Engine [raw sql] ()\n",
      "2024-09-14 15:50:05,640 INFO sqlalchemy.engine.Engine SELECT sql FROM  (SELECT * FROM sqlite_master UNION ALL   SELECT * FROM sqlite_temp_master) WHERE name = ? AND type in ('table', 'view')\n",
      "2024-09-14 15:50:05,641 INFO sqlalchemy.engine.Engine [raw sql] ('employees',)\n",
      "2024-09-14 15:50:05,647 INFO sqlalchemy.engine.Engine SELECT employees.employee_id, employees.name, employees.position, employees.salary \n",
      "FROM employees\n",
      "2024-09-14 15:50:05,648 INFO sqlalchemy.engine.Engine [generated in 0.00107s] ()\n",
      "2024-09-14 15:50:05,657 INFO sqlalchemy.engine.Engine ROLLBACK\n",
      "Original DataFrame: \n",
      "   employee_id       name  position   salary\n",
      "0            1     Mayura  Engineer  70000.0\n",
      "1            2   Mayuresh   Manager  85000.0\n",
      "2            3  Sughandha      Tech  50000.0\n",
      "3            4     Srujan   Analyst  65000.0\n",
      "\n",
      " Updated DataFrame: \n",
      "   employee_id       name  position   salary\n",
      "0            1     Mayura  Engineer  70000.0\n",
      "1            2   Mayuresh   Manager  50000.0\n",
      "2            3  Sughandha      Tech  50000.0\n",
      "3            4     Srujan   Analyst  65000.0\n",
      "2024-09-14 15:50:05,667 INFO sqlalchemy.engine.Engine BEGIN (implicit)\n",
      "2024-09-14 15:50:05,671 INFO sqlalchemy.engine.Engine PRAGMA main.table_info(\"employees\")\n",
      "2024-09-14 15:50:05,674 INFO sqlalchemy.engine.Engine [raw sql] ()\n",
      "2024-09-14 15:50:05,675 INFO sqlalchemy.engine.Engine PRAGMA main.table_info(\"employees\")\n",
      "2024-09-14 15:50:05,676 INFO sqlalchemy.engine.Engine [raw sql] ()\n",
      "2024-09-14 15:50:05,679 INFO sqlalchemy.engine.Engine SELECT name FROM sqlite_master WHERE type='table' AND name NOT LIKE 'sqlite~_%' ESCAPE '~' ORDER BY name\n",
      "2024-09-14 15:50:05,680 INFO sqlalchemy.engine.Engine [raw sql] ()\n",
      "2024-09-14 15:50:05,681 INFO sqlalchemy.engine.Engine SELECT name FROM sqlite_master WHERE type='view' AND name NOT LIKE 'sqlite~_%' ESCAPE '~' ORDER BY name\n",
      "2024-09-14 15:50:05,682 INFO sqlalchemy.engine.Engine [raw sql] ()\n",
      "2024-09-14 15:50:05,684 INFO sqlalchemy.engine.Engine PRAGMA main.table_xinfo(\"employees\")\n",
      "2024-09-14 15:50:05,685 INFO sqlalchemy.engine.Engine [raw sql] ()\n",
      "2024-09-14 15:50:05,687 INFO sqlalchemy.engine.Engine SELECT sql FROM  (SELECT * FROM sqlite_master UNION ALL   SELECT * FROM sqlite_temp_master) WHERE name = ? AND type in ('table', 'view')\n",
      "2024-09-14 15:50:05,688 INFO sqlalchemy.engine.Engine [raw sql] ('employees',)\n",
      "2024-09-14 15:50:05,690 INFO sqlalchemy.engine.Engine PRAGMA main.foreign_key_list(\"employees\")\n",
      "2024-09-14 15:50:05,691 INFO sqlalchemy.engine.Engine [raw sql] ()\n",
      "2024-09-14 15:50:05,692 INFO sqlalchemy.engine.Engine PRAGMA temp.foreign_key_list(\"employees\")\n",
      "2024-09-14 15:50:05,693 INFO sqlalchemy.engine.Engine [raw sql] ()\n",
      "2024-09-14 15:50:05,693 INFO sqlalchemy.engine.Engine SELECT sql FROM  (SELECT * FROM sqlite_master UNION ALL   SELECT * FROM sqlite_temp_master) WHERE name = ? AND type in ('table', 'view')\n",
      "2024-09-14 15:50:05,695 INFO sqlalchemy.engine.Engine [raw sql] ('employees',)\n",
      "2024-09-14 15:50:05,697 INFO sqlalchemy.engine.Engine PRAGMA main.index_list(\"employees\")\n",
      "2024-09-14 15:50:05,698 INFO sqlalchemy.engine.Engine [raw sql] ()\n",
      "2024-09-14 15:50:05,699 INFO sqlalchemy.engine.Engine PRAGMA temp.index_list(\"employees\")\n",
      "2024-09-14 15:50:05,700 INFO sqlalchemy.engine.Engine [raw sql] ()\n",
      "2024-09-14 15:50:05,701 INFO sqlalchemy.engine.Engine PRAGMA main.table_info(\"employees\")\n",
      "2024-09-14 15:50:05,702 INFO sqlalchemy.engine.Engine [raw sql] ()\n",
      "2024-09-14 15:50:05,704 INFO sqlalchemy.engine.Engine PRAGMA main.index_list(\"employees\")\n",
      "2024-09-14 15:50:05,705 INFO sqlalchemy.engine.Engine [raw sql] ()\n",
      "2024-09-14 15:50:05,706 INFO sqlalchemy.engine.Engine PRAGMA temp.index_list(\"employees\")\n",
      "2024-09-14 15:50:05,707 INFO sqlalchemy.engine.Engine [raw sql] ()\n",
      "2024-09-14 15:50:05,708 INFO sqlalchemy.engine.Engine PRAGMA main.table_info(\"employees\")\n",
      "2024-09-14 15:50:05,710 INFO sqlalchemy.engine.Engine [raw sql] ()\n",
      "2024-09-14 15:50:05,712 INFO sqlalchemy.engine.Engine SELECT sql FROM  (SELECT * FROM sqlite_master UNION ALL   SELECT * FROM sqlite_temp_master) WHERE name = ? AND type in ('table', 'view')\n",
      "2024-09-14 15:50:05,713 INFO sqlalchemy.engine.Engine [raw sql] ('employees',)\n",
      "2024-09-14 15:50:05,715 INFO sqlalchemy.engine.Engine \n",
      "DROP TABLE employees\n",
      "2024-09-14 15:50:05,716 INFO sqlalchemy.engine.Engine [no key 0.00078s] ()\n",
      "2024-09-14 15:50:05,720 INFO sqlalchemy.engine.Engine \n",
      "CREATE TABLE employees (\n",
      "\temployee_id BIGINT, \n",
      "\tname TEXT, \n",
      "\tposition TEXT, \n",
      "\tsalary FLOAT\n",
      ")\n",
      "\n",
      "\n",
      "2024-09-14 15:50:05,721 INFO sqlalchemy.engine.Engine [no key 0.00096s] ()\n",
      "2024-09-14 15:50:05,726 INFO sqlalchemy.engine.Engine INSERT INTO employees (employee_id, name, position, salary) VALUES (?, ?, ?, ?)\n",
      "2024-09-14 15:50:05,727 INFO sqlalchemy.engine.Engine [generated in 0.00096s] [(1, 'Mayura', 'Engineer', 70000.0), (2, 'Mayuresh', 'Manager', 50000.0), (3, 'Sughandha', 'Tech', 50000.0), (4, 'Srujan', 'Analyst', 65000.0)]\n",
      "2024-09-14 15:50:05,729 INFO sqlalchemy.engine.Engine COMMIT\n",
      "Updated data written back to the database.\n",
      "\n",
      "Data updated in the database\n",
      "2024-09-14 15:50:05,732 INFO sqlalchemy.engine.Engine BEGIN (implicit)\n",
      "2024-09-14 15:50:05,733 INFO sqlalchemy.engine.Engine PRAGMA main.table_info(\"employees\")\n",
      "2024-09-14 15:50:05,734 INFO sqlalchemy.engine.Engine [raw sql] ()\n",
      "2024-09-14 15:50:05,735 INFO sqlalchemy.engine.Engine SELECT name FROM sqlite_master WHERE type='table' AND name NOT LIKE 'sqlite~_%' ESCAPE '~' ORDER BY name\n",
      "2024-09-14 15:50:05,736 INFO sqlalchemy.engine.Engine [raw sql] ()\n",
      "2024-09-14 15:50:05,737 INFO sqlalchemy.engine.Engine SELECT name FROM sqlite_master WHERE type='view' AND name NOT LIKE 'sqlite~_%' ESCAPE '~' ORDER BY name\n",
      "2024-09-14 15:50:05,738 INFO sqlalchemy.engine.Engine [raw sql] ()\n",
      "2024-09-14 15:50:05,740 INFO sqlalchemy.engine.Engine PRAGMA main.table_xinfo(\"employees\")\n",
      "2024-09-14 15:50:05,741 INFO sqlalchemy.engine.Engine [raw sql] ()\n",
      "2024-09-14 15:50:05,743 INFO sqlalchemy.engine.Engine SELECT sql FROM  (SELECT * FROM sqlite_master UNION ALL   SELECT * FROM sqlite_temp_master) WHERE name = ? AND type in ('table', 'view')\n",
      "2024-09-14 15:50:05,744 INFO sqlalchemy.engine.Engine [raw sql] ('employees',)\n",
      "2024-09-14 15:50:05,745 INFO sqlalchemy.engine.Engine PRAGMA main.foreign_key_list(\"employees\")\n",
      "2024-09-14 15:50:05,746 INFO sqlalchemy.engine.Engine [raw sql] ()\n",
      "2024-09-14 15:50:05,747 INFO sqlalchemy.engine.Engine PRAGMA temp.foreign_key_list(\"employees\")\n",
      "2024-09-14 15:50:05,748 INFO sqlalchemy.engine.Engine [raw sql] ()\n",
      "2024-09-14 15:50:05,749 INFO sqlalchemy.engine.Engine SELECT sql FROM  (SELECT * FROM sqlite_master UNION ALL   SELECT * FROM sqlite_temp_master) WHERE name = ? AND type in ('table', 'view')\n",
      "2024-09-14 15:50:05,750 INFO sqlalchemy.engine.Engine [raw sql] ('employees',)\n",
      "2024-09-14 15:50:05,751 INFO sqlalchemy.engine.Engine PRAGMA main.index_list(\"employees\")\n",
      "2024-09-14 15:50:05,752 INFO sqlalchemy.engine.Engine [raw sql] ()\n",
      "2024-09-14 15:50:05,753 INFO sqlalchemy.engine.Engine PRAGMA temp.index_list(\"employees\")\n",
      "2024-09-14 15:50:05,754 INFO sqlalchemy.engine.Engine [raw sql] ()\n",
      "2024-09-14 15:50:05,755 INFO sqlalchemy.engine.Engine PRAGMA main.table_info(\"employees\")\n",
      "2024-09-14 15:50:05,755 INFO sqlalchemy.engine.Engine [raw sql] ()\n",
      "2024-09-14 15:50:05,757 INFO sqlalchemy.engine.Engine PRAGMA main.index_list(\"employees\")\n",
      "2024-09-14 15:50:05,757 INFO sqlalchemy.engine.Engine [raw sql] ()\n",
      "2024-09-14 15:50:05,758 INFO sqlalchemy.engine.Engine PRAGMA temp.index_list(\"employees\")\n",
      "2024-09-14 15:50:05,759 INFO sqlalchemy.engine.Engine [raw sql] ()\n",
      "2024-09-14 15:50:05,760 INFO sqlalchemy.engine.Engine PRAGMA main.table_info(\"employees\")\n",
      "2024-09-14 15:50:05,760 INFO sqlalchemy.engine.Engine [raw sql] ()\n",
      "2024-09-14 15:50:05,762 INFO sqlalchemy.engine.Engine SELECT sql FROM  (SELECT * FROM sqlite_master UNION ALL   SELECT * FROM sqlite_temp_master) WHERE name = ? AND type in ('table', 'view')\n",
      "2024-09-14 15:50:05,762 INFO sqlalchemy.engine.Engine [raw sql] ('employees',)\n",
      "2024-09-14 15:50:05,765 INFO sqlalchemy.engine.Engine SELECT employees.employee_id, employees.name, employees.position, employees.salary \n",
      "FROM employees\n",
      "2024-09-14 15:50:05,766 INFO sqlalchemy.engine.Engine [generated in 0.00082s] ()\n",
      "2024-09-14 15:50:05,768 INFO sqlalchemy.engine.Engine ROLLBACK\n",
      "Updated DataFrame\n",
      "   employee_id       name  position   salary\n",
      "0            1     Mayura  Engineer  70000.0\n",
      "1            2   Mayuresh   Manager  50000.0\n",
      "2            3  Sughandha      Tech  50000.0\n",
      "3            4     Srujan   Analyst  65000.0\n"
     ]
    }
   ],
   "source": [
    "main()"
   ]
  },
  {
   "cell_type": "code",
   "execution_count": null,
   "id": "e1c0465c-4bad-4bb6-a828-174270ff2b17",
   "metadata": {},
   "outputs": [],
   "source": []
  }
 ],
 "metadata": {
  "kernelspec": {
   "display_name": "Python 3 (ipykernel)",
   "language": "python",
   "name": "python3"
  },
  "language_info": {
   "codemirror_mode": {
    "name": "ipython",
    "version": 3
   },
   "file_extension": ".py",
   "mimetype": "text/x-python",
   "name": "python",
   "nbconvert_exporter": "python",
   "pygments_lexer": "ipython3",
   "version": "3.12.4"
  }
 },
 "nbformat": 4,
 "nbformat_minor": 5
}
