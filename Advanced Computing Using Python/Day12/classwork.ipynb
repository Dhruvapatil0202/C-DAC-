{
 "cells": [
  {
   "cell_type": "code",
   "execution_count": null,
   "id": "7aa9a91c-9a27-40e1-9fa2-2887994a7e55",
   "metadata": {},
   "outputs": [],
   "source": [
    "import sqlite3\n",
    "conn = sqlite3.connect(\"Hands_on_2_student_data.db\")\n",
    "cursor = conn.cursor()\n",
    "\n",
    "cursor.execute(\"DROP TABLE IF EXISTS courses\")\n",
    "cursor.execute(\"DROP TABLE IF EXISTS students\")\n",
    "cursor.execute(\"\"\"\n",
    "CREATE TABLE IF NOT EXISTS students(\n",
    "id INTEGER PRIMARY KEY,\n",
    "name TEXT,\n",
    "age INTEGER,\n",
    "grade TEXT\n",
    ")\n",
    "\"\"\")\n",
    "\n",
    "cursor.execute(\"\"\"\n",
    "CREATE TABLE IF NOT EXISTS courses(\n",
    "c_id INTEGER PRIMARY KEY,\n",
    "c_name TEXT,\n",
    "instructor TEXT\n",
    ")\n",
    "\"\"\")\n",
    "\n",
    "print(\"tables created\")\n",
    "\n",
    "cursor.execute(\"INSERT INTO students (id, name, age, grade) VALUES (?, ?, ?, ?)\", (1, 'name1', 23, 'A'))\n",
    "cursor.execute(\"INSERT INTO students (id, name, age, grade) VALUES (?, ?, ?, ?)\", (2, 'name2', 24, 'B'))\n",
    "cursor.execute(\"INSERT INTO students (id, name, age, grade) VALUES (?, ?, ?, ?)\", (3, 'name3', 25, 'C'))\n",
    "cursor.execute(\"INSERT INTO students (id, name, age, grade) VALUES (?, ?, ?, ?)\", (4, 'name4', 26, 'B'))\n",
    "cursor.execute(\"INSERT INTO students (id, name, age, grade) VALUES (?, ?, ?, ?)\", (5, 'name5', 27, 'A'))\n",
    "\n",
    "cursor.execute(\"INSERT INTO courses (c_id, c_name, instructor) VALUES (?, ?, ?)\", (1, 'course1', 'abc'))\n",
    "cursor.execute(\"INSERT INTO courses (c_id, c_name, instructor) VALUES (?, ?, ?)\", (2, 'course2', 'xyz'))\n",
    "cursor.execute(\"INSERT INTO courses (c_id, c_name, instructor) VALUES (?, ?, ?)\", (3, 'course3', 'pqr'))\n",
    "conn.commit()\n",
    "\n",
    "cursor.execute(\"SELECT * FROM students WHERE grade = 'A'\")\n",
    "rows = cursor.fetchall()\n",
    "\n",
    "\n",
    "cursor.execute(\"SELECT c_name, instructor FROM courses ORDER BY c_name\")\n",
    "rows = cursor.fetchall()\n",
    "\n",
    "\n",
    "\n",
    "cursor.execute(\"UPDATE students SET name = 'Mayur', age = 24 WHERE id = 1\")\n",
    "cursor.execute(\"SELECT * FROM students WHERE id = 1\")\n",
    "row = cursor.fetchall()\n",
    "\n",
    "\n",
    "\n",
    "cursor.execute(\"UPDATE courses SET instructor='Sam' WHERE c_id=2\")\n",
    "cursor.execute(\"SELECT * FROM courses\")\n",
    "row = cursor.fetchall()\n",
    "\n",
    "\n",
    "cursor.execute(\"DELETE FROM students WHERE id = 3\")\n",
    "cursor.execute(\"SELECT * FROM students\")\n",
    "cursor.fetchall()\n",
    "\n",
    "cursor.execute(\"DROP TABLE IF EXISTS courses\")\n",
    "cursor.execute(\"DROP TABLE IF EXISTS students\")"
   ]
  },
  {
   "cell_type": "markdown",
   "id": "2db68ba1-b014-44e5-9442-5ed4de18674a",
   "metadata": {},
   "source": [
    "# HANDS ON"
   ]
  },
  {
   "cell_type": "code",
   "execution_count": null,
   "id": "1cc4c546-6c22-4667-a14c-d53efd6ba50e",
   "metadata": {},
   "outputs": [],
   "source": [
    "import sqlite3\n",
    "\n",
    "# 1. establish a connection to the database\n",
    "conn = sqlite3.connect('company.db')\n",
    "conn.execute(\"PRAGMA foreign_keys = 1\") # enable foreign key support\n",
    "cursor = conn.cursor()\n",
    "conn"
   ]
  },
  {
   "cell_type": "code",
   "execution_count": null,
   "id": "29f0d5ae-a602-4710-b34b-89953accf479",
   "metadata": {},
   "outputs": [],
   "source": [
    "# 2. Create 'departments' table with primary key\n",
    "cursor.execute(\"DROP TABLE IF EXISTS departments\")\n",
    "cursor.execute(\"\"\"\n",
    "CREATE TABLE IF NOT EXISTS departments (department_id INTEGER PRIMARY KEY,\n",
    "department_name TEXT NOT NULL)\n",
    "\"\"\")"
   ]
  },
  {
   "cell_type": "code",
   "execution_count": null,
   "id": "3d1cb34d-4fa2-47df-8bfc-4cd5c60bad9f",
   "metadata": {},
   "outputs": [],
   "source": [
    "# 3. create 'employee' table with primary key and foreign key\n",
    "cursor.execute(\"DROP TABLE IF EXISTS employees\")\n",
    "cursor.execute(\"\"\"\n",
    "CREATE TABLE IF NOT EXISTS employees(\n",
    "employee_id INTEGER PRIMARY KEY,\n",
    "employee_name TEXT NOT NULL,\n",
    "department_id INTEGER,\n",
    "FOREIGN KEY (department_id) REFERENCES departments (department_id))\n",
    "\n",
    "\"\"\")\n"
   ]
  },
  {
   "cell_type": "code",
   "execution_count": null,
   "id": "6ec73e8c-53b8-4555-8158-b8c7d0a673db",
   "metadata": {},
   "outputs": [],
   "source": [
    "# 4. CREATE Indexes\n",
    "cursor.execute(\"CREATE INDEX IF NOT EXISTS  idx_employee_name on employees (employee_name)\")\n",
    "cursor.execute(\"CREATE INDEX IF NOT EXISTS  idx_department_name on departments (department_name)\")\n"
   ]
  },
  {
   "cell_type": "code",
   "execution_count": null,
   "id": "f2762b17-b411-4e08-8fec-aeab43789783",
   "metadata": {},
   "outputs": [],
   "source": [
    "# 5. Insert data into departments\n",
    "cursor.execute(\"INSERT INTO departments (department_name) VALUES ('Human Resources')\")\n",
    "cursor.execute(\"INSERT INTO departments (department_name) VALUES ('Engineering')\")\n",
    "cursor.execute(\"INSERT INTO departments (department_name) VALUES ('Sales')\")\n"
   ]
  },
  {
   "cell_type": "code",
   "execution_count": null,
   "id": "a4037b51-4823-4571-8c81-be4e4df0df05",
   "metadata": {},
   "outputs": [],
   "source": [
    "# 6. Insert data into employees\n",
    "cursor.execute(\"INSERT INTO employees (employee_name, department_id) VALUES ('name1', 1)\")\n",
    "cursor.execute(\"INSERT INTO employees (employee_name, department_id) VALUES ('name2', 2)\")\n",
    "cursor.execute(\"INSERT INTO employees (employee_name, department_id) VALUES ('name3', 1)\")\n",
    "cursor.execute(\"INSERT INTO employees (employee_name, department_id) VALUES ('name4', 4)\")"
   ]
  },
  {
   "cell_type": "code",
   "execution_count": null,
   "id": "9dbf5272-ce25-46ab-bb19-4ce6c2070548",
   "metadata": {},
   "outputs": [],
   "source": [
    "# 7. commit the transaction to save changes \n",
    "conn.commit()\n",
    "print(\"Employees and their departments: \")\n",
    "cursor.execute(\"\"\"\n",
    "SELECT employee_id, employee_name, department_id FROM employees\n",
    "\"\"\")\n",
    "results = cursor.fetchall()\n",
    "for row in results:\n",
    "    print(row)\n",
    "\n"
   ]
  },
  {
   "cell_type": "code",
   "execution_count": null,
   "id": "e702cf36-ad24-409c-afec-9c2fed8ba662",
   "metadata": {},
   "outputs": [],
   "source": [
    "# 8 Query with JOIN to demonstrate foreign key relationship\n",
    "print(\"Employees and their departments:\")\n",
    "cursor.execute(\"\"\"\n",
    "SELECT employees.employee_name, departments.department_name\n",
    "FROM employees\n",
    "JOIN departments ON employees.department_id = departments.department_id\n",
    "\"\"\")\n",
    "print(\"Out of part 8: \\n\")\n",
    "result = cursor.fetchall()\n",
    "for row in results: print(rows)"
   ]
  },
  {
   "cell_type": "code",
   "execution_count": null,
   "id": "233374f9-715f-48c1-96a5-92896360d2ee",
   "metadata": {},
   "outputs": [],
   "source": [
    "import sqlite3\n",
    "\n",
    "\n",
    "# 1. establish a connection to the database\n",
    "conn = sqlite3.connect('company.db')\n",
    "conn.execute(\"PRAGMA foreign_keys = 1\") # enable foreign key support\n",
    "cursor = con.cursor()\n",
    "\n",
    "# 2.\n",
    "\n",
    "\n",
    "# 3. create 'employee' table with primary key and foreign key\n",
    "cursor.execute(\"\"\"\n",
    "CREATE TABLE IF NOT EXISTS employees(\n",
    "employee_id INTEGER PRIMARY KEY,\n",
    "employee_name TEXT NOT NULL,\n",
    ")\n",
    "\"\"\")\n",
    "\n",
    "# 4 \n",
    "\n",
    "# 5 Insert data into 'departments'\n",
    "cursor.execute()\n",
    "\n",
    "# 6\n",
    "\n",
    "# 7\n",
    "\n",
    "# 8 Query with JOIN to demonstrate foreign key relationship\n",
    "print(\"Employees and their departments:\")\n",
    "cursor.execute(\"\"\"\n",
    "SELECT employees.employee_name, departments.department_name\n",
    "FROM employees\n",
    "JOIN departments ON employees.department_id = departments.department_id\n",
    "\"\"\")\n",
    "print(\"Out of part 8: \\n\")\n",
    "result = cursor.fetchall()\n",
    "for row in results: print(rows)\n",
    "    \n",
    "\n",
    "# 9\n",
    "\n",
    "# 10 Closeing the connection and cursor\n",
    "if cursor: cursor.close()\n",
    "if conn: conn.close()\n",
    "\n",
    "\n",
    " \n",
    "    "
   ]
  },
  {
   "cell_type": "code",
   "execution_count": null,
   "id": "29cdde24-8979-4d85-a381-8c8798f93d77",
   "metadata": {},
   "outputs": [],
   "source": []
  },
  {
   "cell_type": "code",
   "execution_count": null,
   "id": "0ed88307-8c67-4568-8b9d-9d845781e25a",
   "metadata": {},
   "outputs": [],
   "source": []
  },
  {
   "cell_type": "code",
   "execution_count": null,
   "id": "78fb1dd7-b14f-482e-b1e1-e27b018c7b37",
   "metadata": {},
   "outputs": [],
   "source": []
  },
  {
   "cell_type": "code",
   "execution_count": null,
   "id": "f00c25c0-b835-4191-9bd1-6db07e36c16d",
   "metadata": {},
   "outputs": [],
   "source": []
  },
  {
   "cell_type": "code",
   "execution_count": null,
   "id": "a8b4c691-c494-4e11-8443-a2d37043a3d6",
   "metadata": {},
   "outputs": [],
   "source": []
  },
  {
   "cell_type": "code",
   "execution_count": null,
   "id": "91658e74-29b0-4e3b-8e59-9037ef487c9a",
   "metadata": {},
   "outputs": [],
   "source": []
  },
  {
   "cell_type": "code",
   "execution_count": null,
   "id": "4ecc2ce3-dc37-4d19-807c-4f48e95abb42",
   "metadata": {},
   "outputs": [],
   "source": []
  },
  {
   "cell_type": "code",
   "execution_count": null,
   "id": "61e9f7fa-dfff-4a75-9648-9d2ae4de51ec",
   "metadata": {},
   "outputs": [],
   "source": []
  },
  {
   "cell_type": "markdown",
   "id": "fa672445-b1d9-4278-a095-54c58fd66e4f",
   "metadata": {},
   "source": [
    "# TEMP HANDS ON"
   ]
  },
  {
   "cell_type": "code",
   "execution_count": 103,
   "id": "206e45fc-5216-4c11-8c0a-e45541513ee1",
   "metadata": {},
   "outputs": [
    {
     "name": "stdout",
     "output_type": "stream",
     "text": [
      "file got deleted\n",
      "C:\\Users\\DAI.STUDENTSDC\\Desktop\\DAC 2024\\Day12\\new_students.db\n"
     ]
    }
   ],
   "source": [
    "import os \n",
    "filename = \"new_students.db\"\n",
    "current_directory = os.getcwd()\n",
    "file_path = os.path.join(current_directory, filename)\n",
    "\n",
    "if os.path.exists(file_path):\n",
    "    try: \n",
    "        os.remove(file_path)\n",
    "        print(f\"file got deleted\")\n",
    "    except Exception as error:\n",
    "        print(f\"An error {error} occured while deleting the file\")\n",
    "else: \n",
    "    print(\"File was not there\")\n",
    "print(f\"{file_path}\")"
   ]
  },
  {
   "cell_type": "code",
   "execution_count": 105,
   "id": "63213259-9e66-4146-9243-a2400e471f8f",
   "metadata": {},
   "outputs": [
    {
     "data": {
      "text/plain": [
       "<sqlite3.Connection at 0x2cdcf01d8a0>"
      ]
     },
     "execution_count": 105,
     "metadata": {},
     "output_type": "execute_result"
    }
   ],
   "source": [
    "import sqlite3\n",
    "\n",
    "# 1. establish a connection to the database\n",
    "conn = sqlite3.connect('new_students.db')\n",
    "conn.execute(\"PRAGMA foreign_keys = 1\") # enable foreign key support\n",
    "cursor = conn.cursor()\n",
    "conn"
   ]
  },
  {
   "cell_type": "code",
   "execution_count": 107,
   "id": "375560c0-9924-4cdc-83ab-e419c60124cc",
   "metadata": {},
   "outputs": [
    {
     "data": {
      "text/plain": [
       "<sqlite3.Cursor at 0x2cdceebf9c0>"
      ]
     },
     "execution_count": 107,
     "metadata": {},
     "output_type": "execute_result"
    }
   ],
   "source": [
    "# 3. Create 'students' table \n",
    "cursor.execute(\"DROP TABLE IF EXISTS students\")\n",
    "cursor.execute(\"\"\"\n",
    "CREATE TABLE IF NOT EXISTS students(\n",
    "student_id INTEGER PRIMARY KEY,\n",
    "student_name TEXT NOT NULL,\n",
    "marks INTEGER,\n",
    "subject_id INTEGER,\n",
    "FOREIGN KEY (subject_id) REFERENCES subjects (subject_id))\n",
    "\n",
    "\"\"\")"
   ]
  },
  {
   "cell_type": "code",
   "execution_count": 109,
   "id": "d32eb0c9-84b1-4880-93fc-a073884d2181",
   "metadata": {},
   "outputs": [
    {
     "data": {
      "text/plain": [
       "<sqlite3.Cursor at 0x2cdceebf9c0>"
      ]
     },
     "execution_count": 109,
     "metadata": {},
     "output_type": "execute_result"
    }
   ],
   "source": [
    "# 2. Create 'subjects' table with primary key\n",
    "cursor.execute(\"DROP TABLE IF EXISTS subjects\")\n",
    "cursor.execute(\"\"\"\n",
    "CREATE TABLE IF NOT EXISTS subjects (\n",
    "subject_id INTEGER PRIMARY KEY,\n",
    "subject_name TEXT NOT NULL)\n",
    "\"\"\")"
   ]
  },
  {
   "cell_type": "code",
   "execution_count": 111,
   "id": "00b490db-c926-4945-8bde-ec1172f4af06",
   "metadata": {},
   "outputs": [],
   "source": [
    "subject_data = [\n",
    "    (1, 'maths'),\n",
    "    (2, 'AI'),\n",
    "    (3, 'Data Analytics')\n",
    "]\n",
    "cursor.executemany(\"\"\"\n",
    "INSERT INTO subjects(subject_id, subject_name) VALUES (?, ?)\n",
    "\"\"\", subject_data)\n",
    "conn.commit()"
   ]
  },
  {
   "cell_type": "code",
   "execution_count": 113,
   "id": "8fc760a4-23d4-4119-9751-a5606c5f71f0",
   "metadata": {},
   "outputs": [],
   "source": [
    "student_data = [\n",
    "    (1, 'abc1', 30, 1),\n",
    "    (2, 'ijk1', 25, 2),\n",
    "    (3, 'abc2', 35, 1),\n",
    "    (4, 'pqr1', 28, 3),\n",
    "    (5, 'ijk2', 22, 2)\n",
    "]\n",
    "cursor.executemany(\"\"\"\n",
    "INSERT INTO students (student_id, student_name, marks, subject_id) VALUES (?, ?, ?, ?)\n",
    "\"\"\", student_data)\n",
    "conn.commit()"
   ]
  },
  {
   "cell_type": "code",
   "execution_count": 115,
   "id": "b6068876-469b-48e5-bed9-b27fc5e279b1",
   "metadata": {},
   "outputs": [
    {
     "data": {
      "text/plain": [
       "[(1, 'maths'), (2, 'AI'), (3, 'Data Analytics')]"
      ]
     },
     "execution_count": 115,
     "metadata": {},
     "output_type": "execute_result"
    }
   ],
   "source": [
    "cursor.execute(\"\"\"\n",
    "SELECT * FROM subjects\n",
    "\"\"\")\n",
    "cursor.fetchall()"
   ]
  },
  {
   "cell_type": "code",
   "execution_count": 117,
   "id": "47d9c778-f276-4580-b7cf-211142f2cc2f",
   "metadata": {},
   "outputs": [
    {
     "data": {
      "text/plain": [
       "[(1, 'abc1', 30, 1),\n",
       " (2, 'ijk1', 25, 2),\n",
       " (3, 'abc2', 35, 1),\n",
       " (4, 'pqr1', 28, 3),\n",
       " (5, 'ijk2', 22, 2)]"
      ]
     },
     "execution_count": 117,
     "metadata": {},
     "output_type": "execute_result"
    }
   ],
   "source": [
    "cursor.execute(\"\"\"\n",
    "SELECT * FROM students\n",
    "\"\"\")\n",
    "cursor.fetchall()"
   ]
  },
  {
   "cell_type": "code",
   "execution_count": 119,
   "id": "9a670235-618d-4009-bdad-17fd48fccddd",
   "metadata": {},
   "outputs": [
    {
     "data": {
      "text/plain": [
       "[('abc1', 'maths', 30),\n",
       " ('ijk1', 'AI', 25),\n",
       " ('abc2', 'maths', 35),\n",
       " ('pqr1', 'Data Analytics', 28),\n",
       " ('ijk2', 'AI', 22)]"
      ]
     },
     "execution_count": 119,
     "metadata": {},
     "output_type": "execute_result"
    }
   ],
   "source": [
    "cursor.execute(\"\"\"\n",
    "SELECT students.student_name, subjects.subject_name, students.marks\n",
    "FROM students JOIN subjects \n",
    "ON students.subject_id = subjects.subject_id\n",
    "\"\"\")\n",
    "cursor.fetchall()"
   ]
  },
  {
   "cell_type": "code",
   "execution_count": 123,
   "id": "7ffe04cc-11ee-4fef-95ac-ef85b41383dd",
   "metadata": {},
   "outputs": [
    {
     "ename": "ProgrammingError",
     "evalue": "Cannot operate on a closed database.",
     "output_type": "error",
     "traceback": [
      "\u001b[1;31m---------------------------------------------------------------------------\u001b[0m",
      "\u001b[1;31mProgrammingError\u001b[0m                          Traceback (most recent call last)",
      "Cell \u001b[1;32mIn[123], line 1\u001b[0m\n\u001b[1;32m----> 1\u001b[0m cursor\u001b[38;5;241m.\u001b[39mclose()\n\u001b[0;32m      2\u001b[0m conn\u001b[38;5;241m.\u001b[39mclose()\n",
      "\u001b[1;31mProgrammingError\u001b[0m: Cannot operate on a closed database."
     ]
    }
   ],
   "source": [
    "cursor.close()\n",
    "conn.close()"
   ]
  },
  {
   "cell_type": "code",
   "execution_count": null,
   "id": "7938f1c8-a47d-4835-a996-5d44c4f84942",
   "metadata": {},
   "outputs": [],
   "source": []
  },
  {
   "cell_type": "markdown",
   "id": "517b97a9-8521-4193-b78d-d2d431514461",
   "metadata": {},
   "source": [
    "# Student database"
   ]
  },
  {
   "cell_type": "code",
   "execution_count": null,
   "id": "faad955a-82af-4997-a00c-5a5da0bf46db",
   "metadata": {},
   "outputs": [],
   "source": []
  },
  {
   "cell_type": "code",
   "execution_count": 17,
   "id": "71ad15f9-647b-4692-9290-a61d0bf98432",
   "metadata": {},
   "outputs": [],
   "source": [
    "from sqlalchemy import create_engine, MetaData, Column, Integer, String, Float, Sequence\n",
    "from sqlalchemy.orm import declarative_base\n",
    "from sqlalchemy.orm import sessionmaker\n",
    "from sqlalchemy import inspect"
   ]
  },
  {
   "cell_type": "code",
   "execution_count": 19,
   "id": "86d8c131-6b4a-49e1-8fcd-f660adc51db5",
   "metadata": {},
   "outputs": [],
   "source": [
    "engine = create_engine('sqlite:///students.db')\n",
    "Base = declarative_base()"
   ]
  },
  {
   "cell_type": "code",
   "execution_count": 21,
   "id": "1a1723bf-7dfd-4f8c-bafa-a09534d3bbf7",
   "metadata": {},
   "outputs": [],
   "source": [
    "class Students(Base):\n",
    "    __tablename__= \"students\"\n",
    "    id = Column(Integer, Sequence('student_id_seq'), primary_key=True)\n",
    "    name = Column(String(50))\n",
    "    subject_id = Column(Integer)\n",
    "    marks = Column(Integer)"
   ]
  },
  {
   "cell_type": "code",
   "execution_count": 23,
   "id": "c9063293-f5da-4b63-8198-bb38cbf5147c",
   "metadata": {},
   "outputs": [],
   "source": [
    "metadata = MetaData()\n",
    "metadata.reflect(bind = engine)\n",
    "Base.metadata.create_all(engine)\n",
    "students = metadata.tables['students']\n",
    "inspector = inspect(engine)\n",
    "columns = inspector.get_columns('students')"
   ]
  },
  {
   "cell_type": "code",
   "execution_count": 25,
   "id": "cf324d87-6a04-4498-b0b0-d43d2ed41829",
   "metadata": {},
   "outputs": [
    {
     "name": "stdout",
     "output_type": "stream",
     "text": [
      "Table of Students: \n",
      "Column: id - - Type: INTEGER\n",
      "Column: name - - Type: VARCHAR(50)\n",
      "Column: subject_id - - Type: INTEGER\n",
      "Column: marks - - Type: INTEGER\n"
     ]
    }
   ],
   "source": [
    "print(\"Table of Students: \")\n",
    "for column in columns:\n",
    "    print(f\"Column: {column['name']} - - Type: {column['type']}\") "
   ]
  },
  {
   "cell_type": "code",
   "execution_count": 37,
   "id": "ac095bd2-23ec-40d6-9d4b-9d2d80163f60",
   "metadata": {},
   "outputs": [],
   "source": [
    "Session = sessionmaker(bind = engine)\n",
    "session = Session()"
   ]
  },
  {
   "cell_type": "code",
   "execution_count": 39,
   "id": "38d9a016-052b-4da4-96c0-1f8090b5383c",
   "metadata": {},
   "outputs": [],
   "source": [
    "students = [\n",
    "    Students(name = 'A', subject_id=4, marks = 45),\n",
    "     Students(name = 'B', subject_id=3, marks = 45),\n",
    "     Students(name = 'C', subject_id=2, marks = 45),\n",
    "     Students(name = 'D', subject_id=1, marks = 45),\n",
    "    \n",
    "]\n",
    "\n",
    "session.add_all(students)\n",
    "session.commit()\n"
   ]
  },
  {
   "cell_type": "code",
   "execution_count": 41,
   "id": "ddece0c4-97a3-4da4-998f-20fae621acb8",
   "metadata": {},
   "outputs": [
    {
     "name": "stdout",
     "output_type": "stream",
     "text": [
      "1: A - 4 - $45\n",
      "2: B - 3 - $45\n",
      "3: C - 2 - $45\n",
      "4: D - 1 - $45\n"
     ]
    }
   ],
   "source": [
    "all_employees = session.query(Students).all()\n",
    "for stud in all_employees:\n",
    "    print(f\"{stud.id}: {stud.name} - {stud.subject_id} - ${stud.marks}\")"
   ]
  },
  {
   "cell_type": "code",
   "execution_count": 43,
   "id": "e24d7a62-ff64-4e0d-ab97-5dc831427e0a",
   "metadata": {},
   "outputs": [],
   "source": [
    "# Update on employees salary\n",
    "students_to_update = session.query(Students).filter_by(name = 'C').first()\n",
    "students_to_update.marks = 75\n",
    "session.commit()"
   ]
  },
  {
   "cell_type": "code",
   "execution_count": 45,
   "id": "8b91a37d-fdf2-4f2d-b69d-3c72468b98ad",
   "metadata": {},
   "outputs": [],
   "source": [
    "# Deleting records\n",
    "student_to_delete = session.query(Students).filter_by(name = \"D\").first()\n",
    "session.delete(student_to_delete)\n",
    "session.commit()"
   ]
  },
  {
   "cell_type": "code",
   "execution_count": 47,
   "id": "ffa00d08-e8be-49b5-9f2d-6b2903477bd3",
   "metadata": {},
   "outputs": [
    {
     "name": "stdout",
     "output_type": "stream",
     "text": [
      "Final records\n",
      "1: A - 4 = $45\n",
      "2: B - 3 = $45\n",
      "3: C - 2 = $75\n"
     ]
    }
   ],
   "source": [
    "# Query the database\n",
    "print(\"Final records\")\n",
    "all_students = session.query(Students).all()\n",
    "for emp in all_students:\n",
    "    print(f\"{emp.id}: {emp.name} - {emp.subject_id} = ${emp.marks}\")"
   ]
  },
  {
   "cell_type": "code",
   "execution_count": null,
   "id": "cb978d5a-da26-4e1f-be1e-325e059ec377",
   "metadata": {},
   "outputs": [],
   "source": []
  },
  {
   "cell_type": "code",
   "execution_count": null,
   "id": "0293b471-dac6-428d-a1e6-0b0d732ffeb9",
   "metadata": {},
   "outputs": [],
   "source": []
  }
 ],
 "metadata": {
  "kernelspec": {
   "display_name": "Python 3 (ipykernel)",
   "language": "python",
   "name": "python3"
  },
  "language_info": {
   "codemirror_mode": {
    "name": "ipython",
    "version": 3
   },
   "file_extension": ".py",
   "mimetype": "text/x-python",
   "name": "python",
   "nbconvert_exporter": "python",
   "pygments_lexer": "ipython3",
   "version": "3.12.4"
  }
 },
 "nbformat": 4,
 "nbformat_minor": 5
}
