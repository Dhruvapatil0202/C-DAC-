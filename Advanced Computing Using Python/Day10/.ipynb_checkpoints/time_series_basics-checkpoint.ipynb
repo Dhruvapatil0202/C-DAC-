{
 "cells": [
  {
   "cell_type": "code",
   "execution_count": 1,
   "id": "9b30cb25-7e9d-46a3-bd3a-47f94aec0ecd",
   "metadata": {},
   "outputs": [],
   "source": [
    "import pandas as pd"
   ]
  },
  {
   "cell_type": "code",
   "execution_count": 17,
   "id": "0880aa60-0981-4e02-9e9d-46a644b33e47",
   "metadata": {},
   "outputs": [
    {
     "data": {
      "text/plain": [
       "DatetimeIndex(['2024-01-07', '2024-01-14', '2024-01-21', '2024-01-28',\n",
       "               '2024-02-04', '2024-02-11', '2024-02-18', '2024-02-25',\n",
       "               '2024-03-03', '2024-03-10', '2024-03-17', '2024-03-24',\n",
       "               '2024-03-31', '2024-04-07', '2024-04-14', '2024-04-21',\n",
       "               '2024-04-28', '2024-05-05', '2024-05-12', '2024-05-19',\n",
       "               '2024-05-26', '2024-06-02', '2024-06-09', '2024-06-16',\n",
       "               '2024-06-23', '2024-06-30', '2024-07-07', '2024-07-14',\n",
       "               '2024-07-21', '2024-07-28', '2024-08-04'],\n",
       "              dtype='datetime64[ns]', freq='W-SUN')"
      ]
     },
     "execution_count": 17,
     "metadata": {},
     "output_type": "execute_result"
    }
   ],
   "source": [
    "dates = pd.date_range(start = '2024-01-01', periods = 31, freq = 'W')\n",
    "\"\"\"\n",
    "freq = 'D' -> Day\n",
    "freq = 'W' -> Week\n",
    "freq = 'M' -> Month\n",
    "freq = 'H' -> Hour\n",
    "\"\"\"\n",
    "dates"
   ]
  },
  {
   "cell_type": "code",
   "execution_count": null,
   "id": "d7e11153-3d91-43f7-a768-fd44b339b7e7",
   "metadata": {},
   "outputs": [],
   "source": []
  }
 ],
 "metadata": {
  "kernelspec": {
   "display_name": "Python 3 (ipykernel)",
   "language": "python",
   "name": "python3"
  },
  "language_info": {
   "codemirror_mode": {
    "name": "ipython",
    "version": 3
   },
   "file_extension": ".py",
   "mimetype": "text/x-python",
   "name": "python",
   "nbconvert_exporter": "python",
   "pygments_lexer": "ipython3",
   "version": "3.12.4"
  }
 },
 "nbformat": 4,
 "nbformat_minor": 5
}
