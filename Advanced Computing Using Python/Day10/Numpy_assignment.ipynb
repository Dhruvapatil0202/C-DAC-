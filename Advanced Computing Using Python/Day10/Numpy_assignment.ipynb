{
 "cells": [
  {
   "cell_type": "code",
   "execution_count": 1,
   "id": "780e616c-4b43-4a4c-8807-6085f6dd3121",
   "metadata": {},
   "outputs": [],
   "source": [
    "import numpy as np\n",
    "import random\n",
    "import math\n",
    "temp = [random.randint(1, 4) for i in range(5)]\n",
    "temp2 = [random.randint(1, 4) for i in range(5)]\n",
    "temp3= [random.randint(1, 4) for i in range(5)]\n",
    "temp4 = [random.randint(1, 4) for i in range(5)]"
   ]
  },
  {
   "cell_type": "code",
   "execution_count": 2,
   "id": "beafcdd9-ddbf-4939-8ced-acc42215ddc3",
   "metadata": {},
   "outputs": [
    {
     "data": {
      "text/plain": [
       "(array([[4, 3, 3, 2, 1],\n",
       "        [2, 4, 3, 2, 2]]),\n",
       " array([[3, 3, 3, 1, 4],\n",
       "        [1, 2, 2, 3, 1]]))"
      ]
     },
     "execution_count": 2,
     "metadata": {},
     "output_type": "execute_result"
    }
   ],
   "source": [
    "arr1 = np.array([temp, temp2])\n",
    "arr2 = np.array([temp3, temp4])\n",
    "arr1, arr2"
   ]
  },
  {
   "cell_type": "code",
   "execution_count": 3,
   "id": "7001e353-4e24-4ff7-8da9-fefa02e1f5d6",
   "metadata": {},
   "outputs": [
    {
     "data": {
      "text/plain": [
       "array([[7, 6, 6, 3, 5],\n",
       "       [3, 6, 5, 5, 3]])"
      ]
     },
     "execution_count": 3,
     "metadata": {},
     "output_type": "execute_result"
    }
   ],
   "source": [
    "arr3 = arr1 + arr2\n",
    "arr3"
   ]
  },
  {
   "cell_type": "code",
   "execution_count": 4,
   "id": "427a1e87-c9b3-46c0-a748-a2517330bdd1",
   "metadata": {},
   "outputs": [
    {
     "data": {
      "text/plain": [
       "array([[12,  9,  9,  2,  4],\n",
       "       [ 2,  8,  6,  6,  2]])"
      ]
     },
     "execution_count": 4,
     "metadata": {},
     "output_type": "execute_result"
    }
   ],
   "source": [
    "arr4 = arr1 * arr2\n",
    "arr4"
   ]
  },
  {
   "cell_type": "code",
   "execution_count": 5,
   "id": "57188cac-e38d-49a3-b810-382c17b01c85",
   "metadata": {},
   "outputs": [
    {
     "data": {
      "text/plain": [
       "array([[ 1,  0,  0,  1, -3],\n",
       "       [ 1,  2,  1, -1,  1]])"
      ]
     },
     "execution_count": 5,
     "metadata": {},
     "output_type": "execute_result"
    }
   ],
   "source": [
    "arr5 = arr1 - arr2\n",
    "arr5"
   ]
  },
  {
   "cell_type": "code",
   "execution_count": 6,
   "id": "e1e23c08-4f49-4722-8865-fe31628987ba",
   "metadata": {},
   "outputs": [
    {
     "data": {
      "text/plain": [
       "array([[64, 27, 27,  2,  1],\n",
       "       [ 2, 16,  9,  8,  2]])"
      ]
     },
     "execution_count": 6,
     "metadata": {},
     "output_type": "execute_result"
    }
   ],
   "source": [
    "arr6 = arr1 ** arr2\n",
    "arr6"
   ]
  },
  {
   "cell_type": "code",
   "execution_count": 7,
   "id": "93c7aaa1-074b-4356-8e94-a565513c70b4",
   "metadata": {},
   "outputs": [
    {
     "data": {
      "text/plain": [
       "array([[54.59815003, 20.08553692, 20.08553692,  7.3890561 ,  2.71828183],\n",
       "       [ 7.3890561 , 54.59815003, 20.08553692,  7.3890561 ,  7.3890561 ]])"
      ]
     },
     "execution_count": 7,
     "metadata": {},
     "output_type": "execute_result"
    }
   ],
   "source": [
    "np.exp(arr1)"
   ]
  },
  {
   "cell_type": "code",
   "execution_count": 15,
   "id": "86b10e21-2558-46be-8adb-35aa090bd2b2",
   "metadata": {},
   "outputs": [
    {
     "data": {
      "text/plain": [
       "array([[20, 19, 11, 23,  5],\n",
       "       [39, 35, 41, 50, 57]])"
      ]
     },
     "execution_count": 15,
     "metadata": {},
     "output_type": "execute_result"
    }
   ],
   "source": [
    "temp = [random.randint(1,5) for i in range(5)]\n",
    "temp2 = [random.randint(10,45) for i in range(5)]\n",
    "temp3= [random.randint(1,20) for i in range(5)]\n",
    "temp4 = [random.randint(11,15) for i in range(5)]\n",
    "\n",
    "arr1 = np.array([temp,temp2])\n",
    "arr2= np.array([temp3,temp4])\n",
    "arr3 = arr1 + arr2\n",
    "arr3"
   ]
  },
  {
   "cell_type": "code",
   "execution_count": 19,
   "id": "470fc9f8-9aaf-45d2-901f-77862d3fa5e7",
   "metadata": {},
   "outputs": [
    {
     "data": {
      "text/plain": [
       "array([[-14, -11,  -5, -13,  -1],\n",
       "       [ 13,   9,  15,  24,  27]])"
      ]
     },
     "execution_count": 19,
     "metadata": {},
     "output_type": "execute_result"
    }
   ],
   "source": [
    "arr4 = arr1 - arr2\n",
    "arr4"
   ]
  },
  {
   "cell_type": "code",
   "execution_count": 21,
   "id": "d4985e71-be2c-42bc-b243-a67cd5122613",
   "metadata": {},
   "outputs": [],
   "source": [
    "arr5 = arr1*arr2"
   ]
  },
  {
   "cell_type": "code",
   "execution_count": null,
   "id": "e6d839d0-3460-4c42-b79e-a15e54059329",
   "metadata": {},
   "outputs": [],
   "source": [
    "arr6 = np"
   ]
  }
 ],
 "metadata": {
  "kernelspec": {
   "display_name": "Python 3 (ipykernel)",
   "language": "python",
   "name": "python3"
  },
  "language_info": {
   "codemirror_mode": {
    "name": "ipython",
    "version": 3
   },
   "file_extension": ".py",
   "mimetype": "text/x-python",
   "name": "python",
   "nbconvert_exporter": "python",
   "pygments_lexer": "ipython3",
   "version": "3.12.4"
  }
 },
 "nbformat": 4,
 "nbformat_minor": 5
}
