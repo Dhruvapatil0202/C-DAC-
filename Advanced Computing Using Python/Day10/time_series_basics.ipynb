{
 "cells": [
  {
   "cell_type": "code",
   "execution_count": 23,
   "id": "9b30cb25-7e9d-46a3-bd3a-47f94aec0ecd",
   "metadata": {},
   "outputs": [],
   "source": [
    "import pandas as pd\n",
    "import numpy as np"
   ]
  },
  {
   "cell_type": "code",
   "execution_count": 29,
   "id": "0880aa60-0981-4e02-9e9d-46a644b33e47",
   "metadata": {},
   "outputs": [
    {
     "data": {
      "text/plain": [
       "DatetimeIndex(['2024-01-01', '2024-01-02', '2024-01-03', '2024-01-04',\n",
       "               '2024-01-05', '2024-01-06', '2024-01-07', '2024-01-08',\n",
       "               '2024-01-09', '2024-01-10'],\n",
       "              dtype='datetime64[ns]', freq='D')"
      ]
     },
     "execution_count": 29,
     "metadata": {},
     "output_type": "execute_result"
    }
   ],
   "source": [
    "dates = pd.date_range(start = '2024-01-01', periods = 10, freq = 'D')\n",
    "\"\"\"\n",
    "freq = 'D' -> Day\n",
    "freq = 'W' -> Week\n",
    "freq = 'M' -> Month\n",
    "freq = 'H' -> Hour\n",
    "\"\"\"\n",
    "dates"
   ]
  },
  {
   "cell_type": "code",
   "execution_count": 25,
   "id": "d7e11153-3d91-43f7-a768-fd44b339b7e7",
   "metadata": {},
   "outputs": [
    {
     "data": {
      "text/plain": [
       "array([ 0.58472977, -0.15827741, -0.48313254, -0.1142027 ,  0.46659452,\n",
       "        0.06892431,  0.57335761, -1.22689937,  1.55068986, -1.81389056])"
      ]
     },
     "execution_count": 25,
     "metadata": {},
     "output_type": "execute_result"
    }
   ],
   "source": [
    "data = np.random.randn(10)\n",
    "data"
   ]
  },
  {
   "cell_type": "code",
   "execution_count": 33,
   "id": "e0876a1c-2b1d-445b-af34-7ee20550905b",
   "metadata": {},
   "outputs": [
    {
     "data": {
      "text/plain": [
       "2024-01-01    0.584730\n",
       "2024-01-02   -0.158277\n",
       "2024-01-03   -0.483133\n",
       "2024-01-04   -0.114203\n",
       "2024-01-05    0.466595\n",
       "2024-01-06    0.068924\n",
       "2024-01-07    0.573358\n",
       "2024-01-08   -1.226899\n",
       "2024-01-09    1.550690\n",
       "2024-01-10   -1.813891\n",
       "Freq: D, dtype: float64"
      ]
     },
     "execution_count": 33,
     "metadata": {},
     "output_type": "execute_result"
    }
   ],
   "source": [
    "time_ser = pd.Series(data, index = dates)\n",
    "time_ser"
   ]
  },
  {
   "cell_type": "code",
   "execution_count": 37,
   "id": "60bbe999-970b-492a-bee2-4fddafb92393",
   "metadata": {},
   "outputs": [
    {
     "data": {
      "text/plain": [
       "0.4665945173183145"
      ]
     },
     "execution_count": 37,
     "metadata": {},
     "output_type": "execute_result"
    }
   ],
   "source": [
    "time_ser['2024-01-05']"
   ]
  },
  {
   "cell_type": "code",
   "execution_count": 41,
   "id": "b82329df-a6e3-4e74-a616-258864546ab4",
   "metadata": {},
   "outputs": [
    {
     "data": {
      "text/plain": [
       "2024-01-01    0.584730\n",
       "2024-01-02   -0.158277\n",
       "2024-01-03   -0.483133\n",
       "2024-01-04   -0.114203\n",
       "2024-01-05    0.466595\n",
       "Freq: D, dtype: float64"
      ]
     },
     "execution_count": 41,
     "metadata": {},
     "output_type": "execute_result"
    }
   ],
   "source": [
    "time_ser['2024-01-01': '2024-01-05']"
   ]
  },
  {
   "cell_type": "code",
   "execution_count": 45,
   "id": "6c790fe2-8992-4806-9887-91a0a6f64c73",
   "metadata": {},
   "outputs": [
    {
     "data": {
      "text/plain": [
       "2024-01-01    0.584730\n",
       "2024-01-05    0.466595\n",
       "2024-01-06    0.068924\n",
       "2024-01-07    0.573358\n",
       "2024-01-09    1.550690\n",
       "dtype: float64"
      ]
     },
     "execution_count": 45,
     "metadata": {},
     "output_type": "execute_result"
    }
   ],
   "source": [
    "time_ser[time_ser > 0]"
   ]
  },
  {
   "cell_type": "code",
   "execution_count": 47,
   "id": "0b9692e1-ee9f-4ad4-bb25-46b321a10446",
   "metadata": {},
   "outputs": [
    {
     "data": {
      "text/plain": [
       "DatetimeIndex(['2024-01-01 00:00:00', '2024-01-01 01:00:00',\n",
       "               '2024-01-01 02:00:00', '2024-01-01 03:00:00',\n",
       "               '2024-01-01 04:00:00', '2024-01-01 05:00:00',\n",
       "               '2024-01-01 06:00:00', '2024-01-01 07:00:00',\n",
       "               '2024-01-01 08:00:00', '2024-01-01 09:00:00',\n",
       "               '2024-01-01 10:00:00', '2024-01-01 11:00:00',\n",
       "               '2024-01-01 12:00:00', '2024-01-01 13:00:00',\n",
       "               '2024-01-01 14:00:00', '2024-01-01 15:00:00',\n",
       "               '2024-01-01 16:00:00', '2024-01-01 17:00:00',\n",
       "               '2024-01-01 18:00:00', '2024-01-01 19:00:00',\n",
       "               '2024-01-01 20:00:00', '2024-01-01 21:00:00',\n",
       "               '2024-01-01 22:00:00', '2024-01-01 23:00:00'],\n",
       "              dtype='datetime64[ns]', freq='h')"
      ]
     },
     "execution_count": 47,
     "metadata": {},
     "output_type": "execute_result"
    }
   ],
   "source": [
    "hr_dates =pd.date_range(start = \"2024-01-01\", periods=  24, freq = 'h')\n",
    "hr_dates"
   ]
  },
  {
   "cell_type": "code",
   "execution_count": 49,
   "id": "d870cacc-c88e-485e-99b0-175b53fa3e4b",
   "metadata": {},
   "outputs": [
    {
     "data": {
      "text/plain": [
       "array([ 6.80564820e-01,  6.48504472e-01,  3.55367584e-01, -4.61700922e-01,\n",
       "       -1.39798369e+00,  2.22782472e+00,  1.68491390e+00,  1.09803184e+00,\n",
       "        5.01132707e-01, -1.12567919e+00, -2.40186168e-01, -1.75608430e-01,\n",
       "       -1.59329563e-03, -6.65032348e-01, -8.58955739e-01,  5.79630313e-01,\n",
       "        7.48520524e-01,  6.22844870e-01, -9.12336464e-01, -1.22422750e+00,\n",
       "        5.54231433e-01,  1.05676695e+00,  2.29067119e-01,  8.07523422e-01])"
      ]
     },
     "execution_count": 49,
     "metadata": {},
     "output_type": "execute_result"
    }
   ],
   "source": [
    "hr_data = np.random.randn(24)\n",
    "hr_data"
   ]
  },
  {
   "cell_type": "code",
   "execution_count": 55,
   "id": "ac655a5e-1916-4b21-b8b1-ed5c3551c070",
   "metadata": {},
   "outputs": [
    {
     "data": {
      "text/plain": [
       "2024-01-01 00:00:00    0.680565\n",
       "2024-01-01 01:00:00    0.648504\n",
       "2024-01-01 02:00:00    0.355368\n",
       "2024-01-01 03:00:00   -0.461701\n",
       "2024-01-01 04:00:00   -1.397984\n",
       "2024-01-01 05:00:00    2.227825\n",
       "2024-01-01 06:00:00    1.684914\n",
       "2024-01-01 07:00:00    1.098032\n",
       "2024-01-01 08:00:00    0.501133\n",
       "2024-01-01 09:00:00   -1.125679\n",
       "2024-01-01 10:00:00   -0.240186\n",
       "2024-01-01 11:00:00   -0.175608\n",
       "2024-01-01 12:00:00   -0.001593\n",
       "2024-01-01 13:00:00   -0.665032\n",
       "2024-01-01 14:00:00   -0.858956\n",
       "2024-01-01 15:00:00    0.579630\n",
       "2024-01-01 16:00:00    0.748521\n",
       "2024-01-01 17:00:00    0.622845\n",
       "2024-01-01 18:00:00   -0.912336\n",
       "2024-01-01 19:00:00   -1.224227\n",
       "2024-01-01 20:00:00    0.554231\n",
       "2024-01-01 21:00:00    1.056767\n",
       "2024-01-01 22:00:00    0.229067\n",
       "2024-01-01 23:00:00    0.807523\n",
       "Freq: h, dtype: float64"
      ]
     },
     "execution_count": 55,
     "metadata": {},
     "output_type": "execute_result"
    }
   ],
   "source": [
    "hr_ser = pd.Series(hr_data, index = hr_dates)\n",
    "hr_ser"
   ]
  },
  {
   "cell_type": "code",
   "execution_count": 57,
   "id": "ce33ef89-a73b-46be-a1c6-deecb5ff03b4",
   "metadata": {},
   "outputs": [
    {
     "data": {
      "text/plain": [
       "0.5796303125826041"
      ]
     },
     "execution_count": 57,
     "metadata": {},
     "output_type": "execute_result"
    }
   ],
   "source": [
    "hr_ser[\"2024-01-01 15:00:00\"]"
   ]
  },
  {
   "cell_type": "code",
   "execution_count": 61,
   "id": "f1a83bf9-a673-4a1a-83db-e871ae610fb4",
   "metadata": {},
   "outputs": [
    {
     "data": {
      "text/plain": [
       "2024-01-01 07:00:00    1.098032\n",
       "2024-01-01 08:00:00    0.501133\n",
       "2024-01-01 15:00:00    0.579630\n",
       "2024-01-01 16:00:00    0.748521\n",
       "2024-01-01 17:00:00    0.622845\n",
       "dtype: float64"
      ]
     },
     "execution_count": 61,
     "metadata": {},
     "output_type": "execute_result"
    }
   ],
   "source": [
    "hr_ser[\"2024-01-01 07:00:00\": \"2024-01-01 17:00:00\"][hr_ser > 0]"
   ]
  },
  {
   "cell_type": "code",
   "execution_count": 63,
   "id": "85e70017-0e77-4152-9cbe-aff141864623",
   "metadata": {},
   "outputs": [
    {
     "data": {
      "text/plain": [
       "-0.9123364638413907"
      ]
     },
     "execution_count": 63,
     "metadata": {},
     "output_type": "execute_result"
    }
   ],
   "source": [
    "hr_ser.loc['2024-01-01 18:00:00']"
   ]
  },
  {
   "cell_type": "code",
   "execution_count": 77,
   "id": "073afc32-5412-4740-9a65-780a1ab478b6",
   "metadata": {},
   "outputs": [
    {
     "data": {
      "text/plain": [
       "2024-01-01 09:00:00   -1.125679\n",
       "2024-01-01 10:00:00   -0.240186\n",
       "2024-01-01 11:00:00   -0.175608\n",
       "2024-01-01 12:00:00   -0.001593\n",
       "2024-01-01 13:00:00   -0.665032\n",
       "2024-01-01 14:00:00   -0.858956\n",
       "2024-01-01 15:00:00    0.579630\n",
       "2024-01-01 16:00:00    0.748521\n",
       "2024-01-01 17:00:00    0.622845\n",
       "2024-01-01 18:00:00   -0.912336\n",
       "Freq: h, dtype: float64"
      ]
     },
     "execution_count": 77,
     "metadata": {},
     "output_type": "execute_result"
    }
   ],
   "source": [
    "hr_ser.loc[\"2024-01-01 09:00:00\": \"2024-01-01 18:00:00\"]"
   ]
  },
  {
   "cell_type": "code",
   "execution_count": 67,
   "id": "3fe9def0-848d-4c0b-80b5-043cf72ca292",
   "metadata": {},
   "outputs": [
    {
     "data": {
      "text/plain": [
       "2024-01-01 07:00:00    1.098032\n",
       "2024-01-01 11:00:00   -0.175608\n",
       "2024-01-01 16:00:00    0.748521\n",
       "dtype: float64"
      ]
     },
     "execution_count": 67,
     "metadata": {},
     "output_type": "execute_result"
    }
   ],
   "source": [
    "hr_ser[[\"2024-01-01 07:00:00\", \"2024-01-01 11:00:00\", \"2024-01-01 16:00:00\"]]"
   ]
  },
  {
   "cell_type": "code",
   "execution_count": 71,
   "id": "9350a73e-52e6-4594-8f96-dd4bbcd8999d",
   "metadata": {},
   "outputs": [
    {
     "data": {
      "text/plain": [
       "-0.17560842998962958"
      ]
     },
     "execution_count": 71,
     "metadata": {},
     "output_type": "execute_result"
    }
   ],
   "source": [
    "hr_ser.iloc[11]"
   ]
  },
  {
   "cell_type": "code",
   "execution_count": 73,
   "id": "0f54ad0f-e238-4433-b44f-55df1f331dfc",
   "metadata": {},
   "outputs": [
    {
     "data": {
      "text/plain": [
       "2024-01-01 02:00:00    0.355368\n",
       "2024-01-01 03:00:00   -0.461701\n",
       "2024-01-01 04:00:00   -1.397984\n",
       "Freq: h, dtype: float64"
      ]
     },
     "execution_count": 73,
     "metadata": {},
     "output_type": "execute_result"
    }
   ],
   "source": [
    "hr_ser.iloc[2:5]"
   ]
  },
  {
   "cell_type": "code",
   "execution_count": null,
   "id": "c7a73e2c-11d6-42a2-9888-c807ac4ac26f",
   "metadata": {},
   "outputs": [],
   "source": [
    "hr_ser.iloc[2, 5 ,7, 13]"
   ]
  },
  {
   "cell_type": "code",
   "execution_count": 81,
   "id": "45bc3bda-4623-4074-9aba-606b2096eeec",
   "metadata": {},
   "outputs": [
    {
     "data": {
      "text/plain": [
       "2024-01-01 04:00:00   -1.397984\n",
       "2024-01-01 05:00:00    2.227825\n",
       "2024-01-01 06:00:00    1.684914\n",
       "2024-01-01 07:00:00    1.098032\n",
       "2024-01-01 08:00:00    0.501133\n",
       "2024-01-01 09:00:00   -1.125679\n",
       "2024-01-01 10:00:00   -0.240186\n",
       "2024-01-01 11:00:00   -0.175608\n",
       "Freq: h, dtype: float64"
      ]
     },
     "execution_count": 81,
     "metadata": {},
     "output_type": "execute_result"
    }
   ],
   "source": [
    "hr_ser[\"2024-01-01 04:00:00\":\"2024-01-01 11:00:00\"]"
   ]
  },
  {
   "cell_type": "code",
   "execution_count": 83,
   "id": "eee765ae-458e-4211-a605-5d9b730fd61b",
   "metadata": {},
   "outputs": [
    {
     "data": {
      "text/plain": [
       "2024-01-01 11:00:00   -0.175608\n",
       "2024-01-01 12:00:00   -0.001593\n",
       "2024-01-01 13:00:00   -0.665032\n",
       "2024-01-01 14:00:00   -0.858956\n",
       "2024-01-01 15:00:00    0.579630\n",
       "2024-01-01 16:00:00    0.748521\n",
       "2024-01-01 17:00:00    0.622845\n",
       "2024-01-01 18:00:00   -0.912336\n",
       "2024-01-01 19:00:00   -1.224227\n",
       "2024-01-01 20:00:00    0.554231\n",
       "2024-01-01 21:00:00    1.056767\n",
       "2024-01-01 22:00:00    0.229067\n",
       "2024-01-01 23:00:00    0.807523\n",
       "Freq: h, dtype: float64"
      ]
     },
     "execution_count": 83,
     "metadata": {},
     "output_type": "execute_result"
    }
   ],
   "source": [
    "hr_ser[\"2024-01-01 11:00:00\" : ]"
   ]
  },
  {
   "cell_type": "code",
   "execution_count": 85,
   "id": "f1377c08-624e-4984-9416-6e952936216f",
   "metadata": {},
   "outputs": [
    {
     "data": {
      "text/plain": [
       "2024-01-01 00:00:00    0.680565\n",
       "2024-01-01 01:00:00    0.648504\n",
       "2024-01-01 02:00:00    0.355368\n",
       "2024-01-01 03:00:00   -0.461701\n",
       "2024-01-01 04:00:00   -1.397984\n",
       "Freq: h, dtype: float64"
      ]
     },
     "execution_count": 85,
     "metadata": {},
     "output_type": "execute_result"
    }
   ],
   "source": [
    "hr_ser[: \"2024-01-01 04:00:00\"]"
   ]
  },
  {
   "cell_type": "markdown",
   "id": "961d4c75-c544-4f8a-b2f9-5437b9fab0ca",
   "metadata": {},
   "source": [
    "# part 2"
   ]
  },
  {
   "cell_type": "code",
   "execution_count": 90,
   "id": "5dd9fa4e-788f-476b-b5db-91f86e715736",
   "metadata": {},
   "outputs": [
    {
     "data": {
      "text/plain": [
       "2024-01-07    0.133999\n",
       "2024-01-14   -0.496700\n",
       "Freq: W-SUN, dtype: float64"
      ]
     },
     "execution_count": 90,
     "metadata": {},
     "output_type": "execute_result"
    }
   ],
   "source": [
    "wk_data = time_ser.resample('W').mean()\n",
    "wk_data"
   ]
  },
  {
   "cell_type": "code",
   "execution_count": 96,
   "id": "e20af987-bc5a-40d4-9e75-7f10c81376de",
   "metadata": {},
   "outputs": [
    {
     "data": {
      "text/plain": [
       "2024-01-01         NaN\n",
       "2024-01-02         NaN\n",
       "2024-01-03   -0.018893\n",
       "2024-01-04   -0.251871\n",
       "2024-01-05   -0.043580\n",
       "2024-01-06    0.140439\n",
       "2024-01-07    0.369625\n",
       "2024-01-08   -0.194872\n",
       "2024-01-09    0.299049\n",
       "2024-01-10   -0.496700\n",
       "Freq: D, dtype: float64"
      ]
     },
     "execution_count": 96,
     "metadata": {},
     "output_type": "execute_result"
    }
   ],
   "source": [
    "rolling_mean = time_ser.rolling(window = 3).mean()\n",
    "rolling_mean"
   ]
  },
  {
   "cell_type": "code",
   "execution_count": 98,
   "id": "dbaad94c-5b0f-43ad-b176-9bc12f2f6c44",
   "metadata": {},
   "outputs": [
    {
     "data": {
      "text/plain": [
       "2024-01-01    0.584730\n",
       "2024-01-02   -0.158277\n",
       "2024-01-03   -0.483133\n",
       "2024-01-04   -0.114203\n",
       "2024-01-05    0.466595\n",
       "2024-01-06    0.068924\n",
       "2024-01-07    0.573358\n",
       "2024-01-08   -1.226899\n",
       "2024-01-09    1.550690\n",
       "2024-01-10   -1.813891\n",
       "Freq: D, dtype: float64"
      ]
     },
     "execution_count": 98,
     "metadata": {},
     "output_type": "execute_result"
    }
   ],
   "source": [
    "time_ser"
   ]
  },
  {
   "cell_type": "code",
   "execution_count": 100,
   "id": "3e91bf07-48ca-460a-bd71-441c273923fb",
   "metadata": {},
   "outputs": [
    {
     "data": {
      "text/plain": [
       "2024-01-01    0.584730\n",
       "2024-01-02   -0.158277\n",
       "2024-01-03         NaN\n",
       "2024-01-04   -0.114203\n",
       "2024-01-05    0.466595\n",
       "2024-01-06    0.068924\n",
       "2024-01-07    0.573358\n",
       "2024-01-08   -1.226899\n",
       "2024-01-09    1.550690\n",
       "2024-01-10   -1.813891\n",
       "Freq: D, dtype: float64"
      ]
     },
     "execution_count": 100,
     "metadata": {},
     "output_type": "execute_result"
    }
   ],
   "source": [
    "time_ser[\"2024-01-03\"] = np.nan\n",
    "time_ser"
   ]
  },
  {
   "cell_type": "code",
   "execution_count": 102,
   "id": "6a500ac4-a9a7-41f6-8778-03c6cbf0cdf9",
   "metadata": {},
   "outputs": [
    {
     "data": {
      "text/plain": [
       "2024-01-01    0.584730\n",
       "2024-01-02   -0.158277\n",
       "2024-01-03   -0.158277\n",
       "2024-01-04   -0.114203\n",
       "2024-01-05    0.466595\n",
       "2024-01-06    0.068924\n",
       "2024-01-07    0.573358\n",
       "2024-01-08   -1.226899\n",
       "2024-01-09    1.550690\n",
       "2024-01-10   -1.813891\n",
       "Freq: D, dtype: float64"
      ]
     },
     "execution_count": 102,
     "metadata": {},
     "output_type": "execute_result"
    }
   ],
   "source": [
    "fl_ser = time_ser.ffill()\n",
    "fl_ser"
   ]
  },
  {
   "cell_type": "code",
   "execution_count": 106,
   "id": "b1360935-9eb7-4bf9-8937-5fc112f9c087",
   "metadata": {},
   "outputs": [
    {
     "data": {
      "text/plain": [
       "2024-01-07    0.236854\n",
       "2024-01-14   -0.496700\n",
       "Freq: W-SUN, dtype: float64"
      ]
     },
     "execution_count": 106,
     "metadata": {},
     "output_type": "execute_result"
    }
   ],
   "source": [
    "wk_ser = time_ser.resample(\"W\").mean()\n",
    "wk_ser"
   ]
  },
  {
   "cell_type": "code",
   "execution_count": 108,
   "id": "ac72f57a-6608-4817-b22e-0f5d0c8b5fa2",
   "metadata": {},
   "outputs": [
    {
     "data": {
      "text/plain": [
       "2024-01-01    0.584730\n",
       "2024-01-02   -0.158277\n",
       "2024-01-03   -0.114203\n",
       "2024-01-04   -0.114203\n",
       "2024-01-05    0.466595\n",
       "2024-01-06    0.068924\n",
       "2024-01-07    0.573358\n",
       "2024-01-08   -1.226899\n",
       "2024-01-09    1.550690\n",
       "2024-01-10   -1.813891\n",
       "Freq: D, dtype: float64"
      ]
     },
     "execution_count": 108,
     "metadata": {},
     "output_type": "execute_result"
    }
   ],
   "source": [
    "back_fl_ser = time_ser.bfill()\n",
    "back_fl_ser"
   ]
  },
  {
   "cell_type": "code",
   "execution_count": 110,
   "id": "15c45cf4-c2a1-48c6-b764-6aa53e4c69ef",
   "metadata": {},
   "outputs": [
    {
     "data": {
      "text/plain": [
       "2024-01-01    0.584730\n",
       "2024-01-02   -0.158277\n",
       "2024-01-03   -0.136240\n",
       "2024-01-04   -0.114203\n",
       "2024-01-05    0.466595\n",
       "2024-01-06    0.068924\n",
       "2024-01-07    0.573358\n",
       "2024-01-08   -1.226899\n",
       "2024-01-09    1.550690\n",
       "2024-01-10   -1.813891\n",
       "Freq: D, dtype: float64"
      ]
     },
     "execution_count": 110,
     "metadata": {},
     "output_type": "execute_result"
    }
   ],
   "source": [
    "interpol = time_ser.interpolate()\n",
    "interpol"
   ]
  },
  {
   "cell_type": "code",
   "execution_count": 114,
   "id": "3444483d-eeab-4415-a833-7140bdd1c047",
   "metadata": {},
   "outputs": [],
   "source": [
    "date = pd.date_range(start = \"2024-01-01\", periods = 10, freq = \"D\")\n",
    "data = [1, 2, np.nan, 4, np.nan, 6, 7, np.nan, 9, 10]"
   ]
  },
  {
   "cell_type": "code",
   "execution_count": 116,
   "id": "7aef448d-40ac-487b-8599-9e9de5a3519c",
   "metadata": {},
   "outputs": [
    {
     "data": {
      "text/plain": [
       "2024-01-01     1.0\n",
       "2024-01-02     2.0\n",
       "2024-01-03     NaN\n",
       "2024-01-04     4.0\n",
       "2024-01-05     NaN\n",
       "2024-01-06     6.0\n",
       "2024-01-07     7.0\n",
       "2024-01-08     NaN\n",
       "2024-01-09     9.0\n",
       "2024-01-10    10.0\n",
       "Freq: D, dtype: float64"
      ]
     },
     "execution_count": 116,
     "metadata": {},
     "output_type": "execute_result"
    }
   ],
   "source": [
    "time_ser2 = pd.Series(data, index = date)\n",
    "time_ser2"
   ]
  },
  {
   "cell_type": "code",
   "execution_count": 126,
   "id": "a70295e6-1fcd-4316-8674-208952384698",
   "metadata": {},
   "outputs": [
    {
     "data": {
      "text/plain": [
       "2024-01-01    False\n",
       "2024-01-02    False\n",
       "2024-01-03     True\n",
       "2024-01-04    False\n",
       "2024-01-05     True\n",
       "2024-01-06    False\n",
       "2024-01-07    False\n",
       "2024-01-08     True\n",
       "2024-01-09    False\n",
       "2024-01-10    False\n",
       "Freq: D, dtype: bool"
      ]
     },
     "execution_count": 126,
     "metadata": {},
     "output_type": "execute_result"
    }
   ],
   "source": [
    "missing_vals = time_ser2.isna()\n",
    "missing_vals"
   ]
  },
  {
   "cell_type": "code",
   "execution_count": 128,
   "id": "629896a8-a1f9-4929-bd0b-ce294244163f",
   "metadata": {},
   "outputs": [
    {
     "data": {
      "text/plain": [
       "3"
      ]
     },
     "execution_count": 128,
     "metadata": {},
     "output_type": "execute_result"
    }
   ],
   "source": [
    "missing_vals.sum()"
   ]
  },
  {
   "cell_type": "code",
   "execution_count": 132,
   "id": "0664d854-4cb7-431a-9774-32d2b40a1d7e",
   "metadata": {},
   "outputs": [
    {
     "data": {
      "text/plain": [
       "DatetimeIndex(['2024-01-03', '2024-01-05', '2024-01-08'], dtype='datetime64[ns]', freq=None)"
      ]
     },
     "execution_count": 132,
     "metadata": {},
     "output_type": "execute_result"
    }
   ],
   "source": [
    "temp = time_ser.index[missing_vals]\n",
    "temp"
   ]
  },
  {
   "cell_type": "code",
   "execution_count": 136,
   "id": "b6bc6b1e-3340-4ed2-b211-e709068293ad",
   "metadata": {},
   "outputs": [
    {
     "data": {
      "text/plain": [
       "2024-01-01     1.0\n",
       "2024-01-02     2.0\n",
       "2024-01-03     0.0\n",
       "2024-01-04     4.0\n",
       "2024-01-05     0.0\n",
       "2024-01-06     6.0\n",
       "2024-01-07     7.0\n",
       "2024-01-08     0.0\n",
       "2024-01-09     9.0\n",
       "2024-01-10    10.0\n",
       "Freq: D, dtype: float64"
      ]
     },
     "execution_count": 136,
     "metadata": {},
     "output_type": "execute_result"
    }
   ],
   "source": [
    "fld_vals = time_ser2.fillna(0)\n",
    "fld_vals"
   ]
  },
  {
   "cell_type": "code",
   "execution_count": 138,
   "id": "91629ed6-0cdb-4bb7-95f4-1a21b195f5b6",
   "metadata": {},
   "outputs": [
    {
     "data": {
      "text/plain": [
       "2024-01-01     1.0\n",
       "2024-01-02     2.0\n",
       "2024-01-04     4.0\n",
       "2024-01-06     6.0\n",
       "2024-01-07     7.0\n",
       "2024-01-09     9.0\n",
       "2024-01-10    10.0\n",
       "dtype: float64"
      ]
     },
     "execution_count": 138,
     "metadata": {},
     "output_type": "execute_result"
    }
   ],
   "source": [
    "drop_vals = time_ser2.dropna()\n",
    "drop_vals"
   ]
  },
  {
   "cell_type": "code",
   "execution_count": null,
   "id": "47324c9e-267c-405c-8b8d-631e23adfcc4",
   "metadata": {},
   "outputs": [],
   "source": []
  },
  {
   "cell_type": "code",
   "execution_count": 152,
   "id": "7be6c32c-88d1-47c4-b90d-07e6d005ae70",
   "metadata": {},
   "outputs": [
    {
     "data": {
      "text/plain": [
       "DatetimeIndex(['2024-01-01', '2024-01-02', '2024-01-03', '2024-01-04',\n",
       "               '2024-01-05', '2024-01-06', '2024-01-07', '2024-01-08',\n",
       "               '2024-01-09', '2024-01-10'],\n",
       "              dtype='datetime64[ns]', freq='D')"
      ]
     },
     "execution_count": 152,
     "metadata": {},
     "output_type": "execute_result"
    }
   ],
   "source": [
    "dates = pd.date_range(start = \"2024-01-01\", periods = 10, freq = 'd')\n",
    "dates"
   ]
  },
  {
   "cell_type": "code",
   "execution_count": 154,
   "id": "d2c33a85-269a-4513-8c22-a8eeb53104af",
   "metadata": {},
   "outputs": [
    {
     "data": {
      "text/plain": [
       "array([0, 1, 2, 3, 4, 5, 6, 7, 8, 9])"
      ]
     },
     "execution_count": 154,
     "metadata": {},
     "output_type": "execute_result"
    }
   ],
   "source": [
    "data = np.arange(10)\n",
    "data\n"
   ]
  },
  {
   "cell_type": "code",
   "execution_count": 156,
   "id": "c40a539d-f34a-401e-aafc-c964d0d350fd",
   "metadata": {},
   "outputs": [
    {
     "data": {
      "text/plain": [
       "2024-01-01    0\n",
       "2024-01-02    1\n",
       "2024-01-03    2\n",
       "2024-01-04    3\n",
       "2024-01-05    4\n",
       "2024-01-06    5\n",
       "2024-01-07    6\n",
       "2024-01-08    7\n",
       "2024-01-09    8\n",
       "2024-01-10    9\n",
       "Freq: D, dtype: int32"
      ]
     },
     "execution_count": 156,
     "metadata": {},
     "output_type": "execute_result"
    }
   ],
   "source": [
    "time_ser3 = pd.Series(data, index = dates)\n",
    "time_ser3"
   ]
  },
  {
   "cell_type": "code",
   "execution_count": 158,
   "id": "c7bd72af-72e7-417a-b5c2-a7aaf4830f6f",
   "metadata": {},
   "outputs": [
    {
     "data": {
      "text/plain": [
       "2024-01-01    NaN\n",
       "2024-01-02    NaN\n",
       "2024-01-03    0.0\n",
       "2024-01-04    1.0\n",
       "2024-01-05    2.0\n",
       "2024-01-06    3.0\n",
       "2024-01-07    4.0\n",
       "2024-01-08    5.0\n",
       "2024-01-09    6.0\n",
       "2024-01-10    7.0\n",
       "Freq: D, dtype: float64"
      ]
     },
     "execution_count": 158,
     "metadata": {},
     "output_type": "execute_result"
    }
   ],
   "source": [
    "shifted_forward = time_ser3.shift(2)\n",
    "shifted_forward"
   ]
  },
  {
   "cell_type": "code",
   "execution_count": 164,
   "id": "d2e34928-cc9f-4047-b2fc-d4a7e7dc5562",
   "metadata": {},
   "outputs": [
    {
     "data": {
      "text/plain": [
       "2024-01-01    2.0\n",
       "2024-01-02    3.0\n",
       "2024-01-03    4.0\n",
       "2024-01-04    5.0\n",
       "2024-01-05    6.0\n",
       "2024-01-06    7.0\n",
       "2024-01-07    8.0\n",
       "2024-01-08    9.0\n",
       "2024-01-09    NaN\n",
       "2024-01-10    NaN\n",
       "Freq: D, dtype: float64"
      ]
     },
     "execution_count": 164,
     "metadata": {},
     "output_type": "execute_result"
    }
   ],
   "source": [
    "shifted_backward = time_ser3.shift(-2)\n",
    "shifted_backward"
   ]
  },
  {
   "cell_type": "code",
   "execution_count": 168,
   "id": "375f4a49-7f00-4fd6-8edc-a95fc80e07d0",
   "metadata": {},
   "outputs": [
    {
     "data": {
      "text/plain": [
       "2024-01-01    2.0\n",
       "2024-01-02    3.0\n",
       "2024-01-03    4.0\n",
       "2024-01-04    5.0\n",
       "2024-01-05    6.0\n",
       "2024-01-06    7.0\n",
       "2024-01-07    8.0\n",
       "2024-01-08    9.0\n",
       "2024-01-09    0.0\n",
       "2024-01-10    0.0\n",
       "Freq: D, dtype: float64"
      ]
     },
     "execution_count": 168,
     "metadata": {},
     "output_type": "execute_result"
    }
   ],
   "source": [
    "shifted_backward.fillna(0)"
   ]
  }
 ],
 "metadata": {
  "kernelspec": {
   "display_name": "Python 3 (ipykernel)",
   "language": "python",
   "name": "python3"
  },
  "language_info": {
   "codemirror_mode": {
    "name": "ipython",
    "version": 3
   },
   "file_extension": ".py",
   "mimetype": "text/x-python",
   "name": "python",
   "nbconvert_exporter": "python",
   "pygments_lexer": "ipython3",
   "version": "3.12.4"
  }
 },
 "nbformat": 4,
 "nbformat_minor": 5
}
