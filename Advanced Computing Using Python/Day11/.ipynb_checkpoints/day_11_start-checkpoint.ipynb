{
 "cells": [
  {
   "cell_type": "markdown",
   "id": "7e644330-9a2a-450f-9d8b-c7cb2611ae11",
   "metadata": {},
   "source": [
    "## Scipy\n",
    "\n",
    "1. scientific computing (Linera equation solving)\n",
    "2. numerical methods (solving non-linear and quardrati equations)\n",
    "3. data analysis and signal procssing (kearbubg abd fukterubg datam renivubg biuse frin data, Fourier Transforms)\n",
    "4. Mathemtaical Functions(Solving differential equation)\n",
    "\n",
    "#### 1. Scipy.optimize - optimization\n",
    "\n",
    "    1. purpose : maximization, minimization, Linear programming, nonlinear programming.\n",
    "    2. Application : Data Science, Engineering, Finance, Science and Research.\n",
    "\n",
    "\n",
    "#### 2. scipy.integrate - Integration\n",
    "    1. purpose : solving integration problems, finding area under curve, calculating probatiliies\n",
    "    2. Applications : physics, Engineering\n",
    "\n",
    "#### 3. scipy.interpolation \n",
    "    1. purpose : estimating unknown values, filling in missing data, model continuous data form discreet data points, dataSmoothing, resampling data,\n",
    "    2. App : data science, machine learning, image processing, signal processing\n",
    "\n",
    "#### 4. scipy.linalg\n",
    "    1. purpose : matrix decomp, matrix inversions, eigen vector findnin\n",
    "    2. apps: finance, structural analysis, quantum mechanics, robotics\n",
    "\n",
    "   "
   ]
  },
  {
   "cell_type": "code",
   "execution_count": null,
   "id": "c87bb67a-6e91-43f4-8f82-f566fd95ec6f",
   "metadata": {},
   "outputs": [],
   "source": []
  },
  {
   "cell_type": "code",
   "execution_count": 21,
   "id": "2209043e-8578-4d91-9a8f-a6a07cf54c62",
   "metadata": {},
   "outputs": [],
   "source": [
    "import pandas as pd\n",
    "import numpy as np\n",
    "import random\n",
    "import scipy"
   ]
  },
  {
   "cell_type": "code",
   "execution_count": 31,
   "id": "d60dc46a-ec0c-4ed3-8bd0-a2dbc057039d",
   "metadata": {},
   "outputs": [
    {
     "data": {
      "text/plain": [
       "(  message: Optimization terminated successfully.\n",
       "   success: True\n",
       "    status: 0\n",
       "       fun: -0.25\n",
       "         x: [-1.500e+00]\n",
       "       nit: 2\n",
       "       jac: [ 0.000e+00]\n",
       "  hess_inv: [[ 5.000e-01]]\n",
       "      nfev: 6\n",
       "      njev: 3,\n",
       " array([-1.50000001]))"
      ]
     },
     "execution_count": 31,
     "metadata": {},
     "output_type": "execute_result"
    }
   ],
   "source": [
    "from scipy.optimize import minimize\n",
    "\n",
    "def objective_functions(x):\n",
    "    return x ** 2 + 3 * x + 2\n",
    "out = minimize(objective_functions, x0 = 0)\n",
    "out, out.x"
   ]
  },
  {
   "cell_type": "code",
   "execution_count": 37,
   "id": "8f7cf6ed-b45c-428a-8dca-08e686c71a4a",
   "metadata": {},
   "outputs": [
    {
     "data": {
      "text/plain": [
       "(  message: Optimization terminated successfully.\n",
       "   success: True\n",
       "    status: 0\n",
       "       fun: 2.0\n",
       "         x: [ 3.000e+00]\n",
       "       nit: 0\n",
       "       jac: [ 0.000e+00]\n",
       "  hess_inv: [[1]]\n",
       "      nfev: 2\n",
       "      njev: 1,\n",
       " array([3.]))"
      ]
     },
     "execution_count": 37,
     "metadata": {},
     "output_type": "execute_result"
    }
   ],
   "source": [
    "def object_another(x):\n",
    "    return ((x-3)**2 + 2)\n",
    "output = minimize(object_another,x0=3)\n",
    "output, output.x"
   ]
  },
  {
   "cell_type": "code",
   "execution_count": 39,
   "id": "cd1b1bba-f31f-4138-8e67-847ec35a1e51",
   "metadata": {},
   "outputs": [
    {
     "data": {
      "text/plain": [
       "0.33333333333333337"
      ]
     },
     "execution_count": 39,
     "metadata": {},
     "output_type": "execute_result"
    }
   ],
   "source": [
    "from scipy.integrate import quad\n",
    "def inte(x): return x ** 2\n",
    "out, err = quad(inte, 0, 1)\n",
    "out"
   ]
  },
  {
   "cell_type": "code",
   "execution_count": 45,
   "id": "c0ae86e7-1c58-4822-9b0b-9a19fe8d2fb6",
   "metadata": {},
   "outputs": [
    {
     "data": {
      "text/plain": [
       "2.0"
      ]
     },
     "execution_count": 45,
     "metadata": {},
     "output_type": "execute_result"
    }
   ],
   "source": [
    "from scipy.linalg import inv, det\n",
    "import numpy as np\n",
    "\n",
    "matrix = np.array([[1, 1], [3, 5]])\n",
    "matrix_det = det(matrix)\n",
    "matrix_det"
   ]
  },
  {
   "cell_type": "code",
   "execution_count": 47,
   "id": "5fc84247-3cff-4a3f-97fa-51c9e026e65a",
   "metadata": {},
   "outputs": [
    {
     "data": {
      "text/plain": [
       "array([[ 2.5, -0.5],\n",
       "       [-1.5,  0.5]])"
      ]
     },
     "execution_count": 47,
     "metadata": {},
     "output_type": "execute_result"
    }
   ],
   "source": [
    "inv(matrix)"
   ]
  },
  {
   "cell_type": "code",
   "execution_count": 55,
   "id": "0531ce7e-3933-4248-8100-742305db95aa",
   "metadata": {},
   "outputs": [
    {
     "data": {
      "text/plain": [
       "array(6.5)"
      ]
     },
     "execution_count": 55,
     "metadata": {},
     "output_type": "execute_result"
    }
   ],
   "source": [
    "from scipy.interpolate import interp1d\n",
    "import numpy as np\n",
    "\n",
    "x, y = np.array([0,1,2,3]), np.array([0,1,4,9])\n",
    "f = interp1d(x, y, kind = 'linear')\n",
    "new_x  = 2.5\n",
    "interpolated_value = f(new_x)\n",
    "interpolated_value"
   ]
  },
  {
   "cell_type": "code",
   "execution_count": null,
   "id": "a98cffa4-bbd8-4f1d-b239-0e34a99fd7a0",
   "metadata": {},
   "outputs": [],
   "source": []
  },
  {
   "cell_type": "markdown",
   "id": "68914796-36c5-4f21-a3af-0f2343fb349a",
   "metadata": {},
   "source": [
    "### Hands On\n",
    "#### Finding inverse of matrix, using scipy.linalg.inv"
   ]
  },
  {
   "cell_type": "code",
   "execution_count": 70,
   "id": "86b365b6-4091-4bb9-a23d-141e941f57e8",
   "metadata": {},
   "outputs": [
    {
     "data": {
      "text/plain": [
       "array([[ 0.6, -0.7],\n",
       "       [-0.2,  0.4]])"
      ]
     },
     "execution_count": 70,
     "metadata": {},
     "output_type": "execute_result"
    }
   ],
   "source": [
    "\n",
    "arr = np.array([[4, 7],[2, 6]])\n",
    "inv(arr)"
   ]
  },
  {
   "cell_type": "code",
   "execution_count": 66,
   "id": "e62860b0-3368-49bd-8b55-6fcd6d08c9da",
   "metadata": {},
   "outputs": [
    {
     "data": {
      "text/plain": [
       "array([[-3. ,  1. ,  1. ],\n",
       "       [ 3.5, -2. , -0.5],\n",
       "       [-1. ,  1. ,  0. ]])"
      ]
     },
     "execution_count": 66,
     "metadata": {},
     "output_type": "execute_result"
    }
   ],
   "source": [
    "arr2 = np.array([[1,2,3],[1,2,4],[3,4,5]])\n",
    "inv(arr2)"
   ]
  },
  {
   "cell_type": "code",
   "execution_count": null,
   "id": "08b807e3-4701-46f6-bd90-866fce585da5",
   "metadata": {},
   "outputs": [],
   "source": []
  },
  {
   "cell_type": "code",
   "execution_count": null,
   "id": "6a270493-facd-44c4-a242-3310da7843b9",
   "metadata": {},
   "outputs": [],
   "source": []
  }
 ],
 "metadata": {
  "kernelspec": {
   "display_name": "Python 3 (ipykernel)",
   "language": "python",
   "name": "python3"
  },
  "language_info": {
   "codemirror_mode": {
    "name": "ipython",
    "version": 3
   },
   "file_extension": ".py",
   "mimetype": "text/x-python",
   "name": "python",
   "nbconvert_exporter": "python",
   "pygments_lexer": "ipython3",
   "version": "3.12.4"
  }
 },
 "nbformat": 4,
 "nbformat_minor": 5
}
