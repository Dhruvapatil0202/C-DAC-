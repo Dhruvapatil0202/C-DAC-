{
 "cells": [
  {
   "cell_type": "code",
   "execution_count": 1,
   "id": "855142f3-601d-4c88-b580-d757d7666dfa",
   "metadata": {},
   "outputs": [],
   "source": [
    "import requests"
   ]
  },
  {
   "cell_type": "code",
   "execution_count": 3,
   "id": "9abd507a-69cb-44d9-a609-71a06244caae",
   "metadata": {},
   "outputs": [],
   "source": [
    "post_url = \"https://reqres.in/api/users\"\n",
    "\n",
    "post_data = {\n",
    "    \"name\" : \"John Doe\",\n",
    "    \"job\" : \"Software Developer\"\n",
    "}\n",
    "\n",
    "response = requests.post(post_url, json = post_data)"
   ]
  },
  {
   "cell_type": "code",
   "execution_count": 7,
   "id": "c18b9df7-a009-49f5-9498-85f5d6671ef8",
   "metadata": {},
   "outputs": [
    {
     "data": {
      "text/plain": [
       "201"
      ]
     },
     "execution_count": 7,
     "metadata": {},
     "output_type": "execute_result"
    }
   ],
   "source": [
    "response.status_code"
   ]
  },
  {
   "cell_type": "code",
   "execution_count": 9,
   "id": "c80efb35-63a3-4535-bc03-69ab8173c520",
   "metadata": {},
   "outputs": [
    {
     "data": {
      "text/plain": [
       "{'name': 'John Doe',\n",
       " 'job': 'Software Developer',\n",
       " 'id': '478',\n",
       " 'createdAt': '2024-09-16T06:22:20.870Z'}"
      ]
     },
     "execution_count": 9,
     "metadata": {},
     "output_type": "execute_result"
    }
   ],
   "source": [
    "response.json()"
   ]
  },
  {
   "cell_type": "code",
   "execution_count": null,
   "id": "3f26e2f7-d600-4545-9bf6-983b4f6e8d49",
   "metadata": {},
   "outputs": [],
   "source": []
  },
  {
   "cell_type": "markdown",
   "id": "a4bcfcfc-fbc3-4718-91f4-cf6561313c3d",
   "metadata": {},
   "source": [
    "# Hands On POST Method"
   ]
  },
  {
   "cell_type": "code",
   "execution_count": 12,
   "id": "c99e396f-19e9-48d2-89c8-9b408d4429d3",
   "metadata": {},
   "outputs": [],
   "source": [
    "url = \"https://jsonplaceholder.typicode.com/posts\"\n"
   ]
  },
  {
   "cell_type": "code",
   "execution_count": 14,
   "id": "238a8e46-3858-4812-9865-7aab7772429b",
   "metadata": {},
   "outputs": [],
   "source": [
    "request_data= {\n",
    "    'city': \"New York\",\n",
    "    \"temprature\": 28,\n",
    "    \"humidity\" : 60,\n",
    "    \"condition\" : \"Sunny\"\n",
    "}"
   ]
  },
  {
   "cell_type": "code",
   "execution_count": 16,
   "id": "26ae6c90-13bd-4ee0-8181-d2877d0365df",
   "metadata": {},
   "outputs": [],
   "source": [
    "def request_sender(url, data):\n",
    "    response = requests.post(url, json = data)\n",
    "    return response.status_code"
   ]
  },
  {
   "cell_type": "code",
   "execution_count": 20,
   "id": "ace9f689-f991-4a91-869b-878c0b6ee25e",
   "metadata": {},
   "outputs": [
    {
     "data": {
      "text/plain": [
       "201"
      ]
     },
     "execution_count": 20,
     "metadata": {},
     "output_type": "execute_result"
    }
   ],
   "source": [
    "request_sender(url, request_data)"
   ]
  },
  {
   "cell_type": "code",
   "execution_count": null,
   "id": "562eaa73-655a-40ce-abe6-a10130fcc950",
   "metadata": {},
   "outputs": [],
   "source": []
  },
  {
   "cell_type": "markdown",
   "id": "1985fb0f-74be-44ba-8565-97edcfdf4403",
   "metadata": {},
   "source": []
  }
 ],
 "metadata": {
  "kernelspec": {
   "display_name": "Python 3 (ipykernel)",
   "language": "python",
   "name": "python3"
  },
  "language_info": {
   "codemirror_mode": {
    "name": "ipython",
    "version": 3
   },
   "file_extension": ".py",
   "mimetype": "text/x-python",
   "name": "python",
   "nbconvert_exporter": "python",
   "pygments_lexer": "ipython3",
   "version": "3.12.4"
  }
 },
 "nbformat": 4,
 "nbformat_minor": 5
}
