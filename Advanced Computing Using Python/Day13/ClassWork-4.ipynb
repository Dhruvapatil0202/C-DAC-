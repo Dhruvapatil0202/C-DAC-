{
 "cells": [
  {
   "cell_type": "code",
   "execution_count": null,
   "id": "2993f197-5f85-4f10-b7b7-f4007c796bfc",
   "metadata": {},
   "outputs": [],
   "source": [
    "\"\"\"\n",
    "URL Library:\n",
    "standard library in python used for working with URLs\n",
    "\n",
    "Provides modules and functions to:\n",
    "1. Fetch data from URLs\n",
    "2. Handle URL encoding\n",
    "3. Decode URLs \n",
    "4. Manage requests and responses over HTTP and HTTPS protocols.\n",
    "\n",
    "\"\"\""
   ]
  },
  {
   "cell_type": "code",
   "execution_count": 3,
   "id": "41cdb997-dde3-485e-a907-c80c60d77ebf",
   "metadata": {},
   "outputs": [],
   "source": [
    "from urllib.parse import urlparse, parse_qs, urlencode"
   ]
  },
  {
   "cell_type": "code",
   "execution_count": 7,
   "id": "e4506a94-c38f-4a5a-b817-dd15820012d1",
   "metadata": {},
   "outputs": [
    {
     "name": "stdout",
     "output_type": "stream",
     "text": [
      "Domain www.example.com\n",
      "Path /path/to/resource\n",
      "Query: search=python&lang=en\n"
     ]
    }
   ],
   "source": [
    "url = \"https://www.example.com/path/to/resource?search=python&lang=en\"\n",
    "parsed_url = urlparse(url)\n",
    "print(f\"Domain {parsed_url.netloc}\")\n",
    "print(f\"Path {parsed_url.path}\")\n",
    "print(f\"Query: {parsed_url.query}\")"
   ]
  },
  {
   "cell_type": "code",
   "execution_count": 9,
   "id": "fa901839-c435-415c-86ea-49f7581d681d",
   "metadata": {},
   "outputs": [
    {
     "name": "stdout",
     "output_type": "stream",
     "text": [
      "Query Params: {'query': ['python'], 'sort': ['recent']}\n"
     ]
    }
   ],
   "source": [
    "# Extracting or modifying query prarameters in URL at runtime\n",
    "url = 'https://www.example.com/search?query=python&sort=recent'\n",
    "parsed_url = urlparse(url)\n",
    "query_params = parse_qs(parsed_url.query)\n",
    "print(f\"Query Params: {query_params}\")"
   ]
  },
  {
   "cell_type": "code",
   "execution_count": 15,
   "id": "65218d03-8459-4ca5-b927-70620af5f542",
   "metadata": {},
   "outputs": [
    {
     "name": "stdout",
     "output_type": "stream",
     "text": [
      "Updated URL: https://wwww.example.com/search?query=python&sort=recent\n"
     ]
    }
   ],
   "source": [
    "# Adding or removind query parameters from an existing URL.\n",
    "base_url = 'https://wwww.example.com/search'\n",
    "query_params = {'query': 'python', 'sort': 'recent'}\n",
    "updated_url = f\"{base_url}?{urlencode(query_params)}\"\n",
    "print(f\"Updated URL: {updated_url}\")"
   ]
  },
  {
   "cell_type": "code",
   "execution_count": null,
   "id": "43b187f5-deac-40fa-bdc7-efa11fd933cb",
   "metadata": {},
   "outputs": [],
   "source": []
  },
  {
   "cell_type": "markdown",
   "id": "87745983-ee22-434c-8830-3e02fd85e7e5",
   "metadata": {},
   "source": [
    "# Hands On\n"
   ]
  },
  {
   "cell_type": "code",
   "execution_count": 26,
   "id": "f32577e6-f67f-4648-b037-a93fd41f7612",
   "metadata": {},
   "outputs": [
    {
     "name": "stdout",
     "output_type": "stream",
     "text": [
      "Domain: www.w3schools.com\n",
      "Path to resource: /python/ref_requests_post.asp\n",
      "Query Parameters: {}\n",
      "\n",
      "Domain: www.example.com\n",
      "Path to resource: /shop\n",
      "Query Parameters: {'category': ['books'], 'sort': ['desc']}\n",
      "\n",
      "Domain: news.site.com\n",
      "Path to resource: /resources/articles\n",
      "Query Parameters: {'page': ['5'], 'category': ['tech']}\n",
      "\n",
      "Domain: blog.example.org\n",
      "Path to resource: /\n",
      "Query Parameters: {'author': ['alice'], 'year': ['2024']}\n",
      "\n"
     ]
    }
   ],
   "source": [
    "url_list = [\n",
    "    \"https://www.w3schools.com/python/ref_requests_post.asp\",\n",
    "    \"https://www.example.com/shop?category=books&sort=desc#reviews\",\n",
    "    \"http://news.site.com/resources/articles?page=5&category=tech\",\n",
    "    \"https://blog.example.org/?author=alice&year=2024\"\n",
    "]\n",
    "\n",
    "for url in url_list:\n",
    "    parsed_url = urlparse(url)\n",
    "    print(f\"Domain: {parsed_url.netloc}\")\n",
    "    print(f\"Path to resource: {parsed_url.path}\")\n",
    "    print(f\"Query Parameters: {parse_qs(parsed_url.query)}\")\n",
    "    print()"
   ]
  },
  {
   "cell_type": "code",
   "execution_count": null,
   "id": "7fe9d46e-85a2-46f3-ac48-dd7e0e2ba0bf",
   "metadata": {},
   "outputs": [],
   "source": []
  }
 ],
 "metadata": {
  "kernelspec": {
   "display_name": "Python 3 (ipykernel)",
   "language": "python",
   "name": "python3"
  },
  "language_info": {
   "codemirror_mode": {
    "name": "ipython",
    "version": 3
   },
   "file_extension": ".py",
   "mimetype": "text/x-python",
   "name": "python",
   "nbconvert_exporter": "python",
   "pygments_lexer": "ipython3",
   "version": "3.12.4"
  }
 },
 "nbformat": 4,
 "nbformat_minor": 5
}
