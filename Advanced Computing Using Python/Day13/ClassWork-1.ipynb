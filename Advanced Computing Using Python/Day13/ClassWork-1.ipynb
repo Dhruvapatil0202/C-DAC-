{
 "cells": [
  {
   "cell_type": "code",
   "execution_count": null,
   "id": "577900a1-dfee-4df4-b210-7ab4bb7899ce",
   "metadata": {},
   "outputs": [],
   "source": [
    "\"\"\"\n",
    "Types of Requests\n",
    "ftp : file transfer progocol\n",
    "smtp : simple main transfer \n",
    "dns : domain name system\n",
    "ssh : secure shell\n",
    "soap: simple objec access\n",
    "http: hyper text transfer\n",
    "https: hyper text transfer secure\n",
    "\n",
    "HTTP / HTTPS \n",
    "resources are exchanged between chien devices and servers ovre the internet \n",
    "used to transfer text, images and other type of media\n",
    "\n",
    "URL : uniform resource locator\n",
    "HTTP Method \n",
    "HTTP Request header\n",
    "HTTP response\n",
    "    status code\n",
    "        200 OK\n",
    "        401 Unauthorised\n",
    "        403 Forbidden\n",
    "        404 Not Found\n",
    "        500 Internal Server Error\n",
    "    response Header\n",
    "    HTTP body\n",
    "\n",
    "\n",
    "What are headers?\n",
    "\n",
    "Key value pairs containing critical information for communication\n",
    "1. Host: domain name of server\n",
    "2. User-agent: browser / OS details\n",
    "3. Accept: contenty types\n",
    "4. Authentication and Authorization Headers\n",
    "\n",
    "\n",
    "In what ways can we access the API?\n",
    "\n",
    "1. GET type\n",
    "2. POST type\n",
    "3. DELETE type\n",
    "4. PUT type\n",
    "5. PATCH type\n",
    "6. HEAD type\n",
    "\n",
    "Request Library:\n",
    "A python library which enables user to interact with API and web using python.\n",
    "requests in a popular python library used to make HTTP requests\n",
    "Handles HTTP and HTTPS requests\n",
    "\"\"\""
   ]
  },
  {
   "cell_type": "code",
   "execution_count": 11,
   "id": "58c68ec6-6b92-4363-9736-1a9b5628bef6",
   "metadata": {},
   "outputs": [],
   "source": [
    "import requests"
   ]
  },
  {
   "cell_type": "code",
   "execution_count": 13,
   "id": "5ea27a1e-44a2-4d5a-bc4a-618f8d143f7b",
   "metadata": {},
   "outputs": [
    {
     "data": {
      "text/plain": [
       "200"
      ]
     },
     "execution_count": 13,
     "metadata": {},
     "output_type": "execute_result"
    }
   ],
   "source": [
    "response = requests.get('https://restcountries.com/v3.1/all')\n",
    "response.status_code"
   ]
  },
  {
   "cell_type": "code",
   "execution_count": 17,
   "id": "ec588921-3833-4220-869d-0ecbfe5656b7",
   "metadata": {},
   "outputs": [
    {
     "name": "stdout",
     "output_type": "stream",
     "text": [
      "Country: India\n",
      "Capital: New Delhi\n",
      "Area: 3287590.0\n"
     ]
    }
   ],
   "source": [
    "countries = response.json()\n",
    "for country in countries:\n",
    "    name = country.get('name', {}).get('common', 'N/A')\n",
    "    capital = country.get('capital', ['N/A'])[0]\n",
    "    area = country.get('area', 'N/A')\n",
    "    if name == 'India':\n",
    "        print(f\"Country: {name}\")\n",
    "        print(f\"Capital: {capital}\")\n",
    "        print(f\"Area: {area}\")\n",
    "        "
   ]
  },
  {
   "cell_type": "code",
   "execution_count": null,
   "id": "62da26cd-cbc6-484a-a0c4-f0aefcf54ad0",
   "metadata": {},
   "outputs": [],
   "source": []
  },
  {
   "cell_type": "markdown",
   "id": "c1215b03-6b49-44a2-a7d5-a477ed1243fa",
   "metadata": {},
   "source": [
    "# Hands On GET Method"
   ]
  },
  {
   "cell_type": "code",
   "execution_count": 62,
   "id": "73d2df84-166d-477a-995c-426e0a2ab43c",
   "metadata": {},
   "outputs": [],
   "source": [
    "import requests\n"
   ]
  },
  {
   "cell_type": "code",
   "execution_count": 64,
   "id": "6d53369b-380f-4adc-8f81-aa7e2921f7c3",
   "metadata": {},
   "outputs": [],
   "source": [
    "WEB_LINK = 'https://restcountries.com/v3.1/all'"
   ]
  },
  {
   "cell_type": "code",
   "execution_count": 190,
   "id": "25cddd82-0c1d-47b8-8e5f-f946420e0605",
   "metadata": {},
   "outputs": [
    {
     "data": {
      "text/plain": [
       "200"
      ]
     },
     "execution_count": 190,
     "metadata": {},
     "output_type": "execute_result"
    }
   ],
   "source": [
    "resp = requests.get(WEB_LINK)\n",
    "resp.status_code"
   ]
  },
  {
   "cell_type": "code",
   "execution_count": 192,
   "id": "77e72162-50ed-481c-894b-b81c32d7b8b5",
   "metadata": {},
   "outputs": [],
   "source": [
    "resp = resp.json()"
   ]
  },
  {
   "cell_type": "code",
   "execution_count": 70,
   "id": "1a431edf-8b62-4092-b71a-d57ccd7d550a",
   "metadata": {},
   "outputs": [
    {
     "data": {
      "text/plain": [
       "dict_keys(['name', 'tld', 'cca2', 'ccn3', 'cca3', 'independent', 'status', 'unMember', 'currencies', 'idd', 'capital', 'altSpellings', 'region', 'languages', 'translations', 'latlng', 'landlocked', 'area', 'demonyms', 'flag', 'maps', 'population', 'car', 'timezones', 'continents', 'flags', 'coatOfArms', 'startOfWeek', 'capitalInfo'])"
      ]
     },
     "execution_count": 70,
     "metadata": {},
     "output_type": "execute_result"
    }
   ],
   "source": [
    "resp[0].keys()"
   ]
  },
  {
   "cell_type": "code",
   "execution_count": 194,
   "id": "b998a519-3e1a-41e9-865b-221f3d426d1c",
   "metadata": {},
   "outputs": [
    {
     "data": {
      "text/plain": [
       "29"
      ]
     },
     "execution_count": 194,
     "metadata": {},
     "output_type": "execute_result"
    }
   ],
   "source": [
    "len(resp[0])"
   ]
  },
  {
   "cell_type": "code",
   "execution_count": 72,
   "id": "73502960-b1de-4d03-8341-8f924dc041f0",
   "metadata": {},
   "outputs": [
    {
     "data": {
      "text/plain": [
       "{'SHP': {'name': 'Saint Helena pound', 'symbol': '£'}}"
      ]
     },
     "execution_count": 72,
     "metadata": {},
     "output_type": "execute_result"
    }
   ],
   "source": [
    "resp[0].get('currencies', {})"
   ]
  },
  {
   "cell_type": "code",
   "execution_count": 84,
   "id": "58c8c3ca-c4b1-40a2-9da5-b62b172afb40",
   "metadata": {},
   "outputs": [
    {
     "data": {
      "text/plain": [
       "'Antarctic'"
      ]
     },
     "execution_count": 84,
     "metadata": {},
     "output_type": "execute_result"
    }
   ],
   "source": [
    "resp[0].get('region', {})"
   ]
  },
  {
   "cell_type": "code",
   "execution_count": 142,
   "id": "4cbf6cc3-5510-4141-b4cd-32f3f3b1edfe",
   "metadata": {},
   "outputs": [
    {
     "name": "stdin",
     "output_type": "stream",
     "text": [
      "Enter the region:  Europe\n",
      "Enter the currency code:  GBP\n"
     ]
    }
   ],
   "source": [
    "reg = input(\"Enter the region: \").title()\n",
    "curr_code = input(\"Enter the currency code: \").upper()"
   ]
  },
  {
   "cell_type": "code",
   "execution_count": 146,
   "id": "e84cf007-3452-4605-a946-06b54391d50f",
   "metadata": {},
   "outputs": [
    {
     "name": "stdout",
     "output_type": "stream",
     "text": [
      "Name of country: Guernsey\n",
      "Name of capital: St. Peter Port\n",
      "Area of country: 78.0\n",
      "Currency of country: GBP\n",
      "Region of country: Europe\n",
      "\n",
      "\n",
      "Name of country: United Kingdom\n",
      "Name of capital: London\n",
      "Area of country: 242900.0\n",
      "Currency of country: GBP\n",
      "Region of country: Europe\n",
      "\n",
      "\n",
      "Name of country: Isle of Man\n",
      "Name of capital: Douglas\n",
      "Area of country: 572.0\n",
      "Currency of country: GBP\n",
      "Region of country: Europe\n",
      "\n",
      "\n",
      "Name of country: Jersey\n",
      "Name of capital: Saint Helier\n",
      "Area of country: 116.0\n",
      "Currency of country: GBP\n",
      "Region of country: Europe\n",
      "\n",
      "\n"
     ]
    }
   ],
   "source": [
    "for cou in resp: \n",
    "    # if cou['name']['common'] == \"India\":\n",
    "    try:\n",
    "        if list(cou.get('currencies', {'temp':'temp'}).keys())[0] == curr_code and cou.get(\"region\") == reg:\n",
    "            # print(cou.keys())\n",
    "            print(f\"Name of country: {cou.get('name').get('common')}\")\n",
    "            print(f\"Name of capital: {cou.get(\"capital\")[0]}\")\n",
    "            print(f\"Area of country: {cou.get(\"area\")}\")\n",
    "            print(f\"Currency of country: {list(cou.get('currencies').keys())[0]}\")\n",
    "            print(f\"Region of country: {cou.get(\"region\")}\")\n",
    "            print(\"\\n\")\n",
    "    except Exception as error:\n",
    "        print(cou.get('currencies'))"
   ]
  },
  {
   "cell_type": "code",
   "execution_count": null,
   "id": "7507c1da-9533-47d8-92eb-dd0c26b6ef02",
   "metadata": {},
   "outputs": [],
   "source": []
  },
  {
   "cell_type": "code",
   "execution_count": 178,
   "id": "de361dd2-7688-4d81-bd01-806045c3eff9",
   "metadata": {},
   "outputs": [],
   "source": [
    "web_link2 = \"https://restcountries.com/v3.1/currency/INR\""
   ]
  },
  {
   "cell_type": "code",
   "execution_count": 180,
   "id": "ee8a8730-032f-4805-96eb-f189aa0d7749",
   "metadata": {},
   "outputs": [
    {
     "data": {
      "text/plain": [
       "200"
      ]
     },
     "execution_count": 180,
     "metadata": {},
     "output_type": "execute_result"
    }
   ],
   "source": [
    "resp = requests.get(web_link2)\n",
    "resp.status_code"
   ]
  },
  {
   "cell_type": "code",
   "execution_count": 182,
   "id": "b84abe37-275f-4495-9abb-ed910e658270",
   "metadata": {},
   "outputs": [],
   "source": [
    "resp = resp.json()"
   ]
  },
  {
   "cell_type": "code",
   "execution_count": 184,
   "id": "6c2f6d01-42c5-4ab2-8fdc-679175ac5c8b",
   "metadata": {},
   "outputs": [
    {
     "data": {
      "text/plain": [
       "dict_keys(['name', 'tld', 'cca2', 'ccn3', 'cca3', 'cioc', 'independent', 'status', 'unMember', 'currencies', 'idd', 'capital', 'altSpellings', 'region', 'subregion', 'languages', 'translations', 'latlng', 'landlocked', 'borders', 'area', 'demonyms', 'flag', 'maps', 'population', 'gini', 'fifa', 'car', 'timezones', 'continents', 'flags', 'coatOfArms', 'startOfWeek', 'capitalInfo'])"
      ]
     },
     "execution_count": 184,
     "metadata": {},
     "output_type": "execute_result"
    }
   ],
   "source": [
    "resp[0].keys()"
   ]
  },
  {
   "cell_type": "code",
   "execution_count": 188,
   "id": "515b11e0-b022-44f5-a112-058b50d27ad6",
   "metadata": {},
   "outputs": [
    {
     "data": {
      "text/plain": [
       "34"
      ]
     },
     "execution_count": 188,
     "metadata": {},
     "output_type": "execute_result"
    }
   ],
   "source": [
    "len(resp[0])"
   ]
  },
  {
   "cell_type": "code",
   "execution_count": null,
   "id": "5f51562b-a2ba-4f67-81d9-7e1299b84656",
   "metadata": {},
   "outputs": [],
   "source": []
  },
  {
   "cell_type": "code",
   "execution_count": 196,
   "id": "77f2419e-7d2f-4e67-b166-5ccb4bf4a56b",
   "metadata": {},
   "outputs": [
    {
     "name": "stdin",
     "output_type": "stream",
     "text": [
      "Enter the region:  Asia\n",
      "Enter the currency code:  INR\n"
     ]
    }
   ],
   "source": [
    "region = input(\"Enter the region: \").title()\n",
    "currency_code = input(\"Enter the currency code: \").upper()\n",
    "\n",
    "API_link = f\"https://restcountries.com/v3.1/currency/{currency_code}\""
   ]
  },
  {
   "cell_type": "code",
   "execution_count": 224,
   "id": "04219f0a-c345-4d24-80cd-397d4b07f575",
   "metadata": {},
   "outputs": [
    {
     "data": {
      "text/plain": [
       "200"
      ]
     },
     "execution_count": 224,
     "metadata": {},
     "output_type": "execute_result"
    }
   ],
   "source": [
    "response = requests.get(API_link)\n",
    "response.status_code"
   ]
  },
  {
   "cell_type": "code",
   "execution_count": 228,
   "id": "ac0890fd-0982-4754-a4d8-cf1fdfbfb8fe",
   "metadata": {},
   "outputs": [],
   "source": [
    "response_json = response.json()"
   ]
  },
  {
   "cell_type": "code",
   "execution_count": 216,
   "id": "c313dc3b-14ef-4f96-a72d-aff5070fe65c",
   "metadata": {},
   "outputs": [
    {
     "name": "stdout",
     "output_type": "stream",
     "text": [
      "\n",
      "\n",
      "Name of country: Bhutan\n",
      "Name of capital: Thimphu\n",
      "Area of country: 38394.0\n",
      "Currency of country: BTN\n",
      "Region of country: Asia\n",
      "\n",
      "\n",
      "Name of country: India\n",
      "Name of capital: New Delhi\n",
      "Area of country: 3287590.0\n",
      "Currency of country: INR\n",
      "Region of country: Asia\n"
     ]
    }
   ],
   "source": [
    "for country in response_json:\n",
    "    print(\"\\n\")\n",
    "    print(f\"Name of country: {country.get('name').get('common')}\")\n",
    "    print(f\"Name of capital: {country.get(\"capital\")[0]}\")\n",
    "    print(f\"Area of country: {country.get(\"area\")}\")\n",
    "    print(f\"Currency of country: {list(country.get('currencies').keys())[0]}\")\n",
    "    print(f\"Region of country: {country.get(\"region\")}\")\n",
    "    # print(\"\\n\")\n",
    "    "
   ]
  },
  {
   "cell_type": "code",
   "execution_count": null,
   "id": "943d6a67-4b7c-436e-86dd-7e286e7f6ddb",
   "metadata": {},
   "outputs": [],
   "source": []
  }
 ],
 "metadata": {
  "kernelspec": {
   "display_name": "Python 3 (ipykernel)",
   "language": "python",
   "name": "python3"
  },
  "language_info": {
   "codemirror_mode": {
    "name": "ipython",
    "version": 3
   },
   "file_extension": ".py",
   "mimetype": "text/x-python",
   "name": "python",
   "nbconvert_exporter": "python",
   "pygments_lexer": "ipython3",
   "version": "3.12.4"
  }
 },
 "nbformat": 4,
 "nbformat_minor": 5
}
