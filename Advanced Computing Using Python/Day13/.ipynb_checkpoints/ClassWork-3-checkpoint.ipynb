{
 "cells": [
  {
   "cell_type": "code",
   "execution_count": 1,
   "id": "eea34cfd-30ab-4f4f-b4d9-78546abb01a4",
   "metadata": {},
   "outputs": [],
   "source": [
    "import requests"
   ]
  },
  {
   "cell_type": "code",
   "execution_count": 3,
   "id": "4af3f197-56ef-4319-b301-95af7155e0c2",
   "metadata": {},
   "outputs": [
    {
     "data": {
      "text/plain": [
       "204"
      ]
     },
     "execution_count": 3,
     "metadata": {},
     "output_type": "execute_result"
    }
   ],
   "source": [
    "delete_url = 'https://reqres.in/api/users/2'\n",
    "response = requests.delete(delete_url)\n",
    "response.status_code"
   ]
  },
  {
   "cell_type": "code",
   "execution_count": null,
   "id": "c7cfa84f-08e3-4749-af4a-1fddc0308560",
   "metadata": {},
   "outputs": [],
   "source": []
  },
  {
   "cell_type": "markdown",
   "id": "f60719e8-b0cd-4226-a8f0-f4fef51461e8",
   "metadata": {},
   "source": [
    "# Hands on - Delete Method"
   ]
  },
  {
   "cell_type": "code",
   "execution_count": 12,
   "id": "dc7e8136-a67b-46a9-af3f-4f71963485be",
   "metadata": {},
   "outputs": [],
   "source": [
    "del_url = \"https://reqres.in/api/users/2\"\n",
    "data = {\n",
    "    'id': 24\n",
    "}"
   ]
  },
  {
   "cell_type": "code",
   "execution_count": 14,
   "id": "61b4130c-ece0-49ac-adcd-e59df7d44384",
   "metadata": {},
   "outputs": [],
   "source": [
    "def delete_request_maker(url, data):\n",
    "    resp = requests.delete(url, json = data)\n",
    "    return resp.status_code"
   ]
  },
  {
   "cell_type": "code",
   "execution_count": 16,
   "id": "5a7cc826-0971-471b-bf7f-5556376ad410",
   "metadata": {},
   "outputs": [
    {
     "name": "stdout",
     "output_type": "stream",
     "text": [
      "Success\n"
     ]
    }
   ],
   "source": [
    "out = delete_request_maker(del_url, data)\n",
    "if out == 204: print('Success')\n",
    "else: print('Unsuccessful')"
   ]
  },
  {
   "cell_type": "markdown",
   "id": "a9e42b87-d39a-44bb-af96-00cba64df9e3",
   "metadata": {},
   "source": [
    "# Same as above"
   ]
  },
  {
   "cell_type": "code",
   "execution_count": 32,
   "id": "537949bf-7263-4561-a9ac-a3047931c158",
   "metadata": {},
   "outputs": [
    {
     "name": "stdin",
     "output_type": "stream",
     "text": [
      "Input the id to be deleted:  er\n"
     ]
    },
    {
     "name": "stdout",
     "output_type": "stream",
     "text": [
      "Enter the correct id\n",
      "204\n"
     ]
    }
   ],
   "source": [
    "\n",
    "def delete_data(url, id):\n",
    "    resp = requests.delete(f\"{url}/{id}\")\n",
    "    return resp.status_code\n",
    "    \n",
    "url = \"https://reqres.in/api/users\"\n",
    "try: \n",
    "    id = int(input(\"Input the id to be deleted: \"))\n",
    "except ValueError:\n",
    "    print(\"Enter the correct id\")\n",
    "print(delete_data(url,4))\n",
    "    \n",
    "    "
   ]
  },
  {
   "cell_type": "code",
   "execution_count": null,
   "id": "f62cfd6d-918f-4f16-8a3b-4d7409dbaa97",
   "metadata": {},
   "outputs": [],
   "source": []
  }
 ],
 "metadata": {
  "kernelspec": {
   "display_name": "Python 3 (ipykernel)",
   "language": "python",
   "name": "python3"
  },
  "language_info": {
   "codemirror_mode": {
    "name": "ipython",
    "version": 3
   },
   "file_extension": ".py",
   "mimetype": "text/x-python",
   "name": "python",
   "nbconvert_exporter": "python",
   "pygments_lexer": "ipython3",
   "version": "3.12.4"
  }
 },
 "nbformat": 4,
 "nbformat_minor": 5
}
