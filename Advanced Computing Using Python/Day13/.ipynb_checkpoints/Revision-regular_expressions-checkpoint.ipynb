{
 "cells": [
  {
   "cell_type": "code",
   "execution_count": null,
   "id": "5d4ee94d-d42a-4601-935b-b32d9647ecb4",
   "metadata": {},
   "outputs": [],
   "source": [
    "\"\"\"\n",
    "\n",
    ". - matches any character except a newline\n",
    "^ - matches start of string\n",
    "$ - matches end of string\n",
    "* - matches 0 or more repetitions of preceding element\n",
    "+ - matches 1 or more repetitions of preceding element\n",
    "? - matches 0 or 1 repetitions of preceding element\n",
    "\n",
    "\n",
    "Anchors \n",
    "[a-z] = matches lowercase letter\n",
    "[A-Z] = matches any uppercase letter\n",
    "[0-9] = matches any digit\n",
    "\\d = matches any digit\n",
    "\\D = matches anything but digits\n",
    "\\w = matches alphanumeric character\n",
    "\\W = matches any non-alphanumeric character\n",
    "\\s = matchas any white space character\n",
    "\\S = matches anything but whitespace characters.\n",
    "\n",
    "Quantifiers\n",
    "* = matches 0 or more times\n",
    "+ = matches 1 or more times \n",
    "? = Matches 0 or 1 time\n",
    "{n} = matches exactly n times\n",
    "{n,} = mtaches n or more times\n",
    "{n,m} = matches n time or m times or anything inbetween n and m times\n",
    "() = grouping part\n",
    "\n",
    "\"\"\"\n"
   ]
  },
  {
   "cell_type": "code",
   "execution_count": 13,
   "id": "40da0d4e-420c-4e59-bd7c-82392334cf06",
   "metadata": {},
   "outputs": [],
   "source": [
    "# search a data in format: dd/mm/yyyy\n",
    "\n",
    "import re\n",
    "txt = 'todays date is 17/09/2002 and tomorrows date is 07/12/4542'\n",
    "pat = r\"(3[0-1]|[1-2][0-9]|0[0-9])\\/(1[0-2]|0[1-9])\\/\\d{1,4}\"\n",
    "\n",
    "re.match(pat, txt)\n",
    "\n",
    "\"\"\"\n",
    "Create list of regex and match expression with text\n",
    "\"\"\"\n",
    "\n",
    "\n",
    "\n"
   ]
  },
  {
   "cell_type": "code",
   "execution_count": 37,
   "id": "b2261f6e-484c-41c9-b015-fffd06f27b09",
   "metadata": {},
   "outputs": [
    {
     "name": "stdout",
     "output_type": "stream",
     "text": [
      "['cat', 'cat', 'Cat', 'cat', 'CAT', 'cAt'] 6\n"
     ]
    }
   ],
   "source": [
    "text = 'the cat is on the catalog. The cat is also in the category, Cat can be clumzy, and i like black cat. CAT or cAt'\n",
    "cat_exp = r\"\\b[C^c][A^a][T^t]\\.?\\b\"\n",
    "out = re.findall(cat_exp, text)\n",
    "print(out, len(out))"
   ]
  },
  {
   "cell_type": "code",
   "execution_count": 27,
   "id": "88693cf5-ea55-4916-8f02-466f9810fff9",
   "metadata": {},
   "outputs": [
    {
     "name": "stdout",
     "output_type": "stream",
     "text": [
      "['123-234-1254'] 1\n"
     ]
    }
   ],
   "source": [
    "text2 = 'the phone number is 123-234-1254'\n",
    "mob_exp = r\"\\d{3}\\-\\d{3}\\-\\d{4}\"\n",
    "out = re.findall(mob_exp, text2)\n",
    "print(out, len(out))"
   ]
  },
  {
   "cell_type": "code",
   "execution_count": 47,
   "id": "11fadadb-d5f7-4514-9af7-67532a4fdec3",
   "metadata": {},
   "outputs": [
    {
     "name": "stdout",
     "output_type": "stream",
     "text": [
      "['123', '545'] 2\n"
     ]
    }
   ],
   "source": [
    "text3 = 'My number is 123 and my friend\\'s number is 4567890, abc545efe'\n",
    "num_exp = r\"(?<!\\d)\\d{3}(?!\\d)\"\n",
    "out = re.findall(num_exp, text3)\n",
    "print(out, len(out))"
   ]
  },
  {
   "cell_type": "code",
   "execution_count": 33,
   "id": "2fb87d66-229d-42d1-b5a4-5b41d2c8547b",
   "metadata": {},
   "outputs": [
    {
     "name": "stdout",
     "output_type": "stream",
     "text": [
      "[] 0\n"
     ]
    }
   ],
   "source": [
    "text4 = \"\"\" \n",
    "Error: File not found.\n",
    "Warning: Low disk space.\n",
    "Error: Access Denied.\n",
    "\"\"\"\n",
    "err_exp = r\"^Error:.*\\.$\"\n",
    "out = re.findall(err_exp, text4)\n",
    "print(out, len(out))"
   ]
  },
  {
   "cell_type": "code",
   "execution_count": 51,
   "id": "8ef18218-bdbd-442a-803b-68e2b713c144",
   "metadata": {},
   "outputs": [
    {
     "name": "stdout",
     "output_type": "stream",
     "text": [
      "[] 0\n"
     ]
    },
    {
     "data": {
      "text/plain": [
       "'\\nNot done\\n'"
      ]
     },
     "execution_count": 51,
     "metadata": {},
     "output_type": "execute_result"
    }
   ],
   "source": [
    "sample_string = \"\"\"\n",
    "abc1234\n",
    "A1c3d4e5f\n",
    "a12\n",
    "A1b@d5d0f5g\n",
    "\"\"\"\n",
    "pass_exp = r\"^[a-zA-Z][.]{4,10}\\d$\"\n",
    "out = re.findall(pass_exp, sample_string)\n",
    "print(out, len(out))\n",
    "\n",
    "\"\"\"\n",
    "Not done\n",
    "\"\"\"\n"
   ]
  },
  {
   "cell_type": "code",
   "execution_count": null,
   "id": "f26f1c3b-0203-4840-a35b-ef2e52ba8c01",
   "metadata": {},
   "outputs": [],
   "source": []
  }
 ],
 "metadata": {
  "kernelspec": {
   "display_name": "Python 3 (ipykernel)",
   "language": "python",
   "name": "python3"
  },
  "language_info": {
   "codemirror_mode": {
    "name": "ipython",
    "version": 3
   },
   "file_extension": ".py",
   "mimetype": "text/x-python",
   "name": "python",
   "nbconvert_exporter": "python",
   "pygments_lexer": "ipython3",
   "version": "3.12.4"
  }
 },
 "nbformat": 4,
 "nbformat_minor": 5
}
