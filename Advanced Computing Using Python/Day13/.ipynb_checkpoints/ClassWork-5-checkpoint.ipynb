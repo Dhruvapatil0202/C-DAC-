{
 "cells": [
  {
   "cell_type": "markdown",
   "id": "8bf49f4a-5a3d-491b-b875-9a58c4610861",
   "metadata": {},
   "source": [
    "# Assignment HandsOn"
   ]
  },
  {
   "cell_type": "code",
   "execution_count": null,
   "id": "06750725-9dd1-4e1f-89ee-5bf582c18d7c",
   "metadata": {},
   "outputs": [],
   "source": [
    "from urllib.parse import urlparse, parse_qs, urlencode\n",
    "\n",
    "\n",
    "\n"
   ]
  }
 ],
 "metadata": {
  "kernelspec": {
   "display_name": "Python 3 (ipykernel)",
   "language": "python",
   "name": "python3"
  },
  "language_info": {
   "codemirror_mode": {
    "name": "ipython",
    "version": 3
   },
   "file_extension": ".py",
   "mimetype": "text/x-python",
   "name": "python",
   "nbconvert_exporter": "python",
   "pygments_lexer": "ipython3",
   "version": "3.12.4"
  }
 },
 "nbformat": 4,
 "nbformat_minor": 5
}
