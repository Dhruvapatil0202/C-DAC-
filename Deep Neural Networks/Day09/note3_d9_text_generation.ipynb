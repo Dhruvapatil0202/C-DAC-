{
  "cells": [
    {
      "cell_type": "markdown",
      "source": [
        "RNN multiple features\n",
        "weather history data"
      ],
      "metadata": {
        "id": "tHVvu2adyFc2"
      }
    },
    {
      "cell_type": "code",
      "execution_count": 39,
      "metadata": {
        "id": "WJdQUisFc4-i"
      },
      "outputs": [],
      "source": [
        "###-----------------\n",
        "### Import Libraries\n",
        "###-----------------\n",
        "import os\n",
        "import gc\n",
        "import numpy as np\n",
        "import pandas as pd\n",
        "import matplotlib.pyplot as plt\n",
        "import seaborn as sns\n",
        "\n",
        "from datetime import datetime, timedelta\n",
        "\n",
        "from sklearn.metrics import mean_squared_error\n",
        "\n",
        "import tensorflow as tf\n",
        "# from utils.helper import fn_plot_tf_hist"
      ]
    },
    {
      "cell_type": "code",
      "execution_count": 40,
      "metadata": {
        "id": "771wP8IPQGP_"
      },
      "outputs": [],
      "source": [
        "def fn_plot_tf_hist(hist_df):\n",
        "\n",
        "    '''\n",
        "    Args:\n",
        "        hist_df: a dataframe with following ccolumns\n",
        "            column 0: accuracy\n",
        "            column 1: loss\n",
        "            column 2: val_accuracy\n",
        "            column 3: val_loss\n",
        "            While plotting columns are accessed by index\n",
        "            so that even if the column names are different it will not throw exceptions.\n",
        "    '''\n",
        "\n",
        "    fig, axes = plt.subplots(1,2 , figsize = (15,6))\n",
        "\n",
        "    # properties  matplotlib.patch.Patch\n",
        "    props = dict(boxstyle='round', facecolor='aqua', alpha=0.4)\n",
        "    facecolor = 'cyan'\n",
        "    fontsize=12\n",
        "    CMAP = plt.cm.coolwarm\n",
        "\n",
        "    # Get columns by index to eliminate any column naming error\n",
        "    y1 = hist_df.columns[0]\n",
        "    y2 = hist_df.columns[1]\n",
        "    y3 = hist_df.columns[2]\n",
        "    y4 = hist_df.columns[3]\n",
        "\n",
        "    # Where was min loss\n",
        "    best = hist_df[hist_df[y4] == hist_df[y4].min()]\n",
        "\n",
        "    ax = axes[0]\n",
        "\n",
        "    hist_df.plot(y = [y2,y4], ax = ax, colormap=CMAP)\n",
        "\n",
        "\n",
        "    # little beautification\n",
        "    txtFmt = '{:s}: \\n  train: {:6.4f}\\n   test: {:6.4f}'\n",
        "    txtstr = txtFmt.format(y2.capitalize(),\n",
        "                           hist_df.iloc[-1][y2],\n",
        "                           hist_df.iloc[-1][y4]) #text to plot\n",
        "\n",
        "    # place a text box in upper middle in axes coords\n",
        "    ax.text(0.3, 0.95, txtstr, transform=ax.transAxes, fontsize=fontsize,\n",
        "            verticalalignment='top', bbox=props)\n",
        "\n",
        "    # calculate offset for arroe\n",
        "    y_min = min(hist_df[y2].min(), hist_df[y4].min())\n",
        "    y_max = max(hist_df[y2].max(), hist_df[y4].max())\n",
        "    offset = (y_max-y_min)/10.0\n",
        "\n",
        "    # Mark arrow at lowest\n",
        "    ax.annotate(f'Min: {best[y4].to_numpy()[0]:6.4f}', # text to print\n",
        "                xy=(best.index.to_numpy(), best[y4].to_numpy()[0]), # Arrow start\n",
        "                xytext=(best.index.to_numpy(), best[y4].to_numpy()[0] + offset), # location of text\n",
        "                fontsize=fontsize, va='bottom', ha='right',bbox=props, # beautification of text\n",
        "                arrowprops=dict(facecolor=facecolor, shrink=0.05)) # arrow\n",
        "\n",
        "    # Draw vertical line at best value\n",
        "    ax.axvline(x = best.index.to_numpy(), color = 'green', linestyle='-.', lw = 3)\n",
        "\n",
        "    ax.set_xlabel('Epochs')\n",
        "    ax.set_ylabel(y2.capitalize())\n",
        "    ax.set_title('Errors')\n",
        "    ax.grid(True)\n",
        "    ax.legend(loc = 'upper left') # model legend to upper left\n",
        "\n",
        "    ax = axes[1]\n",
        "\n",
        "    hist_df.plot( y = [y1, y3], ax = ax, colormap=CMAP)\n",
        "\n",
        "    # little beautification\n",
        "    txtFmt = '{:s}: \\n  train: {:6.4f}\\n  test:  {:6.4f}'\n",
        "    txtstr = txtFmt.format(y1.capitalize(),\n",
        "                           hist_df.iloc[-1][y1],\n",
        "                           hist_df.iloc[-1][y3]) #text to plot\n",
        "\n",
        "    # place a text box in upper middle in axes coords\n",
        "    ax.text(0.3, 0.2, txtstr, transform=ax.transAxes, fontsize=fontsize,\n",
        "            verticalalignment='top', bbox=props)\n",
        "\n",
        "    # calculate offset for arroe\n",
        "    y_min = min(hist_df[y1].min(), hist_df[y3].min())\n",
        "    y_max = max(hist_df[y1].max(), hist_df[y3].max())\n",
        "    offset = (y_max-y_min)/10.0\n",
        "\n",
        "    # Mark arrow at lowest\n",
        "    ax.annotate(f'Best: {best[y3].to_numpy()[0]:6.4f}', # text to print\n",
        "                xy=(best.index.to_numpy(), best[y3].to_numpy()[0]), # Arrow start\n",
        "                xytext=(best.index.to_numpy(), best[y3].to_numpy()[0]-offset), # location of text\n",
        "                fontsize=fontsize, va='bottom', ha='right',bbox=props, # beautification of text\n",
        "                arrowprops=dict(facecolor=facecolor, shrink=0.05)) # arrow\n",
        "\n",
        "\n",
        "    # Draw vertical line at best value\n",
        "    ax.axvline(x = best.index.to_numpy(), color = 'green', linestyle='-.', lw = 3)\n",
        "\n",
        "    ax.set_xlabel(\"Epochs\")\n",
        "    ax.set_ylabel(y1.capitalize())\n",
        "    ax.grid(True)\n",
        "    ax.legend(loc = 'lower left')\n",
        "\n",
        "    plt.tight_layout()"
      ]
    },
    {
      "cell_type": "code",
      "execution_count": 41,
      "metadata": {
        "id": "7BzQTnfX0ntf"
      },
      "outputs": [],
      "source": [
        "### ----------------------\n",
        "### global variables\n",
        "### ----------------------\n",
        "\n",
        "import random\n",
        "\n",
        "RANDOM_STATE = 24\n",
        "\n",
        "np.random.seed(RANDOM_STATE)\n",
        "tf.random.set_seed(RANDOM_STATE)\n",
        "\n",
        "\n",
        "TEST_SIZE = 0.2\n",
        "ALPHA = 0.001 # LEARNING RATE\n",
        "EPOCHS = 30  # NUMBER OF ITERATIONS\n",
        "BATCH_SIZE = 64                 # Default for Tensorflow\n",
        "\n",
        "# input and output directories\n",
        "inpDir = '../../input'\n",
        "outDir = '../output'\n",
        "\n",
        "params = {\n",
        "    'legend.fontsize': 'medium',\n",
        "    'figure.figsize': (10, 6),\n",
        "    'axes.labelsize': 'medium',\n",
        "    'axes.titlesize':'large',\n",
        "    'xtick.labelsize':'medium',\n",
        "    'ytick.labelsize':'medium'\n",
        "}\n",
        "\n",
        "plt.rcParams.update(params)\n",
        "\n",
        "CMAP = plt.cm.coolwarm\n",
        "plt.style.use('seaborn-v0_8-darkgrid')"
      ]
    },
    {
      "cell_type": "markdown",
      "source": [
        "# Load Shakespeare Data"
      ],
      "metadata": {
        "id": "x_eOATqmzi2f"
      }
    },
    {
      "cell_type": "code",
      "source": [
        "fileName = 'shakespeare.txt'\n",
        "filepath = os.path.join(os.getcwd(), fileName)\n",
        "filepath"
      ],
      "metadata": {
        "colab": {
          "base_uri": "https://localhost:8080/",
          "height": 35
        },
        "id": "JiegN8oxEzMQ",
        "outputId": "efc1badf-d66f-4beb-b730-014e1b76a5b8"
      },
      "execution_count": 42,
      "outputs": [
        {
          "output_type": "execute_result",
          "data": {
            "text/plain": [
              "'/content/shakespeare.txt'"
            ],
            "application/vnd.google.colaboratory.intrinsic+json": {
              "type": "string"
            }
          },
          "metadata": {},
          "execution_count": 42
        }
      ]
    },
    {
      "cell_type": "code",
      "source": [
        "text = open(filepath, 'rb').read().decode(encoding = 'utf-8')\n",
        "len(text)"
      ],
      "metadata": {
        "colab": {
          "base_uri": "https://localhost:8080/"
        },
        "id": "3WmaxnHUcb2C",
        "outputId": "ef94b600-c8fd-4a20-b852-a68b21b35b24"
      },
      "execution_count": 43,
      "outputs": [
        {
          "output_type": "execute_result",
          "data": {
            "text/plain": [
              "1115395"
            ]
          },
          "metadata": {},
          "execution_count": 43
        }
      ]
    },
    {
      "cell_type": "code",
      "source": [
        "print(text[:100])"
      ],
      "metadata": {
        "colab": {
          "base_uri": "https://localhost:8080/"
        },
        "id": "PPoPQ0B0cplJ",
        "outputId": "8e9c3e9b-dadc-4e3f-8a51-4470e8220129"
      },
      "execution_count": 44,
      "outputs": [
        {
          "output_type": "stream",
          "name": "stdout",
          "text": [
            "First Citizen:\n",
            "Before we proceed any further, hear me speak.\n",
            "\n",
            "All:\n",
            "Speak, speak.\n",
            "\n",
            "First Citizen:\n",
            "You\n"
          ]
        }
      ]
    },
    {
      "cell_type": "code",
      "source": [
        "# Char based modeling"
      ],
      "metadata": {
        "id": "ccP3-jM_dIkd"
      },
      "execution_count": 45,
      "outputs": []
    },
    {
      "cell_type": "code",
      "source": [
        "vocab = sorted(set(text))\n",
        "len(vocab)"
      ],
      "metadata": {
        "colab": {
          "base_uri": "https://localhost:8080/"
        },
        "id": "hIcLBa4FdL6U",
        "outputId": "dcdff9d1-d687-49cb-c989-278d1204774c"
      },
      "execution_count": 46,
      "outputs": [
        {
          "output_type": "execute_result",
          "data": {
            "text/plain": [
              "65"
            ]
          },
          "metadata": {},
          "execution_count": 46
        }
      ]
    },
    {
      "cell_type": "code",
      "source": [
        "char2idx = {u : i for i, u in enumerate(vocab)}\n",
        "idx2char = np.array(vocab) # in array i can refer element by idx"
      ],
      "metadata": {
        "id": "GOnNFhM4dZtv"
      },
      "execution_count": 47,
      "outputs": []
    },
    {
      "cell_type": "code",
      "source": [
        "text_as_int = np.array([char2idx[c] for c in text])\n",
        "text_as_int"
      ],
      "metadata": {
        "colab": {
          "base_uri": "https://localhost:8080/"
        },
        "id": "xewj_MVzd-1O",
        "outputId": "5e82e577-f952-4e44-c0e8-f5876d662915"
      },
      "execution_count": 48,
      "outputs": [
        {
          "output_type": "execute_result",
          "data": {
            "text/plain": [
              "array([18, 47, 56, ...,  8,  0,  0])"
            ]
          },
          "metadata": {},
          "execution_count": 48
        }
      ]
    },
    {
      "cell_type": "code",
      "source": [
        "type(text_as_int)"
      ],
      "metadata": {
        "colab": {
          "base_uri": "https://localhost:8080/"
        },
        "id": "ea3BK2ixeg9d",
        "outputId": "73a48874-fefe-43ca-e894-be8f23531bfb"
      },
      "execution_count": 49,
      "outputs": [
        {
          "output_type": "execute_result",
          "data": {
            "text/plain": [
              "numpy.ndarray"
            ]
          },
          "metadata": {},
          "execution_count": 49
        }
      ]
    },
    {
      "cell_type": "code",
      "source": [
        "seq_length = 100\n",
        "example_per_epoch = len(text) // (seq_length + 1)\n",
        "char_dataset = tf.data.Dataset.from_tensor_slices(text_as_int)\n",
        "\n",
        "for i in char_dataset.take(20):\n",
        "    print(i.numpy(), end = \" : \" )\n",
        "    print(idx2char[i.numpy()])\n",
        "    print"
      ],
      "metadata": {
        "colab": {
          "base_uri": "https://localhost:8080/"
        },
        "id": "tab0gcrLd-t2",
        "outputId": "b9629281-da70-4f16-de49-4789a4664241"
      },
      "execution_count": 50,
      "outputs": [
        {
          "output_type": "stream",
          "name": "stdout",
          "text": [
            "18 : F\n",
            "47 : i\n",
            "56 : r\n",
            "57 : s\n",
            "58 : t\n",
            "1 :  \n",
            "15 : C\n",
            "47 : i\n",
            "58 : t\n",
            "47 : i\n",
            "64 : z\n",
            "43 : e\n",
            "52 : n\n",
            "10 : :\n",
            "0 : \n",
            "\n",
            "14 : B\n",
            "43 : e\n",
            "44 : f\n",
            "53 : o\n",
            "56 : r\n"
          ]
        }
      ]
    },
    {
      "cell_type": "code",
      "source": [
        "sequences = char_dataset.batch(seq_length + 1, drop_remainder= True)\n",
        "\n",
        "for item in sequences.take(1):\n",
        "    print(item)\n",
        "    print(repr(\"\".join(idx2char[item.numpy()])))"
      ],
      "metadata": {
        "colab": {
          "base_uri": "https://localhost:8080/"
        },
        "id": "2VT2RvWRgus2",
        "outputId": "678a5760-57b3-4e98-a584-3bed8889b48a"
      },
      "execution_count": 51,
      "outputs": [
        {
          "output_type": "stream",
          "name": "stdout",
          "text": [
            "tf.Tensor(\n",
            "[18 47 56 57 58  1 15 47 58 47 64 43 52 10  0 14 43 44 53 56 43  1 61 43\n",
            "  1 54 56 53 41 43 43 42  1 39 52 63  1 44 59 56 58 46 43 56  6  1 46 43\n",
            " 39 56  1 51 43  1 57 54 43 39 49  8  0  0 13 50 50 10  0 31 54 43 39 49\n",
            "  6  1 57 54 43 39 49  8  0  0 18 47 56 57 58  1 15 47 58 47 64 43 52 10\n",
            "  0 37 53 59  1], shape=(101,), dtype=int64)\n",
            "'First Citizen:\\nBefore we proceed any further, hear me speak.\\n\\nAll:\\nSpeak, speak.\\n\\nFirst Citizen:\\nYou '\n"
          ]
        }
      ]
    },
    {
      "cell_type": "code",
      "source": [
        "def split_input_target(chunk):\n",
        "    input_text = chunk[:-1]     # first hundred characters\n",
        "    target_text = chunk[1:]     # offset one as target\n",
        "    return input_text, target_text\n",
        "\n",
        "dataset = sequences.map(split_input_target)\n"
      ],
      "metadata": {
        "id": "En5hsBq7hcwX"
      },
      "execution_count": 52,
      "outputs": []
    },
    {
      "cell_type": "code",
      "source": [
        "for inp_ex, tar_ex in dataset.take(1):\n",
        "    print(repr(\"\".join(idx2char[inp_ex.numpy()])))\n",
        "    print(repr(\"\".join(idx2char[tar_ex.numpy()])))"
      ],
      "metadata": {
        "colab": {
          "base_uri": "https://localhost:8080/"
        },
        "id": "2dpQNqVwhcpK",
        "outputId": "397812b6-d796-4ed6-fa2d-2e4e331e0f7d"
      },
      "execution_count": 53,
      "outputs": [
        {
          "output_type": "stream",
          "name": "stdout",
          "text": [
            "'First Citizen:\\nBefore we proceed any further, hear me speak.\\n\\nAll:\\nSpeak, speak.\\n\\nFirst Citizen:\\nYou'\n",
            "'irst Citizen:\\nBefore we proceed any further, hear me speak.\\n\\nAll:\\nSpeak, speak.\\n\\nFirst Citizen:\\nYou '\n"
          ]
        }
      ]
    },
    {
      "cell_type": "code",
      "source": [
        "BUFFER_SIZE = 10000\n",
        "dataset = dataset.shuffle(BUFFER_SIZE).batch(BATCH_SIZE,\n",
        "                                            drop_remainder = True)\n",
        "dataset"
      ],
      "metadata": {
        "colab": {
          "base_uri": "https://localhost:8080/"
        },
        "id": "ypCwIai0hcl-",
        "outputId": "f5e1ffb9-6023-4f39-dc55-011fa7126fb1"
      },
      "execution_count": 54,
      "outputs": [
        {
          "output_type": "execute_result",
          "data": {
            "text/plain": [
              "<_BatchDataset element_spec=(TensorSpec(shape=(64, 100), dtype=tf.int64, name=None), TensorSpec(shape=(64, 100), dtype=tf.int64, name=None))>"
            ]
          },
          "metadata": {},
          "execution_count": 54
        }
      ]
    },
    {
      "cell_type": "code",
      "source": [
        "vocab_size = len(vocab)\n",
        "embedding_dim = 256\n",
        "rnn_units = 1024"
      ],
      "metadata": {
        "id": "QM0wiNEhgujP"
      },
      "execution_count": 55,
      "outputs": []
    },
    {
      "cell_type": "code",
      "source": [
        "def build_model(vocab_size,\n",
        "                embedding_dim,\n",
        "                rnn_units,\n",
        "                batch_size = BATCH_SIZE):\n",
        "\n",
        "    return tf.keras.Sequential([\n",
        "        tf.keras.layers.Input(shape = (None, ),\n",
        "                              batch_size = BATCH_SIZE),\n",
        "        tf.keras.layers.Embedding(vocab_size,\n",
        "                                  embedding_dim),\n",
        "        tf.keras.layers.GRU(rnn_units,\n",
        "                            return_sequences = True,\n",
        "                            stateful = True,\n",
        "                            recurrent_initializer = \"glorot_uniform\"),\n",
        "        tf.keras.layers.Dense(vocab_size)\n",
        "    ])\n",
        "\n"
      ],
      "metadata": {
        "id": "p2HT6LaGd-qm"
      },
      "execution_count": 56,
      "outputs": []
    },
    {
      "cell_type": "code",
      "source": [
        "model = build_model(vocab_size, embedding_dim, rnn_units)\n"
      ],
      "metadata": {
        "id": "BZbmOTXjkFIy"
      },
      "execution_count": 63,
      "outputs": []
    },
    {
      "cell_type": "code",
      "source": [
        "for inp_ex, tar_ex in dataset.take(1):\n",
        "    ex_pred = model(inp_ex)"
      ],
      "metadata": {
        "id": "pfsn_LBqkFFh"
      },
      "execution_count": 64,
      "outputs": []
    },
    {
      "cell_type": "code",
      "source": [
        "len(ex_pred)"
      ],
      "metadata": {
        "colab": {
          "base_uri": "https://localhost:8080/"
        },
        "id": "wF26c68vkFCE",
        "outputId": "4c138bbb-2b89-4251-b027-4ab7287367cb"
      },
      "execution_count": 65,
      "outputs": [
        {
          "output_type": "execute_result",
          "data": {
            "text/plain": [
              "64"
            ]
          },
          "metadata": {},
          "execution_count": 65
        }
      ]
    },
    {
      "cell_type": "code",
      "source": [
        "# why we sample\n",
        "\n",
        "sample_indices = tf.random.categorical(ex_pred[0], num_samples = 1)\n",
        "print(sample_indices.shape)"
      ],
      "metadata": {
        "colab": {
          "base_uri": "https://localhost:8080/"
        },
        "id": "oQ7e3Vb9kE5p",
        "outputId": "0a38426b-e315-46f8-8689-25fc4fa2905d"
      },
      "execution_count": 66,
      "outputs": [
        {
          "output_type": "stream",
          "name": "stdout",
          "text": [
            "(100, 1)\n"
          ]
        }
      ]
    },
    {
      "cell_type": "code",
      "source": [
        "sample_indices = tf.squeeze(sample_indices, axis = -1).numpy()\n",
        "sample_indices.shape"
      ],
      "metadata": {
        "colab": {
          "base_uri": "https://localhost:8080/"
        },
        "id": "1WNb0tu2oFzY",
        "outputId": "6584bf13-2f16-4cb7-9f55-ad978c8d63d8"
      },
      "execution_count": 67,
      "outputs": [
        {
          "output_type": "execute_result",
          "data": {
            "text/plain": [
              "(100,)"
            ]
          },
          "metadata": {},
          "execution_count": 67
        }
      ]
    },
    {
      "cell_type": "code",
      "source": [],
      "metadata": {
        "id": "9nj7urWHoFwa"
      },
      "execution_count": null,
      "outputs": []
    },
    {
      "cell_type": "code",
      "source": [],
      "metadata": {
        "id": "phe4Sv7goFta"
      },
      "execution_count": null,
      "outputs": []
    },
    {
      "cell_type": "code",
      "source": [],
      "metadata": {
        "id": "fBdw5uULnlKL"
      },
      "execution_count": null,
      "outputs": []
    },
    {
      "cell_type": "code",
      "source": [],
      "metadata": {
        "id": "cQgXZSd3nlHj"
      },
      "execution_count": null,
      "outputs": []
    },
    {
      "cell_type": "code",
      "source": [],
      "metadata": {
        "id": "iMKBAY9RnlFE"
      },
      "execution_count": null,
      "outputs": []
    },
    {
      "cell_type": "code",
      "source": [
        "x_train = x_data[: split]\n",
        "x_test = x_data[split : ]\n",
        "y_train = y_df['temp'].values[: split]\n",
        "y_test = y_df['temp'].values[split:]\n",
        "\n",
        "x_train.shape, x_test.shape, y_train.shape, y_test.shape"
      ],
      "metadata": {
        "colab": {
          "base_uri": "https://localhost:8080/"
        },
        "id": "RjLPHr6lb3C2",
        "outputId": "acf01fb5-db04-44a6-bc4a-927532d5fa67"
      },
      "execution_count": null,
      "outputs": [
        {
          "output_type": "execute_result",
          "data": {
            "text/plain": [
              "((3214, 23, 4), (804, 23, 4), (3214,), (804,))"
            ]
          },
          "metadata": {},
          "execution_count": 52
        }
      ]
    },
    {
      "cell_type": "code",
      "source": [
        "h_units = 256\n",
        "input_shape = (time_step - 1, x_train.shape[2])\n",
        "initializer = tf.keras.initializers.GlorotUniform(seed=RANDOM_STATE)\n",
        "\n",
        "model = tf.keras.Sequential()\n",
        "model.add(tf.keras.layers.Input(shape = input_shape))\n",
        "model.add(tf.keras.layers.SimpleRNN(units = h_units,\n",
        "                                    kernel_initializer = initializer,\n",
        "                                    activation = 'tanh'))\n",
        "model.add(tf.keras.layers.Dense(1,\n",
        "                                kernel_initializer = initializer,\n",
        "                                activation = 'linear'))\n",
        "\n",
        "model.summary()"
      ],
      "metadata": {
        "colab": {
          "base_uri": "https://localhost:8080/",
          "height": 204
        },
        "id": "xGSzQY3cdHK0",
        "outputId": "6f751cd7-6d81-4b70-87aa-d10287a88d2c"
      },
      "execution_count": null,
      "outputs": [
        {
          "output_type": "display_data",
          "data": {
            "text/plain": [
              "\u001b[1mModel: \"sequential_3\"\u001b[0m\n"
            ],
            "text/html": [
              "<pre style=\"white-space:pre;overflow-x:auto;line-height:normal;font-family:Menlo,'DejaVu Sans Mono',consolas,'Courier New',monospace\"><span style=\"font-weight: bold\">Model: \"sequential_3\"</span>\n",
              "</pre>\n"
            ]
          },
          "metadata": {}
        },
        {
          "output_type": "display_data",
          "data": {
            "text/plain": [
              "┏━━━━━━━━━━━━━━━━━━━━━━━━━━━━━━━━━━━━━━┳━━━━━━━━━━━━━━━━━━━━━━━━━━━━━┳━━━━━━━━━━━━━━━━━┓\n",
              "┃\u001b[1m \u001b[0m\u001b[1mLayer (type)                        \u001b[0m\u001b[1m \u001b[0m┃\u001b[1m \u001b[0m\u001b[1mOutput Shape               \u001b[0m\u001b[1m \u001b[0m┃\u001b[1m \u001b[0m\u001b[1m        Param #\u001b[0m\u001b[1m \u001b[0m┃\n",
              "┡━━━━━━━━━━━━━━━━━━━━━━━━━━━━━━━━━━━━━━╇━━━━━━━━━━━━━━━━━━━━━━━━━━━━━╇━━━━━━━━━━━━━━━━━┩\n",
              "│ simple_rnn_3 (\u001b[38;5;33mSimpleRNN\u001b[0m)             │ (\u001b[38;5;45mNone\u001b[0m, \u001b[38;5;34m256\u001b[0m)                 │          \u001b[38;5;34m66,816\u001b[0m │\n",
              "├──────────────────────────────────────┼─────────────────────────────┼─────────────────┤\n",
              "│ dense_3 (\u001b[38;5;33mDense\u001b[0m)                      │ (\u001b[38;5;45mNone\u001b[0m, \u001b[38;5;34m1\u001b[0m)                   │             \u001b[38;5;34m257\u001b[0m │\n",
              "└──────────────────────────────────────┴─────────────────────────────┴─────────────────┘\n"
            ],
            "text/html": [
              "<pre style=\"white-space:pre;overflow-x:auto;line-height:normal;font-family:Menlo,'DejaVu Sans Mono',consolas,'Courier New',monospace\">┏━━━━━━━━━━━━━━━━━━━━━━━━━━━━━━━━━━━━━━┳━━━━━━━━━━━━━━━━━━━━━━━━━━━━━┳━━━━━━━━━━━━━━━━━┓\n",
              "┃<span style=\"font-weight: bold\"> Layer (type)                         </span>┃<span style=\"font-weight: bold\"> Output Shape                </span>┃<span style=\"font-weight: bold\">         Param # </span>┃\n",
              "┡━━━━━━━━━━━━━━━━━━━━━━━━━━━━━━━━━━━━━━╇━━━━━━━━━━━━━━━━━━━━━━━━━━━━━╇━━━━━━━━━━━━━━━━━┩\n",
              "│ simple_rnn_3 (<span style=\"color: #0087ff; text-decoration-color: #0087ff\">SimpleRNN</span>)             │ (<span style=\"color: #00d7ff; text-decoration-color: #00d7ff\">None</span>, <span style=\"color: #00af00; text-decoration-color: #00af00\">256</span>)                 │          <span style=\"color: #00af00; text-decoration-color: #00af00\">66,816</span> │\n",
              "├──────────────────────────────────────┼─────────────────────────────┼─────────────────┤\n",
              "│ dense_3 (<span style=\"color: #0087ff; text-decoration-color: #0087ff\">Dense</span>)                      │ (<span style=\"color: #00d7ff; text-decoration-color: #00d7ff\">None</span>, <span style=\"color: #00af00; text-decoration-color: #00af00\">1</span>)                   │             <span style=\"color: #00af00; text-decoration-color: #00af00\">257</span> │\n",
              "└──────────────────────────────────────┴─────────────────────────────┴─────────────────┘\n",
              "</pre>\n"
            ]
          },
          "metadata": {}
        },
        {
          "output_type": "display_data",
          "data": {
            "text/plain": [
              "\u001b[1m Total params: \u001b[0m\u001b[38;5;34m67,073\u001b[0m (262.00 KB)\n"
            ],
            "text/html": [
              "<pre style=\"white-space:pre;overflow-x:auto;line-height:normal;font-family:Menlo,'DejaVu Sans Mono',consolas,'Courier New',monospace\"><span style=\"font-weight: bold\"> Total params: </span><span style=\"color: #00af00; text-decoration-color: #00af00\">67,073</span> (262.00 KB)\n",
              "</pre>\n"
            ]
          },
          "metadata": {}
        },
        {
          "output_type": "display_data",
          "data": {
            "text/plain": [
              "\u001b[1m Trainable params: \u001b[0m\u001b[38;5;34m67,073\u001b[0m (262.00 KB)\n"
            ],
            "text/html": [
              "<pre style=\"white-space:pre;overflow-x:auto;line-height:normal;font-family:Menlo,'DejaVu Sans Mono',consolas,'Courier New',monospace\"><span style=\"font-weight: bold\"> Trainable params: </span><span style=\"color: #00af00; text-decoration-color: #00af00\">67,073</span> (262.00 KB)\n",
              "</pre>\n"
            ]
          },
          "metadata": {}
        },
        {
          "output_type": "display_data",
          "data": {
            "text/plain": [
              "\u001b[1m Non-trainable params: \u001b[0m\u001b[38;5;34m0\u001b[0m (0.00 B)\n"
            ],
            "text/html": [
              "<pre style=\"white-space:pre;overflow-x:auto;line-height:normal;font-family:Menlo,'DejaVu Sans Mono',consolas,'Courier New',monospace\"><span style=\"font-weight: bold\"> Non-trainable params: </span><span style=\"color: #00af00; text-decoration-color: #00af00\">0</span> (0.00 B)\n",
              "</pre>\n"
            ]
          },
          "metadata": {}
        }
      ]
    },
    {
      "cell_type": "code",
      "source": [
        "model.compile(optimizer = \"adam\",\n",
        "              loss = 'mean_squared_error',\n",
        "              metrics = [tf.keras.metrics.RootMeanSquaredError(name = 'RMSE')])\n",
        "\n",
        "history = model.fit(x_train, y_train,\n",
        "                    validation_data = [x_test, y_test],\n",
        "                    batch_size = BATCH_SIZE,\n",
        "                    verbose = 2,\n",
        "                    epochs = EPOCHS)"
      ],
      "metadata": {
        "colab": {
          "base_uri": "https://localhost:8080/"
        },
        "collapsed": true,
        "id": "K710kUvGdHG6",
        "outputId": "31b5f74e-2c7a-49a1-c33d-99a8942dafb3"
      },
      "execution_count": null,
      "outputs": [
        {
          "output_type": "stream",
          "name": "stdout",
          "text": [
            "Epoch 1/30\n",
            "101/101 - 4s - 38ms/step - RMSE: 8.3823 - loss: 70.2623 - val_RMSE: 7.2662 - val_loss: 52.7970\n",
            "Epoch 2/30\n",
            "101/101 - 2s - 21ms/step - RMSE: 8.1825 - loss: 66.9534 - val_RMSE: 7.3541 - val_loss: 54.0832\n",
            "Epoch 3/30\n",
            "101/101 - 4s - 37ms/step - RMSE: 8.2495 - loss: 68.0547 - val_RMSE: 7.2327 - val_loss: 52.3117\n",
            "Epoch 4/30\n",
            "101/101 - 3s - 33ms/step - RMSE: 8.1373 - loss: 66.2162 - val_RMSE: 7.5531 - val_loss: 57.0488\n",
            "Epoch 5/30\n",
            "101/101 - 2s - 21ms/step - RMSE: 8.2073 - loss: 67.3599 - val_RMSE: 7.3395 - val_loss: 53.8684\n",
            "Epoch 6/30\n",
            "101/101 - 3s - 25ms/step - RMSE: 8.0928 - loss: 65.4934 - val_RMSE: 7.3805 - val_loss: 54.4721\n",
            "Epoch 7/30\n",
            "101/101 - 2s - 24ms/step - RMSE: 8.0508 - loss: 64.8153 - val_RMSE: 7.4290 - val_loss: 55.1904\n",
            "Epoch 8/30\n",
            "101/101 - 3s - 34ms/step - RMSE: 7.9930 - loss: 63.8885 - val_RMSE: 7.4826 - val_loss: 55.9901\n",
            "Epoch 9/30\n",
            "101/101 - 2s - 19ms/step - RMSE: 7.9084 - loss: 62.5433 - val_RMSE: 7.4247 - val_loss: 55.1267\n",
            "Epoch 10/30\n",
            "101/101 - 2s - 20ms/step - RMSE: 7.9498 - loss: 63.1993 - val_RMSE: 7.5815 - val_loss: 57.4790\n",
            "Epoch 11/30\n",
            "101/101 - 2s - 20ms/step - RMSE: 7.8592 - loss: 61.7674 - val_RMSE: 7.6443 - val_loss: 58.4359\n",
            "Epoch 12/30\n",
            "101/101 - 2s - 19ms/step - RMSE: 7.8626 - loss: 61.8204 - val_RMSE: 7.5222 - val_loss: 56.5839\n",
            "Epoch 13/30\n",
            "101/101 - 4s - 37ms/step - RMSE: 7.8268 - loss: 61.2591 - val_RMSE: 7.5329 - val_loss: 56.7447\n",
            "Epoch 14/30\n",
            "101/101 - 4s - 39ms/step - RMSE: 7.8034 - loss: 60.8923 - val_RMSE: 7.5507 - val_loss: 57.0130\n",
            "Epoch 15/30\n",
            "101/101 - 2s - 19ms/step - RMSE: 7.7976 - loss: 60.8027 - val_RMSE: 7.6250 - val_loss: 58.1409\n",
            "Epoch 16/30\n",
            "101/101 - 2s - 19ms/step - RMSE: 7.7606 - loss: 60.2267 - val_RMSE: 7.6790 - val_loss: 58.9675\n",
            "Epoch 17/30\n",
            "101/101 - 2s - 24ms/step - RMSE: 7.7768 - loss: 60.4786 - val_RMSE: 7.6127 - val_loss: 57.9534\n",
            "Epoch 18/30\n",
            "101/101 - 5s - 46ms/step - RMSE: 7.7566 - loss: 60.1648 - val_RMSE: 7.5601 - val_loss: 57.1544\n",
            "Epoch 19/30\n",
            "101/101 - 3s - 32ms/step - RMSE: 7.7197 - loss: 59.5936 - val_RMSE: 7.6475 - val_loss: 58.4845\n",
            "Epoch 20/30\n",
            "101/101 - 3s - 25ms/step - RMSE: 7.7423 - loss: 59.9429 - val_RMSE: 7.3293 - val_loss: 53.7194\n",
            "Epoch 21/30\n",
            "101/101 - 2s - 24ms/step - RMSE: 7.8775 - loss: 62.0545 - val_RMSE: 7.5135 - val_loss: 56.4532\n",
            "Epoch 22/30\n",
            "101/101 - 3s - 34ms/step - RMSE: 7.9306 - loss: 62.8951 - val_RMSE: 8.4616 - val_loss: 71.5986\n",
            "Epoch 23/30\n",
            "101/101 - 3s - 28ms/step - RMSE: 8.0439 - loss: 64.7045 - val_RMSE: 7.3563 - val_loss: 54.1154\n",
            "Epoch 24/30\n",
            "101/101 - 4s - 40ms/step - RMSE: 7.8044 - loss: 60.9087 - val_RMSE: 7.4463 - val_loss: 55.4479\n",
            "Epoch 25/30\n",
            "101/101 - 2s - 19ms/step - RMSE: 7.7609 - loss: 60.2321 - val_RMSE: 7.5276 - val_loss: 56.6651\n",
            "Epoch 26/30\n",
            "101/101 - 2s - 20ms/step - RMSE: 7.7555 - loss: 60.1482 - val_RMSE: 7.5119 - val_loss: 56.4282\n",
            "Epoch 27/30\n",
            "101/101 - 4s - 42ms/step - RMSE: 7.7411 - loss: 59.9239 - val_RMSE: 7.4320 - val_loss: 55.2348\n",
            "Epoch 28/30\n",
            "101/101 - 3s - 33ms/step - RMSE: 7.7226 - loss: 59.6384 - val_RMSE: 7.5497 - val_loss: 56.9973\n",
            "Epoch 29/30\n",
            "101/101 - 2s - 19ms/step - RMSE: 8.1917 - loss: 67.1038 - val_RMSE: 7.3091 - val_loss: 53.4226\n",
            "Epoch 30/30\n",
            "101/101 - 2s - 20ms/step - RMSE: 7.8653 - loss: 61.8636 - val_RMSE: 7.4632 - val_loss: 55.6991\n"
          ]
        }
      ]
    },
    {
      "cell_type": "code",
      "source": [
        "hist_df = pd.DataFrame(history.history)\n",
        "display(hist_df.head())"
      ],
      "metadata": {
        "colab": {
          "base_uri": "https://localhost:8080/",
          "height": 206
        },
        "id": "0v0rVPheeuIw",
        "outputId": "1b07234c-d3f2-4263-b89e-acc56c1657e6"
      },
      "execution_count": null,
      "outputs": [
        {
          "output_type": "display_data",
          "data": {
            "text/plain": [
              "       RMSE       loss  val_RMSE   val_loss\n",
              "0  8.382258  70.262260  7.266154  52.796993\n",
              "1  8.182504  66.953369  7.354127  54.083187\n",
              "2  8.249530  68.054749  7.232682  52.311695\n",
              "3  8.137335  66.216217  7.553066  57.048809\n",
              "4  8.207310  67.359932  7.339510  53.868416"
            ],
            "text/html": [
              "\n",
              "  <div id=\"df-cd776463-393a-4d13-9986-5550cb662dbf\" class=\"colab-df-container\">\n",
              "    <div>\n",
              "<style scoped>\n",
              "    .dataframe tbody tr th:only-of-type {\n",
              "        vertical-align: middle;\n",
              "    }\n",
              "\n",
              "    .dataframe tbody tr th {\n",
              "        vertical-align: top;\n",
              "    }\n",
              "\n",
              "    .dataframe thead th {\n",
              "        text-align: right;\n",
              "    }\n",
              "</style>\n",
              "<table border=\"1\" class=\"dataframe\">\n",
              "  <thead>\n",
              "    <tr style=\"text-align: right;\">\n",
              "      <th></th>\n",
              "      <th>RMSE</th>\n",
              "      <th>loss</th>\n",
              "      <th>val_RMSE</th>\n",
              "      <th>val_loss</th>\n",
              "    </tr>\n",
              "  </thead>\n",
              "  <tbody>\n",
              "    <tr>\n",
              "      <th>0</th>\n",
              "      <td>8.382258</td>\n",
              "      <td>70.262260</td>\n",
              "      <td>7.266154</td>\n",
              "      <td>52.796993</td>\n",
              "    </tr>\n",
              "    <tr>\n",
              "      <th>1</th>\n",
              "      <td>8.182504</td>\n",
              "      <td>66.953369</td>\n",
              "      <td>7.354127</td>\n",
              "      <td>54.083187</td>\n",
              "    </tr>\n",
              "    <tr>\n",
              "      <th>2</th>\n",
              "      <td>8.249530</td>\n",
              "      <td>68.054749</td>\n",
              "      <td>7.232682</td>\n",
              "      <td>52.311695</td>\n",
              "    </tr>\n",
              "    <tr>\n",
              "      <th>3</th>\n",
              "      <td>8.137335</td>\n",
              "      <td>66.216217</td>\n",
              "      <td>7.553066</td>\n",
              "      <td>57.048809</td>\n",
              "    </tr>\n",
              "    <tr>\n",
              "      <th>4</th>\n",
              "      <td>8.207310</td>\n",
              "      <td>67.359932</td>\n",
              "      <td>7.339510</td>\n",
              "      <td>53.868416</td>\n",
              "    </tr>\n",
              "  </tbody>\n",
              "</table>\n",
              "</div>\n",
              "    <div class=\"colab-df-buttons\">\n",
              "\n",
              "  <div class=\"colab-df-container\">\n",
              "    <button class=\"colab-df-convert\" onclick=\"convertToInteractive('df-cd776463-393a-4d13-9986-5550cb662dbf')\"\n",
              "            title=\"Convert this dataframe to an interactive table.\"\n",
              "            style=\"display:none;\">\n",
              "\n",
              "  <svg xmlns=\"http://www.w3.org/2000/svg\" height=\"24px\" viewBox=\"0 -960 960 960\">\n",
              "    <path d=\"M120-120v-720h720v720H120Zm60-500h600v-160H180v160Zm220 220h160v-160H400v160Zm0 220h160v-160H400v160ZM180-400h160v-160H180v160Zm440 0h160v-160H620v160ZM180-180h160v-160H180v160Zm440 0h160v-160H620v160Z\"/>\n",
              "  </svg>\n",
              "    </button>\n",
              "\n",
              "  <style>\n",
              "    .colab-df-container {\n",
              "      display:flex;\n",
              "      gap: 12px;\n",
              "    }\n",
              "\n",
              "    .colab-df-convert {\n",
              "      background-color: #E8F0FE;\n",
              "      border: none;\n",
              "      border-radius: 50%;\n",
              "      cursor: pointer;\n",
              "      display: none;\n",
              "      fill: #1967D2;\n",
              "      height: 32px;\n",
              "      padding: 0 0 0 0;\n",
              "      width: 32px;\n",
              "    }\n",
              "\n",
              "    .colab-df-convert:hover {\n",
              "      background-color: #E2EBFA;\n",
              "      box-shadow: 0px 1px 2px rgba(60, 64, 67, 0.3), 0px 1px 3px 1px rgba(60, 64, 67, 0.15);\n",
              "      fill: #174EA6;\n",
              "    }\n",
              "\n",
              "    .colab-df-buttons div {\n",
              "      margin-bottom: 4px;\n",
              "    }\n",
              "\n",
              "    [theme=dark] .colab-df-convert {\n",
              "      background-color: #3B4455;\n",
              "      fill: #D2E3FC;\n",
              "    }\n",
              "\n",
              "    [theme=dark] .colab-df-convert:hover {\n",
              "      background-color: #434B5C;\n",
              "      box-shadow: 0px 1px 3px 1px rgba(0, 0, 0, 0.15);\n",
              "      filter: drop-shadow(0px 1px 2px rgba(0, 0, 0, 0.3));\n",
              "      fill: #FFFFFF;\n",
              "    }\n",
              "  </style>\n",
              "\n",
              "    <script>\n",
              "      const buttonEl =\n",
              "        document.querySelector('#df-cd776463-393a-4d13-9986-5550cb662dbf button.colab-df-convert');\n",
              "      buttonEl.style.display =\n",
              "        google.colab.kernel.accessAllowed ? 'block' : 'none';\n",
              "\n",
              "      async function convertToInteractive(key) {\n",
              "        const element = document.querySelector('#df-cd776463-393a-4d13-9986-5550cb662dbf');\n",
              "        const dataTable =\n",
              "          await google.colab.kernel.invokeFunction('convertToInteractive',\n",
              "                                                    [key], {});\n",
              "        if (!dataTable) return;\n",
              "\n",
              "        const docLinkHtml = 'Like what you see? Visit the ' +\n",
              "          '<a target=\"_blank\" href=https://colab.research.google.com/notebooks/data_table.ipynb>data table notebook</a>'\n",
              "          + ' to learn more about interactive tables.';\n",
              "        element.innerHTML = '';\n",
              "        dataTable['output_type'] = 'display_data';\n",
              "        await google.colab.output.renderOutput(dataTable, element);\n",
              "        const docLink = document.createElement('div');\n",
              "        docLink.innerHTML = docLinkHtml;\n",
              "        element.appendChild(docLink);\n",
              "      }\n",
              "    </script>\n",
              "  </div>\n",
              "\n",
              "\n",
              "<div id=\"df-59aab691-e748-49e4-a408-7a175f09c0a0\">\n",
              "  <button class=\"colab-df-quickchart\" onclick=\"quickchart('df-59aab691-e748-49e4-a408-7a175f09c0a0')\"\n",
              "            title=\"Suggest charts\"\n",
              "            style=\"display:none;\">\n",
              "\n",
              "<svg xmlns=\"http://www.w3.org/2000/svg\" height=\"24px\"viewBox=\"0 0 24 24\"\n",
              "     width=\"24px\">\n",
              "    <g>\n",
              "        <path d=\"M19 3H5c-1.1 0-2 .9-2 2v14c0 1.1.9 2 2 2h14c1.1 0 2-.9 2-2V5c0-1.1-.9-2-2-2zM9 17H7v-7h2v7zm4 0h-2V7h2v10zm4 0h-2v-4h2v4z\"/>\n",
              "    </g>\n",
              "</svg>\n",
              "  </button>\n",
              "\n",
              "<style>\n",
              "  .colab-df-quickchart {\n",
              "      --bg-color: #E8F0FE;\n",
              "      --fill-color: #1967D2;\n",
              "      --hover-bg-color: #E2EBFA;\n",
              "      --hover-fill-color: #174EA6;\n",
              "      --disabled-fill-color: #AAA;\n",
              "      --disabled-bg-color: #DDD;\n",
              "  }\n",
              "\n",
              "  [theme=dark] .colab-df-quickchart {\n",
              "      --bg-color: #3B4455;\n",
              "      --fill-color: #D2E3FC;\n",
              "      --hover-bg-color: #434B5C;\n",
              "      --hover-fill-color: #FFFFFF;\n",
              "      --disabled-bg-color: #3B4455;\n",
              "      --disabled-fill-color: #666;\n",
              "  }\n",
              "\n",
              "  .colab-df-quickchart {\n",
              "    background-color: var(--bg-color);\n",
              "    border: none;\n",
              "    border-radius: 50%;\n",
              "    cursor: pointer;\n",
              "    display: none;\n",
              "    fill: var(--fill-color);\n",
              "    height: 32px;\n",
              "    padding: 0;\n",
              "    width: 32px;\n",
              "  }\n",
              "\n",
              "  .colab-df-quickchart:hover {\n",
              "    background-color: var(--hover-bg-color);\n",
              "    box-shadow: 0 1px 2px rgba(60, 64, 67, 0.3), 0 1px 3px 1px rgba(60, 64, 67, 0.15);\n",
              "    fill: var(--button-hover-fill-color);\n",
              "  }\n",
              "\n",
              "  .colab-df-quickchart-complete:disabled,\n",
              "  .colab-df-quickchart-complete:disabled:hover {\n",
              "    background-color: var(--disabled-bg-color);\n",
              "    fill: var(--disabled-fill-color);\n",
              "    box-shadow: none;\n",
              "  }\n",
              "\n",
              "  .colab-df-spinner {\n",
              "    border: 2px solid var(--fill-color);\n",
              "    border-color: transparent;\n",
              "    border-bottom-color: var(--fill-color);\n",
              "    animation:\n",
              "      spin 1s steps(1) infinite;\n",
              "  }\n",
              "\n",
              "  @keyframes spin {\n",
              "    0% {\n",
              "      border-color: transparent;\n",
              "      border-bottom-color: var(--fill-color);\n",
              "      border-left-color: var(--fill-color);\n",
              "    }\n",
              "    20% {\n",
              "      border-color: transparent;\n",
              "      border-left-color: var(--fill-color);\n",
              "      border-top-color: var(--fill-color);\n",
              "    }\n",
              "    30% {\n",
              "      border-color: transparent;\n",
              "      border-left-color: var(--fill-color);\n",
              "      border-top-color: var(--fill-color);\n",
              "      border-right-color: var(--fill-color);\n",
              "    }\n",
              "    40% {\n",
              "      border-color: transparent;\n",
              "      border-right-color: var(--fill-color);\n",
              "      border-top-color: var(--fill-color);\n",
              "    }\n",
              "    60% {\n",
              "      border-color: transparent;\n",
              "      border-right-color: var(--fill-color);\n",
              "    }\n",
              "    80% {\n",
              "      border-color: transparent;\n",
              "      border-right-color: var(--fill-color);\n",
              "      border-bottom-color: var(--fill-color);\n",
              "    }\n",
              "    90% {\n",
              "      border-color: transparent;\n",
              "      border-bottom-color: var(--fill-color);\n",
              "    }\n",
              "  }\n",
              "</style>\n",
              "\n",
              "  <script>\n",
              "    async function quickchart(key) {\n",
              "      const quickchartButtonEl =\n",
              "        document.querySelector('#' + key + ' button');\n",
              "      quickchartButtonEl.disabled = true;  // To prevent multiple clicks.\n",
              "      quickchartButtonEl.classList.add('colab-df-spinner');\n",
              "      try {\n",
              "        const charts = await google.colab.kernel.invokeFunction(\n",
              "            'suggestCharts', [key], {});\n",
              "      } catch (error) {\n",
              "        console.error('Error during call to suggestCharts:', error);\n",
              "      }\n",
              "      quickchartButtonEl.classList.remove('colab-df-spinner');\n",
              "      quickchartButtonEl.classList.add('colab-df-quickchart-complete');\n",
              "    }\n",
              "    (() => {\n",
              "      let quickchartButtonEl =\n",
              "        document.querySelector('#df-59aab691-e748-49e4-a408-7a175f09c0a0 button');\n",
              "      quickchartButtonEl.style.display =\n",
              "        google.colab.kernel.accessAllowed ? 'block' : 'none';\n",
              "    })();\n",
              "  </script>\n",
              "</div>\n",
              "\n",
              "    </div>\n",
              "  </div>\n"
            ],
            "application/vnd.google.colaboratory.intrinsic+json": {
              "type": "dataframe",
              "summary": "{\n  \"name\": \"display(hist_df\",\n  \"rows\": 5,\n  \"fields\": [\n    {\n      \"column\": \"RMSE\",\n      \"properties\": {\n        \"dtype\": \"number\",\n        \"std\": 0.09341526838757853,\n        \"min\": 8.137334823608398,\n        \"max\": 8.382258415222168,\n        \"num_unique_values\": 5,\n        \"samples\": [\n          8.182503700256348,\n          8.20730972290039,\n          8.249529838562012\n        ],\n        \"semantic_type\": \"\",\n        \"description\": \"\"\n      }\n    },\n    {\n      \"column\": \"loss\",\n      \"properties\": {\n        \"dtype\": \"number\",\n        \"std\": 1.54448410926987,\n        \"min\": 66.21621704101562,\n        \"max\": 70.26226043701172,\n        \"num_unique_values\": 5,\n        \"samples\": [\n          66.953369140625,\n          67.35993194580078,\n          68.05474853515625\n        ],\n        \"semantic_type\": \"\",\n        \"description\": \"\"\n      }\n    },\n    {\n      \"column\": \"val_RMSE\",\n      \"properties\": {\n        \"dtype\": \"number\",\n        \"std\": 0.12465215043326505,\n        \"min\": 7.232682228088379,\n        \"max\": 7.553066253662109,\n        \"num_unique_values\": 5,\n        \"samples\": [\n          7.354127407073975,\n          7.339510440826416,\n          7.232682228088379\n        ],\n        \"semantic_type\": \"\",\n        \"description\": \"\"\n      }\n    },\n    {\n      \"column\": \"val_loss\",\n      \"properties\": {\n        \"dtype\": \"number\",\n        \"std\": 1.8449044154880503,\n        \"min\": 52.31169509887695,\n        \"max\": 57.04880905151367,\n        \"num_unique_values\": 5,\n        \"samples\": [\n          54.083187103271484,\n          53.86841583251953,\n          52.31169509887695\n        ],\n        \"semantic_type\": \"\",\n        \"description\": \"\"\n      }\n    }\n  ]\n}"
            }
          },
          "metadata": {}
        }
      ]
    },
    {
      "cell_type": "code",
      "source": [
        "fn_plot_tf_hist(hist_df = hist_df)"
      ],
      "metadata": {
        "colab": {
          "base_uri": "https://localhost:8080/",
          "height": 607
        },
        "id": "zwfL3jfyet95",
        "outputId": "ecd3efd0-4af2-4d32-c53b-9ddebc9a316b"
      },
      "execution_count": null,
      "outputs": [
        {
          "output_type": "display_data",
          "data": {
            "text/plain": [
              "<Figure size 1500x600 with 2 Axes>"
            ],
            "image/png": "[encoded data removed]"
          },
          "metadata": {}
        }
      ]
    },
    {
      "cell_type": "code",
      "source": [
        "y_tr_pred = model.predict(x_train)\n",
        "y_ts_pred = model.predict(x_test)\n",
        "y_pred = np.append(y_tr_pred, y_ts_pred)\n",
        "\n",
        "res_df = y_df.copy()\n",
        "res_df['pred'] = y_pred\n",
        "res_df.head()"
      ],
      "metadata": {
        "colab": {
          "base_uri": "https://localhost:8080/",
          "height": 241
        },
        "id": "F2cn7mdtb2_f",
        "outputId": "f3f358a7-0414-4e25-9149-ba831fb05c3c"
      },
      "execution_count": null,
      "outputs": [
        {
          "output_type": "stream",
          "name": "stdout",
          "text": [
            "\u001b[1m101/101\u001b[0m \u001b[32m━━━━━━━━━━━━━━━━━━━━\u001b[0m\u001b[37m\u001b[0m \u001b[1m1s\u001b[0m 6ms/step\n",
            "\u001b[1m26/26\u001b[0m \u001b[32m━━━━━━━━━━━━━━━━━━━━\u001b[0m\u001b[37m\u001b[0m \u001b[1m0s\u001b[0m 7ms/step\n"
          ]
        },
        {
          "output_type": "execute_result",
          "data": {
            "text/plain": [
              "                     datetime      temp       pred\n",
              "24  2006-01-01 23:00:00+00:00  5.422222  10.059216\n",
              "48  2006-01-02 23:00:00+00:00  1.694444   8.816135\n",
              "72  2006-01-03 23:00:00+00:00  2.200000   8.450389\n",
              "96  2006-01-04 23:00:00+00:00  1.666667   4.405884\n",
              "120 2006-01-05 23:00:00+00:00  1.805556   6.565093"
            ],
            "text/html": [
              "\n",
              "  <div id=\"df-3c21ee7e-09b3-4c92-9731-819208e84b9d\" class=\"colab-df-container\">\n",
              "    <div>\n",
              "<style scoped>\n",
              "    .dataframe tbody tr th:only-of-type {\n",
              "        vertical-align: middle;\n",
              "    }\n",
              "\n",
              "    .dataframe tbody tr th {\n",
              "        vertical-align: top;\n",
              "    }\n",
              "\n",
              "    .dataframe thead th {\n",
              "        text-align: right;\n",
              "    }\n",
              "</style>\n",
              "<table border=\"1\" class=\"dataframe\">\n",
              "  <thead>\n",
              "    <tr style=\"text-align: right;\">\n",
              "      <th></th>\n",
              "      <th>datetime</th>\n",
              "      <th>temp</th>\n",
              "      <th>pred</th>\n",
              "    </tr>\n",
              "  </thead>\n",
              "  <tbody>\n",
              "    <tr>\n",
              "      <th>24</th>\n",
              "      <td>2006-01-01 23:00:00+00:00</td>\n",
              "      <td>5.422222</td>\n",
              "      <td>10.059216</td>\n",
              "    </tr>\n",
              "    <tr>\n",
              "      <th>48</th>\n",
              "      <td>2006-01-02 23:00:00+00:00</td>\n",
              "      <td>1.694444</td>\n",
              "      <td>8.816135</td>\n",
              "    </tr>\n",
              "    <tr>\n",
              "      <th>72</th>\n",
              "      <td>2006-01-03 23:00:00+00:00</td>\n",
              "      <td>2.200000</td>\n",
              "      <td>8.450389</td>\n",
              "    </tr>\n",
              "    <tr>\n",
              "      <th>96</th>\n",
              "      <td>2006-01-04 23:00:00+00:00</td>\n",
              "      <td>1.666667</td>\n",
              "      <td>4.405884</td>\n",
              "    </tr>\n",
              "    <tr>\n",
              "      <th>120</th>\n",
              "      <td>2006-01-05 23:00:00+00:00</td>\n",
              "      <td>1.805556</td>\n",
              "      <td>6.565093</td>\n",
              "    </tr>\n",
              "  </tbody>\n",
              "</table>\n",
              "</div>\n",
              "    <div class=\"colab-df-buttons\">\n",
              "\n",
              "  <div class=\"colab-df-container\">\n",
              "    <button class=\"colab-df-convert\" onclick=\"convertToInteractive('df-3c21ee7e-09b3-4c92-9731-819208e84b9d')\"\n",
              "            title=\"Convert this dataframe to an interactive table.\"\n",
              "            style=\"display:none;\">\n",
              "\n",
              "  <svg xmlns=\"http://www.w3.org/2000/svg\" height=\"24px\" viewBox=\"0 -960 960 960\">\n",
              "    <path d=\"M120-120v-720h720v720H120Zm60-500h600v-160H180v160Zm220 220h160v-160H400v160Zm0 220h160v-160H400v160ZM180-400h160v-160H180v160Zm440 0h160v-160H620v160ZM180-180h160v-160H180v160Zm440 0h160v-160H620v160Z\"/>\n",
              "  </svg>\n",
              "    </button>\n",
              "\n",
              "  <style>\n",
              "    .colab-df-container {\n",
              "      display:flex;\n",
              "      gap: 12px;\n",
              "    }\n",
              "\n",
              "    .colab-df-convert {\n",
              "      background-color: #E8F0FE;\n",
              "      border: none;\n",
              "      border-radius: 50%;\n",
              "      cursor: pointer;\n",
              "      display: none;\n",
              "      fill: #1967D2;\n",
              "      height: 32px;\n",
              "      padding: 0 0 0 0;\n",
              "      width: 32px;\n",
              "    }\n",
              "\n",
              "    .colab-df-convert:hover {\n",
              "      background-color: #E2EBFA;\n",
              "      box-shadow: 0px 1px 2px rgba(60, 64, 67, 0.3), 0px 1px 3px 1px rgba(60, 64, 67, 0.15);\n",
              "      fill: #174EA6;\n",
              "    }\n",
              "\n",
              "    .colab-df-buttons div {\n",
              "      margin-bottom: 4px;\n",
              "    }\n",
              "\n",
              "    [theme=dark] .colab-df-convert {\n",
              "      background-color: #3B4455;\n",
              "      fill: #D2E3FC;\n",
              "    }\n",
              "\n",
              "    [theme=dark] .colab-df-convert:hover {\n",
              "      background-color: #434B5C;\n",
              "      box-shadow: 0px 1px 3px 1px rgba(0, 0, 0, 0.15);\n",
              "      filter: drop-shadow(0px 1px 2px rgba(0, 0, 0, 0.3));\n",
              "      fill: #FFFFFF;\n",
              "    }\n",
              "  </style>\n",
              "\n",
              "    <script>\n",
              "      const buttonEl =\n",
              "        document.querySelector('#df-3c21ee7e-09b3-4c92-9731-819208e84b9d button.colab-df-convert');\n",
              "      buttonEl.style.display =\n",
              "        google.colab.kernel.accessAllowed ? 'block' : 'none';\n",
              "\n",
              "      async function convertToInteractive(key) {\n",
              "        const element = document.querySelector('#df-3c21ee7e-09b3-4c92-9731-819208e84b9d');\n",
              "        const dataTable =\n",
              "          await google.colab.kernel.invokeFunction('convertToInteractive',\n",
              "                                                    [key], {});\n",
              "        if (!dataTable) return;\n",
              "\n",
              "        const docLinkHtml = 'Like what you see? Visit the ' +\n",
              "          '<a target=\"_blank\" href=https://colab.research.google.com/notebooks/data_table.ipynb>data table notebook</a>'\n",
              "          + ' to learn more about interactive tables.';\n",
              "        element.innerHTML = '';\n",
              "        dataTable['output_type'] = 'display_data';\n",
              "        await google.colab.output.renderOutput(dataTable, element);\n",
              "        const docLink = document.createElement('div');\n",
              "        docLink.innerHTML = docLinkHtml;\n",
              "        element.appendChild(docLink);\n",
              "      }\n",
              "    </script>\n",
              "  </div>\n",
              "\n",
              "\n",
              "<div id=\"df-85ea76ac-9ca3-4264-bffc-97c67b40dbc5\">\n",
              "  <button class=\"colab-df-quickchart\" onclick=\"quickchart('df-85ea76ac-9ca3-4264-bffc-97c67b40dbc5')\"\n",
              "            title=\"Suggest charts\"\n",
              "            style=\"display:none;\">\n",
              "\n",
              "<svg xmlns=\"http://www.w3.org/2000/svg\" height=\"24px\"viewBox=\"0 0 24 24\"\n",
              "     width=\"24px\">\n",
              "    <g>\n",
              "        <path d=\"M19 3H5c-1.1 0-2 .9-2 2v14c0 1.1.9 2 2 2h14c1.1 0 2-.9 2-2V5c0-1.1-.9-2-2-2zM9 17H7v-7h2v7zm4 0h-2V7h2v10zm4 0h-2v-4h2v4z\"/>\n",
              "    </g>\n",
              "</svg>\n",
              "  </button>\n",
              "\n",
              "<style>\n",
              "  .colab-df-quickchart {\n",
              "      --bg-color: #E8F0FE;\n",
              "      --fill-color: #1967D2;\n",
              "      --hover-bg-color: #E2EBFA;\n",
              "      --hover-fill-color: #174EA6;\n",
              "      --disabled-fill-color: #AAA;\n",
              "      --disabled-bg-color: #DDD;\n",
              "  }\n",
              "\n",
              "  [theme=dark] .colab-df-quickchart {\n",
              "      --bg-color: #3B4455;\n",
              "      --fill-color: #D2E3FC;\n",
              "      --hover-bg-color: #434B5C;\n",
              "      --hover-fill-color: #FFFFFF;\n",
              "      --disabled-bg-color: #3B4455;\n",
              "      --disabled-fill-color: #666;\n",
              "  }\n",
              "\n",
              "  .colab-df-quickchart {\n",
              "    background-color: var(--bg-color);\n",
              "    border: none;\n",
              "    border-radius: 50%;\n",
              "    cursor: pointer;\n",
              "    display: none;\n",
              "    fill: var(--fill-color);\n",
              "    height: 32px;\n",
              "    padding: 0;\n",
              "    width: 32px;\n",
              "  }\n",
              "\n",
              "  .colab-df-quickchart:hover {\n",
              "    background-color: var(--hover-bg-color);\n",
              "    box-shadow: 0 1px 2px rgba(60, 64, 67, 0.3), 0 1px 3px 1px rgba(60, 64, 67, 0.15);\n",
              "    fill: var(--button-hover-fill-color);\n",
              "  }\n",
              "\n",
              "  .colab-df-quickchart-complete:disabled,\n",
              "  .colab-df-quickchart-complete:disabled:hover {\n",
              "    background-color: var(--disabled-bg-color);\n",
              "    fill: var(--disabled-fill-color);\n",
              "    box-shadow: none;\n",
              "  }\n",
              "\n",
              "  .colab-df-spinner {\n",
              "    border: 2px solid var(--fill-color);\n",
              "    border-color: transparent;\n",
              "    border-bottom-color: var(--fill-color);\n",
              "    animation:\n",
              "      spin 1s steps(1) infinite;\n",
              "  }\n",
              "\n",
              "  @keyframes spin {\n",
              "    0% {\n",
              "      border-color: transparent;\n",
              "      border-bottom-color: var(--fill-color);\n",
              "      border-left-color: var(--fill-color);\n",
              "    }\n",
              "    20% {\n",
              "      border-color: transparent;\n",
              "      border-left-color: var(--fill-color);\n",
              "      border-top-color: var(--fill-color);\n",
              "    }\n",
              "    30% {\n",
              "      border-color: transparent;\n",
              "      border-left-color: var(--fill-color);\n",
              "      border-top-color: var(--fill-color);\n",
              "      border-right-color: var(--fill-color);\n",
              "    }\n",
              "    40% {\n",
              "      border-color: transparent;\n",
              "      border-right-color: var(--fill-color);\n",
              "      border-top-color: var(--fill-color);\n",
              "    }\n",
              "    60% {\n",
              "      border-color: transparent;\n",
              "      border-right-color: var(--fill-color);\n",
              "    }\n",
              "    80% {\n",
              "      border-color: transparent;\n",
              "      border-right-color: var(--fill-color);\n",
              "      border-bottom-color: var(--fill-color);\n",
              "    }\n",
              "    90% {\n",
              "      border-color: transparent;\n",
              "      border-bottom-color: var(--fill-color);\n",
              "    }\n",
              "  }\n",
              "</style>\n",
              "\n",
              "  <script>\n",
              "    async function quickchart(key) {\n",
              "      const quickchartButtonEl =\n",
              "        document.querySelector('#' + key + ' button');\n",
              "      quickchartButtonEl.disabled = true;  // To prevent multiple clicks.\n",
              "      quickchartButtonEl.classList.add('colab-df-spinner');\n",
              "      try {\n",
              "        const charts = await google.colab.kernel.invokeFunction(\n",
              "            'suggestCharts', [key], {});\n",
              "      } catch (error) {\n",
              "        console.error('Error during call to suggestCharts:', error);\n",
              "      }\n",
              "      quickchartButtonEl.classList.remove('colab-df-spinner');\n",
              "      quickchartButtonEl.classList.add('colab-df-quickchart-complete');\n",
              "    }\n",
              "    (() => {\n",
              "      let quickchartButtonEl =\n",
              "        document.querySelector('#df-85ea76ac-9ca3-4264-bffc-97c67b40dbc5 button');\n",
              "      quickchartButtonEl.style.display =\n",
              "        google.colab.kernel.accessAllowed ? 'block' : 'none';\n",
              "    })();\n",
              "  </script>\n",
              "</div>\n",
              "\n",
              "    </div>\n",
              "  </div>\n"
            ],
            "application/vnd.google.colaboratory.intrinsic+json": {
              "type": "dataframe",
              "variable_name": "res_df",
              "summary": "{\n  \"name\": \"res_df\",\n  \"rows\": 4018,\n  \"fields\": [\n    {\n      \"column\": \"datetime\",\n      \"properties\": {\n        \"dtype\": \"date\",\n        \"min\": \"2006-01-01 23:00:00+00:00\",\n        \"max\": \"2016-12-31 02:00:00+00:00\",\n        \"num_unique_values\": 4018,\n        \"samples\": [\n          \"2008-12-07 23:00:00+00:00\",\n          \"2009-04-15 23:00:00+00:00\",\n          \"2013-06-10 23:00:00+00:00\"\n        ],\n        \"semantic_type\": \"\",\n        \"description\": \"\"\n      }\n    },\n    {\n      \"column\": \"temp\",\n      \"properties\": {\n        \"dtype\": \"number\",\n        \"std\": 7.644005727744813,\n        \"min\": -20.0,\n        \"max\": 28.81666666666667,\n        \"num_unique_values\": 1923,\n        \"samples\": [\n          -9.444444444444445,\n          4.844444444444444,\n          4.3277777777777775\n        ],\n        \"semantic_type\": \"\",\n        \"description\": \"\"\n      }\n    },\n    {\n      \"column\": \"pred\",\n      \"properties\": {\n        \"dtype\": \"float32\",\n        \"num_unique_values\": 4014,\n        \"samples\": [\n          10.606759071350098,\n          8.439779281616211,\n          9.08048152923584\n        ],\n        \"semantic_type\": \"\",\n        \"description\": \"\"\n      }\n    }\n  ]\n}"
            }
          },
          "metadata": {},
          "execution_count": 59
        }
      ]
    },
    {
      "cell_type": "code",
      "source": [
        "res_df.plot(x = 'datetime', y = ['temp', 'pred'], color = 'blue')"
      ],
      "metadata": {
        "colab": {
          "base_uri": "https://localhost:8080/",
          "height": 514
        },
        "id": "fQBTMKVCgxI0",
        "outputId": "a328ab84-980c-4e67-92ac-201dfb8b7394"
      },
      "execution_count": null,
      "outputs": [
        {
          "output_type": "execute_result",
          "data": {
            "text/plain": [
              "<Axes: xlabel='datetime'>"
            ]
          },
          "metadata": {},
          "execution_count": 60
        },
        {
          "output_type": "display_data",
          "data": {
            "text/plain": [
              "<Figure size 1000x600 with 1 Axes>"
            ],
            "image/png": "[encoded data removed]"
          },
          "metadata": {}
        }
      ]
    },
    {
      "cell_type": "code",
      "source": [],
      "metadata": {
        "id": "gqSodN7yTSSe"
      },
      "execution_count": null,
      "outputs": []
    }
  ],
  "metadata": {
    "colab": {
      "provenance": []
    },
    "kernelspec": {
      "display_name": "Python 3",
      "name": "python3"
    },
    "language_info": {
      "name": "python"
    }
  },
  "nbformat": 4,
  "nbformat_minor": 0
}