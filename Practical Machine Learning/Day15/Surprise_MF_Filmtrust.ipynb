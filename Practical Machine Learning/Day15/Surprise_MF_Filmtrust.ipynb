{
 "cells": [
  {
   "cell_type": "code",
   "execution_count": 1,
   "metadata": {
    "id": "oNma9-IS_DVU"
   },
   "outputs": [],
   "source": [
    "import pandas as pd\n",
    "import numpy as np\n",
    "import surprise\n",
    "import os"
   ]
  },
  {
   "cell_type": "code",
   "execution_count": 3,
   "metadata": {
    "colab": {
     "base_uri": "https://localhost:8080/",
     "height": 206
    },
    "id": "-MXjYaQYC4Ku",
    "outputId": "0323279d-8aa5-415d-b330-8169c422c449"
   },
   "outputs": [
    {
     "data": {
      "text/html": [
       "<div>\n",
       "<style scoped>\n",
       "    .dataframe tbody tr th:only-of-type {\n",
       "        vertical-align: middle;\n",
       "    }\n",
       "\n",
       "    .dataframe tbody tr th {\n",
       "        vertical-align: top;\n",
       "    }\n",
       "\n",
       "    .dataframe thead th {\n",
       "        text-align: right;\n",
       "    }\n",
       "</style>\n",
       "<table border=\"1\" class=\"dataframe\">\n",
       "  <thead>\n",
       "    <tr style=\"text-align: right;\">\n",
       "      <th></th>\n",
       "      <th>uid</th>\n",
       "      <th>iid</th>\n",
       "      <th>rating</th>\n",
       "    </tr>\n",
       "  </thead>\n",
       "  <tbody>\n",
       "    <tr>\n",
       "      <th>0</th>\n",
       "      <td>1</td>\n",
       "      <td>1</td>\n",
       "      <td>2.0</td>\n",
       "    </tr>\n",
       "    <tr>\n",
       "      <th>1</th>\n",
       "      <td>1</td>\n",
       "      <td>2</td>\n",
       "      <td>4.0</td>\n",
       "    </tr>\n",
       "    <tr>\n",
       "      <th>2</th>\n",
       "      <td>1</td>\n",
       "      <td>3</td>\n",
       "      <td>3.5</td>\n",
       "    </tr>\n",
       "    <tr>\n",
       "      <th>3</th>\n",
       "      <td>1</td>\n",
       "      <td>4</td>\n",
       "      <td>3.0</td>\n",
       "    </tr>\n",
       "    <tr>\n",
       "      <th>4</th>\n",
       "      <td>1</td>\n",
       "      <td>5</td>\n",
       "      <td>4.0</td>\n",
       "    </tr>\n",
       "  </tbody>\n",
       "</table>\n",
       "</div>"
      ],
      "text/plain": [
       "   uid  iid  rating\n",
       "0    1    1     2.0\n",
       "1    1    2     4.0\n",
       "2    1    3     3.5\n",
       "3    1    4     3.0\n",
       "4    1    5     4.0"
      ]
     },
     "execution_count": 3,
     "metadata": {},
     "output_type": "execute_result"
    }
   ],
   "source": [
    "# os.chdir(\"/content/drive/MyDrive/Cases/filmtrust\")\n",
    "ratings = pd.read_csv(\"ratings.txt\",sep=' ',names = ['uid','iid','rating'])\n",
    "ratings.head()"
   ]
  },
  {
   "cell_type": "code",
   "execution_count": 5,
   "metadata": {
    "colab": {
     "base_uri": "https://localhost:8080/"
    },
    "id": "nJKhYMfxCdHk",
    "outputId": "bfd9cfb6-a1d4-4950-c86b-2fcbb6237769"
   },
   "outputs": [
    {
     "name": "stdout",
     "output_type": "stream",
     "text": [
      "Ratings range between 0.5 and 4.0\n"
     ]
    }
   ],
   "source": [
    "lowest_rating = ratings['rating'].min()\n",
    "highest_rating = ratings['rating'].max()\n",
    "print(\"Ratings range between {0} and {1}\".format(lowest_rating,highest_rating))"
   ]
  },
  {
   "cell_type": "code",
   "execution_count": 7,
   "metadata": {
    "colab": {
     "base_uri": "https://localhost:8080/",
     "height": 156
    },
    "id": "k8QF1CSjDEjW",
    "outputId": "e5e54688-300e-4be1-af05-632e3122d55b"
   },
   "outputs": [
    {
     "data": {
      "text/plain": [
       "surprise.dataset.DatasetAutoFolds"
      ]
     },
     "execution_count": 7,
     "metadata": {},
     "output_type": "execute_result"
    }
   ],
   "source": [
    "reader = surprise.Reader(rating_scale = (lowest_rating,highest_rating))\n",
    "data = surprise.Dataset.load_from_df(ratings,reader)\n",
    "type(data)"
   ]
  },
  {
   "cell_type": "markdown",
   "metadata": {
    "id": "qmQ0f9j6eYk3"
   },
   "source": [
    "Tuning for best parameters"
   ]
  },
  {
   "cell_type": "code",
   "execution_count": 10,
   "metadata": {
    "colab": {
     "base_uri": "https://localhost:8080/"
    },
    "id": "xHhdAw7seaf2",
    "outputId": "499ef1d9-5d91-4436-885d-37c6da89759e"
   },
   "outputs": [
    {
     "name": "stderr",
     "output_type": "stream",
     "text": [
      "[Parallel(n_jobs=-1)]: Using backend LokyBackend with 16 concurrent workers.\n",
      "[Parallel(n_jobs=-1)]: Done  90 out of  90 | elapsed:    6.1s finished\n"
     ]
    }
   ],
   "source": [
    "from surprise.model_selection import GridSearchCV\n",
    "from surprise.model_selection.split import KFold\n",
    "\n",
    "param_grid = {'lr_all':np.linspace(0.001,1,3), 'reg_all': np.linspace(0.01,0.8,3),\n",
    "              'n_factors':[40,30]}\n",
    "kfold = KFold(random_state=23,n_splits=5,shuffle=True)\n",
    "gs = GridSearchCV(surprise.SVD, param_grid,joblib_verbose =3, measures=['rmse', 'mae'],\n",
    "                  cv=kfold,n_jobs=-1)\n",
    "gs.fit(data)"
   ]
  },
  {
   "cell_type": "markdown",
   "metadata": {
    "id": "AkcotH-NfaRF"
   },
   "source": [
    "Best Score:"
   ]
  },
  {
   "cell_type": "code",
   "execution_count": 12,
   "metadata": {
    "colab": {
     "base_uri": "https://localhost:8080/"
    },
    "id": "hC_afxJ5fblD",
    "outputId": "65621213-0c13-4efa-f452-f6ff4ece0804"
   },
   "outputs": [
    {
     "name": "stdout",
     "output_type": "stream",
     "text": [
      "0.828502748521168\n"
     ]
    }
   ],
   "source": [
    "print(gs.best_score['rmse'])"
   ]
  },
  {
   "cell_type": "markdown",
   "metadata": {
    "id": "jzW6go19fdvw"
   },
   "source": [
    "Best Parameter:"
   ]
  },
  {
   "cell_type": "code",
   "execution_count": 16,
   "metadata": {
    "colab": {
     "base_uri": "https://localhost:8080/"
    },
    "id": "J4RJkagYZbI5",
    "outputId": "5f2b125c-43a1-4c9f-e71f-76839175a4ad"
   },
   "outputs": [
    {
     "name": "stdout",
     "output_type": "stream",
     "text": [
      "{'lr_all': 0.001, 'reg_all': 0.01, 'n_factors': 30}\n"
     ]
    }
   ],
   "source": [
    "print(gs.best_params['rmse'])"
   ]
  },
  {
   "cell_type": "markdown",
   "metadata": {
    "id": "G7IZeGpxfy2t"
   },
   "source": [
    "We can now use the algorithm that yields the best rmse:"
   ]
  },
  {
   "cell_type": "code",
   "execution_count": 19,
   "metadata": {
    "colab": {
     "base_uri": "https://localhost:8080/"
    },
    "id": "ssrooRUyfxGI",
    "outputId": "912b14de-42e5-4ff8-8251-4109e3a628f3"
   },
   "outputs": [
    {
     "data": {
      "text/plain": [
       "<surprise.prediction_algorithms.matrix_factorization.SVD at 0x2cefe958620>"
      ]
     },
     "execution_count": 19,
     "metadata": {},
     "output_type": "execute_result"
    }
   ],
   "source": [
    "algo = gs.best_estimator['rmse']\n",
    "algo.fit(data.build_full_trainset())"
   ]
  },
  {
   "cell_type": "markdown",
   "metadata": {
    "id": "bNckp-CZ_VVM"
   },
   "source": [
    "The recommendations can be generated for any user with the object **algo**."
   ]
  },
  {
   "cell_type": "markdown",
   "metadata": {
    "id": "sX-sLR7jF73M"
   },
   "source": [
    "Total Items:"
   ]
  },
  {
   "cell_type": "code",
   "execution_count": 23,
   "metadata": {
    "colab": {
     "base_uri": "https://localhost:8080/"
    },
    "id": "Wn94bQ00FZ7H",
    "outputId": "c46817f5-b4f0-4d84-ec0e-709c5a4cc38c"
   },
   "outputs": [
    {
     "name": "stdout",
     "output_type": "stream",
     "text": [
      "[   1    2    3 ... 2069 2070 2071]\n"
     ]
    }
   ],
   "source": [
    "iids = ratings['iid'].unique()\n",
    "print(iids)"
   ]
  },
  {
   "cell_type": "markdown",
   "metadata": {
    "id": "7SmXr98ngOWY"
   },
   "source": [
    "The list of items rated by user 50:"
   ]
  },
  {
   "cell_type": "code",
   "execution_count": 26,
   "metadata": {
    "colab": {
     "base_uri": "https://localhost:8080/"
    },
    "id": "EabcvwdegOWa",
    "outputId": "5bf5bc9d-3435-49c2-c39c-1cdd619cdba8"
   },
   "outputs": [
    {
     "name": "stdout",
     "output_type": "stream",
     "text": [
      "[  8 211   3   2 219 234  12 254 250 207  11 253 236  84  10   7 233  13\n",
      "   1   5   6 252 241 216 257 206   4 217   9 215 213  17 255 220 121 245\n",
      " 239 251 235]\n"
     ]
    }
   ],
   "source": [
    "u_iid = ratings[ratings['uid']==50]['iid'].unique()\n",
    "print(u_iid)"
   ]
  },
  {
   "cell_type": "markdown",
   "metadata": {
    "id": "beVPEet2gOWa"
   },
   "source": [
    "List of the items not rated by user 50:"
   ]
  },
  {
   "cell_type": "code",
   "execution_count": 29,
   "metadata": {
    "colab": {
     "base_uri": "https://localhost:8080/"
    },
    "id": "lMUN_9bfgOWa",
    "outputId": "ed4d4738-2244-48f9-d93a-cd7f2b0ff5ad"
   },
   "outputs": [
    {
     "name": "stdout",
     "output_type": "stream",
     "text": [
      "[  14   15   16 ... 2069 2070 2071]\n"
     ]
    }
   ],
   "source": [
    "iids_to_predict = np.setdiff1d(iids, u_iid)\n",
    "print(iids_to_predict)"
   ]
  },
  {
   "cell_type": "markdown",
   "metadata": {
    "id": "hhGUerI1gOWa"
   },
   "source": [
    "Extracting the estimated rating from iids_to_predict"
   ]
  },
  {
   "cell_type": "code",
   "execution_count": 32,
   "metadata": {
    "id": "u1Kp0IntgOWb"
   },
   "outputs": [],
   "source": [
    "testset = [[50,iid,0.] for iid in iids_to_predict]\n",
    "predictions = algo.test(testset)"
   ]
  },
  {
   "cell_type": "code",
   "execution_count": 34,
   "metadata": {
    "colab": {
     "base_uri": "https://localhost:8080/"
    },
    "id": "AqX0uHBUgOWb",
    "outputId": "9a238e5a-9c56-44e7-bbb2-e1d002ceff04"
   },
   "outputs": [
    {
     "data": {
      "text/plain": [
       "Prediction(uid=50, iid=14, r_ui=0.0, est=3.0482219646069106, details={'was_impossible': False})"
      ]
     },
     "execution_count": 34,
     "metadata": {},
     "output_type": "execute_result"
    }
   ],
   "source": [
    "predictions[0]"
   ]
  },
  {
   "cell_type": "code",
   "execution_count": 36,
   "metadata": {
    "id": "VkCaGLFtgOWb"
   },
   "outputs": [],
   "source": [
    "pred_ratings = np.array([pred.est for pred in predictions])"
   ]
  },
  {
   "cell_type": "markdown",
   "metadata": {
    "id": "KT1nCNLWgOWc"
   },
   "source": [
    "Getting the item with highest expected rating"
   ]
  },
  {
   "cell_type": "code",
   "execution_count": 39,
   "metadata": {
    "colab": {
     "base_uri": "https://localhost:8080/"
    },
    "id": "02tCbB24gOWc",
    "outputId": "3de58d39-931f-4c57-e8cb-87a40f681241"
   },
   "outputs": [
    {
     "name": "stdout",
     "output_type": "stream",
     "text": [
      "Item: 318 is the item with highest expected rating as 3.730411901714299\n"
     ]
    }
   ],
   "source": [
    "i_max = np.argmax(pred_ratings)\n",
    "print(\"Item:\",iids_to_predict[i_max],\"is the item with highest expected rating as\",pred_ratings[i_max])"
   ]
  },
  {
   "cell_type": "code",
   "execution_count": 41,
   "metadata": {
    "colab": {
     "base_uri": "https://localhost:8080/"
    },
    "id": "xHkxMSDTgOWc",
    "outputId": "a41c8a88-16a1-4285-ccaf-d94831bdc6e0"
   },
   "outputs": [
    {
     "data": {
      "text/html": [
       "<div>\n",
       "<style scoped>\n",
       "    .dataframe tbody tr th:only-of-type {\n",
       "        vertical-align: middle;\n",
       "    }\n",
       "\n",
       "    .dataframe tbody tr th {\n",
       "        vertical-align: top;\n",
       "    }\n",
       "\n",
       "    .dataframe thead th {\n",
       "        text-align: right;\n",
       "    }\n",
       "</style>\n",
       "<table border=\"1\" class=\"dataframe\">\n",
       "  <thead>\n",
       "    <tr style=\"text-align: right;\">\n",
       "      <th></th>\n",
       "      <th>Item_ID</th>\n",
       "      <th>Exp_Rating</th>\n",
       "    </tr>\n",
       "  </thead>\n",
       "  <tbody>\n",
       "    <tr>\n",
       "      <th>278</th>\n",
       "      <td>318</td>\n",
       "      <td>3.730412</td>\n",
       "    </tr>\n",
       "    <tr>\n",
       "      <th>194</th>\n",
       "      <td>218</td>\n",
       "      <td>3.695636</td>\n",
       "    </tr>\n",
       "    <tr>\n",
       "      <th>210</th>\n",
       "      <td>242</td>\n",
       "      <td>3.654804</td>\n",
       "    </tr>\n",
       "    <tr>\n",
       "      <th>635</th>\n",
       "      <td>675</td>\n",
       "      <td>3.597082</td>\n",
       "    </tr>\n",
       "    <tr>\n",
       "      <th>267</th>\n",
       "      <td>307</td>\n",
       "      <td>3.596544</td>\n",
       "    </tr>\n",
       "    <tr>\n",
       "      <th>765</th>\n",
       "      <td>805</td>\n",
       "      <td>3.589772</td>\n",
       "    </tr>\n",
       "    <tr>\n",
       "      <th>385</th>\n",
       "      <td>425</td>\n",
       "      <td>3.577952</td>\n",
       "    </tr>\n",
       "    <tr>\n",
       "      <th>246</th>\n",
       "      <td>286</td>\n",
       "      <td>3.569714</td>\n",
       "    </tr>\n",
       "    <tr>\n",
       "      <th>253</th>\n",
       "      <td>293</td>\n",
       "      <td>3.560467</td>\n",
       "    </tr>\n",
       "    <tr>\n",
       "      <th>656</th>\n",
       "      <td>696</td>\n",
       "      <td>3.543051</td>\n",
       "    </tr>\n",
       "  </tbody>\n",
       "</table>\n",
       "</div>"
      ],
      "text/plain": [
       "     Item_ID  Exp_Rating\n",
       "278      318    3.730412\n",
       "194      218    3.695636\n",
       "210      242    3.654804\n",
       "635      675    3.597082\n",
       "267      307    3.596544\n",
       "765      805    3.589772\n",
       "385      425    3.577952\n",
       "246      286    3.569714\n",
       "253      293    3.560467\n",
       "656      696    3.543051"
      ]
     },
     "execution_count": 41,
     "metadata": {},
     "output_type": "execute_result"
    }
   ],
   "source": [
    "exp_ratings = pd.DataFrame({'Item_ID': iids_to_predict, 'Exp_Rating':pred_ratings})\n",
    "exp_ratings.sort_values(by=['Exp_Rating','Item_ID'], ascending=[False, True], inplace=True)\n",
    "exp_ratings.head(10)"
   ]
  },
  {
   "cell_type": "code",
   "execution_count": 46,
   "metadata": {},
   "outputs": [],
   "source": [
    "from surprise.model_selection import GridSearchCV\n",
    "from surprise.model_selection import KFold\n"
   ]
  },
  {
   "cell_type": "code",
   "execution_count": 48,
   "metadata": {},
   "outputs": [],
   "source": [
    "param_grid = {\"lr_all\" : np.linspace(0.001, 1, 3),\n",
    "              \"reg_all\" : np.linspace(0.001, 0.8, 3),\n",
    "              \"n_factors\" : [40, 30, 20]}\n",
    "\n",
    "k_fold = KFold(random_state = 24, \n",
    "               n_splits = 3,\n",
    "               shuffle= True)\n",
    "\n",
    "\n",
    "               "
   ]
  }
 ],
 "metadata": {
  "colab": {
   "provenance": []
  },
  "kernelspec": {
   "display_name": "Python (surprise)",
   "language": "python",
   "name": "surprise"
  },
  "language_info": {
   "codemirror_mode": {
    "name": "ipython",
    "version": 3
   },
   "file_extension": ".py",
   "mimetype": "text/x-python",
   "name": "python",
   "nbconvert_exporter": "python",
   "pygments_lexer": "ipython3",
   "version": "3.12.7"
  }
 },
 "nbformat": 4,
 "nbformat_minor": 4
}
