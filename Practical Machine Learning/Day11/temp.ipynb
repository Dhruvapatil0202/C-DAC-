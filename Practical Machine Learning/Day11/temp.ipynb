{
 "cells": [
  {
   "cell_type": "code",
   "execution_count": 7,
   "id": "9a84935c-65ac-4fdd-a351-c46773cfe54b",
   "metadata": {},
   "outputs": [],
   "source": [
    "import pandas as pd\n",
    "import numpy as np\n",
    "import sklearn\n",
    "import pickle\n"
   ]
  },
  {
   "cell_type": "code",
   "execution_count": 9,
   "id": "b3aa100d-ea7e-4e92-a7a3-e0056deec2dc",
   "metadata": {},
   "outputs": [],
   "source": [
    "infile = open(\"stack_gls.pkl\", \"rb\")\n",
    "load = pickle.load(infile)"
   ]
  },
  {
   "cell_type": "code",
   "execution_count": 13,
   "id": "ce8ed2fa-ccce-4645-b1f9-a34266f4e5fe",
   "metadata": {},
   "outputs": [],
   "source": [
    "test = pd.read_csv(\"tst_Glass.csv\") "
   ]
  },
  {
   "cell_type": "code",
   "execution_count": 15,
   "id": "e28034b4-4c2b-4f90-b113-8d944600aa23",
   "metadata": {},
   "outputs": [],
   "source": [
    "y_pred = load.predict(test)"
   ]
  },
  {
   "cell_type": "code",
   "execution_count": 17,
   "id": "53c43e49-fa42-4c8a-8adc-61b3173b2cbf",
   "metadata": {},
   "outputs": [
    {
     "data": {
      "text/plain": [
       "array(['headlamps', 'building_windows_non_float_processed',\n",
       "       'building_windows_non_float_processed', 'headlamps', 'headlamps',\n",
       "       'headlamps'], dtype=object)"
      ]
     },
     "execution_count": 17,
     "metadata": {},
     "output_type": "execute_result"
    }
   ],
   "source": [
    "y_pred"
   ]
  },
  {
   "cell_type": "code",
   "execution_count": null,
   "id": "efdca92a-0a75-4cbe-88f6-dbf881c185c4",
   "metadata": {},
   "outputs": [],
   "source": []
  },
  {
   "cell_type": "markdown",
   "id": "994f8db1-0849-45da-a0d7-89a498e896d9",
   "metadata": {},
   "source": [
    "#### GRadio code"
   ]
  },
  {
   "cell_type": "code",
   "execution_count": null,
   "id": "401c5334-0ecf-433b-a2bc-5c8cce949d65",
   "metadata": {},
   "outputs": [],
   "source": [
    "import gradio as gr\n",
    "import pickle\n",
    "#import numpy as np \n",
    "import pandas as pd \n",
    "import os \n",
    "os.chdir()\n",
    "\n",
    "def predict(RI, Na, Mg, Al, Si, K, Ca, Ba, Fe):\n",
    "    tst = pd.DataFrame([[RI, Na, Mg, Al, Si, K, Ca, Ba, Fe]],\n",
    "          columns=['RI', 'Na', 'Mg', 'Al', 'Si', 'K', 'Ca', 'Ba', 'Fe'])    \n",
    "    filehandler = open(\"stack_gls.pkl\", \"rb\")\n",
    "    bm_loaded = pickle.load(filehandler)\n",
    "    print(tst)\n",
    "    return bm_loaded.predict(tst)[0] \n",
    "      \n",
    "\n",
    "# demo = gr.Interface(\n",
    "#     fn=predict,\n",
    "#     inputs=[\"number\"] * 9,\n",
    "#     outputs=[\"text\"]\n",
    "# )\n",
    "\n",
    "with gr.Blocks() as demo:\n",
    "    with gr.Row():\n",
    "      RI = gr.Number(label='RI')\n",
    "      Na = gr.Number(label='Na')\n",
    "      Mg = gr.Number(label='Mg')\n",
    "    with gr.Row():\n",
    "      Al = gr.Number(label='Al')\n",
    "      Si = gr.Number(label='Si')\n",
    "      K = gr.Number(label='K')\n",
    "    with gr.Row():\n",
    "      Ca = gr.Number(label='Ca')\n",
    "      Ba = gr.Number(label='Ba')\n",
    "      Fe = gr.Number(label='Fe')\n",
    "    with gr.Row(): \n",
    "      Type = gr.Text(label='Type') \n",
    "    with gr.Row():  \n",
    "      button = gr.Button(value=\"Which Glass?\")\n",
    "      button.click(predict,\n",
    "            inputs=[RI, Na, Mg, Al, Si, K, Ca, Ba, Fe],\n",
    "            outputs=[Type])\n",
    "\n",
    "\n",
    "\n",
    "demo.launch()\n",
    "\n",
    "\n",
    "\n",
    "\n",
    "\n",
    "\n",
    "\n",
    "\n",
    "\n",
    "\n"
   ]
  },
  {
   "cell_type": "code",
   "execution_count": 5,
   "id": "a8125c8e-f1fb-4021-95eb-2262a9ce0c73",
   "metadata": {},
   "outputs": [],
   "source": [
    "import pandas as pd\n",
    "df = pd.read_csv(\"Breastcancer.csv\")\n",
    "\n"
   ]
  },
  {
   "cell_type": "code",
   "execution_count": 7,
   "id": "50697095-e1dc-43c1-a51f-e23fff99f9bf",
   "metadata": {},
   "outputs": [
    {
     "data": {
      "text/plain": [
       "Index(['Code', 'Clump', 'UniCell_Size', 'Uni_CellShape', 'MargAdh', 'SEpith',\n",
       "       'BareN', 'BChromatin', 'NoemN', 'Mitoses', 'Class'],\n",
       "      dtype='object')"
      ]
     },
     "execution_count": 7,
     "metadata": {},
     "output_type": "execute_result"
    }
   ],
   "source": [
    "df.columns"
   ]
  }
 ],
 "metadata": {
  "kernelspec": {
   "display_name": "Python 3 (ipykernel)",
   "language": "python",
   "name": "python3"
  },
  "language_info": {
   "codemirror_mode": {
    "name": "ipython",
    "version": 3
   },
   "file_extension": ".py",
   "mimetype": "text/x-python",
   "name": "python",
   "nbconvert_exporter": "python",
   "pygments_lexer": "ipython3",
   "version": "3.12.4"
  }
 },
 "nbformat": 4,
 "nbformat_minor": 5
}
