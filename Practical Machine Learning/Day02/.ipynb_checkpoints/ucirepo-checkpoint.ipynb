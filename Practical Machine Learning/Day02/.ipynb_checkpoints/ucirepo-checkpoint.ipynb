{
 "cells": [
  {
   "cell_type": "code",
   "execution_count": 25,
   "id": "86172c88-e9e9-4c67-860c-7f4c8b69d32e",
   "metadata": {},
   "outputs": [],
   "source": [
    "from ucimlrepo import fetch_ucirepo \n",
    "import pandas as pd\n",
    "import numpy as np\n",
    "import matplotlib.pyplot as plt\n",
    "from sklearn.linear_model import LinearRegression \n",
    "from sklearn.preprocessing import PolynomialFeatures\n",
    "from sklearn.model_selection import train_test_split\n",
    "from sklearn.metrics import r2_score\n",
    "from sklearn.preprocessing import StandardScaler, MinMaxScaler\n",
    "from sklearn.pipeline import Pipeline"
   ]
  },
  {
   "cell_type": "code",
   "execution_count": 5,
   "id": "52cc8db1-70fb-4626-8372-6f0e176be5ad",
   "metadata": {},
   "outputs": [],
   "source": [
    "# fetch dataset \n",
    "concrete_compressive_strength = fetch_ucirepo(id=165) \n",
    "\n",
    "# data (as pandas dataframes) \n",
    "X = concrete_compressive_strength.data.features \n",
    "y = concrete_compressive_strength.data.targets "
   ]
  },
  {
   "cell_type": "code",
   "execution_count": 9,
   "id": "bc52c6f3-7b62-43b9-b6b5-de0012e0691b",
   "metadata": {},
   "outputs": [],
   "source": [
    "# Before applying linear regression\n",
    "# 1. scale the data\n",
    "# 2. Apply linear regression"
   ]
  },
  {
   "cell_type": "code",
   "execution_count": null,
   "id": "10e60eb3-0dfd-4ba4-ab51-9b6e1621e8bd",
   "metadata": {},
   "outputs": [],
   "source": [
    "min_max_sclr = MinMaxScaler()\n",
    "minMaxFit = min_max_sclr.fit(X)\n",
    "minMaxFit.transform(X)\n"
   ]
  },
  {
   "cell_type": "code",
   "execution_count": 51,
   "id": "5ca4fa12-6bc2-4ba9-a058-9d8d43403709",
   "metadata": {},
   "outputs": [],
   "source": [
    "X_train, X_test, y_train, y_test = train_test_split(X, y, random_state = 24, test_size = 0.300)"
   ]
  },
  {
   "cell_type": "code",
   "execution_count": 61,
   "id": "b8594e32-5ae5-4f48-b655-6acf9345654f",
   "metadata": {},
   "outputs": [
    {
     "data": {
      "text/plain": [
       "0.5771752777048791"
      ]
     },
     "execution_count": 61,
     "metadata": {},
     "output_type": "execute_result"
    }
   ],
   "source": [
    "min_max_sclr = MinMaxScaler()\n",
    "std_sclr = StandardScaler()\n",
    "\n",
    "lr = LinearRegression()\n",
    "\n",
    "pipe = Pipeline([(\"SCLR\", std_sclr), (\"REG\", lr)])\n",
    "\n",
    "pipe.fit(X_train, y_train)\n",
    "y_pred = pipe.predict(X_test)\n",
    "r2_score(y_test, y_pred)\n",
    "\n",
    "\n"
   ]
  },
  {
   "cell_type": "code",
   "execution_count": 63,
   "id": "9ce8f47d-1065-4191-86a5-6c65cc8c7b48",
   "metadata": {},
   "outputs": [
    {
     "data": {
      "text/plain": [
       "0.5771752777048793"
      ]
     },
     "execution_count": 63,
     "metadata": {},
     "output_type": "execute_result"
    }
   ],
   "source": [
    "min_max_sclr = MinMaxScaler()\n",
    "std_sclr = StandardScaler()\n",
    "\n",
    "lr = LinearRegression()\n",
    "\n",
    "pipe = Pipeline([(\"SCLR\", min_max_sclr), (\"REG\", lr)])\n",
    "\n",
    "pipe.fit(X_train, y_train)\n",
    "y_pred = pipe.predict(X_test)\n",
    "r2_score(y_test, y_pred)\n",
    "\n",
    "\n"
   ]
  },
  {
   "cell_type": "code",
   "execution_count": null,
   "id": "6ea36e5b-7e57-421c-95f8-06cc5b0f8653",
   "metadata": {},
   "outputs": [],
   "source": []
  }
 ],
 "metadata": {
  "kernelspec": {
   "display_name": "Python 3 (ipykernel)",
   "language": "python",
   "name": "python3"
  },
  "language_info": {
   "codemirror_mode": {
    "name": "ipython",
    "version": 3
   },
   "file_extension": ".py",
   "mimetype": "text/x-python",
   "name": "python",
   "nbconvert_exporter": "python",
   "pygments_lexer": "ipython3",
   "version": "3.12.4"
  }
 },
 "nbformat": 4,
 "nbformat_minor": 5
}
