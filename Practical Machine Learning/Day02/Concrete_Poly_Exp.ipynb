{
 "cells": [
  {
   "cell_type": "code",
   "execution_count": 21,
   "id": "6c93a223-5acc-41cf-aa9b-a91dccfc335c",
   "metadata": {},
   "outputs": [],
   "source": [
    "from ucimlrepo import fetch_ucirepo \n",
    "import pandas as pd\n",
    "import numpy as np\n",
    "import matplotlib.pyplot as plt\n",
    "from sklearn.linear_model import LinearRegression \n",
    "from sklearn.preprocessing import PolynomialFeatures\n",
    "from sklearn.model_selection import train_test_split\n",
    "from sklearn.metrics import r2_score"
   ]
  },
  {
   "cell_type": "code",
   "execution_count": 15,
   "id": "eb101171-291b-4dd1-bbcc-9c18adda75bf",
   "metadata": {},
   "outputs": [],
   "source": [
    "# fetch dataset \n",
    "concrete_compressive_strength = fetch_ucirepo(id=165) \n",
    "\n",
    "# data (as pandas dataframes) \n",
    "X = concrete_compressive_strength.data.features \n",
    "y = concrete_compressive_strength.data.targets "
   ]
  },
  {
   "cell_type": "code",
   "execution_count": 16,
   "id": "2524cb3d-b3db-4b42-b04f-1125951fb244",
   "metadata": {},
   "outputs": [],
   "source": [
    "X_train, X_test, y_train, y_test = train_test_split(X, y, test_size = 0.3, random_state = 24)"
   ]
  },
  {
   "cell_type": "code",
   "execution_count": 23,
   "id": "ab3a6379-ab59-4b36-a612-35b49428a04c",
   "metadata": {},
   "outputs": [
    {
     "data": {
      "text/plain": [
       "0.5771752777048791"
      ]
     },
     "execution_count": 23,
     "metadata": {},
     "output_type": "execute_result"
    }
   ],
   "source": [
    "lr = LinearRegression()\n",
    "lr.fit(X_train, y_train)\n",
    "y_pred = lr.predict(X_test)\n",
    "r2_score(y_test, y_pred)"
   ]
  },
  {
   "cell_type": "code",
   "execution_count": 25,
   "id": "7c9a5f79-8c3e-485a-bf48-c1069ff9b09a",
   "metadata": {},
   "outputs": [
    {
     "data": {
      "text/plain": [
       "0.7807023265195984"
      ]
     },
     "execution_count": 25,
     "metadata": {},
     "output_type": "execute_result"
    }
   ],
   "source": [
    "poly = PolynomialFeatures(degree=2, include_bias=False).set_output(transform='pandas')\n",
    "X_poly_trn = poly.fit_transform(X_train)\n",
    "X_poly_tst = poly.transform(X_test)\n",
    "lr.fit(X_poly_trn, y_train)\n",
    "y_pred = lr.predict(X_poly_tst)\n",
    "r2_score(y_test, y_pred)"
   ]
  },
  {
   "cell_type": "code",
   "execution_count": 27,
   "id": "94a31593-f98e-42f5-8619-9b0ae8226656",
   "metadata": {},
   "outputs": [
    {
     "data": {
      "text/plain": [
       "0.8622817297882757"
      ]
     },
     "execution_count": 27,
     "metadata": {},
     "output_type": "execute_result"
    }
   ],
   "source": [
    "poly = PolynomialFeatures(degree=3, include_bias=False).set_output(transform='pandas')\n",
    "X_poly_trn = poly.fit_transform(X_train)\n",
    "X_poly_tst = poly.transform(X_test)\n",
    "lr.fit(X_poly_trn, y_train)\n",
    "y_pred = lr.predict(X_poly_tst)\n",
    "r2_score(y_test, y_pred)"
   ]
  },
  {
   "cell_type": "code",
   "execution_count": 29,
   "id": "f087d1b3-8672-4c5a-86dc-786dc035c43b",
   "metadata": {},
   "outputs": [
    {
     "data": {
      "text/plain": [
       "-128.64221126252144"
      ]
     },
     "execution_count": 29,
     "metadata": {},
     "output_type": "execute_result"
    }
   ],
   "source": [
    "poly = PolynomialFeatures(degree=4, include_bias=False).set_output(transform='pandas')\n",
    "X_poly_trn = poly.fit_transform(X_train)\n",
    "X_poly_tst = poly.transform(X_test)\n",
    "lr.fit(X_poly_trn, y_train)\n",
    "y_pred = lr.predict(X_poly_tst)\n",
    "r2_score(y_test, y_pred)"
   ]
  },
  {
   "cell_type": "markdown",
   "id": "9160124f-719f-4e02-9267-0c7e66a4c04e",
   "metadata": {},
   "source": [
    "## Using Pipeline"
   ]
  },
  {
   "cell_type": "code",
   "execution_count": 31,
   "id": "f4227eef-ba54-48dd-8d61-3a5738e8d076",
   "metadata": {},
   "outputs": [
    {
     "data": {
      "text/plain": [
       "0.8622817297882757"
      ]
     },
     "execution_count": 31,
     "metadata": {},
     "output_type": "execute_result"
    }
   ],
   "source": [
    "from sklearn.pipeline import Pipeline\n",
    "poly = PolynomialFeatures(degree=3, include_bias=False).set_output(transform='pandas')\n",
    "lr = LinearRegression()\n",
    "\n",
    "pipe = Pipeline([('POLY', poly), ('LR', lr)])\n",
    "pipe.fit(X_train, y_train)\n",
    "y_pred = pipe.predict(X_test)\n",
    "r2_score(y_test, y_pred)"
   ]
  },
  {
   "cell_type": "markdown",
   "id": "b7ee45b4-25f5-4735-b5fe-eec37a1464d0",
   "metadata": {},
   "source": [
    "# Housing Dataset"
   ]
  },
  {
   "cell_type": "code",
   "execution_count": 39,
   "id": "c34040fc-9513-4938-8b53-d819137b77ca",
   "metadata": {},
   "outputs": [
    {
     "data": {
      "text/html": [
       "<div>\n",
       "<style scoped>\n",
       "    .dataframe tbody tr th:only-of-type {\n",
       "        vertical-align: middle;\n",
       "    }\n",
       "\n",
       "    .dataframe tbody tr th {\n",
       "        vertical-align: top;\n",
       "    }\n",
       "\n",
       "    .dataframe thead th {\n",
       "        text-align: right;\n",
       "    }\n",
       "</style>\n",
       "<table border=\"1\" class=\"dataframe\">\n",
       "  <thead>\n",
       "    <tr style=\"text-align: right;\">\n",
       "      <th></th>\n",
       "      <th>price</th>\n",
       "      <th>lotsize</th>\n",
       "      <th>bedrooms</th>\n",
       "      <th>bathrms</th>\n",
       "      <th>stories</th>\n",
       "      <th>driveway</th>\n",
       "      <th>recroom</th>\n",
       "      <th>fullbase</th>\n",
       "      <th>gashw</th>\n",
       "      <th>airco</th>\n",
       "      <th>garagepl</th>\n",
       "      <th>prefarea</th>\n",
       "    </tr>\n",
       "  </thead>\n",
       "  <tbody>\n",
       "    <tr>\n",
       "      <th>0</th>\n",
       "      <td>42000.0</td>\n",
       "      <td>5850</td>\n",
       "      <td>3</td>\n",
       "      <td>1</td>\n",
       "      <td>2</td>\n",
       "      <td>yes</td>\n",
       "      <td>no</td>\n",
       "      <td>yes</td>\n",
       "      <td>no</td>\n",
       "      <td>no</td>\n",
       "      <td>1</td>\n",
       "      <td>no</td>\n",
       "    </tr>\n",
       "    <tr>\n",
       "      <th>1</th>\n",
       "      <td>38500.0</td>\n",
       "      <td>4000</td>\n",
       "      <td>2</td>\n",
       "      <td>1</td>\n",
       "      <td>1</td>\n",
       "      <td>yes</td>\n",
       "      <td>no</td>\n",
       "      <td>no</td>\n",
       "      <td>no</td>\n",
       "      <td>no</td>\n",
       "      <td>0</td>\n",
       "      <td>no</td>\n",
       "    </tr>\n",
       "    <tr>\n",
       "      <th>2</th>\n",
       "      <td>49500.0</td>\n",
       "      <td>3060</td>\n",
       "      <td>3</td>\n",
       "      <td>1</td>\n",
       "      <td>1</td>\n",
       "      <td>yes</td>\n",
       "      <td>no</td>\n",
       "      <td>no</td>\n",
       "      <td>no</td>\n",
       "      <td>no</td>\n",
       "      <td>0</td>\n",
       "      <td>no</td>\n",
       "    </tr>\n",
       "    <tr>\n",
       "      <th>3</th>\n",
       "      <td>60500.0</td>\n",
       "      <td>6650</td>\n",
       "      <td>3</td>\n",
       "      <td>1</td>\n",
       "      <td>2</td>\n",
       "      <td>yes</td>\n",
       "      <td>yes</td>\n",
       "      <td>no</td>\n",
       "      <td>no</td>\n",
       "      <td>no</td>\n",
       "      <td>0</td>\n",
       "      <td>no</td>\n",
       "    </tr>\n",
       "    <tr>\n",
       "      <th>4</th>\n",
       "      <td>61000.0</td>\n",
       "      <td>6360</td>\n",
       "      <td>2</td>\n",
       "      <td>1</td>\n",
       "      <td>1</td>\n",
       "      <td>yes</td>\n",
       "      <td>no</td>\n",
       "      <td>no</td>\n",
       "      <td>no</td>\n",
       "      <td>no</td>\n",
       "      <td>0</td>\n",
       "      <td>no</td>\n",
       "    </tr>\n",
       "  </tbody>\n",
       "</table>\n",
       "</div>"
      ],
      "text/plain": [
       "     price  lotsize  bedrooms  bathrms  stories driveway recroom fullbase  \\\n",
       "0  42000.0     5850         3        1        2      yes      no      yes   \n",
       "1  38500.0     4000         2        1        1      yes      no       no   \n",
       "2  49500.0     3060         3        1        1      yes      no       no   \n",
       "3  60500.0     6650         3        1        2      yes     yes       no   \n",
       "4  61000.0     6360         2        1        1      yes      no       no   \n",
       "\n",
       "  gashw airco  garagepl prefarea  \n",
       "0    no    no         1       no  \n",
       "1    no    no         0       no  \n",
       "2    no    no         0       no  \n",
       "3    no    no         0       no  \n",
       "4    no    no         0       no  "
      ]
     },
     "execution_count": 39,
     "metadata": {},
     "output_type": "execute_result"
    }
   ],
   "source": [
    "housing = pd.read_csv(\"Housing.csv\")\n",
    "housing.head()"
   ]
  },
  {
   "cell_type": "code",
   "execution_count": 41,
   "id": "4f44a1e8-cef4-44cd-b43a-c63d2604226e",
   "metadata": {},
   "outputs": [
    {
     "name": "stdout",
     "output_type": "stream",
     "text": [
      "<class 'pandas.core.frame.DataFrame'>\n",
      "RangeIndex: 546 entries, 0 to 545\n",
      "Data columns (total 12 columns):\n",
      " #   Column    Non-Null Count  Dtype  \n",
      "---  ------    --------------  -----  \n",
      " 0   price     546 non-null    float64\n",
      " 1   lotsize   546 non-null    int64  \n",
      " 2   bedrooms  546 non-null    int64  \n",
      " 3   bathrms   546 non-null    int64  \n",
      " 4   stories   546 non-null    int64  \n",
      " 5   driveway  546 non-null    object \n",
      " 6   recroom   546 non-null    object \n",
      " 7   fullbase  546 non-null    object \n",
      " 8   gashw     546 non-null    object \n",
      " 9   airco     546 non-null    object \n",
      " 10  garagepl  546 non-null    int64  \n",
      " 11  prefarea  546 non-null    object \n",
      "dtypes: float64(1), int64(5), object(6)\n",
      "memory usage: 51.3+ KB\n"
     ]
    }
   ],
   "source": [
    "housing.info()"
   ]
  },
  {
   "cell_type": "code",
   "execution_count": 43,
   "id": "bf4b5391-88cb-4a78-a241-939494f371b0",
   "metadata": {},
   "outputs": [],
   "source": [
    "X = housing[['driveway']]\n",
    "y = housing[\"price\"]"
   ]
  },
  {
   "cell_type": "markdown",
   "id": "6a5bb423-2d78-45ac-bd2c-e5831ce1701b",
   "metadata": {},
   "source": [
    "## OneHotEncoding"
   ]
  },
  {
   "cell_type": "code",
   "execution_count": null,
   "id": "d7c61cf5-55a4-4f5d-885b-ca4e4785e27a",
   "metadata": {},
   "outputs": [],
   "source": [
    "# .getdummies() from pandas"
   ]
  },
  {
   "cell_type": "code",
   "execution_count": 56,
   "id": "eb78c19d-aa12-41a5-a881-2711d2312793",
   "metadata": {},
   "outputs": [
    {
     "name": "stdout",
     "output_type": "stream",
     "text": [
      "driveway_no\n",
      "False    469\n",
      "True      77\n",
      "Name: count, dtype: int64\n",
      "driveway_yes\n",
      "True     469\n",
      "False     77\n",
      "Name: count, dtype: int64\n"
     ]
    }
   ],
   "source": [
    "dum_X = pd.get_dummies(X)\n",
    "print(dum_X['driveway_no'].value_counts())\n",
    "print(dum_X['driveway_yes'].value_counts())"
   ]
  },
  {
   "cell_type": "code",
   "execution_count": null,
   "id": "4b04367d-6b3a-4ec7-9061-a6894a1a823d",
   "metadata": {},
   "outputs": [],
   "source": []
  },
  {
   "cell_type": "code",
   "execution_count": 62,
   "id": "946944f1-759f-4bd7-b516-7ee0f2409fcd",
   "metadata": {},
   "outputs": [
    {
     "data": {
      "text/html": [
       "<div>\n",
       "<style scoped>\n",
       "    .dataframe tbody tr th:only-of-type {\n",
       "        vertical-align: middle;\n",
       "    }\n",
       "\n",
       "    .dataframe tbody tr th {\n",
       "        vertical-align: top;\n",
       "    }\n",
       "\n",
       "    .dataframe thead th {\n",
       "        text-align: right;\n",
       "    }\n",
       "</style>\n",
       "<table border=\"1\" class=\"dataframe\">\n",
       "  <thead>\n",
       "    <tr style=\"text-align: right;\">\n",
       "      <th></th>\n",
       "      <th>driveway_no</th>\n",
       "    </tr>\n",
       "  </thead>\n",
       "  <tbody>\n",
       "    <tr>\n",
       "      <th>0</th>\n",
       "      <td>False</td>\n",
       "    </tr>\n",
       "    <tr>\n",
       "      <th>1</th>\n",
       "      <td>False</td>\n",
       "    </tr>\n",
       "    <tr>\n",
       "      <th>2</th>\n",
       "      <td>False</td>\n",
       "    </tr>\n",
       "    <tr>\n",
       "      <th>3</th>\n",
       "      <td>False</td>\n",
       "    </tr>\n",
       "    <tr>\n",
       "      <th>4</th>\n",
       "      <td>False</td>\n",
       "    </tr>\n",
       "    <tr>\n",
       "      <th>...</th>\n",
       "      <td>...</td>\n",
       "    </tr>\n",
       "    <tr>\n",
       "      <th>541</th>\n",
       "      <td>False</td>\n",
       "    </tr>\n",
       "    <tr>\n",
       "      <th>542</th>\n",
       "      <td>False</td>\n",
       "    </tr>\n",
       "    <tr>\n",
       "      <th>543</th>\n",
       "      <td>False</td>\n",
       "    </tr>\n",
       "    <tr>\n",
       "      <th>544</th>\n",
       "      <td>False</td>\n",
       "    </tr>\n",
       "    <tr>\n",
       "      <th>545</th>\n",
       "      <td>False</td>\n",
       "    </tr>\n",
       "  </tbody>\n",
       "</table>\n",
       "<p>546 rows × 1 columns</p>\n",
       "</div>"
      ],
      "text/plain": [
       "     driveway_no\n",
       "0          False\n",
       "1          False\n",
       "2          False\n",
       "3          False\n",
       "4          False\n",
       "..           ...\n",
       "541        False\n",
       "542        False\n",
       "543        False\n",
       "544        False\n",
       "545        False\n",
       "\n",
       "[546 rows x 1 columns]"
      ]
     },
     "execution_count": 62,
     "metadata": {},
     "output_type": "execute_result"
    }
   ],
   "source": [
    "# dum_X = pd.get_dummies(X, drop_first=True) # drop_first=True to drop first column OR to reduce redudancy\n",
    "dum_X = dum_X.drop(\"driveway_yes\", axis = 'columns')\n",
    "dum_X"
   ]
  },
  {
   "cell_type": "code",
   "execution_count": 64,
   "id": "2ad9b5ab-f695-43f1-a967-c8d8fb8d89eb",
   "metadata": {},
   "outputs": [
    {
     "data": {
      "text/plain": [
       "(71333.89552238806, array([-22778.11630161]))"
      ]
     },
     "execution_count": 64,
     "metadata": {},
     "output_type": "execute_result"
    }
   ],
   "source": [
    "lr = LinearRegression()\n",
    "lr.fit(dum_X,y)\n",
    "lr.intercept_, lr.coef_"
   ]
  },
  {
   "cell_type": "code",
   "execution_count": 66,
   "id": "4e8a1d1c-f966-47d9-91c3-e67ab08d091a",
   "metadata": {},
   "outputs": [
    {
     "data": {
      "text/plain": [
       "driveway\n",
       "no     48555.779221\n",
       "yes    71333.895522\n",
       "Name: price, dtype: float64"
      ]
     },
     "execution_count": 66,
     "metadata": {},
     "output_type": "execute_result"
    }
   ],
   "source": [
    "housing.groupby('driveway')['price'].mean()"
   ]
  },
  {
   "cell_type": "markdown",
   "id": "6894c753-b7df-46bf-85c1-7286c4033877",
   "metadata": {},
   "source": [
    "#### Another method of One hot encoding using scikit learn"
   ]
  },
  {
   "cell_type": "code",
   "execution_count": 75,
   "id": "d0353a24-e971-4799-b8bf-dfc011beae0c",
   "metadata": {},
   "outputs": [],
   "source": [
    "from sklearn.preprocessing import OneHotEncoder\n",
    "# It is a data transformation class\n",
    "# drop = 'first' -> drops first column\n",
    "# sparse_row \n",
    "# dtype = \"\", desired dtype of output\n",
    "# handle_unknown = specifies the way unknown categories are handled during transform.\n",
    "# unknown catetory: a category which is not seen during the training but encountered during testing\n",
    "\n"
   ]
  },
  {
   "cell_type": "code",
   "execution_count": 87,
   "id": "97ea700e-b99f-467b-a3fa-86d3657e5f38",
   "metadata": {},
   "outputs": [],
   "source": [
    "ohe = OneHotEncoder(\n",
    "    sparse_output = False,\n",
    "    drop = 'first', # Drops first column\n",
    ").set_output(transform = 'pandas')\n",
    "# If sparse_output = False, it returns numpy array\n",
    "dum_X = ohe.fit_transform(X)"
   ]
  },
  {
   "cell_type": "code",
   "execution_count": 89,
   "id": "dc6d4e76-8a51-416e-bd65-5440673af4f4",
   "metadata": {},
   "outputs": [
    {
     "data": {
      "text/plain": [
       "(48555.77922077922, array([22778.11630161]))"
      ]
     },
     "execution_count": 89,
     "metadata": {},
     "output_type": "execute_result"
    }
   ],
   "source": [
    "lr = LinearRegression()\n",
    "lr.fit(dum_X, y)\n",
    "lr.intercept_, lr.coef_"
   ]
  },
  {
   "cell_type": "markdown",
   "id": "2c27e4cf-0513-4c0b-aec6-9f5d7befce03",
   "metadata": {},
   "source": [
    "#### For multiple variables"
   ]
  },
  {
   "cell_type": "code",
   "execution_count": 112,
   "id": "b718de51-152c-41a3-ad7c-1ebdabd63b2a",
   "metadata": {},
   "outputs": [],
   "source": [
    "# The One hot encoder does the hot encoding of every single column, including numeric values.\n",
    "\n",
    "# We do not want to one hot encode any numeric values"
   ]
  },
  {
   "cell_type": "code",
   "execution_count": 135,
   "id": "c967d9e7-798b-4b3a-9706-a446250db817",
   "metadata": {},
   "outputs": [
    {
     "data": {
      "text/plain": [
       "(44999.999999999854,\n",
       " array([ 1.09342964e+04,  1.61790177e+04, -2.89342964e+04, -1.25000000e+04,\n",
       "         1.70000000e+04, -9.96714818e+03, -1.79342964e+04, -9.34296356e+02,\n",
       "         5.00000000e+03, -4.41762969e+03, -1.00000000e+03, -1.79017701e+02,\n",
       "        -9.34296356e+02, -2.01133141e+04,  1.50000000e+04, -1.13792964e+04,\n",
       "        -2.28446482e+04, -7.00000000e+03, -2.19342964e+04, -1.41790177e+04,\n",
       "        -7.27901770e+03,  9.06570364e+03,  4.03285182e+03, -4.50000000e+03,\n",
       "        -1.59342964e+04, -2.61133141e+04, -5.00000000e+01,  1.50000000e+04,\n",
       "        -8.68429636e+03, -4.15665703e+03,  3.35000000e+04, -1.29342964e+04,\n",
       "         7.00000000e+03, -1.93429636e+03,  1.00657036e+04, -1.01714818e+03,\n",
       "        -1.39000000e+04, -1.21133141e+04,  1.40657036e+04, -1.85000000e+04,\n",
       "        -1.09423808e+04, -5.93429636e+03, -4.00000000e+03, -6.43429636e+03,\n",
       "        -1.09342964e+04, -6.96714818e+03,  3.00000000e+03,  9.88567881e+02,\n",
       "         1.86309740e+03, -8.21331406e+03, -4.69292850e+03, -1.63606356e+04,\n",
       "        -2.09342964e+04,  2.79380243e+03, -2.19342964e+04,  6.57036437e+01,\n",
       "         9.28285182e+03, -1.13429636e+03, -2.59342964e+04,  5.16570364e+03,\n",
       "         1.23209823e+04, -2.24547669e+03, -3.35429636e+03, -1.47383141e+04,\n",
       "        -6.50952208e+03,  4.27491675e+03,  8.26570364e+03, -5.93429636e+03,\n",
       "         2.74570364e+03,  2.70000000e+04, -3.93429636e+03, -2.93429636e+03,\n",
       "        -8.58363652e+03, -3.09342964e+04, -6.46925655e+03, -1.06000000e+04,\n",
       "        -7.64558460e+03, -2.89342964e+04,  8.56570364e+03, -3.00000000e+03,\n",
       "         2.56570364e+03,  1.28866859e+04, -1.31790177e+04,  1.05657036e+04,\n",
       "        -4.43429636e+03,  2.30657036e+04, -4.34296356e+02, -8.93429636e+03,\n",
       "         3.31570364e+03, -1.61133141e+04,  9.56570364e+03, -1.11342964e+04,\n",
       "         1.00657036e+04,  6.56570364e+03,  1.50000000e+03, -1.79342964e+04,\n",
       "         7.23237031e+03,  1.80000000e+04, -1.79671482e+04,  8.09450285e-11,\n",
       "        -5.93429636e+03, -1.63454697e+03,  5.76570364e+03,  3.19427507e+03,\n",
       "         3.56570364e+03, -9.34296356e+02,  6.06570364e+03,  4.06570364e+03,\n",
       "         1.31570364e+03, -1.05665703e+03,  1.29507965e+04,  3.06570364e+03,\n",
       "        -3.93429636e+03,  3.47619479e+03,  1.41657036e+04, -2.21133141e+04,\n",
       "         2.09761948e+04, -2.01133141e+04,  4.07657036e+04,  2.07992777e+04,\n",
       "         2.06570364e+03,  4.53285182e+03, -2.50000000e+03,  5.06570364e+03,\n",
       "        -9.93429636e+03, -6.60405078e+03,  1.50328518e+04, -1.60757516e+03,\n",
       "         9.26194793e+02, -2.11331406e+03,  5.13866859e+04,  5.45829302e+03,\n",
       "        -1.31133141e+04,  2.60657036e+04,  1.40657036e+04,  7.88668594e+03,\n",
       "        -7.93429636e+03,  1.40657036e+04, -8.43429636e+03, -2.36133141e+04,\n",
       "         2.18209558e+04, -3.11331406e+03, -1.93429636e+03, -8.68429636e+03,\n",
       "         2.66761948e+04,  5.98285182e+03,  6.96570364e+03, -9.51331406e+03,\n",
       "        -1.30158701e+04,  8.96570364e+03,  2.06570364e+03,  1.39657036e+04,\n",
       "         1.59314404e+04,  1.00657036e+04,  2.38866859e+04, -1.21133141e+04,\n",
       "        -2.00000000e+03,  7.88668594e+03,  3.28866859e+04, -5.11331406e+03,\n",
       "        -2.14880521e+03, -9.10887604e+03,  1.31570364e+03,  9.06570364e+03,\n",
       "         4.83936441e+03,  6.42619479e+03, -1.12342964e+04,  1.91972513e+04,\n",
       "        -1.36133141e+04,  7.50000000e+03, -6.11331406e+03,  2.28866859e+04,\n",
       "         3.86685943e+02,  6.78866859e+04,  3.94635851e+03,  2.70657036e+04,\n",
       "        -1.93429636e+03, -4.93429636e+03, -7.43429636e+03, -8.11331406e+03,\n",
       "         3.53285182e+03, -1.61331406e+03,  2.85657036e+04,  3.06570364e+03,\n",
       "         3.40151085e+04, -2.93429636e+03,  1.30657036e+04,  1.89657036e+04,\n",
       "        -2.98429636e+03,  9.94635851e+03,  5.88668594e+03,  2.88866859e+04,\n",
       "         2.90657036e+04, -2.11331406e+03, -4.11331406e+03,  3.38866859e+04,\n",
       "         1.63866859e+04,  1.48776935e+04,  1.78866859e+04,  3.04314404e+04,\n",
       "        -4.21331406e+03,  1.35157036e+04,  1.68538341e+04,  1.73866859e+04,\n",
       "         2.90657036e+04,  3.09244573e+04,  5.06366859e+04,  2.89194736e+04,\n",
       "         8.56570364e+03,  4.56570364e+03,  2.48157036e+04,  3.70657036e+04,\n",
       "         2.10657036e+04,  1.40657036e+04,  1.24157036e+04,  6.56570364e+03,\n",
       "         5.38668594e+03,  4.38866859e+04, -3.11331406e+03,  2.65157036e+04,\n",
       "         8.90000000e+03,  2.69624966e+04,  1.28866859e+04,  1.87657036e+04,\n",
       "        -1.71133141e+04,  5.18866859e+04,  2.80657036e+04,  1.82261948e+04,\n",
       "         1.28866859e+04,  6.57036437e+01,  2.90657036e+04, -5.93429636e+03,\n",
       "         2.03866859e+04,  1.04386686e+05,  5.00000000e+03,  4.19761948e+04,\n",
       "         4.78866859e+04,  5.89657036e+04,  9.26366859e+04, -1.13314057e+02,\n",
       "         3.08866859e+04,  1.50657036e+04,  1.08157036e+04,  5.06570364e+03,\n",
       "         3.99761948e+04,  6.40657036e+04,  2.00657036e+04,  1.38866859e+04,\n",
       "         1.91761948e+04, -1.61133141e+04,  1.78130252e+04,  1.55657036e+04,\n",
       "         7.72094922e+03,  1.48866859e+04,  3.33936441e+03,  5.58866859e+04,\n",
       "         2.88668594e+03,  5.44761948e+04,  5.03866859e+04,  6.40657036e+04,\n",
       "         2.78866859e+04,  1.02886686e+05,  2.41011948e+04, -4.11331406e+03,\n",
       "        -5.93429636e+03,  3.09657036e+04,  1.10657036e+04,  1.90657036e+04,\n",
       "         8.56570364e+03,  1.19065704e+05, -4.11331406e+03,  1.90657036e+04,\n",
       "         5.56570364e+03,  2.35060311e+04,  1.60657036e+04,  2.78866859e+04,\n",
       "         1.70657036e+04,  4.89657036e+04,  2.79657036e+04,  4.10657036e+04,\n",
       "         1.40657036e+04, -5.93429636e+03,  5.54761948e+04,  1.27866859e+04,\n",
       "         8.90657036e+04]))"
      ]
     },
     "execution_count": 135,
     "metadata": {},
     "output_type": "execute_result"
    }
   ],
   "source": [
    "X =housing[['driveway', 'airco', 'lotsize']]\n",
    "y = housing['price']\n",
    "\n",
    "ohe = OneHotEncoder(\n",
    "    sparse_output = False,\n",
    "    drop = 'first'\n",
    ").set_output(transform = 'pandas')\n",
    "\n",
    "dum_X = ohe.fit_transform(X)\n",
    "lr = LinearRegression()\n",
    "lr.fit(dum_X, y)\n",
    "lr. intercept_, lr.coef_"
   ]
  },
  {
   "cell_type": "markdown",
   "id": "aa4e6cd6-5883-48f5-8b6e-bfcfd7f445c2",
   "metadata": {},
   "source": [
    "#### Column Transformers"
   ]
  },
  {
   "cell_type": "code",
   "execution_count": 129,
   "id": "4254c6f8-b13f-4db5-8d85-e3f20d0ce8e0",
   "metadata": {},
   "outputs": [],
   "source": [
    "# Column transformers are used in cases where we need to seperate the numeric columns from non-numeric ones.\n",
    "from sklearn.compose import make_column_transformer\n",
    "from sklearn.compose import make_column_selector"
   ]
  },
  {
   "cell_type": "code",
   "execution_count": 117,
   "id": "15807d43-f8f8-4a10-9812-d994e3e9bed9",
   "metadata": {},
   "outputs": [
    {
     "data": {
      "text/plain": [
       "price       float64\n",
       "lotsize       int64\n",
       "bedrooms      int64\n",
       "bathrms       int64\n",
       "stories       int64\n",
       "driveway     object\n",
       "recroom      object\n",
       "fullbase     object\n",
       "gashw        object\n",
       "airco        object\n",
       "garagepl      int64\n",
       "prefarea     object\n",
       "dtype: object"
      ]
     },
     "execution_count": 117,
     "metadata": {},
     "output_type": "execute_result"
    }
   ],
   "source": [
    "housing.dtypes"
   ]
  },
  {
   "cell_type": "code",
   "execution_count": 123,
   "id": "b7a832f9-fdb5-4ed0-9888-1b910eeec9e2",
   "metadata": {},
   "outputs": [],
   "source": [
    "num_cols = housing.columns[housing.dtypes != object].tolist()\n",
    "obj_cols = housing.columns[housing.dtypes == object].tolist()\n",
    "ohe = OneHotEncoder(\n",
    "    sparse_output= False,\n",
    "    drop = 'first',\n",
    ").set_output(transform = \"pandas\")\n",
    "\n"
   ]
  },
  {
   "cell_type": "code",
   "execution_count": 133,
   "id": "0ffed5e0-307b-4972-9148-6256581b8ebf",
   "metadata": {},
   "outputs": [
    {
     "data": {
      "text/html": [
       "<div>\n",
       "<style scoped>\n",
       "    .dataframe tbody tr th:only-of-type {\n",
       "        vertical-align: middle;\n",
       "    }\n",
       "\n",
       "    .dataframe tbody tr th {\n",
       "        vertical-align: top;\n",
       "    }\n",
       "\n",
       "    .dataframe thead th {\n",
       "        text-align: right;\n",
       "    }\n",
       "</style>\n",
       "<table border=\"1\" class=\"dataframe\">\n",
       "  <thead>\n",
       "    <tr style=\"text-align: right;\">\n",
       "      <th></th>\n",
       "      <th>price</th>\n",
       "      <th>lotsize</th>\n",
       "      <th>bedrooms</th>\n",
       "      <th>bathrms</th>\n",
       "      <th>stories</th>\n",
       "      <th>garagepl</th>\n",
       "      <th>driveway_yes</th>\n",
       "      <th>recroom_yes</th>\n",
       "      <th>fullbase_yes</th>\n",
       "      <th>gashw_yes</th>\n",
       "      <th>airco_yes</th>\n",
       "      <th>prefarea_yes</th>\n",
       "    </tr>\n",
       "  </thead>\n",
       "  <tbody>\n",
       "    <tr>\n",
       "      <th>0</th>\n",
       "      <td>42000.0</td>\n",
       "      <td>5850</td>\n",
       "      <td>3</td>\n",
       "      <td>1</td>\n",
       "      <td>2</td>\n",
       "      <td>1</td>\n",
       "      <td>1.0</td>\n",
       "      <td>0.0</td>\n",
       "      <td>1.0</td>\n",
       "      <td>0.0</td>\n",
       "      <td>0.0</td>\n",
       "      <td>0.0</td>\n",
       "    </tr>\n",
       "    <tr>\n",
       "      <th>1</th>\n",
       "      <td>38500.0</td>\n",
       "      <td>4000</td>\n",
       "      <td>2</td>\n",
       "      <td>1</td>\n",
       "      <td>1</td>\n",
       "      <td>0</td>\n",
       "      <td>1.0</td>\n",
       "      <td>0.0</td>\n",
       "      <td>0.0</td>\n",
       "      <td>0.0</td>\n",
       "      <td>0.0</td>\n",
       "      <td>0.0</td>\n",
       "    </tr>\n",
       "    <tr>\n",
       "      <th>2</th>\n",
       "      <td>49500.0</td>\n",
       "      <td>3060</td>\n",
       "      <td>3</td>\n",
       "      <td>1</td>\n",
       "      <td>1</td>\n",
       "      <td>0</td>\n",
       "      <td>1.0</td>\n",
       "      <td>0.0</td>\n",
       "      <td>0.0</td>\n",
       "      <td>0.0</td>\n",
       "      <td>0.0</td>\n",
       "      <td>0.0</td>\n",
       "    </tr>\n",
       "    <tr>\n",
       "      <th>3</th>\n",
       "      <td>60500.0</td>\n",
       "      <td>6650</td>\n",
       "      <td>3</td>\n",
       "      <td>1</td>\n",
       "      <td>2</td>\n",
       "      <td>0</td>\n",
       "      <td>1.0</td>\n",
       "      <td>1.0</td>\n",
       "      <td>0.0</td>\n",
       "      <td>0.0</td>\n",
       "      <td>0.0</td>\n",
       "      <td>0.0</td>\n",
       "    </tr>\n",
       "    <tr>\n",
       "      <th>4</th>\n",
       "      <td>61000.0</td>\n",
       "      <td>6360</td>\n",
       "      <td>2</td>\n",
       "      <td>1</td>\n",
       "      <td>1</td>\n",
       "      <td>0</td>\n",
       "      <td>1.0</td>\n",
       "      <td>0.0</td>\n",
       "      <td>0.0</td>\n",
       "      <td>0.0</td>\n",
       "      <td>0.0</td>\n",
       "      <td>0.0</td>\n",
       "    </tr>\n",
       "    <tr>\n",
       "      <th>...</th>\n",
       "      <td>...</td>\n",
       "      <td>...</td>\n",
       "      <td>...</td>\n",
       "      <td>...</td>\n",
       "      <td>...</td>\n",
       "      <td>...</td>\n",
       "      <td>...</td>\n",
       "      <td>...</td>\n",
       "      <td>...</td>\n",
       "      <td>...</td>\n",
       "      <td>...</td>\n",
       "      <td>...</td>\n",
       "    </tr>\n",
       "    <tr>\n",
       "      <th>541</th>\n",
       "      <td>91500.0</td>\n",
       "      <td>4800</td>\n",
       "      <td>3</td>\n",
       "      <td>2</td>\n",
       "      <td>4</td>\n",
       "      <td>0</td>\n",
       "      <td>1.0</td>\n",
       "      <td>1.0</td>\n",
       "      <td>0.0</td>\n",
       "      <td>0.0</td>\n",
       "      <td>1.0</td>\n",
       "      <td>0.0</td>\n",
       "    </tr>\n",
       "    <tr>\n",
       "      <th>542</th>\n",
       "      <td>94000.0</td>\n",
       "      <td>6000</td>\n",
       "      <td>3</td>\n",
       "      <td>2</td>\n",
       "      <td>4</td>\n",
       "      <td>0</td>\n",
       "      <td>1.0</td>\n",
       "      <td>0.0</td>\n",
       "      <td>0.0</td>\n",
       "      <td>0.0</td>\n",
       "      <td>1.0</td>\n",
       "      <td>0.0</td>\n",
       "    </tr>\n",
       "    <tr>\n",
       "      <th>543</th>\n",
       "      <td>103000.0</td>\n",
       "      <td>6000</td>\n",
       "      <td>3</td>\n",
       "      <td>2</td>\n",
       "      <td>4</td>\n",
       "      <td>1</td>\n",
       "      <td>1.0</td>\n",
       "      <td>1.0</td>\n",
       "      <td>0.0</td>\n",
       "      <td>0.0</td>\n",
       "      <td>1.0</td>\n",
       "      <td>0.0</td>\n",
       "    </tr>\n",
       "    <tr>\n",
       "      <th>544</th>\n",
       "      <td>105000.0</td>\n",
       "      <td>6000</td>\n",
       "      <td>3</td>\n",
       "      <td>2</td>\n",
       "      <td>2</td>\n",
       "      <td>1</td>\n",
       "      <td>1.0</td>\n",
       "      <td>1.0</td>\n",
       "      <td>0.0</td>\n",
       "      <td>0.0</td>\n",
       "      <td>1.0</td>\n",
       "      <td>0.0</td>\n",
       "    </tr>\n",
       "    <tr>\n",
       "      <th>545</th>\n",
       "      <td>105000.0</td>\n",
       "      <td>6000</td>\n",
       "      <td>3</td>\n",
       "      <td>1</td>\n",
       "      <td>2</td>\n",
       "      <td>1</td>\n",
       "      <td>1.0</td>\n",
       "      <td>0.0</td>\n",
       "      <td>0.0</td>\n",
       "      <td>0.0</td>\n",
       "      <td>1.0</td>\n",
       "      <td>0.0</td>\n",
       "    </tr>\n",
       "  </tbody>\n",
       "</table>\n",
       "<p>546 rows × 12 columns</p>\n",
       "</div>"
      ],
      "text/plain": [
       "        price  lotsize  bedrooms  bathrms  stories  garagepl  driveway_yes  \\\n",
       "0     42000.0     5850         3        1        2         1           1.0   \n",
       "1     38500.0     4000         2        1        1         0           1.0   \n",
       "2     49500.0     3060         3        1        1         0           1.0   \n",
       "3     60500.0     6650         3        1        2         0           1.0   \n",
       "4     61000.0     6360         2        1        1         0           1.0   \n",
       "..        ...      ...       ...      ...      ...       ...           ...   \n",
       "541   91500.0     4800         3        2        4         0           1.0   \n",
       "542   94000.0     6000         3        2        4         0           1.0   \n",
       "543  103000.0     6000         3        2        4         1           1.0   \n",
       "544  105000.0     6000         3        2        2         1           1.0   \n",
       "545  105000.0     6000         3        1        2         1           1.0   \n",
       "\n",
       "     recroom_yes  fullbase_yes  gashw_yes  airco_yes  prefarea_yes  \n",
       "0            0.0           1.0        0.0        0.0           0.0  \n",
       "1            0.0           0.0        0.0        0.0           0.0  \n",
       "2            0.0           0.0        0.0        0.0           0.0  \n",
       "3            1.0           0.0        0.0        0.0           0.0  \n",
       "4            0.0           0.0        0.0        0.0           0.0  \n",
       "..           ...           ...        ...        ...           ...  \n",
       "541          1.0           0.0        0.0        1.0           0.0  \n",
       "542          0.0           0.0        0.0        1.0           0.0  \n",
       "543          1.0           0.0        0.0        1.0           0.0  \n",
       "544          1.0           0.0        0.0        1.0           0.0  \n",
       "545          0.0           0.0        0.0        1.0           0.0  \n",
       "\n",
       "[546 rows x 12 columns]"
      ]
     },
     "execution_count": 133,
     "metadata": {},
     "output_type": "execute_result"
    }
   ],
   "source": [
    "ct = make_column_transformer(('passthrough', num_cols), (ohe, obj_cols),\n",
    "                             verbose_feature_names_out = False\n",
    "                            ).set_output(transform = \"pandas\")\n",
    "ct.fit_transform(housing)"
   ]
  },
  {
   "cell_type": "code",
   "execution_count": 146,
   "id": "6a562d05-e854-410d-968e-bc4c27c70124",
   "metadata": {},
   "outputs": [],
   "source": [
    "# For subset of columns\n",
    "\n",
    "df = housing[['driveway', 'airco', 'lotsize']].copy()"
   ]
  },
  {
   "cell_type": "code",
   "execution_count": 150,
   "id": "ad9e3fe1-06e0-4282-a1fd-ffaf933c413e",
   "metadata": {},
   "outputs": [],
   "source": [
    "num_cols = df.columns[df.dtypes != object].tolist()\n",
    "obj_cols = df.columns[df.dtypes == object].tolist()\n",
    "ohe = OneHotEncoder(\n",
    "    sparse_output= False,\n",
    "    drop = 'first',\n",
    ").set_output(transform = \"pandas\")\n",
    "\n"
   ]
  },
  {
   "cell_type": "code",
   "execution_count": 152,
   "id": "bb58da22-9f31-45fe-9df7-3afbc6359a8f",
   "metadata": {},
   "outputs": [
    {
     "data": {
      "text/html": [
       "<div>\n",
       "<style scoped>\n",
       "    .dataframe tbody tr th:only-of-type {\n",
       "        vertical-align: middle;\n",
       "    }\n",
       "\n",
       "    .dataframe tbody tr th {\n",
       "        vertical-align: top;\n",
       "    }\n",
       "\n",
       "    .dataframe thead th {\n",
       "        text-align: right;\n",
       "    }\n",
       "</style>\n",
       "<table border=\"1\" class=\"dataframe\">\n",
       "  <thead>\n",
       "    <tr style=\"text-align: right;\">\n",
       "      <th></th>\n",
       "      <th>lotsize</th>\n",
       "      <th>driveway_yes</th>\n",
       "      <th>airco_yes</th>\n",
       "    </tr>\n",
       "  </thead>\n",
       "  <tbody>\n",
       "    <tr>\n",
       "      <th>0</th>\n",
       "      <td>5850</td>\n",
       "      <td>1.0</td>\n",
       "      <td>0.0</td>\n",
       "    </tr>\n",
       "    <tr>\n",
       "      <th>1</th>\n",
       "      <td>4000</td>\n",
       "      <td>1.0</td>\n",
       "      <td>0.0</td>\n",
       "    </tr>\n",
       "    <tr>\n",
       "      <th>2</th>\n",
       "      <td>3060</td>\n",
       "      <td>1.0</td>\n",
       "      <td>0.0</td>\n",
       "    </tr>\n",
       "    <tr>\n",
       "      <th>3</th>\n",
       "      <td>6650</td>\n",
       "      <td>1.0</td>\n",
       "      <td>0.0</td>\n",
       "    </tr>\n",
       "    <tr>\n",
       "      <th>4</th>\n",
       "      <td>6360</td>\n",
       "      <td>1.0</td>\n",
       "      <td>0.0</td>\n",
       "    </tr>\n",
       "    <tr>\n",
       "      <th>...</th>\n",
       "      <td>...</td>\n",
       "      <td>...</td>\n",
       "      <td>...</td>\n",
       "    </tr>\n",
       "    <tr>\n",
       "      <th>541</th>\n",
       "      <td>4800</td>\n",
       "      <td>1.0</td>\n",
       "      <td>1.0</td>\n",
       "    </tr>\n",
       "    <tr>\n",
       "      <th>542</th>\n",
       "      <td>6000</td>\n",
       "      <td>1.0</td>\n",
       "      <td>1.0</td>\n",
       "    </tr>\n",
       "    <tr>\n",
       "      <th>543</th>\n",
       "      <td>6000</td>\n",
       "      <td>1.0</td>\n",
       "      <td>1.0</td>\n",
       "    </tr>\n",
       "    <tr>\n",
       "      <th>544</th>\n",
       "      <td>6000</td>\n",
       "      <td>1.0</td>\n",
       "      <td>1.0</td>\n",
       "    </tr>\n",
       "    <tr>\n",
       "      <th>545</th>\n",
       "      <td>6000</td>\n",
       "      <td>1.0</td>\n",
       "      <td>1.0</td>\n",
       "    </tr>\n",
       "  </tbody>\n",
       "</table>\n",
       "<p>546 rows × 3 columns</p>\n",
       "</div>"
      ],
      "text/plain": [
       "     lotsize  driveway_yes  airco_yes\n",
       "0       5850           1.0        0.0\n",
       "1       4000           1.0        0.0\n",
       "2       3060           1.0        0.0\n",
       "3       6650           1.0        0.0\n",
       "4       6360           1.0        0.0\n",
       "..       ...           ...        ...\n",
       "541     4800           1.0        1.0\n",
       "542     6000           1.0        1.0\n",
       "543     6000           1.0        1.0\n",
       "544     6000           1.0        1.0\n",
       "545     6000           1.0        1.0\n",
       "\n",
       "[546 rows x 3 columns]"
      ]
     },
     "execution_count": 152,
     "metadata": {},
     "output_type": "execute_result"
    }
   ],
   "source": [
    "ct = make_column_transformer(('passthrough', num_cols), (ohe, obj_cols),\n",
    "                             verbose_feature_names_out = False\n",
    "                            ).set_output(transform = \"pandas\")\n",
    "ct.fit_transform(df)"
   ]
  },
  {
   "cell_type": "markdown",
   "id": "17568559-d424-4da8-9372-465dadc1abe7",
   "metadata": {},
   "source": [
    "#### make_column_selector function"
   ]
  },
  {
   "cell_type": "code",
   "execution_count": null,
   "id": "cae3da8d-478b-4b42-a221-42aaf7bbdfb3",
   "metadata": {},
   "outputs": [],
   "source": [
    "# For subset of columns\n",
    "\n",
    "df = housing[['driveway', 'airco', 'lotsize']].copy()"
   ]
  },
  {
   "cell_type": "code",
   "execution_count": null,
   "id": "cebf15fc-9c03-4118-8b06-1f66d453b2f3",
   "metadata": {},
   "outputs": [],
   "source": [
    "ohe = OneHotEncoder(\n",
    "    sparse_output= False,\n",
    "    drop = 'first',\n",
    ").set_output(transform = \"pandas\")"
   ]
  },
  {
   "cell_type": "code",
   "execution_count": 156,
   "id": "981e571a-5e3d-46e6-b626-09536d9957f1",
   "metadata": {},
   "outputs": [
    {
     "data": {
      "text/html": [
       "<div>\n",
       "<style scoped>\n",
       "    .dataframe tbody tr th:only-of-type {\n",
       "        vertical-align: middle;\n",
       "    }\n",
       "\n",
       "    .dataframe tbody tr th {\n",
       "        vertical-align: top;\n",
       "    }\n",
       "\n",
       "    .dataframe thead th {\n",
       "        text-align: right;\n",
       "    }\n",
       "</style>\n",
       "<table border=\"1\" class=\"dataframe\">\n",
       "  <thead>\n",
       "    <tr style=\"text-align: right;\">\n",
       "      <th></th>\n",
       "      <th>lotsize</th>\n",
       "      <th>driveway_yes</th>\n",
       "      <th>airco_yes</th>\n",
       "    </tr>\n",
       "  </thead>\n",
       "  <tbody>\n",
       "    <tr>\n",
       "      <th>0</th>\n",
       "      <td>5850</td>\n",
       "      <td>1.0</td>\n",
       "      <td>0.0</td>\n",
       "    </tr>\n",
       "    <tr>\n",
       "      <th>1</th>\n",
       "      <td>4000</td>\n",
       "      <td>1.0</td>\n",
       "      <td>0.0</td>\n",
       "    </tr>\n",
       "    <tr>\n",
       "      <th>2</th>\n",
       "      <td>3060</td>\n",
       "      <td>1.0</td>\n",
       "      <td>0.0</td>\n",
       "    </tr>\n",
       "    <tr>\n",
       "      <th>3</th>\n",
       "      <td>6650</td>\n",
       "      <td>1.0</td>\n",
       "      <td>0.0</td>\n",
       "    </tr>\n",
       "    <tr>\n",
       "      <th>4</th>\n",
       "      <td>6360</td>\n",
       "      <td>1.0</td>\n",
       "      <td>0.0</td>\n",
       "    </tr>\n",
       "    <tr>\n",
       "      <th>...</th>\n",
       "      <td>...</td>\n",
       "      <td>...</td>\n",
       "      <td>...</td>\n",
       "    </tr>\n",
       "    <tr>\n",
       "      <th>541</th>\n",
       "      <td>4800</td>\n",
       "      <td>1.0</td>\n",
       "      <td>1.0</td>\n",
       "    </tr>\n",
       "    <tr>\n",
       "      <th>542</th>\n",
       "      <td>6000</td>\n",
       "      <td>1.0</td>\n",
       "      <td>1.0</td>\n",
       "    </tr>\n",
       "    <tr>\n",
       "      <th>543</th>\n",
       "      <td>6000</td>\n",
       "      <td>1.0</td>\n",
       "      <td>1.0</td>\n",
       "    </tr>\n",
       "    <tr>\n",
       "      <th>544</th>\n",
       "      <td>6000</td>\n",
       "      <td>1.0</td>\n",
       "      <td>1.0</td>\n",
       "    </tr>\n",
       "    <tr>\n",
       "      <th>545</th>\n",
       "      <td>6000</td>\n",
       "      <td>1.0</td>\n",
       "      <td>1.0</td>\n",
       "    </tr>\n",
       "  </tbody>\n",
       "</table>\n",
       "<p>546 rows × 3 columns</p>\n",
       "</div>"
      ],
      "text/plain": [
       "     lotsize  driveway_yes  airco_yes\n",
       "0       5850           1.0        0.0\n",
       "1       4000           1.0        0.0\n",
       "2       3060           1.0        0.0\n",
       "3       6650           1.0        0.0\n",
       "4       6360           1.0        0.0\n",
       "..       ...           ...        ...\n",
       "541     4800           1.0        1.0\n",
       "542     6000           1.0        1.0\n",
       "543     6000           1.0        1.0\n",
       "544     6000           1.0        1.0\n",
       "545     6000           1.0        1.0\n",
       "\n",
       "[546 rows x 3 columns]"
      ]
     },
     "execution_count": 156,
     "metadata": {},
     "output_type": "execute_result"
    }
   ],
   "source": [
    "# using make_column_selector\n",
    "ct = make_column_transformer(('passthrough', make_column_selector(dtype_exclude = object)), \n",
    "                             (ohe, make_column_selector(dtype_include = object)),\n",
    "                             verbose_feature_names_out = False\n",
    "                            ).set_output(transform = \"pandas\")\n",
    "ct.fit_transform(df)"
   ]
  },
  {
   "cell_type": "markdown",
   "id": "ebe12e45-f72a-4b36-8bdc-033bb3c026f6",
   "metadata": {},
   "source": [
    "#### For whole dataset"
   ]
  },
  {
   "cell_type": "code",
   "execution_count": 179,
   "id": "2a208f5e-c7dd-4b3f-b9bc-996822470f25",
   "metadata": {},
   "outputs": [],
   "source": [
    "ohe = OneHotEncoder(\n",
    "    sparse_output= False,\n",
    "    drop = 'first',\n",
    ").set_output(transform = \"pandas\")\n",
    "\n",
    "ct = make_column_transformer(('passthrough', make_column_selector(dtype_exclude = object)), \n",
    "                             (ohe, make_column_selector(dtype_include = object)),\n",
    "                             verbose_feature_names_out = False\n",
    "                            ).set_output(transform = \"pandas\")\n",
    "\n",
    "X = housing.drop('price', axis = 'columns')\n",
    "y = housing['price']\n",
    "X_train, X_test, y_train, y_test = train_test_split(X, y, random_state = 24, test_size = 0.3)"
   ]
  },
  {
   "cell_type": "code",
   "execution_count": 181,
   "id": "0d580d83-8c88-4135-b74e-70f2b126c85d",
   "metadata": {},
   "outputs": [
    {
     "data": {
      "text/plain": [
       "0.6246856191453717"
      ]
     },
     "execution_count": 181,
     "metadata": {},
     "output_type": "execute_result"
    }
   ],
   "source": [
    "X_ohe_trn = ct.fit_transform(X_train)\n",
    "X_ohe_tst = ct.transform(X_test)\n",
    "lr.fit(X_ohe_trn, y_train)\n",
    "y_pred = lr.predict(X_ohe_tst)\n",
    "r2_score(y_test, y_pred)"
   ]
  },
  {
   "cell_type": "markdown",
   "id": "29f08139-d706-4e34-9655-5004170c15e9",
   "metadata": {},
   "source": [
    "#### Using Pipeline"
   ]
  },
  {
   "cell_type": "code",
   "execution_count": 190,
   "id": "4c33bfd7-8173-42f8-a51b-50522b44fba4",
   "metadata": {},
   "outputs": [
    {
     "data": {
      "text/plain": [
       "0.5558314095911471"
      ]
     },
     "execution_count": 190,
     "metadata": {},
     "output_type": "execute_result"
    }
   ],
   "source": [
    "from sklearn.pipeline import Pipeline\n",
    "\n",
    "# For Polynomial features\n",
    "poly = PolynomialFeatures(\n",
    "    degree=2, \n",
    "    include_bias=False\n",
    ").set_output(transform='pandas')\n",
    "\n",
    "# One hot encoder object\n",
    "ohe = OneHotEncoder(\n",
    "    sparse_output= False,\n",
    "    drop = 'first',\n",
    ").set_output(transform = \"pandas\")\n",
    "\n",
    "# Column Transformer for one hot encoding \n",
    "ct = make_column_transformer(('passthrough', make_column_selector(dtype_exclude = object)), \n",
    "                             (ohe, make_column_selector(dtype_include = object)),\n",
    "                             verbose_feature_names_out = False\n",
    "                            ).set_output(transform = \"pandas\")\n",
    "\n",
    "# Linear regressor object\n",
    "lr = LinearRegression()\n",
    "\n",
    "pipe = Pipeline([(\"TRNS\", ct), (\"POLY\", poly), ('LR', lr)])\n",
    "pipe.fit(X_train, y_train)\n",
    "y_pred = pipe.predict(X_test)\n",
    "r2_score(y_test, y_pred)"
   ]
  },
  {
   "cell_type": "code",
   "execution_count": null,
   "id": "16965dca-339e-4622-a5eb-e823684c4fea",
   "metadata": {},
   "outputs": [],
   "source": []
  }
 ],
 "metadata": {
  "kernelspec": {
   "display_name": "Python 3 (ipykernel)",
   "language": "python",
   "name": "python3"
  },
  "language_info": {
   "codemirror_mode": {
    "name": "ipython",
    "version": 3
   },
   "file_extension": ".py",
   "mimetype": "text/x-python",
   "name": "python",
   "nbconvert_exporter": "python",
   "pygments_lexer": "ipython3",
   "version": "3.12.4"
  }
 },
 "nbformat": 4,
 "nbformat_minor": 5
}
