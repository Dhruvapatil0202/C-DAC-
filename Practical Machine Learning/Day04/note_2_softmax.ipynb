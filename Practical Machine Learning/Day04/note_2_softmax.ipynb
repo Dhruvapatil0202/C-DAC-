{
 "cells": [
  {
   "cell_type": "code",
   "execution_count": 24,
   "id": "d45aebd9-a5c8-438c-b6b2-6dbac66b482f",
   "metadata": {},
   "outputs": [],
   "source": [
    "import sklearn\n",
    "import pandas as pd\n",
    "import numpy as np\n",
    "from sklearn.linear_model import LogisticRegression\n",
    "from sklearn.metrics import accuracy_score, confusion_matrix\n",
    "from sklearn.preprocessing import OneHotEncoder\n",
    "from sklearn.model_selection import train_test_split\n",
    "import warnings\n",
    "\n",
    "from sklearn.model_selection import StratifiedKFold\n",
    "from sklearn.model_selection import GridSearchCV\n",
    "from sklearn.pipeline import Pipeline\n",
    "\n",
    "from sklearn.model_selection import StratifiedKFold\n",
    "\n",
    "warnings.filterwarnings('ignore')"
   ]
  },
  {
   "cell_type": "code",
   "execution_count": 4,
   "id": "cb2b8bd6-973c-46b6-81db-3de6f08dc76d",
   "metadata": {},
   "outputs": [],
   "source": [
    "from ucimlrepo import fetch_ucirepo \n",
    "  \n",
    "# fetch dataset \n",
    "car_evaluation = fetch_ucirepo(id=19) \n",
    "  \n",
    "# data (as pandas dataframes) \n",
    "X = car_evaluation.data.features \n",
    "y = car_evaluation.data.targets \n",
    "\n"
   ]
  },
  {
   "cell_type": "code",
   "execution_count": 8,
   "id": "ab02bdad-3452-4a05-9f6d-dded5c212efb",
   "metadata": {},
   "outputs": [
    {
     "name": "stdout",
     "output_type": "stream",
     "text": [
      "{'LR__solver': 'sag'}\n",
      "0.7360643377733098\n"
     ]
    }
   ],
   "source": [
    "ohe = OneHotEncoder( drop = 'first',\n",
    "                   handle_unknown = 'ignore',\n",
    "                   sparse_output = False)\n",
    "\n",
    "lr = LogisticRegression(multi_class = 'multinomial')\n",
    "pipe = Pipeline([(\"OHE\", ohe), (\"LR\", lr)])\n",
    "params = {\"LR__solver\" : [\"liblinear\", \"lbfgs\", \"newton-cg\", \"newton-cholesky\", \"sag\", \"saga\"]}\n",
    "gcv = GridSearchCV(pipe, param_grid = params)\n",
    "gcv.fit(X, y)\n",
    "print(gcv.best_params_)\n",
    "print(gcv.best_score_)\n",
    "\n"
   ]
  },
  {
   "cell_type": "code",
   "execution_count": 28,
   "id": "a3d897d6-0f6f-4656-ba55-ce0f3c004b29",
   "metadata": {},
   "outputs": [
    {
     "name": "stdout",
     "output_type": "stream",
     "text": [
      "{'LR__C': 9.47368947368421, 'LR__multi_class': 'multinomial', 'LR__solver': 'sag'}\n",
      "0.9230325877523666\n"
     ]
    }
   ],
   "source": [
    "ohe = OneHotEncoder(drop = 'first',\n",
    "                   handle_unknown = 'ignore',\n",
    "                   sparse_output = False)\n",
    "\n",
    "kfold = StratifiedKFold(n_splits = 5, \n",
    "                        random_state = 24,\n",
    "                        shuffle = True)\n",
    "\n",
    "lr = LogisticRegression(random_state = 24)\n",
    "pipe = Pipeline([(\"OHE\", ohe), (\"LR\", lr)])\n",
    "params = {\"LR__solver\" : [\"liblinear\", \"lbfgs\", \"newton-cg\", \"newton-cholesky\", \"sag\", \"saga\"],\n",
    "          \"LR__multi_class\" : ['ovr', 'multinomial'],\n",
    "          \"LR__C\" : np.linspace(0.0001, 10, 20)}\n",
    "gcv = GridSearchCV(pipe, param_grid = params, cv = kfold)\n",
    "gcv.fit(X, y['class'])\n",
    "print(gcv.best_params_)\n",
    "print(gcv.best_score_)\n",
    "\n",
    "\n"
   ]
  },
  {
   "cell_type": "code",
   "execution_count": 20,
   "id": "639407ed-7407-4928-9946-9125f243819e",
   "metadata": {},
   "outputs": [
    {
     "data": {
      "text/plain": [
       "(240, 16)"
      ]
     },
     "execution_count": 20,
     "metadata": {},
     "output_type": "execute_result"
    }
   ],
   "source": [
    "pd.DataFrame(gcv.cv_results_).shape"
   ]
  }
 ],
 "metadata": {
  "kernelspec": {
   "display_name": "Python 3 (ipykernel)",
   "language": "python",
   "name": "python3"
  },
  "language_info": {
   "codemirror_mode": {
    "name": "ipython",
    "version": 3
   },
   "file_extension": ".py",
   "mimetype": "text/x-python",
   "name": "python",
   "nbconvert_exporter": "python",
   "pygments_lexer": "ipython3",
   "version": "3.12.4"
  }
 },
 "nbformat": 4,
 "nbformat_minor": 5
}
