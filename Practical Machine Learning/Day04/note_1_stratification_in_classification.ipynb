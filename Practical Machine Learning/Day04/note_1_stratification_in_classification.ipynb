{
 "cells": [
  {
   "cell_type": "code",
   "execution_count": 3,
   "id": "8a5d640d-f7f2-4143-8333-af5ef79a88d1",
   "metadata": {},
   "outputs": [
    {
     "data": {
      "text/plain": [
       "'1.5.2'"
      ]
     },
     "execution_count": 3,
     "metadata": {},
     "output_type": "execute_result"
    }
   ],
   "source": [
    "sklearn.__version__"
   ]
  },
  {
   "cell_type": "code",
   "execution_count": 207,
   "id": "0780a85a-5bfd-46a8-8ce1-68d3e5b86c22",
   "metadata": {},
   "outputs": [],
   "source": [
    "import sklearn\n",
    "import pandas as pd\n",
    "import numpy as np\n",
    "from sklearn.linear_model import LogisticRegression\n",
    "from sklearn.metrics import accuracy_score\n",
    "from sklearn.preprocessing import OneHotEncoder\n",
    "from sklearn.model_selection import train_test_split\n",
    "import warnings\n",
    "\n",
    "from sklearn.model_selection import StratifiedKFold\n",
    "from sklearn.model_selection import GridSearchCV\n",
    "from sklearn.pipeline import Pipeline\n",
    "\n",
    "warnings.filterwarnings('ignore')"
   ]
  },
  {
   "cell_type": "code",
   "execution_count": 149,
   "id": "1397e7af-e5d3-463c-b13f-bb87113d10c0",
   "metadata": {},
   "outputs": [],
   "source": [
    "from ucimlrepo import fetch_ucirepo \n",
    "  \n",
    "# fetch dataset \n",
    "car_evaluation = fetch_ucirepo(id=19) \n",
    "  \n",
    "# data (as pandas dataframes) \n",
    "X = car_evaluation.data.features \n",
    "y = car_evaluation.data.targets \n",
    "\n"
   ]
  },
  {
   "cell_type": "code",
   "execution_count": 150,
   "id": "b7f3fe18-ff45-45d2-b9ce-2b82cb6deb87",
   "metadata": {},
   "outputs": [
    {
     "data": {
      "text/plain": [
       "class\n",
       "unacc    1210\n",
       "acc       384\n",
       "good       69\n",
       "vgood      65\n",
       "Name: count, dtype: int64"
      ]
     },
     "execution_count": 150,
     "metadata": {},
     "output_type": "execute_result"
    }
   ],
   "source": [
    "y['class'].value_counts()"
   ]
  },
  {
   "cell_type": "code",
   "execution_count": 151,
   "id": "06c849fb-fca3-4ca1-b02f-a63f6d4272c4",
   "metadata": {},
   "outputs": [],
   "source": [
    "y['class'] = y['class'].apply(lambda x : 0 if x == \"unacc\" else 1) # np.where(y['class']=='unacc',0,1)\n"
   ]
  },
  {
   "cell_type": "code",
   "execution_count": 152,
   "id": "56e2b8c4-47d8-4fb2-90ce-d369c2f1bbc3",
   "metadata": {},
   "outputs": [
    {
     "data": {
      "text/plain": [
       "class\n",
       "0    70.023148\n",
       "1    29.976852\n",
       "Name: proportion, dtype: float64"
      ]
     },
     "execution_count": 152,
     "metadata": {},
     "output_type": "execute_result"
    }
   ],
   "source": [
    "y['class'].value_counts(normalize=True)*100"
   ]
  },
  {
   "cell_type": "code",
   "execution_count": 153,
   "id": "73c53571-1bd9-4f63-8e06-a9e3660eebd7",
   "metadata": {},
   "outputs": [],
   "source": [
    "X_train, X_test, y_train, y_test = train_test_split(X,y, \n",
    "                                                    test_size=0.3, \n",
    "                                                    random_state=24,\n",
    "                                                   stratify = y['class'])"
   ]
  },
  {
   "cell_type": "code",
   "execution_count": 154,
   "id": "8f0c6687-c481-4da8-a5ca-a42f21e956c7",
   "metadata": {},
   "outputs": [
    {
     "data": {
      "text/plain": [
       "class\n",
       "0    0.700579\n",
       "1    0.299421\n",
       "Name: proportion, dtype: float64"
      ]
     },
     "execution_count": 154,
     "metadata": {},
     "output_type": "execute_result"
    }
   ],
   "source": [
    "y_train['class'].value_counts(normalize=True)"
   ]
  },
  {
   "cell_type": "code",
   "execution_count": 155,
   "id": "a8878928-90a9-495b-86c8-5115a547212f",
   "metadata": {},
   "outputs": [
    {
     "data": {
      "text/plain": [
       "class\n",
       "0    0.699422\n",
       "1    0.300578\n",
       "Name: proportion, dtype: float64"
      ]
     },
     "execution_count": 155,
     "metadata": {},
     "output_type": "execute_result"
    }
   ],
   "source": [
    "y_test['class'].value_counts(normalize=True)"
   ]
  },
  {
   "cell_type": "code",
   "execution_count": 156,
   "id": "57c63c60-f90e-4bee-bb22-dfd902324f84",
   "metadata": {},
   "outputs": [
    {
     "data": {
      "text/plain": [
       "((1209, 6), (519, 6), (1209, 1), (519, 1))"
      ]
     },
     "execution_count": 156,
     "metadata": {},
     "output_type": "execute_result"
    }
   ],
   "source": [
    "X_train.shape, X_test.shape, y_train.shape, y_test.shape"
   ]
  },
  {
   "cell_type": "code",
   "execution_count": 157,
   "id": "e302318b-8b17-4c9d-807f-8d108813571f",
   "metadata": {},
   "outputs": [],
   "source": [
    "ohe = OneHotEncoder(drop='first', \n",
    "                   handle_unknown='ignore',\n",
    "                   sparse_output=False\n",
    "                   ).set_output(transform='pandas')\n",
    "\n",
    "X_trn_ohe = ohe.fit_transform(X_train)\n",
    "X_tst_ohe = ohe.transform(X_test)"
   ]
  },
  {
   "cell_type": "code",
   "execution_count": 167,
   "id": "08e50013-bcc6-49e5-b1af-1666c7a07664",
   "metadata": {},
   "outputs": [
    {
     "data": {
      "text/plain": [
       "0.9633911368015414"
      ]
     },
     "execution_count": 167,
     "metadata": {},
     "output_type": "execute_result"
    }
   ],
   "source": [
    "log = LogisticRegression(solver='saga')\n",
    "log.fit(X_trn_ohe, y_train)\n",
    "y_pred = log.predict(X_tst_ohe)\n",
    "accuracy_score(y_test, y_pred)"
   ]
  },
  {
   "cell_type": "code",
   "execution_count": 169,
   "id": "1721f2b2-3752-494a-a47e-7f73c476b575",
   "metadata": {},
   "outputs": [
    {
     "data": {
      "text/plain": [
       "class\n",
       "0        847\n",
       "1        362\n",
       "Name: count, dtype: int64"
      ]
     },
     "execution_count": 169,
     "metadata": {},
     "output_type": "execute_result"
    }
   ],
   "source": [
    "y_train.value_counts()"
   ]
  },
  {
   "cell_type": "code",
   "execution_count": 171,
   "id": "aa512e52-a701-468a-bd9c-20ff0c14fdad",
   "metadata": {},
   "outputs": [
    {
     "data": {
      "text/plain": [
       "362.70360000000005"
      ]
     },
     "execution_count": 171,
     "metadata": {},
     "output_type": "execute_result"
    }
   ],
   "source": [
    "518*0.7002"
   ]
  },
  {
   "cell_type": "code",
   "execution_count": 173,
   "id": "7022f1ef-dc06-47ba-bde0-a8aa2b492e31",
   "metadata": {},
   "outputs": [
    {
     "data": {
      "text/plain": [
       "155"
      ]
     },
     "execution_count": 173,
     "metadata": {},
     "output_type": "execute_result"
    }
   ],
   "source": [
    "518 - 363"
   ]
  },
  {
   "cell_type": "code",
   "execution_count": null,
   "id": "a0785ab5-b93d-4be6-8775-17c10ce483ed",
   "metadata": {},
   "outputs": [],
   "source": []
  },
  {
   "cell_type": "code",
   "execution_count": 176,
   "id": "e37727c7-557b-4cfe-91dc-30b239737f45",
   "metadata": {},
   "outputs": [
    {
     "data": {
      "text/plain": [
       "0.9633911368015414"
      ]
     },
     "execution_count": 176,
     "metadata": {},
     "output_type": "execute_result"
    }
   ],
   "source": [
    "lr = LogisticRegression(solver = 'lbfgs', penalty = 'l2')\n",
    "lr.fit(X_trn_ohe, y_train)\n",
    "y_pred = lr.predict(X_tst_ohe)\n",
    "accuracy_score(y_test, y_pred)"
   ]
  },
  {
   "cell_type": "code",
   "execution_count": 178,
   "id": "ce7da7bd-cd68-4c7c-9cb4-ad925344e110",
   "metadata": {},
   "outputs": [
    {
     "data": {
      "text/plain": [
       "0.9653179190751445"
      ]
     },
     "execution_count": 178,
     "metadata": {},
     "output_type": "execute_result"
    }
   ],
   "source": [
    "lr = LogisticRegression(solver = 'lbfgs', penalty = None)\n",
    "lr.fit(X_trn_ohe, y_train)\n",
    "y_pred = lr.predict(X_tst_ohe)\n",
    "accuracy_score(y_test, y_pred)"
   ]
  },
  {
   "cell_type": "code",
   "execution_count": 180,
   "id": "617ab127-afa7-4c9b-8e5b-2609930db03a",
   "metadata": {},
   "outputs": [
    {
     "data": {
      "text/plain": [
       "0.9653179190751445"
      ]
     },
     "execution_count": 180,
     "metadata": {},
     "output_type": "execute_result"
    }
   ],
   "source": [
    "lr = LogisticRegression(solver = 'liblinear', penalty = 'l1')\n",
    "lr.fit(X_trn_ohe, y_train)\n",
    "y_pred = lr.predict(X_tst_ohe)\n",
    "accuracy_score(y_test, y_pred)"
   ]
  },
  {
   "cell_type": "code",
   "execution_count": 182,
   "id": "32569312-7826-4ccd-9ba6-b5109b1870f9",
   "metadata": {},
   "outputs": [
    {
     "data": {
      "text/plain": [
       "0.9595375722543352"
      ]
     },
     "execution_count": 182,
     "metadata": {},
     "output_type": "execute_result"
    }
   ],
   "source": [
    "lr = LogisticRegression(solver = 'liblinear', penalty = 'l2')\n",
    "lr.fit(X_trn_ohe, y_train)\n",
    "y_pred = lr.predict(X_tst_ohe)\n",
    "accuracy_score(y_test, y_pred)"
   ]
  },
  {
   "cell_type": "code",
   "execution_count": 184,
   "id": "c87bf664-1cd7-4f9b-bac4-62e4a71c6df4",
   "metadata": {},
   "outputs": [
    {
     "data": {
      "text/plain": [
       "0.9633911368015414"
      ]
     },
     "execution_count": 184,
     "metadata": {},
     "output_type": "execute_result"
    }
   ],
   "source": [
    "lr = LogisticRegression(solver = 'newton-cg', penalty = 'l2')\n",
    "lr.fit(X_trn_ohe, y_train)\n",
    "y_pred = lr.predict(X_tst_ohe)\n",
    "accuracy_score(y_test, y_pred)"
   ]
  },
  {
   "cell_type": "code",
   "execution_count": 186,
   "id": "4860cf95-329b-4f0f-810b-70ebf46b259b",
   "metadata": {},
   "outputs": [
    {
     "data": {
      "text/plain": [
       "0.9653179190751445"
      ]
     },
     "execution_count": 186,
     "metadata": {},
     "output_type": "execute_result"
    }
   ],
   "source": [
    "lr = LogisticRegression(solver = 'newton-cg', penalty = None)\n",
    "lr.fit(X_trn_ohe, y_train)\n",
    "y_pred = lr.predict(X_tst_ohe)\n",
    "accuracy_score(y_test, y_pred)"
   ]
  },
  {
   "cell_type": "code",
   "execution_count": 188,
   "id": "21cb3deb-7920-41b8-983d-d988651658c1",
   "metadata": {},
   "outputs": [
    {
     "data": {
      "text/plain": [
       "0.9633911368015414"
      ]
     },
     "execution_count": 188,
     "metadata": {},
     "output_type": "execute_result"
    }
   ],
   "source": [
    "lr = LogisticRegression(solver = 'newton-cholesky', penalty = 'l2')\n",
    "lr.fit(X_trn_ohe, y_train)\n",
    "y_pred = lr.predict(X_tst_ohe)\n",
    "accuracy_score(y_test, y_pred)"
   ]
  },
  {
   "cell_type": "code",
   "execution_count": 190,
   "id": "aecd4ca2-2215-493d-add9-c172fad9eaba",
   "metadata": {},
   "outputs": [
    {
     "data": {
      "text/plain": [
       "0.9653179190751445"
      ]
     },
     "execution_count": 190,
     "metadata": {},
     "output_type": "execute_result"
    }
   ],
   "source": [
    "lr = LogisticRegression(solver = 'newton-cholesky', penalty = None)\n",
    "lr.fit(X_trn_ohe, y_train)\n",
    "y_pred = lr.predict(X_tst_ohe)\n",
    "accuracy_score(y_test, y_pred)"
   ]
  },
  {
   "cell_type": "code",
   "execution_count": 192,
   "id": "dad930d5-cd66-4844-a3ad-780105e67557",
   "metadata": {},
   "outputs": [
    {
     "data": {
      "text/plain": [
       "0.9633911368015414"
      ]
     },
     "execution_count": 192,
     "metadata": {},
     "output_type": "execute_result"
    }
   ],
   "source": [
    "lr = LogisticRegression(solver = 'sag', penalty = 'l2')\n",
    "lr.fit(X_trn_ohe, y_train)\n",
    "y_pred = lr.predict(X_tst_ohe)\n",
    "accuracy_score(y_test, y_pred)"
   ]
  },
  {
   "cell_type": "code",
   "execution_count": 194,
   "id": "d45813f0-4803-49b2-82a9-a241bd3a6b19",
   "metadata": {},
   "outputs": [
    {
     "data": {
      "text/plain": [
       "0.9653179190751445"
      ]
     },
     "execution_count": 194,
     "metadata": {},
     "output_type": "execute_result"
    }
   ],
   "source": [
    "lr = LogisticRegression(solver = 'sag', penalty = None)\n",
    "lr.fit(X_trn_ohe, y_train)\n",
    "y_pred = lr.predict(X_tst_ohe)\n",
    "accuracy_score(y_test, y_pred)"
   ]
  },
  {
   "cell_type": "code",
   "execution_count": 196,
   "id": "0631764d-565b-4be2-847d-bf5a490dab89",
   "metadata": {},
   "outputs": [
    {
     "data": {
      "text/plain": [
       "0.9653179190751445"
      ]
     },
     "execution_count": 196,
     "metadata": {},
     "output_type": "execute_result"
    }
   ],
   "source": [
    "lr = LogisticRegression(solver = 'saga', penalty = None)\n",
    "lr.fit(X_trn_ohe, y_train)\n",
    "y_pred = lr.predict(X_tst_ohe)\n",
    "accuracy_score(y_test, y_pred)"
   ]
  },
  {
   "cell_type": "code",
   "execution_count": 198,
   "id": "47cb6805-4d8e-471e-863e-99c88725b341",
   "metadata": {},
   "outputs": [
    {
     "data": {
      "text/plain": [
       "0.9633911368015414"
      ]
     },
     "execution_count": 198,
     "metadata": {},
     "output_type": "execute_result"
    }
   ],
   "source": [
    "lr = LogisticRegression(solver = 'saga', penalty = 'l2')\n",
    "lr.fit(X_trn_ohe, y_train)\n",
    "y_pred = lr.predict(X_tst_ohe)\n",
    "accuracy_score(y_test, y_pred)"
   ]
  },
  {
   "cell_type": "code",
   "execution_count": 200,
   "id": "36f731ed-87bf-4d94-9c62-856992c93773",
   "metadata": {},
   "outputs": [
    {
     "data": {
      "text/plain": [
       "0.9672447013487476"
      ]
     },
     "execution_count": 200,
     "metadata": {},
     "output_type": "execute_result"
    }
   ],
   "source": [
    "lr = LogisticRegression(solver = 'saga', penalty = 'l1')\n",
    "lr.fit(X_trn_ohe, y_train)\n",
    "y_pred = lr.predict(X_tst_ohe)\n",
    "accuracy_score(y_test, y_pred)"
   ]
  },
  {
   "cell_type": "code",
   "execution_count": 202,
   "id": "7892c317-5946-4fed-b287-601ed3b58009",
   "metadata": {},
   "outputs": [
    {
     "data": {
      "text/plain": [
       "0.9672447013487476"
      ]
     },
     "execution_count": 202,
     "metadata": {},
     "output_type": "execute_result"
    }
   ],
   "source": [
    "sagalr = LogisticRegression(solver = 'saga', penalty = \"elasticnet\")\n",
    "lr.fit(X_trn_ohe, y_train)\n",
    "y_pred = lr.predict(X_tst_ohe)\n",
    "accuracy_score(y_test, y_pred)"
   ]
  },
  {
   "cell_type": "code",
   "execution_count": null,
   "id": "79d46b37-5ef6-4496-b81e-d243d5710a37",
   "metadata": {},
   "outputs": [],
   "source": []
  },
  {
   "cell_type": "code",
   "execution_count": 231,
   "id": "5b2162e1-fccb-4f50-bcc2-56186defab4a",
   "metadata": {},
   "outputs": [
    {
     "name": "stdout",
     "output_type": "stream",
     "text": [
      "{'LR__solver': 'newton-cg'}\n",
      "0.829761246544358\n"
     ]
    }
   ],
   "source": [
    "ohe = OneHotEncoder( drop = 'first',\n",
    "                   handle_unknown = 'ignore',\n",
    "                   sparse_output = False)\n",
    "\n",
    "lr = LogisticRegression()\n",
    "pipe = Pipeline([(\"OHE\", ohe), (\"LR\", lr)])\n",
    "params = {\"LR__solver\" : [\"liblinear\", \"lbfgs\", \"newton-cg\", \"newton-cholesky\", \"sag\", \"saga\"]}\n",
    "gcv = GridSearchCV(pipe, param_grid = params)\n",
    "gcv.fit(X, y)\n",
    "print(gcv.best_params_)\n",
    "print(gcv.best_score_)\n",
    "\n"
   ]
  },
  {
   "cell_type": "code",
   "execution_count": null,
   "id": "00fcfe2a-2c09-404f-bd9a-121c0adf3f0a",
   "metadata": {},
   "outputs": [],
   "source": []
  },
  {
   "cell_type": "code",
   "execution_count": null,
   "id": "7d7c425f-0ed8-47ad-85c1-938c7fc92a68",
   "metadata": {},
   "outputs": [],
   "source": []
  }
 ],
 "metadata": {
  "kernelspec": {
   "display_name": "Python 3 (ipykernel)",
   "language": "python",
   "name": "python3"
  },
  "language_info": {
   "codemirror_mode": {
    "name": "ipython",
    "version": 3
   },
   "file_extension": ".py",
   "mimetype": "text/x-python",
   "name": "python",
   "nbconvert_exporter": "python",
   "pygments_lexer": "ipython3",
   "version": "3.12.4"
  }
 },
 "nbformat": 4,
 "nbformat_minor": 5
}
