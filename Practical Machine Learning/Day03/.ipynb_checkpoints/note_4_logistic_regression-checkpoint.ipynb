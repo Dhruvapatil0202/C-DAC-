{
 "cells": [
  {
   "cell_type": "markdown",
   "id": "267f8968-30e9-48ec-a2e6-05d90e79dc24",
   "metadata": {},
   "source": [
    "Binary and Multinominal logistic regression will be used.\n",
    "\n",
    "In logistic regression, the method of maximum liklihood is used for performance evaluation of model."
   ]
  },
  {
   "cell_type": "code",
   "execution_count": 47,
   "id": "116ca4f4-97a8-4484-a14f-9389f7e4016f",
   "metadata": {},
   "outputs": [],
   "source": [
    "from ucimlrepo import fetch_ucirepo \n",
    "\n",
    "breast_cancer_wisconsin_original = fetch_ucirepo(id=15)\n",
    "\n",
    "X = breast_cancer_wisconsin_original.data.features \n",
    "y = breast_cancer_wisconsin_original.data.targets \n"
   ]
  },
  {
   "cell_type": "code",
   "execution_count": 31,
   "id": "f9d1d6a3-6bb5-4fa2-8903-4f82d11f005b",
   "metadata": {},
   "outputs": [
    {
     "name": "stderr",
     "output_type": "stream",
     "text": [
      "C:\\Users\\DAI.STUDENTSDC\\AppData\\Local\\Temp\\ipykernel_20908\\4173501488.py:1: SettingWithCopyWarning: \n",
      "A value is trying to be set on a copy of a slice from a DataFrame\n",
      "\n",
      "See the caveats in the documentation: https://pandas.pydata.org/pandas-docs/stable/user_guide/indexing.html#returning-a-view-versus-a-copy\n",
      "  X.drop('Bare_nuclei', inplace = True, axis = 'columns')\n"
     ]
    }
   ],
   "source": [
    "X.drop('Bare_nuclei', inplace = True, axis = 'columns')"
   ]
  },
  {
   "cell_type": "code",
   "execution_count": 59,
   "id": "150e33d3-99ec-4965-909e-cf7fc111a35a",
   "metadata": {},
   "outputs": [
    {
     "data": {
      "text/plain": [
       "Class\n",
       "0        458\n",
       "1        241\n",
       "Name: count, dtype: int64"
      ]
     },
     "execution_count": 59,
     "metadata": {},
     "output_type": "execute_result"
    }
   ],
   "source": [
    "y.value_counts()"
   ]
  },
  {
   "cell_type": "code",
   "execution_count": 57,
   "id": "719e72f0-997e-494d-998b-913cc8c540eb",
   "metadata": {},
   "outputs": [
    {
     "name": "stderr",
     "output_type": "stream",
     "text": [
      "C:\\Users\\DAI.STUDENTSDC\\AppData\\Local\\Temp\\ipykernel_20908\\4049804629.py:1: SettingWithCopyWarning: \n",
      "A value is trying to be set on a copy of a slice from a DataFrame.\n",
      "Try using .loc[row_indexer,col_indexer] = value instead\n",
      "\n",
      "See the caveats in the documentation: https://pandas.pydata.org/pandas-docs/stable/user_guide/indexing.html#returning-a-view-versus-a-copy\n",
      "  y['Class'] = y['Class'].apply(lambda x : 0 if x == 2 else 1)\n"
     ]
    },
    {
     "data": {
      "text/plain": [
       "0      0\n",
       "1      0\n",
       "2      0\n",
       "3      0\n",
       "4      0\n",
       "      ..\n",
       "694    0\n",
       "695    0\n",
       "696    1\n",
       "697    1\n",
       "698    1\n",
       "Name: Class, Length: 699, dtype: int64"
      ]
     },
     "execution_count": 57,
     "metadata": {},
     "output_type": "execute_result"
    }
   ],
   "source": [
    "y['Class'] = y['Class'].apply(lambda x : 0 if x == 2 else 1)\n",
    "y['Class']"
   ]
  },
  {
   "cell_type": "code",
   "execution_count": 33,
   "id": "58514d9a-9a53-4c80-a728-0cfd8bf9ebb3",
   "metadata": {},
   "outputs": [
    {
     "data": {
      "text/plain": [
       "Clump_thickness                0\n",
       "Uniformity_of_cell_size        0\n",
       "Uniformity_of_cell_shape       0\n",
       "Marginal_adhesion              0\n",
       "Single_epithelial_cell_size    0\n",
       "Bland_chromatin                0\n",
       "Normal_nucleoli                0\n",
       "Mitoses                        0\n",
       "dtype: int64"
      ]
     },
     "execution_count": 33,
     "metadata": {},
     "output_type": "execute_result"
    }
   ],
   "source": [
    "X.isna().sum()"
   ]
  },
  {
   "cell_type": "code",
   "execution_count": 29,
   "id": "01d8b30f-84f7-40da-aa02-a038d2ac8238",
   "metadata": {},
   "outputs": [
    {
     "data": {
      "text/plain": [
       "Index(['Clump_thickness', 'Uniformity_of_cell_size',\n",
       "       'Uniformity_of_cell_shape', 'Marginal_adhesion',\n",
       "       'Single_epithelial_cell_size', 'Bare_nuclei', 'Bland_chromatin',\n",
       "       'Normal_nucleoli', 'Mitoses'],\n",
       "      dtype='object')"
      ]
     },
     "execution_count": 29,
     "metadata": {},
     "output_type": "execute_result"
    }
   ],
   "source": [
    "X.columns"
   ]
  },
  {
   "cell_type": "code",
   "execution_count": null,
   "id": "15d69374-bf66-4e50-85ab-473e640b9277",
   "metadata": {},
   "outputs": [],
   "source": []
  },
  {
   "cell_type": "code",
   "execution_count": null,
   "id": "eff05c0c-e64b-4d7b-af31-de71c1a768eb",
   "metadata": {},
   "outputs": [],
   "source": []
  },
  {
   "cell_type": "code",
   "execution_count": null,
   "id": "2bf5c2ef-7f11-4bf4-ab36-6ec04efa68a8",
   "metadata": {},
   "outputs": [],
   "source": []
  },
  {
   "cell_type": "code",
   "execution_count": null,
   "id": "43c9520f-8218-4c06-97ac-7352971ea753",
   "metadata": {},
   "outputs": [],
   "source": []
  }
 ],
 "metadata": {
  "kernelspec": {
   "display_name": "Python 3 (ipykernel)",
   "language": "python",
   "name": "python3"
  },
  "language_info": {
   "codemirror_mode": {
    "name": "ipython",
    "version": 3
   },
   "file_extension": ".py",
   "mimetype": "text/x-python",
   "name": "python",
   "nbconvert_exporter": "python",
   "pygments_lexer": "ipython3",
   "version": "3.12.4"
  }
 },
 "nbformat": 4,
 "nbformat_minor": 5
}
