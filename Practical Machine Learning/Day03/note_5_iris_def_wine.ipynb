{
 "cells": [
  {
   "cell_type": "markdown",
   "id": "70ee1fa7-34a2-484d-a319-8bdfe62e9f00",
   "metadata": {},
   "source": [
    "In a classification problem\n",
    "\n",
    "if category_A is 50% and category_B is 50%, it is balanced classification problem (in case of multiple classes, it is equally destributed across all the categories)\n",
    "\n",
    "else the problem is imbalanced classification problem"
   ]
  },
  {
   "cell_type": "code",
   "execution_count": null,
   "id": "53cbab86-f44c-4d69-9d63-036bbe8d7343",
   "metadata": {},
   "outputs": [],
   "source": []
  },
  {
   "cell_type": "markdown",
   "id": "b7cbd8ce-229e-4242-aa85-348482e60530",
   "metadata": {},
   "source": [
    "##### Iris dataset"
   ]
  },
  {
   "cell_type": "code",
   "execution_count": null,
   "id": "90c8c1c1-39eb-472a-937a-a1fb048880a9",
   "metadata": {},
   "outputs": [],
   "source": []
  },
  {
   "cell_type": "code",
   "execution_count": 3,
   "id": "7872d661-38e2-472b-b1cc-b86355947037",
   "metadata": {},
   "outputs": [],
   "source": [
    "import pandas as pd\n",
    "import numpy as np\n",
    "from sklearn.linear_model import LogisticRegression\n",
    "from sklearn.metrics import confusion_matrix, accuracy_score\n",
    "from sklearn.model_selection import train_test_split, cross_val_score\n",
    "from sklearn.compose import make_column_transformer\n",
    "from sklearn.compose import make_column_selector\n",
    "from sklearn.preprocessing import OneHotEncoder, LabelEncoder\n"
   ]
  },
  {
   "cell_type": "code",
   "execution_count": 8,
   "id": "75b203cc-3620-4f72-9fac-835468997de7",
   "metadata": {},
   "outputs": [],
   "source": [
    "iris = pd.read_csv(\"iris.csv\")\n",
    "X = iris.drop(\"Species\", axis = 'columns')\n",
    "y = iris['Species']"
   ]
  },
  {
   "cell_type": "code",
   "execution_count": null,
   "id": "267406dd-02b3-4092-ae4e-6c3666e85900",
   "metadata": {},
   "outputs": [],
   "source": [
    "ohe = OneHotEncoder()\n"
   ]
  },
  {
   "cell_type": "code",
   "execution_count": 34,
   "id": "07c6de7b-e3b2-4b42-9ac5-61241de6e94b",
   "metadata": {},
   "outputs": [],
   "source": [
    "lbl = LabelEncoder()\n",
    "y = lbl.fit_transform(y)"
   ]
  },
  {
   "cell_type": "code",
   "execution_count": 52,
   "id": "7386cda1-857e-4ce6-ac27-859cde5f521b",
   "metadata": {},
   "outputs": [],
   "source": [
    "X_train, X_test, y_train, y_test = train_test_split(X, y, random_state = 24, test_size = 0.3)"
   ]
  },
  {
   "cell_type": "code",
   "execution_count": null,
   "id": "bb7dbdf4-9279-4999-b4bd-409b51d24546",
   "metadata": {},
   "outputs": [],
   "source": []
  },
  {
   "cell_type": "code",
   "execution_count": 55,
   "id": "4a1db8f4-136c-4931-88d1-32ca03e6d6b3",
   "metadata": {},
   "outputs": [],
   "source": [
    "lr = LogisticRegression()\n",
    "lr.fit(X_train, y_train)\n",
    "y_pred = lr.predict(X_test)\n"
   ]
  },
  {
   "cell_type": "code",
   "execution_count": 57,
   "id": "0b5c8236-2644-49c7-b38a-cd0fc8c9a3df",
   "metadata": {},
   "outputs": [
    {
     "data": {
      "text/plain": [
       "array([[15,  0,  0],\n",
       "       [ 0, 11,  1],\n",
       "       [ 0,  0, 18]], dtype=int64)"
      ]
     },
     "execution_count": 57,
     "metadata": {},
     "output_type": "execute_result"
    }
   ],
   "source": [
    "confusion_matrix(y_test, y_pred)"
   ]
  },
  {
   "cell_type": "code",
   "execution_count": 59,
   "id": "37d2489c-fd63-4eb4-ba75-bb0901600ce2",
   "metadata": {},
   "outputs": [
    {
     "data": {
      "text/plain": [
       "0.9777777777777777"
      ]
     },
     "execution_count": 59,
     "metadata": {},
     "output_type": "execute_result"
    }
   ],
   "source": [
    "accuracy_score(y_test, y_pred)"
   ]
  },
  {
   "cell_type": "code",
   "execution_count": null,
   "id": "9506e0ff-5dc9-4135-a2df-da6af5bc1a77",
   "metadata": {},
   "outputs": [],
   "source": []
  },
  {
   "cell_type": "markdown",
   "id": "f43eacc4-9f3f-49dd-8af1-0f413a040cb5",
   "metadata": {},
   "source": [
    "##### Default dataset"
   ]
  },
  {
   "cell_type": "code",
   "execution_count": 158,
   "id": "2f834226-9e64-4c62-a12f-5410a00e0d83",
   "metadata": {},
   "outputs": [
    {
     "name": "stdout",
     "output_type": "stream",
     "text": [
      "<class 'pandas.core.frame.DataFrame'>\n",
      "RangeIndex: 10000 entries, 0 to 9999\n",
      "Data columns (total 4 columns):\n",
      " #   Column   Non-Null Count  Dtype  \n",
      "---  ------   --------------  -----  \n",
      " 0   default  10000 non-null  object \n",
      " 1   student  10000 non-null  object \n",
      " 2   balance  10000 non-null  float64\n",
      " 3   income   10000 non-null  float64\n",
      "dtypes: float64(2), object(2)\n",
      "memory usage: 312.6+ KB\n"
     ]
    }
   ],
   "source": [
    "\n",
    "default = pd.read_csv(\"Default.csv\")\n",
    "default.info()"
   ]
  },
  {
   "cell_type": "code",
   "execution_count": 166,
   "id": "6d5b7d7b-e617-4c8b-9281-6997bb8b258f",
   "metadata": {},
   "outputs": [
    {
     "data": {
      "text/plain": [
       "array([0, 1], dtype=int64)"
      ]
     },
     "execution_count": 166,
     "metadata": {},
     "output_type": "execute_result"
    }
   ],
   "source": [
    "default['default'] = LabelEncoder().fit_transform(default['default'])\n",
    "default['default'].unique()"
   ]
  },
  {
   "cell_type": "code",
   "execution_count": 168,
   "id": "727cf9bc-e90c-4583-98d8-179b8cd4d9ba",
   "metadata": {},
   "outputs": [
    {
     "data": {
      "text/plain": [
       "array([0, 1], dtype=int64)"
      ]
     },
     "execution_count": 168,
     "metadata": {},
     "output_type": "execute_result"
    }
   ],
   "source": [
    "default['student'] = LabelEncoder().fit_transform(default['student'])\n",
    "default['student'].unique()"
   ]
  },
  {
   "cell_type": "code",
   "execution_count": 172,
   "id": "e616d72f-0408-48dd-a2e6-0128b022f9d6",
   "metadata": {},
   "outputs": [],
   "source": [
    "mn, mx = default.balance.min(), default.balance.max()\n",
    "default.balance = default.balance.apply(lambda x : (x - mn) / (mx - mn))\n"
   ]
  },
  {
   "cell_type": "code",
   "execution_count": 174,
   "id": "f15e695f-7d12-4221-935e-bfc6d86f70c3",
   "metadata": {},
   "outputs": [],
   "source": [
    "mn, mx = default.income.min(), default.income.max()\n",
    "default.income = default.income.apply(lambda x : (x - mn) / (mx - mn))"
   ]
  },
  {
   "cell_type": "code",
   "execution_count": 176,
   "id": "97e2c626-478b-449c-b47a-3e2ff96d9eac",
   "metadata": {},
   "outputs": [
    {
     "data": {
      "text/html": [
       "<div>\n",
       "<style scoped>\n",
       "    .dataframe tbody tr th:only-of-type {\n",
       "        vertical-align: middle;\n",
       "    }\n",
       "\n",
       "    .dataframe tbody tr th {\n",
       "        vertical-align: top;\n",
       "    }\n",
       "\n",
       "    .dataframe thead th {\n",
       "        text-align: right;\n",
       "    }\n",
       "</style>\n",
       "<table border=\"1\" class=\"dataframe\">\n",
       "  <thead>\n",
       "    <tr style=\"text-align: right;\">\n",
       "      <th></th>\n",
       "      <th>default</th>\n",
       "      <th>student</th>\n",
       "      <th>balance</th>\n",
       "      <th>income</th>\n",
       "    </tr>\n",
       "  </thead>\n",
       "  <tbody>\n",
       "    <tr>\n",
       "      <th>0</th>\n",
       "      <td>0</td>\n",
       "      <td>0</td>\n",
       "      <td>0.274845</td>\n",
       "      <td>0.598905</td>\n",
       "    </tr>\n",
       "    <tr>\n",
       "      <th>1</th>\n",
       "      <td>0</td>\n",
       "      <td>1</td>\n",
       "      <td>0.307868</td>\n",
       "      <td>0.155727</td>\n",
       "    </tr>\n",
       "    <tr>\n",
       "      <th>2</th>\n",
       "      <td>0</td>\n",
       "      <td>0</td>\n",
       "      <td>0.404453</td>\n",
       "      <td>0.425862</td>\n",
       "    </tr>\n",
       "    <tr>\n",
       "      <th>3</th>\n",
       "      <td>0</td>\n",
       "      <td>0</td>\n",
       "      <td>0.199392</td>\n",
       "      <td>0.479959</td>\n",
       "    </tr>\n",
       "    <tr>\n",
       "      <th>4</th>\n",
       "      <td>0</td>\n",
       "      <td>0</td>\n",
       "      <td>0.295991</td>\n",
       "      <td>0.517867</td>\n",
       "    </tr>\n",
       "    <tr>\n",
       "      <th>...</th>\n",
       "      <td>...</td>\n",
       "      <td>...</td>\n",
       "      <td>...</td>\n",
       "      <td>...</td>\n",
       "    </tr>\n",
       "    <tr>\n",
       "      <th>9995</th>\n",
       "      <td>0</td>\n",
       "      <td>0</td>\n",
       "      <td>0.268074</td>\n",
       "      <td>0.717488</td>\n",
       "    </tr>\n",
       "    <tr>\n",
       "      <th>9996</th>\n",
       "      <td>0</td>\n",
       "      <td>0</td>\n",
       "      <td>0.285558</td>\n",
       "      <td>0.259524</td>\n",
       "    </tr>\n",
       "    <tr>\n",
       "      <th>9997</th>\n",
       "      <td>0</td>\n",
       "      <td>0</td>\n",
       "      <td>0.318504</td>\n",
       "      <td>0.795031</td>\n",
       "    </tr>\n",
       "    <tr>\n",
       "      <th>9998</th>\n",
       "      <td>0</td>\n",
       "      <td>0</td>\n",
       "      <td>0.591115</td>\n",
       "      <td>0.493213</td>\n",
       "    </tr>\n",
       "    <tr>\n",
       "      <th>9999</th>\n",
       "      <td>0</td>\n",
       "      <td>1</td>\n",
       "      <td>0.075696</td>\n",
       "      <td>0.221084</td>\n",
       "    </tr>\n",
       "  </tbody>\n",
       "</table>\n",
       "<p>10000 rows × 4 columns</p>\n",
       "</div>"
      ],
      "text/plain": [
       "      default  student   balance    income\n",
       "0           0        0  0.274845  0.598905\n",
       "1           0        1  0.307868  0.155727\n",
       "2           0        0  0.404453  0.425862\n",
       "3           0        0  0.199392  0.479959\n",
       "4           0        0  0.295991  0.517867\n",
       "...       ...      ...       ...       ...\n",
       "9995        0        0  0.268074  0.717488\n",
       "9996        0        0  0.285558  0.259524\n",
       "9997        0        0  0.318504  0.795031\n",
       "9998        0        0  0.591115  0.493213\n",
       "9999        0        1  0.075696  0.221084\n",
       "\n",
       "[10000 rows x 4 columns]"
      ]
     },
     "execution_count": 176,
     "metadata": {},
     "output_type": "execute_result"
    }
   ],
   "source": [
    "default"
   ]
  },
  {
   "cell_type": "code",
   "execution_count": 180,
   "id": "750586e9-04be-4efc-8844-f6d39df879ef",
   "metadata": {},
   "outputs": [],
   "source": [
    "X = default.drop('default', axis = 'columns')\n",
    "y = default['default']"
   ]
  },
  {
   "cell_type": "code",
   "execution_count": 184,
   "id": "2cff81a9-793a-4cc3-b784-fda3df2f493a",
   "metadata": {},
   "outputs": [],
   "source": [
    "x_train, x_test, y_train, y_test = train_test_split(X, y, random_state = 24, test_size = 0.3)"
   ]
  },
  {
   "cell_type": "code",
   "execution_count": 186,
   "id": "1eacd075-e8c7-4775-8c33-c030eb46e2a4",
   "metadata": {},
   "outputs": [],
   "source": [
    "log = LogisticRegression()\n",
    "log.fit(x_train, y_train)\n",
    "y_pred = log.predict(x_test)\n"
   ]
  },
  {
   "cell_type": "code",
   "execution_count": 188,
   "id": "5fdd09c4-f688-431a-8b8e-107247dbaf69",
   "metadata": {},
   "outputs": [
    {
     "data": {
      "text/plain": [
       "0.97"
      ]
     },
     "execution_count": 188,
     "metadata": {},
     "output_type": "execute_result"
    }
   ],
   "source": [
    "accuracy_score(y_test, y_pred)\n"
   ]
  },
  {
   "cell_type": "code",
   "execution_count": 192,
   "id": "543b3366-563d-4549-9e90-41b214761ac1",
   "metadata": {},
   "outputs": [
    {
     "data": {
      "text/plain": [
       "array([[2893,    8],\n",
       "       [  82,   17]], dtype=int64)"
      ]
     },
     "execution_count": 192,
     "metadata": {},
     "output_type": "execute_result"
    }
   ],
   "source": [
    "confusion_matrix(y_test, y_pred)"
   ]
  },
  {
   "cell_type": "code",
   "execution_count": null,
   "id": "49ea3120-931e-4055-b1e6-da2dd30c3330",
   "metadata": {},
   "outputs": [],
   "source": [
    "# Naive model"
   ]
  },
  {
   "cell_type": "code",
   "execution_count": 194,
   "id": "e05f9195-344f-4056-814b-9d34bf6757fb",
   "metadata": {},
   "outputs": [
    {
     "data": {
      "text/plain": [
       "default\n",
       "0    9667\n",
       "1     333\n",
       "Name: count, dtype: int64"
      ]
     },
     "execution_count": 194,
     "metadata": {},
     "output_type": "execute_result"
    }
   ],
   "source": [
    "y.value_counts()"
   ]
  },
  {
   "cell_type": "code",
   "execution_count": 196,
   "id": "e8f50862-e084-4c16-a512-7dcc42e76db4",
   "metadata": {},
   "outputs": [
    {
     "data": {
      "text/plain": [
       "0.9667"
      ]
     },
     "execution_count": 196,
     "metadata": {},
     "output_type": "execute_result"
    }
   ],
   "source": [
    "9667 / (9667 + 333)"
   ]
  },
  {
   "cell_type": "markdown",
   "id": "3bf00893-0be3-4690-a399-e911cdc4492a",
   "metadata": {},
   "source": [
    "##### K-fold cross validation"
   ]
  },
  {
   "cell_type": "code",
   "execution_count": 202,
   "id": "5c4cd2ba-e193-4258-b9c6-8c39dad09560",
   "metadata": {},
   "outputs": [
    {
     "data": {
      "text/plain": [
       "0.9718"
      ]
     },
     "execution_count": 202,
     "metadata": {},
     "output_type": "execute_result"
    }
   ],
   "source": [
    "\n",
    "result = cross_val_score(LogisticRegression(), X, y)\n",
    "result.mean()"
   ]
  },
  {
   "cell_type": "markdown",
   "id": "a910afae-3021-4638-b1c4-3899904183bb",
   "metadata": {},
   "source": [
    "##### Wine dataset"
   ]
  },
  {
   "cell_type": "code",
   "execution_count": 5,
   "id": "f6d734ea-c2f2-45cb-8829-f3c504ffd22a",
   "metadata": {},
   "outputs": [],
   "source": [
    "wine = pd.read_csv(\"wine.csv\")"
   ]
  },
  {
   "cell_type": "code",
   "execution_count": 11,
   "id": "24b4dbf9-bcac-435e-b9e5-69ed9ca551db",
   "metadata": {},
   "outputs": [
    {
     "name": "stdout",
     "output_type": "stream",
     "text": [
      "<class 'pandas.core.frame.DataFrame'>\n",
      "RangeIndex: 178 entries, 0 to 177\n",
      "Data columns (total 14 columns):\n",
      " #   Column           Non-Null Count  Dtype  \n",
      "---  ------           --------------  -----  \n",
      " 0   Class            178 non-null    int64  \n",
      " 1   Alcohol          178 non-null    float64\n",
      " 2   Malic            178 non-null    float64\n",
      " 3   Ash              178 non-null    float64\n",
      " 4   Alcalinity       178 non-null    float64\n",
      " 5   Magnesium        178 non-null    int64  \n",
      " 6   Phenols          178 non-null    float64\n",
      " 7   Flavanoids       178 non-null    float64\n",
      " 8   Nonflavanoid     178 non-null    float64\n",
      " 9   Proanthocyanins  178 non-null    float64\n",
      " 10  Intensity        178 non-null    float64\n",
      " 11  Hue              178 non-null    float64\n",
      " 12  OD280            178 non-null    float64\n",
      " 13  Proline          178 non-null    int64  \n",
      "dtypes: float64(11), int64(3)\n",
      "memory usage: 19.6 KB\n"
     ]
    }
   ],
   "source": [
    "wine.info()"
   ]
  },
  {
   "cell_type": "code",
   "execution_count": 212,
   "id": "8259d1e2-8977-4781-ba8d-faab854b6545",
   "metadata": {},
   "outputs": [],
   "source": [
    "X = wine.drop(\"Class\", axis = 'columns')\n",
    "y = wine.Class"
   ]
  },
  {
   "cell_type": "code",
   "execution_count": 216,
   "id": "7bd1068d-cb43-4c95-a7a9-c21f04a117c3",
   "metadata": {},
   "outputs": [],
   "source": [
    "X_train, X_test, y_train, y_test = train_test_split(X, y, random_state = 24, test_size = 0.3)"
   ]
  },
  {
   "cell_type": "code",
   "execution_count": 218,
   "id": "183f9541-e9a9-4785-b009-184705fa3f2d",
   "metadata": {},
   "outputs": [
    {
     "name": "stderr",
     "output_type": "stream",
     "text": [
      "C:\\Users\\DAI.STUDENTSDC\\AppData\\Local\\anaconda3\\Lib\\site-packages\\sklearn\\linear_model\\_logistic.py:469: ConvergenceWarning: lbfgs failed to converge (status=1):\n",
      "STOP: TOTAL NO. of ITERATIONS REACHED LIMIT.\n",
      "\n",
      "Increase the number of iterations (max_iter) or scale the data as shown in:\n",
      "    https://scikit-learn.org/stable/modules/preprocessing.html\n",
      "Please also refer to the documentation for alternative solver options:\n",
      "    https://scikit-learn.org/stable/modules/linear_model.html#logistic-regression\n",
      "  n_iter_i = _check_optimize_result(\n"
     ]
    }
   ],
   "source": [
    "log = LogisticRegression()\n",
    "log.fit(X_train, y_train)\n",
    "y_pred = log.predict(X_test)\n"
   ]
  },
  {
   "cell_type": "code",
   "execution_count": 220,
   "id": "89f5f0a1-a9cf-4e4d-88a1-8e58edc23aa8",
   "metadata": {},
   "outputs": [
    {
     "data": {
      "text/plain": [
       "0.9074074074074074"
      ]
     },
     "execution_count": 220,
     "metadata": {},
     "output_type": "execute_result"
    }
   ],
   "source": [
    "accuracy_score(y_test, y_pred)"
   ]
  },
  {
   "cell_type": "code",
   "execution_count": null,
   "id": "adb712ac-d963-46a4-943d-ea9738670cec",
   "metadata": {},
   "outputs": [],
   "source": []
  }
 ],
 "metadata": {
  "kernelspec": {
   "display_name": "Python 3 (ipykernel)",
   "language": "python",
   "name": "python3"
  },
  "language_info": {
   "codemirror_mode": {
    "name": "ipython",
    "version": 3
   },
   "file_extension": ".py",
   "mimetype": "text/x-python",
   "name": "python",
   "nbconvert_exporter": "python",
   "pygments_lexer": "ipython3",
   "version": "3.12.4"
  }
 },
 "nbformat": 4,
 "nbformat_minor": 5
}
