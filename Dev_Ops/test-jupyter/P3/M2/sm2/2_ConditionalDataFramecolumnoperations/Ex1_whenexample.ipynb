{
 "cells": [
  {
   "cell_type": "markdown",
   "metadata": {},
   "source": [
    "# when() example\n",
    "\n",
    "- The `when()` clause lets you conditionally modify a Data Frame based on its content. You'll want to modify our `voter_df` DataFrame to add a random number to any voting member that is defined as a `\"Councilmember\"`.\n",
    "\n",
    "- The `voter_df` DataFrame is defined and available to you. The `pyspark.sql.functions` library is available as `F`. You can use `F.rand()` to generate the random value.\n",
    "\n",
    "## Instructions\n",
    "\n",
    "- Add a column to `voter_df` named `random_val` with the results of the `F.rand()` method for any voter with the title `Councilmember`.\n",
    "- Show some of the DataFrame rows, noting whether the `.when()` clause worked."
   ]
  },
  {
   "cell_type": "code",
   "execution_count": 1,
   "metadata": {},
   "outputs": [],
   "source": [
    "# Intialization\n",
    "import os\n",
    "import sys\n",
    "\n",
    "os.environ[\"SPARK_HOME\"] = \"/home/talentum/spark\"\n",
    "os.environ[\"PYLIB\"] = os.environ[\"SPARK_HOME\"] + \"/python/lib\"\n",
    "# In below two lines, use /usr/bin/python2.7 if you want to use Python 2\n",
    "os.environ[\"PYSPARK_PYTHON\"] = \"/usr/bin/python3.6\" \n",
    "os.environ[\"PYSPARK_DRIVER_PYTHON\"] = \"/usr/bin/python3\"\n",
    "sys.path.insert(0, os.environ[\"PYLIB\"] +\"/py4j-0.10.7-src.zip\")\n",
    "sys.path.insert(0, os.environ[\"PYLIB\"] +\"/pyspark.zip\")\n",
    "\n",
    "# NOTE: Whichever package you want mention here.\n",
    "# os.environ['PYSPARK_SUBMIT_ARGS'] = '--packages com.databricks:spark-xml_2.11:0.6.0 pyspark-shell' \n",
    "# os.environ['PYSPARK_SUBMIT_ARGS'] = '--packages org.apache.spark:spark-avro_2.11:2.4.0 pyspark-shell'\n",
    "os.environ['PYSPARK_SUBMIT_ARGS'] = '--packages com.databricks:spark-xml_2.11:0.6.0,org.apache.spark:spark-avro_2.11:2.4.3 pyspark-shell'\n",
    "# os.environ['PYSPARK_SUBMIT_ARGS'] = '--packages com.databricks:spark-xml_2.11:0.6.0,org.apache.spark:spark-avro_2.11:2.4.0 pyspark-shell'"
   ]
  },
  {
   "cell_type": "code",
   "execution_count": 2,
   "metadata": {},
   "outputs": [],
   "source": [
    "#Entrypoint 2.x\n",
    "from pyspark.sql import SparkSession\n",
    "spark = SparkSession.builder.appName(\"Spark SQL basic example\").enableHiveSupport().getOrCreate()\n",
    "\n",
    "# On yarn:\n",
    "# spark = SparkSession.builder.appName(\"Spark SQL basic example\").enableHiveSupport().master(\"yarn\").getOrCreate()\n",
    "# specify .master(\"yarn\")\n",
    "\n",
    "sc = spark.sparkContext"
   ]
  },
  {
   "cell_type": "code",
   "execution_count": 5,
   "metadata": {},
   "outputs": [
    {
     "name": "stdout",
     "output_type": "stream",
     "text": [
      "root\n",
      " |-- DATE: string (nullable = true)\n",
      " |-- TITLE: string (nullable = true)\n",
      " |-- VOTER_NAME: string (nullable = true)\n",
      "\n",
      "None\n",
      "+----------+-------------+-------------------+-------------------+\n",
      "|      DATE|        TITLE|         VOTER_NAME|         random_val|\n",
      "+----------+-------------+-------------------+-------------------+\n",
      "|02/08/2017|Councilmember|  Jennifer S. Gates| 0.6070645070880518|\n",
      "|02/08/2017|Councilmember| Philip T. Kingston| 0.8884028153454652|\n",
      "|02/08/2017|        Mayor|Michael S. Rawlings|               null|\n",
      "|02/08/2017|Councilmember|       Adam Medrano| 0.4948274576791183|\n",
      "|02/08/2017|Councilmember|       Casey Thomas| 0.1736714404291938|\n",
      "|02/08/2017|Councilmember|Carolyn King Arnold|  0.636957357539489|\n",
      "|02/08/2017|Councilmember|       Scott Griggs| 0.5424620310937894|\n",
      "|02/08/2017|Councilmember|   B. Adam  McGough|0.39948499070448895|\n",
      "|02/08/2017|Councilmember|       Lee Kleinman|0.09049447798091215|\n",
      "|02/08/2017|Councilmember|      Sandy Greyson|0.33236458809841996|\n",
      "|02/08/2017|Councilmember|  Jennifer S. Gates|0.11038733305742754|\n",
      "|02/08/2017|Councilmember| Philip T. Kingston|0.08381494206394191|\n",
      "|02/08/2017|        Mayor|Michael S. Rawlings|               null|\n",
      "|02/08/2017|Councilmember|       Adam Medrano|0.29901116953023676|\n",
      "|02/08/2017|Councilmember|       Casey Thomas| 0.6131433741581045|\n",
      "|02/08/2017|Councilmember|Carolyn King Arnold|0.05465533210490192|\n",
      "|02/08/2017|Councilmember| Rickey D. Callahan| 0.5611521859741734|\n",
      "|01/11/2017|Councilmember|  Jennifer S. Gates|0.33319879582600853|\n",
      "|04/25/2018|Councilmember|     Sandy  Greyson|0.09771233784389854|\n",
      "|04/25/2018|Councilmember| Jennifer S.  Gates|  0.959324159828399|\n",
      "+----------+-------------+-------------------+-------------------+\n",
      "only showing top 20 rows\n",
      "\n"
     ]
    }
   ],
   "source": [
    "import pyspark.sql.functions as F\n",
    "\n",
    "# Load the CSV file\n",
    "voter_df = spark.read.format('csv').options(Header=True).load('file:///home/talentum/test-jupyter/P3/M2/sm2/2_ConditionalDataFramecolumnoperations/Dataset/DallasCouncilVoters.csv.gz')\n",
    "print(voter_df.printSchema())\n",
    "# Add a column to voter_df for any voter with the title **Councilmember**\n",
    "voter_df = voter_df.withColumn('random_val',\n",
    "                               F.when(F.col(\"TITLE\") == \"Councilmember\", F.rand()))\n",
    "\n",
    "# Show some of the DataFrame rows, noting whether the when clause worked\n",
    "voter_df.show()"
   ]
  },
  {
   "cell_type": "code",
   "execution_count": null,
   "metadata": {},
   "outputs": [],
   "source": []
  }
 ],
 "metadata": {
  "kernelspec": {
   "display_name": "Python 3",
   "language": "python",
   "name": "python3"
  },
  "language_info": {
   "codemirror_mode": {
    "name": "ipython",
    "version": 3
   },
   "file_extension": ".py",
   "mimetype": "text/x-python",
   "name": "python",
   "nbconvert_exporter": "python",
   "pygments_lexer": "ipython3",
   "version": "3.6.9"
  },
  "toc": {
   "base_numbering": 1,
   "nav_menu": {},
   "number_sections": true,
   "sideBar": true,
   "skip_h1_title": false,
   "title_cell": "Table of Contents",
   "title_sidebar": "Contents",
   "toc_cell": false,
   "toc_position": {},
   "toc_section_display": true,
   "toc_window_display": false
  }
 },
 "nbformat": 4,
 "nbformat_minor": 2
}
