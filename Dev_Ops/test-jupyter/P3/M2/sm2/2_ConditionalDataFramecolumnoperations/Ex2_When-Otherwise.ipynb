{
 "cells": [
  {
   "cell_type": "markdown",
   "metadata": {},
   "source": [
    "# When / Otherwise\n",
    "\n",
    "- This requirement is similar to the last, but now you want to add multiple values based on the voter's position. Modify your `voter_df` DataFrame to add a random number to any voting member that is defined as a `Councilmember`. Use `2` for the `Mayor` and `0` for anything other position.\n",
    "\n",
    "- The `voter_df` Data Frame is defined and available to you. The `pyspark.sql.functions` library is available as `F`. You can use `F.rand()` to generate the random value.\n",
    "\n",
    "## Instructions\n",
    "\n",
    "- Add a column to `voter_df` named `random_val` with the results of the `F.rand()` method for any voter with the title `Councilmember`. Set `random_val` to `2` for the `Mayor`. Set any other title to the value `0`.\n",
    "- Show some of the Data Frame rows, noting whether the clauses worked.\n",
    "- Use the `.filter` clause to find 0 in `random_val`."
   ]
  },
  {
   "cell_type": "code",
   "execution_count": 1,
   "metadata": {},
   "outputs": [],
   "source": [
    "# Intialization\n",
    "import os\n",
    "import sys\n",
    "\n",
    "os.environ[\"SPARK_HOME\"] = \"/home/talentum/spark\"\n",
    "os.environ[\"PYLIB\"] = os.environ[\"SPARK_HOME\"] + \"/python/lib\"\n",
    "# In below two lines, use /usr/bin/python2.7 if you want to use Python 2\n",
    "os.environ[\"PYSPARK_PYTHON\"] = \"/usr/bin/python3.6\" \n",
    "os.environ[\"PYSPARK_DRIVER_PYTHON\"] = \"/usr/bin/python3\"\n",
    "sys.path.insert(0, os.environ[\"PYLIB\"] +\"/py4j-0.10.7-src.zip\")\n",
    "sys.path.insert(0, os.environ[\"PYLIB\"] +\"/pyspark.zip\")\n",
    "\n",
    "# NOTE: Whichever package you want mention here.\n",
    "# os.environ['PYSPARK_SUBMIT_ARGS'] = '--packages com.databricks:spark-xml_2.11:0.6.0 pyspark-shell' \n",
    "# os.environ['PYSPARK_SUBMIT_ARGS'] = '--packages org.apache.spark:spark-avro_2.11:2.4.0 pyspark-shell'\n",
    "os.environ['PYSPARK_SUBMIT_ARGS'] = '--packages com.databricks:spark-xml_2.11:0.6.0,org.apache.spark:spark-avro_2.11:2.4.3 pyspark-shell'\n",
    "# os.environ['PYSPARK_SUBMIT_ARGS'] = '--packages com.databricks:spark-xml_2.11:0.6.0,org.apache.spark:spark-avro_2.11:2.4.0 pyspark-shell'"
   ]
  },
  {
   "cell_type": "code",
   "execution_count": 2,
   "metadata": {},
   "outputs": [],
   "source": [
    "#Entrypoint 2.x\n",
    "from pyspark.sql import SparkSession\n",
    "spark = SparkSession.builder.appName(\"Spark SQL basic example\").enableHiveSupport().getOrCreate()\n",
    "\n",
    "# On yarn:\n",
    "# spark = SparkSession.builder.appName(\"Spark SQL basic example\").enableHiveSupport().master(\"yarn\").getOrCreate()\n",
    "# specify .master(\"yarn\")\n",
    "\n",
    "sc = spark.sparkContext"
   ]
  },
  {
   "cell_type": "code",
   "execution_count": 12,
   "metadata": {},
   "outputs": [
    {
     "name": "stdout",
     "output_type": "stream",
     "text": [
      "+----------+-------------+-------------------+-------------------+\n",
      "|      DATE|        TITLE|         VOTER_NAME|         random_val|\n",
      "+----------+-------------+-------------------+-------------------+\n",
      "|02/08/2017|Councilmember|  Jennifer S. Gates|0.30943210473009797|\n",
      "|02/08/2017|Councilmember| Philip T. Kingston|  0.735652539390081|\n",
      "|02/08/2017|        Mayor|Michael S. Rawlings|                2.0|\n",
      "|02/08/2017|Councilmember|       Adam Medrano| 0.3614572652191782|\n",
      "|02/08/2017|Councilmember|       Casey Thomas| 0.3338515314630973|\n",
      "|02/08/2017|Councilmember|Carolyn King Arnold|0.17454049941795313|\n",
      "|02/08/2017|Councilmember|       Scott Griggs| 0.5741810991441022|\n",
      "|02/08/2017|Councilmember|   B. Adam  McGough| 0.3347505375283435|\n",
      "|02/08/2017|Councilmember|       Lee Kleinman|0.13879795762224334|\n",
      "|02/08/2017|Councilmember|      Sandy Greyson| 0.2785701794702966|\n",
      "|02/08/2017|Councilmember|  Jennifer S. Gates|0.03404049874415371|\n",
      "|02/08/2017|Councilmember| Philip T. Kingston| 0.3682592350509494|\n",
      "|02/08/2017|        Mayor|Michael S. Rawlings|                2.0|\n",
      "|02/08/2017|Councilmember|       Adam Medrano| 0.3021272410090755|\n",
      "|02/08/2017|Councilmember|       Casey Thomas| 0.0847811280315951|\n",
      "|02/08/2017|Councilmember|Carolyn King Arnold| 0.6001375664598805|\n",
      "|02/08/2017|Councilmember| Rickey D. Callahan| 0.8649839784988841|\n",
      "|01/11/2017|Councilmember|  Jennifer S. Gates|0.25023651693407667|\n",
      "|04/25/2018|Councilmember|     Sandy  Greyson| 0.7352956235881649|\n",
      "|04/25/2018|Councilmember| Jennifer S.  Gates|0.31484429210088216|\n",
      "+----------+-------------+-------------------+-------------------+\n",
      "only showing top 20 rows\n",
      "\n",
      "+----------+--------------------+-----------------+----------+\n",
      "|      DATE|               TITLE|       VOTER_NAME|random_val|\n",
      "+----------+--------------------+-----------------+----------+\n",
      "|04/25/2018|Deputy Mayor Pro Tem|     Adam Medrano|       0.0|\n",
      "|04/25/2018|       Mayor Pro Tem|Dwaine R. Caraway|       0.0|\n",
      "|06/20/2018|Deputy Mayor Pro Tem|     Adam Medrano|       0.0|\n",
      "|06/20/2018|       Mayor Pro Tem|Dwaine R. Caraway|       0.0|\n",
      "|06/20/2018|Deputy Mayor Pro Tem|     Adam Medrano|       0.0|\n",
      "|06/20/2018|       Mayor Pro Tem|Dwaine R. Caraway|       0.0|\n",
      "|08/15/2018|Deputy Mayor Pro Tem|     Adam Medrano|       0.0|\n",
      "|08/15/2018|              Vacant|             null|       0.0|\n",
      "|08/15/2018|Deputy Mayor Pro Tem|     Adam Medrano|       0.0|\n",
      "|08/15/2018|              Vacant|             null|       0.0|\n",
      "|09/18/2018|Deputy Mayor Pro Tem|     Adam Medrano|       0.0|\n",
      "|09/18/2018|       Mayor Pro Tem|    Casey  Thomas|       0.0|\n",
      "|09/18/2018|              Vacant|             null|       0.0|\n",
      "|04/25/2018|Deputy Mayor Pro Tem|     Adam Medrano|       0.0|\n",
      "|04/25/2018|       Mayor Pro Tem|Dwaine R. Caraway|       0.0|\n",
      "|04/11/2018|       Mayor Pro Tem|Dwaine R. Caraway|       0.0|\n",
      "|04/11/2018|Deputy Mayor Pro Tem|     Adam Medrano|       0.0|\n",
      "|04/11/2018|       Mayor Pro Tem|Dwaine R. Caraway|       0.0|\n",
      "|04/11/2018|Deputy Mayor Pro Tem|     Adam Medrano|       0.0|\n",
      "|04/11/2018|       Mayor Pro Tem|Dwaine R. Caraway|       0.0|\n",
      "+----------+--------------------+-----------------+----------+\n",
      "only showing top 20 rows\n",
      "\n"
     ]
    }
   ],
   "source": [
    "import pyspark.sql.functions as F\n",
    "\n",
    "# Load the CSV file\n",
    "voter_df = spark.read.format('csv').options(Header=True).load('file:///home/talentum/test-jupyter/P3/M2/sm2/2_ConditionalDataFramecolumnoperations/Dataset/DallasCouncilVoters.csv.gz')\n",
    "\n",
    "# Add a column to voter_df for a voter based on their position\n",
    "voter_df = voter_df.withColumn('random_val',\n",
    "                               F.when(voter_df.TITLE == 'Councilmember', F.rand()).when(voter_df.TITLE == 'Mayor', 2).otherwise(0))\n",
    "\n",
    "# Show some of the DataFrame rows\n",
    "voter_df.show()\n",
    "\n",
    "# Use the .filter() clause with random_val\n",
    "voter_df.filter('random_val = 0').show()"
   ]
  },
  {
   "cell_type": "code",
   "execution_count": null,
   "metadata": {},
   "outputs": [],
   "source": []
  }
 ],
 "metadata": {
  "kernelspec": {
   "display_name": "Python 3",
   "language": "python",
   "name": "python3"
  },
  "language_info": {
   "codemirror_mode": {
    "name": "ipython",
    "version": 3
   },
   "file_extension": ".py",
   "mimetype": "text/x-python",
   "name": "python",
   "nbconvert_exporter": "python",
   "pygments_lexer": "ipython3",
   "version": "3.6.9"
  },
  "toc": {
   "base_numbering": 1,
   "nav_menu": {},
   "number_sections": true,
   "sideBar": true,
   "skip_h1_title": false,
   "title_cell": "Table of Contents",
   "title_sidebar": "Contents",
   "toc_cell": false,
   "toc_position": {},
   "toc_section_display": true,
   "toc_window_display": false
  }
 },
 "nbformat": 4,
 "nbformat_minor": 2
}
