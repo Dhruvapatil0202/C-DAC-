{
 "cells": [
  {
   "cell_type": "code",
   "execution_count": 4,
   "id": "09e58515",
   "metadata": {},
   "outputs": [],
   "source": [
    "# Intialization\n",
    "import os\n",
    "import sys\n",
    "\n",
    "os.environ[\"SPARK_HOME\"] = \"/home/talentum/spark\"\n",
    "os.environ[\"PYLIB\"] = os.environ[\"SPARK_HOME\"] + \"/python/lib\"\n",
    "# In below two lines, use /usr/bin/python2.7 if you want to use Python 2\n",
    "os.environ[\"PYSPARK_PYTHON\"] = \"/usr/bin/python3.6\" \n",
    "os.environ[\"PYSPARK_DRIVER_PYTHON\"] = \"/usr/bin/python3\"\n",
    "sys.path.insert(0, os.environ[\"PYLIB\"] +\"/py4j-0.10.7-src.zip\")\n",
    "sys.path.insert(0, os.environ[\"PYLIB\"] +\"/pyspark.zip\")\n",
    "\n",
    "# NOTE: Whichever package you want mention here.\n",
    "# os.environ['PYSPARK_SUBMIT_ARGS'] = '--packages com.databricks:spark-xml_2.11:0.6.0 pyspark-shell' \n",
    "# os.environ['PYSPARK_SUBMIT_ARGS'] = '--packages org.apache.spark:spark-avro_2.11:2.4.0 pyspark-shell'\n",
    "os.environ['PYSPARK_SUBMIT_ARGS'] = '--packages com.databricks:spark-xml_2.11:0.6.0,org.apache.spark:spark-avro_2.11:2.4.3 pyspark-shell'\n",
    "# os.environ['PYSPARK_SUBMIT_ARGS'] = '--packages com.databricks:spark-xml_2.11:0.6.0,org.apache.spark:spark-avro_2.11:2.4.0 pyspark-shell'"
   ]
  },
  {
   "cell_type": "code",
   "execution_count": 5,
   "id": "3ff6ce10",
   "metadata": {},
   "outputs": [],
   "source": [
    "#Entrypoint 2.x\n",
    "from pyspark.sql import SparkSession\n",
    "spark = SparkSession.builder.appName(\"Spark SQL basic example\").enableHiveSupport().getOrCreate()\n",
    "\n",
    "# On yarn:\n",
    "# spark = SparkSession.builder.appName(\"Spark SQL basic example\").enableHiveSupport().master(\"yarn\").getOrCreate()\n",
    "# specify .master(\"yarn\")\n",
    "\n",
    "sc = spark.sparkContext"
   ]
  },
  {
   "cell_type": "code",
   "execution_count": 56,
   "id": "9a170c4a",
   "metadata": {},
   "outputs": [
    {
     "name": "stdout",
     "output_type": "stream",
     "text": [
      "['EVERY', 'afternoon,', 'as', 'they', 'were']\n"
     ]
    }
   ],
   "source": [
    "splitRdd = sc.textFile(\"file:///home/talentum/test-jupyter/P2/M2/Pair-RDD/selfishgiant.txt\"\n",
    "                      ).flatMap(lambda line: line.split(\" \"))\n",
    "\n",
    "print(splitRdd.take(5))"
   ]
  },
  {
   "cell_type": "code",
   "execution_count": 9,
   "id": "55a7417d",
   "metadata": {},
   "outputs": [
    {
     "name": "stdout",
     "output_type": "stream",
     "text": [
      "[('EVERY', 1), ('afternoon,', 1), ('as', 1), ('they', 1), ('were', 1)]\n"
     ]
    }
   ],
   "source": [
    "mappedRdd = splitRdd.map(lambda word: (word, 1))\n",
    "print(mappedRdd.take(5))"
   ]
  },
  {
   "cell_type": "code",
   "execution_count": 11,
   "id": "f10ea2ce",
   "metadata": {},
   "outputs": [
    {
     "name": "stdout",
     "output_type": "stream",
     "text": [
      "[('Jan', 0), ('Feb', 1), ('Mar', 2), ('Apr', 3), ('May', 4), ('Jun', 5), ('Jul', 6)]\n"
     ]
    }
   ],
   "source": [
    "months = (\"Jan\", \"Feb\", \"Mar\", \"Apr\", \"May\", \"Jun\", \"Jul\")\n",
    "\n",
    "monthsRdd = sc.parallelize(months)\n",
    "\n",
    "monthsIndexed0Rdd = monthsRdd.zipWithIndex()\n",
    "\n",
    "print(monthsIndexed0Rdd.collect())"
   ]
  },
  {
   "cell_type": "code",
   "execution_count": 16,
   "id": "ac95ae4d",
   "metadata": {},
   "outputs": [
    {
     "name": "stdout",
     "output_type": "stream",
     "text": [
      "[('Jan', 1), ('Feb', 2), ('Mar', 3), ('Apr', 4), ('May', 5), ('Jun', 6), ('Jul', 7)]\n"
     ]
    }
   ],
   "source": [
    "monthsIndexed1Rdd = monthsIndexed0Rdd.map(lambda x: (x[0], x[1]+1))\n",
    "print(monthsIndexed1Rdd.collect())"
   ]
  },
  {
   "cell_type": "code",
   "execution_count": 17,
   "id": "c98b6c9e",
   "metadata": {},
   "outputs": [
    {
     "name": "stdout",
     "output_type": "stream",
     "text": [
      "[('Jan', 1), ('Feb', 2), ('Mar', 3), ('Apr', 4), ('May', 5), ('Jun', 6), ('Jul', 7)]\n"
     ]
    }
   ],
   "source": [
    "monthsIndexed2Rdd = monthsIndexed0Rdd.mapValues(lambda y: y+1)\n",
    "print(monthsIndexed2Rdd.collect())"
   ]
  },
  {
   "cell_type": "code",
   "execution_count": 19,
   "id": "290e2c1d",
   "metadata": {},
   "outputs": [
    {
     "name": "stdout",
     "output_type": "stream",
     "text": [
      "[('Jan', 1), ('Feb', 1), ('Mar', 1), ('Apr', 2), ('May', 2), ('Jun', 2), ('Jul', 3)]\n"
     ]
    }
   ],
   "source": [
    "quarters = (1, 1, 1, 2, 2, 2, 3)\n",
    "\n",
    "quartersRdd = sc.parallelize(quarters)\n",
    "monthsZipQuarters = monthsRdd.zip(quartersRdd)\n",
    "print(monthsZipQuarters.collect())"
   ]
  },
  {
   "cell_type": "code",
   "execution_count": 21,
   "id": "228ee464",
   "metadata": {},
   "outputs": [
    {
     "name": "stdout",
     "output_type": "stream",
     "text": [
      "['Jan', 'Feb', 'Mar', 'Apr', 'May', 'Jun', 'Jul']\n",
      "[1, 1, 1, 2, 2, 2, 3]\n",
      "[('Apr', 2), ('Feb', 1), ('Jan', 1), ('Jul', 3), ('Jun', 2), ('Mar', 1), ('May', 2)]\n"
     ]
    }
   ],
   "source": [
    "print(monthsZipQuarters.keys().collect())\n",
    "\n",
    "print(monthsZipQuarters.values().collect())\n",
    "\n",
    "print(monthsZipQuarters.sortByKey().collect())"
   ]
  },
  {
   "cell_type": "code",
   "execution_count": 22,
   "id": "55519a95",
   "metadata": {},
   "outputs": [
    {
     "name": "stdout",
     "output_type": "stream",
     "text": [
      "[('EVERY', 1), ('afternoon,', 3), ('as', 9), ('they', 17), ('were', 21)]\n"
     ]
    }
   ],
   "source": [
    "reducedByKeyRdd = mappedRdd.reduceByKey(lambda x,y: x+y)\n",
    "print(reducedByKeyRdd.take(5))"
   ]
  },
  {
   "cell_type": "code",
   "execution_count": 25,
   "id": "e36db690",
   "metadata": {},
   "outputs": [
    {
     "name": "stdout",
     "output_type": "stream",
     "text": [
      "[(1, 'EVERY'), (3, 'afternoon,'), (9, 'as'), (17, 'they'), (21, 'were')]\n"
     ]
    }
   ],
   "source": [
    "flippedRdd = reducedByKeyRdd.map(lambda x: (x[1], x[0]))\n",
    "print(flippedRdd.take(5))"
   ]
  },
  {
   "cell_type": "code",
   "execution_count": 26,
   "id": "f45bef80",
   "metadata": {},
   "outputs": [
    {
     "name": "stdout",
     "output_type": "stream",
     "text": [
      "[(148, 'the'), (85, 'and'), (44, 'he'), (38, 'to'), (33, '')]\n"
     ]
    }
   ],
   "source": [
    "orderedRdd = flippedRdd.sortByKey(ascending=False)\n",
    "print(orderedRdd.take(5))"
   ]
  },
  {
   "cell_type": "code",
   "execution_count": 27,
   "id": "7fdeae75",
   "metadata": {},
   "outputs": [],
   "source": [
    "# 2nd task"
   ]
  },
  {
   "cell_type": "code",
   "execution_count": 28,
   "id": "a94f9329",
   "metadata": {},
   "outputs": [
    {
     "name": "stdout",
     "output_type": "stream",
     "text": [
      "[('WN', 1), ('WN', 1), ('WN', 1), ('WN', 1), ('WN', 1)]\n"
     ]
    }
   ],
   "source": [
    "carrierRdd = sc.textFile(\"file:///home/talentum/test-jupyter/P2/M2/Pair-RDD/flights.csv\"\n",
    "                      ).map(lambda val: val.split(',')).map(lambda column: (column[5], 1))\n",
    "\n",
    "print(carrierRdd.take(5))"
   ]
  },
  {
   "cell_type": "code",
   "execution_count": 34,
   "id": "5cf75e8b",
   "metadata": {},
   "outputs": [
    {
     "name": "stdout",
     "output_type": "stream",
     "text": [
      "[(356167, 'WN'), (175969, 'AA'), (166445, 'OO')]\n"
     ]
    }
   ],
   "source": [
    "carriersSorted = carrierRdd.reduceByKey(lambda x, y: x + y\n",
    "                                        ).map(lambda x: (x[1], x[0])\n",
    "                                        ).sortByKey(ascending = False)\n",
    "\n",
    "print(carriersSorted.take(3))"
   ]
  },
  {
   "cell_type": "code",
   "execution_count": 35,
   "id": "bfc2e363",
   "metadata": {},
   "outputs": [],
   "source": [
    "# 3rd task"
   ]
  },
  {
   "cell_type": "code",
   "execution_count": 36,
   "id": "ab918e74",
   "metadata": {},
   "outputs": [
    {
     "name": "stdout",
     "output_type": "stream",
     "text": [
      "[('iata', 'city'), ('00M', 'BaySprings'), ('00R', 'Livingston'), ('00V', 'ColoradoSprings'), ('01G', 'Perry')]\n"
     ]
    }
   ],
   "source": [
    "cityRdd = sc.textFile(\"file:///home/talentum/test-jupyter/P2/M2/Pair-RDD/airports.csv\"\n",
    "                     ).map(lambda val: val.split(\",\")\n",
    "                          ).map(lambda column: (column[0], column[2]))\n",
    "\n",
    "print(cityRdd.take(5))"
   ]
  },
  {
   "cell_type": "code",
   "execution_count": 38,
   "id": "9cd282a8",
   "metadata": {},
   "outputs": [
    {
     "name": "stdout",
     "output_type": "stream",
     "text": [
      "[('IAD', 'TPA'), ('IND', 'BWI'), ('IND', 'JAX'), ('IND', 'LAS'), ('IND', 'PHX')]\n"
     ]
    }
   ],
   "source": [
    "flightOrigDestRdd = sc.textFile(\"file:///home/talentum/test-jupyter/P2/M2/Pair-RDD/flights.csv\"\n",
    "                               ).map(lambda val: val.split(',')\n",
    ").map(lambda column: (column[12], column[13]))\n",
    "\n",
    "print(flightOrigDestRdd.take(5))"
   ]
  },
  {
   "cell_type": "code",
   "execution_count": 39,
   "id": "14dea79b",
   "metadata": {},
   "outputs": [
    {
     "name": "stdout",
     "output_type": "stream",
     "text": [
      "[('OAK', ('BOI', 'Oakland')), ('OAK', ('BUR', 'Oakland')), ('OAK', ('BUR', 'Oakland')), ('OAK', ('BUR', 'Oakland')), ('OAK', ('DEN', 'Oakland'))]\n"
     ]
    }
   ],
   "source": [
    "origJoinRdd = flightOrigDestRdd.join(cityRdd)\n",
    "print(origJoinRdd.take(5))"
   ]
  },
  {
   "cell_type": "code",
   "execution_count": 40,
   "id": "5e8b76ed",
   "metadata": {},
   "outputs": [
    {
     "name": "stdout",
     "output_type": "stream",
     "text": [
      "[('ONT', ('Oakland', 'Ontario')), ('ONT', ('Oakland', 'Ontario')), ('ONT', ('Oakland', 'Ontario')), ('ONT', ('Oakland', 'Ontario')), ('ONT', ('Oakland', 'Ontario'))]\n"
     ]
    }
   ],
   "source": [
    "destOrigJoinRdd = origJoinRdd.values().join(cityRdd)\n",
    "print(destOrigJoinRdd.take(5))"
   ]
  },
  {
   "cell_type": "code",
   "execution_count": 41,
   "id": "707b8012",
   "metadata": {},
   "outputs": [
    {
     "name": "stdout",
     "output_type": "stream",
     "text": [
      "[('Oakland', 'Ontario'), ('Oakland', 'Ontario'), ('Oakland', 'Ontario'), ('Oakland', 'Ontario'), ('Oakland', 'Ontario')]\n"
     ]
    }
   ],
   "source": [
    "citiesCleanedRdd = destOrigJoinRdd.values()\n",
    "print(citiesCleanedRdd.take(5))"
   ]
  },
  {
   "cell_type": "code",
   "execution_count": 42,
   "id": "c1afefab",
   "metadata": {},
   "outputs": [
    {
     "name": "stdout",
     "output_type": "stream",
     "text": [
      "[(('Oakland', 'Ontario'), 1), (('Oakland', 'Ontario'), 1), (('Oakland', 'Ontario'), 1), (('Oakland', 'Ontario'), 1), (('Oakland', 'Ontario'), 1)]\n"
     ]
    }
   ],
   "source": [
    "citiesKV = citiesCleanedRdd.map(lambda cities: (cities, 1))\n",
    "print(citiesKV.take(5))"
   ]
  },
  {
   "cell_type": "code",
   "execution_count": 47,
   "id": "0a9fe9f0",
   "metadata": {},
   "outputs": [
    {
     "name": "stdout",
     "output_type": "stream",
     "text": [
      "[(5540, ('NewYork', 'Boston')), (5478, ('Boston', 'NewYork')), (4103, ('Chicago', 'NewYork'))]\n"
     ]
    }
   ],
   "source": [
    "citiesReducedSortedRdd = citiesKV.reduceByKey(lambda x,y: x+y).map(lambda x: (x[1],x[0])\n",
    "                                                                  ).sortByKey(ascending=False)\n",
    "print(citiesReducedSortedRdd.take(3))"
   ]
  },
  {
   "cell_type": "code",
   "execution_count": 49,
   "id": "afd887e6",
   "metadata": {},
   "outputs": [
    {
     "name": "stdout",
     "output_type": "stream",
     "text": [
      "[('WN', '25'), ('WN', '67'), ('WN', '87'), ('WN', '29'), ('WN', '82')]\n"
     ]
    }
   ],
   "source": [
    "file3 = \"file:///home/talentum/test-jupyter/P2/M2/Pair-RDD/flights.csv\"\n",
    "\n",
    "delayRDD = sc.textFile(file3\n",
    "                      ).map(lambda x: x.split(\",\")\n",
    "                      ).filter(lambda x: int(x[11]) > 15\n",
    "                      ).map(lambda x: (x[5], x[11]))\n",
    "\n",
    "print(delayRDD.take(5))"
   ]
  },
  {
   "cell_type": "code",
   "execution_count": 51,
   "id": "b2194cc7",
   "metadata": {},
   "outputs": [
    {
     "name": "stdout",
     "output_type": "stream",
     "text": [
      "[('XE', 781), ('YV', 526), ('OH', 680), ('OO', 767), ('UA', 1268)]\n"
     ]
    }
   ],
   "source": [
    "delayMaxRDD = delayRDD.reduceByKey(lambda x, y: max(int(x), int(y)))\n",
    "\n",
    "print(delayMaxRDD.take(5))"
   ]
  },
  {
   "cell_type": "code",
   "execution_count": 52,
   "id": "33fb1071",
   "metadata": {},
   "outputs": [
    {
     "name": "stdout",
     "output_type": "stream",
     "text": [
      "5030\n"
     ]
    }
   ],
   "source": [
    "file4 = \"file:///home/talentum/test-jupyter/P2/M2/Pair-RDD/plane-data.csv\"\n",
    "\n",
    "planeDataRDD = sc.textFile(file4)\n",
    "print(planeDataRDD.count())"
   ]
  },
  {
   "cell_type": "code",
   "execution_count": 54,
   "id": "93ae88aa",
   "metadata": {},
   "outputs": [
    {
     "data": {
      "text/plain": [
       "4481"
      ]
     },
     "execution_count": 54,
     "metadata": {},
     "output_type": "execute_result"
    }
   ],
   "source": [
    "cleanedPlaneDataRDD = planeDataRDD.map(lambda x: x.split(\",\")\n",
    "                                 ).filter(lambda x: len(x) == 9\n",
    "                                 )\n",
    "cleanedPlaneDataRDD.count()"
   ]
  }
 ],
 "metadata": {
  "kernelspec": {
   "display_name": "Python 3",
   "language": "python",
   "name": "python3"
  },
  "language_info": {
   "codemirror_mode": {
    "name": "ipython",
    "version": 3
   },
   "file_extension": ".py",
   "mimetype": "text/x-python",
   "name": "python",
   "nbconvert_exporter": "python",
   "pygments_lexer": "ipython3",
   "version": "3.6.9"
  }
 },
 "nbformat": 4,
 "nbformat_minor": 5
}
