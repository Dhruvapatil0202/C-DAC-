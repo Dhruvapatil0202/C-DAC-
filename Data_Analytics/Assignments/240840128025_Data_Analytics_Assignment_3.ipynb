{
 "cells": [
  {
   "cell_type": "code",
   "execution_count": 1,
   "id": "9a908ab2-5f87-4459-80cc-dcd1e91a710b",
   "metadata": {},
   "outputs": [],
   "source": [
    "import pandas as pd\n",
    "import numpy as np"
   ]
  },
  {
   "cell_type": "markdown",
   "id": "ba4fc4c1-8174-47f0-afa4-6b2b2e68074c",
   "metadata": {},
   "source": [
    "1. Write a Pandas program to read a csv file from a specified source and print the\r\n",
    "first 5 rows.\r\n",
    "(Diamonds.csv)"
   ]
  },
  {
   "cell_type": "code",
   "execution_count": 3,
   "id": "36665903-a5c3-4bb3-b23d-db8727e2904c",
   "metadata": {},
   "outputs": [
    {
     "data": {
      "text/html": [
       "<div>\n",
       "<style scoped>\n",
       "    .dataframe tbody tr th:only-of-type {\n",
       "        vertical-align: middle;\n",
       "    }\n",
       "\n",
       "    .dataframe tbody tr th {\n",
       "        vertical-align: top;\n",
       "    }\n",
       "\n",
       "    .dataframe thead th {\n",
       "        text-align: right;\n",
       "    }\n",
       "</style>\n",
       "<table border=\"1\" class=\"dataframe\">\n",
       "  <thead>\n",
       "    <tr style=\"text-align: right;\">\n",
       "      <th></th>\n",
       "      <th>carat</th>\n",
       "      <th>cut</th>\n",
       "      <th>color</th>\n",
       "      <th>clarity</th>\n",
       "      <th>depth</th>\n",
       "      <th>table</th>\n",
       "      <th>price</th>\n",
       "      <th>x</th>\n",
       "      <th>y</th>\n",
       "      <th>z</th>\n",
       "    </tr>\n",
       "  </thead>\n",
       "  <tbody>\n",
       "    <tr>\n",
       "      <th>0</th>\n",
       "      <td>0.23</td>\n",
       "      <td>Ideal</td>\n",
       "      <td>E</td>\n",
       "      <td>SI2</td>\n",
       "      <td>61.5</td>\n",
       "      <td>55.0</td>\n",
       "      <td>326</td>\n",
       "      <td>3.95</td>\n",
       "      <td>3.98</td>\n",
       "      <td>2.43</td>\n",
       "    </tr>\n",
       "    <tr>\n",
       "      <th>1</th>\n",
       "      <td>0.21</td>\n",
       "      <td>Premium</td>\n",
       "      <td>E</td>\n",
       "      <td>SI1</td>\n",
       "      <td>59.8</td>\n",
       "      <td>61.0</td>\n",
       "      <td>326</td>\n",
       "      <td>3.89</td>\n",
       "      <td>3.84</td>\n",
       "      <td>2.31</td>\n",
       "    </tr>\n",
       "    <tr>\n",
       "      <th>2</th>\n",
       "      <td>0.23</td>\n",
       "      <td>Good</td>\n",
       "      <td>E</td>\n",
       "      <td>VS1</td>\n",
       "      <td>56.9</td>\n",
       "      <td>65.0</td>\n",
       "      <td>327</td>\n",
       "      <td>4.05</td>\n",
       "      <td>4.07</td>\n",
       "      <td>2.31</td>\n",
       "    </tr>\n",
       "    <tr>\n",
       "      <th>3</th>\n",
       "      <td>0.29</td>\n",
       "      <td>Premium</td>\n",
       "      <td>I</td>\n",
       "      <td>VS2</td>\n",
       "      <td>62.4</td>\n",
       "      <td>58.0</td>\n",
       "      <td>334</td>\n",
       "      <td>4.20</td>\n",
       "      <td>4.23</td>\n",
       "      <td>2.63</td>\n",
       "    </tr>\n",
       "    <tr>\n",
       "      <th>4</th>\n",
       "      <td>0.31</td>\n",
       "      <td>Good</td>\n",
       "      <td>J</td>\n",
       "      <td>SI2</td>\n",
       "      <td>63.3</td>\n",
       "      <td>58.0</td>\n",
       "      <td>335</td>\n",
       "      <td>4.34</td>\n",
       "      <td>4.35</td>\n",
       "      <td>2.75</td>\n",
       "    </tr>\n",
       "  </tbody>\n",
       "</table>\n",
       "</div>"
      ],
      "text/plain": [
       "   carat      cut color clarity  depth  table  price     x     y     z\n",
       "0   0.23    Ideal     E     SI2   61.5   55.0    326  3.95  3.98  2.43\n",
       "1   0.21  Premium     E     SI1   59.8   61.0    326  3.89  3.84  2.31\n",
       "2   0.23     Good     E     VS1   56.9   65.0    327  4.05  4.07  2.31\n",
       "3   0.29  Premium     I     VS2   62.4   58.0    334  4.20  4.23  2.63\n",
       "4   0.31     Good     J     SI2   63.3   58.0    335  4.34  4.35  2.75"
      ]
     },
     "execution_count": 3,
     "metadata": {},
     "output_type": "execute_result"
    }
   ],
   "source": [
    "df = pd.read_csv(\"diamonds.csv\")\n",
    "\n",
    "df.head()"
   ]
  },
  {
   "cell_type": "markdown",
   "id": "2d5b0ed5-58bd-49fb-8615-a62705bdcdf6",
   "metadata": {},
   "source": [
    "2. Write a Pandas program to read a dataset from diamonds DataFrame and\r\n",
    "modify the default columns values and print the first 6 rows."
   ]
  },
  {
   "cell_type": "code",
   "execution_count": 5,
   "id": "aa5032d5-e406-4aec-bde5-cd795a859f62",
   "metadata": {},
   "outputs": [
    {
     "data": {
      "text/html": [
       "<div>\n",
       "<style scoped>\n",
       "    .dataframe tbody tr th:only-of-type {\n",
       "        vertical-align: middle;\n",
       "    }\n",
       "\n",
       "    .dataframe tbody tr th {\n",
       "        vertical-align: top;\n",
       "    }\n",
       "\n",
       "    .dataframe thead th {\n",
       "        text-align: right;\n",
       "    }\n",
       "</style>\n",
       "<table border=\"1\" class=\"dataframe\">\n",
       "  <thead>\n",
       "    <tr style=\"text-align: right;\">\n",
       "      <th></th>\n",
       "      <th>Carat</th>\n",
       "      <th>Cut</th>\n",
       "      <th>Color</th>\n",
       "      <th>Clarity</th>\n",
       "      <th>Depth</th>\n",
       "      <th>table</th>\n",
       "      <th>price</th>\n",
       "      <th>x</th>\n",
       "      <th>y</th>\n",
       "      <th>z</th>\n",
       "    </tr>\n",
       "  </thead>\n",
       "  <tbody>\n",
       "    <tr>\n",
       "      <th>0</th>\n",
       "      <td>0.23</td>\n",
       "      <td>Ideal</td>\n",
       "      <td>E</td>\n",
       "      <td>SI2</td>\n",
       "      <td>61.5</td>\n",
       "      <td>55.0</td>\n",
       "      <td>326</td>\n",
       "      <td>3.95</td>\n",
       "      <td>3.98</td>\n",
       "      <td>2.43</td>\n",
       "    </tr>\n",
       "    <tr>\n",
       "      <th>1</th>\n",
       "      <td>0.21</td>\n",
       "      <td>Premium</td>\n",
       "      <td>E</td>\n",
       "      <td>SI1</td>\n",
       "      <td>59.8</td>\n",
       "      <td>61.0</td>\n",
       "      <td>326</td>\n",
       "      <td>3.89</td>\n",
       "      <td>3.84</td>\n",
       "      <td>2.31</td>\n",
       "    </tr>\n",
       "    <tr>\n",
       "      <th>2</th>\n",
       "      <td>0.23</td>\n",
       "      <td>Good</td>\n",
       "      <td>E</td>\n",
       "      <td>VS1</td>\n",
       "      <td>56.9</td>\n",
       "      <td>65.0</td>\n",
       "      <td>327</td>\n",
       "      <td>4.05</td>\n",
       "      <td>4.07</td>\n",
       "      <td>2.31</td>\n",
       "    </tr>\n",
       "    <tr>\n",
       "      <th>3</th>\n",
       "      <td>0.29</td>\n",
       "      <td>Premium</td>\n",
       "      <td>I</td>\n",
       "      <td>VS2</td>\n",
       "      <td>62.4</td>\n",
       "      <td>58.0</td>\n",
       "      <td>334</td>\n",
       "      <td>4.20</td>\n",
       "      <td>4.23</td>\n",
       "      <td>2.63</td>\n",
       "    </tr>\n",
       "    <tr>\n",
       "      <th>4</th>\n",
       "      <td>0.31</td>\n",
       "      <td>Good</td>\n",
       "      <td>J</td>\n",
       "      <td>SI2</td>\n",
       "      <td>63.3</td>\n",
       "      <td>58.0</td>\n",
       "      <td>335</td>\n",
       "      <td>4.34</td>\n",
       "      <td>4.35</td>\n",
       "      <td>2.75</td>\n",
       "    </tr>\n",
       "    <tr>\n",
       "      <th>5</th>\n",
       "      <td>0.24</td>\n",
       "      <td>Very Good</td>\n",
       "      <td>J</td>\n",
       "      <td>VVS2</td>\n",
       "      <td>62.8</td>\n",
       "      <td>57.0</td>\n",
       "      <td>336</td>\n",
       "      <td>3.94</td>\n",
       "      <td>3.96</td>\n",
       "      <td>2.48</td>\n",
       "    </tr>\n",
       "  </tbody>\n",
       "</table>\n",
       "</div>"
      ],
      "text/plain": [
       "   Carat        Cut Color Clarity  Depth  table  price     x     y     z\n",
       "0   0.23      Ideal     E     SI2   61.5   55.0    326  3.95  3.98  2.43\n",
       "1   0.21    Premium     E     SI1   59.8   61.0    326  3.89  3.84  2.31\n",
       "2   0.23       Good     E     VS1   56.9   65.0    327  4.05  4.07  2.31\n",
       "3   0.29    Premium     I     VS2   62.4   58.0    334  4.20  4.23  2.63\n",
       "4   0.31       Good     J     SI2   63.3   58.0    335  4.34  4.35  2.75\n",
       "5   0.24  Very Good     J    VVS2   62.8   57.0    336  3.94  3.96  2.48"
      ]
     },
     "execution_count": 5,
     "metadata": {},
     "output_type": "execute_result"
    }
   ],
   "source": [
    "df = df.rename(columns={\n",
    "    \"carat\" : \"Carat\",\n",
    "    \"cut\" : \"Cut\",\n",
    "    \"color\" : \"Color\",\n",
    "    \"clarity\" : \"Clarity\",\n",
    "    \"depth\" : \"Depth\"\n",
    "})\n",
    "df.head(6)"
   ]
  },
  {
   "cell_type": "markdown",
   "id": "8fdc11b8-5226-43ed-bd17-348ee5394d54",
   "metadata": {},
   "source": [
    "3. Write a Pandas program to select a series from diamonds DataFrame. Print\n",
    "the content of the series."
   ]
  },
  {
   "cell_type": "code",
   "execution_count": 7,
   "id": "73ed82d2-141f-447f-b854-ffcfba8551b8",
   "metadata": {},
   "outputs": [
    {
     "name": "stdout",
     "output_type": "stream",
     "text": [
      "0        0.23\n",
      "1        0.21\n",
      "2        0.23\n",
      "3        0.29\n",
      "4        0.31\n",
      "         ... \n",
      "53935    0.72\n",
      "53936    0.72\n",
      "53937    0.70\n",
      "53938    0.86\n",
      "53939    0.75\n",
      "Name: Carat, Length: 53940, dtype: float64\n",
      "<class 'pandas.core.series.Series'>\n"
     ]
    }
   ],
   "source": [
    "carat = df[\"Carat\"]\n",
    "print(carat)\n",
    "print(type(carat))"
   ]
  },
  {
   "cell_type": "markdown",
   "id": "54b10506-2692-498e-a68d-27de9281c6ed",
   "metadata": {},
   "source": [
    "4. Write a Pandas program to create a new 'Quality -color' Series (use bracket\n",
    "notation to define the Series name) of the diamonds DataFrame."
   ]
  },
  {
   "cell_type": "code",
   "execution_count": 9,
   "id": "01846cee-2b55-48af-b860-475ea1a429ae",
   "metadata": {},
   "outputs": [
    {
     "data": {
      "text/html": [
       "<div>\n",
       "<style scoped>\n",
       "    .dataframe tbody tr th:only-of-type {\n",
       "        vertical-align: middle;\n",
       "    }\n",
       "\n",
       "    .dataframe tbody tr th {\n",
       "        vertical-align: top;\n",
       "    }\n",
       "\n",
       "    .dataframe thead th {\n",
       "        text-align: right;\n",
       "    }\n",
       "</style>\n",
       "<table border=\"1\" class=\"dataframe\">\n",
       "  <thead>\n",
       "    <tr style=\"text-align: right;\">\n",
       "      <th></th>\n",
       "      <th>Carat</th>\n",
       "      <th>Cut</th>\n",
       "      <th>Color</th>\n",
       "      <th>Clarity</th>\n",
       "      <th>Depth</th>\n",
       "      <th>table</th>\n",
       "      <th>price</th>\n",
       "      <th>x</th>\n",
       "      <th>y</th>\n",
       "      <th>z</th>\n",
       "      <th>Quality-color</th>\n",
       "    </tr>\n",
       "  </thead>\n",
       "  <tbody>\n",
       "    <tr>\n",
       "      <th>0</th>\n",
       "      <td>0.23</td>\n",
       "      <td>Ideal</td>\n",
       "      <td>E</td>\n",
       "      <td>SI2</td>\n",
       "      <td>61.5</td>\n",
       "      <td>55.0</td>\n",
       "      <td>326</td>\n",
       "      <td>3.95</td>\n",
       "      <td>3.98</td>\n",
       "      <td>2.43</td>\n",
       "      <td>0.23 - E</td>\n",
       "    </tr>\n",
       "    <tr>\n",
       "      <th>1</th>\n",
       "      <td>0.21</td>\n",
       "      <td>Premium</td>\n",
       "      <td>E</td>\n",
       "      <td>SI1</td>\n",
       "      <td>59.8</td>\n",
       "      <td>61.0</td>\n",
       "      <td>326</td>\n",
       "      <td>3.89</td>\n",
       "      <td>3.84</td>\n",
       "      <td>2.31</td>\n",
       "      <td>0.21 - E</td>\n",
       "    </tr>\n",
       "    <tr>\n",
       "      <th>2</th>\n",
       "      <td>0.23</td>\n",
       "      <td>Good</td>\n",
       "      <td>E</td>\n",
       "      <td>VS1</td>\n",
       "      <td>56.9</td>\n",
       "      <td>65.0</td>\n",
       "      <td>327</td>\n",
       "      <td>4.05</td>\n",
       "      <td>4.07</td>\n",
       "      <td>2.31</td>\n",
       "      <td>0.23 - E</td>\n",
       "    </tr>\n",
       "    <tr>\n",
       "      <th>3</th>\n",
       "      <td>0.29</td>\n",
       "      <td>Premium</td>\n",
       "      <td>I</td>\n",
       "      <td>VS2</td>\n",
       "      <td>62.4</td>\n",
       "      <td>58.0</td>\n",
       "      <td>334</td>\n",
       "      <td>4.20</td>\n",
       "      <td>4.23</td>\n",
       "      <td>2.63</td>\n",
       "      <td>0.29 - I</td>\n",
       "    </tr>\n",
       "    <tr>\n",
       "      <th>4</th>\n",
       "      <td>0.31</td>\n",
       "      <td>Good</td>\n",
       "      <td>J</td>\n",
       "      <td>SI2</td>\n",
       "      <td>63.3</td>\n",
       "      <td>58.0</td>\n",
       "      <td>335</td>\n",
       "      <td>4.34</td>\n",
       "      <td>4.35</td>\n",
       "      <td>2.75</td>\n",
       "      <td>0.31 - J</td>\n",
       "    </tr>\n",
       "  </tbody>\n",
       "</table>\n",
       "</div>"
      ],
      "text/plain": [
       "   Carat      Cut Color Clarity  Depth  table  price     x     y     z  \\\n",
       "0   0.23    Ideal     E     SI2   61.5   55.0    326  3.95  3.98  2.43   \n",
       "1   0.21  Premium     E     SI1   59.8   61.0    326  3.89  3.84  2.31   \n",
       "2   0.23     Good     E     VS1   56.9   65.0    327  4.05  4.07  2.31   \n",
       "3   0.29  Premium     I     VS2   62.4   58.0    334  4.20  4.23  2.63   \n",
       "4   0.31     Good     J     SI2   63.3   58.0    335  4.34  4.35  2.75   \n",
       "\n",
       "  Quality-color  \n",
       "0      0.23 - E  \n",
       "1      0.21 - E  \n",
       "2      0.23 - E  \n",
       "3      0.29 - I  \n",
       "4      0.31 - J  "
      ]
     },
     "execution_count": 9,
     "metadata": {},
     "output_type": "execute_result"
    }
   ],
   "source": [
    "\n",
    "df[\"Quality-color\"] = df[\"Carat\"].astype(str)  + \" - \" + df.Color\n",
    "df.head()"
   ]
  },
  {
   "cell_type": "markdown",
   "id": "4068cf5d-a48e-421d-96fc-f397eb490109",
   "metadata": {},
   "source": [
    "5. Write a Pandas program to find the number of rows and columns and data\n",
    "type of each column of diamonds Dataframe."
   ]
  },
  {
   "cell_type": "code",
   "execution_count": 11,
   "id": "f5c56746-f663-4d04-9baf-65f48c00c7c0",
   "metadata": {},
   "outputs": [
    {
     "name": "stdout",
     "output_type": "stream",
     "text": [
      "<class 'pandas.core.frame.DataFrame'>\n",
      "RangeIndex: 53940 entries, 0 to 53939\n",
      "Data columns (total 11 columns):\n",
      " #   Column         Non-Null Count  Dtype  \n",
      "---  ------         --------------  -----  \n",
      " 0   Carat          53940 non-null  float64\n",
      " 1   Cut            53940 non-null  object \n",
      " 2   Color          53940 non-null  object \n",
      " 3   Clarity        53940 non-null  object \n",
      " 4   Depth          53940 non-null  float64\n",
      " 5   table          53940 non-null  float64\n",
      " 6   price          53940 non-null  int64  \n",
      " 7   x              53940 non-null  float64\n",
      " 8   y              53940 non-null  float64\n",
      " 9   z              53940 non-null  float64\n",
      " 10  Quality-color  53940 non-null  object \n",
      "dtypes: float64(6), int64(1), object(4)\n",
      "memory usage: 4.5+ MB\n"
     ]
    }
   ],
   "source": [
    "df.info()"
   ]
  },
  {
   "cell_type": "markdown",
   "id": "5b68dfc2-6257-41a5-9b42-51fb4db08ee3",
   "metadata": {},
   "source": [
    "6. Write a Pandas program to summarize only 'object' columns of the diamonds\n",
    "Dataframe."
   ]
  },
  {
   "cell_type": "code",
   "execution_count": 13,
   "id": "9c0c6c11-f536-4e89-992c-f0fa99e602e3",
   "metadata": {},
   "outputs": [
    {
     "data": {
      "text/html": [
       "<div>\n",
       "<style scoped>\n",
       "    .dataframe tbody tr th:only-of-type {\n",
       "        vertical-align: middle;\n",
       "    }\n",
       "\n",
       "    .dataframe tbody tr th {\n",
       "        vertical-align: top;\n",
       "    }\n",
       "\n",
       "    .dataframe thead th {\n",
       "        text-align: right;\n",
       "    }\n",
       "</style>\n",
       "<table border=\"1\" class=\"dataframe\">\n",
       "  <thead>\n",
       "    <tr style=\"text-align: right;\">\n",
       "      <th></th>\n",
       "      <th>Cut</th>\n",
       "      <th>Color</th>\n",
       "      <th>Clarity</th>\n",
       "      <th>Quality-color</th>\n",
       "    </tr>\n",
       "  </thead>\n",
       "  <tbody>\n",
       "    <tr>\n",
       "      <th>count</th>\n",
       "      <td>53940</td>\n",
       "      <td>53940</td>\n",
       "      <td>53940</td>\n",
       "      <td>53940</td>\n",
       "    </tr>\n",
       "    <tr>\n",
       "      <th>unique</th>\n",
       "      <td>5</td>\n",
       "      <td>7</td>\n",
       "      <td>8</td>\n",
       "      <td>1468</td>\n",
       "    </tr>\n",
       "    <tr>\n",
       "      <th>top</th>\n",
       "      <td>Ideal</td>\n",
       "      <td>G</td>\n",
       "      <td>SI1</td>\n",
       "      <td>0.3 - G</td>\n",
       "    </tr>\n",
       "    <tr>\n",
       "      <th>freq</th>\n",
       "      <td>21551</td>\n",
       "      <td>11292</td>\n",
       "      <td>13065</td>\n",
       "      <td>608</td>\n",
       "    </tr>\n",
       "  </tbody>\n",
       "</table>\n",
       "</div>"
      ],
      "text/plain": [
       "          Cut  Color Clarity Quality-color\n",
       "count   53940  53940   53940         53940\n",
       "unique      5      7       8          1468\n",
       "top     Ideal      G     SI1       0.3 - G\n",
       "freq    21551  11292   13065           608"
      ]
     },
     "execution_count": 13,
     "metadata": {},
     "output_type": "execute_result"
    }
   ],
   "source": [
    "df.select_dtypes(include=['object']).describe()"
   ]
  },
  {
   "cell_type": "markdown",
   "id": "8d23a868-ad59-416a-a1f4-0f1d8ed9413d",
   "metadata": {},
   "source": [
    "7. Write a Pandas program to rename two of the columns of the diamonds\n",
    "Dataframe.\n",
    "\n"
   ]
  },
  {
   "cell_type": "code",
   "execution_count": 15,
   "id": "44410bf3-61ea-4de5-a834-b21d8504f587",
   "metadata": {},
   "outputs": [],
   "source": [
    "# renamed three\n",
    "df = df.rename(columns = {\n",
    "    \"x\" : \"x-len\",\n",
    "    \"y\" : \"y-len\",\n",
    "    \"z\" : \"z-len\"\n",
    "})\n",
    "df.head()\n",
    "df = pd.read_csv(\"diamonds.csv\")"
   ]
  },
  {
   "cell_type": "markdown",
   "id": "fd2c26fe-7178-4277-887d-5b57522e282a",
   "metadata": {},
   "source": [
    "8. Write a Pandas program to rename all the columns of the diamonds\r\n",
    "Dataframe."
   ]
  },
  {
   "cell_type": "code",
   "execution_count": 17,
   "id": "36b3ae96-04b6-4b0c-aa42-127b46cb4e90",
   "metadata": {},
   "outputs": [
    {
     "name": "stdout",
     "output_type": "stream",
     "text": [
      "Index(['a', 'b', 'c', 'd', 'e', 'f', 'g', 'h', 'i', 'j'], dtype='object')\n"
     ]
    }
   ],
   "source": [
    "tmdf = df.copy()\n",
    "tmdf.columns = ['a', 'b', 'c', 'd', 'e', 'f', 'g', 'h', 'i', 'j']\n",
    "print(tmdf.columns)\n",
    "del tmdf\n"
   ]
  },
  {
   "cell_type": "markdown",
   "id": "6b463c85-1ef2-4ec4-88cd-fcea18929445",
   "metadata": {},
   "source": [
    "9. Write a Pandas program to remove the second column of the diamonds\n",
    "Dataframe."
   ]
  },
  {
   "cell_type": "code",
   "execution_count": 19,
   "id": "ca7b5ad1-1e54-46fa-8e09-c84e1b094fa7",
   "metadata": {},
   "outputs": [
    {
     "name": "stdout",
     "output_type": "stream",
     "text": [
      "       carat color clarity  depth  table  price     x     y     z\n",
      "0       0.23     E     SI2   61.5   55.0    326  3.95  3.98  2.43\n",
      "1       0.21     E     SI1   59.8   61.0    326  3.89  3.84  2.31\n",
      "2       0.23     E     VS1   56.9   65.0    327  4.05  4.07  2.31\n",
      "3       0.29     I     VS2   62.4   58.0    334  4.20  4.23  2.63\n",
      "4       0.31     J     SI2   63.3   58.0    335  4.34  4.35  2.75\n",
      "...      ...   ...     ...    ...    ...    ...   ...   ...   ...\n",
      "53935   0.72     D     SI1   60.8   57.0   2757  5.75  5.76  3.50\n",
      "53936   0.72     D     SI1   63.1   55.0   2757  5.69  5.75  3.61\n",
      "53937   0.70     D     SI1   62.8   60.0   2757  5.66  5.68  3.56\n",
      "53938   0.86     H     SI2   61.0   58.0   2757  6.15  6.12  3.74\n",
      "53939   0.75     D     SI2   62.2   55.0   2757  5.83  5.87  3.64\n",
      "\n",
      "[53940 rows x 9 columns]\n"
     ]
    }
   ],
   "source": [
    "tmdf = df.copy()\n",
    "tmdf.drop([tmdf.columns[1]], axis = 1, inplace = True)\n",
    "print(tmdf)\n",
    "del tmdf"
   ]
  },
  {
   "cell_type": "markdown",
   "id": "6ba339a9-5edd-45ce-b9e2-f589a9789a58",
   "metadata": {},
   "source": [
    "10. Write a Pandas program to remove multiple columns at once of the diamonds\r\n",
    "Dataframe."
   ]
  },
  {
   "cell_type": "code",
   "execution_count": 21,
   "id": "fa272f85-2565-4992-ae47-469227d4e650",
   "metadata": {},
   "outputs": [
    {
     "name": "stdout",
     "output_type": "stream",
     "text": [
      "             cut clarity  price     x     y     z\n",
      "0          Ideal     SI2    326  3.95  3.98  2.43\n",
      "1        Premium     SI1    326  3.89  3.84  2.31\n",
      "2           Good     VS1    327  4.05  4.07  2.31\n",
      "3        Premium     VS2    334  4.20  4.23  2.63\n",
      "4           Good     SI2    335  4.34  4.35  2.75\n",
      "...          ...     ...    ...   ...   ...   ...\n",
      "53935      Ideal     SI1   2757  5.75  5.76  3.50\n",
      "53936       Good     SI1   2757  5.69  5.75  3.61\n",
      "53937  Very Good     SI1   2757  5.66  5.68  3.56\n",
      "53938    Premium     SI2   2757  6.15  6.12  3.74\n",
      "53939      Ideal     SI2   2757  5.83  5.87  3.64\n",
      "\n",
      "[53940 rows x 6 columns]\n"
     ]
    }
   ],
   "source": [
    "tmdf = df.copy()\n",
    "tmdf.drop([\"carat\", \"color\", \"depth\", \"table\"], axis = 1, inplace = True)\n",
    "print(tmdf)\n",
    "del tmdf"
   ]
  },
  {
   "cell_type": "markdown",
   "id": "844f81fb-8765-4452-8f01-9cb7de86543a",
   "metadata": {},
   "source": [
    "11. Write a Pandas program to remove multiple rows at once (axis=0 refers to\r\n",
    "rows) from diamonds dataframe."
   ]
  },
  {
   "cell_type": "code",
   "execution_count": 23,
   "id": "f29da9d5-d8a4-4bf0-b1c0-04b27a35ea74",
   "metadata": {},
   "outputs": [
    {
     "name": "stdout",
     "output_type": "stream",
     "text": [
      "   carat      cut color clarity  depth  table  price     x     y     z\n",
      "0   0.23    Ideal     E     SI2   61.5   55.0    326  3.95  3.98  2.43\n",
      "1   0.21  Premium     E     SI1   59.8   61.0    326  3.89  3.84  2.31\n",
      "2   0.23     Good     E     VS1   56.9   65.0    327  4.05  4.07  2.31\n",
      "3   0.29  Premium     I     VS2   62.4   58.0    334  4.20  4.23  2.63\n"
     ]
    }
   ],
   "source": [
    "tmdf = df.copy()\n",
    "# ------------------------------------------------------------\n",
    "tmdf.drop(list(range(4, tmdf.shape[0])), axis = 0, inplace = True)\n",
    "print(tmdf)\n",
    "# ------------------------------------------------------------\n",
    "del tmdf"
   ]
  },
  {
   "cell_type": "markdown",
   "id": "630f4e9c-b4ee-4f0a-8aa9-4f3ad3c173fd",
   "metadata": {},
   "source": [
    "12. Write a Pandas program to sort the 'cut' Series in ascending order (returns a\n",
    "Series) of diamonds Dataframe.\n"
   ]
  },
  {
   "cell_type": "code",
   "execution_count": 25,
   "id": "56c61cdb-44e7-4b4e-bb06-2066cb5b355b",
   "metadata": {},
   "outputs": [
    {
     "name": "stdout",
     "output_type": "stream",
     "text": [
      "3850          Fair\n",
      "51464         Fair\n",
      "51466         Fair\n",
      "10237         Fair\n",
      "10760         Fair\n",
      "           ...    \n",
      "7402     Very Good\n",
      "43101    Very Good\n",
      "16893    Very Good\n",
      "16898    Very Good\n",
      "21164    Very Good\n",
      "Name: cut, Length: 53940, dtype: object\n"
     ]
    }
   ],
   "source": [
    "tmdf = df.copy()\n",
    "# ------------------------------------------------------------\n",
    "ser = tmdf['cut'].copy()\n",
    "ser.sort_values(ascending = True, inplace = True)\n",
    "print(ser)\n",
    "del ser\n",
    "# ------------------------------------------------------------\n",
    "del tmdf"
   ]
  },
  {
   "cell_type": "markdown",
   "id": "46c2bd02-1a81-4a92-817f-842845ae600a",
   "metadata": {},
   "source": [
    "13. Write a Pandas program to sort the 'price' Series in descending order (returns\n",
    "a Series) of diamonds Dataframe."
   ]
  },
  {
   "cell_type": "code",
   "execution_count": 27,
   "id": "70dc1861-7eb5-4b63-b4e6-2e8fd3646b6b",
   "metadata": {},
   "outputs": [
    {
     "name": "stdout",
     "output_type": "stream",
     "text": [
      "8748     Very Good\n",
      "23064    Very Good\n",
      "23058    Very Good\n",
      "31236    Very Good\n",
      "19154    Very Good\n",
      "           ...    \n",
      "5595          Fair\n",
      "5594          Fair\n",
      "5585          Fair\n",
      "5576          Fair\n",
      "21921         Fair\n",
      "Name: cut, Length: 53940, dtype: object\n"
     ]
    }
   ],
   "source": [
    "tmdf = df.copy()\n",
    "# ------------------------------------------------------------\n",
    "ser = tmdf['cut'].copy()\n",
    "ser.sort_values(ascending = False, inplace = True)\n",
    "print(ser)\n",
    "del ser\n",
    "# ------------------------------------------------------------\n",
    "del tmdf"
   ]
  },
  {
   "cell_type": "markdown",
   "id": "1c403c2b-cee6-4028-8f2e-7cda7e73f880",
   "metadata": {},
   "source": [
    "14. Write a Pandas program to sort the entire diamonds DataFrame by the 'carat'\r\n",
    "Series in ascending and descending order."
   ]
  },
  {
   "cell_type": "code",
   "execution_count": 29,
   "id": "d807b4fd-d590-4603-aab6-e83fa845b1b0",
   "metadata": {},
   "outputs": [
    {
     "name": "stdout",
     "output_type": "stream",
     "text": [
      "31593    0.20\n",
      "31597    0.20\n",
      "31596    0.20\n",
      "31595    0.20\n",
      "31594    0.20\n",
      "         ... \n",
      "25999    4.01\n",
      "25998    4.01\n",
      "27130    4.13\n",
      "27630    4.50\n",
      "27415    5.01\n",
      "Name: carat, Length: 53940, dtype: float64\n",
      "\n",
      "\n",
      "27415    5.01\n",
      "27630    4.50\n",
      "27130    4.13\n",
      "25998    4.01\n",
      "25999    4.01\n",
      "         ... \n",
      "31601    0.20\n",
      "31598    0.20\n",
      "14       0.20\n",
      "31599    0.20\n",
      "31593    0.20\n",
      "Name: carat, Length: 53940, dtype: float64\n"
     ]
    }
   ],
   "source": [
    "tmdf = df.copy()\n",
    "# ------------------------------------------------------------\n",
    "ser = tmdf['carat'].copy()\n",
    "ser.sort_values(ascending = True, inplace = True)\n",
    "print(ser)\n",
    "print(\"\\n\")\n",
    "ser.sort_values(ascending = False, inplace = True)\n",
    "print(ser)\n",
    "del ser\n",
    "# ------------------------------------------------------------\n",
    "del tmdf"
   ]
  },
  {
   "cell_type": "markdown",
   "id": "ede927a9-5727-4909-96db-612f59a7cd23",
   "metadata": {},
   "source": [
    "15. Write a Pandas program to filter the DataFrame rows to only show carat\r\n",
    "weight at least 0.3"
   ]
  },
  {
   "cell_type": "code",
   "execution_count": 31,
   "id": "da46f0fd-f824-4cf5-b5d4-76a8e90da54a",
   "metadata": {},
   "outputs": [
    {
     "name": "stdout",
     "output_type": "stream",
     "text": [
      "       carat        cut color clarity  depth  table  price     x     y     z\n",
      "4       0.31       Good     J     SI2   63.3   58.0    335  4.34  4.35  2.75\n",
      "10      0.30       Good     J     SI1   64.0   55.0    339  4.25  4.28  2.73\n",
      "13      0.31      Ideal     J     SI2   62.2   54.0    344  4.35  4.37  2.71\n",
      "15      0.32    Premium     E      I1   60.9   58.0    345  4.38  4.42  2.68\n",
      "16      0.30      Ideal     I     SI2   62.0   54.0    348  4.31  4.34  2.68\n",
      "...      ...        ...   ...     ...    ...    ...    ...   ...   ...   ...\n",
      "53935   0.72      Ideal     D     SI1   60.8   57.0   2757  5.75  5.76  3.50\n",
      "53936   0.72       Good     D     SI1   63.1   55.0   2757  5.69  5.75  3.61\n",
      "53937   0.70  Very Good     D     SI1   62.8   60.0   2757  5.66  5.68  3.56\n",
      "53938   0.86    Premium     H     SI2   61.0   58.0   2757  6.15  6.12  3.74\n",
      "53939   0.75      Ideal     D     SI2   62.2   55.0   2757  5.83  5.87  3.64\n",
      "\n",
      "[52341 rows x 10 columns]\n"
     ]
    }
   ],
   "source": [
    "tmdf = df.copy()\n",
    "# ------------------------------------------------------------\n",
    "condition = tmdf.carat >= 0.3\n",
    "new_df = tmdf[condition]\n",
    "print(new_df)\n",
    "# ------------------------------------------------------------\n",
    "del tmdf"
   ]
  },
  {
   "cell_type": "markdown",
   "id": "8741b189-9435-421c-86f2-4fd16f1459a3",
   "metadata": {},
   "source": [
    "16. Write a Pandas program to convert a python list to pandas series."
   ]
  },
  {
   "cell_type": "code",
   "execution_count": 33,
   "id": "5d85cf88-9d96-4331-90ce-96a14b990936",
   "metadata": {},
   "outputs": [
    {
     "name": "stdout",
     "output_type": "stream",
     "text": [
      "0    1\n",
      "1    2\n",
      "2    3\n",
      "3    4\n",
      "4    5\n",
      "dtype: int64 <class 'pandas.core.series.Series'>\n"
     ]
    }
   ],
   "source": [
    "li = [1, 2, 3, 4, 5]\n",
    "ser = pd.Series(li)\n",
    "print(ser, type(ser))"
   ]
  },
  {
   "cell_type": "markdown",
   "id": "379a2779-a911-483e-999e-120b3dd14ff1",
   "metadata": {},
   "source": [
    "17. Write a Pandas program to find the details of the diamonds where length>5,\r\n",
    "width>5 and depth>5."
   ]
  },
  {
   "cell_type": "code",
   "execution_count": 35,
   "id": "51310795-63fb-43c5-868c-42954ed4f886",
   "metadata": {},
   "outputs": [
    {
     "name": "stdout",
     "output_type": "stream",
     "text": [
      "       carat        cut color clarity  depth  table  price     x      y      z\n",
      "11778   1.83       Fair     J      I1   70.0   58.0   5083  7.34   7.28   5.12\n",
      "13002   2.14       Fair     J      I1   69.4   57.0   5405  7.74   7.70   5.36\n",
      "13118   2.15       Fair     J      I1   65.5   57.0   5430  8.01   7.95   5.23\n",
      "13562   1.96       Fair     F      I1   66.6   60.0   5554  7.59   7.56   5.04\n",
      "13757   2.22       Fair     J      I1   66.7   56.0   5607  8.04   8.02   5.36\n",
      "...      ...        ...   ...     ...    ...    ...    ...   ...    ...    ...\n",
      "27748   2.00  Very Good     G     SI1   63.5   56.0  18818  7.90   7.97   5.04\n",
      "27749   2.29    Premium     I     VS2   60.8   60.0  18823  8.50   8.47   5.16\n",
      "48410   0.51  Very Good     E     VS1   61.8   54.7   1970  5.12   5.15  31.80\n",
      "49189   0.51      Ideal     E     VS1   61.8   55.0   2075  5.15  31.80   5.12\n",
      "49905   0.50  Very Good     G    VVS1   63.7   58.0   2180  5.01   5.04   5.06\n",
      "\n",
      "[1457 rows x 10 columns]\n"
     ]
    }
   ],
   "source": [
    "tmdf = df.copy()\n",
    "# ------------------------------------------------------------\n",
    "condition = (tmdf.x > 5) & (tmdf.y > 5) & (tmdf.z > 5)\n",
    "new_df = tmdf[condition]\n",
    "print(new_df)\n",
    "# ------------------------------------------------------------\n",
    "del tmdf"
   ]
  },
  {
   "cell_type": "markdown",
   "id": "893e8d35-bc16-4fc2-8e80-96093833a7b4",
   "metadata": {},
   "source": [
    "18. Write a Pandas program to find the diamonds that are either Premium or\r\n",
    "Ideal."
   ]
  },
  {
   "cell_type": "code",
   "execution_count": 37,
   "id": "99781d03-8147-4e4e-a3e4-ed7ece99de7a",
   "metadata": {},
   "outputs": [
    {
     "name": "stdout",
     "output_type": "stream",
     "text": [
      "       carat      cut color clarity  depth  table  price     x     y     z\n",
      "0       0.23    Ideal     E     SI2   61.5   55.0    326  3.95  3.98  2.43\n",
      "1       0.21  Premium     E     SI1   59.8   61.0    326  3.89  3.84  2.31\n",
      "3       0.29  Premium     I     VS2   62.4   58.0    334  4.20  4.23  2.63\n",
      "11      0.23    Ideal     J     VS1   62.8   56.0    340  3.93  3.90  2.46\n",
      "12      0.22  Premium     F     SI1   60.4   61.0    342  3.88  3.84  2.33\n",
      "...      ...      ...   ...     ...    ...    ...    ...   ...   ...   ...\n",
      "53931   0.71  Premium     F     SI1   59.8   62.0   2756  5.74  5.73  3.43\n",
      "53934   0.72  Premium     D     SI1   62.7   59.0   2757  5.69  5.73  3.58\n",
      "53935   0.72    Ideal     D     SI1   60.8   57.0   2757  5.75  5.76  3.50\n",
      "53938   0.86  Premium     H     SI2   61.0   58.0   2757  6.15  6.12  3.74\n",
      "53939   0.75    Ideal     D     SI2   62.2   55.0   2757  5.83  5.87  3.64\n",
      "\n",
      "[35342 rows x 10 columns]\n"
     ]
    }
   ],
   "source": [
    "tmdf = df.copy()\n",
    "# ------------------------------------------------------------\n",
    "condition = (tmdf['cut'] == \"Ideal\") | (tmdf['cut'] == \"Premium\")\n",
    "new_df = tmdf[condition]\n",
    "print(new_df)\n",
    "# ------------------------------------------------------------\n",
    "del tmdf"
   ]
  },
  {
   "cell_type": "markdown",
   "id": "95de9220-3538-4f01-bd99-f0e76b1e2c6e",
   "metadata": {},
   "source": [
    "19. Write a Pandas program to find the diamonds that are with a Fair or Good or\r\n",
    "Premium."
   ]
  },
  {
   "cell_type": "code",
   "execution_count": 39,
   "id": "fcebaca7-d96d-4040-9751-1143225bd0d6",
   "metadata": {},
   "outputs": [
    {
     "name": "stdout",
     "output_type": "stream",
     "text": [
      "       carat      cut color clarity  depth  table  price     x     y     z\n",
      "1       0.21  Premium     E     SI1   59.8   61.0    326  3.89  3.84  2.31\n",
      "2       0.23     Good     E     VS1   56.9   65.0    327  4.05  4.07  2.31\n",
      "3       0.29  Premium     I     VS2   62.4   58.0    334  4.20  4.23  2.63\n",
      "4       0.31     Good     J     SI2   63.3   58.0    335  4.34  4.35  2.75\n",
      "8       0.22     Fair     E     VS2   65.1   61.0    337  3.87  3.78  2.49\n",
      "...      ...      ...   ...     ...    ...    ...    ...   ...   ...   ...\n",
      "53930   0.71  Premium     E     SI1   60.5   55.0   2756  5.79  5.74  3.49\n",
      "53931   0.71  Premium     F     SI1   59.8   62.0   2756  5.74  5.73  3.43\n",
      "53934   0.72  Premium     D     SI1   62.7   59.0   2757  5.69  5.73  3.58\n",
      "53936   0.72     Good     D     SI1   63.1   55.0   2757  5.69  5.75  3.61\n",
      "53938   0.86  Premium     H     SI2   61.0   58.0   2757  6.15  6.12  3.74\n",
      "\n",
      "[20307 rows x 10 columns]\n"
     ]
    }
   ],
   "source": [
    "tmdf = df.copy()\n",
    "# ------------------------------------------------------------\n",
    "condition = tmdf['cut'].isin(['Fair', 'Good', 'Premium'])\n",
    "new_df = tmdf[condition]\n",
    "print(new_df)\n",
    "# ------------------------------------------------------------\n",
    "del tmdf"
   ]
  },
  {
   "cell_type": "markdown",
   "id": "1f985590-66ba-49fd-8265-9365dc9f1fb7",
   "metadata": {},
   "source": [
    "20. Write a Pandas program to display all column labels of diamonds DataFrame."
   ]
  },
  {
   "cell_type": "code",
   "execution_count": 41,
   "id": "17d7f39a-cf6d-44cd-89fe-b303a5040226",
   "metadata": {},
   "outputs": [
    {
     "name": "stdout",
     "output_type": "stream",
     "text": [
      "Index(['carat', 'cut', 'color', 'clarity', 'depth', 'table', 'price', 'x', 'y',\n",
      "       'z'],\n",
      "      dtype='object')\n"
     ]
    }
   ],
   "source": [
    "tmdf = df.copy()\n",
    "# ------------------------------------------------------------\n",
    "print(tmdf.columns)\n",
    "# ------------------------------------------------------------\n",
    "del tmdf"
   ]
  },
  {
   "cell_type": "markdown",
   "id": "9dbe7c89-0cc3-498a-aab2-ec4cbafbb046",
   "metadata": {},
   "source": [
    "21. Write a Pandas program to read only a subset of 3 rows from diamonds\r\n",
    "DataFrame."
   ]
  },
  {
   "cell_type": "code",
   "execution_count": 43,
   "id": "26236bd5-88ee-4c08-ab38-e78df41d71b9",
   "metadata": {},
   "outputs": [
    {
     "name": "stdout",
     "output_type": "stream",
     "text": [
      "       carat        cut color clarity  depth  table  price     x     y     z\n",
      "53774   0.79       Good     G     SI1   63.6   57.0   2726  5.86  5.84  3.72\n",
      "32026   0.43      Ideal     H     VS2   62.3   54.0    778  4.85  4.88  3.03\n",
      "44762   0.52  Very Good     G     VS1   59.5   58.0   1621  5.21  5.28  3.12\n"
     ]
    }
   ],
   "source": [
    "tmdf = df.copy()\n",
    "# ------------------------------------------------------------\n",
    "subset = tmdf.sample(3)\n",
    "print(subset)\n",
    "# ------------------------------------------------------------\n",
    "del tmdf"
   ]
  },
  {
   "cell_type": "markdown",
   "id": "c8646864-2b99-4f25-9932-24b85ea4e418",
   "metadata": {},
   "source": [
    "22. Write a Pandas program to iterate through diamonds DataFrame.\r"
   ]
  },
  {
   "cell_type": "code",
   "execution_count": 45,
   "id": "b577cecd-f8ae-42c3-b5bc-255ddfba06af",
   "metadata": {},
   "outputs": [
    {
     "name": "stdout",
     "output_type": "stream",
     "text": [
      "0 carat       0.23\n",
      "cut        Ideal\n",
      "color          E\n",
      "clarity      SI2\n",
      "depth       61.5\n",
      "table       55.0\n",
      "price        326\n",
      "x           3.95\n",
      "y           3.98\n",
      "z           2.43\n",
      "Name: 0, dtype: object\n",
      "1 carat         0.21\n",
      "cut        Premium\n",
      "color            E\n",
      "clarity        SI1\n",
      "depth         59.8\n",
      "table         61.0\n",
      "price          326\n",
      "x             3.89\n",
      "y             3.84\n",
      "z             2.31\n",
      "Name: 1, dtype: object\n",
      "2 carat      0.23\n",
      "cut        Good\n",
      "color         E\n",
      "clarity     VS1\n",
      "depth      56.9\n",
      "table      65.0\n",
      "price       327\n",
      "x          4.05\n",
      "y          4.07\n",
      "z          2.31\n",
      "Name: 2, dtype: object\n",
      "3 carat         0.29\n",
      "cut        Premium\n",
      "color            I\n",
      "clarity        VS2\n",
      "depth         62.4\n",
      "table         58.0\n",
      "price          334\n",
      "x              4.2\n",
      "y             4.23\n",
      "z             2.63\n",
      "Name: 3, dtype: object\n",
      "4 carat      0.31\n",
      "cut        Good\n",
      "color         J\n",
      "clarity     SI2\n",
      "depth      63.3\n",
      "table      58.0\n",
      "price       335\n",
      "x          4.34\n",
      "y          4.35\n",
      "z          2.75\n",
      "Name: 4, dtype: object\n",
      "5 carat           0.24\n",
      "cut        Very Good\n",
      "color              J\n",
      "clarity         VVS2\n",
      "depth           62.8\n",
      "table           57.0\n",
      "price            336\n",
      "x               3.94\n",
      "y               3.96\n",
      "z               2.48\n",
      "Name: 5, dtype: object\n",
      "6 carat           0.24\n",
      "cut        Very Good\n",
      "color              I\n",
      "clarity         VVS1\n",
      "depth           62.3\n",
      "table           57.0\n",
      "price            336\n",
      "x               3.95\n",
      "y               3.98\n",
      "z               2.47\n",
      "Name: 6, dtype: object\n",
      "7 carat           0.26\n",
      "cut        Very Good\n",
      "color              H\n",
      "clarity          SI1\n",
      "depth           61.9\n",
      "table           55.0\n",
      "price            337\n",
      "x               4.07\n",
      "y               4.11\n",
      "z               2.53\n",
      "Name: 7, dtype: object\n",
      "8 carat      0.22\n",
      "cut        Fair\n",
      "color         E\n",
      "clarity     VS2\n",
      "depth      65.1\n",
      "table      61.0\n",
      "price       337\n",
      "x          3.87\n",
      "y          3.78\n",
      "z          2.49\n",
      "Name: 8, dtype: object\n",
      "9 carat           0.23\n",
      "cut        Very Good\n",
      "color              H\n",
      "clarity          VS1\n",
      "depth           59.4\n",
      "table           61.0\n",
      "price            338\n",
      "x                4.0\n",
      "y               4.05\n",
      "z               2.39\n",
      "Name: 9, dtype: object\n",
      "10 carat       0.3\n",
      "cut        Good\n",
      "color         J\n",
      "clarity     SI1\n",
      "depth      64.0\n",
      "table      55.0\n",
      "price       339\n",
      "x          4.25\n",
      "y          4.28\n",
      "z          2.73\n",
      "Name: 10, dtype: object\n"
     ]
    }
   ],
   "source": [
    "tmdf = df.copy()\n",
    "# ------------------------------------------------------------\n",
    "for index, seris in tmdf.iloc[:11 , : ].iterrows():\n",
    "    print(index, seris)\n",
    "# ------------------------------------------------------------\n",
    "del tmdf"
   ]
  },
  {
   "cell_type": "markdown",
   "id": "62ad4836-faf0-4d47-a49f-ed6ab87b1f31",
   "metadata": {},
   "source": [
    "23. Write a Pandas program to drop all non-numeric columns from diamonds\r\n",
    "DataFrame"
   ]
  },
  {
   "cell_type": "code",
   "execution_count": 47,
   "id": "9eeb217b-a7dc-4646-a3ff-9fc15b3a2d8f",
   "metadata": {},
   "outputs": [
    {
     "name": "stdout",
     "output_type": "stream",
     "text": [
      "       carat  depth  table  price     x     y     z\n",
      "0       0.23   61.5   55.0    326  3.95  3.98  2.43\n",
      "1       0.21   59.8   61.0    326  3.89  3.84  2.31\n",
      "2       0.23   56.9   65.0    327  4.05  4.07  2.31\n",
      "3       0.29   62.4   58.0    334  4.20  4.23  2.63\n",
      "4       0.31   63.3   58.0    335  4.34  4.35  2.75\n",
      "...      ...    ...    ...    ...   ...   ...   ...\n",
      "53935   0.72   60.8   57.0   2757  5.75  5.76  3.50\n",
      "53936   0.72   63.1   55.0   2757  5.69  5.75  3.61\n",
      "53937   0.70   62.8   60.0   2757  5.66  5.68  3.56\n",
      "53938   0.86   61.0   58.0   2757  6.15  6.12  3.74\n",
      "53939   0.75   62.2   55.0   2757  5.83  5.87  3.64\n",
      "\n",
      "[53940 rows x 7 columns]\n"
     ]
    }
   ],
   "source": [
    "tmdf = df.copy()\n",
    "# ------------------------------------------------------------\n",
    "non_num_cols = tmdf.select_dtypes(exclude = ['number']).columns.tolist()\n",
    "tmdf.drop(columns = non_num_cols, inplace = True)\n",
    "print(tmdf)\n",
    "# ------------------------------------------------------------\n",
    "del tmdf"
   ]
  },
  {
   "cell_type": "markdown",
   "id": "515764d9-dda4-4450-be1e-5e080c70d8c0",
   "metadata": {},
   "source": [
    "24. Write a Pandas program to include only numeric columns in the diamonds\r\n",
    "DataFrame."
   ]
  },
  {
   "cell_type": "code",
   "execution_count": 49,
   "id": "4c99592f-7ab9-4450-a416-56d80ee4793d",
   "metadata": {},
   "outputs": [
    {
     "name": "stdout",
     "output_type": "stream",
     "text": [
      "       carat  depth  table  price     x     y     z\n",
      "0       0.23   61.5   55.0    326  3.95  3.98  2.43\n",
      "1       0.21   59.8   61.0    326  3.89  3.84  2.31\n",
      "2       0.23   56.9   65.0    327  4.05  4.07  2.31\n",
      "3       0.29   62.4   58.0    334  4.20  4.23  2.63\n",
      "4       0.31   63.3   58.0    335  4.34  4.35  2.75\n",
      "...      ...    ...    ...    ...   ...   ...   ...\n",
      "53935   0.72   60.8   57.0   2757  5.75  5.76  3.50\n",
      "53936   0.72   63.1   55.0   2757  5.69  5.75  3.61\n",
      "53937   0.70   62.8   60.0   2757  5.66  5.68  3.56\n",
      "53938   0.86   61.0   58.0   2757  6.15  6.12  3.74\n",
      "53939   0.75   62.2   55.0   2757  5.83  5.87  3.64\n",
      "\n",
      "[53940 rows x 7 columns]\n"
     ]
    }
   ],
   "source": [
    "tmdf = df.copy()\n",
    "# ------------------------------------------------------------\n",
    "numeric_cols = tmdf.select_dtypes(include = 'number').columns.tolist()\n",
    "tmdf = tmdf[numeric_cols]\n",
    "print(tmdf)\n",
    "# ------------------------------------------------------------\n",
    "del tmdf"
   ]
  },
  {
   "cell_type": "markdown",
   "id": "6765e7a6-7ec2-4b9c-9c25-9076f9f5f4af",
   "metadata": {},
   "source": [
    "25. Write a Pandas program to pass a list of data types to only describe certain\r\n",
    "types of diamonds DataFrame\n",
    "."
   ]
  },
  {
   "cell_type": "code",
   "execution_count": 51,
   "id": "e56e59ba-c447-4149-b8ec-105d7406ec7f",
   "metadata": {},
   "outputs": [
    {
     "name": "stdout",
     "output_type": "stream",
     "text": [
      "          cut  color clarity\n",
      "count   53940  53940   53940\n",
      "unique      5      7       8\n",
      "top     Ideal      G     SI1\n",
      "freq    21551  11292   13065\n"
     ]
    }
   ],
   "source": [
    "tmdf = df.copy()\n",
    "# ------------------------------------------------------------\n",
    "print(tmdf.describe(include = [\"O\"]))\n",
    "# ------------------------------------------------------------\n",
    "del tmdf"
   ]
  },
  {
   "cell_type": "markdown",
   "id": "af6b33c6-a5ea-496f-99d4-3acff448b995",
   "metadata": {},
   "source": [
    "26. Write a Pandas program to calculate the mean of each numeric column of\r\n",
    "diamonds DataFrame."
   ]
  },
  {
   "cell_type": "code",
   "execution_count": 53,
   "id": "46e6d940-5cd8-47bb-9296-1969c02bed67",
   "metadata": {},
   "outputs": [
    {
     "name": "stdout",
     "output_type": "stream",
     "text": [
      "carat       0.797940\n",
      "depth      61.749405\n",
      "table      57.457184\n",
      "price    3932.799722\n",
      "x           5.731157\n",
      "y           5.734526\n",
      "z           3.538734\n",
      "dtype: float64\n"
     ]
    }
   ],
   "source": [
    "tmdf = df.copy()\n",
    "# ------------------------------------------------------------\n",
    "print(tmdf.mean(numeric_only = True))\n",
    "# ------------------------------------------------------------\n",
    "del tmdf"
   ]
  },
  {
   "cell_type": "markdown",
   "id": "5b264c2f-e06f-427c-8b23-e2b796bce5af",
   "metadata": {},
   "source": [
    "27. Write a Pandas program to calculate the mean of each row of diamonds\r\n",
    "DataFrame."
   ]
  },
  {
   "cell_type": "code",
   "execution_count": 55,
   "id": "d1b97993-1e55-4c00-bc3e-eed4fcd9872a",
   "metadata": {},
   "outputs": [
    {
     "name": "stdout",
     "output_type": "stream",
     "text": [
      "0         64.727143\n",
      "1         65.292857\n",
      "2         65.651429\n",
      "3         66.535714\n",
      "4         66.864286\n",
      "            ...    \n",
      "53935    412.932857\n",
      "53936    412.981429\n",
      "53937    413.628571\n",
      "53938    413.267143\n",
      "53939    412.898571\n",
      "Length: 53940, dtype: float64\n"
     ]
    }
   ],
   "source": [
    "tmdf = df.copy()\n",
    "# ------------------------------------------------------------\n",
    "print(tmdf.mean(axis = 1, numeric_only = True))\n",
    "# ------------------------------------------------------------\n",
    "del tmdf"
   ]
  },
  {
   "cell_type": "markdown",
   "id": "264a7625-5c76-4df2-a675-b6a8e72bf3d3",
   "metadata": {},
   "source": [
    "28. Write a Pandas program to calculate the mean of price for each cut of\r\n",
    "diamonds DataFrame.\r"
   ]
  },
  {
   "cell_type": "code",
   "execution_count": 57,
   "id": "59ee423f-fb57-447f-a926-264fcfef6548",
   "metadata": {},
   "outputs": [
    {
     "name": "stdout",
     "output_type": "stream",
     "text": [
      "cut\n",
      "Fair         4358.757764\n",
      "Good         3928.864452\n",
      "Ideal        3457.541970\n",
      "Premium      4584.257704\n",
      "Very Good    3981.759891\n",
      "Name: price, dtype: float64\n"
     ]
    }
   ],
   "source": [
    "tmdf = df.copy()\n",
    "# ------------------------------------------------------------\n",
    "print(tmdf.groupby(\"cut\")['price'].mean())\n",
    "# ------------------------------------------------------------\n",
    "del tmdf"
   ]
  },
  {
   "cell_type": "markdown",
   "id": "a952def9-9dc9-4019-b9fa-58aa4c27a1cc",
   "metadata": {},
   "source": [
    "29. Write a Pandas program to calculate count, minimum, maximum price for\r\n",
    "each cut of diamonds DataFrame."
   ]
  },
  {
   "cell_type": "code",
   "execution_count": 59,
   "id": "041c6387-f4ca-4959-8269-7370c8585ecf",
   "metadata": {},
   "outputs": [
    {
     "name": "stdout",
     "output_type": "stream",
     "text": [
      "           count  min    max\n",
      "cut                         \n",
      "Fair        1610  337  18574\n",
      "Good        4906  327  18788\n",
      "Ideal      21551  326  18806\n",
      "Premium    13791  326  18823\n",
      "Very Good  12082  336  18818\n"
     ]
    }
   ],
   "source": [
    "tmdf = df.copy()\n",
    "# ------------------------------------------------------------\n",
    "print(tmdf.groupby(\"cut\")[\"price\"].agg([\"count\", \"min\", \"max\"]))\n",
    "# ------------------------------------------------------------\n",
    "del tmdf"
   ]
  },
  {
   "cell_type": "markdown",
   "id": "172f44ac-65fb-44bf-aab0-4ea6f54414b5",
   "metadata": {},
   "source": [
    "30. Write a Pandas program to create a side-by-side bar plot of the diamonds\r\n",
    "DataFrame."
   ]
  },
  {
   "cell_type": "code",
   "execution_count": 61,
   "id": "e5924167-a8f0-49cb-81e1-4da741055ffa",
   "metadata": {},
   "outputs": [
    {
     "data": {
      "image/png": "[encoded data removed]",
      "text/plain": [
       "<Figure size 1000x600 with 7 Axes>"
      ]
     },
     "metadata": {},
     "output_type": "display_data"
    }
   ],
   "source": [
    "tmdf = df.copy()\n",
    "# ------------------------------------------------------------\n",
    "grouped = tmdf.groupby(['cut', 'color'])['price'].mean().unstack()\n",
    "grouped.plot(kind='bar', figsize=(10, 6), subplots = True)\n",
    "# ------------------------------------------------------------\n",
    "del tmdf"
   ]
  },
  {
   "cell_type": "markdown",
   "id": "4722a881-d913-4eba-aab1-f0f9e4349d71",
   "metadata": {},
   "source": [
    "31. Write a Pandas program to count how many times each value in cut series of\r\n",
    "diamonds DataFrame occurs.\r"
   ]
  },
  {
   "cell_type": "code",
   "execution_count": 63,
   "id": "d3f829f4-c0cd-4bdc-b35c-9afeeaa56a75",
   "metadata": {},
   "outputs": [
    {
     "name": "stdout",
     "output_type": "stream",
     "text": [
      "cut      \n",
      "Ideal        21551\n",
      "Premium      13791\n",
      "Very Good    12082\n",
      "Good          4906\n",
      "Fair          1610\n",
      "Name: count, dtype: int64\n"
     ]
    }
   ],
   "source": [
    "tmdf = df.copy()\n",
    "# ------------------------------------------------------------\n",
    "print(tmdf.value_counts(subset = [\"cut\"]))\n",
    "# ------------------------------------------------------------\n",
    "del tmdf"
   ]
  },
  {
   "cell_type": "markdown",
   "id": "8bfecc90-8801-441d-9770-50a71cd6fc5e",
   "metadata": {},
   "source": [
    "32. Write a Pandas program to display percentages of each value of cut series\n",
    "occurs in diamonds DataFrame."
   ]
  },
  {
   "cell_type": "code",
   "execution_count": 65,
   "id": "6d6af444-e60e-4887-9a42-6f227eee21c3",
   "metadata": {},
   "outputs": [
    {
     "name": "stdout",
     "output_type": "stream",
     "text": [
      "cut\n",
      "Ideal        39.953652\n",
      "Premium      25.567297\n",
      "Very Good    22.398962\n",
      "Good          9.095291\n",
      "Fair          2.984798\n",
      "Name: proportion, dtype: float64\n"
     ]
    }
   ],
   "source": [
    "tmdf = df.copy()\n",
    "# ------------------------------------------------------------\n",
    "print(tmdf[\"cut\"].value_counts(normalize = True) * 100)\n",
    "# ------------------------------------------------------------\n",
    "del tmdf"
   ]
  },
  {
   "cell_type": "markdown",
   "id": "f5a1cc08-6be6-4841-adc7-3b6372411883",
   "metadata": {},
   "source": [
    "33. Write a Pandas program to display the unique values in cut series of\n",
    "diamonds DataFrame.\n"
   ]
  },
  {
   "cell_type": "code",
   "execution_count": 67,
   "id": "8904ae7e-73f7-451b-b4de-94c9fa9366ad",
   "metadata": {},
   "outputs": [
    {
     "name": "stdout",
     "output_type": "stream",
     "text": [
      "['Ideal' 'Premium' 'Good' 'Very Good' 'Fair']\n"
     ]
    }
   ],
   "source": [
    "tmdf = df.copy()\n",
    "# ------------------------------------------------------------\n",
    "print(tmdf[\"cut\"].unique())\n",
    "# ------------------------------------------------------------\n",
    "del tmdf"
   ]
  },
  {
   "cell_type": "markdown",
   "id": "58c20429-76dd-4bdd-963f-2a9d44133d35",
   "metadata": {},
   "source": [
    "34. Write a Pandas program to count the number of unique values in cut series of\n",
    "diamonds DataFrame.\n"
   ]
  },
  {
   "cell_type": "code",
   "execution_count": 69,
   "id": "97a305b8-84c7-412e-a675-088b11f9c1ec",
   "metadata": {},
   "outputs": [
    {
     "name": "stdout",
     "output_type": "stream",
     "text": [
      "5\n"
     ]
    }
   ],
   "source": [
    "tmdf = df.copy()\n",
    "# ------------------------------------------------------------\n",
    "print(tmdf[\"cut\"].nunique())\n",
    "# ------------------------------------------------------------\n",
    "del tmdf"
   ]
  },
  {
   "cell_type": "markdown",
   "id": "c860f3b8-8894-4c40-ad49-0b9db2554df3",
   "metadata": {},
   "source": [
    "35. Write a Pandas program to compute a cross-tabulation of two Series in\r\n",
    "diamonds DataFrame."
   ]
  },
  {
   "cell_type": "code",
   "execution_count": 71,
   "id": "90114f6a-1a3d-47e2-8d91-53d14463b6dd",
   "metadata": {},
   "outputs": [
    {
     "name": "stdout",
     "output_type": "stream",
     "text": [
      "color         D     E     F     G     H     I    J\n",
      "cut                                               \n",
      "Fair        163   224   312   314   303   175  119\n",
      "Good        662   933   909   871   702   522  307\n",
      "Ideal      2834  3903  3826  4884  3115  2093  896\n",
      "Premium    1603  2337  2331  2924  2360  1428  808\n",
      "Very Good  1513  2400  2164  2299  1824  1204  678\n"
     ]
    }
   ],
   "source": [
    "tmdf = df.copy()\n",
    "# ------------------------------------------------------------\n",
    "print(pd.crosstab(tmdf[\"cut\"], tmdf[\"color\"]))\n",
    "# ------------------------------------------------------------\n",
    "del tmdf"
   ]
  },
  {
   "cell_type": "markdown",
   "id": "398b6b25-1cd6-4b59-b057-cd30f12e5e0f",
   "metadata": {},
   "source": [
    "36. Write a Pandas program to calculate various summary statistics of cut series\n",
    "of diamonds DataFrame.\n"
   ]
  },
  {
   "cell_type": "code",
   "execution_count": 73,
   "id": "af595794-0bdc-491b-b3ae-14b65fcd4e22",
   "metadata": {},
   "outputs": [
    {
     "name": "stdout",
     "output_type": "stream",
     "text": [
      "count     53940\n",
      "unique        5\n",
      "top       Ideal\n",
      "freq      21551\n",
      "Name: cut, dtype: object\n"
     ]
    }
   ],
   "source": [
    "tmdf = df.copy()\n",
    "# ------------------------------------------------------------\n",
    "print(tmdf[\"cut\"].describe())\n",
    "# ------------------------------------------------------------\n",
    "del tmdf"
   ]
  },
  {
   "cell_type": "markdown",
   "id": "68d4b3f2-980b-4927-bcbe-e60bb0b18a42",
   "metadata": {},
   "source": [
    "37. Write a Pandas program to create a histogram of the 'carat' Series\n",
    "(distribution of a numerical variable) of diamonds DataFrame.\n"
   ]
  },
  {
   "cell_type": "code",
   "execution_count": 75,
   "id": "99ac320f-fa38-4f34-84a0-ff8b54ab24f8",
   "metadata": {},
   "outputs": [
    {
     "data": {
      "image/png": "[encoded data removed]",
      "text/plain": [
       "<Figure size 640x480 with 1 Axes>"
      ]
     },
     "metadata": {},
     "output_type": "display_data"
    }
   ],
   "source": [
    "tmdf = df.copy()\n",
    "# ------------------------------------------------------------\n",
    "tmdf[\"carat\"].plot(kind = \"hist\", edgecolor = 'black', bins = 40)\n",
    "# ------------------------------------------------------------\n",
    "del tmdf"
   ]
  },
  {
   "cell_type": "markdown",
   "id": "7bf48309-b138-4991-a17f-aeb48340f01c",
   "metadata": {},
   "source": [
    "38. Write a Pandas program to create a bar plot of the 'value_counts' for the 'cut'\n",
    "series of diamonds DataFrame."
   ]
  },
  {
   "cell_type": "code",
   "execution_count": 77,
   "id": "095e591c-39be-4c37-8e23-5e6d66f182ad",
   "metadata": {},
   "outputs": [
    {
     "data": {
      "image/png": "[encoded data removed]",
      "text/plain": [
       "<Figure size 640x480 with 1 Axes>"
      ]
     },
     "metadata": {},
     "output_type": "display_data"
    }
   ],
   "source": [
    "tmdf = df.copy()\n",
    "# ------------------------------------------------------------\n",
    "tmdf[\"cut\"].value_counts().plot(kind = \"bar\", edgecolor = 'black')\n",
    "# ------------------------------------------------------------\n",
    "del tmdf"
   ]
  },
  {
   "cell_type": "markdown",
   "id": "77642176-534d-4364-a72c-a6f50d46d600",
   "metadata": {},
   "source": [
    "39. Write a Pandas program to create a DataFrame of booleans (True if missing,\r\n",
    "False if not missing) from diamonds DataFrame."
   ]
  },
  {
   "cell_type": "code",
   "execution_count": 79,
   "id": "caeba063-7553-4c2a-85e3-e0016927f252",
   "metadata": {},
   "outputs": [
    {
     "name": "stdout",
     "output_type": "stream",
     "text": [
      "       carat    cut  color  clarity  depth  table  price      x      y      z\n",
      "0      False  False  False    False  False  False  False  False  False  False\n",
      "1      False  False  False    False  False  False  False  False  False  False\n",
      "2      False  False  False    False  False  False  False  False  False  False\n",
      "3      False  False  False    False  False  False  False  False  False  False\n",
      "4      False  False  False    False  False  False  False  False  False  False\n",
      "...      ...    ...    ...      ...    ...    ...    ...    ...    ...    ...\n",
      "53935  False  False  False    False  False  False  False  False  False  False\n",
      "53936  False  False  False    False  False  False  False  False  False  False\n",
      "53937  False  False  False    False  False  False  False  False  False  False\n",
      "53938  False  False  False    False  False  False  False  False  False  False\n",
      "53939  False  False  False    False  False  False  False  False  False  False\n",
      "\n",
      "[53940 rows x 10 columns]\n"
     ]
    }
   ],
   "source": [
    "tmdf = df.copy()\n",
    "# ------------------------------------------------------------\n",
    "print(tmdf.isna())\n",
    "# ------------------------------------------------------------\n",
    "del tmdf"
   ]
  },
  {
   "cell_type": "markdown",
   "id": "4ad69670-4e35-4d13-a784-fb8d491ea6ef",
   "metadata": {},
   "source": [
    "40. Write a Pandas program to count the number of missing values in each\n",
    "Series of diamonds DataFrame."
   ]
  },
  {
   "cell_type": "code",
   "execution_count": 81,
   "id": "8f7b0c52-945b-4d9e-a298-6ce76a825e2e",
   "metadata": {},
   "outputs": [
    {
     "name": "stdout",
     "output_type": "stream",
     "text": [
      "carat      0\n",
      "cut        0\n",
      "color      0\n",
      "clarity    0\n",
      "depth      0\n",
      "table      0\n",
      "price      0\n",
      "x          0\n",
      "y          0\n",
      "z          0\n",
      "dtype: int64\n"
     ]
    }
   ],
   "source": [
    "tmdf = df.copy()\n",
    "# ------------------------------------------------------------\n",
    "print(tmdf.isna().sum())\n",
    "# ------------------------------------------------------------\n",
    "del tmdf"
   ]
  },
  {
   "cell_type": "markdown",
   "id": "57a75536-c6c4-4e0f-9da7-ef6e50afd744",
   "metadata": {},
   "source": [
    "41. Write a Pandas program to check the number of rows and columns and drop\n",
    "those row if 'any' values are missing in a row of diamonds DataFrame.\n"
   ]
  },
  {
   "cell_type": "code",
   "execution_count": 83,
   "id": "3dc7b8e7-a2f0-402b-ba07-48a8b2f1c708",
   "metadata": {},
   "outputs": [
    {
     "name": "stdout",
     "output_type": "stream",
     "text": [
      "carat      0\n",
      "cut        0\n",
      "color      0\n",
      "clarity    0\n",
      "depth      0\n",
      "table      0\n",
      "price      0\n",
      "x          0\n",
      "y          0\n",
      "z          0\n",
      "dtype: int64\n"
     ]
    }
   ],
   "source": [
    "tmdf = df.copy()\n",
    "# ------------------------------------------------------------\n",
    "tmdf.dropna(axis = 'index', inplace = True)\n",
    "print(tmdf.isna().sum())\n",
    "# ------------------------------------------------------------\n",
    "del tmdf"
   ]
  },
  {
   "cell_type": "markdown",
   "id": "dda651bc-5f5e-4f93-9d23-48b5312c08f6",
   "metadata": {},
   "source": [
    "42. Write a Pandas program to drop a row if any or all values in a row are\n",
    "missing of diamonds DataFrame on two specific columns.\n"
   ]
  },
  {
   "cell_type": "code",
   "execution_count": 85,
   "id": "f39bcce2-0e17-468a-bdcf-fa7a5609dc61",
   "metadata": {},
   "outputs": [
    {
     "name": "stdout",
     "output_type": "stream",
     "text": [
      "carat      0\n",
      "cut        0\n",
      "color      0\n",
      "clarity    0\n",
      "depth      0\n",
      "table      0\n",
      "price      0\n",
      "x          0\n",
      "y          0\n",
      "z          0\n",
      "dtype: int64\n"
     ]
    }
   ],
   "source": [
    "tmdf = df.copy()\n",
    "# ------------------------------------------------------------\n",
    "tmdf.dropna(axis = 'index', inplace = True, subset = [\"x\", \"y\", \"z\"])\n",
    "print(tmdf.isna().sum())\n",
    "# ------------------------------------------------------------\n",
    "del tmdf"
   ]
  },
  {
   "cell_type": "markdown",
   "id": "e1d82d60-9155-42ee-acfc-8f43995115e0",
   "metadata": {},
   "source": [
    "43. Write a Pandas program to set an existing column as the index of diamonds\r\n",
    "DataFrame."
   ]
  },
  {
   "cell_type": "code",
   "execution_count": 87,
   "id": "ca285647-6261-4ffa-8958-0d0d4f664e45",
   "metadata": {},
   "outputs": [
    {
     "name": "stdout",
     "output_type": "stream",
     "text": [
      "             carat        cut color clarity  depth  table  price     x     y  \\\n",
      "      table                                                                    \n",
      "0     55.0    0.23      Ideal     E     SI2   61.5   55.0    326  3.95  3.98   \n",
      "1     61.0    0.21    Premium     E     SI1   59.8   61.0    326  3.89  3.84   \n",
      "2     65.0    0.23       Good     E     VS1   56.9   65.0    327  4.05  4.07   \n",
      "3     58.0    0.29    Premium     I     VS2   62.4   58.0    334  4.20  4.23   \n",
      "4     58.0    0.31       Good     J     SI2   63.3   58.0    335  4.34  4.35   \n",
      "...            ...        ...   ...     ...    ...    ...    ...   ...   ...   \n",
      "53935 57.0    0.72      Ideal     D     SI1   60.8   57.0   2757  5.75  5.76   \n",
      "53936 55.0    0.72       Good     D     SI1   63.1   55.0   2757  5.69  5.75   \n",
      "53937 60.0    0.70  Very Good     D     SI1   62.8   60.0   2757  5.66  5.68   \n",
      "53938 58.0    0.86    Premium     H     SI2   61.0   58.0   2757  6.15  6.12   \n",
      "53939 55.0    0.75      Ideal     D     SI2   62.2   55.0   2757  5.83  5.87   \n",
      "\n",
      "                z  \n",
      "      table        \n",
      "0     55.0   2.43  \n",
      "1     61.0   2.31  \n",
      "2     65.0   2.31  \n",
      "3     58.0   2.63  \n",
      "4     58.0   2.75  \n",
      "...           ...  \n",
      "53935 57.0   3.50  \n",
      "53936 55.0   3.61  \n",
      "53937 60.0   3.56  \n",
      "53938 58.0   3.74  \n",
      "53939 55.0   3.64  \n",
      "\n",
      "[53940 rows x 10 columns]\n"
     ]
    }
   ],
   "source": [
    "tmdf = df.copy()\n",
    "# ------------------------------------------------------------\n",
    "# Setting table column as an index, if append = True, the new index will be appended to existing one\n",
    "tmdf.set_index(keys = tmdf['table'], append = True, inplace = True)\n",
    "print(tmdf)\n",
    "# ------------------------------------------------------------\n",
    "del tmdf\n"
   ]
  },
  {
   "cell_type": "markdown",
   "id": "013f8b53-3aa7-4441-b399-73e8586d038f",
   "metadata": {},
   "source": [
    "44. Write a Pandas program to set an existing column as the index of diamonds\n",
    "DataFrame and restore the index name, and move the index back to a column"
   ]
  },
  {
   "cell_type": "code",
   "execution_count": 89,
   "id": "5b5b0b20-1a5b-439b-92e8-5553f5a2f0d0",
   "metadata": {},
   "outputs": [
    {
     "name": "stdout",
     "output_type": "stream",
     "text": [
      "<class 'pandas.core.frame.DataFrame'>\n",
      "RangeIndex: 53940 entries, 0 to 53939\n",
      "Data columns (total 10 columns):\n",
      " #   Column   Non-Null Count  Dtype  \n",
      "---  ------   --------------  -----  \n",
      " 0   carat    53940 non-null  float64\n",
      " 1   cut      53940 non-null  object \n",
      " 2   color    53940 non-null  object \n",
      " 3   clarity  53940 non-null  object \n",
      " 4   depth    53940 non-null  float64\n",
      " 5   table    53940 non-null  float64\n",
      " 6   price    53940 non-null  int64  \n",
      " 7   x        53940 non-null  float64\n",
      " 8   y        53940 non-null  float64\n",
      " 9   z        53940 non-null  float64\n",
      "dtypes: float64(6), int64(1), object(3)\n",
      "memory usage: 4.1+ MB\n",
      "<class 'pandas.core.frame.DataFrame'>\n",
      "Index: 53940 entries, Ideal to Ideal\n",
      "Data columns (total 9 columns):\n",
      " #   Column   Non-Null Count  Dtype  \n",
      "---  ------   --------------  -----  \n",
      " 0   carat    53940 non-null  float64\n",
      " 1   color    53940 non-null  object \n",
      " 2   clarity  53940 non-null  object \n",
      " 3   depth    53940 non-null  float64\n",
      " 4   table    53940 non-null  float64\n",
      " 5   price    53940 non-null  int64  \n",
      " 6   x        53940 non-null  float64\n",
      " 7   y        53940 non-null  float64\n",
      " 8   z        53940 non-null  float64\n",
      "dtypes: float64(6), int64(1), object(2)\n",
      "memory usage: 4.1+ MB\n",
      "<class 'pandas.core.frame.DataFrame'>\n",
      "RangeIndex: 53940 entries, 0 to 53939\n",
      "Data columns (total 10 columns):\n",
      " #   Column   Non-Null Count  Dtype  \n",
      "---  ------   --------------  -----  \n",
      " 0   cut      53940 non-null  object \n",
      " 1   carat    53940 non-null  float64\n",
      " 2   color    53940 non-null  object \n",
      " 3   clarity  53940 non-null  object \n",
      " 4   depth    53940 non-null  float64\n",
      " 5   table    53940 non-null  float64\n",
      " 6   price    53940 non-null  int64  \n",
      " 7   x        53940 non-null  float64\n",
      " 8   y        53940 non-null  float64\n",
      " 9   z        53940 non-null  float64\n",
      "dtypes: float64(6), int64(1), object(3)\n",
      "memory usage: 4.1+ MB\n"
     ]
    }
   ],
   "source": [
    "tmdf = df.copy()\n",
    "# ------------------------------------------------------------\n",
    "tmdf.info()\n",
    "tmdf.set_index('cut', inplace = True)\n",
    "tmdf.info()\n",
    "tmdf.reset_index(inplace = True)\n",
    "tmdf.info()\n",
    "# ------------------------------------------------------------\n",
    "del tmdf\n"
   ]
  },
  {
   "cell_type": "markdown",
   "id": "ee9bbae0-079e-4b09-adf7-ba9ebc5acc39",
   "metadata": {},
   "source": [
    "45. Write a Pandas program to access a specified Series index and the Series\n",
    "values of diamonds DataFrame"
   ]
  },
  {
   "cell_type": "code",
   "execution_count": 91,
   "id": "aba8864f-6bbe-4380-8d90-da459ac81e8b",
   "metadata": {},
   "outputs": [
    {
     "name": "stdout",
     "output_type": "stream",
     "text": [
      "0            Ideal\n",
      "1          Premium\n",
      "2             Good\n",
      "3          Premium\n",
      "4             Good\n",
      "           ...    \n",
      "53935        Ideal\n",
      "53936         Good\n",
      "53937    Very Good\n",
      "53938      Premium\n",
      "53939        Ideal\n",
      "Name: cut, Length: 53940, dtype: object\n",
      "['Ideal' 'Premium' 'Good' ... 'Very Good' 'Premium' 'Ideal']\n",
      "\n",
      "\n",
      "\n"
     ]
    }
   ],
   "source": [
    "tmdf = df.copy()\n",
    "# ------------------------------------------------------------\n",
    "ser = \"cut\"\n",
    "print(tmdf[ser])\n",
    "print(tmdf[ser].values)\n",
    "# ------------------------------------------------------------\n",
    "del tmdf\n",
    "print(\"\\n\\n\")"
   ]
  },
  {
   "cell_type": "markdown",
   "id": "42eaf75f-312b-41c0-828b-d78181da628b",
   "metadata": {},
   "source": [
    "46. Write a Pandas program to sort a Series by its values and index of diamonds\n",
    "DataFrame."
   ]
  },
  {
   "cell_type": "code",
   "execution_count": 93,
   "id": "fff99f01-13c2-478e-a1f3-b5a5a1f57229",
   "metadata": {},
   "outputs": [
    {
     "name": "stdout",
     "output_type": "stream",
     "text": [
      "0          326\n",
      "1          326\n",
      "2          327\n",
      "3          334\n",
      "4          335\n",
      "         ...  \n",
      "53935    18803\n",
      "53936    18804\n",
      "53937    18806\n",
      "53938    18818\n",
      "53939    18823\n",
      "Name: price, Length: 53940, dtype: int64\n",
      "\n",
      "\n",
      "\n"
     ]
    }
   ],
   "source": [
    "tmdf = df.copy()\n",
    "# ------------------------------------------------------------\n",
    "ser = tmdf['price'].copy()\n",
    "ser = ser.sort_values(ascending = True, ignore_index = True)\n",
    "print(ser)\n",
    "# ------------------------------------------------------------\n",
    "del tmdf\n",
    "print(\"\\n\\n\")"
   ]
  },
  {
   "cell_type": "markdown",
   "id": "0af852e5-bf31-4b22-b665-f055f39f1dcf",
   "metadata": {},
   "source": [
    "#### 47. Write a Pandas program to calculate the multiply of length, width and depth for each cut of diamonds DataFrame."
   ]
  },
  {
   "cell_type": "code",
   "execution_count": 95,
   "id": "9e1d692e-171d-428b-a169-6fc68fb795d1",
   "metadata": {},
   "outputs": [
    {
     "name": "stdout",
     "output_type": "stream",
     "text": [
      "0         38.202030\n",
      "1         34.505856\n",
      "2         38.076885\n",
      "3         46.724580\n",
      "4         51.917250\n",
      "            ...    \n",
      "53935    115.920000\n",
      "53936    118.110175\n",
      "53937    114.449728\n",
      "53938    140.766120\n",
      "53939    124.568444\n",
      "Length: 53940, dtype: float64\n",
      "\n",
      "\n",
      "\n",
      "\n",
      "\n"
     ]
    }
   ],
   "source": [
    "tmdf = df.copy()\n",
    "# ------------------------------------------------------------\n",
    "mul = tmdf['x'] * tmdf['y'] * tmdf['z']\n",
    "print(mul)\n",
    "# ------------------------------------------------------------\n",
    "del tmdf\n",
    "print(\"\\n\\n\\n\\n\")"
   ]
  },
  {
   "cell_type": "markdown",
   "id": "a3b06569-6db6-45e6-8314-d79c3f621794",
   "metadata": {},
   "source": [
    "#### 48. Write a Pandas program to concatenate the diamonds DataFrame with the 'color' Series."
   ]
  },
  {
   "cell_type": "code",
   "execution_count": 97,
   "id": "1b0027c5-95ff-455c-b81b-5bea882bd49a",
   "metadata": {},
   "outputs": [
    {
     "name": "stdout",
     "output_type": "stream",
     "text": [
      "       carat        cut color  clarity  depth  table  price     x     y     z\n",
      "0       0.23      Ideal     E  SI2 - E   61.5   55.0    326  3.95  3.98  2.43\n",
      "1       0.21    Premium     E  SI1 - E   59.8   61.0    326  3.89  3.84  2.31\n",
      "2       0.23       Good     E  VS1 - E   56.9   65.0    327  4.05  4.07  2.31\n",
      "3       0.29    Premium     I  VS2 - I   62.4   58.0    334  4.20  4.23  2.63\n",
      "4       0.31       Good     J  SI2 - J   63.3   58.0    335  4.34  4.35  2.75\n",
      "...      ...        ...   ...      ...    ...    ...    ...   ...   ...   ...\n",
      "53935   0.72      Ideal     D  SI1 - D   60.8   57.0   2757  5.75  5.76  3.50\n",
      "53936   0.72       Good     D  SI1 - D   63.1   55.0   2757  5.69  5.75  3.61\n",
      "53937   0.70  Very Good     D  SI1 - D   62.8   60.0   2757  5.66  5.68  3.56\n",
      "53938   0.86    Premium     H  SI2 - H   61.0   58.0   2757  6.15  6.12  3.74\n",
      "53939   0.75      Ideal     D  SI2 - D   62.2   55.0   2757  5.83  5.87  3.64\n",
      "\n",
      "[53940 rows x 10 columns]\n",
      "\n",
      "\n",
      "\n",
      "\n",
      "\n"
     ]
    }
   ],
   "source": [
    "tmdf = df.copy()\n",
    "# ------------------------------------------------------------\n",
    "# Concatenating two series with each other \n",
    "tmdf[\"clarity\"] = tmdf[\"clarity\"] + \" - \" + tmdf[\"color\"]\n",
    "print(tmdf)\n",
    "# ------------------------------------------------------------\n",
    "del tmdf\n",
    "print(\"\\n\\n\\n\\n\")"
   ]
  },
  {
   "cell_type": "markdown",
   "id": "a87656e7-622d-46e9-b78d-0a013be4a6f9",
   "metadata": {},
   "source": [
    "#### 49. Write a Pandas program to read specified rows and all columns of diamonds DataFrame."
   ]
  },
  {
   "cell_type": "code",
   "execution_count": 99,
   "id": "f1ea93c0-844c-4e10-8f30-c35d6e07293c",
   "metadata": {},
   "outputs": [
    {
     "name": "stdout",
     "output_type": "stream",
     "text": [
      "     carat        cut color clarity  depth  table  price     x     y     z\n",
      "50    0.24  Very Good     F     SI1   60.9   61.0    404  4.02  4.03  2.45\n",
      "52    0.32      Ideal     I     SI1   60.9   55.0    404  4.45  4.48  2.72\n",
      "54    0.22    Premium     D     VS2   59.3   62.0    404  3.91  3.88  2.31\n",
      "56    0.30    Premium     J     SI2   59.3   61.0    405  4.43  4.38  2.61\n",
      "58    0.30  Very Good     I     SI1   63.0   57.0    405  4.28  4.32  2.71\n",
      "60    0.35      Ideal     I     VS1   60.9   57.0    552  4.54  4.59  2.78\n",
      "62    0.30      Ideal     D     SI1   62.5   57.0    552  4.29  4.32  2.69\n",
      "64    0.42    Premium     I     SI2   61.5   59.0    552  4.78  4.84  2.96\n",
      "66    0.32      Ideal     I    VVS1   62.0   55.3    553  4.39  4.42  2.73\n",
      "68    0.31    Premium     G     SI1   61.8   58.0    553  4.35  4.32  2.68\n",
      "70    0.24  Very Good     D    VVS1   61.5   60.0    553  3.97  4.00  2.45\n",
      "72    0.30    Premium     H     SI1   62.9   59.0    554  4.28  4.24  2.68\n",
      "74    0.30       Good     H     SI1   63.7   57.0    554  4.28  4.26  2.72\n",
      "76    0.26  Very Good     E    VVS2   59.9   58.0    554  4.15  4.23  2.51\n",
      "78    0.26  Very Good     D    VVS2   62.8   60.0    554  4.01  4.05  2.53\n",
      "80    0.26  Very Good     E    VVS1   63.4   59.0    554  4.00  4.04  2.55\n",
      "82    0.26      Ideal     E    VVS2   62.9   58.0    554  4.02  4.06  2.54\n",
      "84    0.26       Good     E    VVS1   57.9   60.0    554  4.22  4.25  2.45\n",
      "86    0.24    Premium     H    VVS1   61.2   58.0    554  4.01  3.96  2.44\n",
      "88    0.24    Premium     H    VVS2   60.7   58.0    554  4.07  4.04  2.46\n",
      "90    0.70      Ideal     E     SI1   62.5   57.0   2757  5.70  5.72  3.57\n",
      "92    0.70      Ideal     G     VS2   61.6   56.0   2757  5.70  5.67  3.50\n",
      "94    0.78  Very Good     G     SI2   63.8   56.0   2759  5.81  5.85  3.72\n",
      "96    0.70       Good     F     VS1   59.4   62.0   2759  5.71  5.76  3.40\n",
      "98    0.73  Very Good     E     SI1   61.6   59.0   2760  5.77  5.78  3.56\n",
      "100   0.75  Very Good     D     SI1   63.2   56.0   2760  5.80  5.75  3.65\n",
      "\n",
      "\n",
      "\n",
      "\n",
      "\n"
     ]
    }
   ],
   "source": [
    "tmdf = df.copy()\n",
    "# ------------------------------------------------------------\n",
    "# getting rows with even index between inclusive range of 50 and 100\n",
    "print(tmdf.iloc[ 50 : 101 : 2 , : : ])\n",
    "# ------------------------------------------------------------\n",
    "del tmdf\n",
    "print(\"\\n\\n\\n\\n\")"
   ]
  },
  {
   "cell_type": "markdown",
   "id": "a6f147b0-10ad-435c-bafb-e3b46af2b6ee",
   "metadata": {},
   "source": [
    "#### 50. Write a Pandas program to read rows 0, 5, 7 and all columns of diamonds DataFrame."
   ]
  },
  {
   "cell_type": "code",
   "execution_count": 101,
   "id": "567ac857-854c-46ee-a9d0-bc82657971e3",
   "metadata": {},
   "outputs": [
    {
     "name": "stdout",
     "output_type": "stream",
     "text": [
      "   carat        cut color clarity  depth  table  price     x     y     z\n",
      "0   0.23      Ideal     E     SI2   61.5   55.0    326  3.95  3.98  2.43\n",
      "5   0.24  Very Good     J    VVS2   62.8   57.0    336  3.94  3.96  2.48\n",
      "7   0.26  Very Good     H     SI1   61.9   55.0    337  4.07  4.11  2.53\n",
      "\n",
      "\n",
      "\n",
      "\n",
      "\n"
     ]
    }
   ],
   "source": [
    "tmdf = df.copy()\n",
    "# ------------------------------------------------------------\n",
    "print(tmdf.iloc[[0, 5, 7]])\n",
    "# ------------------------------------------------------------\n",
    "del tmdf\n",
    "print(\"\\n\\n\\n\\n\")"
   ]
  },
  {
   "cell_type": "markdown",
   "id": "5d6950a1-1db8-41e5-8e9b-57ccc71269db",
   "metadata": {},
   "source": [
    "#### 51. Write a Pandas program to read rows 2 through 5 and all columns of df.ataFrame."
   ]
  },
  {
   "cell_type": "code",
   "execution_count": 103,
   "id": "79f72b6f-7ac4-4cb2-8f67-a7788f0e009d",
   "metadata": {},
   "outputs": [
    {
     "name": "stdout",
     "output_type": "stream",
     "text": [
      "   carat        cut color clarity  depth  table  price     x     y     z\n",
      "2   0.23       Good     E     VS1   56.9   65.0    327  4.05  4.07  2.31\n",
      "3   0.29    Premium     I     VS2   62.4   58.0    334  4.20  4.23  2.63\n",
      "4   0.31       Good     J     SI2   63.3   58.0    335  4.34  4.35  2.75\n",
      "5   0.24  Very Good     J    VVS2   62.8   57.0    336  3.94  3.96  2.48\n",
      "\n",
      "\n",
      "\n",
      "\n",
      "\n"
     ]
    }
   ],
   "source": [
    "tmdf = df.copy()\n",
    "# ------------------------------------------------------------\n",
    "print(tmdf.iloc[2:6, :])\n",
    "# ------------------------------------------------------------\n",
    "del tmdf\n",
    "print(\"\\n\\n\\n\\n\")"
   ]
  },
  {
   "cell_type": "markdown",
   "id": "6e1d0ebd-3a9e-4e51-86e0-168f1d054edc",
   "metadata": {},
   "source": [
    "#### 52. Write a Pandas program to read rows 0 through 2 (inclusive), columns 'color' and 'price' of diamonds DataFrame."
   ]
  },
  {
   "cell_type": "code",
   "execution_count": 105,
   "id": "451b0e32-5386-4327-8ee3-3b227b0a19ad",
   "metadata": {},
   "outputs": [
    {
     "name": "stdout",
     "output_type": "stream",
     "text": [
      "  color  price\n",
      "0     E    326\n",
      "1     E    326\n",
      "2     E    327\n",
      "\n",
      "\n",
      "\n",
      "\n",
      "\n"
     ]
    }
   ],
   "source": [
    "tmdf = df.copy()\n",
    "# ------------------------------------------------------------\n",
    "print(tmdf.loc[0 : 2 , [\"color\", \"price\"]])\n",
    "# ------------------------------------------------------------\n",
    "del tmdf\n",
    "print(\"\\n\\n\\n\\n\")"
   ]
  },
  {
   "cell_type": "markdown",
   "id": "5c241e79-304f-4c7a-8df6-54fa3f6b0eed",
   "metadata": {},
   "source": [
    "#### 53. Write a Pandas program to read rows 0 through 2 (inclusive), columns 'color' through 'price' (inclusive) of diamonds DataFrame."
   ]
  },
  {
   "cell_type": "code",
   "execution_count": 107,
   "id": "9c6c9e49-8c59-4db9-8935-97b94165263d",
   "metadata": {},
   "outputs": [
    {
     "name": "stdout",
     "output_type": "stream",
     "text": [
      "  color clarity  depth  table  price\n",
      "0     E     SI2   61.5   55.0    326\n",
      "1     E     SI1   59.8   61.0    326\n",
      "2     E     VS1   56.9   65.0    327\n",
      "\n",
      "\n",
      "\n",
      "\n",
      "\n"
     ]
    }
   ],
   "source": [
    "tmdf = df.copy()\n",
    "# ------------------------------------------------------------\n",
    "print(tmdf.loc[0 : 2 , \"color\" : \"price\"])\n",
    "# ------------------------------------------------------------\n",
    "del tmdf\n",
    "print(\"\\n\\n\\n\\n\")"
   ]
  },
  {
   "cell_type": "markdown",
   "id": "b67da2a8-7152-4c3e-b0d4-91780559c3fa",
   "metadata": {},
   "source": [
    "#### 54. Write a Pandas program to read rows in which the 'cut' is 'Premium', column 'color' of diamonds DataFrame."
   ]
  },
  {
   "cell_type": "code",
   "execution_count": 109,
   "id": "8bbd2ef2-38b2-4ebc-84ae-d74c906d1008",
   "metadata": {},
   "outputs": [
    {
     "name": "stdout",
     "output_type": "stream",
     "text": [
      "1        E\n",
      "3        I\n",
      "12       F\n",
      "14       E\n",
      "15       E\n",
      "        ..\n",
      "53928    E\n",
      "53930    E\n",
      "53931    F\n",
      "53934    D\n",
      "53938    H\n",
      "Name: color, Length: 13791, dtype: object\n",
      "\n",
      "\n",
      "\n",
      "\n",
      "\n"
     ]
    }
   ],
   "source": [
    "tmdf = df.copy()\n",
    "# ------------------------------------------------------------\n",
    "condition = tmdf.cut == \"Premium\"\n",
    "print(tmdf[condition][\"color\"])\n",
    "# ------------------------------------------------------------\n",
    "del tmdf\n",
    "print(\"\\n\\n\\n\\n\")"
   ]
  },
  {
   "cell_type": "markdown",
   "id": "5b20e078-7fba-461e-a50f-c3b7e643f4e7",
   "metadata": {},
   "source": [
    "#### 55. Write a Pandas program to read rows in positions 0 and 1, columns in positions 0 and 3 of diamonds DataFrame."
   ]
  },
  {
   "cell_type": "code",
   "execution_count": 111,
   "id": "c516185a-46c5-445e-8360-e05d3d9ab559",
   "metadata": {},
   "outputs": [
    {
     "name": "stdout",
     "output_type": "stream",
     "text": [
      "   carat      cut color clarity\n",
      "0   0.23    Ideal     E     SI2\n",
      "1   0.21  Premium     E     SI1\n",
      "\n",
      "\n",
      "\n",
      "\n",
      "\n"
     ]
    }
   ],
   "source": [
    "tmdf = df.copy()\n",
    "# ------------------------------------------------------------\n",
    "print(tmdf.iloc[0:2, 0:4])\n",
    "# ------------------------------------------------------------\n",
    "del tmdf\n",
    "print(\"\\n\\n\\n\\n\")"
   ]
  },
  {
   "cell_type": "markdown",
   "id": "497de717-7faf-44ce-873d-331fff3349f7",
   "metadata": {},
   "source": [
    "#### 56. Write a Pandas program to read rows in positions 0 through 4, columns in \n",
    "positions 1 through 4 of diamonds DataFrame."
   ]
  },
  {
   "cell_type": "code",
   "execution_count": 113,
   "id": "80a47412-0b8c-46ae-a62c-c7e2e7d7ef4b",
   "metadata": {},
   "outputs": [
    {
     "name": "stdout",
     "output_type": "stream",
     "text": [
      "       cut color clarity  depth\n",
      "0    Ideal     E     SI2   61.5\n",
      "1  Premium     E     SI1   59.8\n",
      "2     Good     E     VS1   56.9\n",
      "3  Premium     I     VS2   62.4\n",
      "4     Good     J     SI2   63.3\n",
      "\n",
      "\n",
      "\n",
      "\n",
      "\n"
     ]
    }
   ],
   "source": [
    "tmdf = df.copy()\n",
    "# ------------------------------------------------------------\n",
    "print(tmdf.iloc[0:4+1, 1:4+1])\n",
    "# ------------------------------------------------------------\n",
    "del tmdf\n",
    "print(\"\\n\\n\\n\\n\")"
   ]
  },
  {
   "cell_type": "markdown",
   "id": "6329035a-496b-42d6-b240-b7bf8a39097e",
   "metadata": {},
   "source": [
    "#### 57. Write a Pandas program to read rows in positions 0 through 4 (exclusive) and all columns of diamonds DataFrame."
   ]
  },
  {
   "cell_type": "code",
   "execution_count": 115,
   "id": "57e69b52-28be-442e-9f3e-f792218e2b65",
   "metadata": {},
   "outputs": [
    {
     "name": "stdout",
     "output_type": "stream",
     "text": [
      "   carat      cut color clarity  depth  table  price     x     y     z\n",
      "1   0.21  Premium     E     SI1   59.8   61.0    326  3.89  3.84  2.31\n",
      "2   0.23     Good     E     VS1   56.9   65.0    327  4.05  4.07  2.31\n",
      "3   0.29  Premium     I     VS2   62.4   58.0    334  4.20  4.23  2.63\n",
      "\n",
      "\n",
      "\n",
      "\n",
      "\n"
     ]
    }
   ],
   "source": [
    "tmdf = df.copy()\n",
    "# ------------------------------------------------------------\n",
    "print(tmdf.iloc[1:4, :])\n",
    "# ------------------------------------------------------------\n",
    "del tmdf\n",
    "print(\"\\n\\n\\n\\n\")"
   ]
  },
  {
   "cell_type": "markdown",
   "id": "a41f68e6-9bea-442c-abd2-785a06a0883d",
   "metadata": {},
   "source": [
    "#### 58. Write a Pandas program to read rows 2 through 5 (inclusive), columns in positions 0 through 2 (exclusive) of diamonds DataFrame."
   ]
  },
  {
   "cell_type": "code",
   "execution_count": 117,
   "id": "02d9a96d-71ef-4e7a-a452-2e6dc2c941e0",
   "metadata": {},
   "outputs": [
    {
     "name": "stdout",
     "output_type": "stream",
     "text": [
      "         cut\n",
      "2       Good\n",
      "3    Premium\n",
      "4       Good\n",
      "5  Very Good\n",
      "\n",
      "\n",
      "\n",
      "\n",
      "\n"
     ]
    }
   ],
   "source": [
    "tmdf = df.copy()\n",
    "# ------------------------------------------------------------\n",
    "print(tmdf.iloc[2:5+1, 1:2])\n",
    "# ------------------------------------------------------------\n",
    "del tmdf\n",
    "print(\"\\n\\n\\n\\n\")"
   ]
  },
  {
   "cell_type": "markdown",
   "id": "9382dec3-5807-4e90-bcaa-4309f9e7209e",
   "metadata": {},
   "source": [
    "\n",
    "#### 59. Write a Pandas program to print a concise summary of diamonds DataFrame."
   ]
  },
  {
   "cell_type": "code",
   "execution_count": 119,
   "id": "db015cfe-7a27-49b1-ac86-debb44b888a0",
   "metadata": {},
   "outputs": [
    {
     "name": "stdout",
     "output_type": "stream",
     "text": [
      "<class 'pandas.core.frame.DataFrame'>\n",
      "RangeIndex: 53940 entries, 0 to 53939\n",
      "Data columns (total 10 columns):\n",
      " #   Column   Non-Null Count  Dtype  \n",
      "---  ------   --------------  -----  \n",
      " 0   carat    53940 non-null  float64\n",
      " 1   cut      53940 non-null  object \n",
      " 2   color    53940 non-null  object \n",
      " 3   clarity  53940 non-null  object \n",
      " 4   depth    53940 non-null  float64\n",
      " 5   table    53940 non-null  float64\n",
      " 6   price    53940 non-null  int64  \n",
      " 7   x        53940 non-null  float64\n",
      " 8   y        53940 non-null  float64\n",
      " 9   z        53940 non-null  float64\n",
      "dtypes: float64(6), int64(1), object(3)\n",
      "memory usage: 4.1+ MB\n",
      "\n",
      "\n",
      "\n",
      "\n",
      "\n"
     ]
    }
   ],
   "source": [
    "tmdf = df.copy()\n",
    "# ------------------------------------------------------------\n",
    "tmdf.info()\n",
    "# ------------------------------------------------------------\n",
    "del tmdf\n",
    "print(\"\\n\\n\\n\\n\")"
   ]
  },
  {
   "cell_type": "markdown",
   "id": "442079b0-62de-441e-9901-8c3e5ce5192a",
   "metadata": {},
   "source": [
    "\n",
    "#### 60. Write a Pandas program to get the true memory usage by diamonds DataFrame."
   ]
  },
  {
   "cell_type": "code",
   "execution_count": 121,
   "id": "304fa305-61e3-4d4c-ab07-e80e9335b8ba",
   "metadata": {},
   "outputs": [
    {
     "name": "stdout",
     "output_type": "stream",
     "text": [
      "\n",
      "\n",
      "Total Usage: 11510996\n",
      "\n",
      "\n",
      "\n",
      "\n",
      "\n"
     ]
    }
   ],
   "source": [
    "tmdf = df.copy()\n",
    "# ------------------------------------------------------------\n",
    "m_usage = tmdf.memory_usage(deep = True)\n",
    "print(f\"\\n\\nTotal Usage: {m_usage.sum()}\")\n",
    "# ------------------------------------------------------------\n",
    "del tmdf\n",
    "print(\"\\n\\n\\n\\n\")"
   ]
  },
  {
   "cell_type": "markdown",
   "id": "efd403b1-8659-411d-8701-493c3122965a",
   "metadata": {},
   "source": [
    "#### 61. Write a Pandas program to calculate the memory usage for each Series (in \n",
    "bytes) of diamonds DataFrame DataFrame."
   ]
  },
  {
   "cell_type": "code",
   "execution_count": 123,
   "id": "3248e882-d1f4-48dd-bfeb-43aa5f668740",
   "metadata": {},
   "outputs": [
    {
     "name": "stdout",
     "output_type": "stream",
     "text": [
      "Index          132\n",
      "carat       431520\n",
      "cut        2982154\n",
      "color      2697000\n",
      "clarity    2811070\n",
      "depth       431520\n",
      "table       431520\n",
      "price       431520\n",
      "x           431520\n",
      "y           431520\n",
      "z           431520\n",
      "dtype: int64\n",
      "\n",
      "\n",
      "\n",
      "\n",
      "\n"
     ]
    }
   ],
   "source": [
    "tmdf = df.copy()\n",
    "# ------------------------------------------------------------\n",
    "m_usage = tmdf.memory_usage(deep = True)\n",
    "print(m_usage)\n",
    "\n",
    "# ------------------------------------------------------------\n",
    "del tmdf\n",
    "print(\"\\n\\n\\n\\n\")"
   ]
  },
  {
   "cell_type": "markdown",
   "id": "fb1a0cbc-1f57-4de9-a155-d808c4ca81c9",
   "metadata": {},
   "source": [
    "#### 62. Write a Pandas program to get randomly sample rows from diamonds DataFrame."
   ]
  },
  {
   "cell_type": "code",
   "execution_count": 125,
   "id": "88e15676-1281-4670-8fa9-7a461fbfc492",
   "metadata": {},
   "outputs": [
    {
     "name": "stdout",
     "output_type": "stream",
     "text": [
      "       carat        cut color clarity  depth  table  price     x     y     z\n",
      "18720   1.40  Very Good     I     SI1   61.3   59.0   7644  7.19  7.23  4.42\n",
      "46338   0.58      Ideal     E     SI1   61.5   55.0   1758  5.39  5.34  3.30\n",
      "15813   1.29      Ideal     J     SI1   61.6   57.0   6327  6.98  7.01  4.32\n",
      "24047   0.38    Premium     I     VS2   60.2   58.0    633  4.69  4.75  2.84\n",
      "3707    0.70    Premium     G    VVS2   59.3   54.0   3450  5.89  5.78  3.46\n",
      "1772    0.82  Very Good     F     SI1   63.9   56.9   3048  5.85  5.92  3.76\n",
      "1272    0.76      Ideal     E     SI1   61.7   57.0   2949  5.84  5.89  3.62\n",
      "48237   0.70       Good     H     SI2   60.2   63.0   1950  5.70  5.73  3.44\n",
      "9378    0.32      Ideal     D     SI1   62.0   57.0    589  4.38  4.42  2.73\n",
      "32166   0.41      Ideal     H     SI2   61.7   56.0    787  4.80  4.77  2.95\n",
      "30491   0.31      Ideal     D     SI1   61.7   57.0    732  4.38  4.34  2.69\n",
      "30501   0.31      Ideal     D     SI1   62.6   57.0    732  4.33  4.30  2.70\n",
      "24651   1.58      Ideal     F     SI1   60.2   56.0  12991  7.57  7.64  4.58\n",
      "22411   1.23  Very Good     G    VVS1   61.3   57.0  10435  6.88  6.96  4.24\n",
      "39342   0.38      Ideal     E    VVS2   62.1   54.5   1073  4.62  4.66  2.88\n",
      "\n",
      "\n",
      "\n",
      "\n",
      "\n"
     ]
    }
   ],
   "source": [
    "tmdf = df.copy()\n",
    "# ------------------------------------------------------------\n",
    "ndf=  tmdf.sample(n = 15)\n",
    "print(ndf)\n",
    "# ------------------------------------------------------------\n",
    "del tmdf\n",
    "print(\"\\n\\n\\n\\n\")"
   ]
  },
  {
   "cell_type": "markdown",
   "id": "f4f0c1eb-2c13-4cf7-b143-05e018966be3",
   "metadata": {},
   "source": [
    "#### 63. Write a Pandas program to get sample 75% of the diamonds DataFrame's rows without replacement and store the remaining 25% of the rows in another DataFrame."
   ]
  },
  {
   "cell_type": "code",
   "execution_count": 127,
   "id": "ca879895-2513-4a78-867a-5184b2d36d3b",
   "metadata": {},
   "outputs": [
    {
     "name": "stdout",
     "output_type": "stream",
     "text": [
      "<class 'pandas.core.frame.DataFrame'>\n",
      "Index: 40455 entries, 11185 to 38057\n",
      "Data columns (total 10 columns):\n",
      " #   Column   Non-Null Count  Dtype  \n",
      "---  ------   --------------  -----  \n",
      " 0   carat    40455 non-null  float64\n",
      " 1   cut      40455 non-null  object \n",
      " 2   color    40455 non-null  object \n",
      " 3   clarity  40455 non-null  object \n",
      " 4   depth    40455 non-null  float64\n",
      " 5   table    40455 non-null  float64\n",
      " 6   price    40455 non-null  int64  \n",
      " 7   x        40455 non-null  float64\n",
      " 8   y        40455 non-null  float64\n",
      " 9   z        40455 non-null  float64\n",
      "dtypes: float64(6), int64(1), object(3)\n",
      "memory usage: 3.4+ MB\n",
      "\n",
      "\n",
      "\n",
      "<class 'pandas.core.frame.DataFrame'>\n",
      "Index: 13485 entries, 1 to 53934\n",
      "Data columns (total 10 columns):\n",
      " #   Column   Non-Null Count  Dtype  \n",
      "---  ------   --------------  -----  \n",
      " 0   carat    13485 non-null  float64\n",
      " 1   cut      13485 non-null  object \n",
      " 2   color    13485 non-null  object \n",
      " 3   clarity  13485 non-null  object \n",
      " 4   depth    13485 non-null  float64\n",
      " 5   table    13485 non-null  float64\n",
      " 6   price    13485 non-null  int64  \n",
      " 7   x        13485 non-null  float64\n",
      " 8   y        13485 non-null  float64\n",
      " 9   z        13485 non-null  float64\n",
      "dtypes: float64(6), int64(1), object(3)\n",
      "memory usage: 1.1+ MB\n",
      "\n",
      "\n",
      "\n",
      "\n",
      "\n"
     ]
    }
   ],
   "source": [
    "tmdf = df.copy()\n",
    "# ------------------------------------------------------------\n",
    "sampled_df = tmdf.sample(frac = 0.75)\n",
    "rem_df = tmdf.drop(sampled_df.index, axis = 'index')\n",
    "sampled_df.info()\n",
    "print(\"\\n\\n\")\n",
    "rem_df.info()\n",
    "# ------------------------------------------------------------\n",
    "del tmdf\n",
    "print(\"\\n\\n\\n\\n\")"
   ]
  },
  {
   "cell_type": "markdown",
   "id": "71936c33-425e-40a1-a6dd-17787a372bb8",
   "metadata": {},
   "source": [
    "#### 64. Write a Pandas program to read the diamonds DataFrame and detect duplicate color. Note: duplicated () function returns boolean Series denoting duplicate rows, optionally only considering certain columns."
   ]
  },
  {
   "cell_type": "code",
   "execution_count": 129,
   "id": "d5733ca0-3442-4609-be61-46de8f00e601",
   "metadata": {},
   "outputs": [
    {
     "name": "stdout",
     "output_type": "stream",
     "text": [
      "0        False\n",
      "1         True\n",
      "2         True\n",
      "3        False\n",
      "4        False\n",
      "         ...  \n",
      "53935     True\n",
      "53936     True\n",
      "53937     True\n",
      "53938     True\n",
      "53939     True\n",
      "Length: 53940, dtype: bool\n",
      "\n",
      "\n",
      " 7\n",
      "\n",
      "\n",
      "\n",
      "\n",
      "\n"
     ]
    }
   ],
   "source": [
    "tmdf = df.copy()\n",
    "# ------------------------------------------------------------\n",
    "ser = ~ tmdf.duplicated(subset = ['color'], keep = 'first')\n",
    "print(~ser)\n",
    "print(\"\\n\\n\", ser.sum())\n",
    "# ------------------------------------------------------------\n",
    "del tmdf\n",
    "print(\"\\n\\n\\n\\n\")"
   ]
  },
  {
   "cell_type": "markdown",
   "id": "004d2cff-62bc-4b15-bf3a-2baa00b9fc7f",
   "metadata": {},
   "source": [
    "#### 65. Write a Pandas program to count the duplicate rows of diamonds DataFrame."
   ]
  },
  {
   "cell_type": "code",
   "execution_count": 131,
   "id": "ce91df42-026d-4f54-aa7b-1ad12ba041e0",
   "metadata": {},
   "outputs": [
    {
     "name": "stdout",
     "output_type": "stream",
     "text": [
      "0        False\n",
      "1        False\n",
      "2        False\n",
      "3        False\n",
      "4        False\n",
      "         ...  \n",
      "53935     True\n",
      "53936     True\n",
      "53937     True\n",
      "53938     True\n",
      "53939     True\n",
      "Length: 53940, dtype: bool\n",
      "\n",
      "\n",
      "Count of duplicate rows (subset = color, cut) 53905\n",
      "\n",
      "\n",
      "\n",
      "\n",
      "\n"
     ]
    }
   ],
   "source": [
    "tmdf = df.copy()\n",
    "# ------------------------------------------------------------\n",
    "ser = tmdf.duplicated(subset = ['color', 'cut'], keep = 'first')\n",
    "print(ser)\n",
    "print(\"\\n\\nCount of duplicate rows (subset = color, cut)\", ser.sum())\n",
    "# ------------------------------------------------------------\n",
    "del tmdf\n",
    "print(\"\\n\\n\\n\\n\")"
   ]
  },
  {
   "cell_type": "code",
   "execution_count": null,
   "id": "2a021a69-fe3a-4052-bade-7a77b6f03313",
   "metadata": {},
   "outputs": [],
   "source": []
  },
  {
   "cell_type": "code",
   "execution_count": null,
   "id": "7c5b5893-83bc-4699-8b17-bd8181a1f075",
   "metadata": {},
   "outputs": [],
   "source": []
  }
 ],
 "metadata": {
  "kernelspec": {
   "display_name": "Python 3 (ipykernel)",
   "language": "python",
   "name": "python3"
  },
  "language_info": {
   "codemirror_mode": {
    "name": "ipython",
    "version": 3
   },
   "file_extension": ".py",
   "mimetype": "text/x-python",
   "name": "python",
   "nbconvert_exporter": "python",
   "pygments_lexer": "ipython3",
   "version": "3.12.4"
  }
 },
 "nbformat": 4,
 "nbformat_minor": 5
}
