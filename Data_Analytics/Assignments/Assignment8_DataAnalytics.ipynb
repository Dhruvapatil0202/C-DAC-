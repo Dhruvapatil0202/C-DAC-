{
  "nbformat": 4,
  "nbformat_minor": 0,
  "metadata": {
    "colab": {
      "provenance": []
    },
    "kernelspec": {
      "name": "python3",
      "display_name": "Python 3"
    },
    "language_info": {
      "name": "python"
    }
  },
  "cells": [
    {
      "cell_type": "code",
      "execution_count": 2,
      "metadata": {
        "id": "gDEkK4ILPUDo"
      },
      "outputs": [],
      "source": [
        "import pandas as pd\n",
        "import numpy as np\n",
        "from datetime import date"
      ]
    },
    {
      "cell_type": "markdown",
      "source": [
        "1. Write a Pandas program to create\\\n",
        " a. Datetime object for Jan 15 2012.\\\n",
        " b. Specific date and time of 9:20 pm.\\\n",
        " c. Local date and time.\\\n",
        " d. A date without time.\\\n",
        " e. Current date.\\\n",
        " f. Time from a datetime.\\\n",
        " g. Current local time."
      ],
      "metadata": {
        "id": "p-ocf8x0PvEK"
      }
    },
    {
      "cell_type": "code",
      "source": [
        "date = pd.to_datetime(\"15-01-2012\", format=\"mixed\")\n",
        "print(date)"
      ],
      "metadata": {
        "colab": {
          "base_uri": "https://localhost:8080/"
        },
        "id": "p-cRu3p3Pvsa",
        "outputId": "8bb08842-52ec-4950-9b8c-92910181050a"
      },
      "execution_count": 3,
      "outputs": [
        {
          "output_type": "stream",
          "name": "stdout",
          "text": [
            "2012-01-15 00:00:00\n"
          ]
        }
      ]
    },
    {
      "cell_type": "code",
      "source": [
        "date_time = pd.to_datetime(\"15-01-2012T09:20:00\", format=\"mixed\")\n",
        "date_time"
      ],
      "metadata": {
        "colab": {
          "base_uri": "https://localhost:8080/"
        },
        "id": "8itidayqSHCa",
        "outputId": "f1814fe3-62c7-42ef-b70a-7fc8a2b1f5d9"
      },
      "execution_count": 4,
      "outputs": [
        {
          "output_type": "execute_result",
          "data": {
            "text/plain": [
              "Timestamp('2012-01-15 09:20:00')"
            ]
          },
          "metadata": {},
          "execution_count": 4
        }
      ]
    },
    {
      "cell_type": "code",
      "source": [
        "local_date_time = date_time.tz_localize(\"Asia/Kolkata\")\n",
        "print(local_date_time)"
      ],
      "metadata": {
        "colab": {
          "base_uri": "https://localhost:8080/"
        },
        "id": "y8fXmy83ShIn",
        "outputId": "94c3a5f2-bd96-48d9-a071-dd807cb6e4bf"
      },
      "execution_count": 5,
      "outputs": [
        {
          "output_type": "stream",
          "name": "stdout",
          "text": [
            "2012-01-15 09:20:00+05:30\n"
          ]
        }
      ]
    },
    {
      "cell_type": "code",
      "source": [
        "date = pd.to_datetime(\"15-01-2012\", format=\"mixed\").date()\n",
        "print(date)"
      ],
      "metadata": {
        "colab": {
          "base_uri": "https://localhost:8080/"
        },
        "id": "PzphWgVvQLYj",
        "outputId": "69cb87df-7d40-4fdb-a4a4-4087183117fe"
      },
      "execution_count": 6,
      "outputs": [
        {
          "output_type": "stream",
          "name": "stdout",
          "text": [
            "2012-01-15\n"
          ]
        }
      ]
    },
    {
      "cell_type": "code",
      "source": [
        "current_date = pd.Timestamp.now()\n",
        "print(current_date.date())"
      ],
      "metadata": {
        "colab": {
          "base_uri": "https://localhost:8080/"
        },
        "id": "T1AWYCAYUDzv",
        "outputId": "0fe6aa48-2025-468f-fd47-fa5f1e3c56eb"
      },
      "execution_count": 7,
      "outputs": [
        {
          "output_type": "stream",
          "name": "stdout",
          "text": [
            "2024-10-22\n"
          ]
        }
      ]
    },
    {
      "cell_type": "code",
      "source": [
        "pd.Timestamp.now().time()"
      ],
      "metadata": {
        "colab": {
          "base_uri": "https://localhost:8080/"
        },
        "id": "oozBh-2_XXp1",
        "outputId": "71d7406e-22ae-4f8d-d309-1814aa6874c2"
      },
      "execution_count": 8,
      "outputs": [
        {
          "output_type": "execute_result",
          "data": {
            "text/plain": [
              "datetime.time(6, 10, 26, 588973)"
            ]
          },
          "metadata": {},
          "execution_count": 8
        }
      ]
    },
    {
      "cell_type": "code",
      "source": [
        "# print(pd.Timestamp.now().tz_localize(\"Asia/Kolkata\").time())\n",
        "# pd.to_datetime(pd.Timestamp.now()).tz_localize(\"Asia/Kolkata\").time()\n",
        "\n",
        "print(pd.Timestamp.now(tz = \"Asia/Kolkata\").time())\n"
      ],
      "metadata": {
        "colab": {
          "base_uri": "https://localhost:8080/"
        },
        "id": "a-5qN6bvVR-I",
        "outputId": "5a9384e8-b2af-4735-b508-cc72c11287ab"
      },
      "execution_count": 9,
      "outputs": [
        {
          "output_type": "stream",
          "name": "stdout",
          "text": [
            "11:40:26.600688\n"
          ]
        }
      ]
    },
    {
      "cell_type": "markdown",
      "source": [
        "2. Write a Pandas program to create\\\n",
        "a) a specific date using timestamp.\\\n",
        "b) date and time using timestamp.\\\n",
        "c) a time adds in the current local date using timestamp.\\\n",
        "d) current date and time using timestamp."
      ],
      "metadata": {
        "id": "x7g-b1xGXmD2"
      }
    },
    {
      "cell_type": "code",
      "source": [
        "date = pd.Timestamp(year = 2024, month = 11, day = 21)\n",
        "time = pd.Timestamp(year = 2024, month = 11, day = 21, hour = 12, minute = 30, second = 30 )\n",
        "date, time"
      ],
      "metadata": {
        "colab": {
          "base_uri": "https://localhost:8080/"
        },
        "id": "I9PXkglFXx2_",
        "outputId": "bc98a2b6-19f9-4a28-c2d2-1a233fe6204e"
      },
      "execution_count": 10,
      "outputs": [
        {
          "output_type": "execute_result",
          "data": {
            "text/plain": [
              "(Timestamp('2024-11-21 00:00:00'), Timestamp('2024-11-21 12:30:30'))"
            ]
          },
          "metadata": {},
          "execution_count": 10
        }
      ]
    },
    {
      "cell_type": "code",
      "source": [
        "date = pd.Timestamp(year = 2024, month = 11, day = 21)\n",
        "new_date = date + pd.Timedelta(hours = 12, minutes = 30, seconds= 30)\n",
        "date, new_date"
      ],
      "metadata": {
        "colab": {
          "base_uri": "https://localhost:8080/"
        },
        "id": "T8wZHIKSZMwI",
        "outputId": "1747bc52-2f7d-497e-f3ed-c53b3ca143b3"
      },
      "execution_count": 11,
      "outputs": [
        {
          "output_type": "execute_result",
          "data": {
            "text/plain": [
              "(Timestamp('2024-11-21 00:00:00'), Timestamp('2024-11-21 12:30:30'))"
            ]
          },
          "metadata": {},
          "execution_count": 11
        }
      ]
    },
    {
      "cell_type": "code",
      "source": [
        "date = pd.Timestamp.now()\n",
        "mod_date = date + pd.Timedelta(hours = 5, minutes = 30, seconds= 30)\n",
        "date, mod_date"
      ],
      "metadata": {
        "colab": {
          "base_uri": "https://localhost:8080/"
        },
        "id": "vr9NWuPQVR0J",
        "outputId": "d15da371-8df9-4e5a-ee77-248158495648"
      },
      "execution_count": 12,
      "outputs": [
        {
          "output_type": "execute_result",
          "data": {
            "text/plain": [
              "(Timestamp('2024-10-22 06:10:26.645100'),\n",
              " Timestamp('2024-10-22 11:40:56.645100'))"
            ]
          },
          "metadata": {},
          "execution_count": 12
        }
      ]
    },
    {
      "cell_type": "markdown",
      "source": [
        "3. Write a Pandas program to create a date from a given year, month, day and another date from a given string formats."
      ],
      "metadata": {
        "id": "B5vht1w5bG_j"
      }
    },
    {
      "cell_type": "code",
      "source": [
        "date_one = pd.Timestamp(year = 2024, month = 12, day = 2)\n",
        "date_two = pd.Timestamp(\"31-Dec-2024\")\n",
        "date_one, date_two"
      ],
      "metadata": {
        "colab": {
          "base_uri": "https://localhost:8080/"
        },
        "id": "ebFMEMtUbG7D",
        "outputId": "7fd6602a-2d24-49ad-82ab-1ec4832c62b8"
      },
      "execution_count": 13,
      "outputs": [
        {
          "output_type": "execute_result",
          "data": {
            "text/plain": [
              "(Timestamp('2024-12-02 00:00:00'), Timestamp('2024-12-31 00:00:00'))"
            ]
          },
          "metadata": {},
          "execution_count": 13
        }
      ]
    },
    {
      "cell_type": "markdown",
      "source": [
        "4. Write a Pandas program to print the day after and before a specified date. Also print the days between two given dates."
      ],
      "metadata": {
        "id": "VSgC0fDxb00q"
      }
    },
    {
      "cell_type": "code",
      "source": [
        "date_one = pd.Timestamp(year = 2024, month = 12, day = 2)\n",
        "time_diff = pd.Timedelta(days = 1)\n",
        "print(date_one + time_diff, date_one - time_diff)"
      ],
      "metadata": {
        "colab": {
          "base_uri": "https://localhost:8080/"
        },
        "id": "ZzNfw23Ab0vz",
        "outputId": "614b556f-96d9-4e0c-8ebd-865f2e17b8af"
      },
      "execution_count": 14,
      "outputs": [
        {
          "output_type": "stream",
          "name": "stdout",
          "text": [
            "2024-12-03 00:00:00 2024-12-01 00:00:00\n"
          ]
        }
      ]
    },
    {
      "cell_type": "code",
      "source": [
        "day_one = pd.Timestamp(year = 2024, month = 12, day = 2)\n",
        "day_two = pd.Timestamp(year = 2024, month = 12, day = 6)\n",
        "diff = day_one - day_two\n",
        "diff.days"
      ],
      "metadata": {
        "colab": {
          "base_uri": "https://localhost:8080/"
        },
        "id": "huvZswGDcl0i",
        "outputId": "abef72c4-66b7-4c1b-ddd4-478daa3a34d5"
      },
      "execution_count": 15,
      "outputs": [
        {
          "output_type": "execute_result",
          "data": {
            "text/plain": [
              "-4"
            ]
          },
          "metadata": {},
          "execution_count": 15
        }
      ]
    },
    {
      "cell_type": "markdown",
      "source": [
        "5. Write a Pandas program to create a time-series with two index labels and random values. Also print the type of the index."
      ],
      "metadata": {
        "id": "sVHzukEyd2Uf"
      }
    },
    {
      "cell_type": "code",
      "source": [
        "\n",
        "date_rng = pd.date_range(start='1/1/2023', end='1/08/2023', freq='D')\n",
        "series = pd.Series(np.random.randn(len(date_rng)), index=date_rng)\n",
        "print(series)\n",
        "print(series.index.dtype)"
      ],
      "metadata": {
        "colab": {
          "base_uri": "https://localhost:8080/"
        },
        "id": "fFbfuDW2d2P-",
        "outputId": "710ad952-9ec0-4249-8b84-ae6536111952"
      },
      "execution_count": 16,
      "outputs": [
        {
          "output_type": "stream",
          "name": "stdout",
          "text": [
            "2023-01-01   -1.864715\n",
            "2023-01-02   -0.803539\n",
            "2023-01-03   -0.097865\n",
            "2023-01-04    0.594914\n",
            "2023-01-05   -0.439566\n",
            "2023-01-06    0.190192\n",
            "2023-01-07    0.836463\n",
            "2023-01-08    0.976311\n",
            "Freq: D, dtype: float64\n",
            "datetime64[ns]\n"
          ]
        }
      ]
    },
    {
      "cell_type": "markdown",
      "source": [
        "6. Write a Pandas program to create a time-series from a given list of dates as\n",
        "strings."
      ],
      "metadata": {
        "id": "HBJ3vmukiepO"
      }
    },
    {
      "cell_type": "code",
      "source": [
        "date_list = ['01-01-2024', '02-01-2024', '03-01-2024', '04-01-2024', '05-01-2024']\n",
        "date_list = pd.Series(date_list)\n",
        "date_list = pd.to_datetime(date_list)\n",
        "data = np.random.randint(1,100,len(date_list))\n",
        "\n",
        "ser = pd.Series(data, index=date_list)\n",
        "ser.index.dtype"
      ],
      "metadata": {
        "colab": {
          "base_uri": "https://localhost:8080/"
        },
        "id": "GiArRIkliS5d",
        "outputId": "a084c75b-3302-404f-d682-efd3cfd804d1"
      },
      "execution_count": 17,
      "outputs": [
        {
          "output_type": "execute_result",
          "data": {
            "text/plain": [
              "dtype('<M8[ns]')"
            ]
          },
          "metadata": {},
          "execution_count": 17
        }
      ]
    },
    {
      "cell_type": "markdown",
      "source": [
        "7. Write a Pandas program to create a time series object that has time indexed\n",
        "data. Also select the dates of same year and select the dates between certain\n",
        "dates."
      ],
      "metadata": {
        "id": "BCXtC8vqm8ZK"
      }
    },
    {
      "cell_type": "code",
      "source": [
        "date_list = ['01-01-2023', '02-01-2024', '03-01-2022', '04-01-2024', '05-01-2020']\n",
        "date_list = pd.to_datetime(date_list)\n",
        "data = np.random.randint(1,100,len(date_list))\n",
        "\n",
        "seri = pd.Series(data, index=date_list)\n",
        "year_24 = seri[seri.index.year == 2024]\n",
        "year_24"
      ],
      "metadata": {
        "colab": {
          "base_uri": "https://localhost:8080/",
          "height": 147
        },
        "id": "qIoWhrrmm71k",
        "outputId": "668ccab8-b5b3-4e2a-972a-663be750263d"
      },
      "execution_count": 18,
      "outputs": [
        {
          "output_type": "execute_result",
          "data": {
            "text/plain": [
              "2024-02-01    58\n",
              "2024-04-01     1\n",
              "dtype: int64"
            ],
            "text/html": [
              "<div>\n",
              "<style scoped>\n",
              "    .dataframe tbody tr th:only-of-type {\n",
              "        vertical-align: middle;\n",
              "    }\n",
              "\n",
              "    .dataframe tbody tr th {\n",
              "        vertical-align: top;\n",
              "    }\n",
              "\n",
              "    .dataframe thead th {\n",
              "        text-align: right;\n",
              "    }\n",
              "</style>\n",
              "<table border=\"1\" class=\"dataframe\">\n",
              "  <thead>\n",
              "    <tr style=\"text-align: right;\">\n",
              "      <th></th>\n",
              "      <th>0</th>\n",
              "    </tr>\n",
              "  </thead>\n",
              "  <tbody>\n",
              "    <tr>\n",
              "      <th>2024-02-01</th>\n",
              "      <td>58</td>\n",
              "    </tr>\n",
              "    <tr>\n",
              "      <th>2024-04-01</th>\n",
              "      <td>1</td>\n",
              "    </tr>\n",
              "  </tbody>\n",
              "</table>\n",
              "</div><br><label><b>dtype:</b> int64</label>"
            ]
          },
          "metadata": {},
          "execution_count": 18
        }
      ]
    },
    {
      "cell_type": "markdown",
      "source": [
        "8. Write a Pandas program to create a date range using a startpoint date and a\n",
        "number of periods."
      ],
      "metadata": {
        "id": "iWxq2klLn7th"
      }
    },
    {
      "cell_type": "code",
      "source": [
        "dates = pd.date_range(start = \"1/1/2023\", periods = 10)\n",
        "dates"
      ],
      "metadata": {
        "colab": {
          "base_uri": "https://localhost:8080/"
        },
        "id": "13nL-H-noAlr",
        "outputId": "ca204b85-faaf-48d4-b52f-ce8bb492f28f"
      },
      "execution_count": 19,
      "outputs": [
        {
          "output_type": "execute_result",
          "data": {
            "text/plain": [
              "DatetimeIndex(['2023-01-01', '2023-01-02', '2023-01-03', '2023-01-04',\n",
              "               '2023-01-05', '2023-01-06', '2023-01-07', '2023-01-08',\n",
              "               '2023-01-09', '2023-01-10'],\n",
              "              dtype='datetime64[ns]', freq='D')"
            ]
          },
          "metadata": {},
          "execution_count": 19
        }
      ]
    },
    {
      "cell_type": "markdown",
      "source": [
        "9. Write a Pandas program to create a whole month of dates in daily frequencies. Also find the maximum, minimum timestamp and indexs."
      ],
      "metadata": {
        "id": "CCWIumjDobCQ"
      }
    },
    {
      "cell_type": "code",
      "source": [
        "dates = pd.date_range(start = \"1/1/2023\", end = \"31/1/2023\", freq='D')\n",
        "dates.max(), dates.min(), dates.get_loc(dates.max()), dates.get_loc(dates.min())"
      ],
      "metadata": {
        "colab": {
          "base_uri": "https://localhost:8080/"
        },
        "id": "OLM1-AlOoeAy",
        "outputId": "69e1eaad-f8af-46d0-9b99-307ebcd4d204"
      },
      "execution_count": 20,
      "outputs": [
        {
          "output_type": "execute_result",
          "data": {
            "text/plain": [
              "(Timestamp('2023-01-31 00:00:00'), Timestamp('2023-01-01 00:00:00'), 30, 0)"
            ]
          },
          "metadata": {},
          "execution_count": 20
        }
      ]
    },
    {
      "cell_type": "markdown",
      "source": [
        "10. Write a Pandas program to create a time series using three months\n",
        "frequency."
      ],
      "metadata": {
        "id": "E_6n3fgWqHqz"
      }
    },
    {
      "cell_type": "code",
      "source": [
        "dates = pd.date_range(start = \"1/1/2023\", end = \"31/1/2025\", freq='3ME')\n",
        "dates"
      ],
      "metadata": {
        "colab": {
          "base_uri": "https://localhost:8080/"
        },
        "id": "VsFc8zgAqHeD",
        "outputId": "ff8e7f9a-69e5-428b-e9e9-c66ebd13a9d3"
      },
      "execution_count": 21,
      "outputs": [
        {
          "output_type": "execute_result",
          "data": {
            "text/plain": [
              "DatetimeIndex(['2023-01-31', '2023-04-30', '2023-07-31', '2023-10-31',\n",
              "               '2024-01-31', '2024-04-30', '2024-07-31', '2024-10-31',\n",
              "               '2025-01-31'],\n",
              "              dtype='datetime64[ns]', freq='3ME')"
            ]
          },
          "metadata": {},
          "execution_count": 21
        }
      ]
    },
    {
      "cell_type": "markdown",
      "source": [
        "\n",
        "11. Write a Pandas program to create a sequence of durations increasing by an\n",
        "hour."
      ],
      "metadata": {
        "id": "QI_TWX07qjUu"
      }
    },
    {
      "cell_type": "code",
      "source": [
        "sequence = pd.timedelta_range(start = \"00:00:00\",periods=20, freq='H')\n",
        "sequence"
      ],
      "metadata": {
        "colab": {
          "base_uri": "https://localhost:8080/"
        },
        "id": "2FfPdicZqjO3",
        "outputId": "244aa960-79ea-413e-a042-14e377077941"
      },
      "execution_count": 22,
      "outputs": [
        {
          "output_type": "stream",
          "name": "stderr",
          "text": [
            "<ipython-input-22-4d8306e93188>:1: FutureWarning: 'H' is deprecated and will be removed in a future version, please use 'h' instead.\n",
            "  sequence = pd.timedelta_range(start = \"00:00:00\",periods=20, freq='H')\n"
          ]
        },
        {
          "output_type": "execute_result",
          "data": {
            "text/plain": [
              "TimedeltaIndex(['0 days 00:00:00', '0 days 01:00:00', '0 days 02:00:00',\n",
              "                '0 days 03:00:00', '0 days 04:00:00', '0 days 05:00:00',\n",
              "                '0 days 06:00:00', '0 days 07:00:00', '0 days 08:00:00',\n",
              "                '0 days 09:00:00', '0 days 10:00:00', '0 days 11:00:00',\n",
              "                '0 days 12:00:00', '0 days 13:00:00', '0 days 14:00:00',\n",
              "                '0 days 15:00:00', '0 days 16:00:00', '0 days 17:00:00',\n",
              "                '0 days 18:00:00', '0 days 19:00:00'],\n",
              "               dtype='timedelta64[ns]', freq='h')"
            ]
          },
          "metadata": {},
          "execution_count": 22
        }
      ]
    },
    {
      "cell_type": "markdown",
      "source": [
        "12. Write a Pandas program to convert year and day of year into a single\n",
        "datetime column of a dataframe."
      ],
      "metadata": {
        "id": "r9SR0ScLo3Us"
      }
    },
    {
      "cell_type": "code",
      "source": [
        "dates = pd.date_range(start = \"1/1/2023\", end = \"31/1/2023\", freq='4D')\n",
        "df = pd.DataFrame({\"year\":dates.year, \"day_of_year\":dates.dayofyear})\n",
        "df"
      ],
      "metadata": {
        "colab": {
          "base_uri": "https://localhost:8080/",
          "height": 300
        },
        "id": "X-C6UqvvruzP",
        "outputId": "170fd49c-da4c-4dc5-fa5d-dee4a7722a90"
      },
      "execution_count": 23,
      "outputs": [
        {
          "output_type": "execute_result",
          "data": {
            "text/plain": [
              "   year  day_of_year\n",
              "0  2023            1\n",
              "1  2023            5\n",
              "2  2023            9\n",
              "3  2023           13\n",
              "4  2023           17\n",
              "5  2023           21\n",
              "6  2023           25\n",
              "7  2023           29"
            ],
            "text/html": [
              "\n",
              "  <div id=\"df-0dad8f7c-b7c0-4831-a0bf-005a5761134e\" class=\"colab-df-container\">\n",
              "    <div>\n",
              "<style scoped>\n",
              "    .dataframe tbody tr th:only-of-type {\n",
              "        vertical-align: middle;\n",
              "    }\n",
              "\n",
              "    .dataframe tbody tr th {\n",
              "        vertical-align: top;\n",
              "    }\n",
              "\n",
              "    .dataframe thead th {\n",
              "        text-align: right;\n",
              "    }\n",
              "</style>\n",
              "<table border=\"1\" class=\"dataframe\">\n",
              "  <thead>\n",
              "    <tr style=\"text-align: right;\">\n",
              "      <th></th>\n",
              "      <th>year</th>\n",
              "      <th>day_of_year</th>\n",
              "    </tr>\n",
              "  </thead>\n",
              "  <tbody>\n",
              "    <tr>\n",
              "      <th>0</th>\n",
              "      <td>2023</td>\n",
              "      <td>1</td>\n",
              "    </tr>\n",
              "    <tr>\n",
              "      <th>1</th>\n",
              "      <td>2023</td>\n",
              "      <td>5</td>\n",
              "    </tr>\n",
              "    <tr>\n",
              "      <th>2</th>\n",
              "      <td>2023</td>\n",
              "      <td>9</td>\n",
              "    </tr>\n",
              "    <tr>\n",
              "      <th>3</th>\n",
              "      <td>2023</td>\n",
              "      <td>13</td>\n",
              "    </tr>\n",
              "    <tr>\n",
              "      <th>4</th>\n",
              "      <td>2023</td>\n",
              "      <td>17</td>\n",
              "    </tr>\n",
              "    <tr>\n",
              "      <th>5</th>\n",
              "      <td>2023</td>\n",
              "      <td>21</td>\n",
              "    </tr>\n",
              "    <tr>\n",
              "      <th>6</th>\n",
              "      <td>2023</td>\n",
              "      <td>25</td>\n",
              "    </tr>\n",
              "    <tr>\n",
              "      <th>7</th>\n",
              "      <td>2023</td>\n",
              "      <td>29</td>\n",
              "    </tr>\n",
              "  </tbody>\n",
              "</table>\n",
              "</div>\n",
              "    <div class=\"colab-df-buttons\">\n",
              "\n",
              "  <div class=\"colab-df-container\">\n",
              "    <button class=\"colab-df-convert\" onclick=\"convertToInteractive('df-0dad8f7c-b7c0-4831-a0bf-005a5761134e')\"\n",
              "            title=\"Convert this dataframe to an interactive table.\"\n",
              "            style=\"display:none;\">\n",
              "\n",
              "  <svg xmlns=\"http://www.w3.org/2000/svg\" height=\"24px\" viewBox=\"0 -960 960 960\">\n",
              "    <path d=\"M120-120v-720h720v720H120Zm60-500h600v-160H180v160Zm220 220h160v-160H400v160Zm0 220h160v-160H400v160ZM180-400h160v-160H180v160Zm440 0h160v-160H620v160ZM180-180h160v-160H180v160Zm440 0h160v-160H620v160Z\"/>\n",
              "  </svg>\n",
              "    </button>\n",
              "\n",
              "  <style>\n",
              "    .colab-df-container {\n",
              "      display:flex;\n",
              "      gap: 12px;\n",
              "    }\n",
              "\n",
              "    .colab-df-convert {\n",
              "      background-color: #E8F0FE;\n",
              "      border: none;\n",
              "      border-radius: 50%;\n",
              "      cursor: pointer;\n",
              "      display: none;\n",
              "      fill: #1967D2;\n",
              "      height: 32px;\n",
              "      padding: 0 0 0 0;\n",
              "      width: 32px;\n",
              "    }\n",
              "\n",
              "    .colab-df-convert:hover {\n",
              "      background-color: #E2EBFA;\n",
              "      box-shadow: 0px 1px 2px rgba(60, 64, 67, 0.3), 0px 1px 3px 1px rgba(60, 64, 67, 0.15);\n",
              "      fill: #174EA6;\n",
              "    }\n",
              "\n",
              "    .colab-df-buttons div {\n",
              "      margin-bottom: 4px;\n",
              "    }\n",
              "\n",
              "    [theme=dark] .colab-df-convert {\n",
              "      background-color: #3B4455;\n",
              "      fill: #D2E3FC;\n",
              "    }\n",
              "\n",
              "    [theme=dark] .colab-df-convert:hover {\n",
              "      background-color: #434B5C;\n",
              "      box-shadow: 0px 1px 3px 1px rgba(0, 0, 0, 0.15);\n",
              "      filter: drop-shadow(0px 1px 2px rgba(0, 0, 0, 0.3));\n",
              "      fill: #FFFFFF;\n",
              "    }\n",
              "  </style>\n",
              "\n",
              "    <script>\n",
              "      const buttonEl =\n",
              "        document.querySelector('#df-0dad8f7c-b7c0-4831-a0bf-005a5761134e button.colab-df-convert');\n",
              "      buttonEl.style.display =\n",
              "        google.colab.kernel.accessAllowed ? 'block' : 'none';\n",
              "\n",
              "      async function convertToInteractive(key) {\n",
              "        const element = document.querySelector('#df-0dad8f7c-b7c0-4831-a0bf-005a5761134e');\n",
              "        const dataTable =\n",
              "          await google.colab.kernel.invokeFunction('convertToInteractive',\n",
              "                                                    [key], {});\n",
              "        if (!dataTable) return;\n",
              "\n",
              "        const docLinkHtml = 'Like what you see? Visit the ' +\n",
              "          '<a target=\"_blank\" href=https://colab.research.google.com/notebooks/data_table.ipynb>data table notebook</a>'\n",
              "          + ' to learn more about interactive tables.';\n",
              "        element.innerHTML = '';\n",
              "        dataTable['output_type'] = 'display_data';\n",
              "        await google.colab.output.renderOutput(dataTable, element);\n",
              "        const docLink = document.createElement('div');\n",
              "        docLink.innerHTML = docLinkHtml;\n",
              "        element.appendChild(docLink);\n",
              "      }\n",
              "    </script>\n",
              "  </div>\n",
              "\n",
              "\n",
              "<div id=\"df-68bf64a5-81fe-4db9-9587-df029b393662\">\n",
              "  <button class=\"colab-df-quickchart\" onclick=\"quickchart('df-68bf64a5-81fe-4db9-9587-df029b393662')\"\n",
              "            title=\"Suggest charts\"\n",
              "            style=\"display:none;\">\n",
              "\n",
              "<svg xmlns=\"http://www.w3.org/2000/svg\" height=\"24px\"viewBox=\"0 0 24 24\"\n",
              "     width=\"24px\">\n",
              "    <g>\n",
              "        <path d=\"M19 3H5c-1.1 0-2 .9-2 2v14c0 1.1.9 2 2 2h14c1.1 0 2-.9 2-2V5c0-1.1-.9-2-2-2zM9 17H7v-7h2v7zm4 0h-2V7h2v10zm4 0h-2v-4h2v4z\"/>\n",
              "    </g>\n",
              "</svg>\n",
              "  </button>\n",
              "\n",
              "<style>\n",
              "  .colab-df-quickchart {\n",
              "      --bg-color: #E8F0FE;\n",
              "      --fill-color: #1967D2;\n",
              "      --hover-bg-color: #E2EBFA;\n",
              "      --hover-fill-color: #174EA6;\n",
              "      --disabled-fill-color: #AAA;\n",
              "      --disabled-bg-color: #DDD;\n",
              "  }\n",
              "\n",
              "  [theme=dark] .colab-df-quickchart {\n",
              "      --bg-color: #3B4455;\n",
              "      --fill-color: #D2E3FC;\n",
              "      --hover-bg-color: #434B5C;\n",
              "      --hover-fill-color: #FFFFFF;\n",
              "      --disabled-bg-color: #3B4455;\n",
              "      --disabled-fill-color: #666;\n",
              "  }\n",
              "\n",
              "  .colab-df-quickchart {\n",
              "    background-color: var(--bg-color);\n",
              "    border: none;\n",
              "    border-radius: 50%;\n",
              "    cursor: pointer;\n",
              "    display: none;\n",
              "    fill: var(--fill-color);\n",
              "    height: 32px;\n",
              "    padding: 0;\n",
              "    width: 32px;\n",
              "  }\n",
              "\n",
              "  .colab-df-quickchart:hover {\n",
              "    background-color: var(--hover-bg-color);\n",
              "    box-shadow: 0 1px 2px rgba(60, 64, 67, 0.3), 0 1px 3px 1px rgba(60, 64, 67, 0.15);\n",
              "    fill: var(--button-hover-fill-color);\n",
              "  }\n",
              "\n",
              "  .colab-df-quickchart-complete:disabled,\n",
              "  .colab-df-quickchart-complete:disabled:hover {\n",
              "    background-color: var(--disabled-bg-color);\n",
              "    fill: var(--disabled-fill-color);\n",
              "    box-shadow: none;\n",
              "  }\n",
              "\n",
              "  .colab-df-spinner {\n",
              "    border: 2px solid var(--fill-color);\n",
              "    border-color: transparent;\n",
              "    border-bottom-color: var(--fill-color);\n",
              "    animation:\n",
              "      spin 1s steps(1) infinite;\n",
              "  }\n",
              "\n",
              "  @keyframes spin {\n",
              "    0% {\n",
              "      border-color: transparent;\n",
              "      border-bottom-color: var(--fill-color);\n",
              "      border-left-color: var(--fill-color);\n",
              "    }\n",
              "    20% {\n",
              "      border-color: transparent;\n",
              "      border-left-color: var(--fill-color);\n",
              "      border-top-color: var(--fill-color);\n",
              "    }\n",
              "    30% {\n",
              "      border-color: transparent;\n",
              "      border-left-color: var(--fill-color);\n",
              "      border-top-color: var(--fill-color);\n",
              "      border-right-color: var(--fill-color);\n",
              "    }\n",
              "    40% {\n",
              "      border-color: transparent;\n",
              "      border-right-color: var(--fill-color);\n",
              "      border-top-color: var(--fill-color);\n",
              "    }\n",
              "    60% {\n",
              "      border-color: transparent;\n",
              "      border-right-color: var(--fill-color);\n",
              "    }\n",
              "    80% {\n",
              "      border-color: transparent;\n",
              "      border-right-color: var(--fill-color);\n",
              "      border-bottom-color: var(--fill-color);\n",
              "    }\n",
              "    90% {\n",
              "      border-color: transparent;\n",
              "      border-bottom-color: var(--fill-color);\n",
              "    }\n",
              "  }\n",
              "</style>\n",
              "\n",
              "  <script>\n",
              "    async function quickchart(key) {\n",
              "      const quickchartButtonEl =\n",
              "        document.querySelector('#' + key + ' button');\n",
              "      quickchartButtonEl.disabled = true;  // To prevent multiple clicks.\n",
              "      quickchartButtonEl.classList.add('colab-df-spinner');\n",
              "      try {\n",
              "        const charts = await google.colab.kernel.invokeFunction(\n",
              "            'suggestCharts', [key], {});\n",
              "      } catch (error) {\n",
              "        console.error('Error during call to suggestCharts:', error);\n",
              "      }\n",
              "      quickchartButtonEl.classList.remove('colab-df-spinner');\n",
              "      quickchartButtonEl.classList.add('colab-df-quickchart-complete');\n",
              "    }\n",
              "    (() => {\n",
              "      let quickchartButtonEl =\n",
              "        document.querySelector('#df-68bf64a5-81fe-4db9-9587-df029b393662 button');\n",
              "      quickchartButtonEl.style.display =\n",
              "        google.colab.kernel.accessAllowed ? 'block' : 'none';\n",
              "    })();\n",
              "  </script>\n",
              "</div>\n",
              "\n",
              "  <div id=\"id_65f95768-fda9-4ed0-aced-757ee25543bd\">\n",
              "    <style>\n",
              "      .colab-df-generate {\n",
              "        background-color: #E8F0FE;\n",
              "        border: none;\n",
              "        border-radius: 50%;\n",
              "        cursor: pointer;\n",
              "        display: none;\n",
              "        fill: #1967D2;\n",
              "        height: 32px;\n",
              "        padding: 0 0 0 0;\n",
              "        width: 32px;\n",
              "      }\n",
              "\n",
              "      .colab-df-generate:hover {\n",
              "        background-color: #E2EBFA;\n",
              "        box-shadow: 0px 1px 2px rgba(60, 64, 67, 0.3), 0px 1px 3px 1px rgba(60, 64, 67, 0.15);\n",
              "        fill: #174EA6;\n",
              "      }\n",
              "\n",
              "      [theme=dark] .colab-df-generate {\n",
              "        background-color: #3B4455;\n",
              "        fill: #D2E3FC;\n",
              "      }\n",
              "\n",
              "      [theme=dark] .colab-df-generate:hover {\n",
              "        background-color: #434B5C;\n",
              "        box-shadow: 0px 1px 3px 1px rgba(0, 0, 0, 0.15);\n",
              "        filter: drop-shadow(0px 1px 2px rgba(0, 0, 0, 0.3));\n",
              "        fill: #FFFFFF;\n",
              "      }\n",
              "    </style>\n",
              "    <button class=\"colab-df-generate\" onclick=\"generateWithVariable('df')\"\n",
              "            title=\"Generate code using this dataframe.\"\n",
              "            style=\"display:none;\">\n",
              "\n",
              "  <svg xmlns=\"http://www.w3.org/2000/svg\" height=\"24px\"viewBox=\"0 0 24 24\"\n",
              "       width=\"24px\">\n",
              "    <path d=\"M7,19H8.4L18.45,9,17,7.55,7,17.6ZM5,21V16.75L18.45,3.32a2,2,0,0,1,2.83,0l1.4,1.43a1.91,1.91,0,0,1,.58,1.4,1.91,1.91,0,0,1-.58,1.4L9.25,21ZM18.45,9,17,7.55Zm-12,3A5.31,5.31,0,0,0,4.9,8.1,5.31,5.31,0,0,0,1,6.5,5.31,5.31,0,0,0,4.9,4.9,5.31,5.31,0,0,0,6.5,1,5.31,5.31,0,0,0,8.1,4.9,5.31,5.31,0,0,0,12,6.5,5.46,5.46,0,0,0,6.5,12Z\"/>\n",
              "  </svg>\n",
              "    </button>\n",
              "    <script>\n",
              "      (() => {\n",
              "      const buttonEl =\n",
              "        document.querySelector('#id_65f95768-fda9-4ed0-aced-757ee25543bd button.colab-df-generate');\n",
              "      buttonEl.style.display =\n",
              "        google.colab.kernel.accessAllowed ? 'block' : 'none';\n",
              "\n",
              "      buttonEl.onclick = () => {\n",
              "        google.colab.notebook.generateWithVariable('df');\n",
              "      }\n",
              "      })();\n",
              "    </script>\n",
              "  </div>\n",
              "\n",
              "    </div>\n",
              "  </div>\n"
            ],
            "application/vnd.google.colaboratory.intrinsic+json": {
              "type": "dataframe",
              "variable_name": "df",
              "summary": "{\n  \"name\": \"df\",\n  \"rows\": 8,\n  \"fields\": [\n    {\n      \"column\": \"year\",\n      \"properties\": {\n        \"dtype\": \"int32\",\n        \"num_unique_values\": 1,\n        \"samples\": [\n          2023\n        ],\n        \"semantic_type\": \"\",\n        \"description\": \"\"\n      }\n    },\n    {\n      \"column\": \"day_of_year\",\n      \"properties\": {\n        \"dtype\": \"int32\",\n        \"num_unique_values\": 8,\n        \"samples\": [\n          5\n        ],\n        \"semantic_type\": \"\",\n        \"description\": \"\"\n      }\n    }\n  ]\n}"
            }
          },
          "metadata": {},
          "execution_count": 23
        }
      ]
    },
    {
      "cell_type": "markdown",
      "source": [
        "13. Write a Pandas program to create a series of Timestamps from a DataFrame\n",
        "of integer or string columns. Also create a series of Timestamps using specified\n",
        "columns."
      ],
      "metadata": {
        "id": "lAFX1PVgsvLY"
      }
    },
    {
      "cell_type": "code",
      "source": [
        "data = {\n",
        "    'year': [2023, 2023, 2023, 2024, 2025],\n",
        "    'month': [1, 2, 3, 4, 9],\n",
        "    'day': [10, 15, 20, 23, 1]\n",
        "}\n",
        "df = pd.DataFrame(data)\n",
        "df['date'] = pd.to_datetime(df[['year', 'month', 'day']])\n",
        "timestamp_series = pd.to_datetime(df[['year', 'month', 'day']])\n",
        "print(timestamp_series)\n"
      ],
      "metadata": {
        "colab": {
          "base_uri": "https://localhost:8080/"
        },
        "id": "jlKzFwvDsvvV",
        "outputId": "a2c32a80-d494-41f7-877e-7ef7a437568e"
      },
      "execution_count": 24,
      "outputs": [
        {
          "output_type": "stream",
          "name": "stdout",
          "text": [
            "0   2023-01-10\n",
            "1   2023-02-15\n",
            "2   2023-03-20\n",
            "3   2024-04-23\n",
            "4   2025-09-01\n",
            "dtype: datetime64[ns]\n"
          ]
        }
      ]
    },
    {
      "cell_type": "markdown",
      "source": [
        "14. Write a Pandas program to check if a day is a business day (weekday) or not."
      ],
      "metadata": {
        "id": "0WGb8NQZvTnr"
      }
    },
    {
      "cell_type": "code",
      "source": [
        "day = pd.to_datetime(\"23-12-2024\", format=\"mixed\")\n",
        "is_weekday = day.weekday() < 5\n",
        "print(is_weekday)\n",
        "print(day.weekday())"
      ],
      "metadata": {
        "colab": {
          "base_uri": "https://localhost:8080/"
        },
        "id": "A4rMzCn4vUTw",
        "outputId": "704a9f78-daf0-4cda-d34e-c5fa0e4a3c3a"
      },
      "execution_count": 25,
      "outputs": [
        {
          "output_type": "stream",
          "name": "stdout",
          "text": [
            "True\n",
            "0\n"
          ]
        }
      ]
    },
    {
      "cell_type": "markdown",
      "source": [
        "15. Write a Pandas program to get a time series with the last working days of\n",
        "each month of a specific year."
      ],
      "metadata": {
        "id": "ya8CTzB6waNB"
      }
    },
    {
      "cell_type": "code",
      "source": [
        "# freq='BM': This frequency represents the last business day of each month.\n",
        "ser = pd.date_range(start = \"1/1/2023\", end = \"31/12/2023\", freq='BM')\n",
        "ser"
      ],
      "metadata": {
        "colab": {
          "base_uri": "https://localhost:8080/"
        },
        "id": "VfmPzEm-wazg",
        "outputId": "a610f71f-0568-4ff6-9225-88fc8e177f7c"
      },
      "execution_count": 26,
      "outputs": [
        {
          "output_type": "stream",
          "name": "stderr",
          "text": [
            "<ipython-input-26-1cff8af3b760>:2: FutureWarning: 'BM' is deprecated and will be removed in a future version, please use 'BME' instead.\n",
            "  ser = pd.date_range(start = \"1/1/2023\", end = \"31/12/2023\", freq='BM')\n"
          ]
        },
        {
          "output_type": "execute_result",
          "data": {
            "text/plain": [
              "DatetimeIndex(['2023-01-31', '2023-02-28', '2023-03-31', '2023-04-28',\n",
              "               '2023-05-31', '2023-06-30', '2023-07-31', '2023-08-31',\n",
              "               '2023-09-29', '2023-10-31', '2023-11-30', '2023-12-29'],\n",
              "              dtype='datetime64[ns]', freq='BME')"
            ]
          },
          "metadata": {},
          "execution_count": 26
        }
      ]
    },
    {
      "cell_type": "markdown",
      "source": [
        "16. Write a Pandas program to create a time series combining hour and minute.\n"
      ],
      "metadata": {
        "id": "_PnVwnkC2t7k"
      }
    },
    {
      "cell_type": "code",
      "source": [
        "\n",
        "hours = pd.Series(np.random.randint(0, 23, 10))\n",
        "minutes = pd.Series(np.random.randint(0, 59, 10))\n",
        "ser = pd.Series(pd.to_datetime(hours.astype(str) + ':' + minutes.astype(str), format='%H:%M'))\n",
        "ser = pd.to_datetime(ser)\n",
        "ser = ser.apply(lambda x: x.time())\n",
        "ser.info()"
      ],
      "metadata": {
        "colab": {
          "base_uri": "https://localhost:8080/"
        },
        "id": "NT_RK0wn2t4P",
        "outputId": "d001995f-bfb0-411b-ac54-5c4da3c2d1dc"
      },
      "execution_count": 27,
      "outputs": [
        {
          "output_type": "stream",
          "name": "stdout",
          "text": [
            "<class 'pandas.core.series.Series'>\n",
            "RangeIndex: 10 entries, 0 to 9\n",
            "Series name: None\n",
            "Non-Null Count  Dtype \n",
            "--------------  ----- \n",
            "10 non-null     object\n",
            "dtypes: object(1)\n",
            "memory usage: 208.0+ bytes\n"
          ]
        }
      ]
    },
    {
      "cell_type": "markdown",
      "source": [
        "17. Write a Pandas program to convert unix/epoch time to a regular time stamp\n",
        "in UTC. Also convert the said timestamp in to a given time zone.\n"
      ],
      "metadata": {
        "id": "dfPXNvBo3whT"
      }
    },
    {
      "cell_type": "code",
      "source": [
        "unix_time = 1720000000\n",
        "\n",
        "timestamp_utc = pd.to_datetime(unix_time, unit='s', utc=True)\n",
        "timestamp_local = timestamp_utc.tz_convert('Asia/Kolkata')\n",
        "timestamp_local.to_datetime64()\n"
      ],
      "metadata": {
        "colab": {
          "base_uri": "https://localhost:8080/"
        },
        "id": "UQdxkOe43wcT",
        "outputId": "3f3d45b7-13b8-415c-8607-8bdcba15c75a"
      },
      "execution_count": 28,
      "outputs": [
        {
          "output_type": "execute_result",
          "data": {
            "text/plain": [
              "numpy.datetime64('2024-07-03T09:46:40.000000000')"
            ]
          },
          "metadata": {},
          "execution_count": 28
        }
      ]
    },
    {
      "cell_type": "markdown",
      "source": [
        "18. Write a Pandas program to create a time series object with a time zone."
      ],
      "metadata": {
        "id": "ZVO4LuCO7XJb"
      }
    },
    {
      "cell_type": "code",
      "source": [
        "ser = pd.date_range(start = \"21-7-2024\",\n",
        "                    end = \"30-9-2024\",\n",
        "                    freq = 'D')\n",
        "ser = ser.tz_localize(\"Asia/Kolkata\")\n",
        "\n",
        "ser"
      ],
      "metadata": {
        "colab": {
          "base_uri": "https://localhost:8080/"
        },
        "id": "cZflUHqZ7XF2",
        "outputId": "ed215eaa-4fc8-413e-c171-e68db3da8ba9"
      },
      "execution_count": 29,
      "outputs": [
        {
          "output_type": "execute_result",
          "data": {
            "text/plain": [
              "DatetimeIndex(['2024-07-21 00:00:00+05:30', '2024-07-22 00:00:00+05:30',\n",
              "               '2024-07-23 00:00:00+05:30', '2024-07-24 00:00:00+05:30',\n",
              "               '2024-07-25 00:00:00+05:30', '2024-07-26 00:00:00+05:30',\n",
              "               '2024-07-27 00:00:00+05:30', '2024-07-28 00:00:00+05:30',\n",
              "               '2024-07-29 00:00:00+05:30', '2024-07-30 00:00:00+05:30',\n",
              "               '2024-07-31 00:00:00+05:30', '2024-08-01 00:00:00+05:30',\n",
              "               '2024-08-02 00:00:00+05:30', '2024-08-03 00:00:00+05:30',\n",
              "               '2024-08-04 00:00:00+05:30', '2024-08-05 00:00:00+05:30',\n",
              "               '2024-08-06 00:00:00+05:30', '2024-08-07 00:00:00+05:30',\n",
              "               '2024-08-08 00:00:00+05:30', '2024-08-09 00:00:00+05:30',\n",
              "               '2024-08-10 00:00:00+05:30', '2024-08-11 00:00:00+05:30',\n",
              "               '2024-08-12 00:00:00+05:30', '2024-08-13 00:00:00+05:30',\n",
              "               '2024-08-14 00:00:00+05:30', '2024-08-15 00:00:00+05:30',\n",
              "               '2024-08-16 00:00:00+05:30', '2024-08-17 00:00:00+05:30',\n",
              "               '2024-08-18 00:00:00+05:30', '2024-08-19 00:00:00+05:30',\n",
              "               '2024-08-20 00:00:00+05:30', '2024-08-21 00:00:00+05:30',\n",
              "               '2024-08-22 00:00:00+05:30', '2024-08-23 00:00:00+05:30',\n",
              "               '2024-08-24 00:00:00+05:30', '2024-08-25 00:00:00+05:30',\n",
              "               '2024-08-26 00:00:00+05:30', '2024-08-27 00:00:00+05:30',\n",
              "               '2024-08-28 00:00:00+05:30', '2024-08-29 00:00:00+05:30',\n",
              "               '2024-08-30 00:00:00+05:30', '2024-08-31 00:00:00+05:30',\n",
              "               '2024-09-01 00:00:00+05:30', '2024-09-02 00:00:00+05:30',\n",
              "               '2024-09-03 00:00:00+05:30', '2024-09-04 00:00:00+05:30',\n",
              "               '2024-09-05 00:00:00+05:30', '2024-09-06 00:00:00+05:30',\n",
              "               '2024-09-07 00:00:00+05:30', '2024-09-08 00:00:00+05:30',\n",
              "               '2024-09-09 00:00:00+05:30', '2024-09-10 00:00:00+05:30',\n",
              "               '2024-09-11 00:00:00+05:30', '2024-09-12 00:00:00+05:30',\n",
              "               '2024-09-13 00:00:00+05:30', '2024-09-14 00:00:00+05:30',\n",
              "               '2024-09-15 00:00:00+05:30', '2024-09-16 00:00:00+05:30',\n",
              "               '2024-09-17 00:00:00+05:30', '2024-09-18 00:00:00+05:30',\n",
              "               '2024-09-19 00:00:00+05:30', '2024-09-20 00:00:00+05:30',\n",
              "               '2024-09-21 00:00:00+05:30', '2024-09-22 00:00:00+05:30',\n",
              "               '2024-09-23 00:00:00+05:30', '2024-09-24 00:00:00+05:30',\n",
              "               '2024-09-25 00:00:00+05:30', '2024-09-26 00:00:00+05:30',\n",
              "               '2024-09-27 00:00:00+05:30', '2024-09-28 00:00:00+05:30',\n",
              "               '2024-09-29 00:00:00+05:30', '2024-09-30 00:00:00+05:30'],\n",
              "              dtype='datetime64[ns, Asia/Kolkata]', freq=None)"
            ]
          },
          "metadata": {},
          "execution_count": 29
        }
      ]
    },
    {
      "cell_type": "markdown",
      "source": [
        "19. Write a Pandas program to remove the time zone information from a Time\n",
        "series data."
      ],
      "metadata": {
        "id": "1F8VOaUK8WoE"
      }
    },
    {
      "cell_type": "code",
      "source": [
        "ser = pd.date_range(start = \"21-7-2024\",\n",
        "                    end = \"30-9-2024\",\n",
        "                    freq = 'D')\n",
        "ser = ser.tz_localize(\"Asia/Kolkata\")\n",
        "ser = ser.tz_localize(None)\n",
        "ser"
      ],
      "metadata": {
        "colab": {
          "base_uri": "https://localhost:8080/"
        },
        "id": "FnSFLFtY8V99",
        "outputId": "f54ba40a-d606-4733-8cc4-09477a3460c1"
      },
      "execution_count": 30,
      "outputs": [
        {
          "output_type": "execute_result",
          "data": {
            "text/plain": [
              "DatetimeIndex(['2024-07-21', '2024-07-22', '2024-07-23', '2024-07-24',\n",
              "               '2024-07-25', '2024-07-26', '2024-07-27', '2024-07-28',\n",
              "               '2024-07-29', '2024-07-30', '2024-07-31', '2024-08-01',\n",
              "               '2024-08-02', '2024-08-03', '2024-08-04', '2024-08-05',\n",
              "               '2024-08-06', '2024-08-07', '2024-08-08', '2024-08-09',\n",
              "               '2024-08-10', '2024-08-11', '2024-08-12', '2024-08-13',\n",
              "               '2024-08-14', '2024-08-15', '2024-08-16', '2024-08-17',\n",
              "               '2024-08-18', '2024-08-19', '2024-08-20', '2024-08-21',\n",
              "               '2024-08-22', '2024-08-23', '2024-08-24', '2024-08-25',\n",
              "               '2024-08-26', '2024-08-27', '2024-08-28', '2024-08-29',\n",
              "               '2024-08-30', '2024-08-31', '2024-09-01', '2024-09-02',\n",
              "               '2024-09-03', '2024-09-04', '2024-09-05', '2024-09-06',\n",
              "               '2024-09-07', '2024-09-08', '2024-09-09', '2024-09-10',\n",
              "               '2024-09-11', '2024-09-12', '2024-09-13', '2024-09-14',\n",
              "               '2024-09-15', '2024-09-16', '2024-09-17', '2024-09-18',\n",
              "               '2024-09-19', '2024-09-20', '2024-09-21', '2024-09-22',\n",
              "               '2024-09-23', '2024-09-24', '2024-09-25', '2024-09-26',\n",
              "               '2024-09-27', '2024-09-28', '2024-09-29', '2024-09-30'],\n",
              "              dtype='datetime64[ns]', freq=None)"
            ]
          },
          "metadata": {},
          "execution_count": 30
        }
      ]
    },
    {
      "cell_type": "markdown",
      "source": [
        "20. Write a Pandas program to subtract two timestamps of same time zone or different time zone."
      ],
      "metadata": {
        "id": "xVMzhAhy8V2l"
      }
    },
    {
      "cell_type": "code",
      "source": [
        "Ts1 = pd.Timestamp(year = 2024, month = 12, day = 2).tz_localize(\"Asia/Kolkata\")\n",
        "Ts2 = pd.Timestamp(year = 2024, month = 12, day = 4).tz_localize(\"Asia/Kolkata\")\n",
        "diff = Ts1 - Ts2\n",
        "print(diff)\n",
        "\n",
        "ts3 = pd.Timestamp(year = 2024, month = 12, day = 2).tz_localize(\"Asia/Kolkata\")\n",
        "ts4 = pd.Timestamp(year = 2024, month = 12, day = 5).tz_localize('America/New_York')\n",
        "print(ts3 - ts4)"
      ],
      "metadata": {
        "colab": {
          "base_uri": "https://localhost:8080/"
        },
        "id": "p5cMdQUU84el",
        "outputId": "313d9d46-3ab7-4518-bf00-ec537eb1c32a"
      },
      "execution_count": 31,
      "outputs": [
        {
          "output_type": "stream",
          "name": "stdout",
          "text": [
            "-2 days +00:00:00\n",
            "-4 days +13:30:00\n"
          ]
        }
      ]
    },
    {
      "cell_type": "markdown",
      "source": [
        "21. Write a Pandas program to calculate all Thursdays between two given days."
      ],
      "metadata": {
        "id": "fSQw87Kd__p9"
      }
    },
    {
      "cell_type": "code",
      "source": [
        "date_1 = \"20-9-2024\"\n",
        "date_2 = \"30-12-2024\"\n",
        "ser = pd.date_range(start = date_1, end = date_2, freq = 'W-THU')\n",
        "ser.to_list()"
      ],
      "metadata": {
        "colab": {
          "base_uri": "https://localhost:8080/"
        },
        "id": "V1Pcky8Z__mM",
        "outputId": "132168c5-6f26-4cbf-e51c-c190e8d3b444"
      },
      "execution_count": 32,
      "outputs": [
        {
          "output_type": "execute_result",
          "data": {
            "text/plain": [
              "[Timestamp('2024-09-26 00:00:00'),\n",
              " Timestamp('2024-10-03 00:00:00'),\n",
              " Timestamp('2024-10-10 00:00:00'),\n",
              " Timestamp('2024-10-17 00:00:00'),\n",
              " Timestamp('2024-10-24 00:00:00'),\n",
              " Timestamp('2024-10-31 00:00:00'),\n",
              " Timestamp('2024-11-07 00:00:00'),\n",
              " Timestamp('2024-11-14 00:00:00'),\n",
              " Timestamp('2024-11-21 00:00:00'),\n",
              " Timestamp('2024-11-28 00:00:00'),\n",
              " Timestamp('2024-12-05 00:00:00'),\n",
              " Timestamp('2024-12-12 00:00:00'),\n",
              " Timestamp('2024-12-19 00:00:00'),\n",
              " Timestamp('2024-12-26 00:00:00')]"
            ]
          },
          "metadata": {},
          "execution_count": 32
        }
      ]
    },
    {
      "cell_type": "markdown",
      "source": [
        "22. Write a Pandas program to find the all the business quarterly begin and end\n",
        "dates of a specified year."
      ],
      "metadata": {
        "id": "reYBfm0CA2zZ"
      }
    },
    {
      "cell_type": "code",
      "source": [
        "date_1 = \"01-01-2024\"\n",
        "date_2 = \"31-12-2024\"\n",
        "ser_start = pd.date_range(start = date_1, end = date_2, freq = 'BQS')\n",
        "ser_end = pd.date_range(start = date_1, end = date_2, freq = 'BQ')\n",
        "print(ser_start.to_list())\n",
        "print(ser_end.to_list())"
      ],
      "metadata": {
        "colab": {
          "base_uri": "https://localhost:8080/"
        },
        "id": "MXbvZRiLA2uJ",
        "outputId": "f01878ef-c11b-4146-af1b-5f336424bf13"
      },
      "execution_count": 33,
      "outputs": [
        {
          "output_type": "stream",
          "name": "stdout",
          "text": [
            "[Timestamp('2024-01-01 00:00:00'), Timestamp('2024-04-01 00:00:00'), Timestamp('2024-07-01 00:00:00'), Timestamp('2024-10-01 00:00:00')]\n",
            "[Timestamp('2024-03-29 00:00:00'), Timestamp('2024-06-28 00:00:00'), Timestamp('2024-09-30 00:00:00'), Timestamp('2024-12-31 00:00:00')]\n"
          ]
        },
        {
          "output_type": "stream",
          "name": "stderr",
          "text": [
            "<ipython-input-33-d0ae3d50afd5>:4: FutureWarning: 'BQ' is deprecated and will be removed in a future version, please use 'BQE' instead.\n",
            "  ser_end = pd.date_range(start = date_1, end = date_2, freq = 'BQ')\n"
          ]
        }
      ]
    },
    {
      "cell_type": "markdown",
      "source": [
        "23. Write a Pandas program to generate sequences of fixed-frequency dates and\n",
        "time spans intervals."
      ],
      "metadata": {
        "id": "ssUgINPXEZ17"
      }
    },
    {
      "cell_type": "code",
      "source": [
        "date_sequence = pd.date_range(start=\"2024-10-21\", end=\"2024-10-30\", freq='D')\n",
        "time_sequence = pd.timedelta_range(start='0 days', end='10 hours', freq='1H')\n",
        "print(\"Date sequence\")\n",
        "print(date_sequence)\n",
        "print(\"Time sequence\")\n",
        "print(time_sequence)"
      ],
      "metadata": {
        "colab": {
          "base_uri": "https://localhost:8080/"
        },
        "id": "daBJhUq5Ea0J",
        "outputId": "ebd30f51-a46a-49cd-f1f5-a38f30d13acf"
      },
      "execution_count": 34,
      "outputs": [
        {
          "output_type": "stream",
          "name": "stdout",
          "text": [
            "Date sequence\n",
            "DatetimeIndex(['2024-10-21', '2024-10-22', '2024-10-23', '2024-10-24',\n",
            "               '2024-10-25', '2024-10-26', '2024-10-27', '2024-10-28',\n",
            "               '2024-10-29', '2024-10-30'],\n",
            "              dtype='datetime64[ns]', freq='D')\n",
            "Time sequence\n",
            "TimedeltaIndex(['0 days 00:00:00', '0 days 01:00:00', '0 days 02:00:00',\n",
            "                '0 days 03:00:00', '0 days 04:00:00', '0 days 05:00:00',\n",
            "                '0 days 06:00:00', '0 days 07:00:00', '0 days 08:00:00',\n",
            "                '0 days 09:00:00', '0 days 10:00:00'],\n",
            "               dtype='timedelta64[ns]', freq='h')\n"
          ]
        },
        {
          "output_type": "stream",
          "name": "stderr",
          "text": [
            "<ipython-input-34-eedafe4a7e5d>:2: FutureWarning: 'H' is deprecated and will be removed in a future version, please use 'h' instead.\n",
            "  time_sequence = pd.timedelta_range(start='0 days', end='10 hours', freq='1H')\n"
          ]
        }
      ]
    },
    {
      "cell_type": "markdown",
      "source": [
        "24. Write a Pandas program to generate time series combining day and intraday\n",
        "offsets intervals."
      ],
      "metadata": {
        "id": "Dk-F2j3Y1xe6"
      }
    },
    {
      "cell_type": "code",
      "source": [
        "daily_timestamps = pd.date_range(start=\"2024-10-01\", periods=10, freq='D')\n",
        "intraday_timestamps = pd.date_range(start=\"2024-10-01\", periods=24*10, freq='H')\n",
        "combined_timestamps = pd.concat([pd.Series(daily_timestamps), pd.Series(intraday_timestamps)])\n",
        "combined_timestamps = combined_timestamps.sort_values().drop_duplicates()\n",
        "print(combined_timestamps)\n",
        "print(intraday_timestamps)\n"
      ],
      "metadata": {
        "colab": {
          "base_uri": "https://localhost:8080/"
        },
        "id": "o01Q9bDd1yaA",
        "outputId": "71784ee8-f575-4c13-c143-b10c46eccee8"
      },
      "execution_count": 41,
      "outputs": [
        {
          "output_type": "stream",
          "name": "stdout",
          "text": [
            "0     2024-10-01 00:00:00\n",
            "1     2024-10-01 01:00:00\n",
            "2     2024-10-01 02:00:00\n",
            "3     2024-10-01 03:00:00\n",
            "4     2024-10-01 04:00:00\n",
            "              ...        \n",
            "235   2024-10-10 19:00:00\n",
            "236   2024-10-10 20:00:00\n",
            "237   2024-10-10 21:00:00\n",
            "238   2024-10-10 22:00:00\n",
            "239   2024-10-10 23:00:00\n",
            "Length: 240, dtype: datetime64[ns]\n",
            "DatetimeIndex(['2024-10-01 00:00:00', '2024-10-01 01:00:00',\n",
            "               '2024-10-01 02:00:00', '2024-10-01 03:00:00',\n",
            "               '2024-10-01 04:00:00', '2024-10-01 05:00:00',\n",
            "               '2024-10-01 06:00:00', '2024-10-01 07:00:00',\n",
            "               '2024-10-01 08:00:00', '2024-10-01 09:00:00',\n",
            "               ...\n",
            "               '2024-10-10 14:00:00', '2024-10-10 15:00:00',\n",
            "               '2024-10-10 16:00:00', '2024-10-10 17:00:00',\n",
            "               '2024-10-10 18:00:00', '2024-10-10 19:00:00',\n",
            "               '2024-10-10 20:00:00', '2024-10-10 21:00:00',\n",
            "               '2024-10-10 22:00:00', '2024-10-10 23:00:00'],\n",
            "              dtype='datetime64[ns]', length=240, freq='h')\n",
            "DatetimeIndex(['2024-10-01', '2024-10-02', '2024-10-03', '2024-10-04',\n",
            "               '2024-10-05', '2024-10-06', '2024-10-07', '2024-10-08',\n",
            "               '2024-10-09', '2024-10-10'],\n",
            "              dtype='datetime64[ns]', freq='D')\n"
          ]
        },
        {
          "output_type": "stream",
          "name": "stderr",
          "text": [
            "<ipython-input-41-a013c1d4eafa>:2: FutureWarning: 'H' is deprecated and will be removed in a future version, please use 'h' instead.\n",
            "  intraday_timestamps = pd.date_range(start=\"2024-10-01\", periods=24*10, freq='H')\n"
          ]
        }
      ]
    },
    {
      "cell_type": "markdown",
      "source": [
        "25. Write a Pandas program to extract the day name from a specified date. Add 2\n",
        "days and 1 business day with the specified date."
      ],
      "metadata": {
        "id": "DJmxfwZo5DM1"
      }
    },
    {
      "cell_type": "code",
      "source": [
        "date = \"2024-10-18\"\n",
        "date = pd.to_datetime(date)\n",
        "print(date.day_name())\n",
        "print(date + pd.Timedelta(days = 2))\n",
        "print(date + pd.offsets.BDay(2))"
      ],
      "metadata": {
        "colab": {
          "base_uri": "https://localhost:8080/"
        },
        "id": "9qbztPHC5EiT",
        "outputId": "e26a9d55-b807-44db-9180-722efb8c2e1a"
      },
      "execution_count": 54,
      "outputs": [
        {
          "output_type": "stream",
          "name": "stdout",
          "text": [
            "Friday\n",
            "2024-10-20 00:00:00\n",
            "2024-10-22 00:00:00\n"
          ]
        }
      ]
    },
    {
      "cell_type": "markdown",
      "source": [
        "26. Write a Pandas program to convert integer or float epoch times to Timestamp\n",
        "and DatetimeIndex."
      ],
      "metadata": {
        "id": "ODU4ACHn6p3r"
      }
    },
    {
      "cell_type": "code",
      "source": [
        "epoch = 1720000003\n",
        "date = pd.to_datetime(epoch, unit='s')\n",
        "print(date, type(date))\n",
        "date_index = pd.date_range(start=date, periods=1)\n",
        "print(date_index, type(date_index))"
      ],
      "metadata": {
        "colab": {
          "base_uri": "https://localhost:8080/"
        },
        "id": "QDidAO7c6pvL",
        "outputId": "db5448e9-b1c8-47d5-88c7-5d653b265a30"
      },
      "execution_count": 61,
      "outputs": [
        {
          "output_type": "stream",
          "name": "stdout",
          "text": [
            "2024-07-03 09:46:43 <class 'pandas._libs.tslibs.timestamps.Timestamp'>\n",
            "DatetimeIndex(['2024-07-03 09:46:43'], dtype='datetime64[ns]', freq='D') <class 'pandas.core.indexes.datetimes.DatetimeIndex'>\n"
          ]
        }
      ]
    },
    {
      "cell_type": "markdown",
      "source": [
        "27. Write a Pandas program to calculate one, two, three business day(s) from a\n",
        "specified date. Also find the next business month end from a specific date."
      ],
      "metadata": {
        "id": "LEONDQx68v4f"
      }
    },
    {
      "cell_type": "code",
      "source": [
        "date = pd.to_datetime(\"2024-10-18\")\n",
        "print(date + pd.offsets.BDay(1))\n",
        "print(date + pd.offsets.BDay(2))\n",
        "print(date + pd.offsets.BDay(3))\n",
        "print(date + pd.offsets.BMonthEnd())"
      ],
      "metadata": {
        "colab": {
          "base_uri": "https://localhost:8080/"
        },
        "id": "LhTXDnp88vuw",
        "outputId": "6b6e7d33-b515-4b93-a35d-bffb7145fdfd"
      },
      "execution_count": 65,
      "outputs": [
        {
          "output_type": "stream",
          "name": "stdout",
          "text": [
            "2024-10-21 00:00:00\n",
            "2024-10-22 00:00:00\n",
            "2024-10-23 00:00:00\n",
            "2024-10-31 00:00:00\n"
          ]
        }
      ]
    },
    {
      "cell_type": "markdown",
      "source": [
        "28. Write a Pandas program to create a period index represent all monthly\n",
        "boundaries of a given year. Also print start and end time for each period object in\n",
        "the said index."
      ],
      "metadata": {
        "id": "X7NOi1Es9uWs"
      }
    },
    {
      "cell_type": "code",
      "source": [
        "year=\"2024\"\n",
        "period_range = pd.period_range(start=f\"{year}-01\", end=f\"{year}-12\", freq='M')\n",
        "\n",
        "print(period_range)\n",
        "\n",
        "for period in period_range:\n",
        "  start_time = period.start_time\n",
        "  end_time = period.end_time\n",
        "  print(f\"Period: {period}, Start Time: {start_time}, End Time: {end_time}\")"
      ],
      "metadata": {
        "colab": {
          "base_uri": "https://localhost:8080/"
        },
        "id": "N-cmQXXE9uP0",
        "outputId": "d723bb1d-6461-43f8-adb7-17e8ecd2cb70"
      },
      "execution_count": 67,
      "outputs": [
        {
          "output_type": "stream",
          "name": "stdout",
          "text": [
            "PeriodIndex(['2024-01', '2024-02', '2024-03', '2024-04', '2024-05', '2024-06',\n",
            "             '2024-07', '2024-08', '2024-09', '2024-10', '2024-11', '2024-12'],\n",
            "            dtype='period[M]')\n",
            "Period: 2024-01, Start Time: 2024-01-01 00:00:00, End Time: 2024-01-31 23:59:59.999999999\n",
            "Period: 2024-02, Start Time: 2024-02-01 00:00:00, End Time: 2024-02-29 23:59:59.999999999\n",
            "Period: 2024-03, Start Time: 2024-03-01 00:00:00, End Time: 2024-03-31 23:59:59.999999999\n",
            "Period: 2024-04, Start Time: 2024-04-01 00:00:00, End Time: 2024-04-30 23:59:59.999999999\n",
            "Period: 2024-05, Start Time: 2024-05-01 00:00:00, End Time: 2024-05-31 23:59:59.999999999\n",
            "Period: 2024-06, Start Time: 2024-06-01 00:00:00, End Time: 2024-06-30 23:59:59.999999999\n",
            "Period: 2024-07, Start Time: 2024-07-01 00:00:00, End Time: 2024-07-31 23:59:59.999999999\n",
            "Period: 2024-08, Start Time: 2024-08-01 00:00:00, End Time: 2024-08-31 23:59:59.999999999\n",
            "Period: 2024-09, Start Time: 2024-09-01 00:00:00, End Time: 2024-09-30 23:59:59.999999999\n",
            "Period: 2024-10, Start Time: 2024-10-01 00:00:00, End Time: 2024-10-31 23:59:59.999999999\n",
            "Period: 2024-11, Start Time: 2024-11-01 00:00:00, End Time: 2024-11-30 23:59:59.999999999\n",
            "Period: 2024-12, Start Time: 2024-12-01 00:00:00, End Time: 2024-12-31 23:59:59.999999999\n"
          ]
        }
      ]
    },
    {
      "cell_type": "markdown",
      "source": [
        "29. Write a Pandas program create a series with a PeriodIndex which represents\n",
        "all the calendar month periods in 2029 and 2031. Also print the values for all\n",
        "periods in 2030.\n",
        "Note: PeriodIndex is an immutable ndarray holding ordinal values indicating\n",
        "regular periods in time such as particular years, quarters, months, etc."
      ],
      "metadata": {
        "id": "hayDhJ-4_6vN"
      }
    },
    {
      "cell_type": "code",
      "source": [
        "start_year = \"2029\"\n",
        "end_year = \"2031\"\n",
        "\n",
        "period_range = pd.period_range(start=f\"{start_year}-01\", end=f\"{end_year}-12\", freq='M')\n",
        "\n",
        "data = np.random.randint(1,100,len(period_range))\n",
        "\n",
        "series = pd.Series(data, index=period_range)\n",
        "\n",
        "print(\"All calender month periods in 2029-2031\")\n",
        "print(series)\n",
        "\n",
        "print(\"Values for all periods in 2030\")\n",
        "print(series[\"2030-01\" : \"2030-12\"])"
      ],
      "metadata": {
        "colab": {
          "base_uri": "https://localhost:8080/"
        },
        "id": "giJXmOI1_7JL",
        "outputId": "5bbfe34d-0d12-4169-aaf7-8afcdf4a83aa"
      },
      "execution_count": 76,
      "outputs": [
        {
          "output_type": "stream",
          "name": "stdout",
          "text": [
            "All calender month periods in 2029-2031\n",
            "2029-01    71\n",
            "2029-02    38\n",
            "2029-03    85\n",
            "2029-04    51\n",
            "2029-05    78\n",
            "2029-06    97\n",
            "2029-07    44\n",
            "2029-08    54\n",
            "2029-09    55\n",
            "2029-10    10\n",
            "2029-11    77\n",
            "2029-12    77\n",
            "2030-01    69\n",
            "2030-02    79\n",
            "2030-03    27\n",
            "2030-04    32\n",
            "2030-05    30\n",
            "2030-06    54\n",
            "2030-07    98\n",
            "2030-08     7\n",
            "2030-09    94\n",
            "2030-10    67\n",
            "2030-11    49\n",
            "2030-12    97\n",
            "2031-01    34\n",
            "2031-02     7\n",
            "2031-03    58\n",
            "2031-04     5\n",
            "2031-05    70\n",
            "2031-06    35\n",
            "2031-07    13\n",
            "2031-08    89\n",
            "2031-09    15\n",
            "2031-10     3\n",
            "2031-11    80\n",
            "2031-12    36\n",
            "Freq: M, dtype: int64\n",
            "Values for all periods in 2030\n",
            "2030-01    69\n",
            "2030-02    79\n",
            "2030-03    27\n",
            "2030-04    32\n",
            "2030-05    30\n",
            "2030-06    54\n",
            "2030-07    98\n",
            "2030-08     7\n",
            "2030-09    94\n",
            "2030-10    67\n",
            "2030-11    49\n",
            "2030-12    97\n",
            "Freq: M, dtype: int64\n"
          ]
        }
      ]
    },
    {
      "cell_type": "markdown",
      "source": [
        "30. Write a Pandas program to generate holidays between two dates using the\n",
        "US federal holiday calendar."
      ],
      "metadata": {
        "id": "hZZ2GpGgD0-X"
      }
    },
    {
      "cell_type": "code",
      "source": [
        "from pandas.tseries.holiday import USFederalHolidayCalendar\n",
        "date_range = pd.date_range(start=\"2023-01-01\", end=\"2023-12-31\")\n",
        "us_calender = USFederalHolidayCalendar()\n",
        "holiday_list = us_calender.holidays(start = date_range.min(), end = date_range.max())\n",
        "holiday_list"
      ],
      "metadata": {
        "colab": {
          "base_uri": "https://localhost:8080/"
        },
        "id": "gNMU8uDaD1fW",
        "outputId": "ee84095d-6904-42d6-8274-a13a520afb56"
      },
      "execution_count": 77,
      "outputs": [
        {
          "output_type": "execute_result",
          "data": {
            "text/plain": [
              "DatetimeIndex(['2023-01-02', '2023-01-16', '2023-02-20', '2023-05-29',\n",
              "               '2023-06-19', '2023-07-04', '2023-09-04', '2023-10-09',\n",
              "               '2023-11-10', '2023-11-23', '2023-12-25'],\n",
              "              dtype='datetime64[ns]', freq=None)"
            ]
          },
          "metadata": {},
          "execution_count": 77
        }
      ]
    },
    {
      "cell_type": "markdown",
      "source": [
        "31. Write a Pandas program to create a monthly time period and display the list\n",
        "of names in the current local scope."
      ],
      "metadata": {
        "id": "Q9mIb1zwEzKH"
      }
    },
    {
      "cell_type": "code",
      "source": [
        "time_period = pd.Period('2024-11','M')\n",
        "print(\"Monthly time perid: \",time_period)\n",
        "print(\"\\nList of names in the current local scope:\")\n",
        "print(dir(time_period))"
      ],
      "metadata": {
        "colab": {
          "base_uri": "https://localhost:8080/"
        },
        "id": "LRPPzziMExsP",
        "outputId": "4276f9a8-f875-4a1c-83a7-5f5ee6fc3561"
      },
      "execution_count": 84,
      "outputs": [
        {
          "output_type": "stream",
          "name": "stdout",
          "text": [
            "Monthly time perid:  2024-11\n",
            "\n",
            "List of names in the current local scope:\n",
            "['__add__', '__array_priority__', '__class__', '__delattr__', '__dict__', '__dir__', '__doc__', '__eq__', '__format__', '__ge__', '__getattribute__', '__gt__', '__hash__', '__init__', '__init_subclass__', '__le__', '__lt__', '__module__', '__ne__', '__new__', '__radd__', '__reduce__', '__reduce_cython__', '__reduce_ex__', '__repr__', '__rsub__', '__setattr__', '__setstate__', '__setstate_cython__', '__sizeof__', '__str__', '__sub__', '__subclasshook__', '__weakref__', '_add_offset', '_add_timedeltalike_scalar', '_dtype', '_from_ordinal', '_maybe_convert_freq', '_require_matching_freq', 'asfreq', 'day', 'day_of_week', 'day_of_year', 'dayofweek', 'dayofyear', 'days_in_month', 'daysinmonth', 'end_time', 'freq', 'freqstr', 'hour', 'is_leap_year', 'minute', 'month', 'now', 'ordinal', 'quarter', 'qyear', 'second', 'start_time', 'strftime', 'to_timestamp', 'week', 'weekday', 'weekofyear', 'year']\n"
          ]
        }
      ]
    },
    {
      "cell_type": "markdown",
      "source": [
        "32. Write a Pandas program to create a yearly time period from a specified year\n",
        "and display the properties of this period."
      ],
      "metadata": {
        "id": "pIuaMEE7ExWZ"
      }
    },
    {
      "cell_type": "code",
      "source": [
        "time_period = pd.Period('2024',freq='Y')\n",
        "\n",
        "print(\"Yearly Time Period:\", time_period)\n",
        "print(\"Start Time:\", time_period.start_time)\n",
        "print(\"End Time:\", time_period.end_time)\n",
        "print(\"Frequency:\", time_period.freq)\n",
        "print(\"Period as Timestamp:\", time_period.to_timestamp())"
      ],
      "metadata": {
        "colab": {
          "base_uri": "https://localhost:8080/"
        },
        "id": "VLZp4dufE5c6",
        "outputId": "52e5f4ca-9d24-4424-daae-94200bfcd0f1"
      },
      "execution_count": 85,
      "outputs": [
        {
          "output_type": "stream",
          "name": "stdout",
          "text": [
            "Yearly Time Period: 2024\n",
            "Start Time: 2024-01-01 00:00:00\n",
            "End Time: 2024-12-31 23:59:59.999999999\n",
            "Frequency: <YearEnd: month=12>\n",
            "Period as Timestamp: 2024-01-01 00:00:00\n"
          ]
        }
      ]
    },
    {
      "cell_type": "code",
      "source": [],
      "metadata": {
        "id": "M6j1LeI2H-VS"
      },
      "execution_count": null,
      "outputs": []
    }
  ]
}