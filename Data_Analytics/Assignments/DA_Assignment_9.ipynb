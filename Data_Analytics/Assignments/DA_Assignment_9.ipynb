{
  "nbformat": 4,
  "nbformat_minor": 0,
  "metadata": {
    "colab": {
      "provenance": []
    },
    "kernelspec": {
      "name": "python3",
      "display_name": "Python 3"
    },
    "language_info": {
      "name": "python"
    }
  },
  "cells": [
    {
      "cell_type": "code",
      "execution_count": 2,
      "metadata": {
        "id": "Oh4DN10WWh-q"
      },
      "outputs": [],
      "source": [
        "import pandas as pd\n",
        "import numpy as np"
      ]
    },
    {
      "cell_type": "markdown",
      "source": [
        "Q1\n",
        "1. Create two CSV file with three columns viz. Tom, Brick, Harry with index ‘True’ and ‘False’.\n",
        "Each column must contain at least ten values each as a combination of datatypes.\n",
        "2. Create a data frame with at least 5 columns and 10 rows. There must be some missing\n",
        "values in it. If the integer column contains missing values replace it with some statistical\n",
        "approach. Also, if there is any missing values in String column, drop the rows using some\n",
        "looping function.\n",
        "3. Create a data frame with at least 5 columns and 10 rows. Each column must contain only\n",
        "integer elements only. Column names must be Abilash, Ankit, Ashok, Asif, Anjaan. Now\n",
        "apply a function where we want to club together the data based on any row or column.\n",
        "Group the series using a mapper or by a series of columns.\n",
        "4. Read the CountryDataIND.csv file and perform statistical operation on the same about the\n",
        "dataset. Look for any missing data if any.\n",
        "5. Plot a histogram by keeping the bin size to 10 for the column name = ‘Observation Value’.\n",
        "Also Plot a scatter plot between ‘observation Value’ and ‘Time Period’"
      ],
      "metadata": {
        "id": "1knEXJjjZlW8"
      }
    },
    {
      "cell_type": "markdown",
      "source": [
        "Create two CSV file with three columns viz. Tom, Brick, Harry with index ‘True’ and ‘False’. Each column must contain at least ten values each as a combination of datatypes.\n"
      ],
      "metadata": {
        "id": "xykzv77RZn-3"
      }
    },
    {
      "cell_type": "code",
      "source": [
        "tom_data = np.random.randint(1, 100, 10)\n",
        "brick_data = tom_data > 55\n",
        "harry_data = [chr(i) for i in range(ord('a'), ord('a') + 10)]\n",
        "\n",
        "tom_ser = pd.Series(tom_data)\n",
        "brick_ser = pd.Series(brick_data)\n",
        "harry_ser = pd.Series(harry_data)\n",
        "\n",
        "data_frame = pd.DataFrame(data = {\n",
        "    \"tom\" : tom_ser,\n",
        "    \"brick\" : brick_ser,\n",
        "    \"harry\" : harry_ser\n",
        "})\n",
        "\n",
        "data_frame.to_csv(\"data_withoutindex.csv\", index = False)\n",
        "data_frame.to_csv(\"data_withindex.csv\", index = True)"
      ],
      "metadata": {
        "id": "7vvd0aHYZhr3"
      },
      "execution_count": 6,
      "outputs": []
    },
    {
      "cell_type": "markdown",
      "source": [
        "Create a data frame with at least 5 columns and 10 rows. There must be some missing values in it. If the integer column contains missing values replace it with some statistical approach. Also, if there is any missing values in String column, drop the rows using some looping function."
      ],
      "metadata": {
        "id": "oWQoZhDwcwpp"
      }
    },
    {
      "cell_type": "code",
      "source": [
        "col1 = pd.Series(np.random.randint(1, 100, 10))\n",
        "col2 = col1 < 40\n",
        "col3 = pd.date_range(start = \"2024-10-10\", end = \"2024-10-19\", freq = \"D\")\n",
        "col4 = pd.Series(['a', np.nan, 'b', 'c', 'd', 'e', np.nan, np.nan, 'f', 'g'])\n",
        "col5 = pd.Series([2, 4, 6, np.nan, np.nan, 7, 0, 8, 6, np.nan])\n",
        "\n",
        "data_frame = pd.DataFrame(data = {\n",
        "    'col1': col1,\n",
        "    \"col2\": col2,\n",
        "    \"col3\": col3,\n",
        "    \"col4\": col4,\n",
        "    \"col5\": col5,\n",
        "})\n",
        "\n",
        "print(\"\\n\\n\",data_frame)\n",
        "\n",
        "# Removal of NaN from string column\n",
        "data_frame.dropna(subset= [\"col4\"], inplace = True)\n",
        "print(\"\\n\\n\",data_frame)\n",
        "\n",
        "# Filling up NaNs from numeric data\n",
        "data_frame.fillna({\"col5\" : int(data_frame['col5'].mean())}, inplace = True)\n",
        "print(\"\\n\\n\",data_frame)\n"
      ],
      "metadata": {
        "colab": {
          "base_uri": "https://localhost:8080/"
        },
        "id": "w54QDSrBa2yf",
        "outputId": "b71113db-fe16-45dc-c0ac-908612f37ea3"
      },
      "execution_count": 24,
      "outputs": [
        {
          "output_type": "stream",
          "name": "stdout",
          "text": [
            "\n",
            "\n",
            "    col1   col2       col3 col4  col5\n",
            "0    60  False 2024-10-10    a   2.0\n",
            "1    82  False 2024-10-11  NaN   4.0\n",
            "2    44  False 2024-10-12    b   6.0\n",
            "3    15   True 2024-10-13    c   NaN\n",
            "4    14   True 2024-10-14    d   NaN\n",
            "5    91  False 2024-10-15    e   7.0\n",
            "6     7   True 2024-10-16  NaN   0.0\n",
            "7    41  False 2024-10-17  NaN   8.0\n",
            "8    72  False 2024-10-18    f   6.0\n",
            "9    49  False 2024-10-19    g   NaN\n",
            "\n",
            "\n",
            "    col1   col2       col3 col4  col5\n",
            "0    60  False 2024-10-10    a   2.0\n",
            "2    44  False 2024-10-12    b   6.0\n",
            "3    15   True 2024-10-13    c   NaN\n",
            "4    14   True 2024-10-14    d   NaN\n",
            "5    91  False 2024-10-15    e   7.0\n",
            "8    72  False 2024-10-18    f   6.0\n",
            "9    49  False 2024-10-19    g   NaN\n",
            "\n",
            "\n",
            "    col1   col2       col3 col4  col5\n",
            "0    60  False 2024-10-10    a   2.0\n",
            "2    44  False 2024-10-12    b   6.0\n",
            "3    15   True 2024-10-13    c   5.0\n",
            "4    14   True 2024-10-14    d   5.0\n",
            "5    91  False 2024-10-15    e   7.0\n",
            "8    72  False 2024-10-18    f   6.0\n",
            "9    49  False 2024-10-19    g   5.0\n"
          ]
        }
      ]
    },
    {
      "cell_type": "markdown",
      "source": [
        "Create a data frame with at least 5 columns and 10 rows. Each column must contain only integer elements only. Column names must be Abilash, Ankit, Ashok, Asif, Anjaan. Now apply a function where we want to club together the data based on any row or column. Group the series using a mapper or by a series of columns."
      ],
      "metadata": {
        "id": "PCXtWFURjB1b"
      }
    },
    {
      "cell_type": "code",
      "source": [
        "df = pd.DataFrame({\n",
        "    \"Abilash\" : np.random.randint(10, 100, 10),\n",
        "    \"Ankit\" : np.random.randint(10, 100, 10),\n",
        "    \"Ashok\" : np.random.randint(10, 100, 10),\n",
        "    \"Asif\" : np.random.randint(10, 100, 10),\n",
        "    \"Anjaan\" : np.random.randint(10, 100, 10),\n",
        "})\n",
        "print(\"\\n\\nData Frame: \")\n",
        "print(df)\n",
        "\n",
        "print(\"\\n\\nSum by columns: \")\n",
        "print(pd.DataFrame({\n",
        "    \"sum\" : [df[col].sum() for col in df.columns]\n",
        "}, index = df.columns))\n",
        "\n",
        "print(\"\\n\\nSum by rows: \")\n",
        "print(pd.DataFrame({\n",
        "    \"sum\" : [df.iloc[i, :].sum() for i in range(len(df))]\n",
        "}, index = range(len(df))))\n",
        "\n",
        "pd.cut(df['Abilash'], retbins = True, bins = [i * 20 for i in range(1, 6)])"
      ],
      "metadata": {
        "colab": {
          "base_uri": "https://localhost:8080/"
        },
        "id": "WWlZHMhxi0Eb",
        "outputId": "db7a934c-bb04-46b9-c2ed-e0b309e32fa9"
      },
      "execution_count": 42,
      "outputs": [
        {
          "output_type": "stream",
          "name": "stdout",
          "text": [
            "\n",
            "\n",
            "Data Frame: \n",
            "   Abilash  Ankit  Ashok  Asif  Anjaan\n",
            "0       61     50     65    30      84\n",
            "1       58     83     48    34      89\n",
            "2       96     75     72    72      61\n",
            "3       49     89     89    85      33\n",
            "4       73     71     34    54      67\n",
            "5       97     35     57    94      87\n",
            "6       52     48     67    54      58\n",
            "7       39     27     62    34      59\n",
            "8       88     32     19    72      95\n",
            "9       15     40     77    34      65\n",
            "\n",
            "\n",
            "Sum by columns: \n",
            "         sum\n",
            "Abilash  628\n",
            "Ankit    550\n",
            "Ashok    590\n",
            "Asif     563\n",
            "Anjaan   698\n",
            "\n",
            "\n",
            "Sum by rows: \n",
            "   sum\n",
            "0  290\n",
            "1  312\n",
            "2  376\n",
            "3  345\n",
            "4  299\n",
            "5  370\n",
            "6  279\n",
            "7  221\n",
            "8  306\n",
            "9  231\n"
          ]
        },
        {
          "output_type": "execute_result",
          "data": {
            "text/plain": [
              "(0     (60.0, 80.0]\n",
              " 1     (40.0, 60.0]\n",
              " 2    (80.0, 100.0]\n",
              " 3     (40.0, 60.0]\n",
              " 4     (60.0, 80.0]\n",
              " 5    (80.0, 100.0]\n",
              " 6     (40.0, 60.0]\n",
              " 7     (20.0, 40.0]\n",
              " 8    (80.0, 100.0]\n",
              " 9              NaN\n",
              " Name: Abilash, dtype: category\n",
              " Categories (4, interval[int64, right]): [(20, 40] < (40, 60] < (60, 80] < (80, 100]],\n",
              " array([ 20,  40,  60,  80, 100]))"
            ]
          },
          "metadata": {},
          "execution_count": 42
        }
      ]
    },
    {
      "cell_type": "markdown",
      "source": [
        "Read the CountryDataIND.csv file and perform statistical operation on the same about the dataset. Look for any missing data if any."
      ],
      "metadata": {
        "id": "DjZPO_F9xL1R"
      }
    },
    {
      "cell_type": "code",
      "source": [
        "df = pd.read_csv(\"CountryDataIND.csv\")\n",
        "df.isna().sum()"
      ],
      "metadata": {
        "colab": {
          "base_uri": "https://localhost:8080/",
          "height": 210
        },
        "id": "J0sDm8i3xExk",
        "outputId": "fe47c629-9c33-45c7-9917-da9ad4893057"
      },
      "execution_count": 43,
      "outputs": [
        {
          "output_type": "execute_result",
          "data": {
            "text/plain": [
              "Unnamed: 0    0\n",
              "tom           0\n",
              "brick         0\n",
              "harry         0\n",
              "dtype: int64"
            ],
            "text/html": [
              "<div>\n",
              "<style scoped>\n",
              "    .dataframe tbody tr th:only-of-type {\n",
              "        vertical-align: middle;\n",
              "    }\n",
              "\n",
              "    .dataframe tbody tr th {\n",
              "        vertical-align: top;\n",
              "    }\n",
              "\n",
              "    .dataframe thead th {\n",
              "        text-align: right;\n",
              "    }\n",
              "</style>\n",
              "<table border=\"1\" class=\"dataframe\">\n",
              "  <thead>\n",
              "    <tr style=\"text-align: right;\">\n",
              "      <th></th>\n",
              "      <th>0</th>\n",
              "    </tr>\n",
              "  </thead>\n",
              "  <tbody>\n",
              "    <tr>\n",
              "      <th>Unnamed: 0</th>\n",
              "      <td>0</td>\n",
              "    </tr>\n",
              "    <tr>\n",
              "      <th>tom</th>\n",
              "      <td>0</td>\n",
              "    </tr>\n",
              "    <tr>\n",
              "      <th>brick</th>\n",
              "      <td>0</td>\n",
              "    </tr>\n",
              "    <tr>\n",
              "      <th>harry</th>\n",
              "      <td>0</td>\n",
              "    </tr>\n",
              "  </tbody>\n",
              "</table>\n",
              "</div><br><label><b>dtype:</b> int64</label>"
            ]
          },
          "metadata": {},
          "execution_count": 43
        }
      ]
    },
    {
      "cell_type": "markdown",
      "source": [
        "Plot a histogram by keeping the bin size to 10 for the column name = ‘Observation Value’. Also Plot a scatter plot between ‘observation Value’ and ‘Time Period’"
      ],
      "metadata": {
        "id": "R-7ranyI1w64"
      }
    },
    {
      "cell_type": "code",
      "source": [
        "start_date = pd.to_datetime(\"2024-10-1\")\n",
        "df = pd.DataFrame(data = {\n",
        "    \"Observation Value\" : np.random.randint(10, 100, 100)\n",
        "}, index = pd.date_range(start = start_date, end = start_date + pd.Timedelta(days = 99), freq = 'D'))"
      ],
      "metadata": {
        "id": "DBipPACOxEcF"
      },
      "execution_count": 49,
      "outputs": []
    },
    {
      "cell_type": "code",
      "source": [
        "import matplotlib.pyplot as plt\n",
        "\n",
        "plt.figure(figsize = (15, 8))\n",
        "plt.scatter(x = df.index, y = df['Observation Value'])\n",
        "plt.xticks(rotation = 45)\n",
        "plt.show()\n",
        "\n"
      ],
      "metadata": {
        "colab": {
          "base_uri": "https://localhost:8080/",
          "height": 729
        },
        "id": "ZWjboODv3iYh",
        "outputId": "442779d0-7eab-44e0-9068-27f165936687"
      },
      "execution_count": 50,
      "outputs": [
        {
          "output_type": "display_data",
          "data": {
            "text/plain": [
              "<Figure size 1500x800 with 1 Axes>"
            ],
            "image/png": "[encoded data removed]"
          },
          "metadata": {}
        }
      ]
    },
    {
      "cell_type": "code",
      "source": [
        "plt.figure(figsize = (15, 8))\n",
        "plt.hist(df['Observation Value'], bins = 10, edgecolor= 'black')\n",
        "plt.show()"
      ],
      "metadata": {
        "colab": {
          "base_uri": "https://localhost:8080/",
          "height": 676
        },
        "id": "9cmTwxaD5DfY",
        "outputId": "982148d2-3f99-4b57-9474-7cc5ae08fb72"
      },
      "execution_count": 54,
      "outputs": [
        {
          "output_type": "display_data",
          "data": {
            "text/plain": [
              "<Figure size 1500x800 with 1 Axes>"
            ],
            "image/png": "[encoded data removed]"
          },
          "metadata": {}
        }
      ]
    }
  ]
}