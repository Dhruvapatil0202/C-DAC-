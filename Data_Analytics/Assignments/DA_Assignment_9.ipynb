{
 "cells": [
  {
   "cell_type": "code",
   "execution_count": 1,
   "metadata": {
    "id": "Oh4DN10WWh-q"
   },
   "outputs": [],
   "source": [
    "import pandas as pd\n",
    "import numpy as np\n",
    "import os \n",
    "import matplotlib.pyplot as plt"
   ]
  },
  {
   "cell_type": "markdown",
   "metadata": {
    "id": "1knEXJjjZlW8"
   },
   "source": [
    "Q1\n",
    "1. Create two CSV file with three columns viz. Tom, Brick, Harry with index ‘True’ and ‘False’.\n",
    "Each column must contain at least ten values each as a combination of datatypes.\n",
    "2. Create a data frame with at least 5 columns and 10 rows. There must be some missing\n",
    "values in it. If the integer column contains missing values replace it with some statistical\n",
    "approach. Also, if there is any missing values in String column, drop the rows using some\n",
    "looping function.\n",
    "3. Create a data frame with at least 5 columns and 10 rows. Each column must contain only\n",
    "integer elements only. Column names must be Abilash, Ankit, Ashok, Asif, Anjaan. Now\n",
    "apply a function where we want to club together the data based on any row or column.\n",
    "Group the series using a mapper or by a series of columns.\n",
    "4. Read the CountryDataIND.csv file and perform statistical operation on the same about the\n",
    "dataset. Look for any missing data if any.\n",
    "5. Plot a histogram by keeping the bin size to 10 for the column name = ‘Observation Value’.\n",
    "Also Plot a scatter plot between ‘observation Value’ and ‘Time Period’"
   ]
  },
  {
   "cell_type": "markdown",
   "metadata": {
    "id": "xykzv77RZn-3"
   },
   "source": [
    "Create two CSV file with three columns viz. Tom, Brick, Harry with index ‘True’ and ‘False’. Each column must contain at least ten values each as a combination of datatypes.\n"
   ]
  },
  {
   "cell_type": "code",
   "execution_count": 4,
   "metadata": {
    "id": "7vvd0aHYZhr3"
   },
   "outputs": [],
   "source": [
    "tom_data = np.random.randint(1, 100, 10)\n",
    "brick_data = tom_data > 55\n",
    "harry_data = [chr(i) for i in range(ord('a'), ord('a') + 10)]\n",
    "\n",
    "tom_ser = pd.Series(tom_data)\n",
    "brick_ser = pd.Series(brick_data)\n",
    "harry_ser = pd.Series(harry_data)\n",
    "\n",
    "data_frame = pd.DataFrame(data = {\n",
    "    \"tom\" : tom_ser,\n",
    "    \"brick\" : brick_ser,\n",
    "    \"harry\" : harry_ser\n",
    "})\n",
    "\n",
    "data_frame.to_csv(\"data_withoutindex.csv\", index = False)\n",
    "data_frame.to_csv(\"data_withindex.csv\", index = True)"
   ]
  },
  {
   "cell_type": "markdown",
   "metadata": {
    "id": "oWQoZhDwcwpp"
   },
   "source": [
    "Create a data frame with at least 5 columns and 10 rows. There must be some missing values in it. If the integer column contains missing values replace it with some statistical approach. Also, if there is any missing values in String column, drop the rows using some looping function."
   ]
  },
  {
   "cell_type": "code",
   "execution_count": 6,
   "metadata": {
    "colab": {
     "base_uri": "https://localhost:8080/"
    },
    "id": "w54QDSrBa2yf",
    "outputId": "b71113db-fe16-45dc-c0ac-908612f37ea3"
   },
   "outputs": [
    {
     "name": "stdout",
     "output_type": "stream",
     "text": [
      "\n",
      "\n",
      "    col1   col2       col3 col4  col5\n",
      "0     3   True 2024-10-10    a   2.0\n",
      "1    28   True 2024-10-11  NaN   4.0\n",
      "2    66  False 2024-10-12    b   6.0\n",
      "3    80  False 2024-10-13    c   NaN\n",
      "4    55  False 2024-10-14    d   NaN\n",
      "5    50  False 2024-10-15    e   7.0\n",
      "6    80  False 2024-10-16  NaN   0.0\n",
      "7    82  False 2024-10-17  NaN   8.0\n",
      "8    69  False 2024-10-18    f   6.0\n",
      "9    60  False 2024-10-19    g   NaN\n",
      "\n",
      "\n",
      "    col1   col2       col3 col4  col5\n",
      "0     3   True 2024-10-10    a   2.0\n",
      "2    66  False 2024-10-12    b   6.0\n",
      "3    80  False 2024-10-13    c   NaN\n",
      "4    55  False 2024-10-14    d   NaN\n",
      "5    50  False 2024-10-15    e   7.0\n",
      "8    69  False 2024-10-18    f   6.0\n",
      "9    60  False 2024-10-19    g   NaN\n",
      "\n",
      "\n",
      "    col1   col2       col3 col4  col5\n",
      "0     3   True 2024-10-10    a   2.0\n",
      "2    66  False 2024-10-12    b   6.0\n",
      "3    80  False 2024-10-13    c   5.0\n",
      "4    55  False 2024-10-14    d   5.0\n",
      "5    50  False 2024-10-15    e   7.0\n",
      "8    69  False 2024-10-18    f   6.0\n",
      "9    60  False 2024-10-19    g   5.0\n"
     ]
    }
   ],
   "source": [
    "col1 = pd.Series(np.random.randint(1, 100, 10))\n",
    "col2 = col1 < 40\n",
    "col3 = pd.date_range(start = \"2024-10-10\", end = \"2024-10-19\", freq = \"D\")\n",
    "col4 = pd.Series(['a', np.nan, 'b', 'c', 'd', 'e', np.nan, np.nan, 'f', 'g'])\n",
    "col5 = pd.Series([2, 4, 6, np.nan, np.nan, 7, 0, 8, 6, np.nan])\n",
    "\n",
    "data_frame = pd.DataFrame(data = {\n",
    "    'col1': col1,\n",
    "    \"col2\": col2,\n",
    "    \"col3\": col3,\n",
    "    \"col4\": col4,\n",
    "    \"col5\": col5,\n",
    "})\n",
    "\n",
    "print(\"\\n\\n\",data_frame)\n",
    "\n",
    "# Removal of NaN from string column\n",
    "data_frame.dropna(subset= [\"col4\"], inplace = True)\n",
    "print(\"\\n\\n\",data_frame)\n",
    "\n",
    "# Filling up NaNs from numeric data\n",
    "data_frame.fillna({\"col5\" : int(data_frame['col5'].mean())}, inplace = True)\n",
    "print(\"\\n\\n\",data_frame)\n"
   ]
  },
  {
   "cell_type": "markdown",
   "metadata": {
    "id": "PCXtWFURjB1b"
   },
   "source": [
    "Create a data frame with at least 5 columns and 10 rows. Each column must contain only integer elements only. Column names must be Abilash, Ankit, Ashok, Asif, Anjaan. Now apply a function where we want to club together the data based on any row or column. Group the series using a mapper or by a series of columns."
   ]
  },
  {
   "cell_type": "code",
   "execution_count": 8,
   "metadata": {
    "colab": {
     "base_uri": "https://localhost:8080/"
    },
    "id": "WWlZHMhxi0Eb",
    "outputId": "db7a934c-bb04-46b9-c2ed-e0b309e32fa9"
   },
   "outputs": [
    {
     "name": "stdout",
     "output_type": "stream",
     "text": [
      "\n",
      "\n",
      "Data Frame: \n",
      "   Abilash  Ankit  Ashok  Asif  Anjaan\n",
      "0       80     57     26    69      69\n",
      "1       32     40     49    54      41\n",
      "2       95     86     56    84      70\n",
      "3       69     42     44    66      82\n",
      "4       98     85     25    90      64\n",
      "5       25     97     98    24      59\n",
      "6       15     50     57    68      60\n",
      "7       79     90     38    26      65\n",
      "8       63     50     26    30      38\n",
      "9       77     88     91    14      24\n",
      "\n",
      "\n",
      "Sum by columns: \n",
      "         sum\n",
      "Abilash  633\n",
      "Ankit    685\n",
      "Ashok    510\n",
      "Asif     525\n",
      "Anjaan   572\n",
      "\n",
      "\n",
      "Sum by rows: \n",
      "   sum\n",
      "0  301\n",
      "1  216\n",
      "2  391\n",
      "3  303\n",
      "4  362\n",
      "5  303\n",
      "6  250\n",
      "7  298\n",
      "8  207\n",
      "9  294\n"
     ]
    },
    {
     "data": {
      "text/plain": [
       "(0     (60.0, 80.0]\n",
       " 1     (20.0, 40.0]\n",
       " 2    (80.0, 100.0]\n",
       " 3     (60.0, 80.0]\n",
       " 4    (80.0, 100.0]\n",
       " 5     (20.0, 40.0]\n",
       " 6              NaN\n",
       " 7     (60.0, 80.0]\n",
       " 8     (60.0, 80.0]\n",
       " 9     (60.0, 80.0]\n",
       " Name: Abilash, dtype: category\n",
       " Categories (4, interval[int64, right]): [(20, 40] < (40, 60] < (60, 80] < (80, 100]],\n",
       " array([ 20,  40,  60,  80, 100], dtype=int64))"
      ]
     },
     "execution_count": 8,
     "metadata": {},
     "output_type": "execute_result"
    }
   ],
   "source": [
    "df = pd.DataFrame({\n",
    "    \"Abilash\" : np.random.randint(10, 100, 10),\n",
    "    \"Ankit\" : np.random.randint(10, 100, 10),\n",
    "    \"Ashok\" : np.random.randint(10, 100, 10),\n",
    "    \"Asif\" : np.random.randint(10, 100, 10),\n",
    "    \"Anjaan\" : np.random.randint(10, 100, 10),\n",
    "})\n",
    "print(\"\\n\\nData Frame: \")\n",
    "print(df)\n",
    "\n",
    "print(\"\\n\\nSum by columns: \")\n",
    "print(pd.DataFrame({\n",
    "    \"sum\" : [df[col].sum() for col in df.columns]\n",
    "}, index = df.columns))\n",
    "\n",
    "print(\"\\n\\nSum by rows: \")\n",
    "print(pd.DataFrame({\n",
    "    \"sum\" : [df.iloc[i, :].sum() for i in range(len(df))]\n",
    "}, index = range(len(df))))\n",
    "\n",
    "pd.cut(df['Abilash'], retbins = True, bins = [i * 20 for i in range(1, 6)])"
   ]
  },
  {
   "cell_type": "markdown",
   "metadata": {
    "id": "DjZPO_F9xL1R"
   },
   "source": [
    "Read the CountryDataIND.csv file and perform statistical operation on the same about the dataset. Look for any missing data if any."
   ]
  },
  {
   "cell_type": "code",
   "execution_count": 10,
   "metadata": {
    "colab": {
     "base_uri": "https://localhost:8080/",
     "height": 210
    },
    "id": "J0sDm8i3xExk",
    "outputId": "fe47c629-9c33-45c7-9917-da9ad4893057"
   },
   "outputs": [
    {
     "name": "stdout",
     "output_type": "stream",
     "text": [
      "<class 'pandas.core.frame.DataFrame'>\n",
      "RangeIndex: 29 entries, 0 to 28\n",
      "Data columns (total 16 columns):\n",
      " #   Column                 Non-Null Count  Dtype  \n",
      "---  ------                 --------------  -----  \n",
      " 0   Series Code            29 non-null     object \n",
      " 1   Frequency              29 non-null     object \n",
      " 2   Series                 29 non-null     object \n",
      " 3   Units of measurement   29 non-null     object \n",
      " 4   Location               29 non-null     object \n",
      " 5   Age group              29 non-null     object \n",
      " 6   Sex                    29 non-null     object \n",
      " 7   Reference Area         29 non-null     object \n",
      " 8   Source type            29 non-null     object \n",
      " 9   Time period            29 non-null     int64  \n",
      " 10  Observation Value      29 non-null     float64\n",
      " 11  Unit multiplier        29 non-null     object \n",
      " 12  Nature of data points  29 non-null     object \n",
      " 13  Time period details    29 non-null     int64  \n",
      " 14  Source details         23 non-null     object \n",
      " 15  Footnotes              0 non-null      float64\n",
      "dtypes: float64(2), int64(2), object(12)\n",
      "memory usage: 3.8+ KB\n"
     ]
    },
    {
     "data": {
      "text/plain": [
       "Series Code               0\n",
       "Frequency                 0\n",
       "Series                    0\n",
       "Units of measurement      0\n",
       "Location                  0\n",
       "Age group                 0\n",
       "Sex                       0\n",
       "Reference Area            0\n",
       "Source type               0\n",
       "Time period               0\n",
       "Observation Value         0\n",
       "Unit multiplier           0\n",
       "Nature of data points     0\n",
       "Time period details       0\n",
       "Source details            6\n",
       "Footnotes                29\n",
       "dtype: int64"
      ]
     },
     "execution_count": 10,
     "metadata": {},
     "output_type": "execute_result"
    }
   ],
   "source": [
    "df = pd.read_csv(\"CountryDataIND.csv\")\n",
    "df.info()\n",
    "df.isna().sum()"
   ]
  },
  {
   "cell_type": "markdown",
   "metadata": {
    "id": "R-7ranyI1w64"
   },
   "source": [
    "Plot a histogram by keeping the bin size to 10 for the column name = ‘Observation Value’. Also Plot a scatter plot between ‘observation Value’ and ‘Time Period’"
   ]
  },
  {
   "cell_type": "code",
   "execution_count": 12,
   "metadata": {
    "id": "DBipPACOxEcF"
   },
   "outputs": [],
   "source": [
    "start_date = pd.to_datetime(\"2024-10-1\")\n",
    "df = pd.DataFrame(data = {\n",
    "    \"Observation Value\" : np.random.randint(10, 100, 100)\n",
    "}, index = pd.date_range(start = start_date, end = start_date + pd.Timedelta(days = 99), freq = 'D'))"
   ]
  },
  {
   "cell_type": "code",
   "execution_count": 13,
   "metadata": {
    "colab": {
     "base_uri": "https://localhost:8080/",
     "height": 729
    },
    "id": "ZWjboODv3iYh",
    "outputId": "442779d0-7eab-44e0-9068-27f165936687"
   },
   "outputs": [
    {
     "data": {
      "image/png": "[encoded data removed]",
      "text/plain": [
       "<Figure size 1500x800 with 1 Axes>"
      ]
     },
     "metadata": {},
     "output_type": "display_data"
    }
   ],
   "source": [
    "import matplotlib.pyplot as plt\n",
    "\n",
    "plt.figure(figsize = (15, 8))\n",
    "plt.scatter(x = df.index, y = df[\"Observation Value\"])\n",
    "plt.xticks(rotation = 45)\n",
    "plt.show()\n",
    "\n"
   ]
  },
  {
   "cell_type": "code",
   "execution_count": 14,
   "metadata": {
    "colab": {
     "base_uri": "https://localhost:8080/",
     "height": 676
    },
    "id": "9cmTwxaD5DfY",
    "outputId": "982148d2-3f99-4b57-9474-7cc5ae08fb72"
   },
   "outputs": [
    {
     "data": {
      "image/png": "[encoded data removed]",
      "text/plain": [
       "<Figure size 1500x800 with 1 Axes>"
      ]
     },
     "metadata": {},
     "output_type": "display_data"
    }
   ],
   "source": [
    "plt.figure(figsize = (15, 8))\n",
    "plt.hist(df['Observation Value'], bins = 10, edgecolor= 'black')\n",
    "plt.show()"
   ]
  },
  {
   "cell_type": "markdown",
   "metadata": {},
   "source": [
    "Q2\r\n",
    "Suppose you have landed to a job and the first task you’ve assigned to prepare a report which\r\n",
    "includes the following:\r\n",
    "1. Player Count\r\n",
    "o Total Number of Players\r\n",
    "2. Purchasing Analysis (Total)\r\n",
    "o Number of Unique Items\r\n",
    "o Average Purchase Price\r\n",
    "o Total Number of Purchases\r\n",
    "o Total Revenue\r\n",
    "3. Gender Demographics\r\n",
    "o Percentage and Count of Male Players\r\n",
    "o Percentage and Count of Female Players\r\n",
    "o Percentage and Count of Other / Non-Disclosed\r\n",
    "4. Purchasing Analysis (Gender)\r\n",
    "o The below each broken by gender\r\n",
    " Purchase Count\r\n",
    " Average Purchase Price\r\n",
    " Total Purchase Value\r\n",
    " Average Purchase Total per Person by Gender\r\n",
    "5. Age Demographics\r\n",
    "o The below each broken into bins of 4 years (i.e. <10, 10-14, 15-19, etc.)\r\n",
    " Purchase Count\r\n",
    " Average Purchase Price\r\n",
    " Total Purchase Value\r\n",
    " Average Purchase Total per Person by Age Group\r\n",
    "6. Top Spenders\r\n",
    "o Identify the the top 5 spenders in the game by total purchase value, then list (in a\r\n",
    "table):\r\n",
    " SN\r\n",
    " Purchase Count\r\n",
    " Average Purchase Price\r\n",
    " Total Purchase Value\r\n",
    "7. Most Popular Items\r\n",
    "o Identify the 5 most popular items by purchase count, then list (in a table):\r\n",
    " Item ID\r\n",
    " Item Name\r\n",
    " Purchase Count\r\n",
    " Item Price\r\n",
    " Total Purchase Value\r\n",
    "8. Most Profitable Items\r\n",
    "o the 5 most profitable items by total purchase value, then list (in a table):\r\n",
    " Item ID\r\n",
    " Item Name\r\n",
    " Purchase Count\r\n",
    " Item Price\r\n",
    " Total Purchase Value"
   ]
  },
  {
   "cell_type": "code",
   "execution_count": 16,
   "metadata": {},
   "outputs": [
    {
     "name": "stdout",
     "output_type": "stream",
     "text": [
      "<class 'pandas.core.frame.DataFrame'>\n",
      "RangeIndex: 780 entries, 0 to 779\n",
      "Data columns (total 7 columns):\n",
      " #   Column       Non-Null Count  Dtype  \n",
      "---  ------       --------------  -----  \n",
      " 0   Purchase ID  780 non-null    int64  \n",
      " 1   SN           780 non-null    object \n",
      " 2   Age          780 non-null    int64  \n",
      " 3   Gender       780 non-null    object \n",
      " 4   Item ID      780 non-null    int64  \n",
      " 5   Item Name    780 non-null    object \n",
      " 6   Price        780 non-null    float64\n",
      "dtypes: float64(1), int64(3), object(3)\n",
      "memory usage: 42.8+ KB\n"
     ]
    },
    {
     "data": {
      "text/html": [
       "<div>\n",
       "<style scoped>\n",
       "    .dataframe tbody tr th:only-of-type {\n",
       "        vertical-align: middle;\n",
       "    }\n",
       "\n",
       "    .dataframe tbody tr th {\n",
       "        vertical-align: top;\n",
       "    }\n",
       "\n",
       "    .dataframe thead th {\n",
       "        text-align: right;\n",
       "    }\n",
       "</style>\n",
       "<table border=\"1\" class=\"dataframe\">\n",
       "  <thead>\n",
       "    <tr style=\"text-align: right;\">\n",
       "      <th></th>\n",
       "      <th>Purchase ID</th>\n",
       "      <th>SN</th>\n",
       "      <th>Age</th>\n",
       "      <th>Gender</th>\n",
       "      <th>Item ID</th>\n",
       "      <th>Item Name</th>\n",
       "      <th>Price</th>\n",
       "    </tr>\n",
       "  </thead>\n",
       "  <tbody>\n",
       "    <tr>\n",
       "      <th>0</th>\n",
       "      <td>0</td>\n",
       "      <td>Lisim78</td>\n",
       "      <td>20</td>\n",
       "      <td>Male</td>\n",
       "      <td>108</td>\n",
       "      <td>Extraction, Quickblade Of Trembling Hands</td>\n",
       "      <td>3.53</td>\n",
       "    </tr>\n",
       "    <tr>\n",
       "      <th>1</th>\n",
       "      <td>1</td>\n",
       "      <td>Lisovynya38</td>\n",
       "      <td>40</td>\n",
       "      <td>Male</td>\n",
       "      <td>143</td>\n",
       "      <td>Frenzied Scimitar</td>\n",
       "      <td>1.56</td>\n",
       "    </tr>\n",
       "    <tr>\n",
       "      <th>2</th>\n",
       "      <td>2</td>\n",
       "      <td>Ithergue48</td>\n",
       "      <td>24</td>\n",
       "      <td>Male</td>\n",
       "      <td>92</td>\n",
       "      <td>Final Critic</td>\n",
       "      <td>4.88</td>\n",
       "    </tr>\n",
       "    <tr>\n",
       "      <th>3</th>\n",
       "      <td>3</td>\n",
       "      <td>Chamassasya86</td>\n",
       "      <td>24</td>\n",
       "      <td>Male</td>\n",
       "      <td>100</td>\n",
       "      <td>Blindscythe</td>\n",
       "      <td>3.27</td>\n",
       "    </tr>\n",
       "    <tr>\n",
       "      <th>4</th>\n",
       "      <td>4</td>\n",
       "      <td>Iskosia90</td>\n",
       "      <td>23</td>\n",
       "      <td>Male</td>\n",
       "      <td>131</td>\n",
       "      <td>Fury</td>\n",
       "      <td>1.44</td>\n",
       "    </tr>\n",
       "  </tbody>\n",
       "</table>\n",
       "</div>"
      ],
      "text/plain": [
       "   Purchase ID             SN  Age Gender  Item ID  \\\n",
       "0            0        Lisim78   20   Male      108   \n",
       "1            1    Lisovynya38   40   Male      143   \n",
       "2            2     Ithergue48   24   Male       92   \n",
       "3            3  Chamassasya86   24   Male      100   \n",
       "4            4      Iskosia90   23   Male      131   \n",
       "\n",
       "                                   Item Name  Price  \n",
       "0  Extraction, Quickblade Of Trembling Hands   3.53  \n",
       "1                          Frenzied Scimitar   1.56  \n",
       "2                               Final Critic   4.88  \n",
       "3                                Blindscythe   3.27  \n",
       "4                                       Fury   1.44  "
      ]
     },
     "execution_count": 16,
     "metadata": {},
     "output_type": "execute_result"
    }
   ],
   "source": [
    "df = pd.read_csv(\"purchase_data.csv\")\n",
    "df.info()\n",
    "df.head()"
   ]
  },
  {
   "cell_type": "code",
   "execution_count": 17,
   "metadata": {},
   "outputs": [
    {
     "name": "stdout",
     "output_type": "stream",
     "text": [
      "Total number of rows in dataset:  780\n",
      "Number of players in dataset:  576\n"
     ]
    }
   ],
   "source": [
    "# total number of players\n",
    "\n",
    "print(\"Total number of rows in dataset: \", end = \" \" )\n",
    "print(len(df))\n",
    "print(\"Number of players in dataset: \", end = \" \")\n",
    "print(df[\"SN\"].nunique())"
   ]
  },
  {
   "cell_type": "code",
   "execution_count": 18,
   "metadata": {},
   "outputs": [],
   "source": [
    "# Number of Unique Items\n",
    "# Average Purchase Price\n",
    "# Total Number of Purchases\n",
    "# Total Revenue"
   ]
  },
  {
   "cell_type": "code",
   "execution_count": 19,
   "metadata": {},
   "outputs": [
    {
     "name": "stdout",
     "output_type": "stream",
     "text": [
      "Number of Unique items: 226\n",
      "Average purchase price: 3.0509871794871795\n",
      "Total Number of purchases: 780\n",
      "Total Revenue: 2379.77\n"
     ]
    }
   ],
   "source": [
    "item_li = df[\"Item Name\"].tolist()\n",
    "st = set()\n",
    "for item in item_li:\n",
    "    for pot_i in item.split(\",\"): st.add(pot_i.strip())\n",
    "print(f\"Number of Unique items: {len(st)}\")\n",
    "\n",
    "print(f\"Average purchase price: {df[\"Price\"].sum()/len(df)}\")\n",
    "\n",
    "print(f\"Total Number of purchases: {len(df)}\")\n",
    "\n",
    "print(f\"Total Revenue: {df[\"Price\"].sum()}\")"
   ]
  },
  {
   "cell_type": "code",
   "execution_count": 20,
   "metadata": {},
   "outputs": [
    {
     "name": "stdout",
     "output_type": "stream",
     "text": [
      "Count of Male Players: 652\n",
      "Percentage of Male Players: 83.58974358974359\n",
      "\n",
      "Count of Female Players: 113\n",
      "Percentage of Female Players: 14.487179487179489\n",
      "\n",
      "Count of Other / Non-Disclosed Players: 15\n",
      "Percentage of Other / Non-Disclosed Players: 1.9230769230769231\n",
      "\n"
     ]
    }
   ],
   "source": [
    "# Percentage and Count of Male Players\n",
    "# Percentage and Count of Female Players\n",
    "# Percentage and Count of Other / Non-Disclosed\n",
    "\n",
    "for gender in [\"Male\", \"Female\", \"Other / Non-Disclosed\"]:\n",
    "    print(f\"Count of {gender} Players: {len(df[df[\"Gender\"] == gender])}\\n\"\n",
    "            f\"Percentage of {gender} Players: {(len(df[df[\"Gender\"] == gender]) / len(df)) * 100}\\n\")"
   ]
  },
  {
   "cell_type": "code",
   "execution_count": 21,
   "metadata": {},
   "outputs": [
    {
     "name": "stdout",
     "output_type": "stream",
     "text": [
      "For Gender : Male\n",
      "\tPurchase Count: 652            \n",
      "\tTotal purchase value: 1967.64            \n",
      "\tAverage purchase price: 3.0178527607361967            \n",
      "\tAverage purchase price by unique User: 4.065371900826446\n",
      "\n",
      "For Gender : Other / Non-Disclosed\n",
      "\tPurchase Count: 15            \n",
      "\tTotal purchase value: 50.19            \n",
      "\tAverage purchase price: 3.3459999999999996            \n",
      "\tAverage purchase price by unique User: 4.5627272727272725\n",
      "\n",
      "For Gender : Female\n",
      "\tPurchase Count: 113            \n",
      "\tTotal purchase value: 361.94            \n",
      "\tAverage purchase price: 3.203008849557522            \n",
      "\tAverage purchase price by unique User: 4.468395061728395\n",
      "\n"
     ]
    }
   ],
   "source": [
    "#  The below each broken by gender\n",
    "    # Purchase Count\n",
    "    # Average Purchase Price\n",
    "    # Total Purchase Value\n",
    "    # Average Purchase Total per Person by Gender\n",
    "\n",
    "for gender in df[\"Gender\"].unique():\n",
    "    print(f\"For Gender : {gender}\")\n",
    "\n",
    "    temp_df = df[ df['Gender'] == gender]\n",
    "    purchase_count = len(temp_df)\n",
    "    Total_purchase_value = temp_df[\"Price\"].sum()\n",
    "    Avg_purchase_price = Total_purchase_value / purchase_count\n",
    "    Avg_purchase_by_unique_user = Total_purchase_value / temp_df[\"SN\"].nunique()\n",
    "    print(f\"\\tPurchase Count: {purchase_count}\\\n",
    "            \\n\\tTotal purchase value: {Total_purchase_value}\\\n",
    "            \\n\\tAverage purchase price: {Avg_purchase_price}\\\n",
    "            \\n\\tAverage purchase price by unique User: {Avg_purchase_by_unique_user}\\n\")\n",
    "    \n",
    "    "
   ]
  },
  {
   "cell_type": "code",
   "execution_count": 22,
   "metadata": {},
   "outputs": [
    {
     "name": "stdout",
     "output_type": "stream",
     "text": [
      "\n",
      "Counts of each age group: \n",
      "Age_group\n",
      "[0.0, 10.0)      23\n",
      "[10.0, 20.0)    164\n",
      "[20.0, 30.0)    466\n",
      "[30.0, 40.0)    114\n",
      "[40.0, 50.0)     13\n",
      "dtype: int64\n",
      "\n",
      "Average Purchase Price: \n",
      "Age_group\n",
      "[0.0, 10.0)     3.353478\n",
      "[10.0, 20.0)    3.022378\n",
      "[20.0, 30.0)    3.019442\n",
      "[30.0, 40.0)    3.172544\n",
      "[40.0, 50.0)    2.941538\n",
      "Name: Price, dtype: float64\n",
      "\n",
      "Total Purchase Value: \n",
      "Age_group\n",
      "[0.0, 10.0)       77.13\n",
      "[10.0, 20.0)     495.67\n",
      "[20.0, 30.0)    1407.06\n",
      "[30.0, 40.0)     361.67\n",
      "[40.0, 50.0)      38.24\n",
      "Name: Price, dtype: float64\n",
      "\n",
      "Average Purchase Total per Person by Age Group: \n",
      "Age_group\n",
      "[0.0, 10.0)     4.537059\n",
      "[10.0, 20.0)    3.842403\n",
      "[20.0, 30.0)    4.200179\n",
      "[30.0, 40.0)    4.357470\n",
      "[40.0, 50.0)    3.186667\n",
      "dtype: float64\n"
     ]
    }
   ],
   "source": [
    "# Age Demographics\n",
    "# The below each broken into bins of 4 years (i.e. <10, 10-14, 15-19, etc.)\n",
    "#     Purchase Count\n",
    "#     Average Purchase Price\n",
    "#     Total Purchase Value\n",
    "#     Average Purchase Total per Person by Age Group\n",
    "\n",
    "df_temp = df.copy()\n",
    "df_temp['Age_group'] = pd.cut(df['Age'], bins=[0, 10, 20, 30, 40, 50, float('inf')], right=False)\n",
    "temp = df_temp.groupby('Age_group', observed=True)\n",
    "\n",
    "print(f\"\\nCounts of each age group: \")\n",
    "count_result = temp.size()  \n",
    "print(count_result)\n",
    "\n",
    "print(\"\\nAverage Purchase Price: \")\n",
    "Avg_purchase_price = temp['Price'].mean()\n",
    "print(Avg_purchase_price)\n",
    "\n",
    "print(\"\\nTotal Purchase Value: \")\n",
    "Avg_purchase_price = temp['Price'].sum()\n",
    "print(Avg_purchase_price)\n",
    "\n",
    "print(\"\\nAverage Purchase Total per Person by Age Group: \")\n",
    "Avg_purchase_price = temp['Price'].sum() / temp['SN'].nunique()\n",
    "print(Avg_purchase_price)\n"
   ]
  },
  {
   "cell_type": "code",
   "execution_count": 23,
   "metadata": {},
   "outputs": [
    {
     "name": "stdout",
     "output_type": "stream",
     "text": [
      "\n",
      "Top 5 Spenders with SN and total value spent\n",
      "SN\n",
      "Lisosia93      18.96\n",
      "Idastidru52    15.45\n",
      "Chamjask73     13.83\n",
      "Iral74         13.62\n",
      "Iskadarya95    13.10\n",
      "Name: Price, dtype: float64\n",
      "\n",
      "Top 5 by purchase count\n",
      "SN\n",
      "Lisosia93      5\n",
      "Iral74         4\n",
      "Idastidru52    4\n",
      "Asur53         3\n",
      "Inguron55      3\n",
      "Name: Price, dtype: int64\n",
      "\n",
      "Top 5 by Average Spending\n",
      "SN\n",
      "Dyally87          4.99\n",
      "Lirtilsa71        4.94\n",
      "Yarithsurgue62    4.94\n",
      "Ririp86           4.94\n",
      "Chanirrasta87     4.94\n",
      "Name: Price, dtype: float64\n"
     ]
    }
   ],
   "source": [
    "# 6. Top Spenders\n",
    "# Identify the the top 5 spenders in the game by total purchase value, then list (in a table):\n",
    "#     SN\n",
    "#     Purchase Count\n",
    "#     Average Purchase Price\n",
    "#     Total Purchase Value\n",
    "\n",
    "grouped_by_users = df.groupby(\"SN\")\n",
    "\n",
    "print(f\"\\nTop 5 Spenders with SN and total value spent\")\n",
    "top_5_spenders = grouped_by_users[\"Price\"].sum().sort_values(ascending = False)[:5]\n",
    "print(top_5_spenders)\n",
    "\n",
    "print(f\"\\nTop 5 by purchase count\")\n",
    "top_5_spenders = grouped_by_users[\"Price\"].count().sort_values(ascending = False)[:5]\n",
    "print(top_5_spenders)\n",
    "\n",
    "print(f\"\\nTop 5 by Average Spending\")\n",
    "top_5_spenders = grouped_by_users[\"Price\"].mean().sort_values(ascending = False)[:5]\n",
    "print(top_5_spenders)"
   ]
  },
  {
   "cell_type": "code",
   "execution_count": 24,
   "metadata": {},
   "outputs": [
    {
     "name": "stdout",
     "output_type": "stream",
     "text": [
      "Most Popular Items with Name and Count: \n",
      "Item Name\n",
      "Final Critic                                    13\n",
      "Oathbreaker, Last Hope of the Breaking Storm    12\n",
      "Persuasion                                       9\n",
      "Nirvana                                          9\n",
      "Extraction, Quickblade Of Trembling Hands        9\n",
      "dtype: int64\n",
      "\n",
      "Most Popular Items with Item IDs: \n",
      "                                       Item Name  Item ID\n",
      "0      Extraction, Quickblade Of Trembling Hands      108\n",
      "2                                   Final Critic       92\n",
      "18                                       Nirvana       82\n",
      "24                                    Persuasion      141\n",
      "25  Oathbreaker, Last Hope of the Breaking Storm      178\n",
      "Popular Item Price\n",
      "\n",
      "Most Popular Items with Prices: \n",
      "                                       Item Name  Price\n",
      "0      Extraction, Quickblade Of Trembling Hands   3.53\n",
      "2                                   Final Critic   4.88\n",
      "18                                       Nirvana   4.90\n",
      "24                                    Persuasion   3.19\n",
      "25  Oathbreaker, Last Hope of the Breaking Storm   4.23\n",
      "\n",
      "Popular Item total purchase value\n",
      "Item Name\n",
      "Extraction, Quickblade Of Trembling Hands       31.77\n",
      "Final Critic                                    59.99\n",
      "Nirvana                                         44.10\n",
      "Oathbreaker, Last Hope of the Breaking Storm    50.76\n",
      "Persuasion                                      28.99\n",
      "Name: Price, dtype: float64\n"
     ]
    }
   ],
   "source": [
    "# 7. Most Popular Items\n",
    "# Identify the 5 most popular items by purchase count, then list (in a table):\n",
    "#  Item ID\n",
    "#  Item Name\n",
    "#  Purchase Count\n",
    "#  Item Price\n",
    "#  Total Purchase Value\n",
    "\n",
    "grouped_by_items = df.groupby('Item Name')\n",
    "\n",
    "most_popular_items = grouped_by_items.size().sort_values(ascending=False)[:5]\n",
    "print(\"Most Popular Items with Name and Count: \")\n",
    "print(most_popular_items)\n",
    "\n",
    "most_popular_item_names = most_popular_items.index\n",
    "popular_items_ids = df[df['Item Name'].isin(most_popular_item_names)][['Item Name', 'Item ID']]\n",
    "popular_items_ids = popular_items_ids.drop_duplicates(subset = [\"Item Name\"])\n",
    "print(\"\\nMost Popular Items with Item IDs: \")\n",
    "print(popular_items_ids)\n",
    "\n",
    "# most_popular_items_purchase_count\n",
    "print(\"Popular Item Price\")\n",
    "item_price_subset = df[df['Item Name'].isin(most_popular_item_names)][[\"Item Name\", \"Price\"]]\n",
    "item_price_subset = item_price_subset.drop_duplicates(subset = [\"Item Name\"])\n",
    "print(\"\\nMost Popular Items with Prices: \")\n",
    "print(item_price_subset)\n",
    "\n",
    "# Total_purchase_value \n",
    "print(\"\\nPopular Item total purchase value\")\n",
    "total_purchase_value_subset = df[ df[\"Item Name\"].isin(most_popular_item_names)][[\"Item Name\", \"Price\"]]\n",
    "print(total_purchase_value_subset.groupby(\"Item Name\")[\"Price\"].sum())\n",
    "\n"
   ]
  },
  {
   "cell_type": "code",
   "execution_count": 25,
   "metadata": {},
   "outputs": [
    {
     "name": "stdout",
     "output_type": "stream",
     "text": [
      "Most Profitable Items (Names with Total Purchase Value)\n",
      "                                              Price\n",
      "Item Name                                          \n",
      "Final Critic                                  59.99\n",
      "Oathbreaker, Last Hope of the Breaking Storm  50.76\n",
      "Nirvana                                       44.10\n",
      "Fiery Glass Crusader                          41.22\n",
      "Singed Scalpel                                34.80\n",
      "\n",
      "Most Profitable Items (Names with Total Purchase Count)\n",
      "Item Name\n",
      "Final Critic                                    13\n",
      "Oathbreaker, Last Hope of the Breaking Storm    12\n",
      "Persuasion                                       9\n",
      "Nirvana                                          9\n",
      "Extraction, Quickblade Of Trembling Hands        9\n",
      "dtype: int64\n",
      "\n",
      "Most Profitable Items (Names, Item Id, Item Price)\n",
      "                                        Item Name  Item ID  Price\n",
      "2                                    Final Critic       92   4.88\n",
      "18                                        Nirvana       82   4.90\n",
      "25   Oathbreaker, Last Hope of the Breaking Storm      178   4.23\n",
      "132                          Fiery Glass Crusader      145   4.58\n",
      "175                                Singed Scalpel      103   4.35\n"
     ]
    }
   ],
   "source": [
    "# 8. Most Profitable Items\n",
    "# the 5 most profitable items by total purchase value, then list (in a table):\n",
    "#  Item ID *\n",
    "#  Item Name *\n",
    "#  Purchase Count *\n",
    "#  Item Price *\n",
    "#  Total Purchase Value *\n",
    "\n",
    "print(\"Most Profitable Items (Names with Total Purchase Value)\")\n",
    "group_by_items = df.groupby(\"Item Name\")\n",
    "temp = group_by_items.agg({\"Price\" : \"sum\"}).sort_values(by = \"Price\", ascending = False)[:5]\n",
    "print(temp)\n",
    "profitable_items_names = temp.index.tolist()\n",
    "\n",
    "print(\"\\nMost Profitable Items (Names with Total Purchase Count)\")\n",
    "print(group_by_items.size().sort_values(ascending = False)[:5])\n",
    "\n",
    "print(\"\\nMost Profitable Items (Names, Item Id, Item Price)\")\n",
    "profitable_item_id_subset = df[ df[\"Item Name\"].isin(profitable_items_names)][[\"Item Name\", \"Item ID\", \"Price\"]].drop_duplicates(subset = [\"Item Name\"])\n",
    "print(profitable_item_id_subset)"
   ]
  },
  {
   "cell_type": "code",
   "execution_count": null,
   "metadata": {},
   "outputs": [],
   "source": []
  },
  {
   "cell_type": "code",
   "execution_count": 74,
   "metadata": {},
   "outputs": [],
   "source": [
    "all_08 = pd.read_csv(\"all_alpha_08.csv\")\n",
    "all_18 = pd.read_csv(\"all_alpha_18.csv\")"
   ]
  },
  {
   "cell_type": "code",
   "execution_count": 226,
   "metadata": {},
   "outputs": [
    {
     "name": "stdout",
     "output_type": "stream",
     "text": [
      "2205\n"
     ]
    }
   ],
   "source": [
    "# i. Data cleaning\n",
    "# ii. Inspection\n",
    "# iii. Manipulation if required\n",
    "# iv. Extracting meaningful visualization based on your understanding\n",
    "# v. Data consolidation if required \n",
    "\n",
    "# dropping NaN values\n",
    "print(len(all_08))\n",
    "all_08 = all_08.dropna()\n"
   ]
  },
  {
   "cell_type": "code",
   "execution_count": 132,
   "metadata": {},
   "outputs": [
    {
     "name": "stdout",
     "output_type": "stream",
     "text": [
      "<class 'pandas.core.frame.DataFrame'>\n",
      "Index: 2205 entries, 0 to 2403\n",
      "Data columns (total 18 columns):\n",
      " #   Column                Non-Null Count  Dtype  \n",
      "---  ------                --------------  -----  \n",
      " 0   Model                 2205 non-null   object \n",
      " 1   Displ                 2205 non-null   float64\n",
      " 2   Cyl                   2205 non-null   object \n",
      " 3   Trans                 2205 non-null   object \n",
      " 4   Drive                 2205 non-null   object \n",
      " 5   Fuel                  2205 non-null   object \n",
      " 6   Sales Area            2205 non-null   object \n",
      " 7   Stnd                  2205 non-null   object \n",
      " 8   Underhood ID          2205 non-null   object \n",
      " 9   Veh Class             2205 non-null   object \n",
      " 10  Air Pollution Score   2205 non-null   float64\n",
      " 11  FE Calc Appr          2205 non-null   object \n",
      " 12  City MPG              2205 non-null   float64\n",
      " 13  Hwy MPG               2205 non-null   float64\n",
      " 14  Cmb MPG               2205 non-null   float64\n",
      " 15  Unadj Cmb MPG         2205 non-null   float64\n",
      " 16  Greenhouse Gas Score  2205 non-null   float64\n",
      " 17  SmartWay              2205 non-null   object \n",
      "dtypes: float64(7), object(11)\n",
      "memory usage: 327.3+ KB\n"
     ]
    }
   ],
   "source": [
    "# Data Inspection and Manipulation\n",
    "all_08.info()"
   ]
  },
  {
   "cell_type": "code",
   "execution_count": 98,
   "metadata": {},
   "outputs": [],
   "source": [
    "def conv(inp_str):\n",
    "    if \"/\" in inp_str:\n",
    "        st = inp_str.split(\"/\")\n",
    "        out = sum(list(map(float, st))) / len(st)\n",
    "        return out\n",
    "    else: return float(inp_str)"
   ]
  },
  {
   "cell_type": "code",
   "execution_count": 102,
   "metadata": {},
   "outputs": [
    {
     "data": {
      "text/plain": [
       "array([7. , 6. , 9.5, 3. , 8. , 9. , 1. , 5. ])"
      ]
     },
     "execution_count": 102,
     "metadata": {},
     "output_type": "execute_result"
    }
   ],
   "source": [
    "all_08[\"Air Pollution Score\"] = all_08[\"Air Pollution Score\"].apply(lambda x : conv(x))\n",
    "all_08[\"Air Pollution Score\"].unique()"
   ]
  },
  {
   "cell_type": "code",
   "execution_count": 112,
   "metadata": {},
   "outputs": [
    {
     "data": {
      "text/plain": [
       "array([15. , 17. , 16. , 18. , 19. , 20. , 10. , 11. , 12. , 13. , 21. ,\n",
       "       22. , 14. , 23. ,  9. ,  8. , 12.5, 24. , 10.5, 15.5, 11.5, 34. ,\n",
       "       29. , 25. , 26. , 40. , 27. , 28. , 35. , 33. , 48. ])"
      ]
     },
     "execution_count": 112,
     "metadata": {},
     "output_type": "execute_result"
    }
   ],
   "source": [
    "all_08[\"City MPG\"] = all_08[\"City MPG\"].apply(lambda x : conv(x))\n",
    "all_08[\"City MPG\"].unique()"
   ]
  },
  {
   "cell_type": "code",
   "execution_count": 118,
   "metadata": {},
   "outputs": [
    {
     "data": {
      "text/plain": [
       "array([20. , 22. , 24. , 26. , 27. , 28. , 16. , 18. , 17. , 19. , 29. ,\n",
       "       25. , 30. , 23. , 21. , 31. , 15. , 14. , 17.5, 16.5, 32. , 34. ,\n",
       "       33. , 14.5, 15.5, 23.5, 22.5, 20.5, 19.5, 35. , 36. , 45. , 13. ,\n",
       "       37. ])"
      ]
     },
     "execution_count": 118,
     "metadata": {},
     "output_type": "execute_result"
    }
   ],
   "source": [
    "all_08[\"Hwy MPG\"] = all_08[\"Hwy MPG\"].apply(lambda x : conv(x))\n",
    "all_08[\"Hwy MPG\"].unique()"
   ]
  },
  {
   "cell_type": "code",
   "execution_count": 124,
   "metadata": {},
   "outputs": [
    {
     "data": {
      "text/plain": [
       "array([17. , 19. , 21. , 20. , 22. , 23. , 12. , 13. , 15. , 24. , 25. ,\n",
       "       18. , 16. , 14. , 26. , 11. , 10. , 27. , 18.5, 16.5, 12.5, 15.5,\n",
       "       32. , 28. , 13.5, 29. , 42. , 30. , 31. , 34. , 46. ])"
      ]
     },
     "execution_count": 124,
     "metadata": {},
     "output_type": "execute_result"
    }
   ],
   "source": [
    "all_08[\"Cmb MPG\"] = all_08[\"Cmb MPG\"].apply(lambda x : conv(x))\n",
    "all_08[\"Cmb MPG\"].unique()"
   ]
  },
  {
   "cell_type": "code",
   "execution_count": 130,
   "metadata": {},
   "outputs": [
    {
     "data": {
      "text/plain": [
       "array([ 4. ,  5. ,  6. ,  7. ,  0. ,  1. ,  3. ,  2. ,  8. ,  3.5,  6.5,\n",
       "        5.5,  9. ,  4.5, 10. ])"
      ]
     },
     "execution_count": 130,
     "metadata": {},
     "output_type": "execute_result"
    }
   ],
   "source": [
    "all_08[\"Greenhouse Gas Score\"] = all_08[\"Greenhouse Gas Score\"].apply(lambda x : conv(x))\n",
    "all_08[\"Greenhouse Gas Score\"].unique()"
   ]
  },
  {
   "cell_type": "code",
   "execution_count": 128,
   "metadata": {},
   "outputs": [
    {
     "data": {
      "text/plain": [
       "array(['4', '5', '6', '7', '0', '1', '3', '2', '8', '6/4', '4/2', '8/6',\n",
       "       '7/5', '5/3', '4/3', '7/6', '6/5', '9', '6/3', '10'], dtype=object)"
      ]
     },
     "execution_count": 128,
     "metadata": {},
     "output_type": "execute_result"
    }
   ],
   "source": [
    "all_08[\"Greenhouse Gas Score\"].unique()"
   ]
  },
  {
   "cell_type": "code",
   "execution_count": 92,
   "metadata": {},
   "outputs": [
    {
     "data": {
      "text/html": [
       "<div>\n",
       "<style scoped>\n",
       "    .dataframe tbody tr th:only-of-type {\n",
       "        vertical-align: middle;\n",
       "    }\n",
       "\n",
       "    .dataframe tbody tr th {\n",
       "        vertical-align: top;\n",
       "    }\n",
       "\n",
       "    .dataframe thead th {\n",
       "        text-align: right;\n",
       "    }\n",
       "</style>\n",
       "<table border=\"1\" class=\"dataframe\">\n",
       "  <thead>\n",
       "    <tr style=\"text-align: right;\">\n",
       "      <th></th>\n",
       "      <th>Model</th>\n",
       "      <th>Displ</th>\n",
       "      <th>Cyl</th>\n",
       "      <th>Trans</th>\n",
       "      <th>Drive</th>\n",
       "      <th>Fuel</th>\n",
       "      <th>Sales Area</th>\n",
       "      <th>Stnd</th>\n",
       "      <th>Underhood ID</th>\n",
       "      <th>Veh Class</th>\n",
       "      <th>Air Pollution Score</th>\n",
       "      <th>FE Calc Appr</th>\n",
       "      <th>City MPG</th>\n",
       "      <th>Hwy MPG</th>\n",
       "      <th>Cmb MPG</th>\n",
       "      <th>Unadj Cmb MPG</th>\n",
       "      <th>Greenhouse Gas Score</th>\n",
       "      <th>SmartWay</th>\n",
       "    </tr>\n",
       "  </thead>\n",
       "  <tbody>\n",
       "    <tr>\n",
       "      <th>0</th>\n",
       "      <td>ACURA MDX</td>\n",
       "      <td>3.7</td>\n",
       "      <td>(6 cyl)</td>\n",
       "      <td>Auto-S5</td>\n",
       "      <td>4WD</td>\n",
       "      <td>Gasoline</td>\n",
       "      <td>CA</td>\n",
       "      <td>U2</td>\n",
       "      <td>8HNXT03.7PKR</td>\n",
       "      <td>SUV</td>\n",
       "      <td>7</td>\n",
       "      <td>Drv</td>\n",
       "      <td>15</td>\n",
       "      <td>20</td>\n",
       "      <td>17</td>\n",
       "      <td>22.0527</td>\n",
       "      <td>4</td>\n",
       "      <td>no</td>\n",
       "    </tr>\n",
       "    <tr>\n",
       "      <th>1</th>\n",
       "      <td>ACURA MDX</td>\n",
       "      <td>3.7</td>\n",
       "      <td>(6 cyl)</td>\n",
       "      <td>Auto-S5</td>\n",
       "      <td>4WD</td>\n",
       "      <td>Gasoline</td>\n",
       "      <td>FA</td>\n",
       "      <td>B5</td>\n",
       "      <td>8HNXT03.7PKR</td>\n",
       "      <td>SUV</td>\n",
       "      <td>6</td>\n",
       "      <td>Drv</td>\n",
       "      <td>15</td>\n",
       "      <td>20</td>\n",
       "      <td>17</td>\n",
       "      <td>22.0527</td>\n",
       "      <td>4</td>\n",
       "      <td>no</td>\n",
       "    </tr>\n",
       "    <tr>\n",
       "      <th>2</th>\n",
       "      <td>ACURA RDX</td>\n",
       "      <td>2.3</td>\n",
       "      <td>(4 cyl)</td>\n",
       "      <td>Auto-S5</td>\n",
       "      <td>4WD</td>\n",
       "      <td>Gasoline</td>\n",
       "      <td>CA</td>\n",
       "      <td>U2</td>\n",
       "      <td>8HNXT02.3DKR</td>\n",
       "      <td>SUV</td>\n",
       "      <td>7</td>\n",
       "      <td>Drv</td>\n",
       "      <td>17</td>\n",
       "      <td>22</td>\n",
       "      <td>19</td>\n",
       "      <td>24.1745</td>\n",
       "      <td>5</td>\n",
       "      <td>no</td>\n",
       "    </tr>\n",
       "    <tr>\n",
       "      <th>3</th>\n",
       "      <td>ACURA RDX</td>\n",
       "      <td>2.3</td>\n",
       "      <td>(4 cyl)</td>\n",
       "      <td>Auto-S5</td>\n",
       "      <td>4WD</td>\n",
       "      <td>Gasoline</td>\n",
       "      <td>FA</td>\n",
       "      <td>B5</td>\n",
       "      <td>8HNXT02.3DKR</td>\n",
       "      <td>SUV</td>\n",
       "      <td>6</td>\n",
       "      <td>Drv</td>\n",
       "      <td>17</td>\n",
       "      <td>22</td>\n",
       "      <td>19</td>\n",
       "      <td>24.1745</td>\n",
       "      <td>5</td>\n",
       "      <td>no</td>\n",
       "    </tr>\n",
       "    <tr>\n",
       "      <th>4</th>\n",
       "      <td>ACURA RL</td>\n",
       "      <td>3.5</td>\n",
       "      <td>(6 cyl)</td>\n",
       "      <td>Auto-S5</td>\n",
       "      <td>4WD</td>\n",
       "      <td>Gasoline</td>\n",
       "      <td>CA</td>\n",
       "      <td>U2</td>\n",
       "      <td>8HNXV03.5HKR</td>\n",
       "      <td>midsize car</td>\n",
       "      <td>7</td>\n",
       "      <td>Drv</td>\n",
       "      <td>16</td>\n",
       "      <td>24</td>\n",
       "      <td>19</td>\n",
       "      <td>24.5629</td>\n",
       "      <td>5</td>\n",
       "      <td>no</td>\n",
       "    </tr>\n",
       "  </tbody>\n",
       "</table>\n",
       "</div>"
      ],
      "text/plain": [
       "       Model  Displ      Cyl    Trans Drive      Fuel Sales Area Stnd  \\\n",
       "0  ACURA MDX    3.7  (6 cyl)  Auto-S5   4WD  Gasoline         CA   U2   \n",
       "1  ACURA MDX    3.7  (6 cyl)  Auto-S5   4WD  Gasoline         FA   B5   \n",
       "2  ACURA RDX    2.3  (4 cyl)  Auto-S5   4WD  Gasoline         CA   U2   \n",
       "3  ACURA RDX    2.3  (4 cyl)  Auto-S5   4WD  Gasoline         FA   B5   \n",
       "4   ACURA RL    3.5  (6 cyl)  Auto-S5   4WD  Gasoline         CA   U2   \n",
       "\n",
       "   Underhood ID    Veh Class Air Pollution Score FE Calc Appr City MPG  \\\n",
       "0  8HNXT03.7PKR          SUV                   7          Drv       15   \n",
       "1  8HNXT03.7PKR          SUV                   6          Drv       15   \n",
       "2  8HNXT02.3DKR          SUV                   7          Drv       17   \n",
       "3  8HNXT02.3DKR          SUV                   6          Drv       17   \n",
       "4  8HNXV03.5HKR  midsize car                   7          Drv       16   \n",
       "\n",
       "  Hwy MPG Cmb MPG  Unadj Cmb MPG Greenhouse Gas Score SmartWay  \n",
       "0      20      17        22.0527                    4       no  \n",
       "1      20      17        22.0527                    4       no  \n",
       "2      22      19        24.1745                    5       no  \n",
       "3      22      19        24.1745                    5       no  \n",
       "4      24      19        24.5629                    5       no  "
      ]
     },
     "execution_count": 92,
     "metadata": {},
     "output_type": "execute_result"
    }
   ],
   "source": [
    "all_08.head()"
   ]
  },
  {
   "cell_type": "code",
   "execution_count": 174,
   "metadata": {},
   "outputs": [
    {
     "data": {
      "text/plain": [
       "array(['no', 'yes'], dtype=object)"
      ]
     },
     "execution_count": 174,
     "metadata": {},
     "output_type": "execute_result"
    }
   ],
   "source": [
    "all_08[\"SmartWay\"].unique()"
   ]
  },
  {
   "cell_type": "code",
   "execution_count": 160,
   "metadata": {},
   "outputs": [
    {
     "data": {
      "text/plain": [
       "Model                   0\n",
       "Displ                   0\n",
       "Cyl                     0\n",
       "Trans                   0\n",
       "Drive                   0\n",
       "Fuel                    0\n",
       "Cert Region             0\n",
       "Stnd                    0\n",
       "Stnd Description        0\n",
       "Underhood ID            0\n",
       "Veh Class               0\n",
       "Air Pollution Score     0\n",
       "City MPG                0\n",
       "Hwy MPG                 0\n",
       "Cmb MPG                 0\n",
       "Greenhouse Gas Score    0\n",
       "SmartWay                0\n",
       "Comb CO2                0\n",
       "dtype: int64"
      ]
     },
     "execution_count": 160,
     "metadata": {},
     "output_type": "execute_result"
    }
   ],
   "source": [
    "all_18 = all_18.dropna()\n",
    "all_18.isna().sum()\n"
   ]
  },
  {
   "cell_type": "code",
   "execution_count": 168,
   "metadata": {},
   "outputs": [
    {
     "name": "stdout",
     "output_type": "stream",
     "text": [
      "<class 'pandas.core.frame.DataFrame'>\n",
      "Index: 1609 entries, 0 to 1610\n",
      "Data columns (total 18 columns):\n",
      " #   Column                Non-Null Count  Dtype  \n",
      "---  ------                --------------  -----  \n",
      " 0   Model                 1609 non-null   object \n",
      " 1   Displ                 1609 non-null   float64\n",
      " 2   Cyl                   1609 non-null   float64\n",
      " 3   Trans                 1609 non-null   object \n",
      " 4   Drive                 1609 non-null   object \n",
      " 5   Fuel                  1609 non-null   object \n",
      " 6   Cert Region           1609 non-null   object \n",
      " 7   Stnd                  1609 non-null   object \n",
      " 8   Stnd Description      1609 non-null   object \n",
      " 9   Underhood ID          1609 non-null   object \n",
      " 10  Veh Class             1609 non-null   object \n",
      " 11  Air Pollution Score   1609 non-null   int64  \n",
      " 12  City MPG              1609 non-null   float64\n",
      " 13  Hwy MPG               1609 non-null   float64\n",
      " 14  Cmb MPG               1609 non-null   float64\n",
      " 15  Greenhouse Gas Score  1609 non-null   int64  \n",
      " 16  SmartWay              1609 non-null   object \n",
      " 17  Comb CO2              1609 non-null   float64\n",
      "dtypes: float64(6), int64(2), object(10)\n",
      "memory usage: 238.8+ KB\n"
     ]
    }
   ],
   "source": [
    "all_18.info()"
   ]
  },
  {
   "cell_type": "code",
   "execution_count": 144,
   "metadata": {},
   "outputs": [
    {
     "data": {
      "text/plain": [
       "array([ 20. ,  19. ,  23. ,  21. ,  24. ,  17. ,  22. ,  26. ,  25. ,\n",
       "        27. ,  12. ,   9. ,  47. ,  48.5,  46.5,  16. ,  43.5,  18. ,\n",
       "        14. ,  15. ,  13. ,  29. ,  31. ,  30. ,  28. ,  49. ,  14.5,\n",
       "        13.5,  78. ,  16.5,  15.5,  72.5,  43. ,  17.5,  33. ,  32. ,\n",
       "        39.5, 124. ,  10. ,  20.5,  45.5,  37. ,  35. ,  40. ,  51. ,\n",
       "        44. ,  48. ,  34. ,  11. ,  44.5])"
      ]
     },
     "execution_count": 144,
     "metadata": {},
     "output_type": "execute_result"
    }
   ],
   "source": [
    "all_18[\"City MPG\"] = all_18[\"City MPG\"].apply(lambda x : conv(x))\n",
    "all_18[\"City MPG\"].unique()"
   ]
  },
  {
   "cell_type": "code",
   "execution_count": 150,
   "metadata": {},
   "outputs": [
    {
     "data": {
      "text/plain": [
       "array([28. , 27. , 33. , 32. , 30. , 29. , 34. , 24. , 31. , 35. , 37. ,\n",
       "       25. , 19. , 14. , 56. , 53. , 49.5, 48.5, 26. , 22. , 20. , 23. ,\n",
       "       21. , 15. , 18. , 40. , 47. , 52. , 38. , 45. , 48. , 39. , 36. ,\n",
       "       43. , 18.5, 70.5, 23.5, 21.5, 16. , 17. , 66. , 41. , 42. , 24.5,\n",
       "       93. , 19.5, 46.5, 14.5, 52.5, 45.5])"
      ]
     },
     "execution_count": 150,
     "metadata": {},
     "output_type": "execute_result"
    }
   ],
   "source": [
    "all_18[\"Hwy MPG\"] = all_18[\"Hwy MPG\"].apply(lambda x : conv(x))\n",
    "all_18[\"Hwy MPG\"].unique()"
   ]
  },
  {
   "cell_type": "code",
   "execution_count": 156,
   "metadata": {},
   "outputs": [
    {
     "data": {
      "text/plain": [
       "array([ 23. ,  22. ,  27. ,  24. ,  28. ,  20. ,  26. ,  29. ,  25. ,\n",
       "        31. ,  21. ,  15. ,  11. ,  50.5,  47.5,  19. ,  45.5,  16. ,\n",
       "        17. ,  30. ,  18. ,  32. ,  33. ,  37. ,  35. ,  46. ,  16.5,\n",
       "        15.5,  74. ,  18.5,  13. ,  69.5,  42. ,  34. ,  36. ,  21.5,\n",
       "        40. , 108. ,  12. ,  23.5,  22.5,  39. ,  14. ,  52. ,  12.5,\n",
       "        50. ,  42.5,  44.5])"
      ]
     },
     "execution_count": 156,
     "metadata": {},
     "output_type": "execute_result"
    }
   ],
   "source": [
    "all_18[\"Cmb MPG\"] = all_18[\"Cmb MPG\"].apply(lambda x : conv(x))\n",
    "all_18[\"Cmb MPG\"].unique()"
   ]
  },
  {
   "cell_type": "code",
   "execution_count": 166,
   "metadata": {},
   "outputs": [
    {
     "data": {
      "text/plain": [
       "array([386. , 402. , 330. , 368. , 369. , 387. , 382. , 317. , 451. ,\n",
       "       348. , 364. , 303. , 359. , 315. , 327. , 284. , 311. , 347. ,\n",
       "       378. , 397. , 380. , 363. , 415. , 419. , 399. , 374. , 384. ,\n",
       "       434. , 336. , 395. , 358. , 350. , 596. , 840. , 324. , 360. ,\n",
       "       318. , 333. , 325. , 326. , 323. , 332. , 189. , 389. , 390. ,\n",
       "       352. , 357. , 343. , 351. , 372. , 193. , 200. , 367. , 396. ,\n",
       "       449. , 463. , 214. , 430. , 411. , 362. , 365. , 401. , 450. ,\n",
       "       439. , 481. , 454. , 553. , 522. , 571. , 337. , 349. , 429. ,\n",
       "       298. , 319. , 335. , 306. , 388. , 376. , 398. , 474. , 469. ,\n",
       "       424. , 416. , 488. , 530. , 517. , 533. , 405. , 423. , 379. ,\n",
       "       354. , 437. , 559. , 457. , 582. , 442. , 406. , 403. , 413. ,\n",
       "       440. , 589. , 506. , 532. , 503. , 466. , 541. , 487. , 277. ,\n",
       "       267. , 276. , 274. , 285. , 278. , 291. , 290. , 269. , 287. ,\n",
       "       314. , 355. , 401.5, 404. , 292. , 194. , 344. , 452.5, 474.5,\n",
       "       465. , 476. , 523. , 491. , 447. , 495. , 490. , 524. , 280. ,\n",
       "       296. , 455.5, 468. , 499.5, 504. , 489.5, 497. , 444. ,  51. ,\n",
       "       382.5, 407. , 494. , 486. , 546. , 567. , 414. , 427. , 525. ,\n",
       "       584. , 420. , 448. , 470. , 501. , 661. , 478. , 356. , 410. ,\n",
       "       426. , 493. , 485. , 385. , 112. , 211. , 383.5, 392. , 453. ,\n",
       "       445. , 482. , 475.5, 465.5, 475. , 489. , 316. , 339. , 548. ,\n",
       "       259. , 246. , 282. , 289. , 256. , 305. , 301. , 281. , 338. ,\n",
       "       272. , 433. , 425. , 342. , 308. , 408. , 321. , 464. , 446. ,\n",
       "       500. , 312. , 299. , 383. , 377. , 361. , 375. , 412. , 432. ,\n",
       "       592. , 151. , 279. , 353. , 286. , 310. , 443. , 436. , 320. ,\n",
       "       334. , 400. , 731. , 751. , 459. , 597. , 467. , 460. , 471. ,\n",
       "       572. , 577. , 557. , 283. , 293. , 391. , 394. , 393. , 458. ,\n",
       "       441. , 496. , 438. , 586. , 591. , 328. , 366. , 418. , 322. ,\n",
       "       333.5, 477. , 556. , 455. , 341. , 294. , 346. , 223. , 373. ,\n",
       "       225. , 242. , 237. , 249. , 555. , 587. , 260. , 370. , 371. ,\n",
       "       428. , 452. , 461. , 614. , 513. , 527. , 331. , 479. , 264. ,\n",
       "       170. , 195. , 345. , 271. , 263. , 297. , 595. , 275. , 607. ,\n",
       "       604. , 554. , 568. , 615. , 613.5, 302. , 304. , 340. , 161. ,\n",
       "       199. , 187. ])"
      ]
     },
     "execution_count": 166,
     "metadata": {},
     "output_type": "execute_result"
    }
   ],
   "source": [
    "all_18[\"Comb CO2\"] = all_18[\"Comb CO2\"].apply(lambda x : conv(x))\n",
    "all_18[\"Comb CO2\"].unique()"
   ]
  },
  {
   "cell_type": "code",
   "execution_count": 164,
   "metadata": {},
   "outputs": [
    {
     "data": {
      "text/plain": [
       "array(['386', '402', '330', '368', '369', '387', '382', '317', '451',\n",
       "       '348', '364', '303', '359', '315', '327', '284', '311', '347',\n",
       "       '378', '397', '380', '363', '415', '419', '399', '374', '384',\n",
       "       '434', '336', '395', '358', '350', '596', '840', '324', '360',\n",
       "       '318', '333', '325', '326', '323', '332', '189', '389', '390',\n",
       "       '352', '357', '343', '351', '372', '193', '200', '367', '396',\n",
       "       '449', '463', '214', '430', '411', '362', '365', '401', '450',\n",
       "       '439', '481', '454', '553', '522', '571', '337', '349', '429',\n",
       "       '298', '319', '335', '306', '388', '376', '398', '474', '469',\n",
       "       '424', '416', '488', '530', '517', '533', '405', '423', '379',\n",
       "       '354', '437', '559', '457', '582', '442', '406', '403', '413',\n",
       "       '440', '589', '506', '532', '503', '466', '541', '487', '277',\n",
       "       '267', '276', '274', '285', '278', '291', '290', '269', '287',\n",
       "       '314', '355', '394/409', '404', '292', '194', '344', '457/448',\n",
       "       '476/473', '455/475', '476', '523', '491', '447', '495', '490',\n",
       "       '524', '280', '296', '443/468', '468', '516/483', '504', '482/497',\n",
       "       '497', '444', '51', '376/389', '399/415', '494', '486', '546',\n",
       "       '567', '414', '427', '525', '584', '420', '440/456', '470', '501',\n",
       "       '661', '478', '356', '410', '426', '493', '485', '385', '112',\n",
       "       '211', '388/404', '375/392', '392', '453', '445', '448', '482',\n",
       "       '477/474', '456/475', '475', '489', '316', '339', '548', '259',\n",
       "       '246', '282', '289', '256', '305', '301', '281', '338', '272',\n",
       "       '433', '425', '342', '308', '408', '321', '464', '446', '500',\n",
       "       '407', '312', '299', '383', '377', '351/361', '361', '372/378',\n",
       "       '412', '432', '592', '151', '279', '353', '286', '310', '443',\n",
       "       '436', '465', '320', '334', '400', '731', '751', '459', '597',\n",
       "       '467', '460', '471', '572', '577', '557', '283', '293', '391',\n",
       "       '394', '393', '458', '441', '496', '438', '586', '591', '324/328',\n",
       "       '328', '366', '418', '322', '330/337', '375', '429/457', '477',\n",
       "       '556', '455', '341', '294', '346', '223', '373', '225', '242',\n",
       "       '237', '249', '555', '587', '260', '370', '371', '428', '452',\n",
       "       '461', '614', '513', '527', '331', '479', '264', '170', '195',\n",
       "       '345', '271', '263', '297', '595', '275', '607', '594/614', '554',\n",
       "       '568', '615', '623/604', '302', '304', '340', '161', '199', '187'],\n",
       "      dtype=object)"
      ]
     },
     "execution_count": 164,
     "metadata": {},
     "output_type": "execute_result"
    }
   ],
   "source": [
    "all_18[\"Comb CO2\"].unique()"
   ]
  },
  {
   "cell_type": "code",
   "execution_count": 60,
   "metadata": {},
   "outputs": [
    {
     "data": {
      "text/html": [
       "<div>\n",
       "<style scoped>\n",
       "    .dataframe tbody tr th:only-of-type {\n",
       "        vertical-align: middle;\n",
       "    }\n",
       "\n",
       "    .dataframe tbody tr th {\n",
       "        vertical-align: top;\n",
       "    }\n",
       "\n",
       "    .dataframe thead th {\n",
       "        text-align: right;\n",
       "    }\n",
       "</style>\n",
       "<table border=\"1\" class=\"dataframe\">\n",
       "  <thead>\n",
       "    <tr style=\"text-align: right;\">\n",
       "      <th></th>\n",
       "      <th>Model</th>\n",
       "      <th>Displ</th>\n",
       "      <th>Cyl</th>\n",
       "      <th>Trans</th>\n",
       "      <th>Drive</th>\n",
       "      <th>Fuel</th>\n",
       "      <th>Cert Region</th>\n",
       "      <th>Stnd</th>\n",
       "      <th>Stnd Description</th>\n",
       "      <th>Underhood ID</th>\n",
       "      <th>Veh Class</th>\n",
       "      <th>Air Pollution Score</th>\n",
       "      <th>City MPG</th>\n",
       "      <th>Hwy MPG</th>\n",
       "      <th>Cmb MPG</th>\n",
       "      <th>Greenhouse Gas Score</th>\n",
       "      <th>SmartWay</th>\n",
       "      <th>Comb CO2</th>\n",
       "    </tr>\n",
       "  </thead>\n",
       "  <tbody>\n",
       "    <tr>\n",
       "      <th>0</th>\n",
       "      <td>ACURA RDX</td>\n",
       "      <td>3.5</td>\n",
       "      <td>6.0</td>\n",
       "      <td>SemiAuto-6</td>\n",
       "      <td>2WD</td>\n",
       "      <td>Gasoline</td>\n",
       "      <td>FA</td>\n",
       "      <td>T3B125</td>\n",
       "      <td>Federal Tier 3 Bin 125</td>\n",
       "      <td>JHNXT03.5GV3</td>\n",
       "      <td>small SUV</td>\n",
       "      <td>3</td>\n",
       "      <td>20</td>\n",
       "      <td>28</td>\n",
       "      <td>23</td>\n",
       "      <td>5</td>\n",
       "      <td>No</td>\n",
       "      <td>386</td>\n",
       "    </tr>\n",
       "    <tr>\n",
       "      <th>1</th>\n",
       "      <td>ACURA RDX</td>\n",
       "      <td>3.5</td>\n",
       "      <td>6.0</td>\n",
       "      <td>SemiAuto-6</td>\n",
       "      <td>2WD</td>\n",
       "      <td>Gasoline</td>\n",
       "      <td>CA</td>\n",
       "      <td>U2</td>\n",
       "      <td>California LEV-II ULEV</td>\n",
       "      <td>JHNXT03.5GV3</td>\n",
       "      <td>small SUV</td>\n",
       "      <td>3</td>\n",
       "      <td>20</td>\n",
       "      <td>28</td>\n",
       "      <td>23</td>\n",
       "      <td>5</td>\n",
       "      <td>No</td>\n",
       "      <td>386</td>\n",
       "    </tr>\n",
       "    <tr>\n",
       "      <th>2</th>\n",
       "      <td>ACURA RDX</td>\n",
       "      <td>3.5</td>\n",
       "      <td>6.0</td>\n",
       "      <td>SemiAuto-6</td>\n",
       "      <td>4WD</td>\n",
       "      <td>Gasoline</td>\n",
       "      <td>FA</td>\n",
       "      <td>T3B125</td>\n",
       "      <td>Federal Tier 3 Bin 125</td>\n",
       "      <td>JHNXT03.5GV3</td>\n",
       "      <td>small SUV</td>\n",
       "      <td>3</td>\n",
       "      <td>19</td>\n",
       "      <td>27</td>\n",
       "      <td>22</td>\n",
       "      <td>4</td>\n",
       "      <td>No</td>\n",
       "      <td>402</td>\n",
       "    </tr>\n",
       "    <tr>\n",
       "      <th>3</th>\n",
       "      <td>ACURA RDX</td>\n",
       "      <td>3.5</td>\n",
       "      <td>6.0</td>\n",
       "      <td>SemiAuto-6</td>\n",
       "      <td>4WD</td>\n",
       "      <td>Gasoline</td>\n",
       "      <td>CA</td>\n",
       "      <td>U2</td>\n",
       "      <td>California LEV-II ULEV</td>\n",
       "      <td>JHNXT03.5GV3</td>\n",
       "      <td>small SUV</td>\n",
       "      <td>3</td>\n",
       "      <td>19</td>\n",
       "      <td>27</td>\n",
       "      <td>22</td>\n",
       "      <td>4</td>\n",
       "      <td>No</td>\n",
       "      <td>402</td>\n",
       "    </tr>\n",
       "    <tr>\n",
       "      <th>4</th>\n",
       "      <td>ACURA TLX</td>\n",
       "      <td>2.4</td>\n",
       "      <td>4.0</td>\n",
       "      <td>AMS-8</td>\n",
       "      <td>2WD</td>\n",
       "      <td>Gasoline</td>\n",
       "      <td>CA</td>\n",
       "      <td>L3ULEV125</td>\n",
       "      <td>California LEV-III ULEV125</td>\n",
       "      <td>JHNXV02.4WH3</td>\n",
       "      <td>small car</td>\n",
       "      <td>3</td>\n",
       "      <td>23</td>\n",
       "      <td>33</td>\n",
       "      <td>27</td>\n",
       "      <td>6</td>\n",
       "      <td>No</td>\n",
       "      <td>330</td>\n",
       "    </tr>\n",
       "  </tbody>\n",
       "</table>\n",
       "</div>"
      ],
      "text/plain": [
       "       Model  Displ  Cyl       Trans Drive      Fuel Cert Region       Stnd  \\\n",
       "0  ACURA RDX    3.5  6.0  SemiAuto-6   2WD  Gasoline          FA     T3B125   \n",
       "1  ACURA RDX    3.5  6.0  SemiAuto-6   2WD  Gasoline          CA         U2   \n",
       "2  ACURA RDX    3.5  6.0  SemiAuto-6   4WD  Gasoline          FA     T3B125   \n",
       "3  ACURA RDX    3.5  6.0  SemiAuto-6   4WD  Gasoline          CA         U2   \n",
       "4  ACURA TLX    2.4  4.0       AMS-8   2WD  Gasoline          CA  L3ULEV125   \n",
       "\n",
       "             Stnd Description  Underhood ID  Veh Class  Air Pollution Score  \\\n",
       "0      Federal Tier 3 Bin 125  JHNXT03.5GV3  small SUV                    3   \n",
       "1      California LEV-II ULEV  JHNXT03.5GV3  small SUV                    3   \n",
       "2      Federal Tier 3 Bin 125  JHNXT03.5GV3  small SUV                    3   \n",
       "3      California LEV-II ULEV  JHNXT03.5GV3  small SUV                    3   \n",
       "4  California LEV-III ULEV125  JHNXV02.4WH3  small car                    3   \n",
       "\n",
       "  City MPG Hwy MPG Cmb MPG  Greenhouse Gas Score SmartWay Comb CO2  \n",
       "0       20      28      23                     5       No      386  \n",
       "1       20      28      23                     5       No      386  \n",
       "2       19      27      22                     4       No      402  \n",
       "3       19      27      22                     4       No      402  \n",
       "4       23      33      27                     6       No      330  "
      ]
     },
     "execution_count": 60,
     "metadata": {},
     "output_type": "execute_result"
    }
   ],
   "source": [
    "all_18.head()"
   ]
  },
  {
   "cell_type": "code",
   "execution_count": 172,
   "metadata": {},
   "outputs": [
    {
     "data": {
      "text/plain": [
       "array(['No', 'Yes', 'Elite'], dtype=object)"
      ]
     },
     "execution_count": 172,
     "metadata": {},
     "output_type": "execute_result"
    }
   ],
   "source": [
    "all_18[\"SmartWay\"].unique()\n"
   ]
  },
  {
   "cell_type": "code",
   "execution_count": 202,
   "metadata": {},
   "outputs": [
    {
     "data": {
      "image/png": "[encoded data removed]",
      "text/plain": [
       "<Figure size 1500x800 with 2 Axes>"
      ]
     },
     "metadata": {},
     "output_type": "display_data"
    }
   ],
   "source": [
    "# Plotting Pie chart for Smart Way\n",
    "import matplotlib.pyplot as plt\n",
    "\n",
    "fig, axis = plt.subplots(1, 2, figsize = (15, 8))\n",
    "fig2, fig1 = axis\n",
    "\n",
    "\n",
    "counts = all_18[\"SmartWay\"].value_counts()\n",
    "fig1.pie(counts, labels= counts.index, autopct='%1.1f%%', startangle=140)\n",
    "fig1.legend()\n",
    "fig1.set_title(\"Smart Way in 2018\")\n",
    "\n",
    "\n",
    "counts2 = all_08[\"SmartWay\"].value_counts()\n",
    "fig2.pie(counts2, labels= counts2.index, autopct='%1.1f%%', startangle=140)\n",
    "fig2.legend()\n",
    "fig2.set_title(\"Smart Way in 2008\")\n",
    "\n",
    "plt.show()\n",
    "# print(counts)"
   ]
  },
  {
   "cell_type": "code",
   "execution_count": 224,
   "metadata": {},
   "outputs": [
    {
     "data": {
      "image/png": "[encoded data removed]",
      "text/plain": [
       "<Figure size 1500x800 with 2 Axes>"
      ]
     },
     "metadata": {},
     "output_type": "display_data"
    }
   ],
   "source": [
    "# Plotting pie chart for fuel Distribution\n",
    "fig, axis = plt.subplots(1, 2, figsize = (15, 8))\n",
    "fig1, fig2 = axis\n",
    "\n",
    "counts = all_18.groupby(\"Fuel\").size()\n",
    "fig1.pie(counts, labels = counts.index, autopct='%1.1f%%', startangle=140)\n",
    "fig1.set_title(\"Fule Distribution in 2018\")\n",
    "\n",
    "counts = all_08.groupby(\"Fuel\").size()\n",
    "fig2.pie(counts, labels = counts.index, autopct='%1.1f%%', startangle=140)\n",
    "fig2.set_title(\"Fule Distribution in 2018\")\n",
    "\n",
    "plt.show()"
   ]
  },
  {
   "cell_type": "code",
   "execution_count": 242,
   "metadata": {},
   "outputs": [
    {
     "data": {
      "text/html": [
       "<div>\n",
       "<style scoped>\n",
       "    .dataframe tbody tr th:only-of-type {\n",
       "        vertical-align: middle;\n",
       "    }\n",
       "\n",
       "    .dataframe tbody tr th {\n",
       "        vertical-align: top;\n",
       "    }\n",
       "\n",
       "    .dataframe thead th {\n",
       "        text-align: right;\n",
       "    }\n",
       "</style>\n",
       "<table border=\"1\" class=\"dataframe\">\n",
       "  <thead>\n",
       "    <tr style=\"text-align: right;\">\n",
       "      <th></th>\n",
       "      <th>model</th>\n",
       "      <th>displ</th>\n",
       "      <th>cyl</th>\n",
       "      <th>trans</th>\n",
       "      <th>drive</th>\n",
       "      <th>fuel</th>\n",
       "      <th>veh_class</th>\n",
       "      <th>air_pollution_score</th>\n",
       "      <th>city_mpg</th>\n",
       "      <th>hwy_mpg</th>\n",
       "      <th>cmb_mpg</th>\n",
       "      <th>greenhouse_gas_score</th>\n",
       "      <th>smartway</th>\n",
       "    </tr>\n",
       "  </thead>\n",
       "  <tbody>\n",
       "    <tr>\n",
       "      <th>0</th>\n",
       "      <td>ACURA RDX</td>\n",
       "      <td>3.5</td>\n",
       "      <td>6</td>\n",
       "      <td>SemiAuto-6</td>\n",
       "      <td>2WD</td>\n",
       "      <td>Gasoline</td>\n",
       "      <td>small SUV</td>\n",
       "      <td>3.0</td>\n",
       "      <td>20.0</td>\n",
       "      <td>28.0</td>\n",
       "      <td>23.0</td>\n",
       "      <td>5</td>\n",
       "      <td>No</td>\n",
       "    </tr>\n",
       "    <tr>\n",
       "      <th>1</th>\n",
       "      <td>ACURA RDX</td>\n",
       "      <td>3.5</td>\n",
       "      <td>6</td>\n",
       "      <td>SemiAuto-6</td>\n",
       "      <td>4WD</td>\n",
       "      <td>Gasoline</td>\n",
       "      <td>small SUV</td>\n",
       "      <td>3.0</td>\n",
       "      <td>19.0</td>\n",
       "      <td>27.0</td>\n",
       "      <td>22.0</td>\n",
       "      <td>4</td>\n",
       "      <td>No</td>\n",
       "    </tr>\n",
       "    <tr>\n",
       "      <th>2</th>\n",
       "      <td>ACURA TLX</td>\n",
       "      <td>2.4</td>\n",
       "      <td>4</td>\n",
       "      <td>AMS-8</td>\n",
       "      <td>2WD</td>\n",
       "      <td>Gasoline</td>\n",
       "      <td>small car</td>\n",
       "      <td>3.0</td>\n",
       "      <td>23.0</td>\n",
       "      <td>33.0</td>\n",
       "      <td>27.0</td>\n",
       "      <td>6</td>\n",
       "      <td>No</td>\n",
       "    </tr>\n",
       "    <tr>\n",
       "      <th>3</th>\n",
       "      <td>ACURA TLX</td>\n",
       "      <td>3.5</td>\n",
       "      <td>6</td>\n",
       "      <td>SemiAuto-9</td>\n",
       "      <td>2WD</td>\n",
       "      <td>Gasoline</td>\n",
       "      <td>small car</td>\n",
       "      <td>3.0</td>\n",
       "      <td>20.0</td>\n",
       "      <td>32.0</td>\n",
       "      <td>24.0</td>\n",
       "      <td>5</td>\n",
       "      <td>No</td>\n",
       "    </tr>\n",
       "    <tr>\n",
       "      <th>4</th>\n",
       "      <td>ACURA TLX</td>\n",
       "      <td>3.5</td>\n",
       "      <td>6</td>\n",
       "      <td>SemiAuto-9</td>\n",
       "      <td>4WD</td>\n",
       "      <td>Gasoline</td>\n",
       "      <td>small car</td>\n",
       "      <td>3.0</td>\n",
       "      <td>21.0</td>\n",
       "      <td>30.0</td>\n",
       "      <td>24.0</td>\n",
       "      <td>5</td>\n",
       "      <td>No</td>\n",
       "    </tr>\n",
       "  </tbody>\n",
       "</table>\n",
       "</div>"
      ],
      "text/plain": [
       "       model  displ  cyl       trans drive      fuel  veh_class  \\\n",
       "0  ACURA RDX    3.5    6  SemiAuto-6   2WD  Gasoline  small SUV   \n",
       "1  ACURA RDX    3.5    6  SemiAuto-6   4WD  Gasoline  small SUV   \n",
       "2  ACURA TLX    2.4    4       AMS-8   2WD  Gasoline  small car   \n",
       "3  ACURA TLX    3.5    6  SemiAuto-9   2WD  Gasoline  small car   \n",
       "4  ACURA TLX    3.5    6  SemiAuto-9   4WD  Gasoline  small car   \n",
       "\n",
       "   air_pollution_score  city_mpg  hwy_mpg  cmb_mpg  greenhouse_gas_score  \\\n",
       "0                  3.0      20.0     28.0     23.0                     5   \n",
       "1                  3.0      19.0     27.0     22.0                     4   \n",
       "2                  3.0      23.0     33.0     27.0                     6   \n",
       "3                  3.0      20.0     32.0     24.0                     5   \n",
       "4                  3.0      21.0     30.0     24.0                     5   \n",
       "\n",
       "  smartway  \n",
       "0       No  \n",
       "1       No  \n",
       "2       No  \n",
       "3       No  \n",
       "4       No  "
      ]
     },
     "execution_count": 242,
     "metadata": {},
     "output_type": "execute_result"
    }
   ],
   "source": [
    "clntwo.head()"
   ]
  },
  {
   "cell_type": "code",
   "execution_count": 250,
   "metadata": {},
   "outputs": [
    {
     "data": {
      "text/html": [
       "<div>\n",
       "<style scoped>\n",
       "    .dataframe tbody tr th:only-of-type {\n",
       "        vertical-align: middle;\n",
       "    }\n",
       "\n",
       "    .dataframe tbody tr th {\n",
       "        vertical-align: top;\n",
       "    }\n",
       "\n",
       "    .dataframe thead th {\n",
       "        text-align: right;\n",
       "    }\n",
       "</style>\n",
       "<table border=\"1\" class=\"dataframe\">\n",
       "  <thead>\n",
       "    <tr style=\"text-align: right;\">\n",
       "      <th></th>\n",
       "      <th>model</th>\n",
       "      <th>displ</th>\n",
       "      <th>cyl</th>\n",
       "      <th>trans</th>\n",
       "      <th>drive</th>\n",
       "      <th>fuel</th>\n",
       "      <th>veh_class</th>\n",
       "      <th>air_pollution_score</th>\n",
       "      <th>city_mpg</th>\n",
       "      <th>hwy_mpg</th>\n",
       "      <th>cmb_mpg</th>\n",
       "      <th>greenhouse_gas_score</th>\n",
       "      <th>smartway</th>\n",
       "    </tr>\n",
       "  </thead>\n",
       "  <tbody>\n",
       "    <tr>\n",
       "      <th>0</th>\n",
       "      <td>ACURA MDX</td>\n",
       "      <td>3.7</td>\n",
       "      <td>6</td>\n",
       "      <td>Auto-S5</td>\n",
       "      <td>4WD</td>\n",
       "      <td>Gasoline</td>\n",
       "      <td>SUV</td>\n",
       "      <td>7.0</td>\n",
       "      <td>15.0</td>\n",
       "      <td>20.0</td>\n",
       "      <td>17.0</td>\n",
       "      <td>4</td>\n",
       "      <td>no</td>\n",
       "    </tr>\n",
       "    <tr>\n",
       "      <th>1</th>\n",
       "      <td>ACURA RDX</td>\n",
       "      <td>2.3</td>\n",
       "      <td>4</td>\n",
       "      <td>Auto-S5</td>\n",
       "      <td>4WD</td>\n",
       "      <td>Gasoline</td>\n",
       "      <td>SUV</td>\n",
       "      <td>7.0</td>\n",
       "      <td>17.0</td>\n",
       "      <td>22.0</td>\n",
       "      <td>19.0</td>\n",
       "      <td>5</td>\n",
       "      <td>no</td>\n",
       "    </tr>\n",
       "    <tr>\n",
       "      <th>2</th>\n",
       "      <td>ACURA RL</td>\n",
       "      <td>3.5</td>\n",
       "      <td>6</td>\n",
       "      <td>Auto-S5</td>\n",
       "      <td>4WD</td>\n",
       "      <td>Gasoline</td>\n",
       "      <td>midsize car</td>\n",
       "      <td>7.0</td>\n",
       "      <td>16.0</td>\n",
       "      <td>24.0</td>\n",
       "      <td>19.0</td>\n",
       "      <td>5</td>\n",
       "      <td>no</td>\n",
       "    </tr>\n",
       "    <tr>\n",
       "      <th>3</th>\n",
       "      <td>ACURA TL</td>\n",
       "      <td>3.2</td>\n",
       "      <td>6</td>\n",
       "      <td>Auto-S5</td>\n",
       "      <td>2WD</td>\n",
       "      <td>Gasoline</td>\n",
       "      <td>midsize car</td>\n",
       "      <td>7.0</td>\n",
       "      <td>18.0</td>\n",
       "      <td>26.0</td>\n",
       "      <td>21.0</td>\n",
       "      <td>6</td>\n",
       "      <td>yes</td>\n",
       "    </tr>\n",
       "    <tr>\n",
       "      <th>4</th>\n",
       "      <td>ACURA TL</td>\n",
       "      <td>3.5</td>\n",
       "      <td>6</td>\n",
       "      <td>Auto-S5</td>\n",
       "      <td>2WD</td>\n",
       "      <td>Gasoline</td>\n",
       "      <td>midsize car</td>\n",
       "      <td>7.0</td>\n",
       "      <td>17.0</td>\n",
       "      <td>26.0</td>\n",
       "      <td>20.0</td>\n",
       "      <td>6</td>\n",
       "      <td>yes</td>\n",
       "    </tr>\n",
       "  </tbody>\n",
       "</table>\n",
       "</div>"
      ],
      "text/plain": [
       "       model  displ  cyl    trans drive      fuel    veh_class  \\\n",
       "0  ACURA MDX    3.7    6  Auto-S5   4WD  Gasoline          SUV   \n",
       "1  ACURA RDX    2.3    4  Auto-S5   4WD  Gasoline          SUV   \n",
       "2   ACURA RL    3.5    6  Auto-S5   4WD  Gasoline  midsize car   \n",
       "3   ACURA TL    3.2    6  Auto-S5   2WD  Gasoline  midsize car   \n",
       "4   ACURA TL    3.5    6  Auto-S5   2WD  Gasoline  midsize car   \n",
       "\n",
       "   air_pollution_score  city_mpg  hwy_mpg  cmb_mpg  greenhouse_gas_score  \\\n",
       "0                  7.0      15.0     20.0     17.0                     4   \n",
       "1                  7.0      17.0     22.0     19.0                     5   \n",
       "2                  7.0      16.0     24.0     19.0                     5   \n",
       "3                  7.0      18.0     26.0     21.0                     6   \n",
       "4                  7.0      17.0     26.0     20.0                     6   \n",
       "\n",
       "  smartway  \n",
       "0       no  \n",
       "1       no  \n",
       "2       no  \n",
       "3      yes  \n",
       "4      yes  "
      ]
     },
     "execution_count": 250,
     "metadata": {},
     "output_type": "execute_result"
    }
   ],
   "source": [
    "clnone.head()"
   ]
  },
  {
   "cell_type": "markdown",
   "metadata": {},
   "source": [
    "Q1. Find out the alternative sources of fuel available in 2008 & 2018 respectively and by how much?\\\n",
    "\r\n",
    "Q2. Is there any improvement in ‘fuel economy’ with respect to vehicle class from 2008 to 2018 \r\n",
    "perform the necessary steps to examin\\\n",
    "e?\r\n",
    "Q3. Is there any change in characteristics of SmartWay Vehicle\\\n",
    "s ?\r\n",
    "Q4. Which all features are associated with better fuel econ\\\n",
    "omy?\r\n",
    "Q5. How much improvement is there in miles/gallon or mpg? Also, which vehicle has improve  the\r\n",
    "most?\r"
   ]
  },
  {
   "cell_type": "code",
   "execution_count": 240,
   "metadata": {},
   "outputs": [],
   "source": [
    "clnone = pd.read_csv(\"clean_08.csv\")\n",
    "clntwo = pd.read_csv(\"clean_18.csv\")"
   ]
  },
  {
   "cell_type": "markdown",
   "metadata": {},
   "source": [
    "Q1. Find out the alternative sources of fuel available in 2008 & 2018 respectively and by how much?\\"
   ]
  },
  {
   "cell_type": "code",
   "execution_count": 246,
   "metadata": {},
   "outputs": [
    {
     "data": {
      "text/plain": [
       "gasoline    984\n",
       "cng           1\n",
       "ethanol       1\n",
       "gas           1\n",
       "Name: count, dtype: int64"
      ]
     },
     "execution_count": 246,
     "metadata": {},
     "output_type": "execute_result"
    }
   ],
   "source": [
    "onecounts = clnone[\"fuel\"].value_counts()\n",
    "onecounts.index = [i.lower() for i in onecounts.index]\n",
    "onecounts"
   ]
  },
  {
   "cell_type": "code",
   "execution_count": 248,
   "metadata": {},
   "outputs": [
    {
     "data": {
      "text/plain": [
       "gasoline       749\n",
       "ethanol         26\n",
       "gas             26\n",
       "diesel          19\n",
       "electricity     12\n",
       "Name: count, dtype: int64"
      ]
     },
     "execution_count": 248,
     "metadata": {},
     "output_type": "execute_result"
    }
   ],
   "source": [
    "twocounts = clntwo[\"fuel\"].value_counts()\n",
    "twocounts.index = [i.lower() for i in twocounts.index]\n",
    "twocounts"
   ]
  },
  {
   "cell_type": "markdown",
   "metadata": {},
   "source": [
    "\n",
    "electricity 0 --> 12\n",
    "diesel => 0 --> 19\n",
    "\n",
    "gasoline => 984 --> 749\n",
    "gas => 1 --> 26\n",
    "ethanol => 1 --> 26\n",
    "\n",
    "cng => 1 --> 0"
   ]
  },
  {
   "cell_type": "markdown",
   "metadata": {},
   "source": [
    "Q2. Is there any improvement in ‘fuel economy’ with respect to vehicle class from 2008 to 2018, perform the necessary steps to examine?\\"
   ]
  },
  {
   "cell_type": "code",
   "execution_count": 272,
   "metadata": {},
   "outputs": [
    {
     "data": {
      "text/html": [
       "<div>\n",
       "<style scoped>\n",
       "    .dataframe tbody tr th:only-of-type {\n",
       "        vertical-align: middle;\n",
       "    }\n",
       "\n",
       "    .dataframe tbody tr th {\n",
       "        vertical-align: top;\n",
       "    }\n",
       "\n",
       "    .dataframe thead th {\n",
       "        text-align: right;\n",
       "    }\n",
       "</style>\n",
       "<table border=\"1\" class=\"dataframe\">\n",
       "  <thead>\n",
       "    <tr style=\"text-align: right;\">\n",
       "      <th></th>\n",
       "      <th>cmb_mpg</th>\n",
       "    </tr>\n",
       "    <tr>\n",
       "      <th>veh_class</th>\n",
       "      <th></th>\n",
       "    </tr>\n",
       "  </thead>\n",
       "  <tbody>\n",
       "    <tr>\n",
       "      <th>SUV</th>\n",
       "      <td>18.471429</td>\n",
       "    </tr>\n",
       "    <tr>\n",
       "      <th>large car</th>\n",
       "      <td>18.509091</td>\n",
       "    </tr>\n",
       "    <tr>\n",
       "      <th>midsize car</th>\n",
       "      <td>21.601449</td>\n",
       "    </tr>\n",
       "    <tr>\n",
       "      <th>minivan</th>\n",
       "      <td>19.117647</td>\n",
       "    </tr>\n",
       "    <tr>\n",
       "      <th>pickup</th>\n",
       "      <td>16.277108</td>\n",
       "    </tr>\n",
       "    <tr>\n",
       "      <th>small car</th>\n",
       "      <td>21.105105</td>\n",
       "    </tr>\n",
       "    <tr>\n",
       "      <th>station wagon</th>\n",
       "      <td>22.366667</td>\n",
       "    </tr>\n",
       "    <tr>\n",
       "      <th>van</th>\n",
       "      <td>14.952381</td>\n",
       "    </tr>\n",
       "  </tbody>\n",
       "</table>\n",
       "</div>"
      ],
      "text/plain": [
       "                 cmb_mpg\n",
       "veh_class               \n",
       "SUV            18.471429\n",
       "large car      18.509091\n",
       "midsize car    21.601449\n",
       "minivan        19.117647\n",
       "pickup         16.277108\n",
       "small car      21.105105\n",
       "station wagon  22.366667\n",
       "van            14.952381"
      ]
     },
     "execution_count": 272,
     "metadata": {},
     "output_type": "execute_result"
    }
   ],
   "source": [
    "one_grouped_by_veh_class = clnone[[\"veh_class\", \"cmb_mpg\"]].groupby(\"veh_class\")\n",
    "one_agg = one_grouped_by_veh_class.agg('mean').sort_values(by = \"veh_class\")\n",
    "one_agg\n"
   ]
  },
  {
   "cell_type": "code",
   "execution_count": 274,
   "metadata": {},
   "outputs": [
    {
     "data": {
      "text/html": [
       "<div>\n",
       "<style scoped>\n",
       "    .dataframe tbody tr th:only-of-type {\n",
       "        vertical-align: middle;\n",
       "    }\n",
       "\n",
       "    .dataframe tbody tr th {\n",
       "        vertical-align: top;\n",
       "    }\n",
       "\n",
       "    .dataframe thead th {\n",
       "        text-align: right;\n",
       "    }\n",
       "</style>\n",
       "<table border=\"1\" class=\"dataframe\">\n",
       "  <thead>\n",
       "    <tr style=\"text-align: right;\">\n",
       "      <th></th>\n",
       "      <th>cmb_mpg</th>\n",
       "    </tr>\n",
       "    <tr>\n",
       "      <th>veh_class</th>\n",
       "      <th></th>\n",
       "    </tr>\n",
       "  </thead>\n",
       "  <tbody>\n",
       "    <tr>\n",
       "      <th>large car</th>\n",
       "      <td>23.409091</td>\n",
       "    </tr>\n",
       "    <tr>\n",
       "      <th>midsize car</th>\n",
       "      <td>27.884058</td>\n",
       "    </tr>\n",
       "    <tr>\n",
       "      <th>minivan</th>\n",
       "      <td>20.800000</td>\n",
       "    </tr>\n",
       "    <tr>\n",
       "      <th>pickup</th>\n",
       "      <td>18.589744</td>\n",
       "    </tr>\n",
       "    <tr>\n",
       "      <th>small SUV</th>\n",
       "      <td>24.074074</td>\n",
       "    </tr>\n",
       "    <tr>\n",
       "      <th>small car</th>\n",
       "      <td>25.421053</td>\n",
       "    </tr>\n",
       "    <tr>\n",
       "      <th>special purpose</th>\n",
       "      <td>18.500000</td>\n",
       "    </tr>\n",
       "    <tr>\n",
       "      <th>standard SUV</th>\n",
       "      <td>18.197674</td>\n",
       "    </tr>\n",
       "    <tr>\n",
       "      <th>station wagon</th>\n",
       "      <td>27.529412</td>\n",
       "    </tr>\n",
       "  </tbody>\n",
       "</table>\n",
       "</div>"
      ],
      "text/plain": [
       "                   cmb_mpg\n",
       "veh_class                 \n",
       "large car        23.409091\n",
       "midsize car      27.884058\n",
       "minivan          20.800000\n",
       "pickup           18.589744\n",
       "small SUV        24.074074\n",
       "small car        25.421053\n",
       "special purpose  18.500000\n",
       "standard SUV     18.197674\n",
       "station wagon    27.529412"
      ]
     },
     "execution_count": 274,
     "metadata": {},
     "output_type": "execute_result"
    }
   ],
   "source": [
    "two_grouped_by_veh_class = clntwo[[\"veh_class\", \"cmb_mpg\"]].groupby(\"veh_class\")\n",
    "two_agg = two_grouped_by_veh_class.agg('mean').sort_values(by = \"veh_class\")\n",
    "two_agg"
   ]
  },
  {
   "cell_type": "code",
   "execution_count": 278,
   "metadata": {},
   "outputs": [
    {
     "data": {
      "text/html": [
       "<div>\n",
       "<style scoped>\n",
       "    .dataframe tbody tr th:only-of-type {\n",
       "        vertical-align: middle;\n",
       "    }\n",
       "\n",
       "    .dataframe tbody tr th {\n",
       "        vertical-align: top;\n",
       "    }\n",
       "\n",
       "    .dataframe thead th {\n",
       "        text-align: right;\n",
       "    }\n",
       "</style>\n",
       "<table border=\"1\" class=\"dataframe\">\n",
       "  <thead>\n",
       "    <tr style=\"text-align: right;\">\n",
       "      <th></th>\n",
       "      <th>cmb_mpg_x</th>\n",
       "      <th>cmb_mpg_y</th>\n",
       "    </tr>\n",
       "    <tr>\n",
       "      <th>veh_class</th>\n",
       "      <th></th>\n",
       "      <th></th>\n",
       "    </tr>\n",
       "  </thead>\n",
       "  <tbody>\n",
       "    <tr>\n",
       "      <th>large car</th>\n",
       "      <td>18.509091</td>\n",
       "      <td>23.409091</td>\n",
       "    </tr>\n",
       "    <tr>\n",
       "      <th>midsize car</th>\n",
       "      <td>21.601449</td>\n",
       "      <td>27.884058</td>\n",
       "    </tr>\n",
       "    <tr>\n",
       "      <th>minivan</th>\n",
       "      <td>19.117647</td>\n",
       "      <td>20.800000</td>\n",
       "    </tr>\n",
       "    <tr>\n",
       "      <th>pickup</th>\n",
       "      <td>16.277108</td>\n",
       "      <td>18.589744</td>\n",
       "    </tr>\n",
       "    <tr>\n",
       "      <th>small car</th>\n",
       "      <td>21.105105</td>\n",
       "      <td>25.421053</td>\n",
       "    </tr>\n",
       "    <tr>\n",
       "      <th>station wagon</th>\n",
       "      <td>22.366667</td>\n",
       "      <td>27.529412</td>\n",
       "    </tr>\n",
       "  </tbody>\n",
       "</table>\n",
       "</div>"
      ],
      "text/plain": [
       "               cmb_mpg_x  cmb_mpg_y\n",
       "veh_class                          \n",
       "large car      18.509091  23.409091\n",
       "midsize car    21.601449  27.884058\n",
       "minivan        19.117647  20.800000\n",
       "pickup         16.277108  18.589744\n",
       "small car      21.105105  25.421053\n",
       "station wagon  22.366667  27.529412"
      ]
     },
     "execution_count": 278,
     "metadata": {},
     "output_type": "execute_result"
    }
   ],
   "source": [
    "join = pd.merge(one_agg, two_agg, how = \"inner\", on = \"veh_class\")\n",
    "join"
   ]
  },
  {
   "cell_type": "markdown",
   "metadata": {},
   "source": [
    "Q3. Is there any change in characteristics of SmartWay Vehicles ?\\"
   ]
  },
  {
   "cell_type": "code",
   "execution_count": 305,
   "metadata": {},
   "outputs": [
    {
     "data": {
      "text/plain": [
       "smartway\n",
       "no     607\n",
       "yes    380\n",
       "Name: count, dtype: int64"
      ]
     },
     "execution_count": 305,
     "metadata": {},
     "output_type": "execute_result"
    }
   ],
   "source": [
    "sw_one = clnone[\"smartway\"].value_counts()\n",
    "sw_one "
   ]
  },
  {
   "cell_type": "code",
   "execution_count": 301,
   "metadata": {},
   "outputs": [
    {
     "data": {
      "text/plain": [
       "no       724\n",
       "yes       91\n",
       "elite     17\n",
       "Name: count, dtype: int64"
      ]
     },
     "execution_count": 301,
     "metadata": {},
     "output_type": "execute_result"
    }
   ],
   "source": [
    "sw_two = clntwo[\"smartway\"].value_counts()\n",
    "sw_two.index = [i.lower() for i in sw_two.index]\n",
    "sw_two"
   ]
  },
  {
   "cell_type": "code",
   "execution_count": 303,
   "metadata": {},
   "outputs": [
    {
     "data": {
      "text/html": [
       "<div>\n",
       "<style scoped>\n",
       "    .dataframe tbody tr th:only-of-type {\n",
       "        vertical-align: middle;\n",
       "    }\n",
       "\n",
       "    .dataframe tbody tr th {\n",
       "        vertical-align: top;\n",
       "    }\n",
       "\n",
       "    .dataframe thead th {\n",
       "        text-align: right;\n",
       "    }\n",
       "</style>\n",
       "<table border=\"1\" class=\"dataframe\">\n",
       "  <thead>\n",
       "    <tr style=\"text-align: right;\">\n",
       "      <th></th>\n",
       "      <th>count</th>\n",
       "      <th>count</th>\n",
       "    </tr>\n",
       "  </thead>\n",
       "  <tbody>\n",
       "    <tr>\n",
       "      <th>no</th>\n",
       "      <td>607.0</td>\n",
       "      <td>724</td>\n",
       "    </tr>\n",
       "    <tr>\n",
       "      <th>yes</th>\n",
       "      <td>380.0</td>\n",
       "      <td>91</td>\n",
       "    </tr>\n",
       "    <tr>\n",
       "      <th>elite</th>\n",
       "      <td>NaN</td>\n",
       "      <td>17</td>\n",
       "    </tr>\n",
       "  </tbody>\n",
       "</table>\n",
       "</div>"
      ],
      "text/plain": [
       "       count  count\n",
       "no     607.0    724\n",
       "yes    380.0     91\n",
       "elite    NaN     17"
      ]
     },
     "execution_count": 303,
     "metadata": {},
     "output_type": "execute_result"
    }
   ],
   "source": [
    "pd.concat((sw_one, sw_two), axis = 'columns')"
   ]
  },
  {
   "cell_type": "markdown",
   "metadata": {},
   "source": [
    "Q4. Which all features are associated with better fuel economy?\\"
   ]
  },
  {
   "cell_type": "code",
   "execution_count": 314,
   "metadata": {},
   "outputs": [
    {
     "data": {
      "text/html": [
       "<div>\n",
       "<style scoped>\n",
       "    .dataframe tbody tr th:only-of-type {\n",
       "        vertical-align: middle;\n",
       "    }\n",
       "\n",
       "    .dataframe tbody tr th {\n",
       "        vertical-align: top;\n",
       "    }\n",
       "\n",
       "    .dataframe thead th {\n",
       "        text-align: right;\n",
       "    }\n",
       "</style>\n",
       "<table border=\"1\" class=\"dataframe\">\n",
       "  <thead>\n",
       "    <tr style=\"text-align: right;\">\n",
       "      <th></th>\n",
       "      <th>displ</th>\n",
       "      <th>cyl</th>\n",
       "      <th>air_pollution_score</th>\n",
       "      <th>city_mpg</th>\n",
       "      <th>hwy_mpg</th>\n",
       "      <th>cmb_mpg</th>\n",
       "      <th>greenhouse_gas_score</th>\n",
       "    </tr>\n",
       "    <tr>\n",
       "      <th>fuel</th>\n",
       "      <th></th>\n",
       "      <th></th>\n",
       "      <th></th>\n",
       "      <th></th>\n",
       "      <th></th>\n",
       "      <th></th>\n",
       "      <th></th>\n",
       "    </tr>\n",
       "  </thead>\n",
       "  <tbody>\n",
       "    <tr>\n",
       "      <th>CNG</th>\n",
       "      <td>1.800000</td>\n",
       "      <td>4.00000</td>\n",
       "      <td>9.500000</td>\n",
       "      <td>24.00000</td>\n",
       "      <td>36.000000</td>\n",
       "      <td>28.000000</td>\n",
       "      <td>9.000000</td>\n",
       "    </tr>\n",
       "    <tr>\n",
       "      <th>Gasoline</th>\n",
       "      <td>3.499797</td>\n",
       "      <td>6.02439</td>\n",
       "      <td>6.706809</td>\n",
       "      <td>17.38313</td>\n",
       "      <td>24.030488</td>\n",
       "      <td>19.783537</td>\n",
       "      <td>5.190041</td>\n",
       "    </tr>\n",
       "    <tr>\n",
       "      <th>ethanol</th>\n",
       "      <td>3.000000</td>\n",
       "      <td>6.00000</td>\n",
       "      <td>6.000000</td>\n",
       "      <td>13.00000</td>\n",
       "      <td>19.000000</td>\n",
       "      <td>15.000000</td>\n",
       "      <td>7.000000</td>\n",
       "    </tr>\n",
       "    <tr>\n",
       "      <th>gas</th>\n",
       "      <td>3.000000</td>\n",
       "      <td>6.00000</td>\n",
       "      <td>4.000000</td>\n",
       "      <td>18.00000</td>\n",
       "      <td>25.000000</td>\n",
       "      <td>21.000000</td>\n",
       "      <td>6.000000</td>\n",
       "    </tr>\n",
       "  </tbody>\n",
       "</table>\n",
       "</div>"
      ],
      "text/plain": [
       "             displ      cyl  air_pollution_score  city_mpg    hwy_mpg  \\\n",
       "fuel                                                                    \n",
       "CNG       1.800000  4.00000             9.500000  24.00000  36.000000   \n",
       "Gasoline  3.499797  6.02439             6.706809  17.38313  24.030488   \n",
       "ethanol   3.000000  6.00000             6.000000  13.00000  19.000000   \n",
       "gas       3.000000  6.00000             4.000000  18.00000  25.000000   \n",
       "\n",
       "            cmb_mpg  greenhouse_gas_score  \n",
       "fuel                                       \n",
       "CNG       28.000000              9.000000  \n",
       "Gasoline  19.783537              5.190041  \n",
       "ethanol   15.000000              7.000000  \n",
       "gas       21.000000              6.000000  "
      ]
     },
     "execution_count": 314,
     "metadata": {},
     "output_type": "execute_result"
    }
   ],
   "source": [
    "one_temp = clnone[[\"fuel\", \"displ\", \"cyl\", \"air_pollution_score\", \"city_mpg\", \"hwy_mpg\", \"cmb_mpg\", \"greenhouse_gas_score\"]].groupby(\"fuel\")\n",
    "one_temp.agg('mean')"
   ]
  },
  {
   "cell_type": "code",
   "execution_count": 316,
   "metadata": {},
   "outputs": [
    {
     "data": {
      "text/html": [
       "<div>\n",
       "<style scoped>\n",
       "    .dataframe tbody tr th:only-of-type {\n",
       "        vertical-align: middle;\n",
       "    }\n",
       "\n",
       "    .dataframe tbody tr th {\n",
       "        vertical-align: top;\n",
       "    }\n",
       "\n",
       "    .dataframe thead th {\n",
       "        text-align: right;\n",
       "    }\n",
       "</style>\n",
       "<table border=\"1\" class=\"dataframe\">\n",
       "  <thead>\n",
       "    <tr style=\"text-align: right;\">\n",
       "      <th></th>\n",
       "      <th>displ</th>\n",
       "      <th>cyl</th>\n",
       "      <th>air_pollution_score</th>\n",
       "      <th>city_mpg</th>\n",
       "      <th>hwy_mpg</th>\n",
       "      <th>cmb_mpg</th>\n",
       "      <th>greenhouse_gas_score</th>\n",
       "    </tr>\n",
       "    <tr>\n",
       "      <th>fuel</th>\n",
       "      <th></th>\n",
       "      <th></th>\n",
       "      <th></th>\n",
       "      <th></th>\n",
       "      <th></th>\n",
       "      <th></th>\n",
       "      <th></th>\n",
       "    </tr>\n",
       "  </thead>\n",
       "  <tbody>\n",
       "    <tr>\n",
       "      <th>Diesel</th>\n",
       "      <td>2.042105</td>\n",
       "      <td>4.000000</td>\n",
       "      <td>2.368421</td>\n",
       "      <td>26.842105</td>\n",
       "      <td>37.421053</td>\n",
       "      <td>30.736842</td>\n",
       "      <td>5.736842</td>\n",
       "    </tr>\n",
       "    <tr>\n",
       "      <th>Electricity</th>\n",
       "      <td>1.875000</td>\n",
       "      <td>3.916667</td>\n",
       "      <td>5.166667</td>\n",
       "      <td>75.583333</td>\n",
       "      <td>74.666667</td>\n",
       "      <td>75.000000</td>\n",
       "      <td>9.833333</td>\n",
       "    </tr>\n",
       "    <tr>\n",
       "      <th>Ethanol</th>\n",
       "      <td>4.303846</td>\n",
       "      <td>6.615385</td>\n",
       "      <td>3.692308</td>\n",
       "      <td>12.538462</td>\n",
       "      <td>17.769231</td>\n",
       "      <td>14.538462</td>\n",
       "      <td>3.576923</td>\n",
       "    </tr>\n",
       "    <tr>\n",
       "      <th>Gas</th>\n",
       "      <td>4.303846</td>\n",
       "      <td>6.615385</td>\n",
       "      <td>3.692308</td>\n",
       "      <td>17.500000</td>\n",
       "      <td>24.500000</td>\n",
       "      <td>20.115385</td>\n",
       "      <td>3.576923</td>\n",
       "    </tr>\n",
       "    <tr>\n",
       "      <th>Gasoline</th>\n",
       "      <td>3.038318</td>\n",
       "      <td>5.473965</td>\n",
       "      <td>4.024032</td>\n",
       "      <td>20.779706</td>\n",
       "      <td>28.184246</td>\n",
       "      <td>23.508678</td>\n",
       "      <td>4.724967</td>\n",
       "    </tr>\n",
       "  </tbody>\n",
       "</table>\n",
       "</div>"
      ],
      "text/plain": [
       "                displ       cyl  air_pollution_score   city_mpg    hwy_mpg  \\\n",
       "fuel                                                                         \n",
       "Diesel       2.042105  4.000000             2.368421  26.842105  37.421053   \n",
       "Electricity  1.875000  3.916667             5.166667  75.583333  74.666667   \n",
       "Ethanol      4.303846  6.615385             3.692308  12.538462  17.769231   \n",
       "Gas          4.303846  6.615385             3.692308  17.500000  24.500000   \n",
       "Gasoline     3.038318  5.473965             4.024032  20.779706  28.184246   \n",
       "\n",
       "               cmb_mpg  greenhouse_gas_score  \n",
       "fuel                                          \n",
       "Diesel       30.736842              5.736842  \n",
       "Electricity  75.000000              9.833333  \n",
       "Ethanol      14.538462              3.576923  \n",
       "Gas          20.115385              3.576923  \n",
       "Gasoline     23.508678              4.724967  "
      ]
     },
     "execution_count": 316,
     "metadata": {},
     "output_type": "execute_result"
    }
   ],
   "source": [
    "two_temp = clntwo[[\"fuel\", \"displ\", \"cyl\", \"air_pollution_score\", \"city_mpg\", \"hwy_mpg\", \"cmb_mpg\", \"greenhouse_gas_score\"]].groupby(\"fuel\")\n",
    "two_temp.agg('mean')"
   ]
  },
  {
   "cell_type": "markdown",
   "metadata": {},
   "source": [
    "Q5. How much improvement is there in miles/gallon or mpg? Also, which vehicle has improved the most?"
   ]
  },
  {
   "cell_type": "code",
   "execution_count": 322,
   "metadata": {},
   "outputs": [],
   "source": [
    "groupByClassOne = clnone[[\"veh_class\", \"displ\", \"cyl\", \"air_pollution_score\", \"city_mpg\", \"hwy_mpg\", \"cmb_mpg\", \"greenhouse_gas_score\"]].groupby(\"veh_class\") \n",
    "groupByClassTwo = clntwo[[\"veh_class\", \"displ\", \"cyl\", \"air_pollution_score\", \"city_mpg\", \"hwy_mpg\", \"cmb_mpg\", \"greenhouse_gas_score\"]].groupby(\"veh_class\")"
   ]
  },
  {
   "cell_type": "code",
   "execution_count": 324,
   "metadata": {},
   "outputs": [
    {
     "data": {
      "text/html": [
       "<div>\n",
       "<style scoped>\n",
       "    .dataframe tbody tr th:only-of-type {\n",
       "        vertical-align: middle;\n",
       "    }\n",
       "\n",
       "    .dataframe tbody tr th {\n",
       "        vertical-align: top;\n",
       "    }\n",
       "\n",
       "    .dataframe thead th {\n",
       "        text-align: right;\n",
       "    }\n",
       "</style>\n",
       "<table border=\"1\" class=\"dataframe\">\n",
       "  <thead>\n",
       "    <tr style=\"text-align: right;\">\n",
       "      <th></th>\n",
       "      <th>displ</th>\n",
       "      <th>cyl</th>\n",
       "      <th>air_pollution_score</th>\n",
       "      <th>city_mpg</th>\n",
       "      <th>hwy_mpg</th>\n",
       "      <th>cmb_mpg</th>\n",
       "      <th>greenhouse_gas_score</th>\n",
       "    </tr>\n",
       "    <tr>\n",
       "      <th>veh_class</th>\n",
       "      <th></th>\n",
       "      <th></th>\n",
       "      <th></th>\n",
       "      <th></th>\n",
       "      <th></th>\n",
       "      <th></th>\n",
       "      <th></th>\n",
       "    </tr>\n",
       "  </thead>\n",
       "  <tbody>\n",
       "    <tr>\n",
       "      <th>SUV</th>\n",
       "      <td>3.680714</td>\n",
       "      <td>6.028571</td>\n",
       "      <td>6.646429</td>\n",
       "      <td>16.507143</td>\n",
       "      <td>21.935714</td>\n",
       "      <td>18.471429</td>\n",
       "      <td>4.675000</td>\n",
       "    </tr>\n",
       "    <tr>\n",
       "      <th>large car</th>\n",
       "      <td>4.227273</td>\n",
       "      <td>7.272727</td>\n",
       "      <td>6.909091</td>\n",
       "      <td>15.836364</td>\n",
       "      <td>23.345455</td>\n",
       "      <td>18.509091</td>\n",
       "      <td>4.618182</td>\n",
       "    </tr>\n",
       "    <tr>\n",
       "      <th>midsize car</th>\n",
       "      <td>3.323188</td>\n",
       "      <td>5.855072</td>\n",
       "      <td>6.884058</td>\n",
       "      <td>18.826087</td>\n",
       "      <td>26.565217</td>\n",
       "      <td>21.601449</td>\n",
       "      <td>5.978261</td>\n",
       "    </tr>\n",
       "    <tr>\n",
       "      <th>minivan</th>\n",
       "      <td>3.511765</td>\n",
       "      <td>5.764706</td>\n",
       "      <td>6.764706</td>\n",
       "      <td>16.882353</td>\n",
       "      <td>23.705882</td>\n",
       "      <td>19.117647</td>\n",
       "      <td>5.294118</td>\n",
       "    </tr>\n",
       "    <tr>\n",
       "      <th>pickup</th>\n",
       "      <td>4.166265</td>\n",
       "      <td>6.506024</td>\n",
       "      <td>6.506024</td>\n",
       "      <td>14.578313</td>\n",
       "      <td>19.204819</td>\n",
       "      <td>16.277108</td>\n",
       "      <td>3.650602</td>\n",
       "    </tr>\n",
       "    <tr>\n",
       "      <th>small car</th>\n",
       "      <td>3.195796</td>\n",
       "      <td>5.882883</td>\n",
       "      <td>6.764264</td>\n",
       "      <td>18.372372</td>\n",
       "      <td>25.963964</td>\n",
       "      <td>21.105105</td>\n",
       "      <td>5.738739</td>\n",
       "    </tr>\n",
       "    <tr>\n",
       "      <th>station wagon</th>\n",
       "      <td>2.548333</td>\n",
       "      <td>4.850000</td>\n",
       "      <td>6.575000</td>\n",
       "      <td>19.633333</td>\n",
       "      <td>27.116667</td>\n",
       "      <td>22.366667</td>\n",
       "      <td>6.316667</td>\n",
       "    </tr>\n",
       "    <tr>\n",
       "      <th>van</th>\n",
       "      <td>5.109524</td>\n",
       "      <td>7.619048</td>\n",
       "      <td>6.000000</td>\n",
       "      <td>13.142857</td>\n",
       "      <td>17.333333</td>\n",
       "      <td>14.952381</td>\n",
       "      <td>2.761905</td>\n",
       "    </tr>\n",
       "  </tbody>\n",
       "</table>\n",
       "</div>"
      ],
      "text/plain": [
       "                  displ       cyl  air_pollution_score   city_mpg    hwy_mpg  \\\n",
       "veh_class                                                                      \n",
       "SUV            3.680714  6.028571             6.646429  16.507143  21.935714   \n",
       "large car      4.227273  7.272727             6.909091  15.836364  23.345455   \n",
       "midsize car    3.323188  5.855072             6.884058  18.826087  26.565217   \n",
       "minivan        3.511765  5.764706             6.764706  16.882353  23.705882   \n",
       "pickup         4.166265  6.506024             6.506024  14.578313  19.204819   \n",
       "small car      3.195796  5.882883             6.764264  18.372372  25.963964   \n",
       "station wagon  2.548333  4.850000             6.575000  19.633333  27.116667   \n",
       "van            5.109524  7.619048             6.000000  13.142857  17.333333   \n",
       "\n",
       "                 cmb_mpg  greenhouse_gas_score  \n",
       "veh_class                                       \n",
       "SUV            18.471429              4.675000  \n",
       "large car      18.509091              4.618182  \n",
       "midsize car    21.601449              5.978261  \n",
       "minivan        19.117647              5.294118  \n",
       "pickup         16.277108              3.650602  \n",
       "small car      21.105105              5.738739  \n",
       "station wagon  22.366667              6.316667  \n",
       "van            14.952381              2.761905  "
      ]
     },
     "execution_count": 324,
     "metadata": {},
     "output_type": "execute_result"
    }
   ],
   "source": [
    "groupByClassOne.agg(\"mean\")"
   ]
  },
  {
   "cell_type": "code",
   "execution_count": 352,
   "metadata": {},
   "outputs": [
    {
     "name": "stdout",
     "output_type": "stream",
     "text": [
      "['large car', 'midsize car', 'minivan', 'pickup', 'small SUV', 'small car', 'special purpose', 'standard SUV', 'station wagon']\n",
      "['large car', 'midsize car', 'minivan', 'pickup', 'small SUV', 'small car', 'special purpose', 'SUV', 'station wagon']\n"
     ]
    }
   ],
   "source": [
    "tempOneDf = groupByClassOne.agg(\"mean\")\n",
    "tempTwoDf = groupByClassTwo.agg(\"mean\")\n",
    "\n",
    "tem = tempTwoDf.index.tolist()\n",
    "\n",
    "print(tem)\n",
    "for i in range(len(tem)):\n",
    "    if tem[i] == \"standard SUV\":\n",
    "        tem[i] = \"SUV\"\n",
    "        break\n",
    "    else: continue\n",
    "print(tem)\n",
    "tempTwoDf.index = tem\n",
    "tempTwoDf.rename_axis(\"veh_class\", inplace=True)"
   ]
  },
  {
   "cell_type": "code",
   "execution_count": 354,
   "metadata": {},
   "outputs": [
    {
     "data": {
      "text/html": [
       "<div>\n",
       "<style scoped>\n",
       "    .dataframe tbody tr th:only-of-type {\n",
       "        vertical-align: middle;\n",
       "    }\n",
       "\n",
       "    .dataframe tbody tr th {\n",
       "        vertical-align: top;\n",
       "    }\n",
       "\n",
       "    .dataframe thead th {\n",
       "        text-align: right;\n",
       "    }\n",
       "</style>\n",
       "<table border=\"1\" class=\"dataframe\">\n",
       "  <thead>\n",
       "    <tr style=\"text-align: right;\">\n",
       "      <th></th>\n",
       "      <th>displ_x</th>\n",
       "      <th>cyl_x</th>\n",
       "      <th>air_pollution_score_x</th>\n",
       "      <th>city_mpg_x</th>\n",
       "      <th>hwy_mpg_x</th>\n",
       "      <th>cmb_mpg_x</th>\n",
       "      <th>greenhouse_gas_score_x</th>\n",
       "      <th>displ_y</th>\n",
       "      <th>cyl_y</th>\n",
       "      <th>air_pollution_score_y</th>\n",
       "      <th>city_mpg_y</th>\n",
       "      <th>hwy_mpg_y</th>\n",
       "      <th>cmb_mpg_y</th>\n",
       "      <th>greenhouse_gas_score_y</th>\n",
       "    </tr>\n",
       "    <tr>\n",
       "      <th>veh_class</th>\n",
       "      <th></th>\n",
       "      <th></th>\n",
       "      <th></th>\n",
       "      <th></th>\n",
       "      <th></th>\n",
       "      <th></th>\n",
       "      <th></th>\n",
       "      <th></th>\n",
       "      <th></th>\n",
       "      <th></th>\n",
       "      <th></th>\n",
       "      <th></th>\n",
       "      <th></th>\n",
       "      <th></th>\n",
       "    </tr>\n",
       "  </thead>\n",
       "  <tbody>\n",
       "    <tr>\n",
       "      <th>SUV</th>\n",
       "      <td>3.680714</td>\n",
       "      <td>6.028571</td>\n",
       "      <td>6.646429</td>\n",
       "      <td>16.507143</td>\n",
       "      <td>21.935714</td>\n",
       "      <td>18.471429</td>\n",
       "      <td>4.675000</td>\n",
       "      <td>4.588372</td>\n",
       "      <td>7.093023</td>\n",
       "      <td>3.348837</td>\n",
       "      <td>16.011628</td>\n",
       "      <td>21.953488</td>\n",
       "      <td>18.197674</td>\n",
       "      <td>3.162791</td>\n",
       "    </tr>\n",
       "    <tr>\n",
       "      <th>large car</th>\n",
       "      <td>4.227273</td>\n",
       "      <td>7.272727</td>\n",
       "      <td>6.909091</td>\n",
       "      <td>15.836364</td>\n",
       "      <td>23.345455</td>\n",
       "      <td>18.509091</td>\n",
       "      <td>4.618182</td>\n",
       "      <td>3.193182</td>\n",
       "      <td>5.750000</td>\n",
       "      <td>3.954545</td>\n",
       "      <td>20.420455</td>\n",
       "      <td>28.795455</td>\n",
       "      <td>23.409091</td>\n",
       "      <td>4.727273</td>\n",
       "    </tr>\n",
       "    <tr>\n",
       "      <th>midsize car</th>\n",
       "      <td>3.323188</td>\n",
       "      <td>5.855072</td>\n",
       "      <td>6.884058</td>\n",
       "      <td>18.826087</td>\n",
       "      <td>26.565217</td>\n",
       "      <td>21.601449</td>\n",
       "      <td>5.978261</td>\n",
       "      <td>2.578986</td>\n",
       "      <td>4.739130</td>\n",
       "      <td>4.579710</td>\n",
       "      <td>24.862319</td>\n",
       "      <td>33.057971</td>\n",
       "      <td>27.884058</td>\n",
       "      <td>5.717391</td>\n",
       "    </tr>\n",
       "    <tr>\n",
       "      <th>minivan</th>\n",
       "      <td>3.511765</td>\n",
       "      <td>5.764706</td>\n",
       "      <td>6.764706</td>\n",
       "      <td>16.882353</td>\n",
       "      <td>23.705882</td>\n",
       "      <td>19.117647</td>\n",
       "      <td>5.294118</td>\n",
       "      <td>3.420000</td>\n",
       "      <td>6.000000</td>\n",
       "      <td>3.000000</td>\n",
       "      <td>18.000000</td>\n",
       "      <td>25.400000</td>\n",
       "      <td>20.800000</td>\n",
       "      <td>3.800000</td>\n",
       "    </tr>\n",
       "    <tr>\n",
       "      <th>pickup</th>\n",
       "      <td>4.166265</td>\n",
       "      <td>6.506024</td>\n",
       "      <td>6.506024</td>\n",
       "      <td>14.578313</td>\n",
       "      <td>19.204819</td>\n",
       "      <td>16.277108</td>\n",
       "      <td>3.650602</td>\n",
       "      <td>4.243590</td>\n",
       "      <td>6.615385</td>\n",
       "      <td>4.000000</td>\n",
       "      <td>16.551282</td>\n",
       "      <td>22.012821</td>\n",
       "      <td>18.589744</td>\n",
       "      <td>3.256410</td>\n",
       "    </tr>\n",
       "    <tr>\n",
       "      <th>small car</th>\n",
       "      <td>3.195796</td>\n",
       "      <td>5.882883</td>\n",
       "      <td>6.764264</td>\n",
       "      <td>18.372372</td>\n",
       "      <td>25.963964</td>\n",
       "      <td>21.105105</td>\n",
       "      <td>5.738739</td>\n",
       "      <td>2.873333</td>\n",
       "      <td>5.498246</td>\n",
       "      <td>3.761404</td>\n",
       "      <td>22.561404</td>\n",
       "      <td>30.435088</td>\n",
       "      <td>25.421053</td>\n",
       "      <td>5.066667</td>\n",
       "    </tr>\n",
       "    <tr>\n",
       "      <th>station wagon</th>\n",
       "      <td>2.548333</td>\n",
       "      <td>4.850000</td>\n",
       "      <td>6.575000</td>\n",
       "      <td>19.633333</td>\n",
       "      <td>27.116667</td>\n",
       "      <td>22.366667</td>\n",
       "      <td>6.316667</td>\n",
       "      <td>1.897059</td>\n",
       "      <td>4.117647</td>\n",
       "      <td>4.352941</td>\n",
       "      <td>24.705882</td>\n",
       "      <td>32.058824</td>\n",
       "      <td>27.529412</td>\n",
       "      <td>5.852941</td>\n",
       "    </tr>\n",
       "  </tbody>\n",
       "</table>\n",
       "</div>"
      ],
      "text/plain": [
       "                displ_x     cyl_x  air_pollution_score_x  city_mpg_x  \\\n",
       "veh_class                                                              \n",
       "SUV            3.680714  6.028571               6.646429   16.507143   \n",
       "large car      4.227273  7.272727               6.909091   15.836364   \n",
       "midsize car    3.323188  5.855072               6.884058   18.826087   \n",
       "minivan        3.511765  5.764706               6.764706   16.882353   \n",
       "pickup         4.166265  6.506024               6.506024   14.578313   \n",
       "small car      3.195796  5.882883               6.764264   18.372372   \n",
       "station wagon  2.548333  4.850000               6.575000   19.633333   \n",
       "\n",
       "               hwy_mpg_x  cmb_mpg_x  greenhouse_gas_score_x   displ_y  \\\n",
       "veh_class                                                               \n",
       "SUV            21.935714  18.471429                4.675000  4.588372   \n",
       "large car      23.345455  18.509091                4.618182  3.193182   \n",
       "midsize car    26.565217  21.601449                5.978261  2.578986   \n",
       "minivan        23.705882  19.117647                5.294118  3.420000   \n",
       "pickup         19.204819  16.277108                3.650602  4.243590   \n",
       "small car      25.963964  21.105105                5.738739  2.873333   \n",
       "station wagon  27.116667  22.366667                6.316667  1.897059   \n",
       "\n",
       "                  cyl_y  air_pollution_score_y  city_mpg_y  hwy_mpg_y  \\\n",
       "veh_class                                                               \n",
       "SUV            7.093023               3.348837   16.011628  21.953488   \n",
       "large car      5.750000               3.954545   20.420455  28.795455   \n",
       "midsize car    4.739130               4.579710   24.862319  33.057971   \n",
       "minivan        6.000000               3.000000   18.000000  25.400000   \n",
       "pickup         6.615385               4.000000   16.551282  22.012821   \n",
       "small car      5.498246               3.761404   22.561404  30.435088   \n",
       "station wagon  4.117647               4.352941   24.705882  32.058824   \n",
       "\n",
       "               cmb_mpg_y  greenhouse_gas_score_y  \n",
       "veh_class                                         \n",
       "SUV            18.197674                3.162791  \n",
       "large car      23.409091                4.727273  \n",
       "midsize car    27.884058                5.717391  \n",
       "minivan        20.800000                3.800000  \n",
       "pickup         18.589744                3.256410  \n",
       "small car      25.421053                5.066667  \n",
       "station wagon  27.529412                5.852941  "
      ]
     },
     "execution_count": 354,
     "metadata": {},
     "output_type": "execute_result"
    }
   ],
   "source": [
    "new_df = pd.merge(tempOneDf, tempTwoDf, how = \"inner\", on = \"veh_class\")\n",
    "new_df\n",
    "\n",
    "# tempTwoDf\n",
    "# tempOneDf.columns"
   ]
  }
 ],
 "metadata": {
  "colab": {
   "provenance": []
  },
  "kernelspec": {
   "display_name": "Python 3 (ipykernel)",
   "language": "python",
   "name": "python3"
  },
  "language_info": {
   "codemirror_mode": {
    "name": "ipython",
    "version": 3
   },
   "file_extension": ".py",
   "mimetype": "text/x-python",
   "name": "python",
   "nbconvert_exporter": "python",
   "pygments_lexer": "ipython3",
   "version": "3.12.4"
  }
 },
 "nbformat": 4,
 "nbformat_minor": 4
}
