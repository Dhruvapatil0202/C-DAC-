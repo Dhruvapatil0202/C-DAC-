{
 "cells": [
  {
   "cell_type": "code",
   "execution_count": 3,
   "id": "0d054e69-1102-4912-9a01-7253288f75c4",
   "metadata": {},
   "outputs": [],
   "source": [
    "import pandas as pd\n",
    "import numpy as np\n",
    "from datetime import datetime\n",
    "from collections import Counter"
   ]
  },
  {
   "cell_type": "markdown",
   "id": "ab323af0-8fbf-48a2-a960-d7a22ae14795",
   "metadata": {},
   "source": [
    "1. Write a Pandas program to create and display a one-dimensional array-like \n",
    "object containing an array of data using Pandas module.\n"
   ]
  },
  {
   "cell_type": "code",
   "execution_count": 18,
   "id": "5794fb9d-41c4-478d-b5bc-abbdd2cdd372",
   "metadata": {},
   "outputs": [
    {
     "data": {
      "text/plain": [
       "(0     12\n",
       " 1     13\n",
       " 2     14\n",
       " 3     15\n",
       " 4     16\n",
       " 5     17\n",
       " 6     18\n",
       " 7     19\n",
       " 8     20\n",
       " 9     21\n",
       " 10    22\n",
       " dtype: int64,\n",
       " pandas.core.series.Series)"
      ]
     },
     "execution_count": 18,
     "metadata": {},
     "output_type": "execute_result"
    }
   ],
   "source": [
    "array = [i for i in range(12, 23)]\n",
    "ser = pd.Series(array)\n",
    "ser, type(ser)"
   ]
  },
  {
   "cell_type": "markdown",
   "id": "c4c89b4c-e323-463a-8fdb-c8cfd897f13b",
   "metadata": {},
   "source": [
    "2. Write a Pandas program to convert a Panda module Series to Python list \r\n",
    "and it's type\r"
   ]
  },
  {
   "cell_type": "code",
   "execution_count": 23,
   "id": "5622fe97-a095-4c58-9d2c-6979e6ea4fb7",
   "metadata": {},
   "outputs": [
    {
     "data": {
      "text/plain": [
       "([12, 13, 14, 15, 16, 17, 18, 19, 20, 21, 22], list)"
      ]
     },
     "execution_count": 23,
     "metadata": {},
     "output_type": "execute_result"
    }
   ],
   "source": [
    "array = [i for i in range(12, 23)]\n",
    "ser = pd.Series(array)\n",
    "arr2 = ser.tolist()\n",
    "arr2, type(arr2)\n"
   ]
  },
  {
   "cell_type": "markdown",
   "id": "036871a2-b1ca-474c-b5de-38a69f5a15f2",
   "metadata": {},
   "source": [
    "3. Write a Pandas program to add, subtract, multiple and divide two Pandas \r\n",
    "Series.\r\n",
    "Sample Series: [2, 4, 6, 8, 10], [1, 3, 5, 7, \n",
    "9]\r",
    "\r"
   ]
  },
  {
   "cell_type": "code",
   "execution_count": 29,
   "id": "f763331b-32e1-4d20-aade-4e94478ba9a0",
   "metadata": {},
   "outputs": [
    {
     "name": "stdout",
     "output_type": "stream",
     "text": [
      "0     30\n",
      "1     32\n",
      "2     34\n",
      "3     36\n",
      "4     38\n",
      "5     40\n",
      "6     42\n",
      "7     44\n",
      "8     46\n",
      "9     48\n",
      "10    50\n",
      "dtype: int64\n",
      "\n",
      "\n",
      "0     10\n",
      "1     10\n",
      "2     10\n",
      "3     10\n",
      "4     10\n",
      "5     10\n",
      "6     10\n",
      "7     10\n",
      "8     10\n",
      "9     10\n",
      "10    10\n",
      "dtype: int64\n"
     ]
    }
   ],
   "source": [
    "ser1 = pd.Series([i for i in range(10, 21)])\n",
    "ser2 = pd.Series([i for i in range(20, 31)])\n",
    "print(ser2 + ser1)\n",
    "print(\"\\n\")\n",
    "print(ser2 - ser1)"
   ]
  },
  {
   "cell_type": "markdown",
   "id": "3fedad90-b860-4995-a32f-7d5111eb54ab",
   "metadata": {},
   "source": [
    "4. Write a Pandas program to compare the elements of the two Pandas \r\n",
    "Series.\r\n",
    "Sample Series: [2, 4, 6, 8, 10], [1, 3, 5, 7, ]10"
   ]
  },
  {
   "cell_type": "code",
   "execution_count": 91,
   "id": "f7bc6fd3-d10a-448a-8afb-ed09fef66a67",
   "metadata": {},
   "outputs": [
    {
     "name": "stdout",
     "output_type": "stream",
     "text": [
      "0    41\n",
      "1    49\n",
      "2    14\n",
      "3    30\n",
      "4    48\n",
      "5    30\n",
      "6    27\n",
      "7    27\n",
      "8    33\n",
      "9    18\n",
      "dtype: int32\n",
      "0    22\n",
      "1    32\n",
      "2    34\n",
      "3    36\n",
      "4    15\n",
      "5    24\n",
      "6    45\n",
      "7    36\n",
      "8    42\n",
      "9    31\n",
      "dtype: int32\n"
     ]
    },
    {
     "data": {
      "text/html": [
       "<div>\n",
       "<style scoped>\n",
       "    .dataframe tbody tr th:only-of-type {\n",
       "        vertical-align: middle;\n",
       "    }\n",
       "\n",
       "    .dataframe tbody tr th {\n",
       "        vertical-align: top;\n",
       "    }\n",
       "\n",
       "    .dataframe thead th {\n",
       "        text-align: right;\n",
       "    }\n",
       "</style>\n",
       "<table border=\"1\" class=\"dataframe\">\n",
       "  <thead>\n",
       "    <tr style=\"text-align: right;\">\n",
       "      <th></th>\n",
       "      <th>self</th>\n",
       "      <th>other</th>\n",
       "    </tr>\n",
       "  </thead>\n",
       "  <tbody>\n",
       "    <tr>\n",
       "      <th>0</th>\n",
       "      <td>41</td>\n",
       "      <td>22</td>\n",
       "    </tr>\n",
       "    <tr>\n",
       "      <th>1</th>\n",
       "      <td>49</td>\n",
       "      <td>32</td>\n",
       "    </tr>\n",
       "    <tr>\n",
       "      <th>2</th>\n",
       "      <td>14</td>\n",
       "      <td>34</td>\n",
       "    </tr>\n",
       "    <tr>\n",
       "      <th>3</th>\n",
       "      <td>30</td>\n",
       "      <td>36</td>\n",
       "    </tr>\n",
       "    <tr>\n",
       "      <th>4</th>\n",
       "      <td>48</td>\n",
       "      <td>15</td>\n",
       "    </tr>\n",
       "    <tr>\n",
       "      <th>5</th>\n",
       "      <td>30</td>\n",
       "      <td>24</td>\n",
       "    </tr>\n",
       "    <tr>\n",
       "      <th>6</th>\n",
       "      <td>27</td>\n",
       "      <td>45</td>\n",
       "    </tr>\n",
       "    <tr>\n",
       "      <th>7</th>\n",
       "      <td>27</td>\n",
       "      <td>36</td>\n",
       "    </tr>\n",
       "    <tr>\n",
       "      <th>8</th>\n",
       "      <td>33</td>\n",
       "      <td>42</td>\n",
       "    </tr>\n",
       "    <tr>\n",
       "      <th>9</th>\n",
       "      <td>18</td>\n",
       "      <td>31</td>\n",
       "    </tr>\n",
       "  </tbody>\n",
       "</table>\n",
       "</div>"
      ],
      "text/plain": [
       "   self  other\n",
       "0    41     22\n",
       "1    49     32\n",
       "2    14     34\n",
       "3    30     36\n",
       "4    48     15\n",
       "5    30     24\n",
       "6    27     45\n",
       "7    27     36\n",
       "8    33     42\n",
       "9    18     31"
      ]
     },
     "execution_count": 91,
     "metadata": {},
     "output_type": "execute_result"
    }
   ],
   "source": [
    "ser1 = pd.Series(np.random.randint(10, 50, 10))\n",
    "ser2 = pd.Series(np.random.randint(10, 50, 10))\n",
    "print(ser1)\n",
    "print(ser2)\n",
    "ser1.compare(ser2)"
   ]
  },
  {
   "cell_type": "markdown",
   "id": "364958e8-04d1-451c-bf37-ba1180bc1408",
   "metadata": {},
   "source": [
    "5. Write a Pandas program to convert a dictionary to a Pandas series.\n"
   ]
  },
  {
   "cell_type": "code",
   "execution_count": 53,
   "id": "91e350c2-a5fd-4c3e-b51a-02b81c62f167",
   "metadata": {},
   "outputs": [
    {
     "data": {
      "text/plain": [
       "1     31\n",
       "2     12\n",
       "3     49\n",
       "4     39\n",
       "5     16\n",
       "6     23\n",
       "7     18\n",
       "8     38\n",
       "9     47\n",
       "10    40\n",
       "dtype: int64"
      ]
     },
     "execution_count": 53,
     "metadata": {},
     "output_type": "execute_result"
    }
   ],
   "source": [
    "dic = {i : j for i, j in enumerate(np.random.randint(10, 50, 10).tolist(), 1)}\n",
    "ser = pd.Series(dic)\n",
    "ser"
   ]
  },
  {
   "cell_type": "markdown",
   "id": "cced5b6e-9e44-49ad-a084-543ec3b89b60",
   "metadata": {},
   "source": [
    "6. Write a Pandas program to convert a NumPy array to a Pandas series.\r"
   ]
  },
  {
   "cell_type": "code",
   "execution_count": 56,
   "id": "4f1b6ab4-d659-4a16-9473-61685035c245",
   "metadata": {},
   "outputs": [
    {
     "data": {
      "text/plain": [
       "0    46\n",
       "1    48\n",
       "2    29\n",
       "3    22\n",
       "4    27\n",
       "5    26\n",
       "6    40\n",
       "7    48\n",
       "8    20\n",
       "9    24\n",
       "dtype: int32"
      ]
     },
     "execution_count": 56,
     "metadata": {},
     "output_type": "execute_result"
    }
   ],
   "source": [
    "numpy_array = np.random.randint(10, 50, 10)\n",
    "ser = pd.Series(numpy_array)\n",
    "ser"
   ]
  },
  {
   "cell_type": "markdown",
   "id": "e5e9e7df-453a-444f-a70c-93c3daf276c7",
   "metadata": {},
   "source": [
    "7. Write a Pandas program to change the data type of given a column or a \n",
    "Series."
   ]
  },
  {
   "cell_type": "code",
   "execution_count": 142,
   "id": "2176f8cf-d983-4987-9ae6-8b36abccff34",
   "metadata": {},
   "outputs": [
    {
     "data": {
      "text/plain": [
       "0     42.0\n",
       "1     19.0\n",
       "2     10.0\n",
       "3     10.0\n",
       "4     24.0\n",
       "5     38.0\n",
       "6     37.0\n",
       "7     26.0\n",
       "8     40.0\n",
       "9     34.0\n",
       "10     NaN\n",
       "dtype: float64"
      ]
     },
     "execution_count": 142,
     "metadata": {},
     "output_type": "execute_result"
    }
   ],
   "source": [
    "ser = pd.Series(np.random.randint(10, 50, 10))\n",
    "ser[len(ser)] = \"python\"\n",
    "ser2 = pd.to_numeric(ser2, errors = \"coerce\")\n",
    "ser2.astype(float)"
   ]
  },
  {
   "cell_type": "markdown",
   "id": "abd48d75-bf2c-423c-b8e7-38a855d5d892",
   "metadata": {},
   "source": [
    "8. Write a Pandas program to convert the first column of a DataFrame as a \n",
    "Series"
   ]
  },
  {
   "cell_type": "code",
   "execution_count": null,
   "id": "7d509c84-816b-4397-add7-44c34e7c5a73",
   "metadata": {},
   "outputs": [],
   "source": [
    "df = pd.DataFrame({\n",
    "    \"col1\" : np.random.randint(10, 20, 5),\n",
    "    \"col2\" : np.random.randint(50, 100, 5),\n",
    "    \"col3\" : np.random.randint(100, 200, 5)\n",
    "})\n",
    "\n",
    "ser = pd.Series(df[\"col1\"])\n",
    "ser, type(ser)"
   ]
  },
  {
   "cell_type": "markdown",
   "id": "35d09eca-ce4e-4fb2-bef6-a6dff2e080e3",
   "metadata": {},
   "source": [
    "9. Write a Pandas program to convert a given Series to an array."
   ]
  },
  {
   "cell_type": "code",
   "execution_count": 81,
   "id": "94eac274-9254-45d0-baeb-117d74f7e9d1",
   "metadata": {},
   "outputs": [
    {
     "data": {
      "text/plain": [
       "(array([45, 25, 29, 28, 17, 16, 21, 44, 17, 15]), numpy.ndarray)"
      ]
     },
     "execution_count": 81,
     "metadata": {},
     "output_type": "execute_result"
    }
   ],
   "source": [
    "ser = pd.Series(np.random.randint(10, 50, 10))\n",
    "np_array = np.array(ser.tolist())\n",
    "np_array, type(np_array)"
   ]
  },
  {
   "cell_type": "markdown",
   "id": "109ab6a9-5f0d-4af6-acd2-6613ca9c2cf6",
   "metadata": {},
   "source": [
    "10. Write a Pandas program to convert Series of lists to one Series."
   ]
  },
  {
   "cell_type": "code",
   "execution_count": 95,
   "id": "1d1925c7-1888-4698-874f-715e42f32a13",
   "metadata": {},
   "outputs": [
    {
     "data": {
      "text/plain": [
       "0    10\n",
       "0    14\n",
       "0    15\n",
       "1    60\n",
       "1    53\n",
       "2    98\n",
       "2    97\n",
       "2    96\n",
       "2    91\n",
       "dtype: object"
      ]
     },
     "execution_count": 95,
     "metadata": {},
     "output_type": "execute_result"
    }
   ],
   "source": [
    "li1 = np.random.randint(10, 20, 3).tolist()\n",
    "li2 = np.random.randint(50, 80, 2).tolist()\n",
    "li3 = np.random.randint(90, 100, 4).tolist()\n",
    "ser = pd.Series([li1, li2, li3])\n",
    "ser.explode()"
   ]
  },
  {
   "cell_type": "markdown",
   "id": "5328f54b-f5bc-47ef-baf3-a96273446827",
   "metadata": {},
   "source": [
    "11. Write a Pandas program to sort a given Series."
   ]
  },
  {
   "cell_type": "code",
   "execution_count": 105,
   "id": "04a9f79b-8b47-428c-be2c-352ef4d08b73",
   "metadata": {},
   "outputs": [
    {
     "name": "stdout",
     "output_type": "stream",
     "text": [
      "0    16\n",
      "1    11\n",
      "2    19\n",
      "3    17\n",
      "4    16\n",
      "5    18\n",
      "6    15\n",
      "7    10\n",
      "8    10\n",
      "9    18\n",
      "dtype: int64\n"
     ]
    },
    {
     "data": {
      "text/plain": [
       "2    19\n",
       "5    18\n",
       "9    18\n",
       "3    17\n",
       "0    16\n",
       "4    16\n",
       "6    15\n",
       "1    11\n",
       "7    10\n",
       "8    10\n",
       "dtype: int64"
      ]
     },
     "execution_count": 105,
     "metadata": {},
     "output_type": "execute_result"
    }
   ],
   "source": [
    "ser = pd.Series(np.random.randint(10, 20, 10).tolist())\n",
    "print(ser)\n",
    "ser.sort_values(ascending = False)\n"
   ]
  },
  {
   "cell_type": "markdown",
   "id": "72fb7939-5da3-4f85-84fa-d454395a03f8",
   "metadata": {},
   "source": [
    "12. Write a Pandas program to add some data to an existing Series."
   ]
  },
  {
   "cell_type": "code",
   "execution_count": 57,
   "id": "81fbf3c4-1008-4476-b1cd-2b87d3367ba2",
   "metadata": {},
   "outputs": [
    {
     "data": {
      "text/plain": [
       "0     11\n",
       "1     19\n",
       "2     11\n",
       "3     10\n",
       "4     11\n",
       "5     16\n",
       "6     13\n",
       "7     18\n",
       "8    500\n",
       "9    Php\n",
       "dtype: object"
      ]
     },
     "execution_count": 57,
     "metadata": {},
     "output_type": "execute_result"
    }
   ],
   "source": [
    "ser1 = pd.Series(np.random.randint(10, 20, 8).tolist())\n",
    "ser1[len(ser1)] = 500\n",
    "ser1[len(ser1)] = \"Php\"\n",
    "ser1\n",
    "\n"
   ]
  },
  {
   "cell_type": "markdown",
   "id": "72793219-0fc6-4838-a2c7-185bdd182f58",
   "metadata": {},
   "source": [
    "13. Write a Pandas program to create a subset of a given series based on value and \r\n",
    "condition."
   ]
  },
  {
   "cell_type": "code",
   "execution_count": 122,
   "id": "154ce2d2-0895-45c8-ae02-2d9766593b77",
   "metadata": {},
   "outputs": [
    {
     "data": {
      "text/plain": [
       "0    1\n",
       "1    2\n",
       "2    3\n",
       "3    4\n",
       "4    5\n",
       "dtype: int64"
      ]
     },
     "execution_count": 122,
     "metadata": {},
     "output_type": "execute_result"
    }
   ],
   "source": [
    "ser = pd.Series([i for i in range(1, 10)])\n",
    "ser2 = ser[ser < 6]\n",
    "ser2"
   ]
  },
  {
   "cell_type": "markdown",
   "id": "cfe7830c-cba2-4394-8236-38f9d9e3ae72",
   "metadata": {},
   "source": [
    "14. Write a Pandas program to change the order of index of a given series."
   ]
  },
  {
   "cell_type": "code",
   "execution_count": 152,
   "id": "67b1f01e-f8a5-4878-933d-dc9a090ac25a",
   "metadata": {},
   "outputs": [
    {
     "data": {
      "text/plain": [
       "4    59\n",
       "8    91\n",
       "1    25\n",
       "9    30\n",
       "5    69\n",
       "3    49\n",
       "0    64\n",
       "6    20\n",
       "2     2\n",
       "7    42\n",
       "dtype: int32"
      ]
     },
     "execution_count": 152,
     "metadata": {},
     "output_type": "execute_result"
    }
   ],
   "source": [
    "ser = pd.Series(np.random.randint(1,100,10))\n",
    "ser.sample(frac = 1)"
   ]
  },
  {
   "cell_type": "markdown",
   "id": "0a0e21c1-619d-4c91-957d-14009c1bfe2f",
   "metadata": {},
   "source": [
    "15. Write a Pandas program to create the mean and standard deviation of the data of a \r\n",
    "given Series."
   ]
  },
  {
   "cell_type": "code",
   "execution_count": 157,
   "id": "4f725f05-8ff5-4d39-92d9-71826183f690",
   "metadata": {},
   "outputs": [
    {
     "name": "stdout",
     "output_type": "stream",
     "text": [
      "Mean : 59.4, Standard Deviation: 29.937713116847565\n"
     ]
    }
   ],
   "source": [
    "ser = pd.Series(np.random.randint(1,100,10))\n",
    "mean_value = ser.mean()\n",
    "sd = ser.std()\n",
    "print(f\"Mean : {mean_value}, Standard Deviation: {sd}\")"
   ]
  },
  {
   "cell_type": "markdown",
   "id": "8824dcbc-42d6-4901-bed0-00d9e59dee2a",
   "metadata": {},
   "source": [
    "16. Write a Pandas program to get the items of a given series not present in another given \n",
    "series.\n"
   ]
  },
  {
   "cell_type": "code",
   "execution_count": 164,
   "id": "90d00f07-116c-4287-8c9c-890955882165",
   "metadata": {},
   "outputs": [
    {
     "name": "stdout",
     "output_type": "stream",
     "text": [
      "0    1\n",
      "1    2\n",
      "2    3\n",
      "3    4\n",
      "4    5\n",
      "dtype: int64\n",
      "0     2\n",
      "1     4\n",
      "2     6\n",
      "3     8\n",
      "4    10\n",
      "dtype: int64\n"
     ]
    },
    {
     "data": {
      "text/plain": [
       "0    1\n",
       "2    3\n",
       "4    5\n",
       "dtype: int64"
      ]
     },
     "execution_count": 164,
     "metadata": {},
     "output_type": "execute_result"
    }
   ],
   "source": [
    "ser1 = pd.Series([i for i in range(1,6)])\n",
    "ser2 = pd.Series([i for i in range(2, 11, 2)])\n",
    "print(ser1); print(ser2)\n",
    "ser1[~(ser1.isin(ser2))]"
   ]
  },
  {
   "cell_type": "markdown",
   "id": "e386ff3f-4562-4776-80c9-d369d643c26a",
   "metadata": {},
   "source": [
    "17. Write a Pandas program to get the items which are not common of two given series."
   ]
  },
  {
   "cell_type": "code",
   "execution_count": 325,
   "id": "1d40720b-80d6-4f49-bb2d-73d6bc77173b",
   "metadata": {},
   "outputs": [
    {
     "data": {
      "text/plain": [
       "0     1\n",
       "2     3\n",
       "4     5\n",
       "2     6\n",
       "3     8\n",
       "4    10\n",
       "dtype: int64"
      ]
     },
     "execution_count": 325,
     "metadata": {},
     "output_type": "execute_result"
    }
   ],
   "source": [
    "ser1 = pd.Series([i for i in range(1,6)])\n",
    "ser2 = pd.Series([i for i in range(2, 11, 2)])\n",
    "serx = ser1[~(ser1.isin(ser2))] \n",
    "sery = ser2[~(ser2.isin(ser1))]\n",
    "ser3 = pd.concat((serx, sery), axis = 0).reindex()\n",
    "ser3\n"
   ]
  },
  {
   "cell_type": "markdown",
   "id": "00cee357-a3c1-4023-beb8-37bc5a40a631",
   "metadata": {},
   "source": [
    "18. Write a Pandas program to compute the minimum, 25th percentile, median, 75th, and \r\n",
    "maximum of a given series.\r"
   ]
  },
  {
   "cell_type": "code",
   "execution_count": 177,
   "id": "d4d3c6d2-46b3-402a-a303-efc5cf5fc868",
   "metadata": {},
   "outputs": [
    {
     "name": "stdout",
     "output_type": "stream",
     "text": [
      "Max = 98, Min: 34, Percentile 25: 54.25, Median : 62.5, Percentile 75: 78.0\n"
     ]
    }
   ],
   "source": [
    "ser = pd.Series(np.random.randint(1,100,10))\n",
    "mini = ser.min()\n",
    "per25 = ser.quantile(0.25)\n",
    "median = ser.median()\n",
    "per75 = ser.quantile(0.75)\n",
    "max = ser.max()\n",
    "\n",
    "print(f\"Max = {max}, Min: {mini}, Percentile 25: {per25}, Median : {median}, Percentile 75: {per75}\")\n"
   ]
  },
  {
   "cell_type": "markdown",
   "id": "682e59db-bab9-49c8-9315-6a143b074e75",
   "metadata": {},
   "source": [
    "19. Write a Pandas program to calculate the frequency counts of each unique value of a \n",
    "given series."
   ]
  },
  {
   "cell_type": "code",
   "execution_count": 182,
   "id": "00305f5a-0599-4fd9-86dc-adf6cbfe5035",
   "metadata": {},
   "outputs": [
    {
     "name": "stdout",
     "output_type": "stream",
     "text": [
      "[1, 3, 1, 3, 1, 2, 2, 3, 2, 3]\n"
     ]
    },
    {
     "data": {
      "text/plain": [
       "3    4\n",
       "1    3\n",
       "2    3\n",
       "Name: count, dtype: int64"
      ]
     },
     "execution_count": 182,
     "metadata": {},
     "output_type": "execute_result"
    }
   ],
   "source": [
    "ser = pd.Series(np.random.randint(1, 4, 10))\n",
    "print(ser.tolist())\n",
    "ser.value_counts()"
   ]
  },
  {
   "cell_type": "markdown",
   "id": "ffb7bf81-1899-4ae5-b3e2-51e38135b03b",
   "metadata": {},
   "source": [
    "20. Write a Pandas program to display most frequent value in a given series and replace \n",
    "everything else as 'Other' in the series."
   ]
  },
  {
   "cell_type": "code",
   "execution_count": 193,
   "id": "7ededaf1-7001-48dc-8df8-88a8c5f7b2b0",
   "metadata": {},
   "outputs": [
    {
     "name": "stderr",
     "output_type": "stream",
     "text": [
      "C:\\Users\\DAI.STUDENTSDC\\AppData\\Local\\Temp\\ipykernel_2176\\2301264755.py:3: FutureWarning: Setting an item of incompatible dtype is deprecated and will raise an error in a future version of pandas. Value 'other' has dtype incompatible with int32, please explicitly cast to a compatible dtype first.\n",
      "  ser[ser != max] = \"other\"\n"
     ]
    },
    {
     "data": {
      "text/plain": [
       "0     other\n",
       "1     other\n",
       "2     other\n",
       "3         2\n",
       "4     other\n",
       "5         2\n",
       "6     other\n",
       "7         2\n",
       "8         2\n",
       "9     other\n",
       "10    other\n",
       "11    other\n",
       "12    other\n",
       "13        2\n",
       "14        2\n",
       "15        2\n",
       "16    other\n",
       "17        2\n",
       "18    other\n",
       "19    other\n",
       "dtype: object"
      ]
     },
     "execution_count": 193,
     "metadata": {},
     "output_type": "execute_result"
    }
   ],
   "source": [
    "ser = pd.Series(np.random.randint(1, 4, 20))\n",
    "max = ser.value_counts().idxmax()\n",
    "ser[ser != max] = \"other\"\n",
    "ser"
   ]
  },
  {
   "cell_type": "markdown",
   "id": "7c833b16-647d-45e2-bd9b-70cdef4bba4a",
   "metadata": {},
   "source": [
    "21. Write a Pandas program to find the positions of numbers that are multiples of 5 of a \n",
    "given series."
   ]
  },
  {
   "cell_type": "code",
   "execution_count": 199,
   "id": "a0a5702e-5357-47f4-b52e-3f5fc1c2861f",
   "metadata": {},
   "outputs": [
    {
     "name": "stdout",
     "output_type": "stream",
     "text": [
      "0     21\n",
      "1     12\n",
      "2     11\n",
      "3     16\n",
      "4     10\n",
      "5     24\n",
      "6     12\n",
      "7      5\n",
      "8     17\n",
      "9     13\n",
      "10     5\n",
      "11     8\n",
      "12    10\n",
      "13    18\n",
      "14     8\n",
      "15    23\n",
      "16    10\n",
      "17     5\n",
      "18    22\n",
      "19    14\n",
      "20    18\n",
      "21    20\n",
      "22    20\n",
      "23     8\n",
      "24    14\n",
      "25     6\n",
      "26    15\n",
      "27     5\n",
      "28    17\n",
      "29    10\n",
      "dtype: int32\n"
     ]
    },
    {
     "data": {
      "text/plain": [
       "[4, 7, 10, 12, 16, 17, 21, 22, 26, 27, 29]"
      ]
     },
     "execution_count": 199,
     "metadata": {},
     "output_type": "execute_result"
    }
   ],
   "source": [
    "ser = pd.Series(np.random.randint(5, 26, 30))\n",
    "print(ser)\n",
    "ser[ser % 5 == 0].index.tolist()"
   ]
  },
  {
   "cell_type": "markdown",
   "id": "2985d10a-45f1-4d66-a4dd-70f126124d0d",
   "metadata": {},
   "source": [
    "22. Write a Pandas program to extract items at given positions of a given series.\n"
   ]
  },
  {
   "cell_type": "code",
   "execution_count": 205,
   "id": "a7e8f180-59fe-4ac7-9a7a-c2feefd2db42",
   "metadata": {},
   "outputs": [
    {
     "data": {
      "text/plain": [
       "1    13\n",
       "0    21\n",
       "2     5\n",
       "5    21\n",
       "6     5\n",
       "8     9\n",
       "dtype: int32"
      ]
     },
     "execution_count": 205,
     "metadata": {},
     "output_type": "execute_result"
    }
   ],
   "source": [
    "ser = pd.Series(np.random.randint(5, 26, 30))\n",
    "pos = [1, 0, 2, 5, 6, 8]\n",
    "ser.iloc[pos]"
   ]
  },
  {
   "cell_type": "markdown",
   "id": "ff81b852-a839-41d2-9241-886b40a8ac19",
   "metadata": {},
   "source": [
    "23. Write a Pandas program to get the positions of items of a given series in another \r\n",
    "given series.\r"
   ]
  },
  {
   "cell_type": "code",
   "execution_count": 212,
   "id": "9e7de94a-5145-464b-8324-d7c70c5e3fe3",
   "metadata": {},
   "outputs": [
    {
     "name": "stdout",
     "output_type": "stream",
     "text": [
      "0      2\n",
      "1      8\n",
      "2     10\n",
      "3      7\n",
      "4      3\n",
      "5      1\n",
      "6     10\n",
      "7      7\n",
      "8      8\n",
      "9      8\n",
      "10     4\n",
      "11     8\n",
      "12     8\n",
      "13     3\n",
      "14     1\n",
      "15     2\n",
      "16    10\n",
      "17     8\n",
      "18     2\n",
      "19     1\n",
      "dtype: int32\n",
      "0     18\n",
      "1     14\n",
      "2     11\n",
      "3     30\n",
      "4      8\n",
      "5     23\n",
      "6     26\n",
      "7     10\n",
      "8      6\n",
      "9     18\n",
      "10    18\n",
      "11    11\n",
      "12    29\n",
      "13    11\n",
      "14    19\n",
      "15    16\n",
      "16    19\n",
      "17    12\n",
      "18    26\n",
      "19    17\n",
      "dtype: int32\n"
     ]
    },
    {
     "data": {
      "text/plain": [
       "[4, 7]"
      ]
     },
     "execution_count": 212,
     "metadata": {},
     "output_type": "execute_result"
    }
   ],
   "source": [
    "ser1 = pd.Series(np.random.randint(1,11,20))\n",
    "ser2 = pd.Series(np.random.randint(6,31,20))\n",
    "print(ser1)\n",
    "print(ser2)\n",
    "ser2[ser2.isin(ser1)].index.tolist()"
   ]
  },
  {
   "cell_type": "markdown",
   "id": "bdfd7829-04b5-492e-8d15-c55bf8b68ccd",
   "metadata": {},
   "source": [
    "24. Write a Pandas program convert the first and last character of each word to upper \r\n",
    "case in each word of a given series.\r"
   ]
  },
  {
   "cell_type": "code",
   "execution_count": 215,
   "id": "a5e73cbe-f1d7-44ed-ae6f-251a8b8deaf4",
   "metadata": {},
   "outputs": [
    {
     "data": {
      "text/plain": [
       "0       PhP\n",
       "1    PythoN\n",
       "2      JavA\n",
       "3       CpP\n",
       "dtype: object"
      ]
     },
     "execution_count": 215,
     "metadata": {},
     "output_type": "execute_result"
    }
   ],
   "source": [
    "def func(stri):\n",
    "    li = list(stri)\n",
    "    li[0] = li[0].upper()\n",
    "    li[-1] = li[-1].upper()\n",
    "    return \"\".join(li)\n",
    "serAlpha = pd.Series([\"php\", \"python\", \"java\", \"cpp\"])\n",
    "serAlpha.apply(func)"
   ]
  },
  {
   "cell_type": "markdown",
   "id": "59998003-833a-401d-b558-eeecd7b59b69",
   "metadata": {},
   "source": [
    "25. Write a Pandas program to calculate the number of characters in each word in a given \n",
    "series"
   ]
  },
  {
   "cell_type": "code",
   "execution_count": 218,
   "id": "66985796-1583-4209-89f3-61f79656ba2e",
   "metadata": {},
   "outputs": [
    {
     "data": {
      "text/plain": [
       "0    3\n",
       "1    6\n",
       "2    4\n",
       "3    3\n",
       "dtype: int64"
      ]
     },
     "execution_count": 218,
     "metadata": {},
     "output_type": "execute_result"
    }
   ],
   "source": [
    "ser = pd.Series([\"php\", \"python\", \"java\", \"cpp\"])\n",
    "ser.apply(lambda x : len(x))"
   ]
  },
  {
   "cell_type": "markdown",
   "id": "8032d997-31b1-48ed-a873-0aac8bc12938",
   "metadata": {},
   "source": [
    "26. Write a Pandas program to compute difference of differences between consecutive \n",
    "numbers of a given series."
   ]
  },
  {
   "cell_type": "code",
   "execution_count": 229,
   "id": "2c5e5ba0-63ee-43db-9cb7-ac96aeb53a23",
   "metadata": {},
   "outputs": [
    {
     "name": "stdout",
     "output_type": "stream",
     "text": [
      "[9, 1, 2, 5, 3, 7, 4, 4, 9, 4]\n"
     ]
    },
    {
     "data": {
      "text/plain": [
       "0    NaN\n",
       "1   -8.0\n",
       "2    1.0\n",
       "3    3.0\n",
       "4   -2.0\n",
       "5    4.0\n",
       "6   -3.0\n",
       "7    0.0\n",
       "8    5.0\n",
       "9   -5.0\n",
       "dtype: float64"
      ]
     },
     "execution_count": 229,
     "metadata": {},
     "output_type": "execute_result"
    }
   ],
   "source": [
    "ser = pd.Series(np.random.randint(1, 10, 10))\n",
    "print(ser.tolist())\n",
    "ser.rolling(2).apply(lambda x : x.iloc[1] - x.iloc[0])"
   ]
  },
  {
   "cell_type": "markdown",
   "id": "1db81437-d8d7-4876-beb5-3f307487121e",
   "metadata": {},
   "source": [
    "27. Write a Pandas program to convert a series of date strings to a timeseries."
   ]
  },
  {
   "cell_type": "code",
   "execution_count": 247,
   "id": "6f12c63d-e5a0-4bb6-9018-ef8b2a7b8f2a",
   "metadata": {},
   "outputs": [
    {
     "data": {
      "text/plain": [
       "0   2015-01-01 00:00:00\n",
       "1   2016-10-02 00:00:00\n",
       "2   2018-03-07 00:00:00\n",
       "3   2014-05-06 00:00:00\n",
       "4   2016-04-12 00:00:00\n",
       "5   2019-04-06 11:20:00\n",
       "dtype: datetime64[ns]"
      ]
     },
     "execution_count": 247,
     "metadata": {},
     "output_type": "execute_result"
    }
   ],
   "source": [
    "ser = pd.Series([\"01 Jan 2015\", \"10-02-2016\", \"20180307\", \"2014/05/06\", \"2016-04-12\", \"2019-04-06T11:20\"])\n",
    "ser = pd.to_datetime(ser, errors = 'coerce', format = \"mixed\")\n",
    "ser"
   ]
  },
  {
   "cell_type": "markdown",
   "id": "8755061b-5108-41cd-b65e-373de0984de0",
   "metadata": {},
   "source": [
    "28. Write a Pandas program to get the day of month, day of year, week number and day \n",
    "of week from a given series of date strings.\n"
   ]
  },
  {
   "cell_type": "code",
   "execution_count": 317,
   "id": "17a0258e-ed22-4673-9d28-f6f5da1e1daa",
   "metadata": {},
   "outputs": [
    {
     "name": "stdout",
     "output_type": "stream",
     "text": [
      "Day of Month\n",
      "[1, 2, 7, 6, 12, 6]\n",
      "Day of Year\n",
      "[1, 276, 66, 126, 103, 96]\n",
      "Week number\n",
      "[1, 39, 10, 19, 15, 14]\n",
      "Day of Week\n",
      "['Thursday', 'Sunday', 'Wednesday', 'Tuesday', 'Tuesday', 'Saturday']\n"
     ]
    }
   ],
   "source": [
    "ser = pd.Series([\"01 Jan 2015\", \"10-02-2016\", \"20180307\", \"2014/05/06\", \"2016-04-12\", \"2019-04-06T11:20\"])\n",
    "ser = pd.to_datetime(ser, errors = 'coerce', format = \"mixed\")\n",
    "print(\"Day of Month\")\n",
    "print(ser.dt.day.tolist())\n",
    "print(\"Day of Year\")\n",
    "print(ser.dt.dayofyear.tolist())\n",
    "print(\"Week number\")\n",
    "print(ser.dt.isocalendar().week.tolist())\n",
    "print(\"Day of Week\")\n",
    "print(ser.dt.day_name().tolist())\n"
   ]
  },
  {
   "cell_type": "raw",
   "id": "36d7c19d-2a5e-4c76-8e57-4ae2cda5a48b",
   "metadata": {},
   "source": [
    "29. Write a Pandas program to convert year-month string to dates adding a specified day \r\n",
    "of the month\n",
    "\n",
    "Sample Output:\r\n",
    "Original Series:\r\n",
    "0 Jan 2015\r\n",
    "1 Feb 2016\r\n",
    "2 Mar 2017\r\n",
    "3 Apr 2018\r\n",
    "4 May 2019."
   ]
  },
  {
   "cell_type": "code",
   "execution_count": 332,
   "id": "23605247-6e94-46f0-b6ed-f19043d561b2",
   "metadata": {},
   "outputs": [
    {
     "data": {
      "text/plain": [
       "0   2015-01-11\n",
       "1   2016-02-11\n",
       "2   2017-03-11\n",
       "3   2018-04-11\n",
       "4   2019-05-11\n",
       "dtype: datetime64[ns]"
      ]
     },
     "execution_count": 332,
     "metadata": {},
     "output_type": "execute_result"
    }
   ],
   "source": [
    "ser = pd.Series([\"Jan 2015\", \"Feb 2016\", \"Mar 2017\", \"Apr 2018\", \"May 2019\"])\n",
    "ser = \"11 \" + ser \n",
    "ser = pd.to_datetime(ser, format = \"mixed\")\n",
    "ser"
   ]
  },
  {
   "cell_type": "raw",
   "id": "44c0e991-8ce2-4a4e-8b32-2ea5d8a2f140",
   "metadata": {},
   "source": [
    "30. Write a Pandas program to filter words from a given series that contain atleast two \n",
    "vowels.\n"
   ]
  },
  {
   "cell_type": "code",
   "execution_count": 344,
   "id": "0eaa722a-d2d1-44c5-b759-132af1754605",
   "metadata": {},
   "outputs": [
    {
     "data": {
      "text/plain": [
       "1     green\n",
       "2    orange\n",
       "4    yellow\n",
       "5     white\n",
       "dtype: object"
      ]
     },
     "execution_count": 344,
     "metadata": {},
     "output_type": "execute_result"
    }
   ],
   "source": [
    "def cnt(st):\n",
    "    cnt = 0\n",
    "    for i in st: \n",
    "        if i in ['a', 'e', 'i', 'o', 'u']: cnt += 1\n",
    "    return cnt\n",
    "ser = pd.Series([\"red\", \"green\", \"orange\", \"pink\", \"yellow\", \"white\"])\n",
    "ser = ser[ser.apply(cnt) >= 2]\n",
    "ser"
   ]
  },
  {
   "cell_type": "code",
   "execution_count": null,
   "id": "7b476b8f-d0ff-4cb3-8bcf-fa81f2df58c2",
   "metadata": {},
   "outputs": [],
   "source": [
    "31. Write a Pandas program to compute the Euclidean distance between two given series.\n",
    "Euclidean distance\n",
    "From Wikipedia,\n",
    "In mathematics, the Euclidean distance or Euclidean metric is the \"ordinary\" straight-line \n",
    "distance between two points in Euclidean space. With this distance, Euclidean space \n",
    "becomes a metric space. The associated norm is called the Euclidean norm."
   ]
  },
  {
   "cell_type": "code",
   "execution_count": 356,
   "id": "4cc93f8b-3d1f-4bdd-b82e-a062ae4ecd3d",
   "metadata": {},
   "outputs": [
    {
     "data": {
      "text/plain": [
       "11.090536506409418"
      ]
     },
     "execution_count": 356,
     "metadata": {},
     "output_type": "execute_result"
    }
   ],
   "source": [
    "ser1 = pd.Series(np.random.randint(1, 10, 10))\n",
    "ser2 = pd.Series(np.random.randint(1, 10, 10))\n",
    "(((ser1 - ser2) ** 2).sum()) ** 0.5"
   ]
  },
  {
   "cell_type": "code",
   "execution_count": null,
   "id": "bace6433-8ce3-4705-8fd0-3306c478f26a",
   "metadata": {},
   "outputs": [],
   "source": [
    "32. Write a Pandas program to find the positions of the values neighboured by smaller \n",
    "values on both sides in a given series."
   ]
  },
  {
   "cell_type": "code",
   "execution_count": 19,
   "id": "8b793e8a-7318-47c9-9547-6181588d20aa",
   "metadata": {},
   "outputs": [
    {
     "name": "stdout",
     "output_type": "stream",
     "text": [
      "[3, 8, 1, 1, 8, 2, 3, 8, 2, 4]\n"
     ]
    },
    {
     "data": {
      "text/plain": [
       "[1, 4, 7]"
      ]
     },
     "execution_count": 19,
     "metadata": {},
     "output_type": "execute_result"
    }
   ],
   "source": [
    "\n",
    "ser = pd.Series(np.random.randint(1, 10, 10))\n",
    "pos_list = []\n",
    "for ind in range(1, len(ser) - 1):\n",
    "    if ser[ind] > ser[ind-1] and ser[ind] > ser[ind+1]: pos_list.append(ind)\n",
    "print(ser.tolist())\n",
    "pos_list\n"
   ]
  },
  {
   "cell_type": "code",
   "execution_count": null,
   "id": "f878e815-8ee9-45ab-b18d-8d908a42b65b",
   "metadata": {},
   "outputs": [],
   "source": [
    "33. Write a Pandas program to replace missing white spaces in a given string with the \n",
    "least frequent character."
   ]
  },
  {
   "cell_type": "code",
   "execution_count": 7,
   "id": "f6dab0f3-5ffc-4b34-b04c-c4b74bdf0cee",
   "metadata": {},
   "outputs": [
    {
     "name": "stdout",
     "output_type": "stream",
     "text": [
      "a    2\n",
      "b    2\n",
      "c    3\n",
      "     3\n",
      "d    3\n",
      "e    2\n",
      "f    2\n",
      "i    1\n",
      "dtype: int64\n"
     ]
    },
    {
     "data": {
      "text/plain": [
       "'abcidefiabcdefiicd'"
      ]
     },
     "execution_count": 7,
     "metadata": {},
     "output_type": "execute_result"
    }
   ],
   "source": [
    "str=  \"abc def abcdef icd\"\n",
    "ser = pd.Series(Counter(str))\n",
    "print(ser)\n",
    "str.replace(\" \", ser.idxmin())"
   ]
  },
  {
   "cell_type": "code",
   "execution_count": null,
   "id": "da92db17-0589-444b-8b1a-37e1424fa871",
   "metadata": {},
   "outputs": [],
   "source": [
    "34. Write a Pandas program to compute the autocorrelations of a given numeric series.\n",
    "From Wikipedia:\n",
    "Autocorrelation, also known as serial correlation, is the correlation of a signal with a \n",
    "delayed copy of itself as a function of delay. Informally, it is the similarity between \n",
    "observations as a function of the time lag between them.\n"
   ]
  },
  {
   "cell_type": "code",
   "execution_count": 21,
   "id": "677b8ef1-eeb7-44f6-9150-09f81f8cdc41",
   "metadata": {},
   "outputs": [
    {
     "name": "stdout",
     "output_type": "stream",
     "text": [
      "[0.07, 0.08, 0.17, -0.04, 0.12, -0.05, -0.09, 0.07, 0.1, -0.17]\n"
     ]
    }
   ],
   "source": [
    "\n",
    "def compute_autocorrelations(series, max_lag):\n",
    "    autocorrs = {}\n",
    "    for lag in range(1, max_lag + 1):\n",
    "        autocorrs[lag] = series.autocorr(lag=lag)\n",
    "    return autocorrs\n",
    "data = pd.Series(np.random.randn(100))\n",
    "max_lag = 10\n",
    "autocorrelation_results = compute_autocorrelations(data, max_lag)\n",
    "autocorr_df = pd.DataFrame(list(autocorrelation_results.items()), columns=['Lag', 'Autocorrelation'])\n",
    "print(autocorr_df[\"Autocorrelation\"].apply(lambda x : round(x, 2)).tolist())"
   ]
  },
  {
   "cell_type": "code",
   "execution_count": null,
   "id": "daf4ea86-1a86-4845-ac09-ec6c49f50f18",
   "metadata": {},
   "outputs": [],
   "source": [
    "35. Write a Pandas program to create a TimeSeries to display all the Sundays of given \n",
    "year."
   ]
  },
  {
   "cell_type": "code",
   "execution_count": 31,
   "id": "bd3bdc45-9f92-4a62-818d-2207767ebf52",
   "metadata": {},
   "outputs": [
    {
     "data": {
      "text/plain": [
       "DatetimeIndex(['2024-01-07', '2024-01-14', '2024-01-21', '2024-01-28',\n",
       "               '2024-02-04', '2024-02-11', '2024-02-18', '2024-02-25',\n",
       "               '2024-03-03', '2024-03-10', '2024-03-17', '2024-03-24',\n",
       "               '2024-03-31', '2024-04-07', '2024-04-14', '2024-04-21',\n",
       "               '2024-04-28', '2024-05-05', '2024-05-12', '2024-05-19',\n",
       "               '2024-05-26', '2024-06-02', '2024-06-09', '2024-06-16',\n",
       "               '2024-06-23', '2024-06-30', '2024-07-07', '2024-07-14',\n",
       "               '2024-07-21', '2024-07-28', '2024-08-04', '2024-08-11',\n",
       "               '2024-08-18', '2024-08-25', '2024-09-01', '2024-09-08',\n",
       "               '2024-09-15', '2024-09-22', '2024-09-29', '2024-10-06',\n",
       "               '2024-10-13', '2024-10-20', '2024-10-27', '2024-11-03',\n",
       "               '2024-11-10', '2024-11-17', '2024-11-24', '2024-12-01',\n",
       "               '2024-12-08', '2024-12-15', '2024-12-22', '2024-12-29'],\n",
       "              dtype='datetime64[ns]', freq=None)"
      ]
     },
     "execution_count": 31,
     "metadata": {},
     "output_type": "execute_result"
    }
   ],
   "source": [
    "year = 2024\n",
    "ser = pd.date_range(start= f\"01-01-{year}\", end=f\"31-12-{year}\", freq='D')\n",
    "ser[ser.day_name() == \"Sunday\"] "
   ]
  },
  {
   "cell_type": "code",
   "execution_count": null,
   "id": "e5c80853-55ae-42e0-ae35-7e3356336153",
   "metadata": {},
   "outputs": [],
   "source": [
    "36. Write a Pandas program to convert given series into a dataframe with its index as \n",
    "another column on the dataframe."
   ]
  },
  {
   "cell_type": "code",
   "execution_count": 45,
   "id": "c5b61084-a400-4a17-b6db-a70bab61dcc8",
   "metadata": {},
   "outputs": [
    {
     "name": "stdout",
     "output_type": "stream",
     "text": [
      "0    31\n",
      "1    68\n",
      "2    42\n",
      "3    43\n",
      "4    17\n",
      "5    15\n",
      "6    47\n",
      "7    25\n",
      "8    37\n",
      "9    16\n",
      "dtype: int32\n",
      "    col1\n",
      "4     31\n",
      "5     68\n",
      "6     42\n",
      "7     43\n",
      "8     17\n",
      "9     15\n",
      "10    47\n",
      "11    25\n",
      "12    37\n",
      "13    16\n"
     ]
    }
   ],
   "source": [
    "ser1 = pd.Series(np.random.randint(10, 100, 10))\n",
    "ind_ser = pd.Series(np.arange(4, 14))\n",
    "df = pd.DataFrame(data= {\"col1\" : ser1.tolist()}, index = ind_ser)\n",
    "print(ser1)\n",
    "print(df)"
   ]
  },
  {
   "cell_type": "code",
   "execution_count": null,
   "id": "015279f6-fadf-41cd-a412-969437352e08",
   "metadata": {},
   "outputs": [],
   "source": [
    "37. Write a Pandas program to stack two given series vertically and horizontally"
   ]
  },
  {
   "cell_type": "code",
   "execution_count": 53,
   "id": "fff6ec95-d150-454e-a513-04ae608d7380",
   "metadata": {},
   "outputs": [
    {
     "name": "stdout",
     "output_type": "stream",
     "text": [
      "0    40\n",
      "1    78\n",
      "2    64\n",
      "3    41\n",
      "4    81\n",
      "5    70\n",
      "6    54\n",
      "7    96\n",
      "8    47\n",
      "9    44\n",
      "0    94\n",
      "1    38\n",
      "2    82\n",
      "3    48\n",
      "4    86\n",
      "5    74\n",
      "6    65\n",
      "7    60\n",
      "8    10\n",
      "9    63\n",
      "dtype: int32\n",
      "    0   1\n",
      "0  40  94\n",
      "1  78  38\n",
      "2  64  82\n",
      "3  41  48\n",
      "4  81  86\n",
      "5  70  74\n",
      "6  54  65\n",
      "7  96  60\n",
      "8  47  10\n",
      "9  44  63\n"
     ]
    }
   ],
   "source": [
    "\n",
    "\n",
    "ser1 = pd.Series(np.random.randint(10, 100, 10))\n",
    "ser2 = pd.Series(np.random.randint(10, 100, 10))\n",
    "vcon = pd.concat((ser1, ser2), axis = 0)\n",
    "hcon = pd.concat((ser1, ser2), axis = 1)\n",
    "print(vcon)\n",
    "print(hcon)"
   ]
  },
  {
   "cell_type": "code",
   "execution_count": null,
   "id": "875634e5-878e-4b1f-b759-05ef990efb1c",
   "metadata": {},
   "outputs": [],
   "source": [
    "38. Write a Pandas program to check the equality of two given series."
   ]
  },
  {
   "cell_type": "code",
   "execution_count": 55,
   "id": "15ab0c43-8104-4898-9a61-b37d3992bfbd",
   "metadata": {},
   "outputs": [
    {
     "name": "stdout",
     "output_type": "stream",
     "text": [
      "0    False\n",
      "1     True\n",
      "2    False\n",
      "3     True\n",
      "4    False\n",
      "dtype: bool\n"
     ]
    }
   ],
   "source": [
    "ser1 = pd.Series([1, 2, 3, 4, 5])\n",
    "ser2 = pd.Series([10, 2, 30, 4, 50])\n",
    "print(ser1 == ser2)"
   ]
  },
  {
   "cell_type": "code",
   "execution_count": null,
   "id": "86958411-2006-423f-b685-0cde3f5b9c8f",
   "metadata": {},
   "outputs": [],
   "source": [
    "39. Write a Pandas program to find the index of the first occurrence of the smallest and \n",
    "largest value of a given series."
   ]
  },
  {
   "cell_type": "code",
   "execution_count": 61,
   "id": "7880ba93-02b2-4683-9742-0617a2cef51e",
   "metadata": {},
   "outputs": [
    {
     "name": "stdout",
     "output_type": "stream",
     "text": [
      "[71, 21, 80, 23, 55, 86, 84, 71, 23, 25]\n"
     ]
    },
    {
     "data": {
      "text/plain": [
       "(1, 5)"
      ]
     },
     "execution_count": 61,
     "metadata": {},
     "output_type": "execute_result"
    }
   ],
   "source": [
    "ser = pd.Series(np.random.randint(10, 100, 10))\n",
    "print(ser.tolist())\n",
    "ser.idxmin(), ser.idxmax()"
   ]
  },
  {
   "cell_type": "code",
   "execution_count": null,
   "id": "766d5148-1849-4e04-afd2-bb4be92f0054",
   "metadata": {},
   "outputs": [],
   "source": [
    "40. Write a Pandas program to check inequality over the index axis of a given dataframe \n",
    "and a given series."
   ]
  },
  {
   "cell_type": "code",
   "execution_count": 67,
   "id": "bcd6026b-f2a0-4f4b-9c77-87ec8da9c9ad",
   "metadata": {},
   "outputs": [
    {
     "data": {
      "text/html": [
       "<div>\n",
       "<style scoped>\n",
       "    .dataframe tbody tr th:only-of-type {\n",
       "        vertical-align: middle;\n",
       "    }\n",
       "\n",
       "    .dataframe tbody tr th {\n",
       "        vertical-align: top;\n",
       "    }\n",
       "\n",
       "    .dataframe thead th {\n",
       "        text-align: right;\n",
       "    }\n",
       "</style>\n",
       "<table border=\"1\" class=\"dataframe\">\n",
       "  <thead>\n",
       "    <tr style=\"text-align: right;\">\n",
       "      <th></th>\n",
       "      <th>col1</th>\n",
       "      <th>col2</th>\n",
       "      <th>col3</th>\n",
       "      <th>col4</th>\n",
       "    </tr>\n",
       "  </thead>\n",
       "  <tbody>\n",
       "    <tr>\n",
       "      <th>0</th>\n",
       "      <td>True</td>\n",
       "      <td>False</td>\n",
       "      <td>False</td>\n",
       "      <td>False</td>\n",
       "    </tr>\n",
       "    <tr>\n",
       "      <th>1</th>\n",
       "      <td>False</td>\n",
       "      <td>False</td>\n",
       "      <td>False</td>\n",
       "      <td>True</td>\n",
       "    </tr>\n",
       "    <tr>\n",
       "      <th>2</th>\n",
       "      <td>False</td>\n",
       "      <td>False</td>\n",
       "      <td>True</td>\n",
       "      <td>False</td>\n",
       "    </tr>\n",
       "    <tr>\n",
       "      <th>3</th>\n",
       "      <td>False</td>\n",
       "      <td>True</td>\n",
       "      <td>False</td>\n",
       "      <td>False</td>\n",
       "    </tr>\n",
       "    <tr>\n",
       "      <th>4</th>\n",
       "      <td>False</td>\n",
       "      <td>False</td>\n",
       "      <td>False</td>\n",
       "      <td>False</td>\n",
       "    </tr>\n",
       "    <tr>\n",
       "      <th>5</th>\n",
       "      <td>True</td>\n",
       "      <td>True</td>\n",
       "      <td>True</td>\n",
       "      <td>True</td>\n",
       "    </tr>\n",
       "    <tr>\n",
       "      <th>6</th>\n",
       "      <td>False</td>\n",
       "      <td>False</td>\n",
       "      <td>False</td>\n",
       "      <td>True</td>\n",
       "    </tr>\n",
       "    <tr>\n",
       "      <th>7</th>\n",
       "      <td>False</td>\n",
       "      <td>False</td>\n",
       "      <td>True</td>\n",
       "      <td>False</td>\n",
       "    </tr>\n",
       "  </tbody>\n",
       "</table>\n",
       "</div>"
      ],
      "text/plain": [
       "    col1   col2   col3   col4\n",
       "0   True  False  False  False\n",
       "1  False  False  False   True\n",
       "2  False  False   True  False\n",
       "3  False   True  False  False\n",
       "4  False  False  False  False\n",
       "5   True   True   True   True\n",
       "6  False  False  False   True\n",
       "7  False  False   True  False"
      ]
     },
     "execution_count": 67,
     "metadata": {},
     "output_type": "execute_result"
    }
   ],
   "source": [
    "ser1 = pd.Series([10, 2, 3, 4, 5, 60, 7, 9])\n",
    "ser2 = pd.Series([1, 2, 3, 40, 5, 60, 7, 9])\n",
    "ser3 = pd.Series([1, 2, 30, 4, 5, 60, 7, 90])\n",
    "ser4 = pd.Series([1, 20, 3, 4, 5, 60, 70, 9])\n",
    "sercrit = pd.Series([1, 2, 3, 4, 5, 6, 7, 9])\n",
    "df = pd.DataFrame(data = {\"col1\" : ser1, \"col2\" : ser2, \"col3\" : ser3, \"col4\" : ser4})\n",
    "df.ne(sercrit, axis = 0)"
   ]
  }
 ],
 "metadata": {
  "kernelspec": {
   "display_name": "Python 3 (ipykernel)",
   "language": "python",
   "name": "python3"
  },
  "language_info": {
   "codemirror_mode": {
    "name": "ipython",
    "version": 3
   },
   "file_extension": ".py",
   "mimetype": "text/x-python",
   "name": "python",
   "nbconvert_exporter": "python",
   "pygments_lexer": "ipython3",
   "version": "3.12.4"
  }
 },
 "nbformat": 4,
 "nbformat_minor": 5
}
