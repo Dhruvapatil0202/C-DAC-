{
 "cells": [
  {
   "cell_type": "code",
   "execution_count": 37,
   "id": "ab28a5fe-6f54-412e-8a3f-7219e4d701ca",
   "metadata": {},
   "outputs": [],
   "source": [
    "from pulp import * "
   ]
  },
  {
   "cell_type": "code",
   "execution_count": 113,
   "id": "fb0b8eaf-64bb-47f9-96ba-5074615913b1",
   "metadata": {},
   "outputs": [],
   "source": [
    "model = LpProblem(\"CarProductionProblem\", LpMaximize)\n",
    "\n",
    "# Create 2 variables for Cars A and B\n",
    "# Parameters: Name, Lower limit, Upper Limit, Data type\n",
    "\n",
    "car_A = LpVariable(\"A\", 0, None,LpInteger) # Car A production\n",
    "car_B = LpVariable(\"B\", 0, None, LpInteger) # Car B production"
   ]
  },
  {
   "cell_type": "code",
   "execution_count": 115,
   "id": "8a19d0d8-38e0-4237-b7f0-81e3481cd606",
   "metadata": {},
   "outputs": [],
   "source": [
    "model += 30000 * car_A + 45000 * car_B, \"Profit\""
   ]
  },
  {
   "cell_type": "code",
   "execution_count": 117,
   "id": "66cb0c05-180f-4ce4-ad4f-210bbc409587",
   "metadata": {},
   "outputs": [],
   "source": [
    "# Create three constraints\n",
    "model += 3 * car_A + 4 * car_B <= 30, \"Material Constraint 1\" \n",
    "model += 5 * car_A + 6 * car_B <= 60, \"Material Constraint 2\"\n",
    "model += 1.5 * car_A + 3 * car_B <= 21, \"Labor Constraint\" \n",
    "\n"
   ]
  },
  {
   "cell_type": "code",
   "execution_count": 119,
   "id": "de34dbbb-dab5-4adf-843f-aae61fb0d5f2",
   "metadata": {},
   "outputs": [],
   "source": [
    "# Limit of total number of cars\n",
    "# model += car_A + car_B <= 8"
   ]
  },
  {
   "cell_type": "code",
   "execution_count": 121,
   "id": "77f286c3-0a17-4e60-bf21-2b8dca18ed40",
   "metadata": {},
   "outputs": [],
   "source": [
    "# Optional constraint - Minimum production of Car A\n",
    "# model += car_A >= 5, \"Minimum A production\""
   ]
  },
  {
   "cell_type": "code",
   "execution_count": 123,
   "id": "6a1f3448-ea6c-46c2-9d9a-1fa16756a18a",
   "metadata": {},
   "outputs": [
    {
     "data": {
      "text/plain": [
       "1"
      ]
     },
     "execution_count": 123,
     "metadata": {},
     "output_type": "execute_result"
    }
   ],
   "source": [
    "# The Problem is solved using PuLP's choice of Solver\n",
    "model.solve()"
   ]
  },
  {
   "cell_type": "code",
   "execution_count": 125,
   "id": "80c4b7ac-b5de-4ade-aa06-f334af200509",
   "metadata": {},
   "outputs": [
    {
     "name": "stdout",
     "output_type": "stream",
     "text": [
      "A = 2.0\n",
      "B = 6.0\n"
     ]
    }
   ],
   "source": [
    "for v in model.variables():\n",
    "    print(v.name, \"=\", v.varValue)\n",
    "\n"
   ]
  },
  {
   "cell_type": "code",
   "execution_count": 127,
   "id": "0676d2df-b4ca-4f8b-951d-fb2cefd478ed",
   "metadata": {},
   "outputs": [
    {
     "name": "stdout",
     "output_type": "stream",
     "text": [
      "Total Profit: 330000.0\n"
     ]
    }
   ],
   "source": [
    "# Additional Information (OPtional)\n",
    "print(\"Total Profit:\", value(model.objective))"
   ]
  },
  {
   "cell_type": "code",
   "execution_count": null,
   "id": "b6754e9a-b824-4f39-822a-bb7901931ec1",
   "metadata": {},
   "outputs": [],
   "source": []
  },
  {
   "cell_type": "code",
   "execution_count": null,
   "id": "db256233-8443-4b77-a306-b8f51f4ea152",
   "metadata": {},
   "outputs": [],
   "source": []
  }
 ],
 "metadata": {
  "kernelspec": {
   "display_name": "Python 3 (ipykernel)",
   "language": "python",
   "name": "python3"
  },
  "language_info": {
   "codemirror_mode": {
    "name": "ipython",
    "version": 3
   },
   "file_extension": ".py",
   "mimetype": "text/x-python",
   "name": "python",
   "nbconvert_exporter": "python",
   "pygments_lexer": "ipython3",
   "version": "3.12.4"
  }
 },
 "nbformat": 4,
 "nbformat_minor": 5
}
