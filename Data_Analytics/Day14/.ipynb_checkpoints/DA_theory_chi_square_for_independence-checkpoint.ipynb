{
 "cells": [
  {
   "cell_type": "code",
   "execution_count": 11,
   "id": "b835fe39-74ef-4b38-8543-0717f19d54d7",
   "metadata": {},
   "outputs": [],
   "source": [
    "from pandas import read_csv, crosstab\n",
    "from scipy.stats import chi2_contingency\n",
    "\n",
    "df = read_csv(\"airline_passenger_satisfaction.csv\")\n",
    "male_df = df[ df['Gender'] == \"Male\"]\n",
    "\n",
    "category1 = \"Class\"\n",
    "category2= \"On-board Service\""
   ]
  },
  {
   "cell_type": "code",
   "execution_count": 17,
   "id": "6b65fe26-6c98-46a9-bbff-7f83f621b799",
   "metadata": {},
   "outputs": [],
   "source": [
    "ct =  crosstab(male_df[category1], male_df[category2])"
   ]
  },
  {
   "cell_type": "code",
   "execution_count": 23,
   "id": "d9b5ff82-8e13-4437-bfd7-b594527dd2d5",
   "metadata": {},
   "outputs": [],
   "source": [
    "# Perform chi-square test\n",
    "chi2, pval, degrees_of_freedom, expected_counts = chi2_contingency(ct)\n"
   ]
  },
  {
   "cell_type": "code",
   "execution_count": 25,
   "id": "2f220c0f-16b8-4077-a90c-5dc540556eca",
   "metadata": {},
   "outputs": [
    {
     "name": "stdout",
     "output_type": "stream",
     "text": [
      "\n",
      "Category1: Class, Category 2: On-board Service (male Passengers)\n",
      "On-board Service  0     1     2     3      4     5\n",
      "Class                                             \n",
      "Business          2  2053  3379  5826  10743  8894\n",
      "Economy           0  4420  4430  7403   7535  4851\n",
      "Economy Plus      0   791   792  1118   1076   668\n",
      "Chi_square: 3277.66, p-value: 0.0000, Degrees of Freedom: 10\n"
     ]
    }
   ],
   "source": [
    "# Print results\n",
    "print(f\"\\nCategory1: {category1}, Category 2: {category2} (male Passengers)\")\n",
    "print(ct)\n",
    "print(f\"Chi_square: {chi2:.2f}, p-value: {pval:.4f}, Degrees of Freedom: {degrees_of_freedom}\")"
   ]
  },
  {
   "cell_type": "code",
   "execution_count": 27,
   "id": "ecb7f068-9e8c-46e2-b8ad-e24d1bc18ddf",
   "metadata": {},
   "outputs": [
    {
     "name": "stdout",
     "output_type": "stream",
     "text": [
      "Reject null hypothesis: There's a significant association between class and on-board service rating (p < 0.05).\n"
     ]
    }
   ],
   "source": [
    "# Interpretation\n",
    "if pval < 0.05:\n",
    "    print(\"Reject null hypothesis: There's a significant association between class and on-board service rating (p < 0.05).\")\n",
    "else:\n",
    "    print(\"Fail to reject null hypothesis: Class and on board service rating might be independent (p >= 0.05).\")"
   ]
  }
 ],
 "metadata": {
  "kernelspec": {
   "display_name": "Python 3 (ipykernel)",
   "language": "python",
   "name": "python3"
  },
  "language_info": {
   "codemirror_mode": {
    "name": "ipython",
    "version": 3
   },
   "file_extension": ".py",
   "mimetype": "text/x-python",
   "name": "python",
   "nbconvert_exporter": "python",
   "pygments_lexer": "ipython3",
   "version": "3.12.4"
  }
 },
 "nbformat": 4,
 "nbformat_minor": 5
}
