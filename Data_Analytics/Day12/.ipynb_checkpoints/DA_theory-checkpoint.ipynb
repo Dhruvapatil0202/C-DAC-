{
 "cells": [
  {
   "cell_type": "code",
   "execution_count": 5,
   "id": "9ff3475b-1e8b-4669-896c-668eeb24e61a",
   "metadata": {},
   "outputs": [],
   "source": [
    "import pandas as pd\n",
    "from scipy import stats"
   ]
  },
  {
   "cell_type": "code",
   "execution_count": 7,
   "id": "f784aa1d-e21f-474c-80ba-35e3ecda4fe1",
   "metadata": {},
   "outputs": [],
   "source": [
    "data = pd.read_csv(\"Mall_customers.csv\")\n",
    "age_data = data[\"Age\"]\n"
   ]
  },
  {
   "cell_type": "code",
   "execution_count": 9,
   "id": "48f3e553-9fc1-4bf4-9108-53e279b7f51a",
   "metadata": {},
   "outputs": [],
   "source": [
    "# Hypothesized population average age\n",
    "pop_avg_age = 40"
   ]
  },
  {
   "cell_type": "code",
   "execution_count": 13,
   "id": "5f2315d7-1c07-4700-ab9f-61e300dc12e4",
   "metadata": {},
   "outputs": [],
   "source": [
    "# Perform one-sample t-test\n",
    "t_statistic, p_value = stats.ttest_1samp(age_data, pop_avg_age)\n",
    "degrees_of_freedom = len(age_data) -1 "
   ]
  },
  {
   "cell_type": "code",
   "execution_count": 17,
   "id": "720abe01-7eee-4e0d-b93f-d2ff9b2a5213",
   "metadata": {},
   "outputs": [
    {
     "name": "stdout",
     "output_type": "stream",
     "text": [
      "T-statistic: -1.1642528048895828\n",
      "P-value: 0.24571546680949305\n",
      "Degrees of freedom: 199\n"
     ]
    }
   ],
   "source": [
    "# Print the results\n",
    "print(\"T-statistic:\", t_statistic)\n",
    "print(\"P-value:\", p_value)\n",
    "print(\"Degrees of freedom:\", degrees_of_freedom)\n",
    "\n"
   ]
  },
  {
   "cell_type": "code",
   "execution_count": 21,
   "id": "0b4aeb5c-b2c9-4b1a-80de-2446c4055eb0",
   "metadata": {},
   "outputs": [
    {
     "name": "stdout",
     "output_type": "stream",
     "text": [
      "the null hypothesis (mean age = 40) cannot be rejected.\n",
      "Critical value: 1.971956544249395\n"
     ]
    }
   ],
   "source": [
    "# Interpretation\n",
    "alpha = 0.025\n",
    "if p_value < alpha:\n",
    "    print(\"The null hypothesis (mean age = 40) is rejected.\")\n",
    "else:\n",
    "    print(\"the null hypothesis (mean age = 40) cannot be rejected.\")\n",
    "\n",
    "critical_value = stats.t.ppf(1 - alpha, degrees_of_freedom)\n",
    "print(\"Critical value:\", critical_value)"
   ]
  },
  {
   "cell_type": "code",
   "execution_count": 25,
   "id": "2454dc88-810a-4dec-accb-da0f05d9676a",
   "metadata": {},
   "outputs": [
    {
     "name": "stdout",
     "output_type": "stream",
     "text": [
      "The null hypothesis (mean age = 40) cannot be rejected.\n"
     ]
    }
   ],
   "source": [
    "# Two tailed t-Test (Because we are just checking if sample mean = population mean)\n",
    "# So, we need to take absolute value of t-statistic\n",
    "if (abs(t_statistic) < critical_value):\n",
    "    print(\"The null hypothesis (mean age = 40) cannot be rejected.\")\n",
    "else:\n",
    "    print(\"The null hypothesis (mean age = 40) is rejected.\")"
   ]
  },
  {
   "cell_type": "code",
   "execution_count": null,
   "id": "21cbe81e-8305-4c77-a423-0a9c3f5e3c7f",
   "metadata": {},
   "outputs": [],
   "source": []
  },
  {
   "cell_type": "code",
   "execution_count": 45,
   "id": "dd802de9-df6c-4b2c-9c84-59fabd4eac35",
   "metadata": {},
   "outputs": [],
   "source": [
    "# Seperate data by genere\n",
    "male_spending = data[data['Genre'] == \"Male\"]['Spending Score (1-100)']\n",
    "female_spending = data[data['Genre'] == 'Female']['Spending Score (1-100)']\n",
    "\n",
    "    "
   ]
  },
  {
   "cell_type": "code",
   "execution_count": 47,
   "id": "f5175754-24f0-47d1-aad0-0397f5b7033c",
   "metadata": {},
   "outputs": [],
   "source": [
    "# Perform two 0samplet-test\n",
    "t_statistic, p_value = stats.ttest_ind(male_spending, female_spending)\n",
    "\n",
    "n_male = len(male_spending)\n",
    "n_female = len(female_spending)\n",
    "degrees_of_freedom = n_male + n_female - 2\n",
    "\n",
    "alpha = 0.025"
   ]
  },
  {
   "cell_type": "code",
   "execution_count": 49,
   "id": "d8c1b50c-bb6f-499b-a7a7-bcf54bddec74",
   "metadata": {},
   "outputs": [],
   "source": [
    "# Find the critical value \n",
    "critical_value = stats.t.ppf(1 - alpha, degrees_of_freedom)\n"
   ]
  },
  {
   "cell_type": "code",
   "execution_count": 55,
   "id": "638e53f2-01c5-4c66-aabf-2249672c4770",
   "metadata": {},
   "outputs": [
    {
     "name": "stdout",
     "output_type": "stream",
     "text": [
      "T-statistic: -0.8190464150660334\n",
      "P-value: 0.4137446589852174\n",
      "Critical value: 1.9720174778338955\n"
     ]
    }
   ],
   "source": [
    "# Print the results\n",
    "print(\"T-statistic:\", t_statistic)\n",
    "print(\"P-value:\", p_value)\n",
    "print(\"Critical value:\", critical_value)"
   ]
  },
  {
   "cell_type": "code",
   "execution_count": 59,
   "id": "3542b932-60dd-42c4-a8be-0294a517abdf",
   "metadata": {},
   "outputs": [
    {
     "name": "stdout",
     "output_type": "stream",
     "text": [
      "There is no significant difference in spending score between Male and Female groups.\n",
      "There is no significant difference in spending score between Male and Female groups.\n"
     ]
    }
   ],
   "source": [
    "if p_value < alpha:\n",
    "    print(\"There is a significant difference in spending score betwen Male and Female groups.\")\n",
    "else:\n",
    "    print(\"There is no significant difference in spending score between Male and Female groups.\")\n",
    "\n",
    "if abs(t_statistic) > critical_value:\n",
    "    print(\"There is a significant difference in spending score between Male and Female groups.\")\n",
    "else:\n",
    "    print(\"There is no significant difference in spending score between Male and Female groups.\")"
   ]
  }
 ],
 "metadata": {
  "kernelspec": {
   "display_name": "Python 3 (ipykernel)",
   "language": "python",
   "name": "python3"
  },
  "language_info": {
   "codemirror_mode": {
    "name": "ipython",
    "version": 3
   },
   "file_extension": ".py",
   "mimetype": "text/x-python",
   "name": "python",
   "nbconvert_exporter": "python",
   "pygments_lexer": "ipython3",
   "version": "3.12.4"
  }
 },
 "nbformat": 4,
 "nbformat_minor": 5
}
