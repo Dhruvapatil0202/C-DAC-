{
 "cells": [
  {
   "cell_type": "code",
   "execution_count": 3,
   "id": "116dc1b0-131a-44b7-bf42-c6a739bf7b7c",
   "metadata": {},
   "outputs": [],
   "source": [
    "import pandas as pd\n",
    "import matplotlib.pyplot as plt\n",
    "import numpy as np\n"
   ]
  },
  {
   "cell_type": "markdown",
   "id": "14d11534-1d36-4dc2-a2cd-0eef2271ffe5",
   "metadata": {},
   "source": [
    "Basic concepts in Statistics\n",
    "\n",
    "1. Individual: Item in a data set\n",
    "2. Variable: Property of an individual\n",
    "3. Independent variable (Feature): Used to predict something\n",
    "4. Dependent variable: The predicted value\n",
    "\n",
    "_____________________________________________\n",
    "\n",
    "\n",
    "1. anything that can be measured in Numeric\n",
    "2. anything that cannot be measured is Categorical\n",
    "\n",
    "_____________________________________________\n",
    "\n",
    "Discrete vairable : A variable that has very clearcut distinction is called discrete variable.\n",
    "\n",
    "Continuous variable : A Variable having measureable but it can be divided into infinitely smaller divisions. \n",
    "\n",
    "----------------------------------------------------\n",
    "\n",
    "levels of measurement of data\n",
    "\n",
    "1. Nominal Data: Categorical data with no inherent order or ranking (all categories are equal to each other) ex. Gender, Colour, Cuisine\n",
    "2. Ordinal Data: Categorical data with a meaningful order or ranking, but intervals between ranks are inconsistent or unknown ex. Education level\n",
    "3. Interval Data: Numeric data with meaningful and consistent intervals between them without a true zero point (Ratio cannot be measured) ex. IQ, time of the day, Tempratures in celcius\n",
    "4. Ratio Data: Numeric data where both intervals and ratios are meaningful and there is a true zero point ex. Height, Weight, Income, Distance, Marks\n",
    "\n",
    "--------------------------------------------------------\n",
    "\n",
    "Descriptive Statistics:\n",
    "\n",
    "1. Measures of Location: A single value that represents the \"Centering\" of a set of data, e.g. average\n",
    "2. Also called Measures of Central Tendency\n",
    "\n",
    "Location: How close to the \"avg\" value\n",
    "Dispersion: How much away from the \"avg\" value\n",
    "\n",
    "---------------------------------------------------------\n",
    "\n",
    "measures of location\n",
    "1. Mean (Average): sum of all values / number of values | gets badly effected by outliars\n",
    "2. Median (The middle value): The central value when data is sorted in ascending or descending order. in dataset have even number of values, median is a mean of central two values \n",
    "3. Mode (Data Point that occures most): finding out the frequency of each data point and finding the value with most frequency.\n",
    "\n",
    "------------------------------------------------------------\n",
    "\n",
    "Measures of dispersion\n",
    "1. Range : difference between maximum value and the minimum value in the data set | badly affected by outliars | To prevent the effect of outliars the Inter Quartile Range (IQR is used)\n",
    "2. Variance\n",
    "3. Standard Deviation\n",
    "\n",
    "------------------------------------------------------------\n",
    "\n",
    "Feature Engineering \n",
    "\n",
    "Feature engineering: Transform raw data into meaningful features.\n",
    "Purpose of doing this: to improve performance of the machine learning models\n",
    "How it is done: \n",
    "1. Create new columns (From Date of purchase, create weekday/ Weekend)\n",
    "2. Scale features (Bring features on the same scale, e.g. age and income)\n",
    "3. Encode categorical \n"
   ]
  },
  {
   "cell_type": "code",
   "execution_count": null,
   "id": "a19013a2-22ec-4a2f-86a2-271aee1aa62c",
   "metadata": {},
   "outputs": [],
   "source": []
  }
 ],
 "metadata": {
  "kernelspec": {
   "display_name": "Python 3 (ipykernel)",
   "language": "python",
   "name": "python3"
  },
  "language_info": {
   "codemirror_mode": {
    "name": "ipython",
    "version": 3
   },
   "file_extension": ".py",
   "mimetype": "text/x-python",
   "name": "python",
   "nbconvert_exporter": "python",
   "pygments_lexer": "ipython3",
   "version": "3.12.4"
  }
 },
 "nbformat": 4,
 "nbformat_minor": 5
}
