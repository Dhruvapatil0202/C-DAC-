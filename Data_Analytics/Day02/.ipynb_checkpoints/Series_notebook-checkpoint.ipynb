{
 "cells": [
  {
   "cell_type": "code",
   "execution_count": 1,
   "id": "89ab8dd8-c40a-45cb-ac3a-6e80227b3687",
   "metadata": {},
   "outputs": [],
   "source": [
    "import numpy as np\n",
    "import pandas as pd\n"
   ]
  },
  {
   "cell_type": "code",
   "execution_count": 9,
   "id": "eb0ddf0c-ac4d-427b-88ad-3f5c232a9c9d",
   "metadata": {},
   "outputs": [],
   "source": [
    "# Creating a series from a python List\n",
    "myIndex = [\"USA\", \"Canada\", \"England\"]\n",
    "myData = [1776, 1867, 1821]\n"
   ]
  },
  {
   "cell_type": "code",
   "execution_count": 11,
   "id": "01e0b4e7-3158-4514-a7e0-5682251e28d5",
   "metadata": {},
   "outputs": [
    {
     "name": "stdout",
     "output_type": "stream",
     "text": [
      "0    1776\n",
      "1    1867\n",
      "2    1821\n",
      "dtype: int64\n"
     ]
    }
   ],
   "source": [
    "# Just a numeric index\n",
    "myser = pd.Series(data =myData)\n",
    "print(myser)"
   ]
  },
  {
   "cell_type": "code",
   "execution_count": 15,
   "id": "7454f45d-6b71-4d38-a978-3d8536766feb",
   "metadata": {},
   "outputs": [
    {
     "name": "stdout",
     "output_type": "stream",
     "text": [
      "USA        1776\n",
      "Canada     1867\n",
      "England    1821\n",
      "dtype: int64\n"
     ]
    }
   ],
   "source": [
    "\n",
    "# Now the named index\n",
    "myser = pd.Series(data = myData, index = myIndex)\n",
    "print(myser)"
   ]
  },
  {
   "cell_type": "code",
   "execution_count": null,
   "id": "d590debe-b8bd-4f65-a531-2ae5c1003a1e",
   "metadata": {},
   "outputs": [],
   "source": [
    "\n",
    "# Creating a series from NumPy array\n",
    "# First create a NumPy array using the earlier list\n",
    "ran_data = np.random.randint(0, 100, 4)\n",
    "# print(ran_data)\n",
    "\n",
    "names = [\"name1\", \"name2\", \"name3\", \"name4\"]\n",
    "ages = pd.Series(ran_data, names)\n",
    "print(ages)\n"
   ]
  },
  {
   "cell_type": "code",
   "execution_count": 43,
   "id": "c2821b0c-fbb6-452d-b2fc-50cc905d654b",
   "metadata": {},
   "outputs": [
    {
     "data": {
      "text/plain": [
       "name1    50\n",
       "name2    41\n",
       "name3    59\n",
       "name4    50\n",
       "name5    53\n",
       "dtype: int64"
      ]
     },
     "execution_count": 43,
     "metadata": {},
     "output_type": "execute_result"
    }
   ],
   "source": [
    "\n",
    "# Creating a series using a dictionary\n",
    "dict = {\"name\" + str(i) : j for i, j in enumerate(np.random.randint(40, 60, 5).tolist(), 1)}\n",
    "dict2 = {\"name\" + str(i) : j for i, j in enumerate(np.random.randint(40, 60, 6).tolist(), 1)}\n",
    "temp = pd.Series(dict)\n",
    "temp2 = pd.Series(dict2)\n",
    "temp\n"
   ]
  },
  {
   "cell_type": "code",
   "execution_count": null,
   "id": "38fb0fd6-4244-463b-ac18-d5d6defbdb08",
   "metadata": {
    "scrolled": true
   },
   "outputs": [],
   "source": [
    "# Be careful with potential errors! \n",
    "\n",
    "# Wrong Name\n",
    "print(temp['name6'])\n",
    "\n",
    "# Extra space\n",
    "print(temp['name 5'])\n",
    "\n",
    "# Case mistake \n",
    "print(temp['Name5'])\n"
   ]
  },
  {
   "cell_type": "code",
   "execution_count": 41,
   "id": "f13b6d81-c346-43be-8e68-afcbf41b627c",
   "metadata": {},
   "outputs": [
    {
     "name": "stdout",
     "output_type": "stream",
     "text": [
      "name1    4.7\n",
      "name2    4.4\n",
      "name3    5.2\n",
      "name4    5.3\n",
      "name5    5.1\n",
      "dtype: float64\n"
     ]
    }
   ],
   "source": [
    "\n",
    "# can Perform Operation Broadcasted across entire Series\n",
    "# print(temp * 2)\n",
    "print(temp / 10)"
   ]
  },
  {
   "cell_type": "code",
   "execution_count": 47,
   "id": "4b547c68-1788-40fa-9404-51a5324dedfb",
   "metadata": {},
   "outputs": [
    {
     "name": "stdout",
     "output_type": "stream",
     "text": [
      "name1    104.0\n",
      "name2     96.0\n",
      "name3    108.0\n",
      "name4     95.0\n",
      "name5     99.0\n",
      "name6      NaN\n",
      "dtype: float64\n"
     ]
    }
   ],
   "source": [
    "\n",
    "# Pandas informing about pd.NaN values\n",
    "print(temp + temp2)"
   ]
  },
  {
   "cell_type": "code",
   "execution_count": 49,
   "id": "de5509e5-b2aa-43a8-9a23-1b1dd7d9399e",
   "metadata": {},
   "outputs": [
    {
     "name": "stdout",
     "output_type": "stream",
     "text": [
      "name1    104.0\n",
      "name2     96.0\n",
      "name3    108.0\n",
      "name4     95.0\n",
      "name5     99.0\n",
      "name6     49.0\n",
      "dtype: float64\n"
     ]
    }
   ],
   "source": [
    "\n",
    "# Fill np.NaN values using any matching data type value you want\n",
    "print(temp.add(temp2, fill_value = 0))"
   ]
  },
  {
   "cell_type": "code",
   "execution_count": null,
   "id": "305fde53-29a8-4902-8faa-1303e1db2cbd",
   "metadata": {},
   "outputs": [],
   "source": []
  },
  {
   "cell_type": "code",
   "execution_count": null,
   "id": "182415bb-61c2-40b3-bf82-cb2ac9db3569",
   "metadata": {},
   "outputs": [],
   "source": []
  },
  {
   "cell_type": "code",
   "execution_count": null,
   "id": "826a3f08-581e-4750-8a59-73f67ae33b57",
   "metadata": {},
   "outputs": [],
   "source": []
  }
 ],
 "metadata": {
  "kernelspec": {
   "display_name": "Python 3 (ipykernel)",
   "language": "python",
   "name": "python3"
  },
  "language_info": {
   "codemirror_mode": {
    "name": "ipython",
    "version": 3
   },
   "file_extension": ".py",
   "mimetype": "text/x-python",
   "name": "python",
   "nbconvert_exporter": "python",
   "pygments_lexer": "ipython3",
   "version": "3.12.4"
  }
 },
 "nbformat": 4,
 "nbformat_minor": 5
}
