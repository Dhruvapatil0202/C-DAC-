{
 "cells": [
  {
   "cell_type": "code",
   "execution_count": 1,
   "id": "00415a89-dd6a-47d8-91ed-54cb6586d3c7",
   "metadata": {},
   "outputs": [],
   "source": [
    "import numpy as np"
   ]
  },
  {
   "cell_type": "markdown",
   "id": "4e9bf969-ee40-4d1d-90d5-c07f0cab3fb2",
   "metadata": {},
   "source": [
    "#### Finding version and build configuration of Numpy "
   ]
  },
  {
   "cell_type": "code",
   "execution_count": 3,
   "id": "5b35a49c-25e6-4ce8-bf29-fb920e60aa7d",
   "metadata": {},
   "outputs": [
    {
     "data": {
      "text/plain": [
       "'1.26.4'"
      ]
     },
     "execution_count": 3,
     "metadata": {},
     "output_type": "execute_result"
    }
   ],
   "source": [
    "np.version.version"
   ]
  },
  {
   "cell_type": "code",
   "execution_count": 11,
   "id": "66d2685a-ced9-40fb-bab4-f1b2931e6146",
   "metadata": {},
   "outputs": [
    {
     "name": "stdout",
     "output_type": "stream",
     "text": [
      "Build Dependencies:\n",
      "  blas:\n",
      "    detection method: pkgconfig\n",
      "    found: true\n",
      "    include directory: C:/Users/DAI.STUDENTSDC/AppData/Local/anaconda3/Library/include\n",
      "    lib directory: C:/Users/DAI.STUDENTSDC/AppData/Local/anaconda3/Library/lib\n",
      "    name: mkl-sdl\n",
      "    openblas configuration: unknown\n",
      "    pc file directory: C:\\b\\abs_c1ywpu18ar\\croot\\numpy_and_numpy_base_1708638681471\\_h_env\\Library\\lib\\pkgconfig\n",
      "    version: '2023.1'\n",
      "  lapack:\n",
      "    detection method: internal\n",
      "    found: true\n",
      "    include directory: unknown\n",
      "    lib directory: unknown\n",
      "    name: dep1583119523984\n",
      "    openblas configuration: unknown\n",
      "    pc file directory: unknown\n",
      "    version: 1.26.4\n",
      "Compilers:\n",
      "  c:\n",
      "    commands: cl.exe\n",
      "    linker: link\n",
      "    name: msvc\n",
      "    version: 19.29.30154\n",
      "  c++:\n",
      "    commands: cl.exe\n",
      "    linker: link\n",
      "    name: msvc\n",
      "    version: 19.29.30154\n",
      "  cython:\n",
      "    commands: cython\n",
      "    linker: cython\n",
      "    name: cython\n",
      "    version: 3.0.8\n",
      "Machine Information:\n",
      "  build:\n",
      "    cpu: x86_64\n",
      "    endian: little\n",
      "    family: x86_64\n",
      "    system: windows\n",
      "  host:\n",
      "    cpu: x86_64\n",
      "    endian: little\n",
      "    family: x86_64\n",
      "    system: windows\n",
      "Python Information:\n",
      "  path: C:\\b\\abs_c1ywpu18ar\\croot\\numpy_and_numpy_base_1708638681471\\_h_env\\python.exe\n",
      "  version: '3.12'\n",
      "SIMD Extensions:\n",
      "  baseline:\n",
      "  - SSE\n",
      "  - SSE2\n",
      "  - SSE3\n",
      "  found:\n",
      "  - SSSE3\n",
      "  - SSE41\n",
      "  - POPCNT\n",
      "  - SSE42\n",
      "  - AVX\n",
      "  - F16C\n",
      "  - FMA3\n",
      "  - AVX2\n",
      "  - AVX512F\n",
      "  - AVX512CD\n",
      "  - AVX512_SKX\n",
      "  - AVX512_CLX\n",
      "  not found:\n",
      "  - AVX512_CNL\n",
      "  - AVX512_ICL\n",
      "\n"
     ]
    }
   ],
   "source": [
    "np.show_config()"
   ]
  },
  {
   "cell_type": "markdown",
   "id": "ccc38e2b-4186-46df-bc4b-da030e63337d",
   "metadata": {},
   "source": [
    "#### getting help on add function"
   ]
  },
  {
   "cell_type": "code",
   "execution_count": 29,
   "id": "48ac8f21-3dd7-45e8-afd5-a46a31d103ff",
   "metadata": {},
   "outputs": [
    {
     "name": "stdout",
     "output_type": "stream",
     "text": [
      "Help on ufunc:\n",
      "\n",
      "add = <ufunc 'add'>\n",
      "    add(x1, x2, /, out=None, *, where=True, casting='same_kind', order='K', dtype=None, subok=True[, signature, extobj])\n",
      "\n",
      "    Add arguments element-wise.\n",
      "\n",
      "    Parameters\n",
      "    ----------\n",
      "    x1, x2 : array_like\n",
      "        The arrays to be added.\n",
      "        If ``x1.shape != x2.shape``, they must be broadcastable to a common\n",
      "        shape (which becomes the shape of the output).\n",
      "    out : ndarray, None, or tuple of ndarray and None, optional\n",
      "        A location into which the result is stored. If provided, it must have\n",
      "        a shape that the inputs broadcast to. If not provided or None,\n",
      "        a freshly-allocated array is returned. A tuple (possible only as a\n",
      "        keyword argument) must have length equal to the number of outputs.\n",
      "    where : array_like, optional\n",
      "        This condition is broadcast over the input. At locations where the\n",
      "        condition is True, the `out` array will be set to the ufunc result.\n",
      "        Elsewhere, the `out` array will retain its original value.\n",
      "        Note that if an uninitialized `out` array is created via the default\n",
      "        ``out=None``, locations within it where the condition is False will\n",
      "        remain uninitialized.\n",
      "    **kwargs\n",
      "        For other keyword-only arguments, see the\n",
      "        :ref:`ufunc docs <ufuncs.kwargs>`.\n",
      "\n",
      "    Returns\n",
      "    -------\n",
      "    add : ndarray or scalar\n",
      "        The sum of `x1` and `x2`, element-wise.\n",
      "        This is a scalar if both `x1` and `x2` are scalars.\n",
      "\n",
      "    Notes\n",
      "    -----\n",
      "    Equivalent to `x1` + `x2` in terms of array broadcasting.\n",
      "\n",
      "    Examples\n",
      "    --------\n",
      "    >>> np.add(1.0, 4.0)\n",
      "    5.0\n",
      "    >>> x1 = np.arange(9.0).reshape((3, 3))\n",
      "    >>> x2 = np.arange(3.0)\n",
      "    >>> np.add(x1, x2)\n",
      "    array([[  0.,   2.,   4.],\n",
      "           [  3.,   5.,   7.],\n",
      "           [  6.,   8.,  10.]])\n",
      "\n",
      "    The ``+`` operator can be used as a shorthand for ``np.add`` on ndarrays.\n",
      "\n",
      "    >>> x1 = np.arange(9.0).reshape((3, 3))\n",
      "    >>> x2 = np.arange(3.0)\n",
      "    >>> x1 + x2\n",
      "    array([[ 0.,  2.,  4.],\n",
      "           [ 3.,  5.,  7.],\n",
      "           [ 6.,  8., 10.]])\n",
      "\n"
     ]
    }
   ],
   "source": [
    "help(np.add)\n"
   ]
  },
  {
   "cell_type": "markdown",
   "id": "fac5a22c-ac58-494d-9d30-2855fa06d19f",
   "metadata": {},
   "source": [
    "#### Numpy program to test whether none of the leements of given array is zero"
   ]
  },
  {
   "cell_type": "code",
   "execution_count": 32,
   "id": "a0679129-e165-4ac2-8795-f97cddd0f81e",
   "metadata": {},
   "outputs": [
    {
     "data": {
      "text/plain": [
       "(True, False)"
      ]
     },
     "execution_count": 32,
     "metadata": {},
     "output_type": "execute_result"
    }
   ],
   "source": [
    "q3_arr = np.array([2, 3, 4, 5 ,6 , 7])\n",
    "q3_arr2 = np.array([1, 0, 3, 5, 7, 9])\n",
    "all(q3_arr != 0), all(q3_arr2 != 0)"
   ]
  },
  {
   "cell_type": "markdown",
   "id": "a27e527d-4570-4931-8b3b-bfa96ec69ecb",
   "metadata": {},
   "source": [
    "#### Test whether any of the elements of  given array is non-zero"
   ]
  },
  {
   "cell_type": "code",
   "execution_count": 36,
   "id": "3ef607ed-4aff-4b8d-a8ed-7e818bfef9fd",
   "metadata": {},
   "outputs": [
    {
     "data": {
      "text/plain": [
       "(False, True)"
      ]
     },
     "execution_count": 36,
     "metadata": {},
     "output_type": "execute_result"
    }
   ],
   "source": [
    "q4_a1 = np.zeros(5)\n",
    "q4_a2 = np.array([0, 0, 2, 0, 0])\n",
    "any(q4_a1 != 0), any(q4_a2 != 0)"
   ]
  },
  {
   "cell_type": "markdown",
   "id": "b8aa3530-af0c-4fef-8796-d650dc5c304d",
   "metadata": {},
   "source": [
    "#### 5. Checking finiteness of number"
   ]
  },
  {
   "cell_type": "code",
   "execution_count": 43,
   "id": "a682e1ba-c4ae-4a16-a4d6-92fcd7c3f107",
   "metadata": {},
   "outputs": [
    {
     "data": {
      "text/plain": [
       "array([False,  True, False,  True, False])"
      ]
     },
     "execution_count": 43,
     "metadata": {},
     "output_type": "execute_result"
    }
   ],
   "source": [
    "qfive = np.array([np.inf, 2, np.nan ,4 ,-np.inf])\n",
    "np.isfinite(qfive)"
   ]
  },
  {
   "cell_type": "markdown",
   "id": "a8820ff6-e812-4a1f-9f5e-5be0fe0718e5",
   "metadata": {},
   "source": [
    "#### 6. Checking elementwise positive infinity or negetive infinity "
   ]
  },
  {
   "cell_type": "code",
   "execution_count": 48,
   "id": "c6ac1547-b99a-41c5-aea9-593b6541a204",
   "metadata": {},
   "outputs": [
    {
     "data": {
      "text/plain": [
       "array([False, False, False, False,  True])"
      ]
     },
     "execution_count": 48,
     "metadata": {},
     "output_type": "execute_result"
    }
   ],
   "source": [
    "qsix1 = np.array([np.inf, 2, np.nan ,4 ,-np.inf])\n",
    "np.isneginf(qsix1)"
   ]
  },
  {
   "cell_type": "code",
   "execution_count": 50,
   "id": "5e997a5d-7145-468d-8068-38eab2d35ab3",
   "metadata": {},
   "outputs": [
    {
     "data": {
      "text/plain": [
       "array([ True, False, False, False, False])"
      ]
     },
     "execution_count": 50,
     "metadata": {},
     "output_type": "execute_result"
    }
   ],
   "source": [
    "np.isposinf(qsix1)"
   ]
  },
  {
   "cell_type": "markdown",
   "id": "8d92b3db-179c-4397-a0f9-25539e8c2316",
   "metadata": {},
   "source": [
    "#### 7. Checking elementwise nan value"
   ]
  },
  {
   "cell_type": "code",
   "execution_count": 56,
   "id": "5f3e9b03-1e3a-4060-be43-af09dc118234",
   "metadata": {},
   "outputs": [
    {
     "data": {
      "text/plain": [
       "array([False, False,  True, False, False])"
      ]
     },
     "execution_count": 56,
     "metadata": {},
     "output_type": "execute_result"
    }
   ],
   "source": [
    "qseven = np.array([np.inf, 2, np.nan ,4 ,-np.inf])\n",
    "np.isnan(qseven)"
   ]
  },
  {
   "cell_type": "markdown",
   "id": "765a9b08-e44f-4ab3-805a-c4899872e19d",
   "metadata": {},
   "source": [
    "#### 8. element-wise complex number, real number, saclar type..."
   ]
  },
  {
   "cell_type": "code",
   "execution_count": 111,
   "id": "0dba17b9-7162-41f2-a3ce-090ee595f64c",
   "metadata": {},
   "outputs": [],
   "source": [
    "qeight2 = np.array([1+1j, 1+0j, 4.5, 3, 2, 2j])\n",
    "qeight = np.array([4j, 5, 7, 9, 11, 9+3j])\n",
    "\n"
   ]
  },
  {
   "cell_type": "code",
   "execution_count": 113,
   "id": "6bbfc5f0-8937-4e2e-91f4-0bc29fc9c23f",
   "metadata": {},
   "outputs": [
    {
     "data": {
      "text/plain": [
       "array([ True, False, False, False, False,  True])"
      ]
     },
     "execution_count": 113,
     "metadata": {},
     "output_type": "execute_result"
    }
   ],
   "source": [
    "np.iscomplex(qeight2)"
   ]
  },
  {
   "cell_type": "code",
   "execution_count": 117,
   "id": "a7b2b1cb-0746-4ed3-adf2-97529215414d",
   "metadata": {},
   "outputs": [
    {
     "data": {
      "text/plain": [
       "False"
      ]
     },
     "execution_count": 117,
     "metadata": {},
     "output_type": "execute_result"
    }
   ],
   "source": [
    "np.isscalar(qeight2)"
   ]
  },
  {
   "cell_type": "code",
   "execution_count": 83,
   "id": "384afa7e-a432-4287-a598-2afd9039f05f",
   "metadata": {},
   "outputs": [
    {
     "data": {
      "text/plain": [
       "array([False,  True,  True,  True,  True, False])"
      ]
     },
     "execution_count": 83,
     "metadata": {},
     "output_type": "execute_result"
    }
   ],
   "source": [
    "np.isreal(qeight2)"
   ]
  },
  {
   "cell_type": "markdown",
   "id": "ebca50c8-78ff-454b-874b-213648d4080e",
   "metadata": {},
   "source": [
    "#### 9. Element Wise compareson"
   ]
  },
  {
   "cell_type": "code",
   "execution_count": 89,
   "id": "c00b5c5c-9122-4ee9-8de8-ad6703676936",
   "metadata": {},
   "outputs": [
    {
     "data": {
      "text/plain": [
       "(array([ True, False, False, False, False]),\n",
       " array([ True, False,  True, False, False]),\n",
       " array([False,  True,  True,  True,  True]),\n",
       " array([False,  True, False,  True,  True]))"
      ]
     },
     "execution_count": 89,
     "metadata": {},
     "output_type": "execute_result"
    }
   ],
   "source": [
    "one = np.array([1, 5, 6, 2, 9])\n",
    "two = np.array([2, 4, 6, 1, 8])\n",
    "one < two, one <= two, one >= two, one > two"
   ]
  },
  {
   "cell_type": "markdown",
   "id": "7876abdf-7200-45a1-ac5a-ff35443f0865",
   "metadata": {},
   "source": [
    "#### 10. determine size of arr"
   ]
  },
  {
   "cell_type": "code",
   "execution_count": 95,
   "id": "8f731418-0435-401b-8ef9-ba1e3393a1bc",
   "metadata": {},
   "outputs": [
    {
     "data": {
      "text/plain": [
       "16"
      ]
     },
     "execution_count": 95,
     "metadata": {},
     "output_type": "execute_result"
    }
   ],
   "source": [
    "arr = np.array([1, 7, 13, 105])\n",
    "arr.nbytes"
   ]
  },
  {
   "cell_type": "markdown",
   "id": "d0ce06c7-8c33-4427-bf43-0ebdd803fc8a",
   "metadata": {},
   "source": [
    "#### 11. 10 zeros, 10 ones, 10 fives"
   ]
  },
  {
   "cell_type": "code",
   "execution_count": 97,
   "id": "0d023e87-2815-4928-af5e-384817f56676",
   "metadata": {},
   "outputs": [
    {
     "data": {
      "text/plain": [
       "(array([0., 0., 0., 0., 0., 0., 0., 0., 0., 0.]),\n",
       " array([1., 1., 1., 1., 1., 1., 1., 1., 1., 1.]),\n",
       " array([5., 5., 5., 5., 5., 5., 5., 5., 5., 5.]))"
      ]
     },
     "execution_count": 97,
     "metadata": {},
     "output_type": "execute_result"
    }
   ],
   "source": [
    "np.zeros(10), np.ones(10), np.ones(10) * 5"
   ]
  },
  {
   "cell_type": "markdown",
   "id": "6f729a27-1484-46fd-b87c-bb66ba9cbed6",
   "metadata": {},
   "source": [
    "#### 12. integers from 30 to 70\n"
   ]
  },
  {
   "cell_type": "code",
   "execution_count": 104,
   "id": "830fec2d-d62b-4842-9c6b-9965e0853c00",
   "metadata": {},
   "outputs": [
    {
     "data": {
      "text/plain": [
       "array([30, 31, 32, 33, 34, 35, 36, 37, 38, 39, 40, 41, 42, 43, 44, 45, 46,\n",
       "       47, 48, 49, 50, 51, 52, 53, 54, 55, 56, 57, 58, 59, 60, 61, 62, 63,\n",
       "       64, 65, 66, 67, 68, 69, 70])"
      ]
     },
     "execution_count": 104,
     "metadata": {},
     "output_type": "execute_result"
    }
   ],
   "source": [
    "np.arange(30, 71)"
   ]
  },
  {
   "cell_type": "markdown",
   "id": "41364a74-29fe-49ce-b7bc-72bccc391073",
   "metadata": {},
   "source": [
    "#### 13. Even numbers in range 30, 70"
   ]
  },
  {
   "cell_type": "code",
   "execution_count": 121,
   "id": "10ea67ab-b441-4b2a-add2-aa4b58f1d5b6",
   "metadata": {},
   "outputs": [
    {
     "data": {
      "text/plain": [
       "array([30, 32, 34, 36, 38, 40, 42, 44, 46, 48, 50, 52, 54, 56, 58, 60, 62,\n",
       "       64, 66, 68, 70])"
      ]
     },
     "execution_count": 121,
     "metadata": {},
     "output_type": "execute_result"
    }
   ],
   "source": [
    "np.arange(30, 71, 2)"
   ]
  },
  {
   "cell_type": "markdown",
   "id": "1debffa2-4a6e-40d6-a8ba-d57fbb0d593b",
   "metadata": {},
   "source": [
    "#### 14. 3x3 identity matrix"
   ]
  },
  {
   "cell_type": "code",
   "execution_count": 131,
   "id": "6a1030be-190e-4737-a032-9da8a652d025",
   "metadata": {},
   "outputs": [
    {
     "data": {
      "text/plain": [
       "array([[1., 0., 0.],\n",
       "       [0., 1., 0.],\n",
       "       [0., 0., 1.]])"
      ]
     },
     "execution_count": 131,
     "metadata": {},
     "output_type": "execute_result"
    }
   ],
   "source": [
    "np.identity(3)"
   ]
  },
  {
   "cell_type": "markdown",
   "id": "5bd435f8-de45-4573-b63d-8966c3d0f7ab",
   "metadata": {},
   "source": [
    "#### 15. RANDOM NUMBER BETWEEN 0 AND 1"
   ]
  },
  {
   "cell_type": "code",
   "execution_count": 139,
   "id": "a975feb4-84e6-4a1a-bf40-2945e2b68645",
   "metadata": {},
   "outputs": [
    {
     "data": {
      "text/plain": [
       "array([0.73369289])"
      ]
     },
     "execution_count": 139,
     "metadata": {},
     "output_type": "execute_result"
    }
   ],
   "source": [
    "np.random.rand(1)"
   ]
  },
  {
   "cell_type": "markdown",
   "id": "fafa217f-dc04-42be-a595-13c32460520e",
   "metadata": {},
   "source": [
    "#### 16. 15 random numbers in normal destribution"
   ]
  },
  {
   "cell_type": "code",
   "execution_count": 143,
   "id": "b5e4aa89-9e29-46ad-b7c1-b0fc413141e4",
   "metadata": {},
   "outputs": [
    {
     "data": {
      "text/plain": [
       "array([-0.73998499, -1.68388572,  1.67026673,  0.09520836, -0.10051829,\n",
       "        0.83872766,  0.39103946,  0.40211391, -0.50421066, -1.69111563,\n",
       "       -0.38457945,  0.89509655,  0.96328908, -1.09825119, -0.69139662])"
      ]
     },
     "execution_count": 143,
     "metadata": {},
     "output_type": "execute_result"
    }
   ],
   "source": [
    "np.random.randn(15)"
   ]
  },
  {
   "cell_type": "markdown",
   "id": "fc2fe806-8888-467b-82bc-0a71be1ccb64",
   "metadata": {},
   "source": [
    "#### 17. vector with values 15 to 55 and print with first and last"
   ]
  },
  {
   "cell_type": "code",
   "execution_count": 154,
   "id": "bc72b040-fa24-413e-9c16-a9acd09b2cbb",
   "metadata": {},
   "outputs": [
    {
     "data": {
      "text/plain": [
       "array([16, 17, 18, 19, 20, 21, 22, 23, 24, 25, 26, 27, 28, 29, 30, 31, 32,\n",
       "       33, 34, 35, 36, 37, 38, 39, 40, 41, 42, 43, 44, 45, 46, 47, 48, 49,\n",
       "       50, 51, 52, 53, 54])"
      ]
     },
     "execution_count": 154,
     "metadata": {},
     "output_type": "execute_result"
    }
   ],
   "source": [
    "np.arange(15, 56)[1:-1]"
   ]
  },
  {
   "cell_type": "markdown",
   "id": "5fd5839d-bca0-4bea-b905-9ebd52e5f837",
   "metadata": {},
   "source": [
    "#### 18. 3X4 array"
   ]
  },
  {
   "cell_type": "code",
   "execution_count": 168,
   "id": "50317017-c105-4581-b453-75fbadc0e05a",
   "metadata": {},
   "outputs": [
    {
     "data": {
      "text/plain": [
       "array([[1, 2, 3, 4],\n",
       "       [1, 3, 4, 6],\n",
       "       [2, 3, 6, 9]])"
      ]
     },
     "execution_count": 168,
     "metadata": {},
     "output_type": "execute_result"
    }
   ],
   "source": [
    "np.array([1, 2, 3, 4, 1, 3 ,4, 6, 2, 3, 6, 9]).reshape(3, 4)"
   ]
  },
  {
   "cell_type": "markdown",
   "id": "8f1db9fe-4ca3-4642-aa0c-e38c1ab33850",
   "metadata": {},
   "source": [
    "#### 19. 10 values with values evenly destributed between 5 and 50"
   ]
  },
  {
   "cell_type": "code",
   "execution_count": 172,
   "id": "bbb0cd9e-cfc2-434b-a63c-40eb96f47b4e",
   "metadata": {},
   "outputs": [
    {
     "data": {
      "text/plain": [
       "array([ 5., 10., 15., 20., 25., 30., 35., 40., 45., 50.])"
      ]
     },
     "execution_count": 172,
     "metadata": {},
     "output_type": "execute_result"
    }
   ],
   "source": [
    "np.linspace(5, 50, 10)"
   ]
  },
  {
   "cell_type": "markdown",
   "id": "f9e565ba-3f8d-43d2-aa9a-dbc607e58854",
   "metadata": {},
   "source": [
    "#### 20. create array and change sign within specific range"
   ]
  },
  {
   "cell_type": "code",
   "execution_count": 182,
   "id": "554f2975-c0be-46b0-aab2-02592f9951e8",
   "metadata": {},
   "outputs": [
    {
     "data": {
      "text/plain": [
       "array([  0,   1,   2,   3,   4,   5,   6,   7,   8,  -9, -10, -11, -12,\n",
       "       -13, -14, -15,  16,  17,  18,  19,  20])"
      ]
     },
     "execution_count": 182,
     "metadata": {},
     "output_type": "execute_result"
    }
   ],
   "source": [
    "arr = np.arange(0, 21)\n",
    "arr[9:16] *= -1\n",
    "arr"
   ]
  },
  {
   "cell_type": "markdown",
   "id": "8d76f14b-cf43-47b2-85e5-adde511f60c3",
   "metadata": {},
   "source": [
    "#### 21. random integers, array of length 5, elements within range(0, 10)"
   ]
  },
  {
   "cell_type": "code",
   "execution_count": 188,
   "id": "255ededd-a7dd-4ce1-8d17-34d4015c8bb5",
   "metadata": {},
   "outputs": [
    {
     "data": {
      "text/plain": [
       "array([1, 1, 9, 8, 0])"
      ]
     },
     "execution_count": 188,
     "metadata": {},
     "output_type": "execute_result"
    }
   ],
   "source": [
    "np.random.randint(0, 10, 5)"
   ]
  },
  {
   "cell_type": "markdown",
   "id": "dd19bc56-887c-4cf7-8266-51f3a7a4bd67",
   "metadata": {},
   "source": [
    "#### 22. Multiplying values of two given vectors"
   ]
  },
  {
   "cell_type": "code",
   "execution_count": 197,
   "id": "041b72b7-e02a-443e-9d69-e8a77e5c1bc3",
   "metadata": {},
   "outputs": [
    {
     "data": {
      "text/plain": [
       "array([ 2,  6,  5, 21, 81])"
      ]
     },
     "execution_count": 197,
     "metadata": {},
     "output_type": "execute_result"
    }
   ],
   "source": [
    "vec1 = np.array([2, 3, 5, 7, 9])\n",
    "vec2 = np.array([1, 2, 1, 3, 9])\n",
    "vec1 * vec2"
   ]
  },
  {
   "cell_type": "markdown",
   "id": "151da488-9fc5-44d1-aceb-5d21a994dff8",
   "metadata": {},
   "source": [
    "#### 23. 3x4 matrix with values filled with numbers in range(10, 21)"
   ]
  },
  {
   "cell_type": "code",
   "execution_count": 204,
   "id": "e245acca-5554-4e7c-965a-69b671e9b58c",
   "metadata": {},
   "outputs": [
    {
     "data": {
      "text/plain": [
       "array([[10, 11, 12, 13],\n",
       "       [14, 15, 16, 17],\n",
       "       [18, 19, 20, 21]])"
      ]
     },
     "execution_count": 204,
     "metadata": {},
     "output_type": "execute_result"
    }
   ],
   "source": [
    "np.arange(10, 22).reshape(3, 4)"
   ]
  },
  {
   "cell_type": "markdown",
   "id": "aa85907a-ba09-4beb-88c8-7e063995beec",
   "metadata": {},
   "source": [
    "#### 24. number of rows and columns of given matrix"
   ]
  },
  {
   "cell_type": "code",
   "execution_count": 209,
   "id": "c47bc242-8424-4774-b886-97d6961e3e0f",
   "metadata": {},
   "outputs": [
    {
     "data": {
      "text/plain": [
       "(3, 4)"
      ]
     },
     "execution_count": 209,
     "metadata": {},
     "output_type": "execute_result"
    }
   ],
   "source": [
    "np.arange(10, 22).reshape(3, 4).shape"
   ]
  },
  {
   "cell_type": "markdown",
   "id": "ee48a8f5-5d21-42bd-bddb-471870c7867a",
   "metadata": {},
   "source": [
    "#### 25. 3x3 identity matrix "
   ]
  },
  {
   "cell_type": "code",
   "execution_count": 217,
   "id": "5adef713-b2c1-4e0c-a03d-4935158f5860",
   "metadata": {},
   "outputs": [
    {
     "data": {
      "text/plain": [
       "array([[1., 0., 0.],\n",
       "       [0., 1., 0.],\n",
       "       [0., 0., 1.]])"
      ]
     },
     "execution_count": 217,
     "metadata": {},
     "output_type": "execute_result"
    }
   ],
   "source": [
    "np.identity(3)"
   ]
  },
  {
   "cell_type": "markdown",
   "id": "74b958ba-dab0-4b77-8851-cc3042df4bbc",
   "metadata": {},
   "source": [
    "#### 26. 10 x 10 matrix with border 1 and inside 0"
   ]
  },
  {
   "cell_type": "code",
   "execution_count": 439,
   "id": "569f0fc5-17e4-45fd-b9c1-8ce8e9385957",
   "metadata": {},
   "outputs": [
    {
     "data": {
      "text/plain": [
       "array([[1., 1., 1., 1., 1., 1., 1., 1., 1., 1., 1., 1.],\n",
       "       [1., 0., 0., 0., 0., 0., 0., 0., 0., 0., 0., 1.],\n",
       "       [1., 0., 1., 1., 1., 1., 1., 1., 1., 1., 0., 1.],\n",
       "       [1., 0., 1., 2., 2., 2., 2., 2., 2., 1., 0., 1.],\n",
       "       [1., 0., 1., 2., 3., 3., 3., 3., 2., 1., 0., 1.],\n",
       "       [1., 0., 1., 2., 3., 4., 4., 3., 2., 1., 0., 1.],\n",
       "       [1., 0., 1., 2., 3., 4., 4., 3., 2., 1., 0., 1.],\n",
       "       [1., 0., 1., 2., 3., 3., 3., 3., 2., 1., 0., 1.],\n",
       "       [1., 0., 1., 2., 2., 2., 2., 2., 2., 1., 0., 1.],\n",
       "       [1., 0., 1., 1., 1., 1., 1., 1., 1., 1., 0., 1.],\n",
       "       [1., 0., 0., 0., 0., 0., 0., 0., 0., 0., 0., 1.],\n",
       "       [1., 1., 1., 1., 1., 1., 1., 1., 1., 1., 1., 1.]])"
      ]
     },
     "execution_count": 439,
     "metadata": {},
     "output_type": "execute_result"
    }
   ],
   "source": [
    "arr = np.ones((12, 12))\n",
    "for i in range(1, 6):\n",
    "    arr[ i : -i , i : -i, ] = i-1\n",
    "arr"
   ]
  },
  {
   "cell_type": "markdown",
   "id": "6b74bb12-2a04-4311-8781-d8833924de19",
   "metadata": {},
   "source": [
    "#### 27. 5 x 5 0 matrix with diagonal elements = 1, 2, 3, 4, 5"
   ]
  },
  {
   "cell_type": "code",
   "execution_count": 235,
   "id": "35609d69-8a78-4773-8139-5f3b9d922508",
   "metadata": {},
   "outputs": [
    {
     "data": {
      "text/plain": [
       "array([[1, 0, 0, 0, 0],\n",
       "       [0, 2, 0, 0, 0],\n",
       "       [0, 0, 3, 0, 0],\n",
       "       [0, 0, 0, 4, 0],\n",
       "       [0, 0, 0, 0, 5]])"
      ]
     },
     "execution_count": 235,
     "metadata": {},
     "output_type": "execute_result"
    }
   ],
   "source": [
    "np.diagflat([[1, 2, 3, 4, 5]])"
   ]
  },
  {
   "cell_type": "markdown",
   "id": "65dd39c0-4747-44d9-a8b4-1d738751fac9",
   "metadata": {},
   "source": [
    "#### 28. 3 x 3 x 3 array with random values"
   ]
  },
  {
   "cell_type": "code",
   "execution_count": 244,
   "id": "b36ea78b-b752-4d44-8be4-f9d7619c23ff",
   "metadata": {},
   "outputs": [
    {
     "data": {
      "text/plain": [
       "array([[[38, 10, 75],\n",
       "        [64, 29, 84],\n",
       "        [83, 78, 60]],\n",
       "\n",
       "       [[ 1,  2, 13],\n",
       "        [38, 92, 58],\n",
       "        [42, 78, 58]],\n",
       "\n",
       "       [[55, 23, 51],\n",
       "        [31, 14,  7],\n",
       "        [69,  5, 33]]])"
      ]
     },
     "execution_count": 244,
     "metadata": {},
     "output_type": "execute_result"
    }
   ],
   "source": [
    "np.random.randint(1, 100, (3, 3, 3))"
   ]
  },
  {
   "cell_type": "markdown",
   "id": "2d547d07-e0c3-498b-9905-47843e67e473",
   "metadata": {},
   "source": [
    "#### 29. Inner product"
   ]
  },
  {
   "cell_type": "code",
   "execution_count": 301,
   "id": "5cdd6613-f1c6-4c1d-bc43-84dfe2fad977",
   "metadata": {},
   "outputs": [
    {
     "data": {
      "text/plain": [
       "(array([1, 2, 3, 4]), array([6, 7, 8, 9]), 80)"
      ]
     },
     "execution_count": 301,
     "metadata": {},
     "output_type": "execute_result"
    }
   ],
   "source": [
    "ar1 = np.arange(1, 5)\n",
    "ar2 = np.arange(6, 10)\n",
    "ar1, ar2, ar1.dot(ar2)"
   ]
  },
  {
   "cell_type": "code",
   "execution_count": 303,
   "id": "51d305ec-79ca-47ca-84f8-f8d7a718e927",
   "metadata": {},
   "outputs": [
    {
     "data": {
      "text/plain": [
       "80"
      ]
     },
     "execution_count": 303,
     "metadata": {},
     "output_type": "execute_result"
    }
   ],
   "source": [
    "np.inner(ar1, ar2)"
   ]
  },
  {
   "cell_type": "markdown",
   "id": "d9c69377-dbf6-4a43-9668-eb2ec098e005",
   "metadata": {},
   "source": [
    "#### 30. sort by row and column in ascending order"
   ]
  },
  {
   "cell_type": "code",
   "execution_count": 264,
   "id": "7f429745-9ff1-40e8-9875-2c7cf73eb3f0",
   "metadata": {},
   "outputs": [
    {
     "data": {
      "text/plain": [
       "array([[35, 34, 98, 33, 69],\n",
       "       [20, 54, 44, 13, 41],\n",
       "       [29, 82, 47, 30, 62],\n",
       "       [81, 72, 83, 45, 76],\n",
       "       [65, 38, 97, 19, 24]])"
      ]
     },
     "execution_count": 264,
     "metadata": {},
     "output_type": "execute_result"
    }
   ],
   "source": [
    "arr = np.random.randint(10, 100, (5, 5))\n",
    "arr"
   ]
  },
  {
   "cell_type": "code",
   "execution_count": 266,
   "id": "112fdf61-5c25-4dbf-868d-d290bd0d05e9",
   "metadata": {},
   "outputs": [
    {
     "data": {
      "text/plain": [
       "(array([[20, 34, 44, 13, 24],\n",
       "        [29, 38, 47, 19, 41],\n",
       "        [35, 54, 83, 30, 62],\n",
       "        [65, 72, 97, 33, 69],\n",
       "        [81, 82, 98, 45, 76]]),\n",
       " array([[33, 34, 35, 69, 98],\n",
       "        [13, 20, 41, 44, 54],\n",
       "        [29, 30, 47, 62, 82],\n",
       "        [45, 72, 76, 81, 83],\n",
       "        [19, 24, 38, 65, 97]]))"
      ]
     },
     "execution_count": 266,
     "metadata": {},
     "output_type": "execute_result"
    }
   ],
   "source": [
    "np.sort(arr, 0), np.sort(arr, 1)"
   ]
  },
  {
   "cell_type": "markdown",
   "id": "97b7df60-884d-4646-b27e-6002407f209a",
   "metadata": {},
   "source": [
    "#### 31. Extraction "
   ]
  },
  {
   "cell_type": "code",
   "execution_count": 386,
   "id": "e912e9c0-a74a-4695-9e4f-1eece885960c",
   "metadata": {},
   "outputs": [
    {
     "data": {
      "text/plain": [
       "array([46, 45, 16, 12, 38, 46, 32, 44, 37, 37])"
      ]
     },
     "execution_count": 386,
     "metadata": {},
     "output_type": "execute_result"
    }
   ],
   "source": [
    "arr = np.random.randint(10, 50, 10)\n",
    "arr"
   ]
  },
  {
   "cell_type": "code",
   "execution_count": 395,
   "id": "e2adfa81-4a68-4d21-ac9d-ee5b976d62f7",
   "metadata": {},
   "outputs": [
    {
     "data": {
      "text/plain": [
       "array([46, 45, 38, 46, 32, 44, 37, 37])"
      ]
     },
     "execution_count": 395,
     "metadata": {},
     "output_type": "execute_result"
    }
   ],
   "source": [
    "arr[arr > 30]\n"
   ]
  },
  {
   "cell_type": "code",
   "execution_count": 284,
   "id": "2a666c5b-8c1b-4e1b-8ff4-3e1871a4a4c5",
   "metadata": {},
   "outputs": [
    {
     "data": {
      "text/plain": [
       "array([27, 45, 32, 33, 33, 29])"
      ]
     },
     "execution_count": 284,
     "metadata": {},
     "output_type": "execute_result"
    }
   ],
   "source": [
    "np.extract(arr > 20, arr)"
   ]
  },
  {
   "cell_type": "code",
   "execution_count": 286,
   "id": "9126ed4c-4931-465a-a76b-51a547d69b0f",
   "metadata": {},
   "outputs": [
    {
     "data": {
      "text/plain": [
       "array([11, 19, 17, 20])"
      ]
     },
     "execution_count": 286,
     "metadata": {},
     "output_type": "execute_result"
    }
   ],
   "source": [
    "np.extract(arr <= 20, arr)"
   ]
  },
  {
   "cell_type": "markdown",
   "id": "80345fe7-2f78-4737-aa1f-4d8373c8c35a",
   "metadata": {},
   "source": [
    "#### 32. Replacement, less than, greater than, equal to"
   ]
  },
  {
   "cell_type": "code",
   "execution_count": 345,
   "id": "656d3023-7f93-420c-9a77-dcbc92b70017",
   "metadata": {},
   "outputs": [
    {
     "data": {
      "text/plain": [
       "array([5, 7, 7, 6, 6, 5, 6, 5, 5, 6])"
      ]
     },
     "execution_count": 345,
     "metadata": {},
     "output_type": "execute_result"
    }
   ],
   "source": [
    "arr = np.random.randint(5, 8, 10)\n",
    "arr"
   ]
  },
  {
   "cell_type": "code",
   "execution_count": 397,
   "id": "bd77aa7b-d45b-4270-8bc2-d7e9ca06aafe",
   "metadata": {},
   "outputs": [
    {
     "name": "stdout",
     "output_type": "stream",
     "text": [
      "[6 7 6 7 5 6 6 5 6 7]\n"
     ]
    },
    {
     "data": {
      "text/plain": [
       "array([0, 0, 0, 0, 5, 0, 0, 5, 0, 0])"
      ]
     },
     "execution_count": 397,
     "metadata": {},
     "output_type": "execute_result"
    }
   ],
   "source": [
    "arr = np.random.randint(5, 8, 10)\n",
    "print(arr)\n",
    "arr[arr >= 6] = 0\n",
    "arr"
   ]
  },
  {
   "cell_type": "code",
   "execution_count": 405,
   "id": "c6d6338a-a097-403d-a9e9-f6cd41c12791",
   "metadata": {},
   "outputs": [
    {
     "name": "stdout",
     "output_type": "stream",
     "text": [
      "[6 5 6 5 5 6 7 5 6 7]\n"
     ]
    },
    {
     "data": {
      "text/plain": [
       "array([6, 0, 6, 0, 0, 6, 0, 0, 6, 0])"
      ]
     },
     "execution_count": 405,
     "metadata": {},
     "output_type": "execute_result"
    }
   ],
   "source": [
    "arr = np.random.randint(5, 8, 10)\n",
    "print(arr)\n",
    "arr[(arr < 6) | (arr > 6)] = 0\n",
    "arr"
   ]
  },
  {
   "cell_type": "code",
   "execution_count": null,
   "id": "0f6cae1d-6a1d-4015-97fd-357852bcabf8",
   "metadata": {},
   "outputs": [],
   "source": []
  },
  {
   "cell_type": "code",
   "execution_count": null,
   "id": "6e007401-f0c8-4a23-850e-e01740e100f6",
   "metadata": {},
   "outputs": [],
   "source": []
  },
  {
   "cell_type": "code",
   "execution_count": 347,
   "id": "696127f2-4317-4190-8a42-5b2d1b6fe841",
   "metadata": {},
   "outputs": [
    {
     "data": {
      "text/plain": [
       "array([False,  True,  True, False, False, False, False, False, False,\n",
       "       False])"
      ]
     },
     "execution_count": 347,
     "metadata": {},
     "output_type": "execute_result"
    }
   ],
   "source": [
    "arr_bool = arr > 6\n",
    "arr_bool"
   ]
  },
  {
   "cell_type": "code",
   "execution_count": 355,
   "id": "ebfabeb0-1036-4ead-be10-16b2e67e11de",
   "metadata": {},
   "outputs": [
    {
     "data": {
      "text/plain": [
       "array([5, 0, 0, 6, 6, 5, 6, 5, 5, 6])"
      ]
     },
     "execution_count": 355,
     "metadata": {},
     "output_type": "execute_result"
    }
   ],
   "source": [
    "arr[arr_bool] = 0 \n",
    "arr"
   ]
  },
  {
   "cell_type": "code",
   "execution_count": 357,
   "id": "6ccbbfc0-e5a0-44eb-91b1-a6d1b6d63f12",
   "metadata": {},
   "outputs": [
    {
     "data": {
      "text/plain": [
       "array([1, 1, 1, 6, 6, 1, 6, 1, 1, 6])"
      ]
     },
     "execution_count": 357,
     "metadata": {},
     "output_type": "execute_result"
    }
   ],
   "source": [
    "arr[arr < 6] = 1\n",
    "arr"
   ]
  },
  {
   "cell_type": "code",
   "execution_count": 359,
   "id": "86df648b-dc48-41f5-aae6-f4393673057a",
   "metadata": {},
   "outputs": [
    {
     "data": {
      "text/plain": [
       "array([1, 1, 1, 2, 2, 1, 2, 1, 1, 2])"
      ]
     },
     "execution_count": 359,
     "metadata": {},
     "output_type": "execute_result"
    }
   ],
   "source": [
    "arr[arr == 6] = 2\n",
    "arr"
   ]
  },
  {
   "cell_type": "markdown",
   "id": "3cceb1ef-bbc8-4aa0-b20a-1fd62f5ffd1d",
   "metadata": {},
   "source": [
    "#### 33. Program to create an array of equal shape and data type of a given array."
   ]
  },
  {
   "cell_type": "code",
   "execution_count": 407,
   "id": "f38ddbf1-ec11-4b7e-9eed-dfc1d75d99f8",
   "metadata": {},
   "outputs": [
    {
     "data": {
      "text/plain": [
       "dtype('int32')"
      ]
     },
     "execution_count": 407,
     "metadata": {},
     "output_type": "execute_result"
    }
   ],
   "source": [
    "arr = np.random.randint(2, 5, 12).reshape(3, 4)\n",
    "arr.dtype"
   ]
  },
  {
   "cell_type": "code",
   "execution_count": 421,
   "id": "81c186b8-ef1f-449d-9f65-785826a82c0e",
   "metadata": {},
   "outputs": [
    {
     "data": {
      "text/plain": [
       "array([[0, 0, 0, 0],\n",
       "       [0, 0, 0, 0],\n",
       "       [0, 0, 0, 0]])"
      ]
     },
     "execution_count": 421,
     "metadata": {},
     "output_type": "execute_result"
    }
   ],
   "source": [
    "arr2 = np.full_like(arr, 0)\n",
    "arr2"
   ]
  },
  {
   "cell_type": "code",
   "execution_count": 429,
   "id": "8cf7e93e-9094-4bd1-b266-85458a7d4fba",
   "metadata": {},
   "outputs": [
    {
     "data": {
      "text/plain": [
       "array([[ 8,  2,  3, 10,  8],\n",
       "       [ 4,  5,  4, 10,  2]])"
      ]
     },
     "execution_count": 429,
     "metadata": {},
     "output_type": "execute_result"
    }
   ],
   "source": [
    "arr1 = np.random.randint(1,11,10).reshape(2,5)\n",
    "arr1"
   ]
  },
  {
   "cell_type": "code",
   "execution_count": 431,
   "id": "8c883afb-002f-4802-8285-1157267f1a76",
   "metadata": {},
   "outputs": [
    {
     "data": {
      "text/plain": [
       "array([[  4128860,   6029375,   3801155,   5570652,   6619251],\n",
       "       [  7536754, 917831680,       594, 928382976,       594]])"
      ]
     },
     "execution_count": 431,
     "metadata": {},
     "output_type": "execute_result"
    }
   ],
   "source": [
    "newArr = np.empty_like(arr1)\n",
    "newArr"
   ]
  },
  {
   "cell_type": "markdown",
   "id": "404fc45d-53ce-44ee-9e2b-2a48ac557577",
   "metadata": {},
   "source": [
    "#### 34. Three dimensional array and setting it to varialbe"
   ]
  },
  {
   "cell_type": "code",
   "execution_count": 370,
   "id": "3df1d506-371e-4dcc-b55c-11d5d52881a8",
   "metadata": {},
   "outputs": [
    {
     "data": {
      "text/plain": [
       "array([[[ 0,  1,  2,  3,  4],\n",
       "        [ 5,  6,  7,  8,  9],\n",
       "        [10, 11, 12, 13, 14],\n",
       "        [15, 16, 17, 18, 19]],\n",
       "\n",
       "       [[20, 21, 22, 23, 24],\n",
       "        [25, 26, 27, 28, 29],\n",
       "        [30, 31, 32, 33, 34],\n",
       "        [35, 36, 37, 38, 39]],\n",
       "\n",
       "       [[40, 41, 42, 43, 44],\n",
       "        [45, 46, 47, 48, 49],\n",
       "        [50, 51, 52, 53, 54],\n",
       "        [55, 56, 57, 58, 59]]])"
      ]
     },
     "execution_count": 370,
     "metadata": {},
     "output_type": "execute_result"
    }
   ],
   "source": [
    "arr = np.arange(3 * 4 * 5).reshape(3, 4, 5)\n",
    "arr"
   ]
  },
  {
   "cell_type": "markdown",
   "id": "6b2edbc5-34e2-4772-8b8b-a87ed46d9470",
   "metadata": {},
   "source": [
    "#### 35. Numpy program to multiply two given arrays of same size element by element"
   ]
  },
  {
   "cell_type": "code",
   "execution_count": 376,
   "id": "c13ddc80-4301-4b55-b96b-53bcf8448d87",
   "metadata": {},
   "outputs": [
    {
     "data": {
      "text/plain": [
       "array([[169, 221, 288, 225, 306],\n",
       "       [266, 160, 180, 272, 192]])"
      ]
     },
     "execution_count": 376,
     "metadata": {},
     "output_type": "execute_result"
    }
   ],
   "source": [
    "arr = np.random.randint(10, 20, 10).reshape(2, 5)\n",
    "brr = np.random.randint(10, 20, 10).reshape(5, 2)\n",
    "arr * brr.T"
   ]
  },
  {
   "cell_type": "code",
   "execution_count": null,
   "id": "17eaa37e-fbb6-40cd-a21e-d5d8fbc4f127",
   "metadata": {},
   "outputs": [],
   "source": []
  },
  {
   "cell_type": "code",
   "execution_count": null,
   "id": "52a1a0bd-23c7-4695-8899-62750b642eda",
   "metadata": {},
   "outputs": [],
   "source": []
  }
 ],
 "metadata": {
  "kernelspec": {
   "display_name": "Python 3 (ipykernel)",
   "language": "python",
   "name": "python3"
  },
  "language_info": {
   "codemirror_mode": {
    "name": "ipython",
    "version": 3
   },
   "file_extension": ".py",
   "mimetype": "text/x-python",
   "name": "python",
   "nbconvert_exporter": "python",
   "pygments_lexer": "ipython3",
   "version": "3.12.4"
  }
 },
 "nbformat": 4,
 "nbformat_minor": 5
}
