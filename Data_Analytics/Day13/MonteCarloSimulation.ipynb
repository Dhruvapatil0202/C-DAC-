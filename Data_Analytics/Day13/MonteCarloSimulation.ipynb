{
 "cells": [
  {
   "cell_type": "code",
   "execution_count": 1,
   "id": "fd41d3b3-ee13-4776-bc59-b006c0e3028a",
   "metadata": {},
   "outputs": [],
   "source": [
    "import numpy as np"
   ]
  },
  {
   "cell_type": "code",
   "execution_count": 200,
   "id": "0d777da9-dcd9-4cf4-bedf-6f042a0e704b",
   "metadata": {},
   "outputs": [
    {
     "name": "stdout",
     "output_type": "stream",
     "text": [
      "4\n"
     ]
    }
   ],
   "source": [
    "# Part 1\n",
    "def roll_dice():\n",
    "    # Simulation of rolling a dice twice, minimum no we get is 1, max is 6\n",
    "    # Addthe results of the two simulations, so possible values will be:\n",
    "    # (1,1) or (1,2) ... (6,6)... Sum will be between 2 and 12\n",
    "    # Run multiple times to verify\n",
    "    return np.sum(np.random.randint(1,7,2))\n",
    "print(roll_dice())"
   ]
  },
  {
   "cell_type": "code",
   "execution_count": 212,
   "id": "1e5fcaa4-ea20-4a0a-b31e-3b4a39d25da9",
   "metadata": {},
   "outputs": [
    {
     "name": "stdout",
     "output_type": "stream",
     "text": [
      "[ 507. 2493.]\n",
      "[ 504. 2496.]\n",
      "[ 482. 2518.]\n",
      "[ 515. 2485.]\n",
      "[ 477. 2523.]\n",
      "[ 492. 2508.]\n",
      "[ 515. 2485.]\n",
      "[ 524. 2476.]\n",
      "[ 515. 2485.]\n",
      "[ 476. 2524.]\n"
     ]
    }
   ],
   "source": [
    "# Part2\n",
    "# Someone approaches us saying  I will give you 5 dollars if you get 7\n",
    "# and take 1 dollar if you get a number other than 7\n",
    "# How do we know what will happen?\n",
    "# Our own \"Nonte Carlo Simulation\" like function\n",
    "\n",
    "def monte_carlo_simulation(runs=3000):\n",
    "    results = np.zeros(2) # an array, results[0] and results[1] initialized to two zeroes\n",
    "\n",
    "    for _ in range(runs):      # Run 1000 times\n",
    "        if roll_dice() == 7:\n",
    "            results[0] += 1\n",
    "        else:\n",
    "            results[1] += 1\n",
    "    return results\n",
    "# Test 2-3 times and calculate how much you will win versus lose\n",
    "for i in range(10):\n",
    "    print(monte_carlo_simulation())\n",
    "\n",
    "# Results may be favourable to us, but was that by luck?\n"
   ]
  },
  {
   "cell_type": "code",
   "execution_count": 215,
   "id": "1103f80b-87f8-4f38-a6f2-0d6441a5cba2",
   "metadata": {},
   "outputs": [
    {
     "name": "stdout",
     "output_type": "stream",
     "text": [
      "[525. 507. 489. 536. 470. 460. 493. 521. 487. 526. 518. 457. 489. 536.\n",
      " 517. 534. 472. 479. 510. 470. 499. 523. 531. 481. 495. 528. 526. 508.\n",
      " 488. 475. 494. 497. 507. 517. 514. 487. 515. 468. 479. 470. 464. 505.\n",
      " 504. 482. 510. 498. 499. 495. 524. 505. 494. 518. 511. 487. 524. 519.\n",
      " 521. 509. 462. 484. 501. 509. 488. 488. 466. 489. 482. 483. 510. 517.\n",
      " 482. 518. 489. 522. 524. 521. 491. 495. 471. 532. 503. 520. 467. 499.\n",
      " 480. 516. 514. 509. 493. 510. 509. 501. 517. 501. 473. 514. 477. 527.\n",
      " 482. 509. 519. 496. 520. 502. 502. 524. 505. 509. 541. 476. 503. 464.\n",
      " 473. 483. 500. 506. 524. 469. 516. 481. 479. 490. 509. 538. 471. 515.\n",
      " 497. 517. 498. 538. 487. 470. 484. 476. 493. 481. 492. 472. 493. 489.\n",
      " 479. 498. 512. 470. 469. 506. 521. 480. 506. 509. 472. 515. 494. 487.\n",
      " 519. 513. 538. 507. 488. 491. 485. 500. 489. 482. 471. 473. 460. 512.\n",
      " 491. 526. 500. 496. 487. 489. 504. 477. 508. 496. 514. 501. 498. 474.\n",
      " 523. 518. 503. 504. 505. 501. 506. 502. 506. 508. 497. 531. 490. 521.\n",
      " 472. 542. 493. 483. 494. 512. 501. 487. 468. 489. 506. 529. 526. 535.\n",
      " 507. 482. 469. 482. 468. 520. 508. 525. 523. 498. 512. 506. 495. 497.\n",
      " 542. 499. 476. 498. 491. 463. 479. 497. 530. 491. 512. 491. 520. 515.\n",
      " 474. 511. 505. 462. 460. 526. 475. 479. 506. 494. 484. 487. 489. 540.\n",
      " 493. 505. 498. 507. 490. 511. 513. 474. 481. 456. 497. 500. 505. 522.\n",
      " 492. 492. 519. 516. 470. 500. 492. 480. 514. 527. 479. 448. 516. 479.\n",
      " 474. 533. 475. 494. 498. 487. 475. 502. 489. 521. 499. 509. 503. 497.\n",
      " 468. 521. 497. 473. 471. 512. 507. 496. 510. 503. 483. 513. 482. 498.\n",
      " 484. 508. 506. 504. 544. 488. 512. 492. 521. 491. 539. 473. 506. 493.\n",
      " 497. 511. 429. 515. 514. 509. 498. 488. 491. 484. 495. 533. 514. 486.\n",
      " 502. 508. 534. 525. 475. 516. 518. 516. 489. 532. 493. 491. 497. 519.\n",
      " 487. 457. 503. 528. 510. 498. 548. 500. 516. 503. 523. 505. 502. 505.\n",
      " 456. 531. 522. 517. 491. 548. 488. 488. 487. 508. 495. 569. 511. 514.\n",
      " 543. 496. 471. 489. 536. 473. 533. 510. 524. 486. 482. 472. 481. 539.\n",
      " 509. 468. 512. 514. 479. 531. 486. 514. 491. 481. 505. 481. 489. 471.\n",
      " 476. 516. 499. 519. 507. 501. 484. 528. 491. 496. 474. 506. 513. 510.\n",
      " 514. 506. 490. 463. 469. 476. 487. 496. 494. 522. 497. 508. 513. 500.\n",
      " 508. 495. 510. 492. 496. 515. 515. 473. 503. 503. 464. 491. 511. 509.\n",
      " 483. 524. 498. 512. 481. 518. 477. 507. 508. 494. 471. 500. 523. 456.\n",
      " 530. 498. 508. 512. 500. 491. 498. 465. 478. 475. 437. 491. 505. 529.\n",
      " 532. 498. 500. 488. 529. 514. 485. 527. 475. 504. 529. 497. 466. 526.\n",
      " 511. 511. 494. 472. 496. 521. 471. 513. 539. 456. 487. 479. 505. 484.\n",
      " 506. 506. 487. 519. 507. 530. 495. 489. 495. 464. 534. 472. 481. 483.\n",
      " 520. 520. 485. 502. 511. 497. 520. 486. 465. 486. 478. 505. 489. 533.\n",
      " 505. 503. 503. 504. 532. 476. 486. 516. 489. 533. 466. 521. 465. 487.\n",
      " 506. 487. 512. 488. 488. 482. 491. 481. 487. 459. 488. 494. 510. 497.\n",
      " 528. 491. 477. 509. 495. 508. 501. 485. 500. 524. 500. 518. 460. 496.\n",
      " 515. 504. 473. 480. 531. 496. 524. 470. 480. 545. 488. 493. 517. 492.\n",
      " 513. 491. 510. 535. 510. 512. 475. 510. 488. 479. 496. 483. 503. 503.\n",
      " 456. 480. 515. 500. 523. 477. 486. 508. 515. 498. 524. 499. 472. 482.\n",
      " 486. 527. 523. 520. 504. 511. 537. 475. 497. 511. 477. 530. 454. 520.\n",
      " 495. 452. 472. 500. 495. 496. 469. 487. 494. 493. 506. 518. 501. 523.\n",
      " 516. 479. 486. 550. 466. 488. 503. 515. 509. 503. 545. 496. 504. 517.\n",
      " 488. 517. 526. 482. 474. 504. 495. 491. 512. 513. 495. 513. 530. 538.\n",
      " 536. 527. 529. 516. 513. 454. 474. 515. 499. 494. 477. 508. 497. 521.\n",
      " 520. 508. 503. 479. 483. 499. 503. 482. 492. 477. 525. 492. 507. 499.\n",
      " 487. 481. 461. 476. 482. 505. 503. 498. 476. 448. 520. 476. 475. 501.\n",
      " 496. 529. 502. 467. 479. 511. 521. 519. 495. 502. 512. 535. 520. 506.\n",
      " 499. 489. 513. 515. 502. 467. 511. 527. 458. 483. 510. 498. 477. 531.\n",
      " 486. 459. 532. 535. 506. 518. 514. 513. 491. 494. 501. 516. 507. 532.\n",
      " 472. 501. 496. 477. 491. 477. 504. 522. 508. 507. 522. 526. 534. 447.\n",
      " 491. 523. 501. 510. 498. 492. 434. 480. 487. 519. 498. 487. 514. 476.\n",
      " 508. 494. 506. 481. 502. 521. 512. 536. 511. 510. 507. 499. 519. 515.\n",
      " 473. 530. 496. 520. 503. 500. 501. 488. 508. 462. 526. 502. 476. 453.\n",
      " 487. 487. 509. 525. 505. 495. 512. 493. 500. 504. 526. 492. 509. 500.\n",
      " 504. 514. 459. 474. 517. 525. 490. 508. 478. 533. 513. 495. 505. 464.\n",
      " 518. 470. 473. 485. 500. 533. 475. 498. 524. 529. 479. 509. 498. 495.\n",
      " 506. 504. 526. 456. 524. 530. 508. 488. 521. 514. 514. 448. 507. 480.\n",
      " 529. 514. 495. 508. 525. 497. 495. 528. 512. 536. 498. 498. 499. 489.\n",
      " 538. 537. 485. 502. 496. 526. 472. 505. 498. 490. 495. 510. 478. 521.\n",
      " 480. 515. 500. 517. 518. 519. 482. 504. 531. 502. 493. 513. 494. 497.\n",
      " 470. 490. 477. 467. 502. 517. 509. 483. 495. 523. 501. 489. 535. 503.\n",
      " 524. 471. 495. 480. 513. 503. 485. 538. 510. 489. 482. 502. 478. 505.\n",
      " 495. 512. 508. 504. 529. 486. 566. 482. 496. 470. 517. 482. 514. 536.\n",
      " 501. 540. 504. 501. 496. 503. 500. 461. 496. 494. 500. 532. 494. 520.\n",
      " 489. 514. 526. 538. 511. 516. 496. 507. 484. 490. 521. 500. 490. 508.\n",
      " 484. 498. 493. 533. 482. 524. 507. 521. 515. 539. 537. 477. 500. 489.\n",
      " 479. 491. 486. 505. 491. 480.]\n"
     ]
    },
    {
     "data": {
      "image/png": "[encoded data removed]",
      "text/plain": [
       "<Figure size 640x480 with 1 Axes>"
      ]
     },
     "metadata": {},
     "output_type": "display_data"
    },
    {
     "name": "stdout",
     "output_type": "stream",
     "text": [
      "499.974\n",
      "2499.87\n",
      "2374.8765\n",
      "2500.026\n",
      "0.166658\n"
     ]
    }
   ],
   "source": [
    "# Part 3 : Now do it 1000 times: Takes some time\n",
    "results = np.zeros(1000)\n",
    "\n",
    "for i in range(1000):\n",
    "    results[i] = monte_carlo_simulation()[0]\n",
    "\n",
    "print(results)\n",
    "\n",
    "# Let us plot it\n",
    "import matplotlib.pyplot as plt\n",
    "fig, ax = plt.subplots()\n",
    "ax.hist(results, bins=15)\n",
    "plt.show()\n",
    "\n",
    "# Our win/loss\n",
    "print(results.mean())         # General mean\n",
    "print(results.mean()*5)     # What we will get as win on an average\n",
    "print(results.mean()*4.75)  # Just a marginal change in win reward - see the impact\n",
    "print(3000 - results.mean())    # What we will pay on average\n",
    "print(results.mean()/3000)       # Probability of the 'we will win' result\n",
    "# The last probability should be close to the theoretical probability of getting\n",
    "#  a 7 when we throw two dice (Why? 1+6, 2+5, 3+4, 4+3, 5+2, 6+1 = 6 out of 36 states)"
   ]
  },
  {
   "cell_type": "code",
   "execution_count": null,
   "id": "b105375f-9829-4995-bac7-10601445b064",
   "metadata": {},
   "outputs": [],
   "source": []
  }
 ],
 "metadata": {
  "kernelspec": {
   "display_name": "Python 3 (ipykernel)",
   "language": "python",
   "name": "python3"
  },
  "language_info": {
   "codemirror_mode": {
    "name": "ipython",
    "version": 3
   },
   "file_extension": ".py",
   "mimetype": "text/x-python",
   "name": "python",
   "nbconvert_exporter": "python",
   "pygments_lexer": "ipython3",
   "version": "3.12.4"
  }
 },
 "nbformat": 4,
 "nbformat_minor": 5
}
