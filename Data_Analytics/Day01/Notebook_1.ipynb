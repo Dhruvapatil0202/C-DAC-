{
 "cells": [
  {
   "cell_type": "code",
   "execution_count": 1,
   "id": "1ec699c6-7cf0-4caa-aa6c-b24fac27cb0a",
   "metadata": {},
   "outputs": [],
   "source": [
    "import numpy as np\n",
    "\n"
   ]
  },
  {
   "cell_type": "code",
   "execution_count": 39,
   "id": "36ccfe07-a4c5-4735-bfbf-52b88bef055b",
   "metadata": {},
   "outputs": [
    {
     "data": {
      "text/plain": [
       "array([1, 2, 3])"
      ]
     },
     "execution_count": 39,
     "metadata": {},
     "output_type": "execute_result"
    }
   ],
   "source": [
    "# Create a numpy array from a list\n",
    "my_list = [1, 2, 3]\n",
    "myArr = np.array(my_list)\n",
    "myArr"
   ]
  },
  {
   "cell_type": "code",
   "execution_count": 33,
   "id": "77c8c414-91ad-432e-ae84-26069e658d57",
   "metadata": {},
   "outputs": [
    {
     "data": {
      "text/plain": [
       "array([[1, 2, 3],\n",
       "       [2, 3, 4],\n",
       "       [6, 4, 3]])"
      ]
     },
     "execution_count": 33,
     "metadata": {},
     "output_type": "execute_result"
    }
   ],
   "source": [
    "# List of Lists \n",
    "mat = [[1 ,2 ,3], [2, 3, 4], [6, 4, 3]]\n",
    "np.array(mat)"
   ]
  },
  {
   "cell_type": "code",
   "execution_count": 37,
   "id": "0f2d587a-e7c0-4fe8-9b02-ca52ae36e84b",
   "metadata": {},
   "outputs": [
    {
     "data": {
      "text/plain": [
       "array([ 0,  3,  6,  9, 12, 15, 18])"
      ]
     },
     "execution_count": 37,
     "metadata": {},
     "output_type": "execute_result"
    }
   ],
   "source": [
    "# Creating arrays using build_in functions\n",
    "# Return evenly spaced values within a given interval\n",
    "# start, stop, step\n",
    "\n",
    "np.arange(0, 20, 3)"
   ]
  },
  {
   "cell_type": "code",
   "execution_count": 51,
   "id": "e553048f-06e9-4261-80ef-b9491b9e8e6b",
   "metadata": {},
   "outputs": [
    {
     "name": "stdout",
     "output_type": "stream",
     "text": [
      "[0. 0. 0.] [1. 1. 1.]\n",
      "[[0. 0. 0.]\n",
      " [0. 0. 0.]\n",
      " [0. 0. 0.]]\n"
     ]
    }
   ],
   "source": [
    "# Arrays of zeros or ones\n",
    "print(np.zeros(3), np.ones(3))\n",
    "print(np.zeros((3, 3)))"
   ]
  },
  {
   "cell_type": "code",
   "execution_count": 45,
   "id": "028f23f3-2cb0-47d1-909d-b5d719709f88",
   "metadata": {},
   "outputs": [
    {
     "name": "stdout",
     "output_type": "stream",
     "text": [
      "[ 0.  5. 10.]\n",
      "[0.         0.26315789 0.52631579 0.78947368 1.05263158 1.31578947\n",
      " 1.57894737 1.84210526 2.10526316 2.36842105 2.63157895 2.89473684\n",
      " 3.15789474 3.42105263 3.68421053 3.94736842 4.21052632 4.47368421\n",
      " 4.73684211 5.        ]\n",
      "[0.   0.25 0.5  0.75 1.   1.25 1.5  1.75 2.   2.25 2.5  2.75 3.   3.25\n",
      " 3.5  3.75 4.   4.25 4.5  4.75 5.  ]\n"
     ]
    }
   ],
   "source": [
    "# Return evenly space numbes over a specified intervval\n",
    "# Start , Stop, number of elements(and not step)\n",
    "# Unlike numpy.arange(), the stop value is includedi n the result\n",
    "# The spacing between values is automatically determined based on the specified number of values(num)\n",
    "\n",
    "print(np.linspace(0, 10, 3))\n",
    "print(np.linspace(0, 5, 20))\n",
    "print(np.linspace(0, 5, 21))"
   ]
  },
  {
   "cell_type": "markdown",
   "id": "597d48c4-ab21-401d-9c87-1da789f8e5e2",
   "metadata": {},
   "source": [
    "\n",
    "\n",
    "### arange: Specify the step/gap between consecutive elements\n",
    "### linspace : specify how many elements we want .... Step/gap will be calculated by NumPy\n",
    "\n"
   ]
  },
  {
   "cell_type": "code",
   "execution_count": 58,
   "id": "5dbcbf35-5271-4d47-875d-4dd2f60b3834",
   "metadata": {},
   "outputs": [
    {
     "name": "stdout",
     "output_type": "stream",
     "text": [
      "[0.05594528 0.15035176]\n",
      "[[0.30272557 0.39019089]\n",
      " [0.99955348 0.83921406]]\n"
     ]
    }
   ],
   "source": [
    "# Random number arrays\n",
    "print(np.random.rand(2))\n",
    "print(np.random.rand(2, 2))"
   ]
  },
  {
   "cell_type": "code",
   "execution_count": 63,
   "id": "e61834e0-72ee-4b12-82e4-67415b7ddb22",
   "metadata": {},
   "outputs": [
    {
     "name": "stdout",
     "output_type": "stream",
     "text": [
      "63\n",
      "[68 39 41 64 40 24 57 68 93 16]\n"
     ]
    }
   ],
   "source": [
    "# Random number from low(inclusive_ to high (exclusive)\n",
    "print(np.random.randint(1, 100)) # single random integer between 1 and 100\n",
    "print(np.random.randint(1, 100, 10)) # 10 random number"
   ]
  },
  {
   "cell_type": "code",
   "execution_count": 73,
   "id": "cbb644ee-b93a-4236-b414-1399ce024f42",
   "metadata": {},
   "outputs": [
    {
     "name": "stdout",
     "output_type": "stream",
     "text": [
      "[0.294665   0.53058676 0.19152079 0.06790036]\n"
     ]
    }
   ],
   "source": [
    "# Seeding for reproducable results\n",
    "# -> Generates unpredictable random numbers every single time.\n",
    "np.random.seed(17)\n",
    "print(np.random.rand(4))"
   ]
  },
  {
   "cell_type": "code",
   "execution_count": 77,
   "id": "e34f38be-8eeb-44da-846b-3c975a6dd6a9",
   "metadata": {},
   "outputs": [
    {
     "name": "stdout",
     "output_type": "stream",
     "text": [
      "[ 0  1  2  3  4  5  6  7  8  9 10 11 12 13 14 15 16 17 18 19 20 21 22 23\n",
      " 24]\n",
      "[22 31  4 39 20 44  7  1 46 17]\n"
     ]
    }
   ],
   "source": [
    "# Storing \n",
    "arr = np.arange(25)\n",
    "ranarr = np.random.randint(0, 50, 10)\n",
    "print(arr)\n",
    "print(ranarr)"
   ]
  },
  {
   "cell_type": "code",
   "execution_count": 82,
   "id": "d616f8e1-0431-4b77-b19a-31550659ae4c",
   "metadata": {},
   "outputs": [
    {
     "name": "stdout",
     "output_type": "stream",
     "text": [
      "[[ 0  1  2  3  4]\n",
      " [ 5  6  7  8  9]\n",
      " [10 11 12 13 14]\n",
      " [15 16 17 18 19]\n",
      " [20 21 22 23 24]]\n"
     ]
    }
   ],
   "source": [
    "# reshape: Returns an array containing the same data with a new shape\n",
    "print(arr.reshape(5, 5))"
   ]
  },
  {
   "cell_type": "code",
   "execution_count": 86,
   "id": "abc349a2-7f83-4bfe-933a-550250a4ae44",
   "metadata": {},
   "outputs": [
    {
     "name": "stdout",
     "output_type": "stream",
     "text": [
      "46\n",
      "8\n",
      "1\n",
      "7\n"
     ]
    }
   ],
   "source": [
    "# Max, Min and their index positions\n",
    "print(ranarr.max())\n",
    "print(ranarr.argmax())\n",
    "print(ranarr.min())\n",
    "print(ranarr.argmin())"
   ]
  },
  {
   "cell_type": "code",
   "execution_count": 90,
   "id": "a7d32500-ab6d-446d-89e0-b93a69249cb2",
   "metadata": {},
   "outputs": [
    {
     "name": "stdout",
     "output_type": "stream",
     "text": [
      "[ 0  1  2  3  4  5  6  7  8  9 10]\n",
      "8\n",
      "[1 2 3 4]\n",
      "[100 100 100 100 100   5   6   7   8   9  10]\n"
     ]
    }
   ],
   "source": [
    "# Creating sample array\n",
    "arr = np.arange(0, 11)\n",
    "print(arr)\n",
    "\n",
    "# Bracket indexing and selection = similar to python Lists\n",
    "# Get a value at an index\n",
    "print(arr[8])\n",
    "# Get values in a range\n",
    "print(arr[1:5])\n",
    "\n",
    "# Broadcasting\n",
    "# Setting a value with index range(Broadcasting)\n",
    "arr[0:5] = 100\n",
    "print(arr)"
   ]
  },
  {
   "cell_type": "code",
   "execution_count": 95,
   "id": "d7b0d469-369f-427e-9132-f1f7e91ee27f",
   "metadata": {},
   "outputs": [
    {
     "name": "stdout",
     "output_type": "stream",
     "text": [
      "[ 0  1  2  3  4  5  6  7  8  9 10]\n"
     ]
    }
   ],
   "source": [
    "# Reset array\n",
    "arr = np.arange(0, 11)\n",
    "print(arr)\n"
   ]
  },
  {
   "cell_type": "code",
   "execution_count": 104,
   "id": "23bfb348-af50-49cf-b6fa-47aec8cae053",
   "metadata": {},
   "outputs": [
    {
     "name": "stdout",
     "output_type": "stream",
     "text": [
      "[0 1 2 3 4 5]\n"
     ]
    }
   ],
   "source": [
    "# Important notes on Slices\n",
    "slice_of_arr = arr[0:6]\n",
    "print(slice_of_arr)\n",
    "\n"
   ]
  },
  {
   "cell_type": "code",
   "execution_count": 116,
   "id": "95f394d0-3b49-47dd-a00a-8cdb57760f83",
   "metadata": {},
   "outputs": [
    {
     "name": "stdout",
     "output_type": "stream",
     "text": [
      "[99 99 99 99 99 99]\n",
      "[99 99 99 99 99 99  6  7  8  9 10]\n"
     ]
    }
   ],
   "source": [
    "# Change Slice\n",
    "slice_of_arr[:] = 99\n",
    "print(slice_of_arr)\n",
    "print(arr)\n",
    "# Changes made are also there in our original array!\n",
    "# Data is not copied, it is a view of the original array! \n",
    "# This avoids memory problems."
   ]
  },
  {
   "cell_type": "code",
   "execution_count": 114,
   "id": "07c17ad2-3883-4b54-8e1a-a6a6e693cebc",
   "metadata": {},
   "outputs": [],
   "source": [
    "# To get actual copy, we need .copy method()"
   ]
  },
  {
   "cell_type": "code",
   "execution_count": 122,
   "id": "f436b428-6c8b-4310-a1f4-7c4c00a2f66e",
   "metadata": {},
   "outputs": [
    {
     "name": "stdout",
     "output_type": "stream",
     "text": [
      "[ 1  2  3  4  5  6  7  8  9 10]\n"
     ]
    }
   ],
   "source": [
    "# Conditional selection\n",
    "arr = np.arange(1, 11)\n",
    "print(arr)"
   ]
  },
  {
   "cell_type": "code",
   "execution_count": 124,
   "id": "6a2885de-2b71-4acc-9775-1795e4c62d2c",
   "metadata": {},
   "outputs": [
    {
     "name": "stdout",
     "output_type": "stream",
     "text": [
      "[False False False False  True  True  True  True  True  True]\n"
     ]
    }
   ],
   "source": [
    "# Check each element of the array against the condition \n",
    "# Which returns a boolean array where\n",
    "# each element is True if the corresponding element in a \n",
    "# and False otherwise\n",
    "print(arr > 4)"
   ]
  },
  {
   "cell_type": "code",
   "execution_count": 128,
   "id": "f39a274b-a3f8-4f10-80c6-f65f914b3216",
   "metadata": {},
   "outputs": [
    {
     "name": "stdout",
     "output_type": "stream",
     "text": [
      "[False False False False  True  True  True  True  True  True]\n"
     ]
    }
   ],
   "source": [
    "#Store boolean results in another array\n",
    "bool_arr = arr > 4\n",
    "print(bool_arr)"
   ]
  },
  {
   "cell_type": "code",
   "execution_count": null,
   "id": "19c4bc30-b901-48b8-a962-5a59a3e852e0",
   "metadata": {},
   "outputs": [],
   "source": [
    "#"
   ]
  },
  {
   "cell_type": "code",
   "execution_count": 130,
   "id": "322d2ca0-2136-47d2-a68a-d64cd88b71a4",
   "metadata": {},
   "outputs": [
    {
     "name": "stdout",
     "output_type": "stream",
     "text": [
      "[0 1 2 3 4 5 6 7 8 9]\n"
     ]
    }
   ],
   "source": [
    "arr = np.arange(0,10)\n",
    "print(arr)"
   ]
  },
  {
   "cell_type": "code",
   "execution_count": 134,
   "id": "d1d9dd80-a4ac-4900-830a-668e1a279dd5",
   "metadata": {},
   "outputs": [
    {
     "name": "stdout",
     "output_type": "stream",
     "text": [
      "[ 0  2  4  6  8 10 12 14 16 18]\n",
      "[ 0  1  4  9 16 25 36 49 64 81]\n",
      "[0 0 0 0 0 0 0 0 0 0]\n"
     ]
    }
   ],
   "source": [
    "#Basic arithmetic\n",
    "print(arr + arr)\n",
    "print(arr * arr)\n",
    "print(arr - arr)"
   ]
  },
  {
   "cell_type": "code",
   "execution_count": 136,
   "id": "48603cb5-6c34-4d8b-9a23-3fd80ebb1c4a",
   "metadata": {},
   "outputs": [
    {
     "name": "stdout",
     "output_type": "stream",
     "text": [
      "[nan  1.  1.  1.  1.  1.  1.  1.  1.  1.]\n"
     ]
    },
    {
     "name": "stderr",
     "output_type": "stream",
     "text": [
      "C:\\Users\\DAI.STUDENTSDC\\AppData\\Local\\Temp\\ipykernel_6932\\3063241360.py:3: RuntimeWarning: invalid value encountered in divide\n",
      "  print(arr/arr)\n"
     ]
    }
   ],
   "source": [
    "# This will raise a Warning on division by zwero, but not an error!\n",
    "# It just fills the spot with nan\n",
    "print(arr/arr)"
   ]
  },
  {
   "cell_type": "code",
   "execution_count": 140,
   "id": "f2e56c77-6e48-4f63-a76d-3ba25ac5a1bb",
   "metadata": {},
   "outputs": [
    {
     "name": "stdout",
     "output_type": "stream",
     "text": [
      "[       inf 1.         0.5        0.33333333 0.25       0.2\n",
      " 0.16666667 0.14285714 0.125      0.11111111]\n",
      "[  0   1   8  27  64 125 216 343 512 729]\n"
     ]
    },
    {
     "name": "stderr",
     "output_type": "stream",
     "text": [
      "C:\\Users\\DAI.STUDENTSDC\\AppData\\Local\\Temp\\ipykernel_6932\\2045597170.py:2: RuntimeWarning: divide by zero encountered in divide\n",
      "  print(1/arr)\n"
     ]
    }
   ],
   "source": [
    "#Also a warning (but not an error) relating to infinity\n",
    "print(1/arr)\n",
    "\n",
    "print(arr**3)"
   ]
  },
  {
   "cell_type": "code",
   "execution_count": 142,
   "id": "652f5124-5841-415e-a293-dd223ee3a67e",
   "metadata": {},
   "outputs": [
    {
     "name": "stdout",
     "output_type": "stream",
     "text": [
      "[0.         1.         1.41421356 1.73205081 2.         2.23606798\n",
      " 2.44948974 2.64575131 2.82842712 3.        ]\n",
      "[1.00000000e+00 2.71828183e+00 7.38905610e+00 2.00855369e+01\n",
      " 5.45981500e+01 1.48413159e+02 4.03428793e+02 1.09663316e+03\n",
      " 2.98095799e+03 8.10308393e+03]\n",
      "[ 0.          0.84147098  0.90929743  0.14112001 -0.7568025  -0.95892427\n",
      " -0.2794155   0.6569866   0.98935825  0.41211849]\n",
      "[      -inf 0.         0.69314718 1.09861229 1.38629436 1.60943791\n",
      " 1.79175947 1.94591015 2.07944154 2.19722458]\n"
     ]
    },
    {
     "name": "stderr",
     "output_type": "stream",
     "text": [
      "C:\\Users\\DAI.STUDENTSDC\\AppData\\Local\\Temp\\ipykernel_6932\\2448541471.py:5: RuntimeWarning: divide by zero encountered in log\n",
      "  print(np.log(arr))\n"
     ]
    }
   ],
   "source": [
    "# Universal functions\n",
    "print(np.sqrt(arr))\n",
    "print(np.exp(arr))\n",
    "print(np.sin(arr))\n",
    "print(np.log(arr))"
   ]
  },
  {
   "cell_type": "code",
   "execution_count": 144,
   "id": "a08e0d3f-f650-453a-b6dd-34c02cc51a9b",
   "metadata": {},
   "outputs": [
    {
     "name": "stdout",
     "output_type": "stream",
     "text": [
      "45\n",
      "4.5\n",
      "9\n",
      "0\n",
      "8.25\n",
      "2.8722813232690143\n"
     ]
    }
   ],
   "source": [
    "# Summary Statistics\n",
    "print(arr.sum())\n",
    "print(arr.mean())\n",
    "print(arr.max())\n",
    "print(arr.min())\n",
    "print(arr.var())\n",
    "print(arr.std())"
   ]
  },
  {
   "cell_type": "code",
   "execution_count": 146,
   "id": "ff0abd89-efe4-414f-bead-7fe4c47e5f14",
   "metadata": {},
   "outputs": [
    {
     "name": "stdout",
     "output_type": "stream",
     "text": [
      "[[ 1  2  3  4]\n",
      " [ 5  6  7  8]\n",
      " [ 9 10 11 12]]\n"
     ]
    }
   ],
   "source": [
    "# 2D arrays\n",
    "# This is a 2-dimensional array with 3 rows and 4 columns\n",
    "arr_2d = np.array([[1,2,3,4],[5,6,7,8],[9,10,11,12]])\n",
    "print(arr_2d)"
   ]
  },
  {
   "cell_type": "code",
   "execution_count": 148,
   "id": "9dc50922-f4f4-4fd6-825a-2024c05df89a",
   "metadata": {},
   "outputs": [
    {
     "name": "stdout",
     "output_type": "stream",
     "text": [
      "(3, 4)\n",
      "(3, 4)\n",
      "[10 26 42]\n"
     ]
    }
   ],
   "source": [
    "# Row and column count                   Important in data analytics\n",
    "print(arr_2d.shape)\n",
    "# Sum all the columns for each row (e.g. 1+5_9, 2+6+10, etc)\n",
    "print(arr_2d.shape)\n",
    "#Sum all the rows for each coloumn (e.g. 1+2+3+4,  5+6+7+8. etc)\n",
    "print(arr_2d.sum(axis = 1))"
   ]
  },
  {
   "cell_type": "code",
   "execution_count": null,
   "id": "fade0336-1dac-4606-a5f3-ca5fb8271890",
   "metadata": {},
   "outputs": [],
   "source": []
  }
 ],
 "metadata": {
  "kernelspec": {
   "display_name": "Python 3 (ipykernel)",
   "language": "python",
   "name": "python3"
  },
  "language_info": {
   "codemirror_mode": {
    "name": "ipython",
    "version": 3
   },
   "file_extension": ".py",
   "mimetype": "text/x-python",
   "name": "python",
   "nbconvert_exporter": "python",
   "pygments_lexer": "ipython3",
   "version": "3.12.4"
  }
 },
 "nbformat": 4,
 "nbformat_minor": 5
}
