{
 "cells": [
  {
   "cell_type": "code",
   "execution_count": 1,
   "id": "9a908ab2-5f87-4459-80cc-dcd1e91a710b",
   "metadata": {},
   "outputs": [],
   "source": [
    "import pandas as pd\n",
    "import numpy as np"
   ]
  },
  {
   "cell_type": "markdown",
   "id": "ba4fc4c1-8174-47f0-afa4-6b2b2e68074c",
   "metadata": {},
   "source": [
    "1. Write a Pandas program to read a csv file from a specified source and print the\r\n",
    "first 5 rows.\r\n",
    "(Diamonds.csv)"
   ]
  },
  {
   "cell_type": "code",
   "execution_count": 3,
   "id": "36665903-a5c3-4bb3-b23d-db8727e2904c",
   "metadata": {},
   "outputs": [
    {
     "data": {
      "text/html": [
       "<div>\n",
       "<style scoped>\n",
       "    .dataframe tbody tr th:only-of-type {\n",
       "        vertical-align: middle;\n",
       "    }\n",
       "\n",
       "    .dataframe tbody tr th {\n",
       "        vertical-align: top;\n",
       "    }\n",
       "\n",
       "    .dataframe thead th {\n",
       "        text-align: right;\n",
       "    }\n",
       "</style>\n",
       "<table border=\"1\" class=\"dataframe\">\n",
       "  <thead>\n",
       "    <tr style=\"text-align: right;\">\n",
       "      <th></th>\n",
       "      <th>carat</th>\n",
       "      <th>cut</th>\n",
       "      <th>color</th>\n",
       "      <th>clarity</th>\n",
       "      <th>depth</th>\n",
       "      <th>table</th>\n",
       "      <th>price</th>\n",
       "      <th>x</th>\n",
       "      <th>y</th>\n",
       "      <th>z</th>\n",
       "    </tr>\n",
       "  </thead>\n",
       "  <tbody>\n",
       "    <tr>\n",
       "      <th>0</th>\n",
       "      <td>0.23</td>\n",
       "      <td>Ideal</td>\n",
       "      <td>E</td>\n",
       "      <td>SI2</td>\n",
       "      <td>61.5</td>\n",
       "      <td>55.0</td>\n",
       "      <td>326</td>\n",
       "      <td>3.95</td>\n",
       "      <td>3.98</td>\n",
       "      <td>2.43</td>\n",
       "    </tr>\n",
       "    <tr>\n",
       "      <th>1</th>\n",
       "      <td>0.21</td>\n",
       "      <td>Premium</td>\n",
       "      <td>E</td>\n",
       "      <td>SI1</td>\n",
       "      <td>59.8</td>\n",
       "      <td>61.0</td>\n",
       "      <td>326</td>\n",
       "      <td>3.89</td>\n",
       "      <td>3.84</td>\n",
       "      <td>2.31</td>\n",
       "    </tr>\n",
       "    <tr>\n",
       "      <th>2</th>\n",
       "      <td>0.23</td>\n",
       "      <td>Good</td>\n",
       "      <td>E</td>\n",
       "      <td>VS1</td>\n",
       "      <td>56.9</td>\n",
       "      <td>65.0</td>\n",
       "      <td>327</td>\n",
       "      <td>4.05</td>\n",
       "      <td>4.07</td>\n",
       "      <td>2.31</td>\n",
       "    </tr>\n",
       "    <tr>\n",
       "      <th>3</th>\n",
       "      <td>0.29</td>\n",
       "      <td>Premium</td>\n",
       "      <td>I</td>\n",
       "      <td>VS2</td>\n",
       "      <td>62.4</td>\n",
       "      <td>58.0</td>\n",
       "      <td>334</td>\n",
       "      <td>4.20</td>\n",
       "      <td>4.23</td>\n",
       "      <td>2.63</td>\n",
       "    </tr>\n",
       "    <tr>\n",
       "      <th>4</th>\n",
       "      <td>0.31</td>\n",
       "      <td>Good</td>\n",
       "      <td>J</td>\n",
       "      <td>SI2</td>\n",
       "      <td>63.3</td>\n",
       "      <td>58.0</td>\n",
       "      <td>335</td>\n",
       "      <td>4.34</td>\n",
       "      <td>4.35</td>\n",
       "      <td>2.75</td>\n",
       "    </tr>\n",
       "  </tbody>\n",
       "</table>\n",
       "</div>"
      ],
      "text/plain": [
       "   carat      cut color clarity  depth  table  price     x     y     z\n",
       "0   0.23    Ideal     E     SI2   61.5   55.0    326  3.95  3.98  2.43\n",
       "1   0.21  Premium     E     SI1   59.8   61.0    326  3.89  3.84  2.31\n",
       "2   0.23     Good     E     VS1   56.9   65.0    327  4.05  4.07  2.31\n",
       "3   0.29  Premium     I     VS2   62.4   58.0    334  4.20  4.23  2.63\n",
       "4   0.31     Good     J     SI2   63.3   58.0    335  4.34  4.35  2.75"
      ]
     },
     "execution_count": 3,
     "metadata": {},
     "output_type": "execute_result"
    }
   ],
   "source": [
    "df = pd.read_csv(\"diamonds.csv\")\n",
    "\n",
    "df.head()"
   ]
  },
  {
   "cell_type": "markdown",
   "id": "2d5b0ed5-58bd-49fb-8615-a62705bdcdf6",
   "metadata": {},
   "source": [
    "2. Write a Pandas program to read a dataset from diamonds DataFrame and\r\n",
    "modify the default columns values and print the first 6 rows."
   ]
  },
  {
   "cell_type": "code",
   "execution_count": 5,
   "id": "aa5032d5-e406-4aec-bde5-cd795a859f62",
   "metadata": {},
   "outputs": [
    {
     "data": {
      "text/html": [
       "<div>\n",
       "<style scoped>\n",
       "    .dataframe tbody tr th:only-of-type {\n",
       "        vertical-align: middle;\n",
       "    }\n",
       "\n",
       "    .dataframe tbody tr th {\n",
       "        vertical-align: top;\n",
       "    }\n",
       "\n",
       "    .dataframe thead th {\n",
       "        text-align: right;\n",
       "    }\n",
       "</style>\n",
       "<table border=\"1\" class=\"dataframe\">\n",
       "  <thead>\n",
       "    <tr style=\"text-align: right;\">\n",
       "      <th></th>\n",
       "      <th>Carat</th>\n",
       "      <th>Cut</th>\n",
       "      <th>Color</th>\n",
       "      <th>Clarity</th>\n",
       "      <th>Depth</th>\n",
       "      <th>table</th>\n",
       "      <th>price</th>\n",
       "      <th>x</th>\n",
       "      <th>y</th>\n",
       "      <th>z</th>\n",
       "    </tr>\n",
       "  </thead>\n",
       "  <tbody>\n",
       "    <tr>\n",
       "      <th>0</th>\n",
       "      <td>0.23</td>\n",
       "      <td>Ideal</td>\n",
       "      <td>E</td>\n",
       "      <td>SI2</td>\n",
       "      <td>61.5</td>\n",
       "      <td>55.0</td>\n",
       "      <td>326</td>\n",
       "      <td>3.95</td>\n",
       "      <td>3.98</td>\n",
       "      <td>2.43</td>\n",
       "    </tr>\n",
       "    <tr>\n",
       "      <th>1</th>\n",
       "      <td>0.21</td>\n",
       "      <td>Premium</td>\n",
       "      <td>E</td>\n",
       "      <td>SI1</td>\n",
       "      <td>59.8</td>\n",
       "      <td>61.0</td>\n",
       "      <td>326</td>\n",
       "      <td>3.89</td>\n",
       "      <td>3.84</td>\n",
       "      <td>2.31</td>\n",
       "    </tr>\n",
       "    <tr>\n",
       "      <th>2</th>\n",
       "      <td>0.23</td>\n",
       "      <td>Good</td>\n",
       "      <td>E</td>\n",
       "      <td>VS1</td>\n",
       "      <td>56.9</td>\n",
       "      <td>65.0</td>\n",
       "      <td>327</td>\n",
       "      <td>4.05</td>\n",
       "      <td>4.07</td>\n",
       "      <td>2.31</td>\n",
       "    </tr>\n",
       "    <tr>\n",
       "      <th>3</th>\n",
       "      <td>0.29</td>\n",
       "      <td>Premium</td>\n",
       "      <td>I</td>\n",
       "      <td>VS2</td>\n",
       "      <td>62.4</td>\n",
       "      <td>58.0</td>\n",
       "      <td>334</td>\n",
       "      <td>4.20</td>\n",
       "      <td>4.23</td>\n",
       "      <td>2.63</td>\n",
       "    </tr>\n",
       "    <tr>\n",
       "      <th>4</th>\n",
       "      <td>0.31</td>\n",
       "      <td>Good</td>\n",
       "      <td>J</td>\n",
       "      <td>SI2</td>\n",
       "      <td>63.3</td>\n",
       "      <td>58.0</td>\n",
       "      <td>335</td>\n",
       "      <td>4.34</td>\n",
       "      <td>4.35</td>\n",
       "      <td>2.75</td>\n",
       "    </tr>\n",
       "    <tr>\n",
       "      <th>5</th>\n",
       "      <td>0.24</td>\n",
       "      <td>Very Good</td>\n",
       "      <td>J</td>\n",
       "      <td>VVS2</td>\n",
       "      <td>62.8</td>\n",
       "      <td>57.0</td>\n",
       "      <td>336</td>\n",
       "      <td>3.94</td>\n",
       "      <td>3.96</td>\n",
       "      <td>2.48</td>\n",
       "    </tr>\n",
       "  </tbody>\n",
       "</table>\n",
       "</div>"
      ],
      "text/plain": [
       "   Carat        Cut Color Clarity  Depth  table  price     x     y     z\n",
       "0   0.23      Ideal     E     SI2   61.5   55.0    326  3.95  3.98  2.43\n",
       "1   0.21    Premium     E     SI1   59.8   61.0    326  3.89  3.84  2.31\n",
       "2   0.23       Good     E     VS1   56.9   65.0    327  4.05  4.07  2.31\n",
       "3   0.29    Premium     I     VS2   62.4   58.0    334  4.20  4.23  2.63\n",
       "4   0.31       Good     J     SI2   63.3   58.0    335  4.34  4.35  2.75\n",
       "5   0.24  Very Good     J    VVS2   62.8   57.0    336  3.94  3.96  2.48"
      ]
     },
     "execution_count": 5,
     "metadata": {},
     "output_type": "execute_result"
    }
   ],
   "source": [
    "df = df.rename(columns={\n",
    "    \"carat\" : \"Carat\",\n",
    "    \"cut\" : \"Cut\",\n",
    "    \"color\" : \"Color\",\n",
    "    \"clarity\" : \"Clarity\",\n",
    "    \"depth\" : \"Depth\"\n",
    "})\n",
    "df.head(6)"
   ]
  },
  {
   "cell_type": "markdown",
   "id": "8fdc11b8-5226-43ed-bd17-348ee5394d54",
   "metadata": {},
   "source": [
    "3. Write a Pandas program to select a series from diamonds DataFrame. Print\n",
    "the content of the series."
   ]
  },
  {
   "cell_type": "code",
   "execution_count": 7,
   "id": "73ed82d2-141f-447f-b854-ffcfba8551b8",
   "metadata": {},
   "outputs": [
    {
     "name": "stdout",
     "output_type": "stream",
     "text": [
      "0        0.23\n",
      "1        0.21\n",
      "2        0.23\n",
      "3        0.29\n",
      "4        0.31\n",
      "         ... \n",
      "53935    0.72\n",
      "53936    0.72\n",
      "53937    0.70\n",
      "53938    0.86\n",
      "53939    0.75\n",
      "Name: Carat, Length: 53940, dtype: float64\n",
      "<class 'pandas.core.series.Series'>\n"
     ]
    }
   ],
   "source": [
    "carat = df[\"Carat\"]\n",
    "print(carat)\n",
    "print(type(carat))"
   ]
  },
  {
   "cell_type": "markdown",
   "id": "54b10506-2692-498e-a68d-27de9281c6ed",
   "metadata": {},
   "source": [
    "4. Write a Pandas program to create a new 'Quality -color' Series (use bracket\n",
    "notation to define the Series name) of the diamonds DataFrame."
   ]
  },
  {
   "cell_type": "code",
   "execution_count": 9,
   "id": "01846cee-2b55-48af-b860-475ea1a429ae",
   "metadata": {},
   "outputs": [
    {
     "data": {
      "text/html": [
       "<div>\n",
       "<style scoped>\n",
       "    .dataframe tbody tr th:only-of-type {\n",
       "        vertical-align: middle;\n",
       "    }\n",
       "\n",
       "    .dataframe tbody tr th {\n",
       "        vertical-align: top;\n",
       "    }\n",
       "\n",
       "    .dataframe thead th {\n",
       "        text-align: right;\n",
       "    }\n",
       "</style>\n",
       "<table border=\"1\" class=\"dataframe\">\n",
       "  <thead>\n",
       "    <tr style=\"text-align: right;\">\n",
       "      <th></th>\n",
       "      <th>Carat</th>\n",
       "      <th>Cut</th>\n",
       "      <th>Color</th>\n",
       "      <th>Clarity</th>\n",
       "      <th>Depth</th>\n",
       "      <th>table</th>\n",
       "      <th>price</th>\n",
       "      <th>x</th>\n",
       "      <th>y</th>\n",
       "      <th>z</th>\n",
       "      <th>Quality-color</th>\n",
       "    </tr>\n",
       "  </thead>\n",
       "  <tbody>\n",
       "    <tr>\n",
       "      <th>0</th>\n",
       "      <td>0.23</td>\n",
       "      <td>Ideal</td>\n",
       "      <td>E</td>\n",
       "      <td>SI2</td>\n",
       "      <td>61.5</td>\n",
       "      <td>55.0</td>\n",
       "      <td>326</td>\n",
       "      <td>3.95</td>\n",
       "      <td>3.98</td>\n",
       "      <td>2.43</td>\n",
       "      <td>0.23 - E</td>\n",
       "    </tr>\n",
       "    <tr>\n",
       "      <th>1</th>\n",
       "      <td>0.21</td>\n",
       "      <td>Premium</td>\n",
       "      <td>E</td>\n",
       "      <td>SI1</td>\n",
       "      <td>59.8</td>\n",
       "      <td>61.0</td>\n",
       "      <td>326</td>\n",
       "      <td>3.89</td>\n",
       "      <td>3.84</td>\n",
       "      <td>2.31</td>\n",
       "      <td>0.21 - E</td>\n",
       "    </tr>\n",
       "    <tr>\n",
       "      <th>2</th>\n",
       "      <td>0.23</td>\n",
       "      <td>Good</td>\n",
       "      <td>E</td>\n",
       "      <td>VS1</td>\n",
       "      <td>56.9</td>\n",
       "      <td>65.0</td>\n",
       "      <td>327</td>\n",
       "      <td>4.05</td>\n",
       "      <td>4.07</td>\n",
       "      <td>2.31</td>\n",
       "      <td>0.23 - E</td>\n",
       "    </tr>\n",
       "    <tr>\n",
       "      <th>3</th>\n",
       "      <td>0.29</td>\n",
       "      <td>Premium</td>\n",
       "      <td>I</td>\n",
       "      <td>VS2</td>\n",
       "      <td>62.4</td>\n",
       "      <td>58.0</td>\n",
       "      <td>334</td>\n",
       "      <td>4.20</td>\n",
       "      <td>4.23</td>\n",
       "      <td>2.63</td>\n",
       "      <td>0.29 - I</td>\n",
       "    </tr>\n",
       "    <tr>\n",
       "      <th>4</th>\n",
       "      <td>0.31</td>\n",
       "      <td>Good</td>\n",
       "      <td>J</td>\n",
       "      <td>SI2</td>\n",
       "      <td>63.3</td>\n",
       "      <td>58.0</td>\n",
       "      <td>335</td>\n",
       "      <td>4.34</td>\n",
       "      <td>4.35</td>\n",
       "      <td>2.75</td>\n",
       "      <td>0.31 - J</td>\n",
       "    </tr>\n",
       "  </tbody>\n",
       "</table>\n",
       "</div>"
      ],
      "text/plain": [
       "   Carat      Cut Color Clarity  Depth  table  price     x     y     z  \\\n",
       "0   0.23    Ideal     E     SI2   61.5   55.0    326  3.95  3.98  2.43   \n",
       "1   0.21  Premium     E     SI1   59.8   61.0    326  3.89  3.84  2.31   \n",
       "2   0.23     Good     E     VS1   56.9   65.0    327  4.05  4.07  2.31   \n",
       "3   0.29  Premium     I     VS2   62.4   58.0    334  4.20  4.23  2.63   \n",
       "4   0.31     Good     J     SI2   63.3   58.0    335  4.34  4.35  2.75   \n",
       "\n",
       "  Quality-color  \n",
       "0      0.23 - E  \n",
       "1      0.21 - E  \n",
       "2      0.23 - E  \n",
       "3      0.29 - I  \n",
       "4      0.31 - J  "
      ]
     },
     "execution_count": 9,
     "metadata": {},
     "output_type": "execute_result"
    }
   ],
   "source": [
    "\n",
    "df[\"Quality-color\"] = df[\"Carat\"].astype(str)  + \" - \" + df.Color\n",
    "df.head()"
   ]
  },
  {
   "cell_type": "markdown",
   "id": "4068cf5d-a48e-421d-96fc-f397eb490109",
   "metadata": {},
   "source": [
    "5. Write a Pandas program to find the number of rows and columns and data\n",
    "type of each column of diamonds Dataframe."
   ]
  },
  {
   "cell_type": "code",
   "execution_count": 11,
   "id": "f5c56746-f663-4d04-9baf-65f48c00c7c0",
   "metadata": {},
   "outputs": [
    {
     "name": "stdout",
     "output_type": "stream",
     "text": [
      "<class 'pandas.core.frame.DataFrame'>\n",
      "RangeIndex: 53940 entries, 0 to 53939\n",
      "Data columns (total 11 columns):\n",
      " #   Column         Non-Null Count  Dtype  \n",
      "---  ------         --------------  -----  \n",
      " 0   Carat          53940 non-null  float64\n",
      " 1   Cut            53940 non-null  object \n",
      " 2   Color          53940 non-null  object \n",
      " 3   Clarity        53940 non-null  object \n",
      " 4   Depth          53940 non-null  float64\n",
      " 5   table          53940 non-null  float64\n",
      " 6   price          53940 non-null  int64  \n",
      " 7   x              53940 non-null  float64\n",
      " 8   y              53940 non-null  float64\n",
      " 9   z              53940 non-null  float64\n",
      " 10  Quality-color  53940 non-null  object \n",
      "dtypes: float64(6), int64(1), object(4)\n",
      "memory usage: 4.5+ MB\n"
     ]
    }
   ],
   "source": [
    "df.info()"
   ]
  },
  {
   "cell_type": "markdown",
   "id": "5b68dfc2-6257-41a5-9b42-51fb4db08ee3",
   "metadata": {},
   "source": [
    "6. Write a Pandas program to summarize only 'object' columns of the diamonds\n",
    "Dataframe."
   ]
  },
  {
   "cell_type": "code",
   "execution_count": 13,
   "id": "9c0c6c11-f536-4e89-992c-f0fa99e602e3",
   "metadata": {},
   "outputs": [
    {
     "data": {
      "text/html": [
       "<div>\n",
       "<style scoped>\n",
       "    .dataframe tbody tr th:only-of-type {\n",
       "        vertical-align: middle;\n",
       "    }\n",
       "\n",
       "    .dataframe tbody tr th {\n",
       "        vertical-align: top;\n",
       "    }\n",
       "\n",
       "    .dataframe thead th {\n",
       "        text-align: right;\n",
       "    }\n",
       "</style>\n",
       "<table border=\"1\" class=\"dataframe\">\n",
       "  <thead>\n",
       "    <tr style=\"text-align: right;\">\n",
       "      <th></th>\n",
       "      <th>Cut</th>\n",
       "      <th>Color</th>\n",
       "      <th>Clarity</th>\n",
       "      <th>Quality-color</th>\n",
       "    </tr>\n",
       "  </thead>\n",
       "  <tbody>\n",
       "    <tr>\n",
       "      <th>count</th>\n",
       "      <td>53940</td>\n",
       "      <td>53940</td>\n",
       "      <td>53940</td>\n",
       "      <td>53940</td>\n",
       "    </tr>\n",
       "    <tr>\n",
       "      <th>unique</th>\n",
       "      <td>5</td>\n",
       "      <td>7</td>\n",
       "      <td>8</td>\n",
       "      <td>1468</td>\n",
       "    </tr>\n",
       "    <tr>\n",
       "      <th>top</th>\n",
       "      <td>Ideal</td>\n",
       "      <td>G</td>\n",
       "      <td>SI1</td>\n",
       "      <td>0.3 - G</td>\n",
       "    </tr>\n",
       "    <tr>\n",
       "      <th>freq</th>\n",
       "      <td>21551</td>\n",
       "      <td>11292</td>\n",
       "      <td>13065</td>\n",
       "      <td>608</td>\n",
       "    </tr>\n",
       "  </tbody>\n",
       "</table>\n",
       "</div>"
      ],
      "text/plain": [
       "          Cut  Color Clarity Quality-color\n",
       "count   53940  53940   53940         53940\n",
       "unique      5      7       8          1468\n",
       "top     Ideal      G     SI1       0.3 - G\n",
       "freq    21551  11292   13065           608"
      ]
     },
     "execution_count": 13,
     "metadata": {},
     "output_type": "execute_result"
    }
   ],
   "source": [
    "df.select_dtypes(include=['object']).describe()"
   ]
  },
  {
   "cell_type": "markdown",
   "id": "8d23a868-ad59-416a-a1f4-0f1d8ed9413d",
   "metadata": {},
   "source": [
    "7. Write a Pandas program to rename two of the columns of the diamonds\n",
    "Dataframe.\n",
    "\n"
   ]
  },
  {
   "cell_type": "code",
   "execution_count": 25,
   "id": "44410bf3-61ea-4de5-a834-b21d8504f587",
   "metadata": {},
   "outputs": [],
   "source": [
    "# renamed three\n",
    "df = df.rename(columns = {\n",
    "    \"x\" : \"x-len\",\n",
    "    \"y\" : \"y-len\",\n",
    "    \"z\" : \"z-len\"\n",
    "})\n",
    "df.head()\n",
    "df = pd.read_csv(\"diamonds.csv\")"
   ]
  },
  {
   "cell_type": "markdown",
   "id": "fd2c26fe-7178-4277-887d-5b57522e282a",
   "metadata": {},
   "source": [
    "8. Write a Pandas program to rename all the columns of the diamonds\r\n",
    "Dataframe."
   ]
  },
  {
   "cell_type": "code",
   "execution_count": 28,
   "id": "36b3ae96-04b6-4b0c-aa42-127b46cb4e90",
   "metadata": {},
   "outputs": [
    {
     "name": "stdout",
     "output_type": "stream",
     "text": [
      "Index(['a', 'b', 'c', 'd', 'e', 'f', 'g', 'h', 'i', 'j'], dtype='object')\n"
     ]
    }
   ],
   "source": [
    "tmdf = df.copy()\n",
    "tmdf.columns = ['a', 'b', 'c', 'd', 'e', 'f', 'g', 'h', 'i', 'j']\n",
    "print(tmdf.columns)\n",
    "del tmdf\n"
   ]
  },
  {
   "cell_type": "markdown",
   "id": "6b463c85-1ef2-4ec4-88cd-fcea18929445",
   "metadata": {},
   "source": [
    "9. Write a Pandas program to remove the second column of the diamonds\n",
    "Dataframe."
   ]
  },
  {
   "cell_type": "code",
   "execution_count": 31,
   "id": "ca7b5ad1-1e54-46fa-8e09-c84e1b094fa7",
   "metadata": {},
   "outputs": [
    {
     "name": "stdout",
     "output_type": "stream",
     "text": [
      "       carat color clarity  depth  table  price     x     y     z\n",
      "0       0.23     E     SI2   61.5   55.0    326  3.95  3.98  2.43\n",
      "1       0.21     E     SI1   59.8   61.0    326  3.89  3.84  2.31\n",
      "2       0.23     E     VS1   56.9   65.0    327  4.05  4.07  2.31\n",
      "3       0.29     I     VS2   62.4   58.0    334  4.20  4.23  2.63\n",
      "4       0.31     J     SI2   63.3   58.0    335  4.34  4.35  2.75\n",
      "...      ...   ...     ...    ...    ...    ...   ...   ...   ...\n",
      "53935   0.72     D     SI1   60.8   57.0   2757  5.75  5.76  3.50\n",
      "53936   0.72     D     SI1   63.1   55.0   2757  5.69  5.75  3.61\n",
      "53937   0.70     D     SI1   62.8   60.0   2757  5.66  5.68  3.56\n",
      "53938   0.86     H     SI2   61.0   58.0   2757  6.15  6.12  3.74\n",
      "53939   0.75     D     SI2   62.2   55.0   2757  5.83  5.87  3.64\n",
      "\n",
      "[53940 rows x 9 columns]\n"
     ]
    }
   ],
   "source": [
    "tmdf = df.copy()\n",
    "tmdf.drop([tmdf.columns[1]], axis = 1, inplace = True)\n",
    "print(tmdf)\n",
    "del tmdf"
   ]
  },
  {
   "cell_type": "markdown",
   "id": "6ba339a9-5edd-45ce-b9e2-f589a9789a58",
   "metadata": {},
   "source": [
    "10. Write a Pandas program to remove multiple columns at once of the diamonds\r\n",
    "Dataframe."
   ]
  },
  {
   "cell_type": "code",
   "execution_count": 41,
   "id": "fa272f85-2565-4992-ae47-469227d4e650",
   "metadata": {},
   "outputs": [
    {
     "name": "stdout",
     "output_type": "stream",
     "text": [
      "             cut clarity  price     x     y     z\n",
      "0          Ideal     SI2    326  3.95  3.98  2.43\n",
      "1        Premium     SI1    326  3.89  3.84  2.31\n",
      "2           Good     VS1    327  4.05  4.07  2.31\n",
      "3        Premium     VS2    334  4.20  4.23  2.63\n",
      "4           Good     SI2    335  4.34  4.35  2.75\n",
      "...          ...     ...    ...   ...   ...   ...\n",
      "53935      Ideal     SI1   2757  5.75  5.76  3.50\n",
      "53936       Good     SI1   2757  5.69  5.75  3.61\n",
      "53937  Very Good     SI1   2757  5.66  5.68  3.56\n",
      "53938    Premium     SI2   2757  6.15  6.12  3.74\n",
      "53939      Ideal     SI2   2757  5.83  5.87  3.64\n",
      "\n",
      "[53940 rows x 6 columns]\n"
     ]
    }
   ],
   "source": [
    "tmdf = df.copy()\n",
    "tmdf.drop([\"carat\", \"color\", \"depth\", \"table\"], axis = 1, inplace = True)\n",
    "print(tmdf)\n",
    "del tmdf"
   ]
  },
  {
   "cell_type": "markdown",
   "id": "844f81fb-8765-4452-8f01-9cb7de86543a",
   "metadata": {},
   "source": [
    "11. Write a Pandas program to remove multiple rows at once (axis=0 refers to\r\n",
    "rows) from diamonds dataframe."
   ]
  },
  {
   "cell_type": "code",
   "execution_count": 44,
   "id": "f29da9d5-d8a4-4bf0-b1c0-04b27a35ea74",
   "metadata": {},
   "outputs": [
    {
     "name": "stdout",
     "output_type": "stream",
     "text": [
      "   carat      cut color clarity  depth  table  price     x     y     z\n",
      "0   0.23    Ideal     E     SI2   61.5   55.0    326  3.95  3.98  2.43\n",
      "1   0.21  Premium     E     SI1   59.8   61.0    326  3.89  3.84  2.31\n",
      "2   0.23     Good     E     VS1   56.9   65.0    327  4.05  4.07  2.31\n",
      "3   0.29  Premium     I     VS2   62.4   58.0    334  4.20  4.23  2.63\n"
     ]
    }
   ],
   "source": [
    "tmdf = df.copy()\n",
    "# ------------------------------------------------------------\n",
    "tmdf.drop(list(range(4, tmdf.shape[0])), axis = 0, inplace = True)\n",
    "print(tmdf)\n",
    "# ------------------------------------------------------------\n",
    "del tmdf"
   ]
  },
  {
   "cell_type": "markdown",
   "id": "630f4e9c-b4ee-4f0a-8aa9-4f3ad3c173fd",
   "metadata": {},
   "source": [
    "12. Write a Pandas program to sort the 'cut' Series in ascending order (returns a\n",
    "Series) of diamonds Dataframe.\n"
   ]
  },
  {
   "cell_type": "code",
   "execution_count": 52,
   "id": "56c61cdb-44e7-4b4e-bb06-2066cb5b355b",
   "metadata": {},
   "outputs": [
    {
     "name": "stdout",
     "output_type": "stream",
     "text": [
      "3850          Fair\n",
      "51464         Fair\n",
      "51466         Fair\n",
      "10237         Fair\n",
      "10760         Fair\n",
      "           ...    \n",
      "7402     Very Good\n",
      "43101    Very Good\n",
      "16893    Very Good\n",
      "16898    Very Good\n",
      "21164    Very Good\n",
      "Name: cut, Length: 53940, dtype: object\n"
     ]
    }
   ],
   "source": [
    "tmdf = df.copy()\n",
    "# ------------------------------------------------------------\n",
    "ser = tmdf['cut'].copy()\n",
    "ser.sort_values(ascending = True, inplace = True)\n",
    "print(ser)\n",
    "del ser\n",
    "# ------------------------------------------------------------\n",
    "del tmdf"
   ]
  },
  {
   "cell_type": "markdown",
   "id": "46c2bd02-1a81-4a92-817f-842845ae600a",
   "metadata": {},
   "source": [
    "13. Write a Pandas program to sort the 'price' Series in descending order (returns\n",
    "a Series) of diamonds Dataframe."
   ]
  },
  {
   "cell_type": "code",
   "execution_count": 58,
   "id": "70dc1861-7eb5-4b63-b4e6-2e8fd3646b6b",
   "metadata": {},
   "outputs": [
    {
     "name": "stdout",
     "output_type": "stream",
     "text": [
      "8748     Very Good\n",
      "23064    Very Good\n",
      "23058    Very Good\n",
      "31236    Very Good\n",
      "19154    Very Good\n",
      "           ...    \n",
      "5595          Fair\n",
      "5594          Fair\n",
      "5585          Fair\n",
      "5576          Fair\n",
      "21921         Fair\n",
      "Name: cut, Length: 53940, dtype: object\n"
     ]
    }
   ],
   "source": [
    "tmdf = df.copy()\n",
    "# ------------------------------------------------------------\n",
    "ser = tmdf['cut'].copy()\n",
    "ser.sort_values(ascending = False, inplace = True)\n",
    "print(ser)\n",
    "del ser\n",
    "# ------------------------------------------------------------\n",
    "del tmdf"
   ]
  },
  {
   "cell_type": "markdown",
   "id": "1c403c2b-cee6-4028-8f2e-7cda7e73f880",
   "metadata": {},
   "source": [
    "14. Write a Pandas program to sort the entire diamonds DataFrame by the 'carat'\r\n",
    "Series in ascending and descending order."
   ]
  },
  {
   "cell_type": "code",
   "execution_count": 64,
   "id": "d807b4fd-d590-4603-aab6-e83fa845b1b0",
   "metadata": {},
   "outputs": [
    {
     "name": "stdout",
     "output_type": "stream",
     "text": [
      "31593    0.20\n",
      "31597    0.20\n",
      "31596    0.20\n",
      "31595    0.20\n",
      "31594    0.20\n",
      "         ... \n",
      "25999    4.01\n",
      "25998    4.01\n",
      "27130    4.13\n",
      "27630    4.50\n",
      "27415    5.01\n",
      "Name: carat, Length: 53940, dtype: float64\n",
      "\n",
      "\n",
      "27415    5.01\n",
      "27630    4.50\n",
      "27130    4.13\n",
      "25998    4.01\n",
      "25999    4.01\n",
      "         ... \n",
      "31601    0.20\n",
      "31598    0.20\n",
      "14       0.20\n",
      "31599    0.20\n",
      "31593    0.20\n",
      "Name: carat, Length: 53940, dtype: float64\n"
     ]
    }
   ],
   "source": [
    "tmdf = df.copy()\n",
    "# ------------------------------------------------------------\n",
    "ser = tmdf['carat'].copy()\n",
    "ser.sort_values(ascending = True, inplace = True)\n",
    "print(ser)\n",
    "print(\"\\n\")\n",
    "ser.sort_values(ascending = False, inplace = True)\n",
    "print(ser)\n",
    "del ser\n",
    "# ------------------------------------------------------------\n",
    "del tmdf"
   ]
  },
  {
   "cell_type": "markdown",
   "id": "ede927a9-5727-4909-96db-612f59a7cd23",
   "metadata": {},
   "source": [
    "15. Write a Pandas program to filter the DataFrame rows to only show carat\r\n",
    "weight at least 0.3"
   ]
  },
  {
   "cell_type": "code",
   "execution_count": 69,
   "id": "da46f0fd-f824-4cf5-b5d4-76a8e90da54a",
   "metadata": {},
   "outputs": [
    {
     "name": "stdout",
     "output_type": "stream",
     "text": [
      "       carat        cut color clarity  depth  table  price     x     y     z\n",
      "4       0.31       Good     J     SI2   63.3   58.0    335  4.34  4.35  2.75\n",
      "10      0.30       Good     J     SI1   64.0   55.0    339  4.25  4.28  2.73\n",
      "13      0.31      Ideal     J     SI2   62.2   54.0    344  4.35  4.37  2.71\n",
      "15      0.32    Premium     E      I1   60.9   58.0    345  4.38  4.42  2.68\n",
      "16      0.30      Ideal     I     SI2   62.0   54.0    348  4.31  4.34  2.68\n",
      "...      ...        ...   ...     ...    ...    ...    ...   ...   ...   ...\n",
      "53935   0.72      Ideal     D     SI1   60.8   57.0   2757  5.75  5.76  3.50\n",
      "53936   0.72       Good     D     SI1   63.1   55.0   2757  5.69  5.75  3.61\n",
      "53937   0.70  Very Good     D     SI1   62.8   60.0   2757  5.66  5.68  3.56\n",
      "53938   0.86    Premium     H     SI2   61.0   58.0   2757  6.15  6.12  3.74\n",
      "53939   0.75      Ideal     D     SI2   62.2   55.0   2757  5.83  5.87  3.64\n",
      "\n",
      "[52341 rows x 10 columns]\n"
     ]
    }
   ],
   "source": [
    "tmdf = df.copy()\n",
    "# ------------------------------------------------------------\n",
    "condition = tmdf.carat >= 0.3\n",
    "new_df = tmdf[condition]\n",
    "print(new_df)\n",
    "# ------------------------------------------------------------\n",
    "del tmdf"
   ]
  },
  {
   "cell_type": "markdown",
   "id": "8741b189-9435-421c-86f2-4fd16f1459a3",
   "metadata": {},
   "source": [
    "16. Write a Pandas program to convert a python list to pandas series."
   ]
  },
  {
   "cell_type": "code",
   "execution_count": 72,
   "id": "5d85cf88-9d96-4331-90ce-96a14b990936",
   "metadata": {},
   "outputs": [
    {
     "name": "stdout",
     "output_type": "stream",
     "text": [
      "0    1\n",
      "1    2\n",
      "2    3\n",
      "3    4\n",
      "4    5\n",
      "dtype: int64 <class 'pandas.core.series.Series'>\n"
     ]
    }
   ],
   "source": [
    "li = [1, 2, 3, 4, 5]\n",
    "ser = pd.Series(li)\n",
    "print(ser, type(ser))"
   ]
  },
  {
   "cell_type": "markdown",
   "id": "379a2779-a911-483e-999e-120b3dd14ff1",
   "metadata": {},
   "source": [
    "17. Write a Pandas program to find the details of the diamonds where length>5,\r\n",
    "width>5 and depth>5."
   ]
  },
  {
   "cell_type": "code",
   "execution_count": 77,
   "id": "51310795-63fb-43c5-868c-42954ed4f886",
   "metadata": {},
   "outputs": [
    {
     "name": "stdout",
     "output_type": "stream",
     "text": [
      "       carat        cut color clarity  depth  table  price     x      y      z\n",
      "11778   1.83       Fair     J      I1   70.0   58.0   5083  7.34   7.28   5.12\n",
      "13002   2.14       Fair     J      I1   69.4   57.0   5405  7.74   7.70   5.36\n",
      "13118   2.15       Fair     J      I1   65.5   57.0   5430  8.01   7.95   5.23\n",
      "13562   1.96       Fair     F      I1   66.6   60.0   5554  7.59   7.56   5.04\n",
      "13757   2.22       Fair     J      I1   66.7   56.0   5607  8.04   8.02   5.36\n",
      "...      ...        ...   ...     ...    ...    ...    ...   ...    ...    ...\n",
      "27748   2.00  Very Good     G     SI1   63.5   56.0  18818  7.90   7.97   5.04\n",
      "27749   2.29    Premium     I     VS2   60.8   60.0  18823  8.50   8.47   5.16\n",
      "48410   0.51  Very Good     E     VS1   61.8   54.7   1970  5.12   5.15  31.80\n",
      "49189   0.51      Ideal     E     VS1   61.8   55.0   2075  5.15  31.80   5.12\n",
      "49905   0.50  Very Good     G    VVS1   63.7   58.0   2180  5.01   5.04   5.06\n",
      "\n",
      "[1457 rows x 10 columns]\n"
     ]
    }
   ],
   "source": [
    "tmdf = df.copy()\n",
    "# ------------------------------------------------------------\n",
    "condition = (tmdf.x > 5) & (tmdf.y > 5) & (tmdf.z > 5)\n",
    "new_df = tmdf[condition]\n",
    "print(new_df)\n",
    "# ------------------------------------------------------------\n",
    "del tmdf"
   ]
  },
  {
   "cell_type": "markdown",
   "id": "893e8d35-bc16-4fc2-8e80-96093833a7b4",
   "metadata": {},
   "source": [
    "18. Write a Pandas program to find the diamonds that are either Premium or\r\n",
    "Ideal."
   ]
  },
  {
   "cell_type": "code",
   "execution_count": 86,
   "id": "99781d03-8147-4e4e-a3e4-ed7ece99de7a",
   "metadata": {},
   "outputs": [
    {
     "name": "stdout",
     "output_type": "stream",
     "text": [
      "       carat      cut color clarity  depth  table  price     x     y     z\n",
      "0       0.23    Ideal     E     SI2   61.5   55.0    326  3.95  3.98  2.43\n",
      "1       0.21  Premium     E     SI1   59.8   61.0    326  3.89  3.84  2.31\n",
      "3       0.29  Premium     I     VS2   62.4   58.0    334  4.20  4.23  2.63\n",
      "11      0.23    Ideal     J     VS1   62.8   56.0    340  3.93  3.90  2.46\n",
      "12      0.22  Premium     F     SI1   60.4   61.0    342  3.88  3.84  2.33\n",
      "...      ...      ...   ...     ...    ...    ...    ...   ...   ...   ...\n",
      "53931   0.71  Premium     F     SI1   59.8   62.0   2756  5.74  5.73  3.43\n",
      "53934   0.72  Premium     D     SI1   62.7   59.0   2757  5.69  5.73  3.58\n",
      "53935   0.72    Ideal     D     SI1   60.8   57.0   2757  5.75  5.76  3.50\n",
      "53938   0.86  Premium     H     SI2   61.0   58.0   2757  6.15  6.12  3.74\n",
      "53939   0.75    Ideal     D     SI2   62.2   55.0   2757  5.83  5.87  3.64\n",
      "\n",
      "[35342 rows x 10 columns]\n"
     ]
    }
   ],
   "source": [
    "tmdf = df.copy()\n",
    "# ------------------------------------------------------------\n",
    "condition = (tmdf['cut'] == \"Ideal\") | (tmdf['cut'] == \"Premium\")\n",
    "new_df = tmdf[condition]\n",
    "print(new_df)\n",
    "# ------------------------------------------------------------\n",
    "del tmdf"
   ]
  },
  {
   "cell_type": "markdown",
   "id": "95de9220-3538-4f01-bd99-f0e76b1e2c6e",
   "metadata": {},
   "source": [
    "19. Write a Pandas program to find the diamonds that are with a Fair or Good or\r\n",
    "Premium."
   ]
  },
  {
   "cell_type": "code",
   "execution_count": 91,
   "id": "fcebaca7-d96d-4040-9751-1143225bd0d6",
   "metadata": {},
   "outputs": [
    {
     "name": "stdout",
     "output_type": "stream",
     "text": [
      "       carat      cut color clarity  depth  table  price     x     y     z\n",
      "1       0.21  Premium     E     SI1   59.8   61.0    326  3.89  3.84  2.31\n",
      "2       0.23     Good     E     VS1   56.9   65.0    327  4.05  4.07  2.31\n",
      "3       0.29  Premium     I     VS2   62.4   58.0    334  4.20  4.23  2.63\n",
      "4       0.31     Good     J     SI2   63.3   58.0    335  4.34  4.35  2.75\n",
      "8       0.22     Fair     E     VS2   65.1   61.0    337  3.87  3.78  2.49\n",
      "...      ...      ...   ...     ...    ...    ...    ...   ...   ...   ...\n",
      "53930   0.71  Premium     E     SI1   60.5   55.0   2756  5.79  5.74  3.49\n",
      "53931   0.71  Premium     F     SI1   59.8   62.0   2756  5.74  5.73  3.43\n",
      "53934   0.72  Premium     D     SI1   62.7   59.0   2757  5.69  5.73  3.58\n",
      "53936   0.72     Good     D     SI1   63.1   55.0   2757  5.69  5.75  3.61\n",
      "53938   0.86  Premium     H     SI2   61.0   58.0   2757  6.15  6.12  3.74\n",
      "\n",
      "[20307 rows x 10 columns]\n"
     ]
    }
   ],
   "source": [
    "tmdf = df.copy()\n",
    "# ------------------------------------------------------------\n",
    "condition = tmdf['cut'].isin(['Fair', 'Good', 'Premium'])\n",
    "new_df = tmdf[condition]\n",
    "print(new_df)\n",
    "# ------------------------------------------------------------\n",
    "del tmdf"
   ]
  },
  {
   "cell_type": "markdown",
   "id": "1f985590-66ba-49fd-8265-9365dc9f1fb7",
   "metadata": {},
   "source": [
    "20. Write a Pandas program to display all column labels of diamonds DataFrame."
   ]
  },
  {
   "cell_type": "code",
   "execution_count": 94,
   "id": "17d7f39a-cf6d-44cd-89fe-b303a5040226",
   "metadata": {},
   "outputs": [
    {
     "name": "stdout",
     "output_type": "stream",
     "text": [
      "Index(['carat', 'cut', 'color', 'clarity', 'depth', 'table', 'price', 'x', 'y',\n",
      "       'z'],\n",
      "      dtype='object')\n"
     ]
    }
   ],
   "source": [
    "tmdf = df.copy()\n",
    "# ------------------------------------------------------------\n",
    "print(tmdf.columns)\n",
    "# ------------------------------------------------------------\n",
    "del tmdf"
   ]
  },
  {
   "cell_type": "markdown",
   "id": "9dbe7c89-0cc3-498a-aab2-ec4cbafbb046",
   "metadata": {},
   "source": [
    "21. Write a Pandas program to read only a subset of 3 rows from diamonds\r\n",
    "DataFrame."
   ]
  },
  {
   "cell_type": "code",
   "execution_count": 99,
   "id": "26236bd5-88ee-4c08-ab38-e78df41d71b9",
   "metadata": {},
   "outputs": [
    {
     "name": "stdout",
     "output_type": "stream",
     "text": [
      "       carat    cut color clarity  depth  table  price     x     y     z\n",
      "35141   0.41  Ideal     D     VS2   61.2   57.0    889  4.78  4.82  2.94\n",
      "36866   0.42  Ideal     E     VS2   62.4   55.0    958  4.79  4.83  3.00\n",
      "39903   0.35  Ideal     H      IF   61.7   54.0   1103  4.55  4.53  2.80\n"
     ]
    }
   ],
   "source": [
    "tmdf = df.copy()\n",
    "# ------------------------------------------------------------\n",
    "subset = tmdf.sample(3)\n",
    "print(subset)\n",
    "# ------------------------------------------------------------\n",
    "del tmdf"
   ]
  },
  {
   "cell_type": "markdown",
   "id": "c8646864-2b99-4f25-9932-24b85ea4e418",
   "metadata": {},
   "source": [
    "22. Write a Pandas program to iterate through diamonds DataFrame.\r"
   ]
  },
  {
   "cell_type": "code",
   "execution_count": 115,
   "id": "b577cecd-f8ae-42c3-b5bc-255ddfba06af",
   "metadata": {},
   "outputs": [
    {
     "name": "stdout",
     "output_type": "stream",
     "text": [
      "0 carat       0.23\n",
      "cut        Ideal\n",
      "color          E\n",
      "clarity      SI2\n",
      "depth       61.5\n",
      "table       55.0\n",
      "price        326\n",
      "x           3.95\n",
      "y           3.98\n",
      "z           2.43\n",
      "Name: 0, dtype: object\n",
      "1 carat         0.21\n",
      "cut        Premium\n",
      "color            E\n",
      "clarity        SI1\n",
      "depth         59.8\n",
      "table         61.0\n",
      "price          326\n",
      "x             3.89\n",
      "y             3.84\n",
      "z             2.31\n",
      "Name: 1, dtype: object\n",
      "2 carat      0.23\n",
      "cut        Good\n",
      "color         E\n",
      "clarity     VS1\n",
      "depth      56.9\n",
      "table      65.0\n",
      "price       327\n",
      "x          4.05\n",
      "y          4.07\n",
      "z          2.31\n",
      "Name: 2, dtype: object\n",
      "3 carat         0.29\n",
      "cut        Premium\n",
      "color            I\n",
      "clarity        VS2\n",
      "depth         62.4\n",
      "table         58.0\n",
      "price          334\n",
      "x              4.2\n",
      "y             4.23\n",
      "z             2.63\n",
      "Name: 3, dtype: object\n",
      "4 carat      0.31\n",
      "cut        Good\n",
      "color         J\n",
      "clarity     SI2\n",
      "depth      63.3\n",
      "table      58.0\n",
      "price       335\n",
      "x          4.34\n",
      "y          4.35\n",
      "z          2.75\n",
      "Name: 4, dtype: object\n",
      "5 carat           0.24\n",
      "cut        Very Good\n",
      "color              J\n",
      "clarity         VVS2\n",
      "depth           62.8\n",
      "table           57.0\n",
      "price            336\n",
      "x               3.94\n",
      "y               3.96\n",
      "z               2.48\n",
      "Name: 5, dtype: object\n",
      "6 carat           0.24\n",
      "cut        Very Good\n",
      "color              I\n",
      "clarity         VVS1\n",
      "depth           62.3\n",
      "table           57.0\n",
      "price            336\n",
      "x               3.95\n",
      "y               3.98\n",
      "z               2.47\n",
      "Name: 6, dtype: object\n",
      "7 carat           0.26\n",
      "cut        Very Good\n",
      "color              H\n",
      "clarity          SI1\n",
      "depth           61.9\n",
      "table           55.0\n",
      "price            337\n",
      "x               4.07\n",
      "y               4.11\n",
      "z               2.53\n",
      "Name: 7, dtype: object\n",
      "8 carat      0.22\n",
      "cut        Fair\n",
      "color         E\n",
      "clarity     VS2\n",
      "depth      65.1\n",
      "table      61.0\n",
      "price       337\n",
      "x          3.87\n",
      "y          3.78\n",
      "z          2.49\n",
      "Name: 8, dtype: object\n",
      "9 carat           0.23\n",
      "cut        Very Good\n",
      "color              H\n",
      "clarity          VS1\n",
      "depth           59.4\n",
      "table           61.0\n",
      "price            338\n",
      "x                4.0\n",
      "y               4.05\n",
      "z               2.39\n",
      "Name: 9, dtype: object\n",
      "10 carat       0.3\n",
      "cut        Good\n",
      "color         J\n",
      "clarity     SI1\n",
      "depth      64.0\n",
      "table      55.0\n",
      "price       339\n",
      "x          4.25\n",
      "y          4.28\n",
      "z          2.73\n",
      "Name: 10, dtype: object\n"
     ]
    }
   ],
   "source": [
    "tmdf = df.copy()\n",
    "# ------------------------------------------------------------\n",
    "for index, seris in tmdf.iloc[:11 , : ].iterrows():\n",
    "    print(index, seris)\n",
    "# ------------------------------------------------------------\n",
    "del tmdf"
   ]
  },
  {
   "cell_type": "markdown",
   "id": "62ad4836-faf0-4d47-a49f-ed6ab87b1f31",
   "metadata": {},
   "source": [
    "23. Write a Pandas program to drop all non-numeric columns from diamonds\r\n",
    "DataFrame"
   ]
  },
  {
   "cell_type": "code",
   "execution_count": null,
   "id": "9eeb217b-a7dc-4646-a3ff-9fc15b3a2d8f",
   "metadata": {},
   "outputs": [],
   "source": [
    "tmdf = df.copy()\n",
    "# ------------------------------------------------------------\n",
    "tmdf = tmdf.drop(df.inf)\n",
    "# ------------------------------------------------------------\n",
    "del tmdf"
   ]
  },
  {
   "cell_type": "code",
   "execution_count": null,
   "id": "47008de9-0c20-4c2d-a266-d6955397937a",
   "metadata": {},
   "outputs": [],
   "source": []
  },
  {
   "cell_type": "code",
   "execution_count": null,
   "id": "4c99592f-7ab9-4450-a416-56d80ee4793d",
   "metadata": {},
   "outputs": [],
   "source": []
  },
  {
   "cell_type": "code",
   "execution_count": null,
   "id": "9b51225e-399b-4712-9af0-3d0c91c08d51",
   "metadata": {},
   "outputs": [],
   "source": []
  },
  {
   "cell_type": "code",
   "execution_count": null,
   "id": "e56e59ba-c447-4149-b8ec-105d7406ec7f",
   "metadata": {},
   "outputs": [],
   "source": []
  }
 ],
 "metadata": {
  "kernelspec": {
   "display_name": "Python 3 (ipykernel)",
   "language": "python",
   "name": "python3"
  },
  "language_info": {
   "codemirror_mode": {
    "name": "ipython",
    "version": 3
   },
   "file_extension": ".py",
   "mimetype": "text/x-python",
   "name": "python",
   "nbconvert_exporter": "python",
   "pygments_lexer": "ipython3",
   "version": "3.12.4"
  }
 },
 "nbformat": 4,
 "nbformat_minor": 5
}
