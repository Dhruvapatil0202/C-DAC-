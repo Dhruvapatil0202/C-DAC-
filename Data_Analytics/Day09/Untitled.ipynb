{
 "cells": [
  {
   "cell_type": "code",
   "execution_count": 1,
   "id": "f8542554-202c-47f9-8d71-e7af471ad68d",
   "metadata": {},
   "outputs": [],
   "source": [
    "from scipy.stats import binom"
   ]
  },
  {
   "cell_type": "code",
   "execution_count": 5,
   "id": "711e8b6b-c13c-4fa3-9e4c-79bc602c927b",
   "metadata": {},
   "outputs": [],
   "source": [
    "# Given values\n",
    "n=5      # Total no. of students\n",
    "k=3         # No. of students who like python\n",
    "p=0.66            # Probability that a student likes python"
   ]
  },
  {
   "cell_type": "code",
   "execution_count": 7,
   "id": "3cbd5286-feac-4b32-b426-b4ddb1534331",
   "metadata": {},
   "outputs": [
    {
     "name": "stdout",
     "output_type": "stream",
     "text": [
      "The probability that exactly 3 out of 5 students like python is: 0.3323\n"
     ]
    }
   ],
   "source": [
    "# Calculate binomial probability\n",
    "probability = binom.pmf(k,n,p)\n",
    "print(f\"The probability that exactly {k} out of {n} students like python is: {probability:.4f}\")"
   ]
  },
  {
   "cell_type": "code",
   "execution_count": 30,
   "id": "520fb15e-960f-41cf-9e88-ab4366337b8c",
   "metadata": {},
   "outputs": [
    {
     "data": {
      "text/plain": [
       "0.33234537599999997"
      ]
     },
     "execution_count": 30,
     "metadata": {},
     "output_type": "execute_result"
    }
   ],
   "source": [
    "10 * (0.66 ** 3) * ((1- 0.66) ** 2)"
   ]
  },
  {
   "cell_type": "code",
   "execution_count": 24,
   "id": "0c061e5b-3f66-4b2f-9e18-74f3b20cbdef",
   "metadata": {},
   "outputs": [
    {
     "name": "stdout",
     "output_type": "stream",
     "text": [
      "The probability that exactly 2 out of 7 students prefer online learning over in person classes is 0.11722149140624989\n"
     ]
    }
   ],
   "source": [
    "# Now: Calcuate the probability that 2 out of 7 students prefer online learning over in person classes when, in general, 55% of students prefer online learning\n",
    "n= 7\n",
    "k = 2\n",
    "p = 0.55\n",
    "probability = binom.pmf(k,n,p)\n",
    "print(f\"The probability that exactly {k} out of {n} students prefer online learning over in person classes is {probability}\")"
   ]
  },
  {
   "cell_type": "code",
   "execution_count": 26,
   "id": "00f1f4a5-e9e4-400c-ab08-0546b620d22e",
   "metadata": {},
   "outputs": [
    {
     "data": {
      "text/plain": [
       "0.11722149140625003"
      ]
     },
     "execution_count": 26,
     "metadata": {},
     "output_type": "execute_result"
    }
   ],
   "source": [
    "21 * (0.55 ** 2) * ( 0.45 ** 5)"
   ]
  },
  {
   "cell_type": "code",
   "execution_count": null,
   "id": "fba6054c-79a0-4642-908b-e053efce4d3c",
   "metadata": {},
   "outputs": [],
   "source": []
  },
  {
   "cell_type": "markdown",
   "id": "db6b89ac-25b9-4a7e-b7a7-542c37a42eb4",
   "metadata": {},
   "source": [
    "# Understanding PMF and CDF"
   ]
  },
  {
   "cell_type": "code",
   "execution_count": 44,
   "id": "283975dd-ef85-407b-b96d-48d627fcd9fa",
   "metadata": {},
   "outputs": [],
   "source": [
    "import pandas as pd\n",
    "import numpy as np\n",
    "import matplotlib.pyplot as plt"
   ]
  },
  {
   "cell_type": "code",
   "execution_count": 46,
   "id": "73e446ee-1c10-45ec-9c0c-0bb6a45ddb73",
   "metadata": {},
   "outputs": [],
   "source": [
    "tips_df = pd.read_csv('tips.csv')"
   ]
  },
  {
   "cell_type": "code",
   "execution_count": 50,
   "id": "3a2a5068-379f-441b-95c2-6460aacf140b",
   "metadata": {},
   "outputs": [
    {
     "name": "stdout",
     "output_type": "stream",
     "text": [
      "Probability for 0 successes = 0.000000 ... Cumulative probability = 0.000000\n",
      "Probability for 1 successes = 0.000000 ... Cumulative probability = 0.000000\n",
      "Probability for 2 successes = 0.000000 ... Cumulative probability = 0.000000\n",
      "Probability for 3 successes = 0.000000 ... Cumulative probability = 0.000000\n",
      "Probability for 4 successes = 0.000000 ... Cumulative probability = 0.000000\n",
      "Probability for 5 successes = 0.000000 ... Cumulative probability = 0.000000\n",
      "Probability for 6 successes = 0.000000 ... Cumulative probability = 0.000000\n",
      "Probability for 7 successes = 0.000000 ... Cumulative probability = 0.000000\n",
      "Probability for 8 successes = 0.000000 ... Cumulative probability = 0.000000\n",
      "Probability for 9 successes = 0.000000 ... Cumulative probability = 0.000000\n",
      "Probability for 10 successes = 0.000000 ... Cumulative probability = 0.000000\n",
      "Probability for 11 successes = 0.000000 ... Cumulative probability = 0.000000\n",
      "Probability for 12 successes = 0.000000 ... Cumulative probability = 0.000000\n",
      "Probability for 13 successes = 0.000000 ... Cumulative probability = 0.000000\n",
      "Probability for 14 successes = 0.000000 ... Cumulative probability = 0.000000\n",
      "Probability for 15 successes = 0.000000 ... Cumulative probability = 0.000000\n",
      "Probability for 16 successes = 0.000000 ... Cumulative probability = 0.000000\n",
      "Probability for 17 successes = 0.000000 ... Cumulative probability = 0.000000\n",
      "Probability for 18 successes = 0.000000 ... Cumulative probability = 0.000000\n",
      "Probability for 19 successes = 0.000000 ... Cumulative probability = 0.000000\n",
      "Probability for 20 successes = 0.000000 ... Cumulative probability = 0.000000\n",
      "Probability for 21 successes = 0.000000 ... Cumulative probability = 0.000000\n",
      "Probability for 22 successes = 0.000000 ... Cumulative probability = 0.000000\n",
      "Probability for 23 successes = 0.000000 ... Cumulative probability = 0.000000\n",
      "Probability for 24 successes = 0.000000 ... Cumulative probability = 0.000000\n",
      "Probability for 25 successes = 0.000000 ... Cumulative probability = 0.000000\n",
      "Probability for 26 successes = 0.000000 ... Cumulative probability = 0.000000\n",
      "Probability for 27 successes = 0.000000 ... Cumulative probability = 0.000000\n",
      "Probability for 28 successes = 0.000000 ... Cumulative probability = 0.000000\n",
      "Probability for 29 successes = 0.000000 ... Cumulative probability = 0.000000\n",
      "Probability for 30 successes = 0.000000 ... Cumulative probability = 0.000000\n",
      "Probability for 31 successes = 0.000001 ... Cumulative probability = 0.000001\n",
      "Probability for 32 successes = 0.000001 ... Cumulative probability = 0.000002\n",
      "Probability for 33 successes = 0.000003 ... Cumulative probability = 0.000006\n",
      "Probability for 34 successes = 0.000008 ... Cumulative probability = 0.000014\n",
      "Probability for 35 successes = 0.000020 ... Cumulative probability = 0.000034\n",
      "Probability for 36 successes = 0.000044 ... Cumulative probability = 0.000078\n",
      "Probability for 37 successes = 0.000094 ... Cumulative probability = 0.000172\n",
      "Probability for 38 successes = 0.000194 ... Cumulative probability = 0.000366\n",
      "Probability for 39 successes = 0.000382 ... Cumulative probability = 0.000748\n",
      "Probability for 40 successes = 0.000721 ... Cumulative probability = 0.001470\n",
      "Probability for 41 successes = 0.001307 ... Cumulative probability = 0.002777\n",
      "Probability for 42 successes = 0.002275 ... Cumulative probability = 0.005052\n",
      "Probability for 43 successes = 0.003800 ... Cumulative probability = 0.008852\n",
      "Probability for 44 successes = 0.006097 ... Cumulative probability = 0.014949\n",
      "Probability for 45 successes = 0.009397 ... Cumulative probability = 0.024346\n",
      "Probability for 46 successes = 0.013916 ... Cumulative probability = 0.038262\n",
      "Probability for 47 successes = 0.019803 ... Cumulative probability = 0.058065\n",
      "Probability for 48 successes = 0.027081 ... Cumulative probability = 0.085146\n",
      "Probability for 49 successes = 0.035594 ... Cumulative probability = 0.120740\n",
      "Probability for 50 successes = 0.044966 ... Cumulative probability = 0.165706\n",
      "Probability for 51 successes = 0.054600 ... Cumulative probability = 0.220306\n",
      "Probability for 52 successes = 0.063722 ... Cumulative probability = 0.284028\n",
      "Probability for 53 successes = 0.071477 ... Cumulative probability = 0.355505\n",
      "Probability for 54 successes = 0.077051 ... Cumulative probability = 0.432555\n",
      "Probability for 55 successes = 0.079814 ... Cumulative probability = 0.512369\n",
      "Probability for 56 successes = 0.079435 ... Cumulative probability = 0.591804\n",
      "Probability for 57 successes = 0.075944 ... Cumulative probability = 0.667748\n",
      "Probability for 58 successes = 0.069734 ... Cumulative probability = 0.737482\n",
      "Probability for 59 successes = 0.061482 ... Cumulative probability = 0.798964\n",
      "Probability for 60 successes = 0.052034 ... Cumulative probability = 0.850998\n",
      "Probability for 61 successes = 0.042260 ... Cumulative probability = 0.893257\n",
      "Probability for 62 successes = 0.032923 ... Cumulative probability = 0.926180\n",
      "Probability for 63 successes = 0.024595 ... Cumulative probability = 0.950776\n",
      "Probability for 64 successes = 0.017611 ... Cumulative probability = 0.968387\n",
      "Probability for 65 successes = 0.012080 ... Cumulative probability = 0.980467\n",
      "Probability for 66 successes = 0.007934 ... Cumulative probability = 0.988402\n",
      "Probability for 67 successes = 0.004987 ... Cumulative probability = 0.993388\n",
      "Probability for 68 successes = 0.002997 ... Cumulative probability = 0.996386\n",
      "Probability for 69 successes = 0.001722 ... Cumulative probability = 0.998107\n",
      "Probability for 70 successes = 0.000944 ... Cumulative probability = 0.999052\n",
      "Probability for 71 successes = 0.000494 ... Cumulative probability = 0.999546\n",
      "Probability for 72 successes = 0.000247 ... Cumulative probability = 0.999792\n",
      "Probability for 73 successes = 0.000117 ... Cumulative probability = 0.999910\n",
      "Probability for 74 successes = 0.000053 ... Cumulative probability = 0.999962\n",
      "Probability for 75 successes = 0.000023 ... Cumulative probability = 0.999985\n",
      "Probability for 76 successes = 0.000009 ... Cumulative probability = 0.999994\n",
      "Probability for 77 successes = 0.000004 ... Cumulative probability = 0.999998\n",
      "Probability for 78 successes = 0.000001 ... Cumulative probability = 0.999999\n",
      "Probability for 79 successes = 0.000000 ... Cumulative probability = 1.000000\n",
      "Probability for 80 successes = 0.000000 ... Cumulative probability = 1.000000\n",
      "Probability for 81 successes = 0.000000 ... Cumulative probability = 1.000000\n",
      "Probability for 82 successes = 0.000000 ... Cumulative probability = 1.000000\n",
      "Probability for 83 successes = 0.000000 ... Cumulative probability = 1.000000\n",
      "Probability for 84 successes = 0.000000 ... Cumulative probability = 1.000000\n",
      "Probability for 85 successes = 0.000000 ... Cumulative probability = 1.000000\n",
      "Probability for 86 successes = 0.000000 ... Cumulative probability = 1.000000\n",
      "Probability for 87 successes = 0.000000 ... Cumulative probability = 1.000000\n",
      "Probability for 88 successes = 0.000000 ... Cumulative probability = 1.000000\n",
      "Probability for 89 successes = 0.000000 ... Cumulative probability = 1.000000\n",
      "Probability for 90 successes = 0.000000 ... Cumulative probability = 1.000000\n",
      "Probability for 91 successes = 0.000000 ... Cumulative probability = 1.000000\n",
      "Probability for 92 successes = 0.000000 ... Cumulative probability = 1.000000\n",
      "Probability for 93 successes = 0.000000 ... Cumulative probability = 1.000000\n",
      "Probability for 94 successes = 0.000000 ... Cumulative probability = 1.000000\n",
      "Probability for 95 successes = 0.000000 ... Cumulative probability = 1.000000\n",
      "Probability for 96 successes = 0.000000 ... Cumulative probability = 1.000000\n",
      "Probability for 97 successes = 0.000000 ... Cumulative probability = 1.000000\n",
      "Probability for 98 successes = 0.000000 ... Cumulative probability = 1.000000\n",
      "Probability for 99 successes = 0.000000 ... Cumulative probability = 1.000000\n",
      "Probability for 100 successes = 0.000000 ... Cumulative probability = 1.000000\n"
     ]
    }
   ],
   "source": [
    "# Binary outcome: Success if (tip/ total_bill) > 0.15, otherwise failure\n",
    "def classify_tip(row):\n",
    "    total_bill = row['total_bill']\n",
    "    tip = row['tip']\n",
    "    if(tip / total_bill) > 0.15:\n",
    "        return 1 # Success\n",
    "    else:\n",
    "        return 0 # Failure\n",
    "\n",
    "# Apply the function to create the binary column\n",
    "tips_df['tip_binary'] = tips_df.apply(classify_tip, axis=1)\n",
    "\n",
    "# Total no. of trials (total observations)\n",
    "n = len(tips_df)\n",
    "\n",
    "# No. of successes (tips where tip/ total_bill > 0.15)\n",
    "k = tips_df['tip_binary'].sum()\n",
    "\n",
    "# Probability of success (p)\n",
    "p = k/n\n",
    "\n",
    "#Define no. of trials for the binomial distribution\n",
    "trials = 100\n",
    "\n",
    "# Generate x values (number of successes from 0 to 100)\n",
    "x = np.arange(0, trials + 1)\n",
    "\n",
    "# Calculate the PMF for each no. of successes\n",
    "pmf_values = binom.pmf(x, trials, p)\n",
    "cumulative_probability = 0\n",
    "\n",
    "for i in x:\n",
    "    cumulative_probability = binom.cdf(i, trials, p)\n",
    "    print(f\"Probability for {i} successes = {pmf_values[i]:.6f} ... Cumulative probability = {cumulative_probability:.6f}\")"
   ]
  },
  {
   "cell_type": "code",
   "execution_count": null,
   "id": "0ac24507-be56-4a98-8bcb-36aa19053a74",
   "metadata": {},
   "outputs": [],
   "source": []
  }
 ],
 "metadata": {
  "kernelspec": {
   "display_name": "Python 3 (ipykernel)",
   "language": "python",
   "name": "python3"
  },
  "language_info": {
   "codemirror_mode": {
    "name": "ipython",
    "version": 3
   },
   "file_extension": ".py",
   "mimetype": "text/x-python",
   "name": "python",
   "nbconvert_exporter": "python",
   "pygments_lexer": "ipython3",
   "version": "3.12.4"
  }
 },
 "nbformat": 4,
 "nbformat_minor": 5
}
